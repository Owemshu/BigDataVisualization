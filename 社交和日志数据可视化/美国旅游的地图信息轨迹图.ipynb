{
 "cells": [
  {
   "cell_type": "code",
   "execution_count": 1,
   "metadata": {
    "collapsed": true
   },
   "outputs": [],
   "source": [
    "import folium\n",
    "import folium.plugins as plugins\n",
    "from folium import LayerControl\n",
    "from folium.features import DivIcon"
   ]
  },
  {
   "cell_type": "code",
   "execution_count": 2,
   "outputs": [],
   "source": [
    "loc = 'Traffics polyline-Continental USA Tour traversal Map in a non-overlapping manner'\n",
    "title_html = '''\n",
    "             <h2 align=\"center\" style=\"font-size:18px\"><b>{}</b></h2>\n",
    "             '''.format(loc)\n",
    "# Let us define a map with the US in the center and a reasonable Zool level with an Open StreetMap\n",
    "ContinentalUSTourMap = folium.Map(location=[40.0, -100], zoom_start=4, tiles=\"OpenStreetMap\")\n",
    "\n",
    "# Let us define Locations of the states to traverse in sequence.\n",
    "# These states are as per US Map. We can also use an algorithm on Latitude & Longitude for this as well\n",
    "\n",
    "Locations = ['WA', 'OR', 'CA', 'NV', 'AZ', 'UT', 'ID', 'MT', 'WY', 'CO',\n",
    "             'NM', 'TX', 'OK', 'KS', 'NE', 'SD', 'ND', 'MN', 'IA', 'MO',\n",
    "             'AR', 'LA', 'MS', 'AL', 'TN', 'IL', 'WI', 'MI', 'IN', 'KY', 'OH',\n",
    "             'WV', 'PA', 'NY', 'VT', 'ME', 'NH', 'MA', 'RI', 'CT', 'NJ', 'DE',\n",
    "             'DC', 'MD', 'VA', 'NC', 'SC', 'GA', 'FL']\n",
    "\n",
    "#Let us define the corresponding Latitudes and Longitudes for the capital cities of these states\n",
    "coords = [\n",
    "    [47.042418, -122.893077], [44.931109, -123.029159],\n",
    "    [38.555605, -121.468926], [39.160949, -119.753877],\n",
    "    [33.448457, -112.073844], [40.7547, -111.892622],\n",
    "    [43.613739, -116.237651], [46.595805, -112.027031],\n",
    "    [41.145548, -104.802042], [39.7391667, -104.984167],\n",
    "    [35.667231, -105.964575], [30.266667, -97.75],\n",
    "    [35.482309, -97.534994], [39.04, -95.69],\n",
    "    [40.809868, -96.675345], [44.367966, -100.336378],\n",
    "    [46.8083, -100.7837], [44.95, -93.094],\n",
    "    [41.590939, -93.620866], [38.572954, -92.189283],\n",
    "    [34.736009, -92.331122], [30.4515, -91.1871],\n",
    "    [32.320, -90.207], [32.361538, -86.279118],\n",
    "    [36.165, -86.784], [39.783250, -89.650373],\n",
    "    [43.074722, -89.384444], [42.7335, -84.5467],\n",
    "    [39.790942, -86.147685], [38.197274, -84.86311],\n",
    "    [39.962245, -83.000647], [38.349497, -81.633294],\n",
    "    [40.269789, -76.875613], [42.659829, -73.781339],\n",
    "    [44.26639, -72.57194], [44.323535, -69.765261],\n",
    "    [43.220093, -71.549127], [42.2352, -71.0275],\n",
    "    [41.8240, -71.4128], [41.767, -72.677],\n",
    "    [40.221741, -74.756138], [39.161921, -75.526755],\n",
    "    [38.972945, -76.501157], [38.913, -77.013],\n",
    "    [37.54, -77.46], [35.771, -78.638],\n",
    "    [34.000, -81.035], [33.76, -84.39],\n",
    "    [30.4518, -84.27277]]\n",
    "\n",
    "Capitals = ['Olympia', 'Salem', 'Sacramento', 'Carson City', 'Phoenix', 'Salt Lake City', 'Boise', 'Helena',\n",
    "            'Cheyenne', 'Denver', 'Santa Fe', 'Austin', 'Oklahoma City', 'Topeka', 'Lincoln', 'Pierre',\n",
    "            'Bismarck', 'Saint Paul', 'Des Moines', 'Jefferson City', 'Little Rock', 'Baton Rouge', 'Jackson',\n",
    "            'Montgomery',\n",
    "            'Nashville', 'Springfield', 'Madison', 'Lansing', 'Indianapolis', 'Frankfort', 'Columbus', 'Charleston',\n",
    "            'Harrisburg', 'Albany', 'Montpelier', 'Augusta', 'Concord', 'Boston', 'Providence', 'Hartford',\n",
    "            'Trenton', 'Dover', 'Washington D.C', 'Annapolis', 'Richmond', 'Raleigh', 'Columbia', 'Atlanta',\n",
    "            'Tallahassee']\n",
    "\n",
    "Population = [46478, 174365, 513624, 55916, 1680992, 200567, 228959, 32315, 64235, 727211,\n",
    "              84683, 978908, 655057, 125310, 289102, 13646, 73529, 308096, 214237, 42838,\n",
    "              197312, 220236, 160628, 198525, 670820, 114230, 259680, 118210, 876384, 27679,\n",
    "              898553, 46536, 49528, 96460, 7855, 18681, 43627, 692600, 179883, 122105, 83203,\n",
    "              38079, 39174, 230436, 474069, 131674, 506811, 194500, 32113, 345064]\n",
    "\n",
    "tiles = ['stamenwatercolor', 'cartodbpositron', 'openstreetmap', 'stamenterrain', 'stamentoner']\n",
    "for tile in tiles:\n",
    "    folium.TileLayer(tile).add_to(ContinentalUSTourMap)"
   ],
   "metadata": {
    "collapsed": false
   }
  },
  {
   "cell_type": "code",
   "execution_count": 3,
   "outputs": [],
   "source": [
    "# feature_group = FeatureGroup(name='Some icons')\n",
    "folium.LayerControl().add_to(ContinentalUSTourMap)\n",
    "# Let us iterate and add the markers for the capital cities of each state we are traversing\n",
    "iterlength = len(coords)\n",
    "iteratorno = 0\n",
    "iconc = folium.Icon(color=\"red\", icon=\"fa-car\", prefix='car', icon_size=(20, 20))\n",
    "while iteratorno < iterlength:\n",
    "    my_string = ' 2019 Population  : :<b> {} </b> <br>'.format(Population[iteratorno])\n",
    "    my_string = my_string + ' State  : :<b> {} </b> <br>'.format(Locations[iteratorno])\n",
    "    tootip_str = \" Capital City <b>\" + Capitals[iteratorno] + \"</b><br>\" + my_string\n",
    "    ContinentalUSTourMap.add_child(\n",
    "        folium.Marker(\n",
    "            location=[coords[iteratorno][0], coords[iteratorno][1]],\n",
    "            popup=my_string,\n",
    "            icon=DivIcon(icon_size=(50, 50),\n",
    "                         html='<div style=\"font-size: 6pt; color : blue\">' + str(iteratorno + 1) + '</div>', ),\n",
    "            tooltip=tootip_str,\n",
    "            radius=10 + Population[iteratorno] / 100000,\n",
    "            color='black',\n",
    "            fill=True,\n",
    "            fill_color='yellow',\n",
    "            fill_opacity=0.2,\n",
    "        )\n",
    "    )\n",
    "    ContinentalUSTourMap.add_child(\n",
    "        folium.CircleMarker(\n",
    "            location=[coords[iteratorno][0], coords[iteratorno][1]],\n",
    "            radius=10 + Population[iteratorno] / 100000,\n",
    "            color='black',\n",
    "            fill=True,\n",
    "            fill_color='yellow',\n",
    "            fill_opacity=0.2,\n",
    "        )\n",
    "    )\n",
    "    iteratorno = iteratorno + 1"
   ],
   "metadata": {
    "collapsed": false
   }
  },
  {
   "cell_type": "code",
   "execution_count": 4,
   "outputs": [],
   "source": [
    "#feature_group.add_to(ContinentalUSTourMap)\n",
    "LayerControl().add_to(ContinentalUSTourMap)\n",
    "plugins.PolyLineOffset(\n",
    "    coords, weight=2, dash_array=\"5,10\", color=\"red\", opacity=1\n",
    ").add_to(ContinentalUSTourMap)\n",
    "plugins.PolyLineOffset(coords, color=\"#00f\", opacity=1, offset=-3).add_to(ContinentalUSTourMap)\n",
    "plugins.PolyLineOffset(coords, color=\"#080\", opacity=1, offset=3).add_to(ContinentalUSTourMap)\n",
    "ContinentalUSTourMap.get_root().html.add_child(folium.Element(title_html))\n",
    "ContinentalUSTourMap.save(\"Traffics polyline_Us tour map.html\")\n",
    "#ContinentalUSTourMap"
   ],
   "metadata": {
    "collapsed": false
   }
  },
  {
   "cell_type": "code",
   "execution_count": 5,
   "outputs": [],
   "source": [
    "search_text = \"cdn.jsdelivr.net\"\n",
    "replace_text = \"gcore.jsdelivr.net\"\n",
    "replace_text = \"fastly.jsdelivr.net\"\n",
    "# 如果还是不行就把上面的注释取消掉\n",
    "# 使用 open() 函数以只读模式打开我们的文本文件\n",
    "with open(r'Traffics polyline_Us tour map.html', 'r', encoding='UTF-8') as file:\n",
    "    # 使用 read() 函数读取文件内容并将它们存储在一个新变量中\n",
    "    data = file.read()\n",
    "    # 使用 replace() 函数搜索和替换文本\n",
    "    data = data.replace(search_text, replace_text)\n",
    "# 以只写模式打开我们的文本文件以写入替换的内容\n",
    "with open(r'Traffics polyline_Us tour map.html', 'w', encoding='UTF-8') as file:\n",
    "    # 在我们的文本文件中写入替换的数据\n",
    "    file.write(data)"
   ],
   "metadata": {
    "collapsed": false
   }
  },
  {
   "cell_type": "code",
   "execution_count": null,
   "outputs": [],
   "source": [],
   "metadata": {
    "collapsed": false
   }
  }
 ],
 "metadata": {
  "kernelspec": {
   "display_name": "Python 3",
   "language": "python",
   "name": "python3"
  },
  "language_info": {
   "codemirror_mode": {
    "name": "ipython",
    "version": 2
   },
   "file_extension": ".py",
   "mimetype": "text/x-python",
   "name": "python",
   "nbconvert_exporter": "python",
   "pygments_lexer": "ipython2",
   "version": "2.7.6"
  }
 },
 "nbformat": 4,
 "nbformat_minor": 0
}
