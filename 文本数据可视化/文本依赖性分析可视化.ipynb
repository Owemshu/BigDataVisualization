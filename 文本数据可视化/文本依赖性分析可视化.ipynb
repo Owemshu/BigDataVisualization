{
 "cells": [
  {
   "cell_type": "code",
   "execution_count": 10,
   "metadata": {
    "collapsed": true
   },
   "outputs": [],
   "source": [
    "from pathlib import Path\n",
    "\n",
    "#Import the necessary packages\n",
    "import spacy\n",
    "from spacy import displacy\n",
    "\n",
    "#Load the spaCy engine:\n",
    "nlp = spacy.load('en_core_web_sm')"
   ]
  },
  {
   "cell_type": "code",
   "execution_count": 11,
   "outputs": [],
   "source": [
    "#Define the visualize function, which will create the dependency parse visualization\n",
    "\n",
    "def visualize(doc, is_list=False):\n",
    "    options = {\"add_lemma\": True,\n",
    "               \"compact\": True,\n",
    "               \"color\": \"green\",\n",
    "               \"collapse_punct\": True,\n",
    "               \"arrow_spacing\": 20,\n",
    "               \"bg\": \"#FFFFE6\",\n",
    "               \"font\": \"Times\",\n",
    "               \"distance\": 120,\n",
    "               }\n",
    "    if (is_list):\n",
    "        displacy.serve(list(doc.sents), style='dep',\n",
    "                       options=options)\n",
    "    else:\n",
    "        displacy.serve(doc, style='dep', options=options)\n",
    "\n",
    "\n",
    "#Define a short text for processing:\n",
    "short_text = \"The great diversity of life today evolved from less-diverse ancestral organisms over billions of  years.\"\n",
    "long_text = '''Visualization of complex network is one of the most important and\n",
    "difficult issues in complexity science. Most current visualization algorithms are\n",
    "based on drawing aesthetically and it’s difficult for them to find the structure\n",
    "information of complex network. To solve this problem, the Fruchterman-Reingold\n",
    "(FR) algorithm based on the force-directed layout is studied in this paper,\n",
    "which is most suitable for the visualization of complex network. '''\n",
    "#Create a Doc object and process it using the visualize function:\n",
    "\n",
    "doc = nlp(short_text)\n",
    "\n",
    "\n",
    "#visualize(doc)\n",
    "\n",
    "#Using the 'dep' visualizer\n",
    "#serving the http://localhost:5000\n",
    "\n",
    "def save_dependency_parse(doc, path):\n",
    "    output_path = Path(path)  # type: ignore\n",
    "    svg = displacy.render(doc, style=\"dep\",\n",
    "                          jupyter=False)\n",
    "    output_path.open(\"w\", encoding=\"utf-8\").write(svg)"
   ],
   "metadata": {
    "collapsed": false
   }
  },
  {
   "cell_type": "code",
   "execution_count": 12,
   "outputs": [],
   "source": [
    "save_dependency_parse(doc, \"result/Text dependency sparse visualization_short.svg\")"
   ],
   "metadata": {
    "collapsed": false
   }
  },
  {
   "cell_type": "code",
   "execution_count": 12,
   "outputs": [],
   "source": [],
   "metadata": {
    "collapsed": false
   }
  }
 ],
 "metadata": {
  "kernelspec": {
   "display_name": "Python 3",
   "language": "python",
   "name": "python3"
  },
  "language_info": {
   "codemirror_mode": {
    "name": "ipython",
    "version": 2
   },
   "file_extension": ".py",
   "mimetype": "text/x-python",
   "name": "python",
   "nbconvert_exporter": "python",
   "pygments_lexer": "ipython2",
   "version": "2.7.6"
  }
 },
 "nbformat": 4,
 "nbformat_minor": 0
}
