{
 "cells": [
  {
   "cell_type": "code",
   "execution_count": 31,
   "metadata": {
    "collapsed": true
   },
   "outputs": [
    {
     "data": {
      "text/plain": "  IATA_CODE                              AIRPORT         CITY STATE COUNTRY  \\\n0       ABE  Lehigh Valley International Airport    Allentown    PA     USA   \n1       ABI             Abilene Regional Airport      Abilene    TX     USA   \n2       ABQ    Albuquerque International Sunport  Albuquerque    NM     USA   \n3       ABR            Aberdeen Regional Airport     Aberdeen    SD     USA   \n4       ABY   Southwest Georgia Regional Airport       Albany    GA     USA   \n\n   LATITUDE  LONGITUDE  \n0  40.65236  -75.44040  \n1  32.41132  -99.68190  \n2  35.04022 -106.60919  \n3  45.44906  -98.42183  \n4  31.53552  -84.19447  ",
      "text/html": "<div>\n<style scoped>\n    .dataframe tbody tr th:only-of-type {\n        vertical-align: middle;\n    }\n\n    .dataframe tbody tr th {\n        vertical-align: top;\n    }\n\n    .dataframe thead th {\n        text-align: right;\n    }\n</style>\n<table border=\"1\" class=\"dataframe\">\n  <thead>\n    <tr style=\"text-align: right;\">\n      <th></th>\n      <th>IATA_CODE</th>\n      <th>AIRPORT</th>\n      <th>CITY</th>\n      <th>STATE</th>\n      <th>COUNTRY</th>\n      <th>LATITUDE</th>\n      <th>LONGITUDE</th>\n    </tr>\n  </thead>\n  <tbody>\n    <tr>\n      <th>0</th>\n      <td>ABE</td>\n      <td>Lehigh Valley International Airport</td>\n      <td>Allentown</td>\n      <td>PA</td>\n      <td>USA</td>\n      <td>40.65236</td>\n      <td>-75.44040</td>\n    </tr>\n    <tr>\n      <th>1</th>\n      <td>ABI</td>\n      <td>Abilene Regional Airport</td>\n      <td>Abilene</td>\n      <td>TX</td>\n      <td>USA</td>\n      <td>32.41132</td>\n      <td>-99.68190</td>\n    </tr>\n    <tr>\n      <th>2</th>\n      <td>ABQ</td>\n      <td>Albuquerque International Sunport</td>\n      <td>Albuquerque</td>\n      <td>NM</td>\n      <td>USA</td>\n      <td>35.04022</td>\n      <td>-106.60919</td>\n    </tr>\n    <tr>\n      <th>3</th>\n      <td>ABR</td>\n      <td>Aberdeen Regional Airport</td>\n      <td>Aberdeen</td>\n      <td>SD</td>\n      <td>USA</td>\n      <td>45.44906</td>\n      <td>-98.42183</td>\n    </tr>\n    <tr>\n      <th>4</th>\n      <td>ABY</td>\n      <td>Southwest Georgia Regional Airport</td>\n      <td>Albany</td>\n      <td>GA</td>\n      <td>USA</td>\n      <td>31.53552</td>\n      <td>-84.19447</td>\n    </tr>\n  </tbody>\n</table>\n</div>"
     },
     "execution_count": 31,
     "metadata": {},
     "output_type": "execute_result"
    }
   ],
   "source": [
    "import pandas as pd\n",
    "import plotly\n",
    "import plotly.graph_objects as go\n",
    "\n",
    "us_airports_df = pd.read_csv('data/airports.csv')\n",
    "us_airports_df.head()"
   ]
  },
  {
   "cell_type": "code",
   "execution_count": 32,
   "outputs": [
    {
     "data": {
      "text/plain": "   YEAR  MONTH  DAY  DAY_OF_WEEK AIRLINE  FLIGHT_NUMBER TAIL_NUMBER  \\\n0  2015      1    1            4      HA             17      N389HA   \n1  2015      1    1            4      B6           2134      N307JB   \n2  2015      1    1            4      B6           2276      N646JB   \n3  2015      1    1            4      US            425      N174US   \n4  2015      1    1            4      AA             89      N3KVAA   \n\n  ORIGIN_AIRPORT DESTINATION_AIRPORT  SCHEDULED_DEPARTURE  ...  ARRIVAL_TIME  \\\n0            LAS                 HNL                  145  ...         610.0   \n1            SJU                 MCO                  400  ...         730.0   \n2            SJU                 BDL                  438  ...         908.0   \n3            PDX                 PHX                  520  ...         950.0   \n4            IAH                 MIA                  520  ...         935.0   \n\n   ARRIVAL_DELAY  DIVERTED  CANCELLED  CANCELLATION_REASON  AIR_SYSTEM_DELAY  \\\n0           15.0         0          0                  NaN               0.0   \n1           85.0         0          0                  NaN               0.0   \n2           89.0         0          0                  NaN              17.0   \n3           60.0         0          0                  NaN               0.0   \n4           54.0         0          0                  NaN               0.0   \n\n   SECURITY_DELAY  AIRLINE_DELAY  LATE_AIRCRAFT_DELAY  WEATHER_DELAY  \n0             0.0           15.0                  0.0            0.0  \n1             0.0           85.0                  0.0            0.0  \n2             0.0           72.0                  0.0            0.0  \n3             0.0           60.0                  0.0            0.0  \n4             0.0           54.0                  0.0            0.0  \n\n[5 rows x 31 columns]",
      "text/html": "<div>\n<style scoped>\n    .dataframe tbody tr th:only-of-type {\n        vertical-align: middle;\n    }\n\n    .dataframe tbody tr th {\n        vertical-align: top;\n    }\n\n    .dataframe thead th {\n        text-align: right;\n    }\n</style>\n<table border=\"1\" class=\"dataframe\">\n  <thead>\n    <tr style=\"text-align: right;\">\n      <th></th>\n      <th>YEAR</th>\n      <th>MONTH</th>\n      <th>DAY</th>\n      <th>DAY_OF_WEEK</th>\n      <th>AIRLINE</th>\n      <th>FLIGHT_NUMBER</th>\n      <th>TAIL_NUMBER</th>\n      <th>ORIGIN_AIRPORT</th>\n      <th>DESTINATION_AIRPORT</th>\n      <th>SCHEDULED_DEPARTURE</th>\n      <th>...</th>\n      <th>ARRIVAL_TIME</th>\n      <th>ARRIVAL_DELAY</th>\n      <th>DIVERTED</th>\n      <th>CANCELLED</th>\n      <th>CANCELLATION_REASON</th>\n      <th>AIR_SYSTEM_DELAY</th>\n      <th>SECURITY_DELAY</th>\n      <th>AIRLINE_DELAY</th>\n      <th>LATE_AIRCRAFT_DELAY</th>\n      <th>WEATHER_DELAY</th>\n    </tr>\n  </thead>\n  <tbody>\n    <tr>\n      <th>0</th>\n      <td>2015</td>\n      <td>1</td>\n      <td>1</td>\n      <td>4</td>\n      <td>HA</td>\n      <td>17</td>\n      <td>N389HA</td>\n      <td>LAS</td>\n      <td>HNL</td>\n      <td>145</td>\n      <td>...</td>\n      <td>610.0</td>\n      <td>15.0</td>\n      <td>0</td>\n      <td>0</td>\n      <td>NaN</td>\n      <td>0.0</td>\n      <td>0.0</td>\n      <td>15.0</td>\n      <td>0.0</td>\n      <td>0.0</td>\n    </tr>\n    <tr>\n      <th>1</th>\n      <td>2015</td>\n      <td>1</td>\n      <td>1</td>\n      <td>4</td>\n      <td>B6</td>\n      <td>2134</td>\n      <td>N307JB</td>\n      <td>SJU</td>\n      <td>MCO</td>\n      <td>400</td>\n      <td>...</td>\n      <td>730.0</td>\n      <td>85.0</td>\n      <td>0</td>\n      <td>0</td>\n      <td>NaN</td>\n      <td>0.0</td>\n      <td>0.0</td>\n      <td>85.0</td>\n      <td>0.0</td>\n      <td>0.0</td>\n    </tr>\n    <tr>\n      <th>2</th>\n      <td>2015</td>\n      <td>1</td>\n      <td>1</td>\n      <td>4</td>\n      <td>B6</td>\n      <td>2276</td>\n      <td>N646JB</td>\n      <td>SJU</td>\n      <td>BDL</td>\n      <td>438</td>\n      <td>...</td>\n      <td>908.0</td>\n      <td>89.0</td>\n      <td>0</td>\n      <td>0</td>\n      <td>NaN</td>\n      <td>17.0</td>\n      <td>0.0</td>\n      <td>72.0</td>\n      <td>0.0</td>\n      <td>0.0</td>\n    </tr>\n    <tr>\n      <th>3</th>\n      <td>2015</td>\n      <td>1</td>\n      <td>1</td>\n      <td>4</td>\n      <td>US</td>\n      <td>425</td>\n      <td>N174US</td>\n      <td>PDX</td>\n      <td>PHX</td>\n      <td>520</td>\n      <td>...</td>\n      <td>950.0</td>\n      <td>60.0</td>\n      <td>0</td>\n      <td>0</td>\n      <td>NaN</td>\n      <td>0.0</td>\n      <td>0.0</td>\n      <td>60.0</td>\n      <td>0.0</td>\n      <td>0.0</td>\n    </tr>\n    <tr>\n      <th>4</th>\n      <td>2015</td>\n      <td>1</td>\n      <td>1</td>\n      <td>4</td>\n      <td>AA</td>\n      <td>89</td>\n      <td>N3KVAA</td>\n      <td>IAH</td>\n      <td>MIA</td>\n      <td>520</td>\n      <td>...</td>\n      <td>935.0</td>\n      <td>54.0</td>\n      <td>0</td>\n      <td>0</td>\n      <td>NaN</td>\n      <td>0.0</td>\n      <td>0.0</td>\n      <td>54.0</td>\n      <td>0.0</td>\n      <td>0.0</td>\n    </tr>\n  </tbody>\n</table>\n<p>5 rows × 31 columns</p>\n</div>"
     },
     "execution_count": 32,
     "metadata": {},
     "output_type": "execute_result"
    }
   ],
   "source": [
    "new_year_2015_flights_df = pd.read_csv('data/new_year_day_2015_delayed_flights.csv')\n",
    "new_year_2015_flights_df.head()"
   ],
   "metadata": {
    "collapsed": false
   }
  },
  {
   "cell_type": "code",
   "execution_count": 33,
   "outputs": [
    {
     "data": {
      "text/plain": "   YEAR  MONTH  DAY  DAY_OF_WEEK AIRLINE  FLIGHT_NUMBER TAIL_NUMBER  \\\n0  2015      1    1            4      HA             17      N389HA   \n1  2015      1    1            4      HA              7      N395HA   \n2  2015      1    1            4      AA           1623      N438AA   \n3  2015      1    1            4      DL           1530      N954DN   \n4  2015      1    1            4      WN           1170      N902WN   \n\n  ORIGIN_AIRPORT DESTINATION_AIRPORT  SCHEDULED_DEPARTURE  ...  DIVERTED  \\\n0            LAS                 HNL                  145  ...         0   \n1            LAS                 HNL                  900  ...         0   \n2            LAS                 DFW                  905  ...         0   \n3            LAS                 MSP                  920  ...         0   \n4            LAS                 ELP                  950  ...         0   \n\n   CANCELLED  CANCELLATION_REASON  AIR_SYSTEM_DELAY  SECURITY_DELAY  \\\n0          0                  NaN               0.0             0.0   \n1          0                  NaN               0.0             0.0   \n2          0                  NaN               4.0             0.0   \n3          0                  NaN               1.0             0.0   \n4          0                  NaN               5.0             0.0   \n\n   AIRLINE_DELAY  LATE_AIRCRAFT_DELAY  WEATHER_DELAY  ORIGIN_AIRPORT_LATITUDE  \\\n0           15.0                  0.0            0.0                 36.08036   \n1           23.0                  0.0            0.0                 36.08036   \n2          133.0                  0.0            0.0                 36.08036   \n3           15.0                  0.0            0.0                 36.08036   \n4           11.0                  0.0            0.0                 36.08036   \n\n   ORIGIN_AIRPORT_LONGITUDE  \n0                -115.15233  \n1                -115.15233  \n2                -115.15233  \n3                -115.15233  \n4                -115.15233  \n\n[5 rows x 33 columns]",
      "text/html": "<div>\n<style scoped>\n    .dataframe tbody tr th:only-of-type {\n        vertical-align: middle;\n    }\n\n    .dataframe tbody tr th {\n        vertical-align: top;\n    }\n\n    .dataframe thead th {\n        text-align: right;\n    }\n</style>\n<table border=\"1\" class=\"dataframe\">\n  <thead>\n    <tr style=\"text-align: right;\">\n      <th></th>\n      <th>YEAR</th>\n      <th>MONTH</th>\n      <th>DAY</th>\n      <th>DAY_OF_WEEK</th>\n      <th>AIRLINE</th>\n      <th>FLIGHT_NUMBER</th>\n      <th>TAIL_NUMBER</th>\n      <th>ORIGIN_AIRPORT</th>\n      <th>DESTINATION_AIRPORT</th>\n      <th>SCHEDULED_DEPARTURE</th>\n      <th>...</th>\n      <th>DIVERTED</th>\n      <th>CANCELLED</th>\n      <th>CANCELLATION_REASON</th>\n      <th>AIR_SYSTEM_DELAY</th>\n      <th>SECURITY_DELAY</th>\n      <th>AIRLINE_DELAY</th>\n      <th>LATE_AIRCRAFT_DELAY</th>\n      <th>WEATHER_DELAY</th>\n      <th>ORIGIN_AIRPORT_LATITUDE</th>\n      <th>ORIGIN_AIRPORT_LONGITUDE</th>\n    </tr>\n  </thead>\n  <tbody>\n    <tr>\n      <th>0</th>\n      <td>2015</td>\n      <td>1</td>\n      <td>1</td>\n      <td>4</td>\n      <td>HA</td>\n      <td>17</td>\n      <td>N389HA</td>\n      <td>LAS</td>\n      <td>HNL</td>\n      <td>145</td>\n      <td>...</td>\n      <td>0</td>\n      <td>0</td>\n      <td>NaN</td>\n      <td>0.0</td>\n      <td>0.0</td>\n      <td>15.0</td>\n      <td>0.0</td>\n      <td>0.0</td>\n      <td>36.08036</td>\n      <td>-115.15233</td>\n    </tr>\n    <tr>\n      <th>1</th>\n      <td>2015</td>\n      <td>1</td>\n      <td>1</td>\n      <td>4</td>\n      <td>HA</td>\n      <td>7</td>\n      <td>N395HA</td>\n      <td>LAS</td>\n      <td>HNL</td>\n      <td>900</td>\n      <td>...</td>\n      <td>0</td>\n      <td>0</td>\n      <td>NaN</td>\n      <td>0.0</td>\n      <td>0.0</td>\n      <td>23.0</td>\n      <td>0.0</td>\n      <td>0.0</td>\n      <td>36.08036</td>\n      <td>-115.15233</td>\n    </tr>\n    <tr>\n      <th>2</th>\n      <td>2015</td>\n      <td>1</td>\n      <td>1</td>\n      <td>4</td>\n      <td>AA</td>\n      <td>1623</td>\n      <td>N438AA</td>\n      <td>LAS</td>\n      <td>DFW</td>\n      <td>905</td>\n      <td>...</td>\n      <td>0</td>\n      <td>0</td>\n      <td>NaN</td>\n      <td>4.0</td>\n      <td>0.0</td>\n      <td>133.0</td>\n      <td>0.0</td>\n      <td>0.0</td>\n      <td>36.08036</td>\n      <td>-115.15233</td>\n    </tr>\n    <tr>\n      <th>3</th>\n      <td>2015</td>\n      <td>1</td>\n      <td>1</td>\n      <td>4</td>\n      <td>DL</td>\n      <td>1530</td>\n      <td>N954DN</td>\n      <td>LAS</td>\n      <td>MSP</td>\n      <td>920</td>\n      <td>...</td>\n      <td>0</td>\n      <td>0</td>\n      <td>NaN</td>\n      <td>1.0</td>\n      <td>0.0</td>\n      <td>15.0</td>\n      <td>0.0</td>\n      <td>0.0</td>\n      <td>36.08036</td>\n      <td>-115.15233</td>\n    </tr>\n    <tr>\n      <th>4</th>\n      <td>2015</td>\n      <td>1</td>\n      <td>1</td>\n      <td>4</td>\n      <td>WN</td>\n      <td>1170</td>\n      <td>N902WN</td>\n      <td>LAS</td>\n      <td>ELP</td>\n      <td>950</td>\n      <td>...</td>\n      <td>0</td>\n      <td>0</td>\n      <td>NaN</td>\n      <td>5.0</td>\n      <td>0.0</td>\n      <td>11.0</td>\n      <td>0.0</td>\n      <td>0.0</td>\n      <td>36.08036</td>\n      <td>-115.15233</td>\n    </tr>\n  </tbody>\n</table>\n<p>5 rows × 33 columns</p>\n</div>"
     },
     "execution_count": 33,
     "metadata": {},
     "output_type": "execute_result"
    }
   ],
   "source": [
    "new_year_2015_flights_df = new_year_2015_flights_df.merge(\n",
    "    us_airports_df[['IATA_CODE', 'LATITUDE', 'LONGITUDE']],\n",
    "    left_on='ORIGIN_AIRPORT',\n",
    "    right_on='IATA_CODE',\n",
    "    how='inner')\n",
    "\n",
    "new_year_2015_flights_df.drop(\n",
    "    columns=['IATA_CODE'], inplace=True)\n",
    "\n",
    "new_year_2015_flights_df.rename(\n",
    "    columns={\"LATITUDE\": \"ORIGIN_AIRPORT_LATITUDE\",\n",
    "             \"LONGITUDE\": \"ORIGIN_AIRPORT_LONGITUDE\"},\n",
    "    inplace=True)\n",
    "\n",
    "new_year_2015_flights_df.head()"
   ],
   "metadata": {
    "collapsed": false
   }
  },
  {
   "cell_type": "code",
   "execution_count": 34,
   "outputs": [
    {
     "data": {
      "text/plain": "   YEAR  MONTH  DAY  DAY_OF_WEEK AIRLINE  FLIGHT_NUMBER TAIL_NUMBER  \\\n0  2015      1    1            4      HA             17      N389HA   \n1  2015      1    1            4      HA              7      N395HA   \n2  2015      1    1            4      UA            253      N768UA   \n3  2015      1    1            4      UA            328      N210UA   \n4  2015      1    1            4      UA           1173      N56859   \n\n  ORIGIN_AIRPORT DESTINATION_AIRPORT  SCHEDULED_DEPARTURE  ...  \\\n0            LAS                 HNL                  145  ...   \n1            LAS                 HNL                  900  ...   \n2            IAH                 HNL                  920  ...   \n3            DEN                 HNL                 1130  ...   \n4            SFO                 HNL                  805  ...   \n\n   CANCELLATION_REASON  AIR_SYSTEM_DELAY  SECURITY_DELAY  AIRLINE_DELAY  \\\n0                  NaN               0.0             0.0           15.0   \n1                  NaN               0.0             0.0           23.0   \n2                  NaN               8.0             0.0           42.0   \n3                  NaN               0.0             0.0           31.0   \n4                  NaN               0.0             0.0           17.0   \n\n   LATE_AIRCRAFT_DELAY  WEATHER_DELAY  ORIGIN_AIRPORT_LATITUDE  \\\n0                  0.0            0.0                 36.08036   \n1                  0.0            0.0                 36.08036   \n2                  0.0            0.0                 29.98047   \n3                  0.0            0.0                 39.85841   \n4                  0.0            0.0                 37.61900   \n\n   ORIGIN_AIRPORT_LONGITUDE  DESTINATION_AIRPORT_LATITUDE  \\\n0                -115.15233                      21.31869   \n1                -115.15233                      21.31869   \n2                 -95.33972                      21.31869   \n3                -104.66700                      21.31869   \n4                -122.37484                      21.31869   \n\n   DESTINATION_AIRPORT_LONGITUDE  \n0                     -157.92241  \n1                     -157.92241  \n2                     -157.92241  \n3                     -157.92241  \n4                     -157.92241  \n\n[5 rows x 35 columns]",
      "text/html": "<div>\n<style scoped>\n    .dataframe tbody tr th:only-of-type {\n        vertical-align: middle;\n    }\n\n    .dataframe tbody tr th {\n        vertical-align: top;\n    }\n\n    .dataframe thead th {\n        text-align: right;\n    }\n</style>\n<table border=\"1\" class=\"dataframe\">\n  <thead>\n    <tr style=\"text-align: right;\">\n      <th></th>\n      <th>YEAR</th>\n      <th>MONTH</th>\n      <th>DAY</th>\n      <th>DAY_OF_WEEK</th>\n      <th>AIRLINE</th>\n      <th>FLIGHT_NUMBER</th>\n      <th>TAIL_NUMBER</th>\n      <th>ORIGIN_AIRPORT</th>\n      <th>DESTINATION_AIRPORT</th>\n      <th>SCHEDULED_DEPARTURE</th>\n      <th>...</th>\n      <th>CANCELLATION_REASON</th>\n      <th>AIR_SYSTEM_DELAY</th>\n      <th>SECURITY_DELAY</th>\n      <th>AIRLINE_DELAY</th>\n      <th>LATE_AIRCRAFT_DELAY</th>\n      <th>WEATHER_DELAY</th>\n      <th>ORIGIN_AIRPORT_LATITUDE</th>\n      <th>ORIGIN_AIRPORT_LONGITUDE</th>\n      <th>DESTINATION_AIRPORT_LATITUDE</th>\n      <th>DESTINATION_AIRPORT_LONGITUDE</th>\n    </tr>\n  </thead>\n  <tbody>\n    <tr>\n      <th>0</th>\n      <td>2015</td>\n      <td>1</td>\n      <td>1</td>\n      <td>4</td>\n      <td>HA</td>\n      <td>17</td>\n      <td>N389HA</td>\n      <td>LAS</td>\n      <td>HNL</td>\n      <td>145</td>\n      <td>...</td>\n      <td>NaN</td>\n      <td>0.0</td>\n      <td>0.0</td>\n      <td>15.0</td>\n      <td>0.0</td>\n      <td>0.0</td>\n      <td>36.08036</td>\n      <td>-115.15233</td>\n      <td>21.31869</td>\n      <td>-157.92241</td>\n    </tr>\n    <tr>\n      <th>1</th>\n      <td>2015</td>\n      <td>1</td>\n      <td>1</td>\n      <td>4</td>\n      <td>HA</td>\n      <td>7</td>\n      <td>N395HA</td>\n      <td>LAS</td>\n      <td>HNL</td>\n      <td>900</td>\n      <td>...</td>\n      <td>NaN</td>\n      <td>0.0</td>\n      <td>0.0</td>\n      <td>23.0</td>\n      <td>0.0</td>\n      <td>0.0</td>\n      <td>36.08036</td>\n      <td>-115.15233</td>\n      <td>21.31869</td>\n      <td>-157.92241</td>\n    </tr>\n    <tr>\n      <th>2</th>\n      <td>2015</td>\n      <td>1</td>\n      <td>1</td>\n      <td>4</td>\n      <td>UA</td>\n      <td>253</td>\n      <td>N768UA</td>\n      <td>IAH</td>\n      <td>HNL</td>\n      <td>920</td>\n      <td>...</td>\n      <td>NaN</td>\n      <td>8.0</td>\n      <td>0.0</td>\n      <td>42.0</td>\n      <td>0.0</td>\n      <td>0.0</td>\n      <td>29.98047</td>\n      <td>-95.33972</td>\n      <td>21.31869</td>\n      <td>-157.92241</td>\n    </tr>\n    <tr>\n      <th>3</th>\n      <td>2015</td>\n      <td>1</td>\n      <td>1</td>\n      <td>4</td>\n      <td>UA</td>\n      <td>328</td>\n      <td>N210UA</td>\n      <td>DEN</td>\n      <td>HNL</td>\n      <td>1130</td>\n      <td>...</td>\n      <td>NaN</td>\n      <td>0.0</td>\n      <td>0.0</td>\n      <td>31.0</td>\n      <td>0.0</td>\n      <td>0.0</td>\n      <td>39.85841</td>\n      <td>-104.66700</td>\n      <td>21.31869</td>\n      <td>-157.92241</td>\n    </tr>\n    <tr>\n      <th>4</th>\n      <td>2015</td>\n      <td>1</td>\n      <td>1</td>\n      <td>4</td>\n      <td>UA</td>\n      <td>1173</td>\n      <td>N56859</td>\n      <td>SFO</td>\n      <td>HNL</td>\n      <td>805</td>\n      <td>...</td>\n      <td>NaN</td>\n      <td>0.0</td>\n      <td>0.0</td>\n      <td>17.0</td>\n      <td>0.0</td>\n      <td>0.0</td>\n      <td>37.61900</td>\n      <td>-122.37484</td>\n      <td>21.31869</td>\n      <td>-157.92241</td>\n    </tr>\n  </tbody>\n</table>\n<p>5 rows × 35 columns</p>\n</div>"
     },
     "execution_count": 34,
     "metadata": {},
     "output_type": "execute_result"
    }
   ],
   "source": [
    "new_year_2015_flights_df = new_year_2015_flights_df.merge(\n",
    "    us_airports_df[['IATA_CODE', 'LATITUDE', 'LONGITUDE']],\n",
    "    left_on='DESTINATION_AIRPORT',\n",
    "    right_on='IATA_CODE',\n",
    "    how='inner')\n",
    "\n",
    "new_year_2015_flights_df.drop(\n",
    "    columns=['IATA_CODE'], inplace=True)\n",
    "\n",
    "new_year_2015_flights_df.rename(\n",
    "    columns={'LATITUDE': 'DESTINATION_AIRPORT_LATITUDE',\n",
    "             'LONGITUDE': 'DESTINATION_AIRPORT_LONGITUDE'},\n",
    "    inplace=True)\n",
    "\n",
    "new_year_2015_flights_df.head()"
   ],
   "metadata": {
    "collapsed": false
   }
  },
  {
   "cell_type": "code",
   "execution_count": 35,
   "outputs": [
    {
     "data": {
      "application/vnd.plotly.v1+json": {
       "data": [
        {
         "lat": [
          36.08036,
          21.31869
         ],
         "line": {
          "color": "red",
          "width": 1
         },
         "locationmode": "USA-states",
         "lon": [
          -115.15233,
          -157.92241
         ],
         "mode": "lines",
         "type": "scattergeo"
        },
        {
         "lat": [
          36.08036,
          21.31869
         ],
         "line": {
          "color": "red",
          "width": 1
         },
         "locationmode": "USA-states",
         "lon": [
          -115.15233,
          -157.92241
         ],
         "mode": "lines",
         "type": "scattergeo"
        },
        {
         "lat": [
          29.98047,
          21.31869
         ],
         "line": {
          "color": "red",
          "width": 1
         },
         "locationmode": "USA-states",
         "lon": [
          -95.33972,
          -157.92241
         ],
         "mode": "lines",
         "type": "scattergeo"
        },
        {
         "lat": [
          39.85841,
          21.31869
         ],
         "line": {
          "color": "red",
          "width": 1
         },
         "locationmode": "USA-states",
         "lon": [
          -104.667,
          -157.92241
         ],
         "mode": "lines",
         "type": "scattergeo"
        },
        {
         "lat": [
          37.619,
          21.31869
         ],
         "line": {
          "color": "red",
          "width": 1
         },
         "locationmode": "USA-states",
         "lon": [
          -122.37484,
          -157.92241
         ],
         "mode": "lines",
         "type": "scattergeo"
        },
        {
         "lat": [
          37.619,
          21.31869
         ],
         "line": {
          "color": "red",
          "width": 1
         },
         "locationmode": "USA-states",
         "lon": [
          -122.37484,
          -157.92241
         ],
         "mode": "lines",
         "type": "scattergeo"
        },
        {
         "lat": [
          37.619,
          21.31869
         ],
         "line": {
          "color": "red",
          "width": 1
         },
         "locationmode": "USA-states",
         "lon": [
          -122.37484,
          -157.92241
         ],
         "mode": "lines",
         "type": "scattergeo"
        },
        {
         "lat": [
          38.69542,
          21.31869
         ],
         "line": {
          "color": "red",
          "width": 1
         },
         "locationmode": "USA-states",
         "lon": [
          -121.59077,
          -157.92241
         ],
         "mode": "lines",
         "type": "scattergeo"
        },
        {
         "lat": [
          32.89595,
          21.31869
         ],
         "line": {
          "color": "red",
          "width": 1
         },
         "locationmode": "USA-states",
         "lon": [
          -97.0372,
          -157.92241
         ],
         "mode": "lines",
         "type": "scattergeo"
        },
        {
         "lat": [
          32.89595,
          21.31869
         ],
         "line": {
          "color": "red",
          "width": 1
         },
         "locationmode": "USA-states",
         "lon": [
          -97.0372,
          -157.92241
         ],
         "mode": "lines",
         "type": "scattergeo"
        },
        {
         "lat": [
          32.73356,
          21.31869
         ],
         "line": {
          "color": "red",
          "width": 1
         },
         "locationmode": "USA-states",
         "lon": [
          -117.18966,
          -157.92241
         ],
         "mode": "lines",
         "type": "scattergeo"
        },
        {
         "lat": [
          21.97598,
          21.31869
         ],
         "line": {
          "color": "red",
          "width": 1
         },
         "locationmode": "USA-states",
         "lon": [
          -159.33896,
          -157.92241
         ],
         "mode": "lines",
         "type": "scattergeo"
        },
        {
         "lat": [
          21.97598,
          21.31869
         ],
         "line": {
          "color": "red",
          "width": 1
         },
         "locationmode": "USA-states",
         "lon": [
          -159.33896,
          -157.92241
         ],
         "mode": "lines",
         "type": "scattergeo"
        },
        {
         "lat": [
          21.97598,
          21.31869
         ],
         "line": {
          "color": "red",
          "width": 1
         },
         "locationmode": "USA-states",
         "lon": [
          -159.33896,
          -157.92241
         ],
         "mode": "lines",
         "type": "scattergeo"
        },
        {
         "lat": [
          21.97598,
          21.31869
         ],
         "line": {
          "color": "red",
          "width": 1
         },
         "locationmode": "USA-states",
         "lon": [
          -159.33896,
          -157.92241
         ],
         "mode": "lines",
         "type": "scattergeo"
        },
        {
         "lat": [
          21.97598,
          21.31869
         ],
         "line": {
          "color": "red",
          "width": 1
         },
         "locationmode": "USA-states",
         "lon": [
          -159.33896,
          -157.92241
         ],
         "mode": "lines",
         "type": "scattergeo"
        },
        {
         "lat": [
          13.48345,
          21.31869
         ],
         "line": {
          "color": "red",
          "width": 1
         },
         "locationmode": "USA-states",
         "lon": [
          -144.79598,
          -157.92241
         ],
         "mode": "lines",
         "type": "scattergeo"
        },
        {
         "lat": [
          33.94254,
          21.31869
         ],
         "line": {
          "color": "red",
          "width": 1
         },
         "locationmode": "USA-states",
         "lon": [
          -118.40807,
          -157.92241
         ],
         "mode": "lines",
         "type": "scattergeo"
        },
        {
         "lat": [
          33.94254,
          21.31869
         ],
         "line": {
          "color": "red",
          "width": 1
         },
         "locationmode": "USA-states",
         "lon": [
          -118.40807,
          -157.92241
         ],
         "mode": "lines",
         "type": "scattergeo"
        },
        {
         "lat": [
          33.94254,
          21.31869
         ],
         "line": {
          "color": "red",
          "width": 1
         },
         "locationmode": "USA-states",
         "lon": [
          -118.40807,
          -157.92241
         ],
         "mode": "lines",
         "type": "scattergeo"
        },
        {
         "lat": [
          33.94254,
          21.31869
         ],
         "line": {
          "color": "red",
          "width": 1
         },
         "locationmode": "USA-states",
         "lon": [
          -118.40807,
          -157.92241
         ],
         "mode": "lines",
         "type": "scattergeo"
        },
        {
         "lat": [
          33.94254,
          21.31869
         ],
         "line": {
          "color": "red",
          "width": 1
         },
         "locationmode": "USA-states",
         "lon": [
          -118.40807,
          -157.92241
         ],
         "mode": "lines",
         "type": "scattergeo"
        },
        {
         "lat": [
          33.94254,
          21.31869
         ],
         "line": {
          "color": "red",
          "width": 1
         },
         "locationmode": "USA-states",
         "lon": [
          -118.40807,
          -157.92241
         ],
         "mode": "lines",
         "type": "scattergeo"
        },
        {
         "lat": [
          33.43417,
          21.31869
         ],
         "line": {
          "color": "red",
          "width": 1
         },
         "locationmode": "USA-states",
         "lon": [
          -112.00806,
          -157.92241
         ],
         "mode": "lines",
         "type": "scattergeo"
        },
        {
         "lat": [
          19.72026,
          21.31869
         ],
         "line": {
          "color": "red",
          "width": 1
         },
         "locationmode": "USA-states",
         "lon": [
          -155.04847,
          -157.92241
         ],
         "mode": "lines",
         "type": "scattergeo"
        },
        {
         "lat": [
          19.72026,
          21.31869
         ],
         "line": {
          "color": "red",
          "width": 1
         },
         "locationmode": "USA-states",
         "lon": [
          -155.04847,
          -157.92241
         ],
         "mode": "lines",
         "type": "scattergeo"
        },
        {
         "lat": [
          19.72026,
          21.31869
         ],
         "line": {
          "color": "red",
          "width": 1
         },
         "locationmode": "USA-states",
         "lon": [
          -155.04847,
          -157.92241
         ],
         "mode": "lines",
         "type": "scattergeo"
        },
        {
         "lat": [
          19.72026,
          21.31869
         ],
         "line": {
          "color": "red",
          "width": 1
         },
         "locationmode": "USA-states",
         "lon": [
          -155.04847,
          -157.92241
         ],
         "mode": "lines",
         "type": "scattergeo"
        },
        {
         "lat": [
          20.89865,
          21.31869
         ],
         "line": {
          "color": "red",
          "width": 1
         },
         "locationmode": "USA-states",
         "lon": [
          -156.43046,
          -157.92241
         ],
         "mode": "lines",
         "type": "scattergeo"
        },
        {
         "lat": [
          20.89865,
          21.31869
         ],
         "line": {
          "color": "red",
          "width": 1
         },
         "locationmode": "USA-states",
         "lon": [
          -156.43046,
          -157.92241
         ],
         "mode": "lines",
         "type": "scattergeo"
        },
        {
         "lat": [
          20.89865,
          21.31869
         ],
         "line": {
          "color": "red",
          "width": 1
         },
         "locationmode": "USA-states",
         "lon": [
          -156.43046,
          -157.92241
         ],
         "mode": "lines",
         "type": "scattergeo"
        },
        {
         "lat": [
          20.89865,
          21.31869
         ],
         "line": {
          "color": "red",
          "width": 1
         },
         "locationmode": "USA-states",
         "lon": [
          -156.43046,
          -157.92241
         ],
         "mode": "lines",
         "type": "scattergeo"
        },
        {
         "lat": [
          37.36186,
          21.31869
         ],
         "line": {
          "color": "red",
          "width": 1
         },
         "locationmode": "USA-states",
         "lon": [
          -121.92901,
          -157.92241
         ],
         "mode": "lines",
         "type": "scattergeo"
        },
        {
         "lat": [
          36.08036,
          32.89595
         ],
         "line": {
          "color": "red",
          "width": 1
         },
         "locationmode": "USA-states",
         "lon": [
          -115.15233,
          -97.0372
         ],
         "mode": "lines",
         "type": "scattergeo"
        },
        {
         "lat": [
          36.08036,
          32.89595
         ],
         "line": {
          "color": "red",
          "width": 1
         },
         "locationmode": "USA-states",
         "lon": [
          -115.15233,
          -97.0372
         ],
         "mode": "lines",
         "type": "scattergeo"
        },
        {
         "lat": [
          36.08036,
          32.89595
         ],
         "line": {
          "color": "red",
          "width": 1
         },
         "locationmode": "USA-states",
         "lon": [
          -115.15233,
          -97.0372
         ],
         "mode": "lines",
         "type": "scattergeo"
        },
        {
         "lat": [
          36.08036,
          32.89595
         ],
         "line": {
          "color": "red",
          "width": 1
         },
         "locationmode": "USA-states",
         "lon": [
          -115.15233,
          -97.0372
         ],
         "mode": "lines",
         "type": "scattergeo"
        },
        {
         "lat": [
          29.98047,
          32.89595
         ],
         "line": {
          "color": "red",
          "width": 1
         },
         "locationmode": "USA-states",
         "lon": [
          -95.33972,
          -97.0372
         ],
         "mode": "lines",
         "type": "scattergeo"
        },
        {
         "lat": [
          39.85841,
          32.89595
         ],
         "line": {
          "color": "red",
          "width": 1
         },
         "locationmode": "USA-states",
         "lon": [
          -104.667,
          -97.0372
         ],
         "mode": "lines",
         "type": "scattergeo"
        },
        {
         "lat": [
          39.85841,
          32.89595
         ],
         "line": {
          "color": "red",
          "width": 1
         },
         "locationmode": "USA-states",
         "lon": [
          -104.667,
          -97.0372
         ],
         "mode": "lines",
         "type": "scattergeo"
        },
        {
         "lat": [
          39.85841,
          32.89595
         ],
         "line": {
          "color": "red",
          "width": 1
         },
         "locationmode": "USA-states",
         "lon": [
          -104.667,
          -97.0372
         ],
         "mode": "lines",
         "type": "scattergeo"
        },
        {
         "lat": [
          39.85841,
          32.89595
         ],
         "line": {
          "color": "red",
          "width": 1
         },
         "locationmode": "USA-states",
         "lon": [
          -104.667,
          -97.0372
         ],
         "mode": "lines",
         "type": "scattergeo"
        },
        {
         "lat": [
          39.85841,
          32.89595
         ],
         "line": {
          "color": "red",
          "width": 1
         },
         "locationmode": "USA-states",
         "lon": [
          -104.667,
          -97.0372
         ],
         "mode": "lines",
         "type": "scattergeo"
        },
        {
         "lat": [
          37.619,
          32.89595
         ],
         "line": {
          "color": "red",
          "width": 1
         },
         "locationmode": "USA-states",
         "lon": [
          -122.37484,
          -97.0372
         ],
         "mode": "lines",
         "type": "scattergeo"
        },
        {
         "lat": [
          40.63975,
          32.89595
         ],
         "line": {
          "color": "red",
          "width": 1
         },
         "locationmode": "USA-states",
         "lon": [
          -73.77893,
          -97.0372
         ],
         "mode": "lines",
         "type": "scattergeo"
        },
        {
         "lat": [
          38.69542,
          32.89595
         ],
         "line": {
          "color": "red",
          "width": 1
         },
         "locationmode": "USA-states",
         "lon": [
          -121.59077,
          -97.0372
         ],
         "mode": "lines",
         "type": "scattergeo"
        },
        {
         "lat": [
          38.69542,
          32.89595
         ],
         "line": {
          "color": "red",
          "width": 1
         },
         "locationmode": "USA-states",
         "lon": [
          -121.59077,
          -97.0372
         ],
         "mode": "lines",
         "type": "scattergeo"
        },
        {
         "lat": [
          38.69542,
          32.89595
         ],
         "line": {
          "color": "red",
          "width": 1
         },
         "locationmode": "USA-states",
         "lon": [
          -121.59077,
          -97.0372
         ],
         "mode": "lines",
         "type": "scattergeo"
        },
        {
         "lat": [
          42.94722,
          32.89595
         ],
         "line": {
          "color": "red",
          "width": 1
         },
         "locationmode": "USA-states",
         "lon": [
          -87.89658,
          -97.0372
         ],
         "mode": "lines",
         "type": "scattergeo"
        },
        {
         "lat": [
          41.41089,
          32.89595
         ],
         "line": {
          "color": "red",
          "width": 1
         },
         "locationmode": "USA-states",
         "lon": [
          -81.8494,
          -97.0372
         ],
         "mode": "lines",
         "type": "scattergeo"
        },
        {
         "lat": [
          35.04022,
          32.89595
         ],
         "line": {
          "color": "red",
          "width": 1
         },
         "locationmode": "USA-states",
         "lon": [
          -106.60919,
          -97.0372
         ],
         "mode": "lines",
         "type": "scattergeo"
        },
        {
         "lat": [
          40.77724,
          32.89595
         ],
         "line": {
          "color": "red",
          "width": 1
         },
         "locationmode": "USA-states",
         "lon": [
          -73.87261,
          -97.0372
         ],
         "mode": "lines",
         "type": "scattergeo"
        },
        {
         "lat": [
          40.77724,
          32.89595
         ],
         "line": {
          "color": "red",
          "width": 1
         },
         "locationmode": "USA-states",
         "lon": [
          -73.87261,
          -97.0372
         ],
         "mode": "lines",
         "type": "scattergeo"
        },
        {
         "lat": [
          35.39309,
          32.89595
         ],
         "line": {
          "color": "red",
          "width": 1
         },
         "locationmode": "USA-states",
         "lon": [
          -97.60073,
          -97.0372
         ],
         "mode": "lines",
         "type": "scattergeo"
        },
        {
         "lat": [
          33.64044,
          32.89595
         ],
         "line": {
          "color": "red",
          "width": 1
         },
         "locationmode": "USA-states",
         "lon": [
          -84.42694,
          -97.0372
         ],
         "mode": "lines",
         "type": "scattergeo"
        },
        {
         "lat": [
          40.6925,
          32.89595
         ],
         "line": {
          "color": "red",
          "width": 1
         },
         "locationmode": "USA-states",
         "lon": [
          -74.16866,
          -97.0372
         ],
         "mode": "lines",
         "type": "scattergeo"
        },
        {
         "lat": [
          40.6925,
          32.89595
         ],
         "line": {
          "color": "red",
          "width": 1
         },
         "locationmode": "USA-states",
         "lon": [
          -74.16866,
          -97.0372
         ],
         "mode": "lines",
         "type": "scattergeo"
        },
        {
         "lat": [
          25.79325,
          32.89595
         ],
         "line": {
          "color": "red",
          "width": 1
         },
         "locationmode": "USA-states",
         "lon": [
          -80.29056,
          -97.0372
         ],
         "mode": "lines",
         "type": "scattergeo"
        },
        {
         "lat": [
          34.56771,
          32.89595
         ],
         "line": {
          "color": "red",
          "width": 1
         },
         "locationmode": "USA-states",
         "lon": [
          -98.41664,
          -97.0372
         ],
         "mode": "lines",
         "type": "scattergeo"
        },
        {
         "lat": [
          34.56771,
          32.89595
         ],
         "line": {
          "color": "red",
          "width": 1
         },
         "locationmode": "USA-states",
         "lon": [
          -98.41664,
          -97.0372
         ],
         "mode": "lines",
         "type": "scattergeo"
        },
        {
         "lat": [
          38.85208,
          32.89595
         ],
         "line": {
          "color": "red",
          "width": 1
         },
         "locationmode": "USA-states",
         "lon": [
          -77.03772,
          -97.0372
         ],
         "mode": "lines",
         "type": "scattergeo"
        },
        {
         "lat": [
          33.93884,
          32.89595
         ],
         "line": {
          "color": "red",
          "width": 1
         },
         "locationmode": "USA-states",
         "lon": [
          -81.11954,
          -97.0372
         ],
         "mode": "lines",
         "type": "scattergeo"
        },
        {
         "lat": [
          39.87195,
          32.89595
         ],
         "line": {
          "color": "red",
          "width": 1
         },
         "locationmode": "USA-states",
         "lon": [
          -75.24114,
          -97.0372
         ],
         "mode": "lines",
         "type": "scattergeo"
        },
        {
         "lat": [
          39.87195,
          32.89595
         ],
         "line": {
          "color": "red",
          "width": 1
         },
         "locationmode": "USA-states",
         "lon": [
          -75.24114,
          -97.0372
         ],
         "mode": "lines",
         "type": "scattergeo"
        },
        {
         "lat": [
          39.87195,
          32.89595
         ],
         "line": {
          "color": "red",
          "width": 1
         },
         "locationmode": "USA-states",
         "lon": [
          -75.24114,
          -97.0372
         ],
         "mode": "lines",
         "type": "scattergeo"
        },
        {
         "lat": [
          44.88055,
          32.89595
         ],
         "line": {
          "color": "red",
          "width": 1
         },
         "locationmode": "USA-states",
         "lon": [
          -93.21692,
          -97.0372
         ],
         "mode": "lines",
         "type": "scattergeo"
        },
        {
         "lat": [
          44.88055,
          32.89595
         ],
         "line": {
          "color": "red",
          "width": 1
         },
         "locationmode": "USA-states",
         "lon": [
          -93.21692,
          -97.0372
         ],
         "mode": "lines",
         "type": "scattergeo"
        },
        {
         "lat": [
          36.77619,
          32.89595
         ],
         "line": {
          "color": "red",
          "width": 1
         },
         "locationmode": "USA-states",
         "lon": [
          -119.71814,
          -97.0372
         ],
         "mode": "lines",
         "type": "scattergeo"
        },
        {
         "lat": [
          42.36435,
          32.89595
         ],
         "line": {
          "color": "red",
          "width": 1
         },
         "locationmode": "USA-states",
         "lon": [
          -71.00518,
          -97.0372
         ],
         "mode": "lines",
         "type": "scattergeo"
        },
        {
         "lat": [
          39.71733,
          32.89595
         ],
         "line": {
          "color": "red",
          "width": 1
         },
         "locationmode": "USA-states",
         "lon": [
          -86.29438,
          -97.0372
         ],
         "mode": "lines",
         "type": "scattergeo"
        },
        {
         "lat": [
          34.056,
          32.89595
         ],
         "line": {
          "color": "red",
          "width": 1
         },
         "locationmode": "USA-states",
         "lon": [
          -117.60119,
          -97.0372
         ],
         "mode": "lines",
         "type": "scattergeo"
        },
        {
         "lat": [
          39.22316,
          32.89595
         ],
         "line": {
          "color": "red",
          "width": 1
         },
         "locationmode": "USA-states",
         "lon": [
          -106.86885,
          -97.0372
         ],
         "mode": "lines",
         "type": "scattergeo"
        },
        {
         "lat": [
          41.9796,
          32.89595
         ],
         "line": {
          "color": "red",
          "width": 1
         },
         "locationmode": "USA-states",
         "lon": [
          -87.90446,
          -97.0372
         ],
         "mode": "lines",
         "type": "scattergeo"
        },
        {
         "lat": [
          41.9796,
          32.89595
         ],
         "line": {
          "color": "red",
          "width": 1
         },
         "locationmode": "USA-states",
         "lon": [
          -87.90446,
          -97.0372
         ],
         "mode": "lines",
         "type": "scattergeo"
        },
        {
         "lat": [
          41.9796,
          32.89595
         ],
         "line": {
          "color": "red",
          "width": 1
         },
         "locationmode": "USA-states",
         "lon": [
          -87.90446,
          -97.0372
         ],
         "mode": "lines",
         "type": "scattergeo"
        },
        {
         "lat": [
          41.9796,
          32.89595
         ],
         "line": {
          "color": "red",
          "width": 1
         },
         "locationmode": "USA-states",
         "lon": [
          -87.90446,
          -97.0372
         ],
         "mode": "lines",
         "type": "scattergeo"
        },
        {
         "lat": [
          41.9796,
          32.89595
         ],
         "line": {
          "color": "red",
          "width": 1
         },
         "locationmode": "USA-states",
         "lon": [
          -87.90446,
          -97.0372
         ],
         "mode": "lines",
         "type": "scattergeo"
        },
        {
         "lat": [
          41.9796,
          32.89595
         ],
         "line": {
          "color": "red",
          "width": 1
         },
         "locationmode": "USA-states",
         "lon": [
          -87.90446,
          -97.0372
         ],
         "mode": "lines",
         "type": "scattergeo"
        },
        {
         "lat": [
          41.9796,
          32.89595
         ],
         "line": {
          "color": "red",
          "width": 1
         },
         "locationmode": "USA-states",
         "lon": [
          -87.90446,
          -97.0372
         ],
         "mode": "lines",
         "type": "scattergeo"
        },
        {
         "lat": [
          41.9796,
          32.89595
         ],
         "line": {
          "color": "red",
          "width": 1
         },
         "locationmode": "USA-states",
         "lon": [
          -87.90446,
          -97.0372
         ],
         "mode": "lines",
         "type": "scattergeo"
        },
        {
         "lat": [
          41.9796,
          32.89595
         ],
         "line": {
          "color": "red",
          "width": 1
         },
         "locationmode": "USA-states",
         "lon": [
          -87.90446,
          -97.0372
         ],
         "mode": "lines",
         "type": "scattergeo"
        },
        {
         "lat": [
          41.9796,
          32.89595
         ],
         "line": {
          "color": "red",
          "width": 1
         },
         "locationmode": "USA-states",
         "lon": [
          -87.90446,
          -97.0372
         ],
         "mode": "lines",
         "type": "scattergeo"
        },
        {
         "lat": [
          41.9796,
          32.89595
         ],
         "line": {
          "color": "red",
          "width": 1
         },
         "locationmode": "USA-states",
         "lon": [
          -87.90446,
          -97.0372
         ],
         "mode": "lines",
         "type": "scattergeo"
        },
        {
         "lat": [
          47.44898,
          32.89595
         ],
         "line": {
          "color": "red",
          "width": 1
         },
         "locationmode": "USA-states",
         "lon": [
          -122.30931,
          -97.0372
         ],
         "mode": "lines",
         "type": "scattergeo"
        },
        {
         "lat": [
          33.94254,
          32.89595
         ],
         "line": {
          "color": "red",
          "width": 1
         },
         "locationmode": "USA-states",
         "lon": [
          -118.40807,
          -97.0372
         ],
         "mode": "lines",
         "type": "scattergeo"
        },
        {
         "lat": [
          33.94254,
          32.89595
         ],
         "line": {
          "color": "red",
          "width": 1
         },
         "locationmode": "USA-states",
         "lon": [
          -118.40807,
          -97.0372
         ],
         "mode": "lines",
         "type": "scattergeo"
        },
        {
         "lat": [
          33.94254,
          32.89595
         ],
         "line": {
          "color": "red",
          "width": 1
         },
         "locationmode": "USA-states",
         "lon": [
          -118.40807,
          -97.0372
         ],
         "mode": "lines",
         "type": "scattergeo"
        },
        {
         "lat": [
          33.94254,
          32.89595
         ],
         "line": {
          "color": "red",
          "width": 1
         },
         "locationmode": "USA-states",
         "lon": [
          -118.40807,
          -97.0372
         ],
         "mode": "lines",
         "type": "scattergeo"
        },
        {
         "lat": [
          44.04532,
          32.89595
         ],
         "line": {
          "color": "red",
          "width": 1
         },
         "locationmode": "USA-states",
         "lon": [
          -103.05737,
          -97.0372
         ],
         "mode": "lines",
         "type": "scattergeo"
        },
        {
         "lat": [
          40.78839,
          32.89595
         ],
         "line": {
          "color": "red",
          "width": 1
         },
         "locationmode": "USA-states",
         "lon": [
          -111.97777,
          -97.0372
         ],
         "mode": "lines",
         "type": "scattergeo"
        },
        {
         "lat": [
          40.78839,
          32.89595
         ],
         "line": {
          "color": "red",
          "width": 1
         },
         "locationmode": "USA-states",
         "lon": [
          -111.97777,
          -97.0372
         ],
         "mode": "lines",
         "type": "scattergeo"
        },
        {
         "lat": [
          32.44663,
          32.89595
         ],
         "line": {
          "color": "red",
          "width": 1
         },
         "locationmode": "USA-states",
         "lon": [
          -93.8256,
          -97.0372
         ],
         "mode": "lines",
         "type": "scattergeo"
        },
        {
         "lat": [
          32.44663,
          32.89595
         ],
         "line": {
          "color": "red",
          "width": 1
         },
         "locationmode": "USA-states",
         "lon": [
          -93.8256,
          -97.0372
         ],
         "mode": "lines",
         "type": "scattergeo"
        },
        {
         "lat": [
          35.81249,
          32.89595
         ],
         "line": {
          "color": "red",
          "width": 1
         },
         "locationmode": "USA-states",
         "lon": [
          -83.99286,
          -97.0372
         ],
         "mode": "lines",
         "type": "scattergeo"
        },
        {
         "lat": [
          35.81249,
          32.89595
         ],
         "line": {
          "color": "red",
          "width": 1
         },
         "locationmode": "USA-states",
         "lon": [
          -83.99286,
          -97.0372
         ],
         "mode": "lines",
         "type": "scattergeo"
        },
        {
         "lat": [
          33.43417,
          32.89595
         ],
         "line": {
          "color": "red",
          "width": 1
         },
         "locationmode": "USA-states",
         "lon": [
          -112.00806,
          -97.0372
         ],
         "mode": "lines",
         "type": "scattergeo"
        },
        {
         "lat": [
          33.43417,
          32.89595
         ],
         "line": {
          "color": "red",
          "width": 1
         },
         "locationmode": "USA-states",
         "lon": [
          -112.00806,
          -97.0372
         ],
         "mode": "lines",
         "type": "scattergeo"
        },
        {
         "lat": [
          33.43417,
          32.89595
         ],
         "line": {
          "color": "red",
          "width": 1
         },
         "locationmode": "USA-states",
         "lon": [
          -112.00806,
          -97.0372
         ],
         "mode": "lines",
         "type": "scattergeo"
        },
        {
         "lat": [
          33.43417,
          32.89595
         ],
         "line": {
          "color": "red",
          "width": 1
         },
         "locationmode": "USA-states",
         "lon": [
          -112.00806,
          -97.0372
         ],
         "mode": "lines",
         "type": "scattergeo"
        },
        {
         "lat": [
          36.19837,
          32.89595
         ],
         "line": {
          "color": "red",
          "width": 1
         },
         "locationmode": "USA-states",
         "lon": [
          -95.88824,
          -97.0372
         ],
         "mode": "lines",
         "type": "scattergeo"
        },
        {
         "lat": [
          32.12758,
          32.89595
         ],
         "line": {
          "color": "red",
          "width": 1
         },
         "locationmode": "USA-states",
         "lon": [
          -81.20214,
          -97.0372
         ],
         "mode": "lines",
         "type": "scattergeo"
        },
        {
         "lat": [
          26.53617,
          32.89595
         ],
         "line": {
          "color": "red",
          "width": 1
         },
         "locationmode": "USA-states",
         "lon": [
          -81.75517,
          -97.0372
         ],
         "mode": "lines",
         "type": "scattergeo"
        },
        {
         "lat": [
          38.74769,
          32.89595
         ],
         "line": {
          "color": "red",
          "width": 1
         },
         "locationmode": "USA-states",
         "lon": [
          -90.35999,
          -97.0372
         ],
         "mode": "lines",
         "type": "scattergeo"
        },
        {
         "lat": [
          33.66364,
          32.89595
         ],
         "line": {
          "color": "red",
          "width": 1
         },
         "locationmode": "USA-states",
         "lon": [
          -101.82278,
          -97.0372
         ],
         "mode": "lines",
         "type": "scattergeo"
        },
        {
         "lat": [
          33.67566,
          32.89595
         ],
         "line": {
          "color": "red",
          "width": 1
         },
         "locationmode": "USA-states",
         "lon": [
          -117.86822,
          -97.0372
         ],
         "mode": "lines",
         "type": "scattergeo"
        },
        {
         "lat": [
          33.67566,
          32.89595
         ],
         "line": {
          "color": "red",
          "width": 1
         },
         "locationmode": "USA-states",
         "lon": [
          -117.86822,
          -97.0372
         ],
         "mode": "lines",
         "type": "scattergeo"
        },
        {
         "lat": [
          41.88459,
          32.89595
         ],
         "line": {
          "color": "red",
          "width": 1
         },
         "locationmode": "USA-states",
         "lon": [
          -91.71087,
          -97.0372
         ],
         "mode": "lines",
         "type": "scattergeo"
        },
        {
         "lat": [
          35.21401,
          32.89595
         ],
         "line": {
          "color": "red",
          "width": 1
         },
         "locationmode": "USA-states",
         "lon": [
          -80.94313,
          -97.0372
         ],
         "mode": "lines",
         "type": "scattergeo"
        },
        {
         "lat": [
          35.21401,
          32.89595
         ],
         "line": {
          "color": "red",
          "width": 1
         },
         "locationmode": "USA-states",
         "lon": [
          -80.94313,
          -97.0372
         ],
         "mode": "lines",
         "type": "scattergeo"
        },
        {
         "lat": [
          20.89865,
          32.89595
         ],
         "line": {
          "color": "red",
          "width": 1
         },
         "locationmode": "USA-states",
         "lon": [
          -156.43046,
          -97.0372
         ],
         "mode": "lines",
         "type": "scattergeo"
        },
        {
         "lat": [
          37.36186,
          32.89595
         ],
         "line": {
          "color": "red",
          "width": 1
         },
         "locationmode": "USA-states",
         "lon": [
          -121.92901,
          -97.0372
         ],
         "mode": "lines",
         "type": "scattergeo"
        },
        {
         "lat": [
          37.36186,
          32.89595
         ],
         "line": {
          "color": "red",
          "width": 1
         },
         "locationmode": "USA-states",
         "lon": [
          -121.92901,
          -97.0372
         ],
         "mode": "lines",
         "type": "scattergeo"
        },
        {
         "lat": [
          40.48118,
          32.89595
         ],
         "line": {
          "color": "red",
          "width": 1
         },
         "locationmode": "USA-states",
         "lon": [
          -107.21766,
          -97.0372
         ],
         "mode": "lines",
         "type": "scattergeo"
        },
        {
         "lat": [
          40.48118,
          32.89595
         ],
         "line": {
          "color": "red",
          "width": 1
         },
         "locationmode": "USA-states",
         "lon": [
          -107.21766,
          -97.0372
         ],
         "mode": "lines",
         "type": "scattergeo"
        },
        {
         "lat": [
          29.99339,
          32.89595
         ],
         "line": {
          "color": "red",
          "width": 1
         },
         "locationmode": "USA-states",
         "lon": [
          -90.25803,
          -97.0372
         ],
         "mode": "lines",
         "type": "scattergeo"
        },
        {
         "lat": [
          29.95083,
          32.89595
         ],
         "line": {
          "color": "red",
          "width": 1
         },
         "locationmode": "USA-states",
         "lon": [
          -94.02069,
          -97.0372
         ],
         "mode": "lines",
         "type": "scattergeo"
        },
        {
         "lat": [
          32.38486,
          32.89595
         ],
         "line": {
          "color": "red",
          "width": 1
         },
         "locationmode": "USA-states",
         "lon": [
          -94.71171,
          -97.0372
         ],
         "mode": "lines",
         "type": "scattergeo"
        },
        {
         "lat": [
          35.04242,
          32.89595
         ],
         "line": {
          "color": "red",
          "width": 1
         },
         "locationmode": "USA-states",
         "lon": [
          -89.97667,
          -97.0372
         ],
         "mode": "lines",
         "type": "scattergeo"
        },
        {
         "lat": [
          30.69142,
          32.89595
         ],
         "line": {
          "color": "red",
          "width": 1
         },
         "locationmode": "USA-states",
         "lon": [
          -88.24283,
          -97.0372
         ],
         "mode": "lines",
         "type": "scattergeo"
        },
        {
         "lat": [
          30.69142,
          32.89595
         ],
         "line": {
          "color": "red",
          "width": 1
         },
         "locationmode": "USA-states",
         "lon": [
          -88.24283,
          -97.0372
         ],
         "mode": "lines",
         "type": "scattergeo"
        },
        {
         "lat": [
          43.58135,
          32.89595
         ],
         "line": {
          "color": "red",
          "width": 1
         },
         "locationmode": "USA-states",
         "lon": [
          -96.7417,
          -97.0372
         ],
         "mode": "lines",
         "type": "scattergeo"
        },
        {
         "lat": [
          43.58135,
          32.89595
         ],
         "line": {
          "color": "red",
          "width": 1
         },
         "locationmode": "USA-states",
         "lon": [
          -96.7417,
          -97.0372
         ],
         "mode": "lines",
         "type": "scattergeo"
        },
        {
         "lat": [
          38.80581,
          32.89595
         ],
         "line": {
          "color": "red",
          "width": 1
         },
         "locationmode": "USA-states",
         "lon": [
          -104.70025,
          -97.0372
         ],
         "mode": "lines",
         "type": "scattergeo"
        },
        {
         "lat": [
          39.64257,
          32.89595
         ],
         "line": {
          "color": "red",
          "width": 1
         },
         "locationmode": "USA-states",
         "lon": [
          -106.9177,
          -97.0372
         ],
         "mode": "lines",
         "type": "scattergeo"
        },
        {
         "lat": [
          39.64257,
          32.89595
         ],
         "line": {
          "color": "red",
          "width": 1
         },
         "locationmode": "USA-states",
         "lon": [
          -106.9177,
          -97.0372
         ],
         "mode": "lines",
         "type": "scattergeo"
        },
        {
         "lat": [
          38.53396,
          32.89595
         ],
         "line": {
          "color": "red",
          "width": 1
         },
         "locationmode": "USA-states",
         "lon": [
          -106.93318,
          -97.0372
         ],
         "mode": "lines",
         "type": "scattergeo"
        },
        {
         "lat": [
          27.77036,
          32.89595
         ],
         "line": {
          "color": "red",
          "width": 1
         },
         "locationmode": "USA-states",
         "lon": [
          -97.50122,
          -97.0372
         ],
         "mode": "lines",
         "type": "scattergeo"
        },
        {
         "lat": [
          36.28187,
          32.89595
         ],
         "line": {
          "color": "red",
          "width": 1
         },
         "locationmode": "USA-states",
         "lon": [
          -94.30681,
          -97.0372
         ],
         "mode": "lines",
         "type": "scattergeo"
        },
        {
         "lat": [
          36.12448,
          32.89595
         ],
         "line": {
          "color": "red",
          "width": 1
         },
         "locationmode": "USA-states",
         "lon": [
          -86.67818,
          -97.0372
         ],
         "mode": "lines",
         "type": "scattergeo"
        },
        {
         "lat": [
          30.58859,
          32.89595
         ],
         "line": {
          "color": "red",
          "width": 1
         },
         "locationmode": "USA-states",
         "lon": [
          -96.36382,
          -97.0372
         ],
         "mode": "lines",
         "type": "scattergeo"
        },
        {
         "lat": [
          42.88082,
          32.89595
         ],
         "line": {
          "color": "red",
          "width": 1
         },
         "locationmode": "USA-states",
         "lon": [
          -85.52277,
          -97.0372
         ],
         "mode": "lines",
         "type": "scattergeo"
        },
        {
         "lat": [
          37.15152,
          32.89595
         ],
         "line": {
          "color": "red",
          "width": 1
         },
         "locationmode": "USA-states",
         "lon": [
          -107.75377,
          -97.0372
         ],
         "mode": "lines",
         "type": "scattergeo"
        },
        {
         "lat": [
          30.48325,
          32.89595
         ],
         "line": {
          "color": "red",
          "width": 1
         },
         "locationmode": "USA-states",
         "lon": [
          -86.5254,
          -97.0372
         ],
         "mode": "lines",
         "type": "scattergeo"
        },
        {
         "lat": [
          35.21937,
          32.89595
         ],
         "line": {
          "color": "red",
          "width": 1
         },
         "locationmode": "USA-states",
         "lon": [
          -101.70593,
          -97.0372
         ],
         "mode": "lines",
         "type": "scattergeo"
        },
        {
         "lat": [
          30.53316,
          32.89595
         ],
         "line": {
          "color": "red",
          "width": 1
         },
         "locationmode": "USA-states",
         "lon": [
          -91.14963,
          -97.0372
         ],
         "mode": "lines",
         "type": "scattergeo"
        },
        {
         "lat": [
          31.46715,
          32.89595
         ],
         "line": {
          "color": "red",
          "width": 1
         },
         "locationmode": "USA-states",
         "lon": [
          -89.33706,
          -97.0372
         ],
         "mode": "lines",
         "type": "scattergeo"
        },
        {
         "lat": [
          32.51087,
          32.89595
         ],
         "line": {
          "color": "red",
          "width": 1
         },
         "locationmode": "USA-states",
         "lon": [
          -92.03769,
          -97.0372
         ],
         "mode": "lines",
         "type": "scattergeo"
        },
        {
         "lat": [
          38.03799,
          32.89595
         ],
         "line": {
          "color": "red",
          "width": 1
         },
         "locationmode": "USA-states",
         "lon": [
          -87.53063,
          -97.0372
         ],
         "mode": "lines",
         "type": "scattergeo"
        },
        {
         "lat": [
          37.15181,
          32.89595
         ],
         "line": {
          "color": "red",
          "width": 1
         },
         "locationmode": "USA-states",
         "lon": [
          -94.49827,
          -97.0372
         ],
         "mode": "lines",
         "type": "scattergeo"
        },
        {
         "lat": [
          31.0649,
          32.89595
         ],
         "line": {
          "color": "red",
          "width": 1
         },
         "locationmode": "USA-states",
         "lon": [
          -97.8278,
          -97.0372
         ],
         "mode": "lines",
         "type": "scattergeo"
        },
        {
         "lat": [
          31.0649,
          32.89595
         ],
         "line": {
          "color": "red",
          "width": 1
         },
         "locationmode": "USA-states",
         "lon": [
          -97.8278,
          -97.0372
         ],
         "mode": "lines",
         "type": "scattergeo"
        },
        {
         "lat": [
          32.30064,
          32.89595
         ],
         "line": {
          "color": "red",
          "width": 1
         },
         "locationmode": "USA-states",
         "lon": [
          -86.39398,
          -97.0372
         ],
         "mode": "lines",
         "type": "scattergeo"
        },
        {
         "lat": [
          34.89567,
          32.89595
         ],
         "line": {
          "color": "red",
          "width": 1
         },
         "locationmode": "USA-states",
         "lon": [
          -82.21886,
          -97.0372
         ],
         "mode": "lines",
         "type": "scattergeo"
        },
        {
         "lat": [
          35.03527,
          32.89595
         ],
         "line": {
          "color": "red",
          "width": 1
         },
         "locationmode": "USA-states",
         "lon": [
          -85.20379,
          -97.0372
         ],
         "mode": "lines",
         "type": "scattergeo"
        },
        {
         "lat": [
          35.33659,
          32.89595
         ],
         "line": {
          "color": "red",
          "width": 1
         },
         "locationmode": "USA-states",
         "lon": [
          -94.36744,
          -97.0372
         ],
         "mode": "lines",
         "type": "scattergeo"
        },
        {
         "lat": [
          25.90683,
          32.89595
         ],
         "line": {
          "color": "red",
          "width": 1
         },
         "locationmode": "USA-states",
         "lon": [
          -97.42586,
          -97.0372
         ],
         "mode": "lines",
         "type": "scattergeo"
        },
        {
         "lat": [
          36.08036,
          44.88055
         ],
         "line": {
          "color": "red",
          "width": 1
         },
         "locationmode": "USA-states",
         "lon": [
          -115.15233,
          -93.21692
         ],
         "mode": "lines",
         "type": "scattergeo"
        },
        {
         "lat": [
          39.85841,
          44.88055
         ],
         "line": {
          "color": "red",
          "width": 1
         },
         "locationmode": "USA-states",
         "lon": [
          -104.667,
          -93.21692
         ],
         "mode": "lines",
         "type": "scattergeo"
        },
        {
         "lat": [
          39.85841,
          44.88055
         ],
         "line": {
          "color": "red",
          "width": 1
         },
         "locationmode": "USA-states",
         "lon": [
          -104.667,
          -93.21692
         ],
         "mode": "lines",
         "type": "scattergeo"
        },
        {
         "lat": [
          39.85841,
          44.88055
         ],
         "line": {
          "color": "red",
          "width": 1
         },
         "locationmode": "USA-states",
         "lon": [
          -104.667,
          -93.21692
         ],
         "mode": "lines",
         "type": "scattergeo"
        },
        {
         "lat": [
          40.63975,
          44.88055
         ],
         "line": {
          "color": "red",
          "width": 1
         },
         "locationmode": "USA-states",
         "lon": [
          -73.77893,
          -93.21692
         ],
         "mode": "lines",
         "type": "scattergeo"
        },
        {
         "lat": [
          40.63975,
          44.88055
         ],
         "line": {
          "color": "red",
          "width": 1
         },
         "locationmode": "USA-states",
         "lon": [
          -73.77893,
          -93.21692
         ],
         "mode": "lines",
         "type": "scattergeo"
        },
        {
         "lat": [
          42.94722,
          44.88055
         ],
         "line": {
          "color": "red",
          "width": 1
         },
         "locationmode": "USA-states",
         "lon": [
          -87.89658,
          -93.21692
         ],
         "mode": "lines",
         "type": "scattergeo"
        },
        {
         "lat": [
          39.1754,
          44.88055
         ],
         "line": {
          "color": "red",
          "width": 1
         },
         "locationmode": "USA-states",
         "lon": [
          -76.6682,
          -93.21692
         ],
         "mode": "lines",
         "type": "scattergeo"
        },
        {
         "lat": [
          33.64044,
          44.88055
         ],
         "line": {
          "color": "red",
          "width": 1
         },
         "locationmode": "USA-states",
         "lon": [
          -84.42694,
          -93.21692
         ],
         "mode": "lines",
         "type": "scattergeo"
        },
        {
         "lat": [
          32.89595,
          44.88055
         ],
         "line": {
          "color": "red",
          "width": 1
         },
         "locationmode": "USA-states",
         "lon": [
          -97.0372,
          -93.21692
         ],
         "mode": "lines",
         "type": "scattergeo"
        },
        {
         "lat": [
          32.89595,
          44.88055
         ],
         "line": {
          "color": "red",
          "width": 1
         },
         "locationmode": "USA-states",
         "lon": [
          -97.0372,
          -93.21692
         ],
         "mode": "lines",
         "type": "scattergeo"
        },
        {
         "lat": [
          25.79325,
          44.88055
         ],
         "line": {
          "color": "red",
          "width": 1
         },
         "locationmode": "USA-states",
         "lon": [
          -80.29056,
          -93.21692
         ],
         "mode": "lines",
         "type": "scattergeo"
        },
        {
         "lat": [
          41.9796,
          44.88055
         ],
         "line": {
          "color": "red",
          "width": 1
         },
         "locationmode": "USA-states",
         "lon": [
          -87.90446,
          -93.21692
         ],
         "mode": "lines",
         "type": "scattergeo"
        },
        {
         "lat": [
          41.9796,
          44.88055
         ],
         "line": {
          "color": "red",
          "width": 1
         },
         "locationmode": "USA-states",
         "lon": [
          -87.90446,
          -93.21692
         ],
         "mode": "lines",
         "type": "scattergeo"
        },
        {
         "lat": [
          33.94254,
          44.88055
         ],
         "line": {
          "color": "red",
          "width": 1
         },
         "locationmode": "USA-states",
         "lon": [
          -118.40807,
          -93.21692
         ],
         "mode": "lines",
         "type": "scattergeo"
        },
        {
         "lat": [
          40.78839,
          44.88055
         ],
         "line": {
          "color": "red",
          "width": 1
         },
         "locationmode": "USA-states",
         "lon": [
          -111.97777,
          -93.21692
         ],
         "mode": "lines",
         "type": "scattergeo"
        },
        {
         "lat": [
          33.43417,
          44.88055
         ],
         "line": {
          "color": "red",
          "width": 1
         },
         "locationmode": "USA-states",
         "lon": [
          -112.00806,
          -93.21692
         ],
         "mode": "lines",
         "type": "scattergeo"
        },
        {
         "lat": [
          35.21401,
          44.88055
         ],
         "line": {
          "color": "red",
          "width": 1
         },
         "locationmode": "USA-states",
         "lon": [
          -80.94313,
          -93.21692
         ],
         "mode": "lines",
         "type": "scattergeo"
        },
        {
         "lat": [
          36.08036,
          31.80667
         ],
         "line": {
          "color": "red",
          "width": 1
         },
         "locationmode": "USA-states",
         "lon": [
          -115.15233,
          -106.37781
         ],
         "mode": "lines",
         "type": "scattergeo"
        },
        {
         "lat": [
          32.89595,
          31.80667
         ],
         "line": {
          "color": "red",
          "width": 1
         },
         "locationmode": "USA-states",
         "lon": [
          -97.0372,
          -106.37781
         ],
         "mode": "lines",
         "type": "scattergeo"
        },
        {
         "lat": [
          29.53369,
          31.80667
         ],
         "line": {
          "color": "red",
          "width": 1
         },
         "locationmode": "USA-states",
         "lon": [
          -98.46978,
          -106.37781
         ],
         "mode": "lines",
         "type": "scattergeo"
        },
        {
         "lat": [
          41.9796,
          31.80667
         ],
         "line": {
          "color": "red",
          "width": 1
         },
         "locationmode": "USA-states",
         "lon": [
          -87.90446,
          -106.37781
         ],
         "mode": "lines",
         "type": "scattergeo"
        },
        {
         "lat": [
          33.94254,
          31.80667
         ],
         "line": {
          "color": "red",
          "width": 1
         },
         "locationmode": "USA-states",
         "lon": [
          -118.40807,
          -106.37781
         ],
         "mode": "lines",
         "type": "scattergeo"
        },
        {
         "lat": [
          33.43417,
          31.80667
         ],
         "line": {
          "color": "red",
          "width": 1
         },
         "locationmode": "USA-states",
         "lon": [
          -112.00806,
          -106.37781
         ],
         "mode": "lines",
         "type": "scattergeo"
        },
        {
         "lat": [
          33.43417,
          31.80667
         ],
         "line": {
          "color": "red",
          "width": 1
         },
         "locationmode": "USA-states",
         "lon": [
          -112.00806,
          -106.37781
         ],
         "mode": "lines",
         "type": "scattergeo"
        },
        {
         "lat": [
          32.84711,
          31.80667
         ],
         "line": {
          "color": "red",
          "width": 1
         },
         "locationmode": "USA-states",
         "lon": [
          -96.85177,
          -106.37781
         ],
         "mode": "lines",
         "type": "scattergeo"
        },
        {
         "lat": [
          36.08036,
          39.85841
         ],
         "line": {
          "color": "red",
          "width": 1
         },
         "locationmode": "USA-states",
         "lon": [
          -115.15233,
          -104.667
         ],
         "mode": "lines",
         "type": "scattergeo"
        },
        {
         "lat": [
          36.08036,
          39.85841
         ],
         "line": {
          "color": "red",
          "width": 1
         },
         "locationmode": "USA-states",
         "lon": [
          -115.15233,
          -104.667
         ],
         "mode": "lines",
         "type": "scattergeo"
        },
        {
         "lat": [
          36.08036,
          39.85841
         ],
         "line": {
          "color": "red",
          "width": 1
         },
         "locationmode": "USA-states",
         "lon": [
          -115.15233,
          -104.667
         ],
         "mode": "lines",
         "type": "scattergeo"
        },
        {
         "lat": [
          45.58872,
          39.85841
         ],
         "line": {
          "color": "red",
          "width": 1
         },
         "locationmode": "USA-states",
         "lon": [
          -122.5975,
          -104.667
         ],
         "mode": "lines",
         "type": "scattergeo"
        },
        {
         "lat": [
          45.58872,
          39.85841
         ],
         "line": {
          "color": "red",
          "width": 1
         },
         "locationmode": "USA-states",
         "lon": [
          -122.5975,
          -104.667
         ],
         "mode": "lines",
         "type": "scattergeo"
        },
        {
         "lat": [
          45.58872,
          39.85841
         ],
         "line": {
          "color": "red",
          "width": 1
         },
         "locationmode": "USA-states",
         "lon": [
          -122.5975,
          -104.667
         ],
         "mode": "lines",
         "type": "scattergeo"
        },
        {
         "lat": [
          29.98047,
          39.85841
         ],
         "line": {
          "color": "red",
          "width": 1
         },
         "locationmode": "USA-states",
         "lon": [
          -95.33972,
          -104.667
         ],
         "mode": "lines",
         "type": "scattergeo"
        },
        {
         "lat": [
          29.98047,
          39.85841
         ],
         "line": {
          "color": "red",
          "width": 1
         },
         "locationmode": "USA-states",
         "lon": [
          -95.33972,
          -104.667
         ],
         "mode": "lines",
         "type": "scattergeo"
        },
        {
         "lat": [
          29.98047,
          39.85841
         ],
         "line": {
          "color": "red",
          "width": 1
         },
         "locationmode": "USA-states",
         "lon": [
          -95.33972,
          -104.667
         ],
         "mode": "lines",
         "type": "scattergeo"
        },
        {
         "lat": [
          29.98047,
          39.85841
         ],
         "line": {
          "color": "red",
          "width": 1
         },
         "locationmode": "USA-states",
         "lon": [
          -95.33972,
          -104.667
         ],
         "mode": "lines",
         "type": "scattergeo"
        },
        {
         "lat": [
          37.619,
          39.85841
         ],
         "line": {
          "color": "red",
          "width": 1
         },
         "locationmode": "USA-states",
         "lon": [
          -122.37484,
          -104.667
         ],
         "mode": "lines",
         "type": "scattergeo"
        },
        {
         "lat": [
          37.619,
          39.85841
         ],
         "line": {
          "color": "red",
          "width": 1
         },
         "locationmode": "USA-states",
         "lon": [
          -122.37484,
          -104.667
         ],
         "mode": "lines",
         "type": "scattergeo"
        },
        {
         "lat": [
          37.619,
          39.85841
         ],
         "line": {
          "color": "red",
          "width": 1
         },
         "locationmode": "USA-states",
         "lon": [
          -122.37484,
          -104.667
         ],
         "mode": "lines",
         "type": "scattergeo"
        },
        {
         "lat": [
          37.619,
          39.85841
         ],
         "line": {
          "color": "red",
          "width": 1
         },
         "locationmode": "USA-states",
         "lon": [
          -122.37484,
          -104.667
         ],
         "mode": "lines",
         "type": "scattergeo"
        },
        {
         "lat": [
          37.619,
          39.85841
         ],
         "line": {
          "color": "red",
          "width": 1
         },
         "locationmode": "USA-states",
         "lon": [
          -122.37484,
          -104.667
         ],
         "mode": "lines",
         "type": "scattergeo"
        },
        {
         "lat": [
          37.619,
          39.85841
         ],
         "line": {
          "color": "red",
          "width": 1
         },
         "locationmode": "USA-states",
         "lon": [
          -122.37484,
          -104.667
         ],
         "mode": "lines",
         "type": "scattergeo"
        },
        {
         "lat": [
          37.619,
          39.85841
         ],
         "line": {
          "color": "red",
          "width": 1
         },
         "locationmode": "USA-states",
         "lon": [
          -122.37484,
          -104.667
         ],
         "mode": "lines",
         "type": "scattergeo"
        },
        {
         "lat": [
          37.619,
          39.85841
         ],
         "line": {
          "color": "red",
          "width": 1
         },
         "locationmode": "USA-states",
         "lon": [
          -122.37484,
          -104.667
         ],
         "mode": "lines",
         "type": "scattergeo"
        },
        {
         "lat": [
          38.69542,
          39.85841
         ],
         "line": {
          "color": "red",
          "width": 1
         },
         "locationmode": "USA-states",
         "lon": [
          -121.59077,
          -104.667
         ],
         "mode": "lines",
         "type": "scattergeo"
        },
        {
         "lat": [
          38.69542,
          39.85841
         ],
         "line": {
          "color": "red",
          "width": 1
         },
         "locationmode": "USA-states",
         "lon": [
          -121.59077,
          -104.667
         ],
         "mode": "lines",
         "type": "scattergeo"
        },
        {
         "lat": [
          38.69542,
          39.85841
         ],
         "line": {
          "color": "red",
          "width": 1
         },
         "locationmode": "USA-states",
         "lon": [
          -121.59077,
          -104.667
         ],
         "mode": "lines",
         "type": "scattergeo"
        },
        {
         "lat": [
          38.69542,
          39.85841
         ],
         "line": {
          "color": "red",
          "width": 1
         },
         "locationmode": "USA-states",
         "lon": [
          -121.59077,
          -104.667
         ],
         "mode": "lines",
         "type": "scattergeo"
        },
        {
         "lat": [
          38.69542,
          39.85841
         ],
         "line": {
          "color": "red",
          "width": 1
         },
         "locationmode": "USA-states",
         "lon": [
          -121.59077,
          -104.667
         ],
         "mode": "lines",
         "type": "scattergeo"
        },
        {
         "lat": [
          42.94722,
          39.85841
         ],
         "line": {
          "color": "red",
          "width": 1
         },
         "locationmode": "USA-states",
         "lon": [
          -87.89658,
          -104.667
         ],
         "mode": "lines",
         "type": "scattergeo"
        },
        {
         "lat": [
          42.94722,
          39.85841
         ],
         "line": {
          "color": "red",
          "width": 1
         },
         "locationmode": "USA-states",
         "lon": [
          -87.89658,
          -104.667
         ],
         "mode": "lines",
         "type": "scattergeo"
        },
        {
         "lat": [
          41.41089,
          39.85841
         ],
         "line": {
          "color": "red",
          "width": 1
         },
         "locationmode": "USA-states",
         "lon": [
          -81.8494,
          -104.667
         ],
         "mode": "lines",
         "type": "scattergeo"
        },
        {
         "lat": [
          35.4336,
          39.85841
         ],
         "line": {
          "color": "red",
          "width": 1
         },
         "locationmode": "USA-states",
         "lon": [
          -119.05677,
          -104.667
         ],
         "mode": "lines",
         "type": "scattergeo"
        },
        {
         "lat": [
          41.30252,
          39.85841
         ],
         "line": {
          "color": "red",
          "width": 1
         },
         "locationmode": "USA-states",
         "lon": [
          -95.89417,
          -104.667
         ],
         "mode": "lines",
         "type": "scattergeo"
        },
        {
         "lat": [
          35.04022,
          39.85841
         ],
         "line": {
          "color": "red",
          "width": 1
         },
         "locationmode": "USA-states",
         "lon": [
          -106.60919,
          -104.667
         ],
         "mode": "lines",
         "type": "scattergeo"
        },
        {
         "lat": [
          39.1754,
          39.85841
         ],
         "line": {
          "color": "red",
          "width": 1
         },
         "locationmode": "USA-states",
         "lon": [
          -76.6682,
          -104.667
         ],
         "mode": "lines",
         "type": "scattergeo"
        },
        {
         "lat": [
          35.39309,
          39.85841
         ],
         "line": {
          "color": "red",
          "width": 1
         },
         "locationmode": "USA-states",
         "lon": [
          -97.60073,
          -104.667
         ],
         "mode": "lines",
         "type": "scattergeo"
        },
        {
         "lat": [
          33.64044,
          39.85841
         ],
         "line": {
          "color": "red",
          "width": 1
         },
         "locationmode": "USA-states",
         "lon": [
          -84.42694,
          -104.667
         ],
         "mode": "lines",
         "type": "scattergeo"
        },
        {
         "lat": [
          33.64044,
          39.85841
         ],
         "line": {
          "color": "red",
          "width": 1
         },
         "locationmode": "USA-states",
         "lon": [
          -84.42694,
          -104.667
         ],
         "mode": "lines",
         "type": "scattergeo"
        },
        {
         "lat": [
          43.56444,
          39.85841
         ],
         "line": {
          "color": "red",
          "width": 1
         },
         "locationmode": "USA-states",
         "lon": [
          -116.22278,
          -104.667
         ],
         "mode": "lines",
         "type": "scattergeo"
        },
        {
         "lat": [
          32.11608,
          39.85841
         ],
         "line": {
          "color": "red",
          "width": 1
         },
         "locationmode": "USA-states",
         "lon": [
          -110.94103,
          -104.667
         ],
         "mode": "lines",
         "type": "scattergeo"
        },
        {
         "lat": [
          32.11608,
          39.85841
         ],
         "line": {
          "color": "red",
          "width": 1
         },
         "locationmode": "USA-states",
         "lon": [
          -110.94103,
          -104.667
         ],
         "mode": "lines",
         "type": "scattergeo"
        },
        {
         "lat": [
          32.11608,
          39.85841
         ],
         "line": {
          "color": "red",
          "width": 1
         },
         "locationmode": "USA-states",
         "lon": [
          -110.94103,
          -104.667
         ],
         "mode": "lines",
         "type": "scattergeo"
        },
        {
         "lat": [
          32.11608,
          39.85841
         ],
         "line": {
          "color": "red",
          "width": 1
         },
         "locationmode": "USA-states",
         "lon": [
          -110.94103,
          -104.667
         ],
         "mode": "lines",
         "type": "scattergeo"
        },
        {
         "lat": [
          32.89595,
          39.85841
         ],
         "line": {
          "color": "red",
          "width": 1
         },
         "locationmode": "USA-states",
         "lon": [
          -97.0372,
          -104.667
         ],
         "mode": "lines",
         "type": "scattergeo"
        },
        {
         "lat": [
          32.89595,
          39.85841
         ],
         "line": {
          "color": "red",
          "width": 1
         },
         "locationmode": "USA-states",
         "lon": [
          -97.0372,
          -104.667
         ],
         "mode": "lines",
         "type": "scattergeo"
        },
        {
         "lat": [
          32.89595,
          39.85841
         ],
         "line": {
          "color": "red",
          "width": 1
         },
         "locationmode": "USA-states",
         "lon": [
          -97.0372,
          -104.667
         ],
         "mode": "lines",
         "type": "scattergeo"
        },
        {
         "lat": [
          32.89595,
          39.85841
         ],
         "line": {
          "color": "red",
          "width": 1
         },
         "locationmode": "USA-states",
         "lon": [
          -97.0372,
          -104.667
         ],
         "mode": "lines",
         "type": "scattergeo"
        },
        {
         "lat": [
          32.89595,
          39.85841
         ],
         "line": {
          "color": "red",
          "width": 1
         },
         "locationmode": "USA-states",
         "lon": [
          -97.0372,
          -104.667
         ],
         "mode": "lines",
         "type": "scattergeo"
        },
        {
         "lat": [
          32.89595,
          39.85841
         ],
         "line": {
          "color": "red",
          "width": 1
         },
         "locationmode": "USA-states",
         "lon": [
          -97.0372,
          -104.667
         ],
         "mode": "lines",
         "type": "scattergeo"
        },
        {
         "lat": [
          40.6925,
          39.85841
         ],
         "line": {
          "color": "red",
          "width": 1
         },
         "locationmode": "USA-states",
         "lon": [
          -74.16866,
          -104.667
         ],
         "mode": "lines",
         "type": "scattergeo"
        },
        {
         "lat": [
          40.6925,
          39.85841
         ],
         "line": {
          "color": "red",
          "width": 1
         },
         "locationmode": "USA-states",
         "lon": [
          -74.16866,
          -104.667
         ],
         "mode": "lines",
         "type": "scattergeo"
        },
        {
         "lat": [
          39.99799,
          39.85841
         ],
         "line": {
          "color": "red",
          "width": 1
         },
         "locationmode": "USA-states",
         "lon": [
          -82.89188,
          -104.667
         ],
         "mode": "lines",
         "type": "scattergeo"
        },
        {
         "lat": [
          38.85208,
          39.85841
         ],
         "line": {
          "color": "red",
          "width": 1
         },
         "locationmode": "USA-states",
         "lon": [
          -77.03772,
          -104.667
         ],
         "mode": "lines",
         "type": "scattergeo"
        },
        {
         "lat": [
          28.42889,
          39.85841
         ],
         "line": {
          "color": "red",
          "width": 1
         },
         "locationmode": "USA-states",
         "lon": [
          -81.31603,
          -104.667
         ],
         "mode": "lines",
         "type": "scattergeo"
        },
        {
         "lat": [
          28.42889,
          39.85841
         ],
         "line": {
          "color": "red",
          "width": 1
         },
         "locationmode": "USA-states",
         "lon": [
          -81.31603,
          -104.667
         ],
         "mode": "lines",
         "type": "scattergeo"
        },
        {
         "lat": [
          28.42889,
          39.85841
         ],
         "line": {
          "color": "red",
          "width": 1
         },
         "locationmode": "USA-states",
         "lon": [
          -81.31603,
          -104.667
         ],
         "mode": "lines",
         "type": "scattergeo"
        },
        {
         "lat": [
          28.42889,
          39.85841
         ],
         "line": {
          "color": "red",
          "width": 1
         },
         "locationmode": "USA-states",
         "lon": [
          -81.31603,
          -104.667
         ],
         "mode": "lines",
         "type": "scattergeo"
        },
        {
         "lat": [
          39.87195,
          39.85841
         ],
         "line": {
          "color": "red",
          "width": 1
         },
         "locationmode": "USA-states",
         "lon": [
          -75.24114,
          -104.667
         ],
         "mode": "lines",
         "type": "scattergeo"
        },
        {
         "lat": [
          27.97547,
          39.85841
         ],
         "line": {
          "color": "red",
          "width": 1
         },
         "locationmode": "USA-states",
         "lon": [
          -82.53325,
          -104.667
         ],
         "mode": "lines",
         "type": "scattergeo"
        },
        {
         "lat": [
          36.77619,
          39.85841
         ],
         "line": {
          "color": "red",
          "width": 1
         },
         "locationmode": "USA-states",
         "lon": [
          -119.71814,
          -104.667
         ],
         "mode": "lines",
         "type": "scattergeo"
        },
        {
         "lat": [
          42.36435,
          39.85841
         ],
         "line": {
          "color": "red",
          "width": 1
         },
         "locationmode": "USA-states",
         "lon": [
          -71.00518,
          -104.667
         ],
         "mode": "lines",
         "type": "scattergeo"
        },
        {
         "lat": [
          42.36435,
          39.85841
         ],
         "line": {
          "color": "red",
          "width": 1
         },
         "locationmode": "USA-states",
         "lon": [
          -71.00518,
          -104.667
         ],
         "mode": "lines",
         "type": "scattergeo"
        },
        {
         "lat": [
          42.36435,
          39.85841
         ],
         "line": {
          "color": "red",
          "width": 1
         },
         "locationmode": "USA-states",
         "lon": [
          -71.00518,
          -104.667
         ],
         "mode": "lines",
         "type": "scattergeo"
        },
        {
         "lat": [
          32.73356,
          39.85841
         ],
         "line": {
          "color": "red",
          "width": 1
         },
         "locationmode": "USA-states",
         "lon": [
          -117.18966,
          -104.667
         ],
         "mode": "lines",
         "type": "scattergeo"
        },
        {
         "lat": [
          32.73356,
          39.85841
         ],
         "line": {
          "color": "red",
          "width": 1
         },
         "locationmode": "USA-states",
         "lon": [
          -117.18966,
          -104.667
         ],
         "mode": "lines",
         "type": "scattergeo"
        },
        {
         "lat": [
          29.53369,
          39.85841
         ],
         "line": {
          "color": "red",
          "width": 1
         },
         "locationmode": "USA-states",
         "lon": [
          -98.46978,
          -104.667
         ],
         "mode": "lines",
         "type": "scattergeo"
        },
        {
         "lat": [
          39.71733,
          39.85841
         ],
         "line": {
          "color": "red",
          "width": 1
         },
         "locationmode": "USA-states",
         "lon": [
          -86.29438,
          -104.667
         ],
         "mode": "lines",
         "type": "scattergeo"
        },
        {
         "lat": [
          34.056,
          39.85841
         ],
         "line": {
          "color": "red",
          "width": 1
         },
         "locationmode": "USA-states",
         "lon": [
          -117.60119,
          -104.667
         ],
         "mode": "lines",
         "type": "scattergeo"
        },
        {
         "lat": [
          39.22316,
          39.85841
         ],
         "line": {
          "color": "red",
          "width": 1
         },
         "locationmode": "USA-states",
         "lon": [
          -106.86885,
          -104.667
         ],
         "mode": "lines",
         "type": "scattergeo"
        },
        {
         "lat": [
          39.22316,
          39.85841
         ],
         "line": {
          "color": "red",
          "width": 1
         },
         "locationmode": "USA-states",
         "lon": [
          -106.86885,
          -104.667
         ],
         "mode": "lines",
         "type": "scattergeo"
        },
        {
         "lat": [
          39.22316,
          39.85841
         ],
         "line": {
          "color": "red",
          "width": 1
         },
         "locationmode": "USA-states",
         "lon": [
          -106.86885,
          -104.667
         ],
         "mode": "lines",
         "type": "scattergeo"
        },
        {
         "lat": [
          41.9796,
          39.85841
         ],
         "line": {
          "color": "red",
          "width": 1
         },
         "locationmode": "USA-states",
         "lon": [
          -87.90446,
          -104.667
         ],
         "mode": "lines",
         "type": "scattergeo"
        },
        {
         "lat": [
          41.9796,
          39.85841
         ],
         "line": {
          "color": "red",
          "width": 1
         },
         "locationmode": "USA-states",
         "lon": [
          -87.90446,
          -104.667
         ],
         "mode": "lines",
         "type": "scattergeo"
        },
        {
         "lat": [
          41.9796,
          39.85841
         ],
         "line": {
          "color": "red",
          "width": 1
         },
         "locationmode": "USA-states",
         "lon": [
          -87.90446,
          -104.667
         ],
         "mode": "lines",
         "type": "scattergeo"
        },
        {
         "lat": [
          41.9796,
          39.85841
         ],
         "line": {
          "color": "red",
          "width": 1
         },
         "locationmode": "USA-states",
         "lon": [
          -87.90446,
          -104.667
         ],
         "mode": "lines",
         "type": "scattergeo"
        },
        {
         "lat": [
          41.9796,
          39.85841
         ],
         "line": {
          "color": "red",
          "width": 1
         },
         "locationmode": "USA-states",
         "lon": [
          -87.90446,
          -104.667
         ],
         "mode": "lines",
         "type": "scattergeo"
        },
        {
         "lat": [
          47.44898,
          39.85841
         ],
         "line": {
          "color": "red",
          "width": 1
         },
         "locationmode": "USA-states",
         "lon": [
          -122.30931,
          -104.667
         ],
         "mode": "lines",
         "type": "scattergeo"
        },
        {
         "lat": [
          47.44898,
          39.85841
         ],
         "line": {
          "color": "red",
          "width": 1
         },
         "locationmode": "USA-states",
         "lon": [
          -122.30931,
          -104.667
         ],
         "mode": "lines",
         "type": "scattergeo"
        },
        {
         "lat": [
          47.44898,
          39.85841
         ],
         "line": {
          "color": "red",
          "width": 1
         },
         "locationmode": "USA-states",
         "lon": [
          -122.30931,
          -104.667
         ],
         "mode": "lines",
         "type": "scattergeo"
        },
        {
         "lat": [
          47.44898,
          39.85841
         ],
         "line": {
          "color": "red",
          "width": 1
         },
         "locationmode": "USA-states",
         "lon": [
          -122.30931,
          -104.667
         ],
         "mode": "lines",
         "type": "scattergeo"
        },
        {
         "lat": [
          47.44898,
          39.85841
         ],
         "line": {
          "color": "red",
          "width": 1
         },
         "locationmode": "USA-states",
         "lon": [
          -122.30931,
          -104.667
         ],
         "mode": "lines",
         "type": "scattergeo"
        },
        {
         "lat": [
          37.72129,
          39.85841
         ],
         "line": {
          "color": "red",
          "width": 1
         },
         "locationmode": "USA-states",
         "lon": [
          -122.22072,
          -104.667
         ],
         "mode": "lines",
         "type": "scattergeo"
        },
        {
         "lat": [
          33.94254,
          39.85841
         ],
         "line": {
          "color": "red",
          "width": 1
         },
         "locationmode": "USA-states",
         "lon": [
          -118.40807,
          -104.667
         ],
         "mode": "lines",
         "type": "scattergeo"
        },
        {
         "lat": [
          33.94254,
          39.85841
         ],
         "line": {
          "color": "red",
          "width": 1
         },
         "locationmode": "USA-states",
         "lon": [
          -118.40807,
          -104.667
         ],
         "mode": "lines",
         "type": "scattergeo"
        },
        {
         "lat": [
          33.94254,
          39.85841
         ],
         "line": {
          "color": "red",
          "width": 1
         },
         "locationmode": "USA-states",
         "lon": [
          -118.40807,
          -104.667
         ],
         "mode": "lines",
         "type": "scattergeo"
        },
        {
         "lat": [
          33.94254,
          39.85841
         ],
         "line": {
          "color": "red",
          "width": 1
         },
         "locationmode": "USA-states",
         "lon": [
          -118.40807,
          -104.667
         ],
         "mode": "lines",
         "type": "scattergeo"
        },
        {
         "lat": [
          33.94254,
          39.85841
         ],
         "line": {
          "color": "red",
          "width": 1
         },
         "locationmode": "USA-states",
         "lon": [
          -118.40807,
          -104.667
         ],
         "mode": "lines",
         "type": "scattergeo"
        },
        {
         "lat": [
          33.94254,
          39.85841
         ],
         "line": {
          "color": "red",
          "width": 1
         },
         "locationmode": "USA-states",
         "lon": [
          -118.40807,
          -104.667
         ],
         "mode": "lines",
         "type": "scattergeo"
        },
        {
         "lat": [
          33.94254,
          39.85841
         ],
         "line": {
          "color": "red",
          "width": 1
         },
         "locationmode": "USA-states",
         "lon": [
          -118.40807,
          -104.667
         ],
         "mode": "lines",
         "type": "scattergeo"
        },
        {
         "lat": [
          40.78839,
          39.85841
         ],
         "line": {
          "color": "red",
          "width": 1
         },
         "locationmode": "USA-states",
         "lon": [
          -111.97777,
          -104.667
         ],
         "mode": "lines",
         "type": "scattergeo"
        },
        {
         "lat": [
          40.78839,
          39.85841
         ],
         "line": {
          "color": "red",
          "width": 1
         },
         "locationmode": "USA-states",
         "lon": [
          -111.97777,
          -104.667
         ],
         "mode": "lines",
         "type": "scattergeo"
        },
        {
         "lat": [
          40.78839,
          39.85841
         ],
         "line": {
          "color": "red",
          "width": 1
         },
         "locationmode": "USA-states",
         "lon": [
          -111.97777,
          -104.667
         ],
         "mode": "lines",
         "type": "scattergeo"
        },
        {
         "lat": [
          40.78839,
          39.85841
         ],
         "line": {
          "color": "red",
          "width": 1
         },
         "locationmode": "USA-states",
         "lon": [
          -111.97777,
          -104.667
         ],
         "mode": "lines",
         "type": "scattergeo"
        },
        {
         "lat": [
          34.20062,
          39.85841
         ],
         "line": {
          "color": "red",
          "width": 1
         },
         "locationmode": "USA-states",
         "lon": [
          -118.3585,
          -104.667
         ],
         "mode": "lines",
         "type": "scattergeo"
        },
        {
         "lat": [
          35.81249,
          39.85841
         ],
         "line": {
          "color": "red",
          "width": 1
         },
         "locationmode": "USA-states",
         "lon": [
          -83.99286,
          -104.667
         ],
         "mode": "lines",
         "type": "scattergeo"
        },
        {
         "lat": [
          33.43417,
          39.85841
         ],
         "line": {
          "color": "red",
          "width": 1
         },
         "locationmode": "USA-states",
         "lon": [
          -112.00806,
          -104.667
         ],
         "mode": "lines",
         "type": "scattergeo"
        },
        {
         "lat": [
          33.43417,
          39.85841
         ],
         "line": {
          "color": "red",
          "width": 1
         },
         "locationmode": "USA-states",
         "lon": [
          -112.00806,
          -104.667
         ],
         "mode": "lines",
         "type": "scattergeo"
        },
        {
         "lat": [
          33.43417,
          39.85841
         ],
         "line": {
          "color": "red",
          "width": 1
         },
         "locationmode": "USA-states",
         "lon": [
          -112.00806,
          -104.667
         ],
         "mode": "lines",
         "type": "scattergeo"
        },
        {
         "lat": [
          33.43417,
          39.85841
         ],
         "line": {
          "color": "red",
          "width": 1
         },
         "locationmode": "USA-states",
         "lon": [
          -112.00806,
          -104.667
         ],
         "mode": "lines",
         "type": "scattergeo"
        },
        {
         "lat": [
          36.19837,
          39.85841
         ],
         "line": {
          "color": "red",
          "width": 1
         },
         "locationmode": "USA-states",
         "lon": [
          -95.88824,
          -104.667
         ],
         "mode": "lines",
         "type": "scattergeo"
        },
        {
         "lat": [
          41.78598,
          39.85841
         ],
         "line": {
          "color": "red",
          "width": 1
         },
         "locationmode": "USA-states",
         "lon": [
          -87.75242,
          -104.667
         ],
         "mode": "lines",
         "type": "scattergeo"
        },
        {
         "lat": [
          41.78598,
          39.85841
         ],
         "line": {
          "color": "red",
          "width": 1
         },
         "locationmode": "USA-states",
         "lon": [
          -87.75242,
          -104.667
         ],
         "mode": "lines",
         "type": "scattergeo"
        },
        {
         "lat": [
          33.82922,
          39.85841
         ],
         "line": {
          "color": "red",
          "width": 1
         },
         "locationmode": "USA-states",
         "lon": [
          -116.50625,
          -104.667
         ],
         "mode": "lines",
         "type": "scattergeo"
        },
        {
         "lat": [
          39.49858,
          39.85841
         ],
         "line": {
          "color": "red",
          "width": 1
         },
         "locationmode": "USA-states",
         "lon": [
          -119.76806,
          -104.667
         ],
         "mode": "lines",
         "type": "scattergeo"
        },
        {
         "lat": [
          38.74769,
          39.85841
         ],
         "line": {
          "color": "red",
          "width": 1
         },
         "locationmode": "USA-states",
         "lon": [
          -90.35999,
          -104.667
         ],
         "mode": "lines",
         "type": "scattergeo"
        },
        {
         "lat": [
          33.66364,
          39.85841
         ],
         "line": {
          "color": "red",
          "width": 1
         },
         "locationmode": "USA-states",
         "lon": [
          -101.82278,
          -104.667
         ],
         "mode": "lines",
         "type": "scattergeo"
        },
        {
         "lat": [
          33.66364,
          39.85841
         ],
         "line": {
          "color": "red",
          "width": 1
         },
         "locationmode": "USA-states",
         "lon": [
          -101.82278,
          -104.667
         ],
         "mode": "lines",
         "type": "scattergeo"
        },
        {
         "lat": [
          33.66364,
          39.85841
         ],
         "line": {
          "color": "red",
          "width": 1
         },
         "locationmode": "USA-states",
         "lon": [
          -101.82278,
          -104.667
         ],
         "mode": "lines",
         "type": "scattergeo"
        },
        {
         "lat": [
          47.61986,
          39.85841
         ],
         "line": {
          "color": "red",
          "width": 1
         },
         "locationmode": "USA-states",
         "lon": [
          -117.53384,
          -104.667
         ],
         "mode": "lines",
         "type": "scattergeo"
        },
        {
         "lat": [
          47.61986,
          39.85841
         ],
         "line": {
          "color": "red",
          "width": 1
         },
         "locationmode": "USA-states",
         "lon": [
          -117.53384,
          -104.667
         ],
         "mode": "lines",
         "type": "scattergeo"
        },
        {
         "lat": [
          41.44853,
          39.85841
         ],
         "line": {
          "color": "red",
          "width": 1
         },
         "locationmode": "USA-states",
         "lon": [
          -90.50754,
          -104.667
         ],
         "mode": "lines",
         "type": "scattergeo"
        },
        {
         "lat": [
          34.7294,
          39.85841
         ],
         "line": {
          "color": "red",
          "width": 1
         },
         "locationmode": "USA-states",
         "lon": [
          -92.22425,
          -104.667
         ],
         "mode": "lines",
         "type": "scattergeo"
        },
        {
         "lat": [
          29.64542,
          39.85841
         ],
         "line": {
          "color": "red",
          "width": 1
         },
         "locationmode": "USA-states",
         "lon": [
          -95.27889,
          -104.667
         ],
         "mode": "lines",
         "type": "scattergeo"
        },
        {
         "lat": [
          29.99339,
          39.85841
         ],
         "line": {
          "color": "red",
          "width": 1
         },
         "locationmode": "USA-states",
         "lon": [
          -90.25803,
          -104.667
         ],
         "mode": "lines",
         "type": "scattergeo"
        },
        {
         "lat": [
          32.84711,
          39.85841
         ],
         "line": {
          "color": "red",
          "width": 1
         },
         "locationmode": "USA-states",
         "lon": [
          -96.85177,
          -104.667
         ],
         "mode": "lines",
         "type": "scattergeo"
        },
        {
         "lat": [
          34.42621,
          39.85841
         ],
         "line": {
          "color": "red",
          "width": 1
         },
         "locationmode": "USA-states",
         "lon": [
          -119.84037,
          -104.667
         ],
         "mode": "lines",
         "type": "scattergeo"
        },
        {
         "lat": [
          39.04614,
          39.85841
         ],
         "line": {
          "color": "red",
          "width": 1
         },
         "locationmode": "USA-states",
         "lon": [
          -84.66217,
          -104.667
         ],
         "mode": "lines",
         "type": "scattergeo"
        },
        {
         "lat": [
          46.91631,
          39.85841
         ],
         "line": {
          "color": "red",
          "width": 1
         },
         "locationmode": "USA-states",
         "lon": [
          -114.09056,
          -104.667
         ],
         "mode": "lines",
         "type": "scattergeo"
        },
        {
         "lat": [
          38.53396,
          39.85841
         ],
         "line": {
          "color": "red",
          "width": 1
         },
         "locationmode": "USA-states",
         "lon": [
          -106.93318,
          -104.667
         ],
         "mode": "lines",
         "type": "scattergeo"
        },
        {
         "lat": [
          39.29761,
          39.85841
         ],
         "line": {
          "color": "red",
          "width": 1
         },
         "locationmode": "USA-states",
         "lon": [
          -94.71391,
          -104.667
         ],
         "mode": "lines",
         "type": "scattergeo"
        },
        {
         "lat": [
          45.80766,
          39.85841
         ],
         "line": {
          "color": "red",
          "width": 1
         },
         "locationmode": "USA-states",
         "lon": [
          -108.54286,
          -104.667
         ],
         "mode": "lines",
         "type": "scattergeo"
        },
        {
         "lat": [
          44.3489,
          39.85841
         ],
         "line": {
          "color": "red",
          "width": 1
         },
         "locationmode": "USA-states",
         "lon": [
          -105.53936,
          -104.667
         ],
         "mode": "lines",
         "type": "scattergeo"
        },
        {
         "lat": [
          43.51456,
          39.85841
         ],
         "line": {
          "color": "red",
          "width": 1
         },
         "locationmode": "USA-states",
         "lon": [
          -112.07017,
          -104.667
         ],
         "mode": "lines",
         "type": "scattergeo"
        },
        {
         "lat": [
          48.11425,
          39.85841
         ],
         "line": {
          "color": "red",
          "width": 1
         },
         "locationmode": "USA-states",
         "lon": [
          -98.90878,
          -104.667
         ],
         "mode": "lines",
         "type": "scattergeo"
        },
        {
         "lat": [
          36.12448,
          39.85841
         ],
         "line": {
          "color": "red",
          "width": 1
         },
         "locationmode": "USA-states",
         "lon": [
          -86.67818,
          -104.667
         ],
         "mode": "lines",
         "type": "scattergeo"
        },
        {
         "lat": [
          36.12448,
          39.85841
         ],
         "line": {
          "color": "red",
          "width": 1
         },
         "locationmode": "USA-states",
         "lon": [
          -86.67818,
          -104.667
         ],
         "mode": "lines",
         "type": "scattergeo"
        },
        {
         "lat": [
          33.56294,
          39.85841
         ],
         "line": {
          "color": "red",
          "width": 1
         },
         "locationmode": "USA-states",
         "lon": [
          -86.75355,
          -104.667
         ],
         "mode": "lines",
         "type": "scattergeo"
        },
        {
         "lat": [
          35.21937,
          39.85841
         ],
         "line": {
          "color": "red",
          "width": 1
         },
         "locationmode": "USA-states",
         "lon": [
          -101.70593,
          -104.667
         ],
         "mode": "lines",
         "type": "scattergeo"
        },
        {
         "lat": [
          46.77411,
          39.85841
         ],
         "line": {
          "color": "red",
          "width": 1
         },
         "locationmode": "USA-states",
         "lon": [
          -100.74672,
          -104.667
         ],
         "mode": "lines",
         "type": "scattergeo"
        },
        {
         "lat": [
          37.64996,
          39.85841
         ],
         "line": {
          "color": "red",
          "width": 1
         },
         "locationmode": "USA-states",
         "lon": [
          -97.43305,
          -104.667
         ],
         "mode": "lines",
         "type": "scattergeo"
        },
        {
         "lat": [
          46.91935,
          39.85841
         ],
         "line": {
          "color": "red",
          "width": 1
         },
         "locationmode": "USA-states",
         "lon": [
          -96.81499,
          -104.667
         ],
         "mode": "lines",
         "type": "scattergeo"
        },
        {
         "lat": [
          40.47799,
          39.85841
         ],
         "line": {
          "color": "red",
          "width": 1
         },
         "locationmode": "USA-states",
         "lon": [
          -88.91595,
          -104.667
         ],
         "mode": "lines",
         "type": "scattergeo"
        },
        {
         "lat": [
          36.08036,
          40.63975
         ],
         "line": {
          "color": "red",
          "width": 1
         },
         "locationmode": "USA-states",
         "lon": [
          -115.15233,
          -73.77893
         ],
         "mode": "lines",
         "type": "scattergeo"
        },
        {
         "lat": [
          18.43942,
          40.63975
         ],
         "line": {
          "color": "red",
          "width": 1
         },
         "locationmode": "USA-states",
         "lon": [
          -66.00183,
          -73.77893
         ],
         "mode": "lines",
         "type": "scattergeo"
        },
        {
         "lat": [
          18.43942,
          40.63975
         ],
         "line": {
          "color": "red",
          "width": 1
         },
         "locationmode": "USA-states",
         "lon": [
          -66.00183,
          -73.77893
         ],
         "mode": "lines",
         "type": "scattergeo"
        },
        {
         "lat": [
          37.619,
          40.63975
         ],
         "line": {
          "color": "red",
          "width": 1
         },
         "locationmode": "USA-states",
         "lon": [
          -122.37484,
          -73.77893
         ],
         "mode": "lines",
         "type": "scattergeo"
        },
        {
         "lat": [
          37.619,
          40.63975
         ],
         "line": {
          "color": "red",
          "width": 1
         },
         "locationmode": "USA-states",
         "lon": [
          -122.37484,
          -73.77893
         ],
         "mode": "lines",
         "type": "scattergeo"
        },
        {
         "lat": [
          37.619,
          40.63975
         ],
         "line": {
          "color": "red",
          "width": 1
         },
         "locationmode": "USA-states",
         "lon": [
          -122.37484,
          -73.77893
         ],
         "mode": "lines",
         "type": "scattergeo"
        },
        {
         "lat": [
          37.619,
          40.63975
         ],
         "line": {
          "color": "red",
          "width": 1
         },
         "locationmode": "USA-states",
         "lon": [
          -122.37484,
          -73.77893
         ],
         "mode": "lines",
         "type": "scattergeo"
        },
        {
         "lat": [
          35.04022,
          40.63975
         ],
         "line": {
          "color": "red",
          "width": 1
         },
         "locationmode": "USA-states",
         "lon": [
          -106.60919,
          -73.77893
         ],
         "mode": "lines",
         "type": "scattergeo"
        },
        {
         "lat": [
          18.49486,
          40.63975
         ],
         "line": {
          "color": "red",
          "width": 1
         },
         "locationmode": "USA-states",
         "lon": [
          -67.12944,
          -73.77893
         ],
         "mode": "lines",
         "type": "scattergeo"
        },
        {
         "lat": [
          26.07258,
          40.63975
         ],
         "line": {
          "color": "red",
          "width": 1
         },
         "locationmode": "USA-states",
         "lon": [
          -80.15275,
          -73.77893
         ],
         "mode": "lines",
         "type": "scattergeo"
        },
        {
         "lat": [
          26.07258,
          40.63975
         ],
         "line": {
          "color": "red",
          "width": 1
         },
         "locationmode": "USA-states",
         "lon": [
          -80.15275,
          -73.77893
         ],
         "mode": "lines",
         "type": "scattergeo"
        },
        {
         "lat": [
          26.07258,
          40.63975
         ],
         "line": {
          "color": "red",
          "width": 1
         },
         "locationmode": "USA-states",
         "lon": [
          -80.15275,
          -73.77893
         ],
         "mode": "lines",
         "type": "scattergeo"
        },
        {
         "lat": [
          26.07258,
          40.63975
         ],
         "line": {
          "color": "red",
          "width": 1
         },
         "locationmode": "USA-states",
         "lon": [
          -80.15275,
          -73.77893
         ],
         "mode": "lines",
         "type": "scattergeo"
        },
        {
         "lat": [
          26.07258,
          40.63975
         ],
         "line": {
          "color": "red",
          "width": 1
         },
         "locationmode": "USA-states",
         "lon": [
          -80.15275,
          -73.77893
         ],
         "mode": "lines",
         "type": "scattergeo"
        },
        {
         "lat": [
          26.68316,
          40.63975
         ],
         "line": {
          "color": "red",
          "width": 1
         },
         "locationmode": "USA-states",
         "lon": [
          -80.09559,
          -73.77893
         ],
         "mode": "lines",
         "type": "scattergeo"
        },
        {
         "lat": [
          26.68316,
          40.63975
         ],
         "line": {
          "color": "red",
          "width": 1
         },
         "locationmode": "USA-states",
         "lon": [
          -80.09559,
          -73.77893
         ],
         "mode": "lines",
         "type": "scattergeo"
        },
        {
         "lat": [
          26.68316,
          40.63975
         ],
         "line": {
          "color": "red",
          "width": 1
         },
         "locationmode": "USA-states",
         "lon": [
          -80.09559,
          -73.77893
         ],
         "mode": "lines",
         "type": "scattergeo"
        },
        {
         "lat": [
          39.99799,
          40.63975
         ],
         "line": {
          "color": "red",
          "width": 1
         },
         "locationmode": "USA-states",
         "lon": [
          -82.89188,
          -73.77893
         ],
         "mode": "lines",
         "type": "scattergeo"
        },
        {
         "lat": [
          32.89865,
          40.63975
         ],
         "line": {
          "color": "red",
          "width": 1
         },
         "locationmode": "USA-states",
         "lon": [
          -80.04051,
          -73.77893
         ],
         "mode": "lines",
         "type": "scattergeo"
        },
        {
         "lat": [
          38.85208,
          40.63975
         ],
         "line": {
          "color": "red",
          "width": 1
         },
         "locationmode": "USA-states",
         "lon": [
          -77.03772,
          -73.77893
         ],
         "mode": "lines",
         "type": "scattergeo"
        },
        {
         "lat": [
          28.42889,
          40.63975
         ],
         "line": {
          "color": "red",
          "width": 1
         },
         "locationmode": "USA-states",
         "lon": [
          -81.31603,
          -73.77893
         ],
         "mode": "lines",
         "type": "scattergeo"
        },
        {
         "lat": [
          28.42889,
          40.63975
         ],
         "line": {
          "color": "red",
          "width": 1
         },
         "locationmode": "USA-states",
         "lon": [
          -81.31603,
          -73.77893
         ],
         "mode": "lines",
         "type": "scattergeo"
        },
        {
         "lat": [
          42.94052,
          40.63975
         ],
         "line": {
          "color": "red",
          "width": 1
         },
         "locationmode": "USA-states",
         "lon": [
          -78.73217,
          -73.77893
         ],
         "mode": "lines",
         "type": "scattergeo"
        },
        {
         "lat": [
          44.88055,
          40.63975
         ],
         "line": {
          "color": "red",
          "width": 1
         },
         "locationmode": "USA-states",
         "lon": [
          -93.21692,
          -73.77893
         ],
         "mode": "lines",
         "type": "scattergeo"
        },
        {
         "lat": [
          42.36435,
          40.63975
         ],
         "line": {
          "color": "red",
          "width": 1
         },
         "locationmode": "USA-states",
         "lon": [
          -71.00518,
          -73.77893
         ],
         "mode": "lines",
         "type": "scattergeo"
        },
        {
         "lat": [
          32.73356,
          40.63975
         ],
         "line": {
          "color": "red",
          "width": 1
         },
         "locationmode": "USA-states",
         "lon": [
          -117.18966,
          -73.77893
         ],
         "mode": "lines",
         "type": "scattergeo"
        },
        {
         "lat": [
          41.9796,
          40.63975
         ],
         "line": {
          "color": "red",
          "width": 1
         },
         "locationmode": "USA-states",
         "lon": [
          -87.90446,
          -73.77893
         ],
         "mode": "lines",
         "type": "scattergeo"
        },
        {
         "lat": [
          33.94254,
          40.63975
         ],
         "line": {
          "color": "red",
          "width": 1
         },
         "locationmode": "USA-states",
         "lon": [
          -118.40807,
          -73.77893
         ],
         "mode": "lines",
         "type": "scattergeo"
        },
        {
         "lat": [
          40.78839,
          40.63975
         ],
         "line": {
          "color": "red",
          "width": 1
         },
         "locationmode": "USA-states",
         "lon": [
          -111.97777,
          -73.77893
         ],
         "mode": "lines",
         "type": "scattergeo"
        },
        {
         "lat": [
          33.43417,
          40.63975
         ],
         "line": {
          "color": "red",
          "width": 1
         },
         "locationmode": "USA-states",
         "lon": [
          -112.00806,
          -73.77893
         ],
         "mode": "lines",
         "type": "scattergeo"
        },
        {
         "lat": [
          26.53617,
          40.63975
         ],
         "line": {
          "color": "red",
          "width": 1
         },
         "locationmode": "USA-states",
         "lon": [
          -81.75517,
          -73.77893
         ],
         "mode": "lines",
         "type": "scattergeo"
        },
        {
         "lat": [
          26.53617,
          40.63975
         ],
         "line": {
          "color": "red",
          "width": 1
         },
         "locationmode": "USA-states",
         "lon": [
          -81.75517,
          -73.77893
         ],
         "mode": "lines",
         "type": "scattergeo"
        },
        {
         "lat": [
          35.21401,
          40.63975
         ],
         "line": {
          "color": "red",
          "width": 1
         },
         "locationmode": "USA-states",
         "lon": [
          -80.94313,
          -73.77893
         ],
         "mode": "lines",
         "type": "scattergeo"
        },
        {
         "lat": [
          18.33731,
          40.63975
         ],
         "line": {
          "color": "red",
          "width": 1
         },
         "locationmode": "USA-states",
         "lon": [
          -64.97336,
          -73.77893
         ],
         "mode": "lines",
         "type": "scattergeo"
        },
        {
         "lat": [
          36.08036,
          33.94254
         ],
         "line": {
          "color": "red",
          "width": 1
         },
         "locationmode": "USA-states",
         "lon": [
          -115.15233,
          -118.40807
         ],
         "mode": "lines",
         "type": "scattergeo"
        },
        {
         "lat": [
          36.08036,
          33.94254
         ],
         "line": {
          "color": "red",
          "width": 1
         },
         "locationmode": "USA-states",
         "lon": [
          -115.15233,
          -118.40807
         ],
         "mode": "lines",
         "type": "scattergeo"
        },
        {
         "lat": [
          36.08036,
          33.94254
         ],
         "line": {
          "color": "red",
          "width": 1
         },
         "locationmode": "USA-states",
         "lon": [
          -115.15233,
          -118.40807
         ],
         "mode": "lines",
         "type": "scattergeo"
        },
        {
         "lat": [
          29.98047,
          33.94254
         ],
         "line": {
          "color": "red",
          "width": 1
         },
         "locationmode": "USA-states",
         "lon": [
          -95.33972,
          -118.40807
         ],
         "mode": "lines",
         "type": "scattergeo"
        },
        {
         "lat": [
          39.85841,
          33.94254
         ],
         "line": {
          "color": "red",
          "width": 1
         },
         "locationmode": "USA-states",
         "lon": [
          -104.667,
          -118.40807
         ],
         "mode": "lines",
         "type": "scattergeo"
        },
        {
         "lat": [
          39.85841,
          33.94254
         ],
         "line": {
          "color": "red",
          "width": 1
         },
         "locationmode": "USA-states",
         "lon": [
          -104.667,
          -118.40807
         ],
         "mode": "lines",
         "type": "scattergeo"
        },
        {
         "lat": [
          39.85841,
          33.94254
         ],
         "line": {
          "color": "red",
          "width": 1
         },
         "locationmode": "USA-states",
         "lon": [
          -104.667,
          -118.40807
         ],
         "mode": "lines",
         "type": "scattergeo"
        },
        {
         "lat": [
          39.85841,
          33.94254
         ],
         "line": {
          "color": "red",
          "width": 1
         },
         "locationmode": "USA-states",
         "lon": [
          -104.667,
          -118.40807
         ],
         "mode": "lines",
         "type": "scattergeo"
        },
        {
         "lat": [
          39.85841,
          33.94254
         ],
         "line": {
          "color": "red",
          "width": 1
         },
         "locationmode": "USA-states",
         "lon": [
          -104.667,
          -118.40807
         ],
         "mode": "lines",
         "type": "scattergeo"
        },
        {
         "lat": [
          39.85841,
          33.94254
         ],
         "line": {
          "color": "red",
          "width": 1
         },
         "locationmode": "USA-states",
         "lon": [
          -104.667,
          -118.40807
         ],
         "mode": "lines",
         "type": "scattergeo"
        },
        {
         "lat": [
          39.85841,
          33.94254
         ],
         "line": {
          "color": "red",
          "width": 1
         },
         "locationmode": "USA-states",
         "lon": [
          -104.667,
          -118.40807
         ],
         "mode": "lines",
         "type": "scattergeo"
        },
        {
         "lat": [
          40.63975,
          33.94254
         ],
         "line": {
          "color": "red",
          "width": 1
         },
         "locationmode": "USA-states",
         "lon": [
          -73.77893,
          -118.40807
         ],
         "mode": "lines",
         "type": "scattergeo"
        },
        {
         "lat": [
          40.63975,
          33.94254
         ],
         "line": {
          "color": "red",
          "width": 1
         },
         "locationmode": "USA-states",
         "lon": [
          -73.77893,
          -118.40807
         ],
         "mode": "lines",
         "type": "scattergeo"
        },
        {
         "lat": [
          40.63975,
          33.94254
         ],
         "line": {
          "color": "red",
          "width": 1
         },
         "locationmode": "USA-states",
         "lon": [
          -73.77893,
          -118.40807
         ],
         "mode": "lines",
         "type": "scattergeo"
        },
        {
         "lat": [
          40.63975,
          33.94254
         ],
         "line": {
          "color": "red",
          "width": 1
         },
         "locationmode": "USA-states",
         "lon": [
          -73.77893,
          -118.40807
         ],
         "mode": "lines",
         "type": "scattergeo"
        },
        {
         "lat": [
          38.69542,
          33.94254
         ],
         "line": {
          "color": "red",
          "width": 1
         },
         "locationmode": "USA-states",
         "lon": [
          -121.59077,
          -118.40807
         ],
         "mode": "lines",
         "type": "scattergeo"
        },
        {
         "lat": [
          35.04022,
          33.94254
         ],
         "line": {
          "color": "red",
          "width": 1
         },
         "locationmode": "USA-states",
         "lon": [
          -106.60919,
          -118.40807
         ],
         "mode": "lines",
         "type": "scattergeo"
        },
        {
         "lat": [
          39.1754,
          33.94254
         ],
         "line": {
          "color": "red",
          "width": 1
         },
         "locationmode": "USA-states",
         "lon": [
          -76.6682,
          -118.40807
         ],
         "mode": "lines",
         "type": "scattergeo"
        },
        {
         "lat": [
          33.64044,
          33.94254
         ],
         "line": {
          "color": "red",
          "width": 1
         },
         "locationmode": "USA-states",
         "lon": [
          -84.42694,
          -118.40807
         ],
         "mode": "lines",
         "type": "scattergeo"
        },
        {
         "lat": [
          33.64044,
          33.94254
         ],
         "line": {
          "color": "red",
          "width": 1
         },
         "locationmode": "USA-states",
         "lon": [
          -84.42694,
          -118.40807
         ],
         "mode": "lines",
         "type": "scattergeo"
        },
        {
         "lat": [
          43.56444,
          33.94254
         ],
         "line": {
          "color": "red",
          "width": 1
         },
         "locationmode": "USA-states",
         "lon": [
          -116.22278,
          -118.40807
         ],
         "mode": "lines",
         "type": "scattergeo"
        },
        {
         "lat": [
          43.56444,
          33.94254
         ],
         "line": {
          "color": "red",
          "width": 1
         },
         "locationmode": "USA-states",
         "lon": [
          -116.22278,
          -118.40807
         ],
         "mode": "lines",
         "type": "scattergeo"
        },
        {
         "lat": [
          32.89595,
          33.94254
         ],
         "line": {
          "color": "red",
          "width": 1
         },
         "locationmode": "USA-states",
         "lon": [
          -97.0372,
          -118.40807
         ],
         "mode": "lines",
         "type": "scattergeo"
        },
        {
         "lat": [
          32.89595,
          33.94254
         ],
         "line": {
          "color": "red",
          "width": 1
         },
         "locationmode": "USA-states",
         "lon": [
          -97.0372,
          -118.40807
         ],
         "mode": "lines",
         "type": "scattergeo"
        },
        {
         "lat": [
          32.89595,
          33.94254
         ],
         "line": {
          "color": "red",
          "width": 1
         },
         "locationmode": "USA-states",
         "lon": [
          -97.0372,
          -118.40807
         ],
         "mode": "lines",
         "type": "scattergeo"
        },
        {
         "lat": [
          32.89595,
          33.94254
         ],
         "line": {
          "color": "red",
          "width": 1
         },
         "locationmode": "USA-states",
         "lon": [
          -97.0372,
          -118.40807
         ],
         "mode": "lines",
         "type": "scattergeo"
        },
        {
         "lat": [
          40.6925,
          33.94254
         ],
         "line": {
          "color": "red",
          "width": 1
         },
         "locationmode": "USA-states",
         "lon": [
          -74.16866,
          -118.40807
         ],
         "mode": "lines",
         "type": "scattergeo"
        },
        {
         "lat": [
          28.42889,
          33.94254
         ],
         "line": {
          "color": "red",
          "width": 1
         },
         "locationmode": "USA-states",
         "lon": [
          -81.31603,
          -118.40807
         ],
         "mode": "lines",
         "type": "scattergeo"
        },
        {
         "lat": [
          39.87195,
          33.94254
         ],
         "line": {
          "color": "red",
          "width": 1
         },
         "locationmode": "USA-states",
         "lon": [
          -75.24114,
          -118.40807
         ],
         "mode": "lines",
         "type": "scattergeo"
        },
        {
         "lat": [
          30.19453,
          33.94254
         ],
         "line": {
          "color": "red",
          "width": 1
         },
         "locationmode": "USA-states",
         "lon": [
          -97.66987,
          -118.40807
         ],
         "mode": "lines",
         "type": "scattergeo"
        },
        {
         "lat": [
          30.19453,
          33.94254
         ],
         "line": {
          "color": "red",
          "width": 1
         },
         "locationmode": "USA-states",
         "lon": [
          -97.66987,
          -118.40807
         ],
         "mode": "lines",
         "type": "scattergeo"
        },
        {
         "lat": [
          36.77619,
          33.94254
         ],
         "line": {
          "color": "red",
          "width": 1
         },
         "locationmode": "USA-states",
         "lon": [
          -119.71814,
          -118.40807
         ],
         "mode": "lines",
         "type": "scattergeo"
        },
        {
         "lat": [
          42.36435,
          33.94254
         ],
         "line": {
          "color": "red",
          "width": 1
         },
         "locationmode": "USA-states",
         "lon": [
          -71.00518,
          -118.40807
         ],
         "mode": "lines",
         "type": "scattergeo"
        },
        {
         "lat": [
          42.36435,
          33.94254
         ],
         "line": {
          "color": "red",
          "width": 1
         },
         "locationmode": "USA-states",
         "lon": [
          -71.00518,
          -118.40807
         ],
         "mode": "lines",
         "type": "scattergeo"
        },
        {
         "lat": [
          32.73356,
          33.94254
         ],
         "line": {
          "color": "red",
          "width": 1
         },
         "locationmode": "USA-states",
         "lon": [
          -117.18966,
          -118.40807
         ],
         "mode": "lines",
         "type": "scattergeo"
        },
        {
         "lat": [
          21.97598,
          33.94254
         ],
         "line": {
          "color": "red",
          "width": 1
         },
         "locationmode": "USA-states",
         "lon": [
          -159.33896,
          -118.40807
         ],
         "mode": "lines",
         "type": "scattergeo"
        },
        {
         "lat": [
          21.97598,
          33.94254
         ],
         "line": {
          "color": "red",
          "width": 1
         },
         "locationmode": "USA-states",
         "lon": [
          -159.33896,
          -118.40807
         ],
         "mode": "lines",
         "type": "scattergeo"
        },
        {
         "lat": [
          39.22316,
          33.94254
         ],
         "line": {
          "color": "red",
          "width": 1
         },
         "locationmode": "USA-states",
         "lon": [
          -106.86885,
          -118.40807
         ],
         "mode": "lines",
         "type": "scattergeo"
        },
        {
         "lat": [
          39.22316,
          33.94254
         ],
         "line": {
          "color": "red",
          "width": 1
         },
         "locationmode": "USA-states",
         "lon": [
          -106.86885,
          -118.40807
         ],
         "mode": "lines",
         "type": "scattergeo"
        },
        {
         "lat": [
          41.9796,
          33.94254
         ],
         "line": {
          "color": "red",
          "width": 1
         },
         "locationmode": "USA-states",
         "lon": [
          -87.90446,
          -118.40807
         ],
         "mode": "lines",
         "type": "scattergeo"
        },
        {
         "lat": [
          41.9796,
          33.94254
         ],
         "line": {
          "color": "red",
          "width": 1
         },
         "locationmode": "USA-states",
         "lon": [
          -87.90446,
          -118.40807
         ],
         "mode": "lines",
         "type": "scattergeo"
        },
        {
         "lat": [
          47.44898,
          33.94254
         ],
         "line": {
          "color": "red",
          "width": 1
         },
         "locationmode": "USA-states",
         "lon": [
          -122.30931,
          -118.40807
         ],
         "mode": "lines",
         "type": "scattergeo"
        },
        {
         "lat": [
          47.44898,
          33.94254
         ],
         "line": {
          "color": "red",
          "width": 1
         },
         "locationmode": "USA-states",
         "lon": [
          -122.30931,
          -118.40807
         ],
         "mode": "lines",
         "type": "scattergeo"
        },
        {
         "lat": [
          37.72129,
          33.94254
         ],
         "line": {
          "color": "red",
          "width": 1
         },
         "locationmode": "USA-states",
         "lon": [
          -122.22072,
          -118.40807
         ],
         "mode": "lines",
         "type": "scattergeo"
        },
        {
         "lat": [
          37.72129,
          33.94254
         ],
         "line": {
          "color": "red",
          "width": 1
         },
         "locationmode": "USA-states",
         "lon": [
          -122.22072,
          -118.40807
         ],
         "mode": "lines",
         "type": "scattergeo"
        },
        {
         "lat": [
          37.72129,
          33.94254
         ],
         "line": {
          "color": "red",
          "width": 1
         },
         "locationmode": "USA-states",
         "lon": [
          -122.22072,
          -118.40807
         ],
         "mode": "lines",
         "type": "scattergeo"
        },
        {
         "lat": [
          40.78839,
          33.94254
         ],
         "line": {
          "color": "red",
          "width": 1
         },
         "locationmode": "USA-states",
         "lon": [
          -111.97777,
          -118.40807
         ],
         "mode": "lines",
         "type": "scattergeo"
        },
        {
         "lat": [
          40.78839,
          33.94254
         ],
         "line": {
          "color": "red",
          "width": 1
         },
         "locationmode": "USA-states",
         "lon": [
          -111.97777,
          -118.40807
         ],
         "mode": "lines",
         "type": "scattergeo"
        },
        {
         "lat": [
          40.78839,
          33.94254
         ],
         "line": {
          "color": "red",
          "width": 1
         },
         "locationmode": "USA-states",
         "lon": [
          -111.97777,
          -118.40807
         ],
         "mode": "lines",
         "type": "scattergeo"
        },
        {
         "lat": [
          33.43417,
          33.94254
         ],
         "line": {
          "color": "red",
          "width": 1
         },
         "locationmode": "USA-states",
         "lon": [
          -112.00806,
          -118.40807
         ],
         "mode": "lines",
         "type": "scattergeo"
        },
        {
         "lat": [
          39.49858,
          33.94254
         ],
         "line": {
          "color": "red",
          "width": 1
         },
         "locationmode": "USA-states",
         "lon": [
          -119.76806,
          -118.40807
         ],
         "mode": "lines",
         "type": "scattergeo"
        },
        {
         "lat": [
          20.89865,
          33.94254
         ],
         "line": {
          "color": "red",
          "width": 1
         },
         "locationmode": "USA-states",
         "lon": [
          -156.43046,
          -118.40807
         ],
         "mode": "lines",
         "type": "scattergeo"
        },
        {
         "lat": [
          29.64542,
          33.94254
         ],
         "line": {
          "color": "red",
          "width": 1
         },
         "locationmode": "USA-states",
         "lon": [
          -95.27889,
          -118.40807
         ],
         "mode": "lines",
         "type": "scattergeo"
        },
        {
         "lat": [
          29.99339,
          33.94254
         ],
         "line": {
          "color": "red",
          "width": 1
         },
         "locationmode": "USA-states",
         "lon": [
          -90.25803,
          -118.40807
         ],
         "mode": "lines",
         "type": "scattergeo"
        },
        {
         "lat": [
          32.84711,
          33.94254
         ],
         "line": {
          "color": "red",
          "width": 1
         },
         "locationmode": "USA-states",
         "lon": [
          -96.85177,
          -118.40807
         ],
         "mode": "lines",
         "type": "scattergeo"
        },
        {
         "lat": [
          32.84711,
          33.94254
         ],
         "line": {
          "color": "red",
          "width": 1
         },
         "locationmode": "USA-states",
         "lon": [
          -96.85177,
          -118.40807
         ],
         "mode": "lines",
         "type": "scattergeo"
        },
        {
         "lat": [
          34.42621,
          33.94254
         ],
         "line": {
          "color": "red",
          "width": 1
         },
         "locationmode": "USA-states",
         "lon": [
          -119.84037,
          -118.40807
         ],
         "mode": "lines",
         "type": "scattergeo"
        },
        {
         "lat": [
          38.80581,
          33.94254
         ],
         "line": {
          "color": "red",
          "width": 1
         },
         "locationmode": "USA-states",
         "lon": [
          -104.70025,
          -118.40807
         ],
         "mode": "lines",
         "type": "scattergeo"
        },
        {
         "lat": [
          36.12448,
          33.94254
         ],
         "line": {
          "color": "red",
          "width": 1
         },
         "locationmode": "USA-states",
         "lon": [
          -86.67818,
          -118.40807
         ],
         "mode": "lines",
         "type": "scattergeo"
        },
        {
         "lat": [
          36.08036,
          37.619
         ],
         "line": {
          "color": "red",
          "width": 1
         },
         "locationmode": "USA-states",
         "lon": [
          -115.15233,
          -122.37484
         ],
         "mode": "lines",
         "type": "scattergeo"
        },
        {
         "lat": [
          36.08036,
          37.619
         ],
         "line": {
          "color": "red",
          "width": 1
         },
         "locationmode": "USA-states",
         "lon": [
          -115.15233,
          -122.37484
         ],
         "mode": "lines",
         "type": "scattergeo"
        },
        {
         "lat": [
          29.98047,
          37.619
         ],
         "line": {
          "color": "red",
          "width": 1
         },
         "locationmode": "USA-states",
         "lon": [
          -95.33972,
          -122.37484
         ],
         "mode": "lines",
         "type": "scattergeo"
        },
        {
         "lat": [
          29.98047,
          37.619
         ],
         "line": {
          "color": "red",
          "width": 1
         },
         "locationmode": "USA-states",
         "lon": [
          -95.33972,
          -122.37484
         ],
         "mode": "lines",
         "type": "scattergeo"
        },
        {
         "lat": [
          39.85841,
          37.619
         ],
         "line": {
          "color": "red",
          "width": 1
         },
         "locationmode": "USA-states",
         "lon": [
          -104.667,
          -122.37484
         ],
         "mode": "lines",
         "type": "scattergeo"
        },
        {
         "lat": [
          39.85841,
          37.619
         ],
         "line": {
          "color": "red",
          "width": 1
         },
         "locationmode": "USA-states",
         "lon": [
          -104.667,
          -122.37484
         ],
         "mode": "lines",
         "type": "scattergeo"
        },
        {
         "lat": [
          39.85841,
          37.619
         ],
         "line": {
          "color": "red",
          "width": 1
         },
         "locationmode": "USA-states",
         "lon": [
          -104.667,
          -122.37484
         ],
         "mode": "lines",
         "type": "scattergeo"
        },
        {
         "lat": [
          39.85841,
          37.619
         ],
         "line": {
          "color": "red",
          "width": 1
         },
         "locationmode": "USA-states",
         "lon": [
          -104.667,
          -122.37484
         ],
         "mode": "lines",
         "type": "scattergeo"
        },
        {
         "lat": [
          40.63975,
          37.619
         ],
         "line": {
          "color": "red",
          "width": 1
         },
         "locationmode": "USA-states",
         "lon": [
          -73.77893,
          -122.37484
         ],
         "mode": "lines",
         "type": "scattergeo"
        },
        {
         "lat": [
          43.56444,
          37.619
         ],
         "line": {
          "color": "red",
          "width": 1
         },
         "locationmode": "USA-states",
         "lon": [
          -116.22278,
          -122.37484
         ],
         "mode": "lines",
         "type": "scattergeo"
        },
        {
         "lat": [
          32.89595,
          37.619
         ],
         "line": {
          "color": "red",
          "width": 1
         },
         "locationmode": "USA-states",
         "lon": [
          -97.0372,
          -122.37484
         ],
         "mode": "lines",
         "type": "scattergeo"
        },
        {
         "lat": [
          32.89595,
          37.619
         ],
         "line": {
          "color": "red",
          "width": 1
         },
         "locationmode": "USA-states",
         "lon": [
          -97.0372,
          -122.37484
         ],
         "mode": "lines",
         "type": "scattergeo"
        },
        {
         "lat": [
          32.89595,
          37.619
         ],
         "line": {
          "color": "red",
          "width": 1
         },
         "locationmode": "USA-states",
         "lon": [
          -97.0372,
          -122.37484
         ],
         "mode": "lines",
         "type": "scattergeo"
        },
        {
         "lat": [
          32.89595,
          37.619
         ],
         "line": {
          "color": "red",
          "width": 1
         },
         "locationmode": "USA-states",
         "lon": [
          -97.0372,
          -122.37484
         ],
         "mode": "lines",
         "type": "scattergeo"
        },
        {
         "lat": [
          40.6925,
          37.619
         ],
         "line": {
          "color": "red",
          "width": 1
         },
         "locationmode": "USA-states",
         "lon": [
          -74.16866,
          -122.37484
         ],
         "mode": "lines",
         "type": "scattergeo"
        },
        {
         "lat": [
          40.6925,
          37.619
         ],
         "line": {
          "color": "red",
          "width": 1
         },
         "locationmode": "USA-states",
         "lon": [
          -74.16866,
          -122.37484
         ],
         "mode": "lines",
         "type": "scattergeo"
        },
        {
         "lat": [
          39.87195,
          37.619
         ],
         "line": {
          "color": "red",
          "width": 1
         },
         "locationmode": "USA-states",
         "lon": [
          -75.24114,
          -122.37484
         ],
         "mode": "lines",
         "type": "scattergeo"
        },
        {
         "lat": [
          39.87195,
          37.619
         ],
         "line": {
          "color": "red",
          "width": 1
         },
         "locationmode": "USA-states",
         "lon": [
          -75.24114,
          -122.37484
         ],
         "mode": "lines",
         "type": "scattergeo"
        },
        {
         "lat": [
          32.73356,
          37.619
         ],
         "line": {
          "color": "red",
          "width": 1
         },
         "locationmode": "USA-states",
         "lon": [
          -117.18966,
          -122.37484
         ],
         "mode": "lines",
         "type": "scattergeo"
        },
        {
         "lat": [
          32.73356,
          37.619
         ],
         "line": {
          "color": "red",
          "width": 1
         },
         "locationmode": "USA-states",
         "lon": [
          -117.18966,
          -122.37484
         ],
         "mode": "lines",
         "type": "scattergeo"
        },
        {
         "lat": [
          29.53369,
          37.619
         ],
         "line": {
          "color": "red",
          "width": 1
         },
         "locationmode": "USA-states",
         "lon": [
          -98.46978,
          -122.37484
         ],
         "mode": "lines",
         "type": "scattergeo"
        },
        {
         "lat": [
          39.22316,
          37.619
         ],
         "line": {
          "color": "red",
          "width": 1
         },
         "locationmode": "USA-states",
         "lon": [
          -106.86885,
          -122.37484
         ],
         "mode": "lines",
         "type": "scattergeo"
        },
        {
         "lat": [
          41.9796,
          37.619
         ],
         "line": {
          "color": "red",
          "width": 1
         },
         "locationmode": "USA-states",
         "lon": [
          -87.90446,
          -122.37484
         ],
         "mode": "lines",
         "type": "scattergeo"
        },
        {
         "lat": [
          47.44898,
          37.619
         ],
         "line": {
          "color": "red",
          "width": 1
         },
         "locationmode": "USA-states",
         "lon": [
          -122.30931,
          -122.37484
         ],
         "mode": "lines",
         "type": "scattergeo"
        },
        {
         "lat": [
          47.44898,
          37.619
         ],
         "line": {
          "color": "red",
          "width": 1
         },
         "locationmode": "USA-states",
         "lon": [
          -122.30931,
          -122.37484
         ],
         "mode": "lines",
         "type": "scattergeo"
        },
        {
         "lat": [
          33.94254,
          37.619
         ],
         "line": {
          "color": "red",
          "width": 1
         },
         "locationmode": "USA-states",
         "lon": [
          -118.40807,
          -122.37484
         ],
         "mode": "lines",
         "type": "scattergeo"
        },
        {
         "lat": [
          33.94254,
          37.619
         ],
         "line": {
          "color": "red",
          "width": 1
         },
         "locationmode": "USA-states",
         "lon": [
          -118.40807,
          -122.37484
         ],
         "mode": "lines",
         "type": "scattergeo"
        },
        {
         "lat": [
          33.43417,
          37.619
         ],
         "line": {
          "color": "red",
          "width": 1
         },
         "locationmode": "USA-states",
         "lon": [
          -112.00806,
          -122.37484
         ],
         "mode": "lines",
         "type": "scattergeo"
        },
        {
         "lat": [
          33.43417,
          37.619
         ],
         "line": {
          "color": "red",
          "width": 1
         },
         "locationmode": "USA-states",
         "lon": [
          -112.00806,
          -122.37484
         ],
         "mode": "lines",
         "type": "scattergeo"
        },
        {
         "lat": [
          33.43417,
          37.619
         ],
         "line": {
          "color": "red",
          "width": 1
         },
         "locationmode": "USA-states",
         "lon": [
          -112.00806,
          -122.37484
         ],
         "mode": "lines",
         "type": "scattergeo"
        },
        {
         "lat": [
          33.43417,
          37.619
         ],
         "line": {
          "color": "red",
          "width": 1
         },
         "locationmode": "USA-states",
         "lon": [
          -112.00806,
          -122.37484
         ],
         "mode": "lines",
         "type": "scattergeo"
        },
        {
         "lat": [
          33.82922,
          37.619
         ],
         "line": {
          "color": "red",
          "width": 1
         },
         "locationmode": "USA-states",
         "lon": [
          -116.50625,
          -122.37484
         ],
         "mode": "lines",
         "type": "scattergeo"
        },
        {
         "lat": [
          38.94453,
          37.619
         ],
         "line": {
          "color": "red",
          "width": 1
         },
         "locationmode": "USA-states",
         "lon": [
          -77.45581,
          -122.37484
         ],
         "mode": "lines",
         "type": "scattergeo"
        },
        {
         "lat": [
          42.21206,
          37.619
         ],
         "line": {
          "color": "red",
          "width": 1
         },
         "locationmode": "USA-states",
         "lon": [
          -83.34884,
          -122.37484
         ],
         "mode": "lines",
         "type": "scattergeo"
        },
        {
         "lat": [
          32.84711,
          37.619
         ],
         "line": {
          "color": "red",
          "width": 1
         },
         "locationmode": "USA-states",
         "lon": [
          -96.85177,
          -122.37484
         ],
         "mode": "lines",
         "type": "scattergeo"
        },
        {
         "lat": [
          43.50484,
          37.619
         ],
         "line": {
          "color": "red",
          "width": 1
         },
         "locationmode": "USA-states",
         "lon": [
          -114.29659,
          -122.37484
         ],
         "mode": "lines",
         "type": "scattergeo"
        },
        {
         "lat": [
          61.17432,
          37.619
         ],
         "line": {
          "color": "red",
          "width": 1
         },
         "locationmode": "USA-states",
         "lon": [
          -149.99619,
          -122.37484
         ],
         "mode": "lines",
         "type": "scattergeo"
        },
        {
         "lat": [
          36.08036,
          45.58872
         ],
         "line": {
          "color": "red",
          "width": 1
         },
         "locationmode": "USA-states",
         "lon": [
          -115.15233,
          -122.5975
         ],
         "mode": "lines",
         "type": "scattergeo"
        },
        {
         "lat": [
          36.08036,
          45.58872
         ],
         "line": {
          "color": "red",
          "width": 1
         },
         "locationmode": "USA-states",
         "lon": [
          -115.15233,
          -122.5975
         ],
         "mode": "lines",
         "type": "scattergeo"
        },
        {
         "lat": [
          36.08036,
          45.58872
         ],
         "line": {
          "color": "red",
          "width": 1
         },
         "locationmode": "USA-states",
         "lon": [
          -115.15233,
          -122.5975
         ],
         "mode": "lines",
         "type": "scattergeo"
        },
        {
         "lat": [
          29.98047,
          45.58872
         ],
         "line": {
          "color": "red",
          "width": 1
         },
         "locationmode": "USA-states",
         "lon": [
          -95.33972,
          -122.5975
         ],
         "mode": "lines",
         "type": "scattergeo"
        },
        {
         "lat": [
          39.85841,
          45.58872
         ],
         "line": {
          "color": "red",
          "width": 1
         },
         "locationmode": "USA-states",
         "lon": [
          -104.667,
          -122.5975
         ],
         "mode": "lines",
         "type": "scattergeo"
        },
        {
         "lat": [
          39.85841,
          45.58872
         ],
         "line": {
          "color": "red",
          "width": 1
         },
         "locationmode": "USA-states",
         "lon": [
          -104.667,
          -122.5975
         ],
         "mode": "lines",
         "type": "scattergeo"
        },
        {
         "lat": [
          35.04022,
          45.58872
         ],
         "line": {
          "color": "red",
          "width": 1
         },
         "locationmode": "USA-states",
         "lon": [
          -106.60919,
          -122.5975
         ],
         "mode": "lines",
         "type": "scattergeo"
        },
        {
         "lat": [
          32.73356,
          45.58872
         ],
         "line": {
          "color": "red",
          "width": 1
         },
         "locationmode": "USA-states",
         "lon": [
          -117.18966,
          -122.5975
         ],
         "mode": "lines",
         "type": "scattergeo"
        },
        {
         "lat": [
          32.73356,
          45.58872
         ],
         "line": {
          "color": "red",
          "width": 1
         },
         "locationmode": "USA-states",
         "lon": [
          -117.18966,
          -122.5975
         ],
         "mode": "lines",
         "type": "scattergeo"
        },
        {
         "lat": [
          37.72129,
          45.58872
         ],
         "line": {
          "color": "red",
          "width": 1
         },
         "locationmode": "USA-states",
         "lon": [
          -122.22072,
          -122.5975
         ],
         "mode": "lines",
         "type": "scattergeo"
        },
        {
         "lat": [
          40.78839,
          45.58872
         ],
         "line": {
          "color": "red",
          "width": 1
         },
         "locationmode": "USA-states",
         "lon": [
          -111.97777,
          -122.5975
         ],
         "mode": "lines",
         "type": "scattergeo"
        },
        {
         "lat": [
          33.43417,
          45.58872
         ],
         "line": {
          "color": "red",
          "width": 1
         },
         "locationmode": "USA-states",
         "lon": [
          -112.00806,
          -122.5975
         ],
         "mode": "lines",
         "type": "scattergeo"
        },
        {
         "lat": [
          33.43417,
          45.58872
         ],
         "line": {
          "color": "red",
          "width": 1
         },
         "locationmode": "USA-states",
         "lon": [
          -112.00806,
          -122.5975
         ],
         "mode": "lines",
         "type": "scattergeo"
        },
        {
         "lat": [
          36.08036,
          41.53493
         ],
         "line": {
          "color": "red",
          "width": 1
         },
         "locationmode": "USA-states",
         "lon": [
          -115.15233,
          -93.66068
         ],
         "mode": "lines",
         "type": "scattergeo"
        },
        {
         "lat": [
          39.85841,
          41.53493
         ],
         "line": {
          "color": "red",
          "width": 1
         },
         "locationmode": "USA-states",
         "lon": [
          -104.667,
          -93.66068
         ],
         "mode": "lines",
         "type": "scattergeo"
        },
        {
         "lat": [
          39.85841,
          41.53493
         ],
         "line": {
          "color": "red",
          "width": 1
         },
         "locationmode": "USA-states",
         "lon": [
          -104.667,
          -93.66068
         ],
         "mode": "lines",
         "type": "scattergeo"
        },
        {
         "lat": [
          32.89595,
          41.53493
         ],
         "line": {
          "color": "red",
          "width": 1
         },
         "locationmode": "USA-states",
         "lon": [
          -97.0372,
          -93.66068
         ],
         "mode": "lines",
         "type": "scattergeo"
        },
        {
         "lat": [
          32.89595,
          41.53493
         ],
         "line": {
          "color": "red",
          "width": 1
         },
         "locationmode": "USA-states",
         "lon": [
          -97.0372,
          -93.66068
         ],
         "mode": "lines",
         "type": "scattergeo"
        },
        {
         "lat": [
          41.9796,
          41.53493
         ],
         "line": {
          "color": "red",
          "width": 1
         },
         "locationmode": "USA-states",
         "lon": [
          -87.90446,
          -93.66068
         ],
         "mode": "lines",
         "type": "scattergeo"
        },
        {
         "lat": [
          41.9796,
          41.53493
         ],
         "line": {
          "color": "red",
          "width": 1
         },
         "locationmode": "USA-states",
         "lon": [
          -87.90446,
          -93.66068
         ],
         "mode": "lines",
         "type": "scattergeo"
        },
        {
         "lat": [
          41.9796,
          41.53493
         ],
         "line": {
          "color": "red",
          "width": 1
         },
         "locationmode": "USA-states",
         "lon": [
          -87.90446,
          -93.66068
         ],
         "mode": "lines",
         "type": "scattergeo"
        },
        {
         "lat": [
          42.21206,
          41.53493
         ],
         "line": {
          "color": "red",
          "width": 1
         },
         "locationmode": "USA-states",
         "lon": [
          -83.34884,
          -93.66068
         ],
         "mode": "lines",
         "type": "scattergeo"
        },
        {
         "lat": [
          36.08036,
          42.21206
         ],
         "line": {
          "color": "red",
          "width": 1
         },
         "locationmode": "USA-states",
         "lon": [
          -115.15233,
          -83.34884
         ],
         "mode": "lines",
         "type": "scattergeo"
        },
        {
         "lat": [
          39.85841,
          42.21206
         ],
         "line": {
          "color": "red",
          "width": 1
         },
         "locationmode": "USA-states",
         "lon": [
          -104.667,
          -83.34884
         ],
         "mode": "lines",
         "type": "scattergeo"
        },
        {
         "lat": [
          37.619,
          42.21206
         ],
         "line": {
          "color": "red",
          "width": 1
         },
         "locationmode": "USA-states",
         "lon": [
          -122.37484,
          -83.34884
         ],
         "mode": "lines",
         "type": "scattergeo"
        },
        {
         "lat": [
          33.64044,
          42.21206
         ],
         "line": {
          "color": "red",
          "width": 1
         },
         "locationmode": "USA-states",
         "lon": [
          -84.42694,
          -83.34884
         ],
         "mode": "lines",
         "type": "scattergeo"
        },
        {
         "lat": [
          33.64044,
          42.21206
         ],
         "line": {
          "color": "red",
          "width": 1
         },
         "locationmode": "USA-states",
         "lon": [
          -84.42694,
          -83.34884
         ],
         "mode": "lines",
         "type": "scattergeo"
        },
        {
         "lat": [
          32.89595,
          42.21206
         ],
         "line": {
          "color": "red",
          "width": 1
         },
         "locationmode": "USA-states",
         "lon": [
          -97.0372,
          -83.34884
         ],
         "mode": "lines",
         "type": "scattergeo"
        },
        {
         "lat": [
          25.79325,
          42.21206
         ],
         "line": {
          "color": "red",
          "width": 1
         },
         "locationmode": "USA-states",
         "lon": [
          -80.29056,
          -83.34884
         ],
         "mode": "lines",
         "type": "scattergeo"
        },
        {
         "lat": [
          28.42889,
          42.21206
         ],
         "line": {
          "color": "red",
          "width": 1
         },
         "locationmode": "USA-states",
         "lon": [
          -81.31603,
          -83.34884
         ],
         "mode": "lines",
         "type": "scattergeo"
        },
        {
         "lat": [
          39.87195,
          42.21206
         ],
         "line": {
          "color": "red",
          "width": 1
         },
         "locationmode": "USA-states",
         "lon": [
          -75.24114,
          -83.34884
         ],
         "mode": "lines",
         "type": "scattergeo"
        },
        {
         "lat": [
          43.13986,
          42.21206
         ],
         "line": {
          "color": "red",
          "width": 1
         },
         "locationmode": "USA-states",
         "lon": [
          -89.33751,
          -83.34884
         ],
         "mode": "lines",
         "type": "scattergeo"
        },
        {
         "lat": [
          41.9796,
          42.21206
         ],
         "line": {
          "color": "red",
          "width": 1
         },
         "locationmode": "USA-states",
         "lon": [
          -87.90446,
          -83.34884
         ],
         "mode": "lines",
         "type": "scattergeo"
        },
        {
         "lat": [
          33.43417,
          42.21206
         ],
         "line": {
          "color": "red",
          "width": 1
         },
         "locationmode": "USA-states",
         "lon": [
          -112.00806,
          -83.34884
         ],
         "mode": "lines",
         "type": "scattergeo"
        },
        {
         "lat": [
          40.27669,
          42.21206
         ],
         "line": {
          "color": "red",
          "width": 1
         },
         "locationmode": "USA-states",
         "lon": [
          -74.81347,
          -83.34884
         ],
         "mode": "lines",
         "type": "scattergeo"
        },
        {
         "lat": [
          36.08036,
          37.36186
         ],
         "line": {
          "color": "red",
          "width": 1
         },
         "locationmode": "USA-states",
         "lon": [
          -115.15233,
          -121.92901
         ],
         "mode": "lines",
         "type": "scattergeo"
        },
        {
         "lat": [
          39.85841,
          37.36186
         ],
         "line": {
          "color": "red",
          "width": 1
         },
         "locationmode": "USA-states",
         "lon": [
          -104.667,
          -121.92901
         ],
         "mode": "lines",
         "type": "scattergeo"
        },
        {
         "lat": [
          32.89595,
          37.36186
         ],
         "line": {
          "color": "red",
          "width": 1
         },
         "locationmode": "USA-states",
         "lon": [
          -97.0372,
          -121.92901
         ],
         "mode": "lines",
         "type": "scattergeo"
        },
        {
         "lat": [
          32.89595,
          37.36186
         ],
         "line": {
          "color": "red",
          "width": 1
         },
         "locationmode": "USA-states",
         "lon": [
          -97.0372,
          -121.92901
         ],
         "mode": "lines",
         "type": "scattergeo"
        },
        {
         "lat": [
          47.44898,
          37.36186
         ],
         "line": {
          "color": "red",
          "width": 1
         },
         "locationmode": "USA-states",
         "lon": [
          -122.30931,
          -121.92901
         ],
         "mode": "lines",
         "type": "scattergeo"
        },
        {
         "lat": [
          33.94254,
          37.36186
         ],
         "line": {
          "color": "red",
          "width": 1
         },
         "locationmode": "USA-states",
         "lon": [
          -118.40807,
          -121.92901
         ],
         "mode": "lines",
         "type": "scattergeo"
        },
        {
         "lat": [
          33.94254,
          37.36186
         ],
         "line": {
          "color": "red",
          "width": 1
         },
         "locationmode": "USA-states",
         "lon": [
          -118.40807,
          -121.92901
         ],
         "mode": "lines",
         "type": "scattergeo"
        },
        {
         "lat": [
          40.78839,
          37.36186
         ],
         "line": {
          "color": "red",
          "width": 1
         },
         "locationmode": "USA-states",
         "lon": [
          -111.97777,
          -121.92901
         ],
         "mode": "lines",
         "type": "scattergeo"
        },
        {
         "lat": [
          33.43417,
          37.36186
         ],
         "line": {
          "color": "red",
          "width": 1
         },
         "locationmode": "USA-states",
         "lon": [
          -112.00806,
          -121.92901
         ],
         "mode": "lines",
         "type": "scattergeo"
        },
        {
         "lat": [
          33.43417,
          37.36186
         ],
         "line": {
          "color": "red",
          "width": 1
         },
         "locationmode": "USA-states",
         "lon": [
          -112.00806,
          -121.92901
         ],
         "mode": "lines",
         "type": "scattergeo"
        },
        {
         "lat": [
          33.43417,
          37.36186
         ],
         "line": {
          "color": "red",
          "width": 1
         },
         "locationmode": "USA-states",
         "lon": [
          -112.00806,
          -121.92901
         ],
         "mode": "lines",
         "type": "scattergeo"
        },
        {
         "lat": [
          36.08036,
          30.19453
         ],
         "line": {
          "color": "red",
          "width": 1
         },
         "locationmode": "USA-states",
         "lon": [
          -115.15233,
          -97.66987
         ],
         "mode": "lines",
         "type": "scattergeo"
        },
        {
         "lat": [
          36.08036,
          30.19453
         ],
         "line": {
          "color": "red",
          "width": 1
         },
         "locationmode": "USA-states",
         "lon": [
          -115.15233,
          -97.66987
         ],
         "mode": "lines",
         "type": "scattergeo"
        },
        {
         "lat": [
          29.98047,
          30.19453
         ],
         "line": {
          "color": "red",
          "width": 1
         },
         "locationmode": "USA-states",
         "lon": [
          -95.33972,
          -97.66987
         ],
         "mode": "lines",
         "type": "scattergeo"
        },
        {
         "lat": [
          29.98047,
          30.19453
         ],
         "line": {
          "color": "red",
          "width": 1
         },
         "locationmode": "USA-states",
         "lon": [
          -95.33972,
          -97.66987
         ],
         "mode": "lines",
         "type": "scattergeo"
        },
        {
         "lat": [
          29.98047,
          30.19453
         ],
         "line": {
          "color": "red",
          "width": 1
         },
         "locationmode": "USA-states",
         "lon": [
          -95.33972,
          -97.66987
         ],
         "mode": "lines",
         "type": "scattergeo"
        },
        {
         "lat": [
          39.85841,
          30.19453
         ],
         "line": {
          "color": "red",
          "width": 1
         },
         "locationmode": "USA-states",
         "lon": [
          -104.667,
          -97.66987
         ],
         "mode": "lines",
         "type": "scattergeo"
        },
        {
         "lat": [
          39.85841,
          30.19453
         ],
         "line": {
          "color": "red",
          "width": 1
         },
         "locationmode": "USA-states",
         "lon": [
          -104.667,
          -97.66987
         ],
         "mode": "lines",
         "type": "scattergeo"
        },
        {
         "lat": [
          39.85841,
          30.19453
         ],
         "line": {
          "color": "red",
          "width": 1
         },
         "locationmode": "USA-states",
         "lon": [
          -104.667,
          -97.66987
         ],
         "mode": "lines",
         "type": "scattergeo"
        },
        {
         "lat": [
          39.85841,
          30.19453
         ],
         "line": {
          "color": "red",
          "width": 1
         },
         "locationmode": "USA-states",
         "lon": [
          -104.667,
          -97.66987
         ],
         "mode": "lines",
         "type": "scattergeo"
        },
        {
         "lat": [
          39.85841,
          30.19453
         ],
         "line": {
          "color": "red",
          "width": 1
         },
         "locationmode": "USA-states",
         "lon": [
          -104.667,
          -97.66987
         ],
         "mode": "lines",
         "type": "scattergeo"
        },
        {
         "lat": [
          37.619,
          30.19453
         ],
         "line": {
          "color": "red",
          "width": 1
         },
         "locationmode": "USA-states",
         "lon": [
          -122.37484,
          -97.66987
         ],
         "mode": "lines",
         "type": "scattergeo"
        },
        {
         "lat": [
          32.89595,
          30.19453
         ],
         "line": {
          "color": "red",
          "width": 1
         },
         "locationmode": "USA-states",
         "lon": [
          -97.0372,
          -97.66987
         ],
         "mode": "lines",
         "type": "scattergeo"
        },
        {
         "lat": [
          32.89595,
          30.19453
         ],
         "line": {
          "color": "red",
          "width": 1
         },
         "locationmode": "USA-states",
         "lon": [
          -97.0372,
          -97.66987
         ],
         "mode": "lines",
         "type": "scattergeo"
        },
        {
         "lat": [
          32.89595,
          30.19453
         ],
         "line": {
          "color": "red",
          "width": 1
         },
         "locationmode": "USA-states",
         "lon": [
          -97.0372,
          -97.66987
         ],
         "mode": "lines",
         "type": "scattergeo"
        },
        {
         "lat": [
          32.89595,
          30.19453
         ],
         "line": {
          "color": "red",
          "width": 1
         },
         "locationmode": "USA-states",
         "lon": [
          -97.0372,
          -97.66987
         ],
         "mode": "lines",
         "type": "scattergeo"
        },
        {
         "lat": [
          28.42889,
          30.19453
         ],
         "line": {
          "color": "red",
          "width": 1
         },
         "locationmode": "USA-states",
         "lon": [
          -81.31603,
          -97.66987
         ],
         "mode": "lines",
         "type": "scattergeo"
        },
        {
         "lat": [
          32.73356,
          30.19453
         ],
         "line": {
          "color": "red",
          "width": 1
         },
         "locationmode": "USA-states",
         "lon": [
          -117.18966,
          -97.66987
         ],
         "mode": "lines",
         "type": "scattergeo"
        },
        {
         "lat": [
          41.9796,
          30.19453
         ],
         "line": {
          "color": "red",
          "width": 1
         },
         "locationmode": "USA-states",
         "lon": [
          -87.90446,
          -97.66987
         ],
         "mode": "lines",
         "type": "scattergeo"
        },
        {
         "lat": [
          33.94254,
          30.19453
         ],
         "line": {
          "color": "red",
          "width": 1
         },
         "locationmode": "USA-states",
         "lon": [
          -118.40807,
          -97.66987
         ],
         "mode": "lines",
         "type": "scattergeo"
        },
        {
         "lat": [
          33.94254,
          30.19453
         ],
         "line": {
          "color": "red",
          "width": 1
         },
         "locationmode": "USA-states",
         "lon": [
          -118.40807,
          -97.66987
         ],
         "mode": "lines",
         "type": "scattergeo"
        },
        {
         "lat": [
          33.43417,
          30.19453
         ],
         "line": {
          "color": "red",
          "width": 1
         },
         "locationmode": "USA-states",
         "lon": [
          -112.00806,
          -97.66987
         ],
         "mode": "lines",
         "type": "scattergeo"
        },
        {
         "lat": [
          33.43417,
          30.19453
         ],
         "line": {
          "color": "red",
          "width": 1
         },
         "locationmode": "USA-states",
         "lon": [
          -112.00806,
          -97.66987
         ],
         "mode": "lines",
         "type": "scattergeo"
        },
        {
         "lat": [
          32.84711,
          30.19453
         ],
         "line": {
          "color": "red",
          "width": 1
         },
         "locationmode": "USA-states",
         "lon": [
          -96.85177,
          -97.66987
         ],
         "mode": "lines",
         "type": "scattergeo"
        },
        {
         "lat": [
          32.84711,
          30.19453
         ],
         "line": {
          "color": "red",
          "width": 1
         },
         "locationmode": "USA-states",
         "lon": [
          -96.85177,
          -97.66987
         ],
         "mode": "lines",
         "type": "scattergeo"
        },
        {
         "lat": [
          32.84711,
          30.19453
         ],
         "line": {
          "color": "red",
          "width": 1
         },
         "locationmode": "USA-states",
         "lon": [
          -96.85177,
          -97.66987
         ],
         "mode": "lines",
         "type": "scattergeo"
        },
        {
         "lat": [
          36.12448,
          30.19453
         ],
         "line": {
          "color": "red",
          "width": 1
         },
         "locationmode": "USA-states",
         "lon": [
          -86.67818,
          -97.66987
         ],
         "mode": "lines",
         "type": "scattergeo"
        },
        {
         "lat": [
          36.08036,
          42.94722
         ],
         "line": {
          "color": "red",
          "width": 1
         },
         "locationmode": "USA-states",
         "lon": [
          -115.15233,
          -87.89658
         ],
         "mode": "lines",
         "type": "scattergeo"
        },
        {
         "lat": [
          39.85841,
          42.94722
         ],
         "line": {
          "color": "red",
          "width": 1
         },
         "locationmode": "USA-states",
         "lon": [
          -104.667,
          -87.89658
         ],
         "mode": "lines",
         "type": "scattergeo"
        },
        {
         "lat": [
          39.85841,
          42.94722
         ],
         "line": {
          "color": "red",
          "width": 1
         },
         "locationmode": "USA-states",
         "lon": [
          -104.667,
          -87.89658
         ],
         "mode": "lines",
         "type": "scattergeo"
        },
        {
         "lat": [
          39.85841,
          42.94722
         ],
         "line": {
          "color": "red",
          "width": 1
         },
         "locationmode": "USA-states",
         "lon": [
          -104.667,
          -87.89658
         ],
         "mode": "lines",
         "type": "scattergeo"
        },
        {
         "lat": [
          40.77724,
          42.94722
         ],
         "line": {
          "color": "red",
          "width": 1
         },
         "locationmode": "USA-states",
         "lon": [
          -73.87261,
          -87.89658
         ],
         "mode": "lines",
         "type": "scattergeo"
        },
        {
         "lat": [
          33.64044,
          42.94722
         ],
         "line": {
          "color": "red",
          "width": 1
         },
         "locationmode": "USA-states",
         "lon": [
          -84.42694,
          -87.89658
         ],
         "mode": "lines",
         "type": "scattergeo"
        },
        {
         "lat": [
          33.64044,
          42.94722
         ],
         "line": {
          "color": "red",
          "width": 1
         },
         "locationmode": "USA-states",
         "lon": [
          -84.42694,
          -87.89658
         ],
         "mode": "lines",
         "type": "scattergeo"
        },
        {
         "lat": [
          32.89595,
          42.94722
         ],
         "line": {
          "color": "red",
          "width": 1
         },
         "locationmode": "USA-states",
         "lon": [
          -97.0372,
          -87.89658
         ],
         "mode": "lines",
         "type": "scattergeo"
        },
        {
         "lat": [
          28.42889,
          42.94722
         ],
         "line": {
          "color": "red",
          "width": 1
         },
         "locationmode": "USA-states",
         "lon": [
          -81.31603,
          -87.89658
         ],
         "mode": "lines",
         "type": "scattergeo"
        },
        {
         "lat": [
          44.88055,
          42.94722
         ],
         "line": {
          "color": "red",
          "width": 1
         },
         "locationmode": "USA-states",
         "lon": [
          -93.21692,
          -87.89658
         ],
         "mode": "lines",
         "type": "scattergeo"
        },
        {
         "lat": [
          41.9796,
          42.94722
         ],
         "line": {
          "color": "red",
          "width": 1
         },
         "locationmode": "USA-states",
         "lon": [
          -87.90446,
          -87.89658
         ],
         "mode": "lines",
         "type": "scattergeo"
        },
        {
         "lat": [
          41.9796,
          42.94722
         ],
         "line": {
          "color": "red",
          "width": 1
         },
         "locationmode": "USA-states",
         "lon": [
          -87.90446,
          -87.89658
         ],
         "mode": "lines",
         "type": "scattergeo"
        },
        {
         "lat": [
          33.43417,
          42.94722
         ],
         "line": {
          "color": "red",
          "width": 1
         },
         "locationmode": "USA-states",
         "lon": [
          -112.00806,
          -87.89658
         ],
         "mode": "lines",
         "type": "scattergeo"
        },
        {
         "lat": [
          42.21206,
          42.94722
         ],
         "line": {
          "color": "red",
          "width": 1
         },
         "locationmode": "USA-states",
         "lon": [
          -83.34884,
          -87.89658
         ],
         "mode": "lines",
         "type": "scattergeo"
        },
        {
         "lat": [
          36.08036,
          43.56444
         ],
         "line": {
          "color": "red",
          "width": 1
         },
         "locationmode": "USA-states",
         "lon": [
          -115.15233,
          -116.22278
         ],
         "mode": "lines",
         "type": "scattergeo"
        },
        {
         "lat": [
          29.98047,
          43.56444
         ],
         "line": {
          "color": "red",
          "width": 1
         },
         "locationmode": "USA-states",
         "lon": [
          -95.33972,
          -116.22278
         ],
         "mode": "lines",
         "type": "scattergeo"
        },
        {
         "lat": [
          39.85841,
          43.56444
         ],
         "line": {
          "color": "red",
          "width": 1
         },
         "locationmode": "USA-states",
         "lon": [
          -104.667,
          -116.22278
         ],
         "mode": "lines",
         "type": "scattergeo"
        },
        {
         "lat": [
          39.85841,
          43.56444
         ],
         "line": {
          "color": "red",
          "width": 1
         },
         "locationmode": "USA-states",
         "lon": [
          -104.667,
          -116.22278
         ],
         "mode": "lines",
         "type": "scattergeo"
        },
        {
         "lat": [
          37.619,
          43.56444
         ],
         "line": {
          "color": "red",
          "width": 1
         },
         "locationmode": "USA-states",
         "lon": [
          -122.37484,
          -116.22278
         ],
         "mode": "lines",
         "type": "scattergeo"
        },
        {
         "lat": [
          37.619,
          43.56444
         ],
         "line": {
          "color": "red",
          "width": 1
         },
         "locationmode": "USA-states",
         "lon": [
          -122.37484,
          -116.22278
         ],
         "mode": "lines",
         "type": "scattergeo"
        },
        {
         "lat": [
          37.72129,
          43.56444
         ],
         "line": {
          "color": "red",
          "width": 1
         },
         "locationmode": "USA-states",
         "lon": [
          -122.22072,
          -116.22278
         ],
         "mode": "lines",
         "type": "scattergeo"
        },
        {
         "lat": [
          33.94254,
          43.56444
         ],
         "line": {
          "color": "red",
          "width": 1
         },
         "locationmode": "USA-states",
         "lon": [
          -118.40807,
          -116.22278
         ],
         "mode": "lines",
         "type": "scattergeo"
        },
        {
         "lat": [
          36.08036,
          33.43417
         ],
         "line": {
          "color": "red",
          "width": 1
         },
         "locationmode": "USA-states",
         "lon": [
          -115.15233,
          -112.00806
         ],
         "mode": "lines",
         "type": "scattergeo"
        },
        {
         "lat": [
          36.08036,
          33.43417
         ],
         "line": {
          "color": "red",
          "width": 1
         },
         "locationmode": "USA-states",
         "lon": [
          -115.15233,
          -112.00806
         ],
         "mode": "lines",
         "type": "scattergeo"
        },
        {
         "lat": [
          36.08036,
          33.43417
         ],
         "line": {
          "color": "red",
          "width": 1
         },
         "locationmode": "USA-states",
         "lon": [
          -115.15233,
          -112.00806
         ],
         "mode": "lines",
         "type": "scattergeo"
        },
        {
         "lat": [
          45.58872,
          33.43417
         ],
         "line": {
          "color": "red",
          "width": 1
         },
         "locationmode": "USA-states",
         "lon": [
          -122.5975,
          -112.00806
         ],
         "mode": "lines",
         "type": "scattergeo"
        },
        {
         "lat": [
          29.98047,
          33.43417
         ],
         "line": {
          "color": "red",
          "width": 1
         },
         "locationmode": "USA-states",
         "lon": [
          -95.33972,
          -112.00806
         ],
         "mode": "lines",
         "type": "scattergeo"
        },
        {
         "lat": [
          29.98047,
          33.43417
         ],
         "line": {
          "color": "red",
          "width": 1
         },
         "locationmode": "USA-states",
         "lon": [
          -95.33972,
          -112.00806
         ],
         "mode": "lines",
         "type": "scattergeo"
        },
        {
         "lat": [
          39.85841,
          33.43417
         ],
         "line": {
          "color": "red",
          "width": 1
         },
         "locationmode": "USA-states",
         "lon": [
          -104.667,
          -112.00806
         ],
         "mode": "lines",
         "type": "scattergeo"
        },
        {
         "lat": [
          39.85841,
          33.43417
         ],
         "line": {
          "color": "red",
          "width": 1
         },
         "locationmode": "USA-states",
         "lon": [
          -104.667,
          -112.00806
         ],
         "mode": "lines",
         "type": "scattergeo"
        },
        {
         "lat": [
          39.85841,
          33.43417
         ],
         "line": {
          "color": "red",
          "width": 1
         },
         "locationmode": "USA-states",
         "lon": [
          -104.667,
          -112.00806
         ],
         "mode": "lines",
         "type": "scattergeo"
        },
        {
         "lat": [
          39.85841,
          33.43417
         ],
         "line": {
          "color": "red",
          "width": 1
         },
         "locationmode": "USA-states",
         "lon": [
          -104.667,
          -112.00806
         ],
         "mode": "lines",
         "type": "scattergeo"
        },
        {
         "lat": [
          39.85841,
          33.43417
         ],
         "line": {
          "color": "red",
          "width": 1
         },
         "locationmode": "USA-states",
         "lon": [
          -104.667,
          -112.00806
         ],
         "mode": "lines",
         "type": "scattergeo"
        },
        {
         "lat": [
          39.85841,
          33.43417
         ],
         "line": {
          "color": "red",
          "width": 1
         },
         "locationmode": "USA-states",
         "lon": [
          -104.667,
          -112.00806
         ],
         "mode": "lines",
         "type": "scattergeo"
        },
        {
         "lat": [
          39.85841,
          33.43417
         ],
         "line": {
          "color": "red",
          "width": 1
         },
         "locationmode": "USA-states",
         "lon": [
          -104.667,
          -112.00806
         ],
         "mode": "lines",
         "type": "scattergeo"
        },
        {
         "lat": [
          39.85841,
          33.43417
         ],
         "line": {
          "color": "red",
          "width": 1
         },
         "locationmode": "USA-states",
         "lon": [
          -104.667,
          -112.00806
         ],
         "mode": "lines",
         "type": "scattergeo"
        },
        {
         "lat": [
          37.619,
          33.43417
         ],
         "line": {
          "color": "red",
          "width": 1
         },
         "locationmode": "USA-states",
         "lon": [
          -122.37484,
          -112.00806
         ],
         "mode": "lines",
         "type": "scattergeo"
        },
        {
         "lat": [
          40.63975,
          33.43417
         ],
         "line": {
          "color": "red",
          "width": 1
         },
         "locationmode": "USA-states",
         "lon": [
          -73.77893,
          -112.00806
         ],
         "mode": "lines",
         "type": "scattergeo"
        },
        {
         "lat": [
          40.63975,
          33.43417
         ],
         "line": {
          "color": "red",
          "width": 1
         },
         "locationmode": "USA-states",
         "lon": [
          -73.77893,
          -112.00806
         ],
         "mode": "lines",
         "type": "scattergeo"
        },
        {
         "lat": [
          40.63975,
          33.43417
         ],
         "line": {
          "color": "red",
          "width": 1
         },
         "locationmode": "USA-states",
         "lon": [
          -73.77893,
          -112.00806
         ],
         "mode": "lines",
         "type": "scattergeo"
        },
        {
         "lat": [
          40.63975,
          33.43417
         ],
         "line": {
          "color": "red",
          "width": 1
         },
         "locationmode": "USA-states",
         "lon": [
          -73.77893,
          -112.00806
         ],
         "mode": "lines",
         "type": "scattergeo"
        },
        {
         "lat": [
          40.49147,
          33.43417
         ],
         "line": {
          "color": "red",
          "width": 1
         },
         "locationmode": "USA-states",
         "lon": [
          -80.23287,
          -112.00806
         ],
         "mode": "lines",
         "type": "scattergeo"
        },
        {
         "lat": [
          35.04022,
          33.43417
         ],
         "line": {
          "color": "red",
          "width": 1
         },
         "locationmode": "USA-states",
         "lon": [
          -106.60919,
          -112.00806
         ],
         "mode": "lines",
         "type": "scattergeo"
        },
        {
         "lat": [
          35.04022,
          33.43417
         ],
         "line": {
          "color": "red",
          "width": 1
         },
         "locationmode": "USA-states",
         "lon": [
          -106.60919,
          -112.00806
         ],
         "mode": "lines",
         "type": "scattergeo"
        },
        {
         "lat": [
          39.1754,
          33.43417
         ],
         "line": {
          "color": "red",
          "width": 1
         },
         "locationmode": "USA-states",
         "lon": [
          -76.6682,
          -112.00806
         ],
         "mode": "lines",
         "type": "scattergeo"
        },
        {
         "lat": [
          39.1754,
          33.43417
         ],
         "line": {
          "color": "red",
          "width": 1
         },
         "locationmode": "USA-states",
         "lon": [
          -76.6682,
          -112.00806
         ],
         "mode": "lines",
         "type": "scattergeo"
        },
        {
         "lat": [
          32.89595,
          33.43417
         ],
         "line": {
          "color": "red",
          "width": 1
         },
         "locationmode": "USA-states",
         "lon": [
          -97.0372,
          -112.00806
         ],
         "mode": "lines",
         "type": "scattergeo"
        },
        {
         "lat": [
          32.89595,
          33.43417
         ],
         "line": {
          "color": "red",
          "width": 1
         },
         "locationmode": "USA-states",
         "lon": [
          -97.0372,
          -112.00806
         ],
         "mode": "lines",
         "type": "scattergeo"
        },
        {
         "lat": [
          32.89595,
          33.43417
         ],
         "line": {
          "color": "red",
          "width": 1
         },
         "locationmode": "USA-states",
         "lon": [
          -97.0372,
          -112.00806
         ],
         "mode": "lines",
         "type": "scattergeo"
        },
        {
         "lat": [
          40.6925,
          33.43417
         ],
         "line": {
          "color": "red",
          "width": 1
         },
         "locationmode": "USA-states",
         "lon": [
          -74.16866,
          -112.00806
         ],
         "mode": "lines",
         "type": "scattergeo"
        },
        {
         "lat": [
          40.6925,
          33.43417
         ],
         "line": {
          "color": "red",
          "width": 1
         },
         "locationmode": "USA-states",
         "lon": [
          -74.16866,
          -112.00806
         ],
         "mode": "lines",
         "type": "scattergeo"
        },
        {
         "lat": [
          39.87195,
          33.43417
         ],
         "line": {
          "color": "red",
          "width": 1
         },
         "locationmode": "USA-states",
         "lon": [
          -75.24114,
          -112.00806
         ],
         "mode": "lines",
         "type": "scattergeo"
        },
        {
         "lat": [
          30.19453,
          33.43417
         ],
         "line": {
          "color": "red",
          "width": 1
         },
         "locationmode": "USA-states",
         "lon": [
          -97.66987,
          -112.00806
         ],
         "mode": "lines",
         "type": "scattergeo"
        },
        {
         "lat": [
          21.31869,
          33.43417
         ],
         "line": {
          "color": "red",
          "width": 1
         },
         "locationmode": "USA-states",
         "lon": [
          -157.92241,
          -112.00806
         ],
         "mode": "lines",
         "type": "scattergeo"
        },
        {
         "lat": [
          21.31869,
          33.43417
         ],
         "line": {
          "color": "red",
          "width": 1
         },
         "locationmode": "USA-states",
         "lon": [
          -157.92241,
          -112.00806
         ],
         "mode": "lines",
         "type": "scattergeo"
        },
        {
         "lat": [
          42.36435,
          33.43417
         ],
         "line": {
          "color": "red",
          "width": 1
         },
         "locationmode": "USA-states",
         "lon": [
          -71.00518,
          -112.00806
         ],
         "mode": "lines",
         "type": "scattergeo"
        },
        {
         "lat": [
          32.73356,
          33.43417
         ],
         "line": {
          "color": "red",
          "width": 1
         },
         "locationmode": "USA-states",
         "lon": [
          -117.18966,
          -112.00806
         ],
         "mode": "lines",
         "type": "scattergeo"
        },
        {
         "lat": [
          32.73356,
          33.43417
         ],
         "line": {
          "color": "red",
          "width": 1
         },
         "locationmode": "USA-states",
         "lon": [
          -117.18966,
          -112.00806
         ],
         "mode": "lines",
         "type": "scattergeo"
        },
        {
         "lat": [
          29.53369,
          33.43417
         ],
         "line": {
          "color": "red",
          "width": 1
         },
         "locationmode": "USA-states",
         "lon": [
          -98.46978,
          -112.00806
         ],
         "mode": "lines",
         "type": "scattergeo"
        },
        {
         "lat": [
          39.71733,
          33.43417
         ],
         "line": {
          "color": "red",
          "width": 1
         },
         "locationmode": "USA-states",
         "lon": [
          -86.29438,
          -112.00806
         ],
         "mode": "lines",
         "type": "scattergeo"
        },
        {
         "lat": [
          21.97598,
          33.43417
         ],
         "line": {
          "color": "red",
          "width": 1
         },
         "locationmode": "USA-states",
         "lon": [
          -159.33896,
          -112.00806
         ],
         "mode": "lines",
         "type": "scattergeo"
        },
        {
         "lat": [
          41.9796,
          33.43417
         ],
         "line": {
          "color": "red",
          "width": 1
         },
         "locationmode": "USA-states",
         "lon": [
          -87.90446,
          -112.00806
         ],
         "mode": "lines",
         "type": "scattergeo"
        },
        {
         "lat": [
          41.9796,
          33.43417
         ],
         "line": {
          "color": "red",
          "width": 1
         },
         "locationmode": "USA-states",
         "lon": [
          -87.90446,
          -112.00806
         ],
         "mode": "lines",
         "type": "scattergeo"
        },
        {
         "lat": [
          41.9796,
          33.43417
         ],
         "line": {
          "color": "red",
          "width": 1
         },
         "locationmode": "USA-states",
         "lon": [
          -87.90446,
          -112.00806
         ],
         "mode": "lines",
         "type": "scattergeo"
        },
        {
         "lat": [
          41.9796,
          33.43417
         ],
         "line": {
          "color": "red",
          "width": 1
         },
         "locationmode": "USA-states",
         "lon": [
          -87.90446,
          -112.00806
         ],
         "mode": "lines",
         "type": "scattergeo"
        },
        {
         "lat": [
          47.44898,
          33.43417
         ],
         "line": {
          "color": "red",
          "width": 1
         },
         "locationmode": "USA-states",
         "lon": [
          -122.30931,
          -112.00806
         ],
         "mode": "lines",
         "type": "scattergeo"
        },
        {
         "lat": [
          33.94254,
          33.43417
         ],
         "line": {
          "color": "red",
          "width": 1
         },
         "locationmode": "USA-states",
         "lon": [
          -118.40807,
          -112.00806
         ],
         "mode": "lines",
         "type": "scattergeo"
        },
        {
         "lat": [
          33.94254,
          33.43417
         ],
         "line": {
          "color": "red",
          "width": 1
         },
         "locationmode": "USA-states",
         "lon": [
          -118.40807,
          -112.00806
         ],
         "mode": "lines",
         "type": "scattergeo"
        },
        {
         "lat": [
          33.94254,
          33.43417
         ],
         "line": {
          "color": "red",
          "width": 1
         },
         "locationmode": "USA-states",
         "lon": [
          -118.40807,
          -112.00806
         ],
         "mode": "lines",
         "type": "scattergeo"
        },
        {
         "lat": [
          33.94254,
          33.43417
         ],
         "line": {
          "color": "red",
          "width": 1
         },
         "locationmode": "USA-states",
         "lon": [
          -118.40807,
          -112.00806
         ],
         "mode": "lines",
         "type": "scattergeo"
        },
        {
         "lat": [
          33.94254,
          33.43417
         ],
         "line": {
          "color": "red",
          "width": 1
         },
         "locationmode": "USA-states",
         "lon": [
          -118.40807,
          -112.00806
         ],
         "mode": "lines",
         "type": "scattergeo"
        },
        {
         "lat": [
          33.94254,
          33.43417
         ],
         "line": {
          "color": "red",
          "width": 1
         },
         "locationmode": "USA-states",
         "lon": [
          -118.40807,
          -112.00806
         ],
         "mode": "lines",
         "type": "scattergeo"
        },
        {
         "lat": [
          40.78839,
          33.43417
         ],
         "line": {
          "color": "red",
          "width": 1
         },
         "locationmode": "USA-states",
         "lon": [
          -111.97777,
          -112.00806
         ],
         "mode": "lines",
         "type": "scattergeo"
        },
        {
         "lat": [
          40.78839,
          33.43417
         ],
         "line": {
          "color": "red",
          "width": 1
         },
         "locationmode": "USA-states",
         "lon": [
          -111.97777,
          -112.00806
         ],
         "mode": "lines",
         "type": "scattergeo"
        },
        {
         "lat": [
          40.78839,
          33.43417
         ],
         "line": {
          "color": "red",
          "width": 1
         },
         "locationmode": "USA-states",
         "lon": [
          -111.97777,
          -112.00806
         ],
         "mode": "lines",
         "type": "scattergeo"
        },
        {
         "lat": [
          36.19837,
          33.43417
         ],
         "line": {
          "color": "red",
          "width": 1
         },
         "locationmode": "USA-states",
         "lon": [
          -95.88824,
          -112.00806
         ],
         "mode": "lines",
         "type": "scattergeo"
        },
        {
         "lat": [
          38.74769,
          33.43417
         ],
         "line": {
          "color": "red",
          "width": 1
         },
         "locationmode": "USA-states",
         "lon": [
          -90.35999,
          -112.00806
         ],
         "mode": "lines",
         "type": "scattergeo"
        },
        {
         "lat": [
          38.74769,
          33.43417
         ],
         "line": {
          "color": "red",
          "width": 1
         },
         "locationmode": "USA-states",
         "lon": [
          -90.35999,
          -112.00806
         ],
         "mode": "lines",
         "type": "scattergeo"
        },
        {
         "lat": [
          42.21206,
          33.43417
         ],
         "line": {
          "color": "red",
          "width": 1
         },
         "locationmode": "USA-states",
         "lon": [
          -83.34884,
          -112.00806
         ],
         "mode": "lines",
         "type": "scattergeo"
        },
        {
         "lat": [
          47.61986,
          33.43417
         ],
         "line": {
          "color": "red",
          "width": 1
         },
         "locationmode": "USA-states",
         "lon": [
          -117.53384,
          -112.00806
         ],
         "mode": "lines",
         "type": "scattergeo"
        },
        {
         "lat": [
          33.67566,
          33.43417
         ],
         "line": {
          "color": "red",
          "width": 1
         },
         "locationmode": "USA-states",
         "lon": [
          -117.86822,
          -112.00806
         ],
         "mode": "lines",
         "type": "scattergeo"
        },
        {
         "lat": [
          33.67566,
          33.43417
         ],
         "line": {
          "color": "red",
          "width": 1
         },
         "locationmode": "USA-states",
         "lon": [
          -117.86822,
          -112.00806
         ],
         "mode": "lines",
         "type": "scattergeo"
        },
        {
         "lat": [
          35.21401,
          33.43417
         ],
         "line": {
          "color": "red",
          "width": 1
         },
         "locationmode": "USA-states",
         "lon": [
          -80.94313,
          -112.00806
         ],
         "mode": "lines",
         "type": "scattergeo"
        },
        {
         "lat": [
          35.21401,
          33.43417
         ],
         "line": {
          "color": "red",
          "width": 1
         },
         "locationmode": "USA-states",
         "lon": [
          -80.94313,
          -112.00806
         ],
         "mode": "lines",
         "type": "scattergeo"
        },
        {
         "lat": [
          37.36186,
          33.43417
         ],
         "line": {
          "color": "red",
          "width": 1
         },
         "locationmode": "USA-states",
         "lon": [
          -121.92901,
          -112.00806
         ],
         "mode": "lines",
         "type": "scattergeo"
        },
        {
         "lat": [
          37.36186,
          33.43417
         ],
         "line": {
          "color": "red",
          "width": 1
         },
         "locationmode": "USA-states",
         "lon": [
          -121.92901,
          -112.00806
         ],
         "mode": "lines",
         "type": "scattergeo"
        },
        {
         "lat": [
          37.36186,
          33.43417
         ],
         "line": {
          "color": "red",
          "width": 1
         },
         "locationmode": "USA-states",
         "lon": [
          -121.92901,
          -112.00806
         ],
         "mode": "lines",
         "type": "scattergeo"
        },
        {
         "lat": [
          29.99339,
          33.43417
         ],
         "line": {
          "color": "red",
          "width": 1
         },
         "locationmode": "USA-states",
         "lon": [
          -90.25803,
          -112.00806
         ],
         "mode": "lines",
         "type": "scattergeo"
        },
        {
         "lat": [
          31.80667,
          33.43417
         ],
         "line": {
          "color": "red",
          "width": 1
         },
         "locationmode": "USA-states",
         "lon": [
          -106.37781,
          -112.00806
         ],
         "mode": "lines",
         "type": "scattergeo"
        },
        {
         "lat": [
          36.08036,
          40.78839
         ],
         "line": {
          "color": "red",
          "width": 1
         },
         "locationmode": "USA-states",
         "lon": [
          -115.15233,
          -111.97777
         ],
         "mode": "lines",
         "type": "scattergeo"
        },
        {
         "lat": [
          39.85841,
          40.78839
         ],
         "line": {
          "color": "red",
          "width": 1
         },
         "locationmode": "USA-states",
         "lon": [
          -104.667,
          -111.97777
         ],
         "mode": "lines",
         "type": "scattergeo"
        },
        {
         "lat": [
          39.85841,
          40.78839
         ],
         "line": {
          "color": "red",
          "width": 1
         },
         "locationmode": "USA-states",
         "lon": [
          -104.667,
          -111.97777
         ],
         "mode": "lines",
         "type": "scattergeo"
        },
        {
         "lat": [
          39.85841,
          40.78839
         ],
         "line": {
          "color": "red",
          "width": 1
         },
         "locationmode": "USA-states",
         "lon": [
          -104.667,
          -111.97777
         ],
         "mode": "lines",
         "type": "scattergeo"
        },
        {
         "lat": [
          39.85841,
          40.78839
         ],
         "line": {
          "color": "red",
          "width": 1
         },
         "locationmode": "USA-states",
         "lon": [
          -104.667,
          -111.97777
         ],
         "mode": "lines",
         "type": "scattergeo"
        },
        {
         "lat": [
          37.619,
          40.78839
         ],
         "line": {
          "color": "red",
          "width": 1
         },
         "locationmode": "USA-states",
         "lon": [
          -122.37484,
          -111.97777
         ],
         "mode": "lines",
         "type": "scattergeo"
        },
        {
         "lat": [
          40.63975,
          40.78839
         ],
         "line": {
          "color": "red",
          "width": 1
         },
         "locationmode": "USA-states",
         "lon": [
          -73.77893,
          -111.97777
         ],
         "mode": "lines",
         "type": "scattergeo"
        },
        {
         "lat": [
          40.63975,
          40.78839
         ],
         "line": {
          "color": "red",
          "width": 1
         },
         "locationmode": "USA-states",
         "lon": [
          -73.77893,
          -111.97777
         ],
         "mode": "lines",
         "type": "scattergeo"
        },
        {
         "lat": [
          35.39309,
          40.78839
         ],
         "line": {
          "color": "red",
          "width": 1
         },
         "locationmode": "USA-states",
         "lon": [
          -97.60073,
          -111.97777
         ],
         "mode": "lines",
         "type": "scattergeo"
        },
        {
         "lat": [
          32.89595,
          40.78839
         ],
         "line": {
          "color": "red",
          "width": 1
         },
         "locationmode": "USA-states",
         "lon": [
          -97.0372,
          -111.97777
         ],
         "mode": "lines",
         "type": "scattergeo"
        },
        {
         "lat": [
          32.89595,
          40.78839
         ],
         "line": {
          "color": "red",
          "width": 1
         },
         "locationmode": "USA-states",
         "lon": [
          -97.0372,
          -111.97777
         ],
         "mode": "lines",
         "type": "scattergeo"
        },
        {
         "lat": [
          32.73356,
          40.78839
         ],
         "line": {
          "color": "red",
          "width": 1
         },
         "locationmode": "USA-states",
         "lon": [
          -117.18966,
          -111.97777
         ],
         "mode": "lines",
         "type": "scattergeo"
        },
        {
         "lat": [
          37.72129,
          40.78839
         ],
         "line": {
          "color": "red",
          "width": 1
         },
         "locationmode": "USA-states",
         "lon": [
          -122.22072,
          -111.97777
         ],
         "mode": "lines",
         "type": "scattergeo"
        },
        {
         "lat": [
          33.94254,
          40.78839
         ],
         "line": {
          "color": "red",
          "width": 1
         },
         "locationmode": "USA-states",
         "lon": [
          -118.40807,
          -111.97777
         ],
         "mode": "lines",
         "type": "scattergeo"
        },
        {
         "lat": [
          33.94254,
          40.78839
         ],
         "line": {
          "color": "red",
          "width": 1
         },
         "locationmode": "USA-states",
         "lon": [
          -118.40807,
          -111.97777
         ],
         "mode": "lines",
         "type": "scattergeo"
        },
        {
         "lat": [
          40.4409,
          40.78839
         ],
         "line": {
          "color": "red",
          "width": 1
         },
         "locationmode": "USA-states",
         "lon": [
          -109.50992,
          -111.97777
         ],
         "mode": "lines",
         "type": "scattergeo"
        },
        {
         "lat": [
          33.43417,
          40.78839
         ],
         "line": {
          "color": "red",
          "width": 1
         },
         "locationmode": "USA-states",
         "lon": [
          -112.00806,
          -111.97777
         ],
         "mode": "lines",
         "type": "scattergeo"
        },
        {
         "lat": [
          33.43417,
          40.78839
         ],
         "line": {
          "color": "red",
          "width": 1
         },
         "locationmode": "USA-states",
         "lon": [
          -112.00806,
          -111.97777
         ],
         "mode": "lines",
         "type": "scattergeo"
        },
        {
         "lat": [
          35.21401,
          40.78839
         ],
         "line": {
          "color": "red",
          "width": 1
         },
         "locationmode": "USA-states",
         "lon": [
          -80.94313,
          -111.97777
         ],
         "mode": "lines",
         "type": "scattergeo"
        },
        {
         "lat": [
          37.70097,
          40.78839
         ],
         "line": {
          "color": "red",
          "width": 1
         },
         "locationmode": "USA-states",
         "lon": [
          -113.09858,
          -111.97777
         ],
         "mode": "lines",
         "type": "scattergeo"
        },
        {
         "lat": [
          33.81772,
          40.78839
         ],
         "line": {
          "color": "red",
          "width": 1
         },
         "locationmode": "USA-states",
         "lon": [
          -118.15161,
          -111.97777
         ],
         "mode": "lines",
         "type": "scattergeo"
        },
        {
         "lat": [
          36.08036,
          37.72129
         ],
         "line": {
          "color": "red",
          "width": 1
         },
         "locationmode": "USA-states",
         "lon": [
          -115.15233,
          -122.22072
         ],
         "mode": "lines",
         "type": "scattergeo"
        },
        {
         "lat": [
          36.08036,
          37.72129
         ],
         "line": {
          "color": "red",
          "width": 1
         },
         "locationmode": "USA-states",
         "lon": [
          -115.15233,
          -122.22072
         ],
         "mode": "lines",
         "type": "scattergeo"
        },
        {
         "lat": [
          36.08036,
          37.72129
         ],
         "line": {
          "color": "red",
          "width": 1
         },
         "locationmode": "USA-states",
         "lon": [
          -115.15233,
          -122.22072
         ],
         "mode": "lines",
         "type": "scattergeo"
        },
        {
         "lat": [
          39.85841,
          37.72129
         ],
         "line": {
          "color": "red",
          "width": 1
         },
         "locationmode": "USA-states",
         "lon": [
          -104.667,
          -122.22072
         ],
         "mode": "lines",
         "type": "scattergeo"
        },
        {
         "lat": [
          35.04022,
          37.72129
         ],
         "line": {
          "color": "red",
          "width": 1
         },
         "locationmode": "USA-states",
         "lon": [
          -106.60919,
          -122.22072
         ],
         "mode": "lines",
         "type": "scattergeo"
        },
        {
         "lat": [
          32.73356,
          37.72129
         ],
         "line": {
          "color": "red",
          "width": 1
         },
         "locationmode": "USA-states",
         "lon": [
          -117.18966,
          -122.22072
         ],
         "mode": "lines",
         "type": "scattergeo"
        },
        {
         "lat": [
          32.73356,
          37.72129
         ],
         "line": {
          "color": "red",
          "width": 1
         },
         "locationmode": "USA-states",
         "lon": [
          -117.18966,
          -122.22072
         ],
         "mode": "lines",
         "type": "scattergeo"
        },
        {
         "lat": [
          32.73356,
          37.72129
         ],
         "line": {
          "color": "red",
          "width": 1
         },
         "locationmode": "USA-states",
         "lon": [
          -117.18966,
          -122.22072
         ],
         "mode": "lines",
         "type": "scattergeo"
        },
        {
         "lat": [
          32.73356,
          37.72129
         ],
         "line": {
          "color": "red",
          "width": 1
         },
         "locationmode": "USA-states",
         "lon": [
          -117.18966,
          -122.22072
         ],
         "mode": "lines",
         "type": "scattergeo"
        },
        {
         "lat": [
          32.73356,
          37.72129
         ],
         "line": {
          "color": "red",
          "width": 1
         },
         "locationmode": "USA-states",
         "lon": [
          -117.18966,
          -122.22072
         ],
         "mode": "lines",
         "type": "scattergeo"
        },
        {
         "lat": [
          34.056,
          37.72129
         ],
         "line": {
          "color": "red",
          "width": 1
         },
         "locationmode": "USA-states",
         "lon": [
          -117.60119,
          -122.22072
         ],
         "mode": "lines",
         "type": "scattergeo"
        },
        {
         "lat": [
          47.44898,
          37.72129
         ],
         "line": {
          "color": "red",
          "width": 1
         },
         "locationmode": "USA-states",
         "lon": [
          -122.30931,
          -122.22072
         ],
         "mode": "lines",
         "type": "scattergeo"
        },
        {
         "lat": [
          33.94254,
          37.72129
         ],
         "line": {
          "color": "red",
          "width": 1
         },
         "locationmode": "USA-states",
         "lon": [
          -118.40807,
          -122.22072
         ],
         "mode": "lines",
         "type": "scattergeo"
        },
        {
         "lat": [
          33.94254,
          37.72129
         ],
         "line": {
          "color": "red",
          "width": 1
         },
         "locationmode": "USA-states",
         "lon": [
          -118.40807,
          -122.22072
         ],
         "mode": "lines",
         "type": "scattergeo"
        },
        {
         "lat": [
          33.94254,
          37.72129
         ],
         "line": {
          "color": "red",
          "width": 1
         },
         "locationmode": "USA-states",
         "lon": [
          -118.40807,
          -122.22072
         ],
         "mode": "lines",
         "type": "scattergeo"
        },
        {
         "lat": [
          40.78839,
          37.72129
         ],
         "line": {
          "color": "red",
          "width": 1
         },
         "locationmode": "USA-states",
         "lon": [
          -111.97777,
          -122.22072
         ],
         "mode": "lines",
         "type": "scattergeo"
        },
        {
         "lat": [
          34.20062,
          37.72129
         ],
         "line": {
          "color": "red",
          "width": 1
         },
         "locationmode": "USA-states",
         "lon": [
          -118.3585,
          -122.22072
         ],
         "mode": "lines",
         "type": "scattergeo"
        },
        {
         "lat": [
          33.43417,
          37.72129
         ],
         "line": {
          "color": "red",
          "width": 1
         },
         "locationmode": "USA-states",
         "lon": [
          -112.00806,
          -122.22072
         ],
         "mode": "lines",
         "type": "scattergeo"
        },
        {
         "lat": [
          36.08036,
          33.67566
         ],
         "line": {
          "color": "red",
          "width": 1
         },
         "locationmode": "USA-states",
         "lon": [
          -115.15233,
          -117.86822
         ],
         "mode": "lines",
         "type": "scattergeo"
        },
        {
         "lat": [
          29.98047,
          33.67566
         ],
         "line": {
          "color": "red",
          "width": 1
         },
         "locationmode": "USA-states",
         "lon": [
          -95.33972,
          -117.86822
         ],
         "mode": "lines",
         "type": "scattergeo"
        },
        {
         "lat": [
          39.85841,
          33.67566
         ],
         "line": {
          "color": "red",
          "width": 1
         },
         "locationmode": "USA-states",
         "lon": [
          -104.667,
          -117.86822
         ],
         "mode": "lines",
         "type": "scattergeo"
        },
        {
         "lat": [
          39.85841,
          33.67566
         ],
         "line": {
          "color": "red",
          "width": 1
         },
         "locationmode": "USA-states",
         "lon": [
          -104.667,
          -117.86822
         ],
         "mode": "lines",
         "type": "scattergeo"
        },
        {
         "lat": [
          39.85841,
          33.67566
         ],
         "line": {
          "color": "red",
          "width": 1
         },
         "locationmode": "USA-states",
         "lon": [
          -104.667,
          -117.86822
         ],
         "mode": "lines",
         "type": "scattergeo"
        },
        {
         "lat": [
          32.89595,
          33.67566
         ],
         "line": {
          "color": "red",
          "width": 1
         },
         "locationmode": "USA-states",
         "lon": [
          -97.0372,
          -117.86822
         ],
         "mode": "lines",
         "type": "scattergeo"
        },
        {
         "lat": [
          41.9796,
          33.67566
         ],
         "line": {
          "color": "red",
          "width": 1
         },
         "locationmode": "USA-states",
         "lon": [
          -87.90446,
          -117.86822
         ],
         "mode": "lines",
         "type": "scattergeo"
        },
        {
         "lat": [
          47.44898,
          33.67566
         ],
         "line": {
          "color": "red",
          "width": 1
         },
         "locationmode": "USA-states",
         "lon": [
          -122.30931,
          -117.86822
         ],
         "mode": "lines",
         "type": "scattergeo"
        },
        {
         "lat": [
          37.72129,
          33.67566
         ],
         "line": {
          "color": "red",
          "width": 1
         },
         "locationmode": "USA-states",
         "lon": [
          -122.22072,
          -117.86822
         ],
         "mode": "lines",
         "type": "scattergeo"
        },
        {
         "lat": [
          37.72129,
          33.67566
         ],
         "line": {
          "color": "red",
          "width": 1
         },
         "locationmode": "USA-states",
         "lon": [
          -122.22072,
          -117.86822
         ],
         "mode": "lines",
         "type": "scattergeo"
        },
        {
         "lat": [
          33.43417,
          33.67566
         ],
         "line": {
          "color": "red",
          "width": 1
         },
         "locationmode": "USA-states",
         "lon": [
          -112.00806,
          -117.86822
         ],
         "mode": "lines",
         "type": "scattergeo"
        },
        {
         "lat": [
          33.43417,
          33.67566
         ],
         "line": {
          "color": "red",
          "width": 1
         },
         "locationmode": "USA-states",
         "lon": [
          -112.00806,
          -117.86822
         ],
         "mode": "lines",
         "type": "scattergeo"
        },
        {
         "lat": [
          37.36186,
          33.67566
         ],
         "line": {
          "color": "red",
          "width": 1
         },
         "locationmode": "USA-states",
         "lon": [
          -121.92901,
          -117.86822
         ],
         "mode": "lines",
         "type": "scattergeo"
        },
        {
         "lat": [
          37.36186,
          33.67566
         ],
         "line": {
          "color": "red",
          "width": 1
         },
         "locationmode": "USA-states",
         "lon": [
          -121.92901,
          -117.86822
         ],
         "mode": "lines",
         "type": "scattergeo"
        },
        {
         "lat": [
          36.08036,
          32.84711
         ],
         "line": {
          "color": "red",
          "width": 1
         },
         "locationmode": "USA-states",
         "lon": [
          -115.15233,
          -96.85177
         ],
         "mode": "lines",
         "type": "scattergeo"
        },
        {
         "lat": [
          36.08036,
          32.84711
         ],
         "line": {
          "color": "red",
          "width": 1
         },
         "locationmode": "USA-states",
         "lon": [
          -115.15233,
          -96.85177
         ],
         "mode": "lines",
         "type": "scattergeo"
        },
        {
         "lat": [
          39.85841,
          32.84711
         ],
         "line": {
          "color": "red",
          "width": 1
         },
         "locationmode": "USA-states",
         "lon": [
          -104.667,
          -96.85177
         ],
         "mode": "lines",
         "type": "scattergeo"
        },
        {
         "lat": [
          37.619,
          32.84711
         ],
         "line": {
          "color": "red",
          "width": 1
         },
         "locationmode": "USA-states",
         "lon": [
          -122.37484,
          -96.85177
         ],
         "mode": "lines",
         "type": "scattergeo"
        },
        {
         "lat": [
          35.04022,
          32.84711
         ],
         "line": {
          "color": "red",
          "width": 1
         },
         "locationmode": "USA-states",
         "lon": [
          -106.60919,
          -96.85177
         ],
         "mode": "lines",
         "type": "scattergeo"
        },
        {
         "lat": [
          35.04022,
          32.84711
         ],
         "line": {
          "color": "red",
          "width": 1
         },
         "locationmode": "USA-states",
         "lon": [
          -106.60919,
          -96.85177
         ],
         "mode": "lines",
         "type": "scattergeo"
        },
        {
         "lat": [
          35.04022,
          32.84711
         ],
         "line": {
          "color": "red",
          "width": 1
         },
         "locationmode": "USA-states",
         "lon": [
          -106.60919,
          -96.85177
         ],
         "mode": "lines",
         "type": "scattergeo"
        },
        {
         "lat": [
          35.39309,
          32.84711
         ],
         "line": {
          "color": "red",
          "width": 1
         },
         "locationmode": "USA-states",
         "lon": [
          -97.60073,
          -96.85177
         ],
         "mode": "lines",
         "type": "scattergeo"
        },
        {
         "lat": [
          26.07258,
          32.84711
         ],
         "line": {
          "color": "red",
          "width": 1
         },
         "locationmode": "USA-states",
         "lon": [
          -80.15275,
          -96.85177
         ],
         "mode": "lines",
         "type": "scattergeo"
        },
        {
         "lat": [
          33.64044,
          32.84711
         ],
         "line": {
          "color": "red",
          "width": 1
         },
         "locationmode": "USA-states",
         "lon": [
          -84.42694,
          -96.85177
         ],
         "mode": "lines",
         "type": "scattergeo"
        },
        {
         "lat": [
          38.85208,
          32.84711
         ],
         "line": {
          "color": "red",
          "width": 1
         },
         "locationmode": "USA-states",
         "lon": [
          -77.03772,
          -96.85177
         ],
         "mode": "lines",
         "type": "scattergeo"
        },
        {
         "lat": [
          32.73356,
          32.84711
         ],
         "line": {
          "color": "red",
          "width": 1
         },
         "locationmode": "USA-states",
         "lon": [
          -117.18966,
          -96.85177
         ],
         "mode": "lines",
         "type": "scattergeo"
        },
        {
         "lat": [
          33.94254,
          32.84711
         ],
         "line": {
          "color": "red",
          "width": 1
         },
         "locationmode": "USA-states",
         "lon": [
          -118.40807,
          -96.85177
         ],
         "mode": "lines",
         "type": "scattergeo"
        },
        {
         "lat": [
          33.94254,
          32.84711
         ],
         "line": {
          "color": "red",
          "width": 1
         },
         "locationmode": "USA-states",
         "lon": [
          -118.40807,
          -96.85177
         ],
         "mode": "lines",
         "type": "scattergeo"
        },
        {
         "lat": [
          33.94254,
          32.84711
         ],
         "line": {
          "color": "red",
          "width": 1
         },
         "locationmode": "USA-states",
         "lon": [
          -118.40807,
          -96.85177
         ],
         "mode": "lines",
         "type": "scattergeo"
        },
        {
         "lat": [
          33.43417,
          32.84711
         ],
         "line": {
          "color": "red",
          "width": 1
         },
         "locationmode": "USA-states",
         "lon": [
          -112.00806,
          -96.85177
         ],
         "mode": "lines",
         "type": "scattergeo"
        },
        {
         "lat": [
          33.43417,
          32.84711
         ],
         "line": {
          "color": "red",
          "width": 1
         },
         "locationmode": "USA-states",
         "lon": [
          -112.00806,
          -96.85177
         ],
         "mode": "lines",
         "type": "scattergeo"
        },
        {
         "lat": [
          41.78598,
          32.84711
         ],
         "line": {
          "color": "red",
          "width": 1
         },
         "locationmode": "USA-states",
         "lon": [
          -87.75242,
          -96.85177
         ],
         "mode": "lines",
         "type": "scattergeo"
        },
        {
         "lat": [
          38.74769,
          32.84711
         ],
         "line": {
          "color": "red",
          "width": 1
         },
         "locationmode": "USA-states",
         "lon": [
          -90.35999,
          -96.85177
         ],
         "mode": "lines",
         "type": "scattergeo"
        },
        {
         "lat": [
          38.74769,
          32.84711
         ],
         "line": {
          "color": "red",
          "width": 1
         },
         "locationmode": "USA-states",
         "lon": [
          -90.35999,
          -96.85177
         ],
         "mode": "lines",
         "type": "scattergeo"
        },
        {
         "lat": [
          33.67566,
          32.84711
         ],
         "line": {
          "color": "red",
          "width": 1
         },
         "locationmode": "USA-states",
         "lon": [
          -117.86822,
          -96.85177
         ],
         "mode": "lines",
         "type": "scattergeo"
        },
        {
         "lat": [
          29.64542,
          32.84711
         ],
         "line": {
          "color": "red",
          "width": 1
         },
         "locationmode": "USA-states",
         "lon": [
          -95.27889,
          -96.85177
         ],
         "mode": "lines",
         "type": "scattergeo"
        },
        {
         "lat": [
          29.64542,
          32.84711
         ],
         "line": {
          "color": "red",
          "width": 1
         },
         "locationmode": "USA-states",
         "lon": [
          -95.27889,
          -96.85177
         ],
         "mode": "lines",
         "type": "scattergeo"
        },
        {
         "lat": [
          29.64542,
          32.84711
         ],
         "line": {
          "color": "red",
          "width": 1
         },
         "locationmode": "USA-states",
         "lon": [
          -95.27889,
          -96.85177
         ],
         "mode": "lines",
         "type": "scattergeo"
        },
        {
         "lat": [
          31.94253,
          32.84711
         ],
         "line": {
          "color": "red",
          "width": 1
         },
         "locationmode": "USA-states",
         "lon": [
          -102.20191,
          -96.85177
         ],
         "mode": "lines",
         "type": "scattergeo"
        },
        {
         "lat": [
          39.29761,
          32.84711
         ],
         "line": {
          "color": "red",
          "width": 1
         },
         "locationmode": "USA-states",
         "lon": [
          -94.71391,
          -96.85177
         ],
         "mode": "lines",
         "type": "scattergeo"
        },
        {
         "lat": [
          35.21937,
          32.84711
         ],
         "line": {
          "color": "red",
          "width": 1
         },
         "locationmode": "USA-states",
         "lon": [
          -101.70593,
          -96.85177
         ],
         "mode": "lines",
         "type": "scattergeo"
        },
        {
         "lat": [
          36.08036,
          34.7294
         ],
         "line": {
          "color": "red",
          "width": 1
         },
         "locationmode": "USA-states",
         "lon": [
          -115.15233,
          -92.22425
         ],
         "mode": "lines",
         "type": "scattergeo"
        },
        {
         "lat": [
          39.1754,
          34.7294
         ],
         "line": {
          "color": "red",
          "width": 1
         },
         "locationmode": "USA-states",
         "lon": [
          -76.6682,
          -92.22425
         ],
         "mode": "lines",
         "type": "scattergeo"
        },
        {
         "lat": [
          32.89595,
          34.7294
         ],
         "line": {
          "color": "red",
          "width": 1
         },
         "locationmode": "USA-states",
         "lon": [
          -97.0372,
          -92.22425
         ],
         "mode": "lines",
         "type": "scattergeo"
        },
        {
         "lat": [
          41.9796,
          34.7294
         ],
         "line": {
          "color": "red",
          "width": 1
         },
         "locationmode": "USA-states",
         "lon": [
          -87.90446,
          -92.22425
         ],
         "mode": "lines",
         "type": "scattergeo"
        },
        {
         "lat": [
          32.84711,
          34.7294
         ],
         "line": {
          "color": "red",
          "width": 1
         },
         "locationmode": "USA-states",
         "lon": [
          -96.85177,
          -92.22425
         ],
         "mode": "lines",
         "type": "scattergeo"
        },
        {
         "lat": [
          32.84711,
          34.7294
         ],
         "line": {
          "color": "red",
          "width": 1
         },
         "locationmode": "USA-states",
         "lon": [
          -96.85177,
          -92.22425
         ],
         "mode": "lines",
         "type": "scattergeo"
        },
        {
         "lat": [
          36.08036,
          39.29761
         ],
         "line": {
          "color": "red",
          "width": 1
         },
         "locationmode": "USA-states",
         "lon": [
          -115.15233,
          -94.71391
         ],
         "mode": "lines",
         "type": "scattergeo"
        },
        {
         "lat": [
          39.85841,
          39.29761
         ],
         "line": {
          "color": "red",
          "width": 1
         },
         "locationmode": "USA-states",
         "lon": [
          -104.667,
          -94.71391
         ],
         "mode": "lines",
         "type": "scattergeo"
        },
        {
         "lat": [
          37.619,
          39.29761
         ],
         "line": {
          "color": "red",
          "width": 1
         },
         "locationmode": "USA-states",
         "lon": [
          -122.37484,
          -94.71391
         ],
         "mode": "lines",
         "type": "scattergeo"
        },
        {
         "lat": [
          42.94722,
          39.29761
         ],
         "line": {
          "color": "red",
          "width": 1
         },
         "locationmode": "USA-states",
         "lon": [
          -87.89658,
          -94.71391
         ],
         "mode": "lines",
         "type": "scattergeo"
        },
        {
         "lat": [
          32.89595,
          39.29761
         ],
         "line": {
          "color": "red",
          "width": 1
         },
         "locationmode": "USA-states",
         "lon": [
          -97.0372,
          -94.71391
         ],
         "mode": "lines",
         "type": "scattergeo"
        },
        {
         "lat": [
          28.42889,
          39.29761
         ],
         "line": {
          "color": "red",
          "width": 1
         },
         "locationmode": "USA-states",
         "lon": [
          -81.31603,
          -94.71391
         ],
         "mode": "lines",
         "type": "scattergeo"
        },
        {
         "lat": [
          41.9796,
          39.29761
         ],
         "line": {
          "color": "red",
          "width": 1
         },
         "locationmode": "USA-states",
         "lon": [
          -87.90446,
          -94.71391
         ],
         "mode": "lines",
         "type": "scattergeo"
        },
        {
         "lat": [
          47.44898,
          39.29761
         ],
         "line": {
          "color": "red",
          "width": 1
         },
         "locationmode": "USA-states",
         "lon": [
          -122.30931,
          -94.71391
         ],
         "mode": "lines",
         "type": "scattergeo"
        },
        {
         "lat": [
          33.94254,
          39.29761
         ],
         "line": {
          "color": "red",
          "width": 1
         },
         "locationmode": "USA-states",
         "lon": [
          -118.40807,
          -94.71391
         ],
         "mode": "lines",
         "type": "scattergeo"
        },
        {
         "lat": [
          33.94254,
          39.29761
         ],
         "line": {
          "color": "red",
          "width": 1
         },
         "locationmode": "USA-states",
         "lon": [
          -118.40807,
          -94.71391
         ],
         "mode": "lines",
         "type": "scattergeo"
        },
        {
         "lat": [
          33.43417,
          39.29761
         ],
         "line": {
          "color": "red",
          "width": 1
         },
         "locationmode": "USA-states",
         "lon": [
          -112.00806,
          -94.71391
         ],
         "mode": "lines",
         "type": "scattergeo"
        },
        {
         "lat": [
          41.78598,
          39.29761
         ],
         "line": {
          "color": "red",
          "width": 1
         },
         "locationmode": "USA-states",
         "lon": [
          -87.75242,
          -94.71391
         ],
         "mode": "lines",
         "type": "scattergeo"
        },
        {
         "lat": [
          35.21401,
          39.29761
         ],
         "line": {
          "color": "red",
          "width": 1
         },
         "locationmode": "USA-states",
         "lon": [
          -80.94313,
          -94.71391
         ],
         "mode": "lines",
         "type": "scattergeo"
        },
        {
         "lat": [
          32.84711,
          39.29761
         ],
         "line": {
          "color": "red",
          "width": 1
         },
         "locationmode": "USA-states",
         "lon": [
          -96.85177,
          -94.71391
         ],
         "mode": "lines",
         "type": "scattergeo"
        },
        {
         "lat": [
          36.08036,
          41.78598
         ],
         "line": {
          "color": "red",
          "width": 1
         },
         "locationmode": "USA-states",
         "lon": [
          -115.15233,
          -87.75242
         ],
         "mode": "lines",
         "type": "scattergeo"
        },
        {
         "lat": [
          39.85841,
          41.78598
         ],
         "line": {
          "color": "red",
          "width": 1
         },
         "locationmode": "USA-states",
         "lon": [
          -104.667,
          -87.75242
         ],
         "mode": "lines",
         "type": "scattergeo"
        },
        {
         "lat": [
          39.85841,
          41.78598
         ],
         "line": {
          "color": "red",
          "width": 1
         },
         "locationmode": "USA-states",
         "lon": [
          -104.667,
          -87.75242
         ],
         "mode": "lines",
         "type": "scattergeo"
        },
        {
         "lat": [
          39.85841,
          41.78598
         ],
         "line": {
          "color": "red",
          "width": 1
         },
         "locationmode": "USA-states",
         "lon": [
          -104.667,
          -87.75242
         ],
         "mode": "lines",
         "type": "scattergeo"
        },
        {
         "lat": [
          39.85841,
          41.78598
         ],
         "line": {
          "color": "red",
          "width": 1
         },
         "locationmode": "USA-states",
         "lon": [
          -104.667,
          -87.75242
         ],
         "mode": "lines",
         "type": "scattergeo"
        },
        {
         "lat": [
          37.619,
          41.78598
         ],
         "line": {
          "color": "red",
          "width": 1
         },
         "locationmode": "USA-states",
         "lon": [
          -122.37484,
          -87.75242
         ],
         "mode": "lines",
         "type": "scattergeo"
        },
        {
         "lat": [
          33.64044,
          41.78598
         ],
         "line": {
          "color": "red",
          "width": 1
         },
         "locationmode": "USA-states",
         "lon": [
          -84.42694,
          -87.75242
         ],
         "mode": "lines",
         "type": "scattergeo"
        },
        {
         "lat": [
          28.42889,
          41.78598
         ],
         "line": {
          "color": "red",
          "width": 1
         },
         "locationmode": "USA-states",
         "lon": [
          -81.31603,
          -87.75242
         ],
         "mode": "lines",
         "type": "scattergeo"
        },
        {
         "lat": [
          27.97547,
          41.78598
         ],
         "line": {
          "color": "red",
          "width": 1
         },
         "locationmode": "USA-states",
         "lon": [
          -82.53325,
          -87.75242
         ],
         "mode": "lines",
         "type": "scattergeo"
        },
        {
         "lat": [
          34.056,
          41.78598
         ],
         "line": {
          "color": "red",
          "width": 1
         },
         "locationmode": "USA-states",
         "lon": [
          -117.60119,
          -87.75242
         ],
         "mode": "lines",
         "type": "scattergeo"
        },
        {
         "lat": [
          33.94254,
          41.78598
         ],
         "line": {
          "color": "red",
          "width": 1
         },
         "locationmode": "USA-states",
         "lon": [
          -118.40807,
          -87.75242
         ],
         "mode": "lines",
         "type": "scattergeo"
        },
        {
         "lat": [
          33.43417,
          41.78598
         ],
         "line": {
          "color": "red",
          "width": 1
         },
         "locationmode": "USA-states",
         "lon": [
          -112.00806,
          -87.75242
         ],
         "mode": "lines",
         "type": "scattergeo"
        },
        {
         "lat": [
          29.64542,
          41.78598
         ],
         "line": {
          "color": "red",
          "width": 1
         },
         "locationmode": "USA-states",
         "lon": [
          -95.27889,
          -87.75242
         ],
         "mode": "lines",
         "type": "scattergeo"
        },
        {
         "lat": [
          37.36186,
          41.78598
         ],
         "line": {
          "color": "red",
          "width": 1
         },
         "locationmode": "USA-states",
         "lon": [
          -121.92901,
          -87.75242
         ],
         "mode": "lines",
         "type": "scattergeo"
        },
        {
         "lat": [
          29.99339,
          41.78598
         ],
         "line": {
          "color": "red",
          "width": 1
         },
         "locationmode": "USA-states",
         "lon": [
          -90.25803,
          -87.75242
         ],
         "mode": "lines",
         "type": "scattergeo"
        },
        {
         "lat": [
          32.84711,
          41.78598
         ],
         "line": {
          "color": "red",
          "width": 1
         },
         "locationmode": "USA-states",
         "lon": [
          -96.85177,
          -87.75242
         ],
         "mode": "lines",
         "type": "scattergeo"
        },
        {
         "lat": [
          32.84711,
          41.78598
         ],
         "line": {
          "color": "red",
          "width": 1
         },
         "locationmode": "USA-states",
         "lon": [
          -96.85177,
          -87.75242
         ],
         "mode": "lines",
         "type": "scattergeo"
        },
        {
         "lat": [
          32.84711,
          41.78598
         ],
         "line": {
          "color": "red",
          "width": 1
         },
         "locationmode": "USA-states",
         "lon": [
          -96.85177,
          -87.75242
         ],
         "mode": "lines",
         "type": "scattergeo"
        },
        {
         "lat": [
          36.12448,
          41.78598
         ],
         "line": {
          "color": "red",
          "width": 1
         },
         "locationmode": "USA-states",
         "lon": [
          -86.67818,
          -87.75242
         ],
         "mode": "lines",
         "type": "scattergeo"
        },
        {
         "lat": [
          36.12448,
          41.78598
         ],
         "line": {
          "color": "red",
          "width": 1
         },
         "locationmode": "USA-states",
         "lon": [
          -86.67818,
          -87.75242
         ],
         "mode": "lines",
         "type": "scattergeo"
        },
        {
         "lat": [
          41.53493,
          41.78598
         ],
         "line": {
          "color": "red",
          "width": 1
         },
         "locationmode": "USA-states",
         "lon": [
          -93.66068,
          -87.75242
         ],
         "mode": "lines",
         "type": "scattergeo"
        },
        {
         "lat": [
          36.08036,
          32.11608
         ],
         "line": {
          "color": "red",
          "width": 1
         },
         "locationmode": "USA-states",
         "lon": [
          -115.15233,
          -110.94103
         ],
         "mode": "lines",
         "type": "scattergeo"
        },
        {
         "lat": [
          29.98047,
          32.11608
         ],
         "line": {
          "color": "red",
          "width": 1
         },
         "locationmode": "USA-states",
         "lon": [
          -95.33972,
          -110.94103
         ],
         "mode": "lines",
         "type": "scattergeo"
        },
        {
         "lat": [
          39.85841,
          32.11608
         ],
         "line": {
          "color": "red",
          "width": 1
         },
         "locationmode": "USA-states",
         "lon": [
          -104.667,
          -110.94103
         ],
         "mode": "lines",
         "type": "scattergeo"
        },
        {
         "lat": [
          32.89595,
          32.11608
         ],
         "line": {
          "color": "red",
          "width": 1
         },
         "locationmode": "USA-states",
         "lon": [
          -97.0372,
          -110.94103
         ],
         "mode": "lines",
         "type": "scattergeo"
        },
        {
         "lat": [
          32.89595,
          32.11608
         ],
         "line": {
          "color": "red",
          "width": 1
         },
         "locationmode": "USA-states",
         "lon": [
          -97.0372,
          -110.94103
         ],
         "mode": "lines",
         "type": "scattergeo"
        },
        {
         "lat": [
          33.94254,
          32.11608
         ],
         "line": {
          "color": "red",
          "width": 1
         },
         "locationmode": "USA-states",
         "lon": [
          -118.40807,
          -110.94103
         ],
         "mode": "lines",
         "type": "scattergeo"
        },
        {
         "lat": [
          33.94254,
          32.11608
         ],
         "line": {
          "color": "red",
          "width": 1
         },
         "locationmode": "USA-states",
         "lon": [
          -118.40807,
          -110.94103
         ],
         "mode": "lines",
         "type": "scattergeo"
        },
        {
         "lat": [
          33.94254,
          32.11608
         ],
         "line": {
          "color": "red",
          "width": 1
         },
         "locationmode": "USA-states",
         "lon": [
          -118.40807,
          -110.94103
         ],
         "mode": "lines",
         "type": "scattergeo"
        },
        {
         "lat": [
          33.43417,
          32.11608
         ],
         "line": {
          "color": "red",
          "width": 1
         },
         "locationmode": "USA-states",
         "lon": [
          -112.00806,
          -110.94103
         ],
         "mode": "lines",
         "type": "scattergeo"
        },
        {
         "lat": [
          41.78598,
          32.11608
         ],
         "line": {
          "color": "red",
          "width": 1
         },
         "locationmode": "USA-states",
         "lon": [
          -87.75242,
          -110.94103
         ],
         "mode": "lines",
         "type": "scattergeo"
        },
        {
         "lat": [
          36.08036,
          41.30252
         ],
         "line": {
          "color": "red",
          "width": 1
         },
         "locationmode": "USA-states",
         "lon": [
          -115.15233,
          -95.89417
         ],
         "mode": "lines",
         "type": "scattergeo"
        },
        {
         "lat": [
          39.85841,
          41.30252
         ],
         "line": {
          "color": "red",
          "width": 1
         },
         "locationmode": "USA-states",
         "lon": [
          -104.667,
          -95.89417
         ],
         "mode": "lines",
         "type": "scattergeo"
        },
        {
         "lat": [
          40.6925,
          41.30252
         ],
         "line": {
          "color": "red",
          "width": 1
         },
         "locationmode": "USA-states",
         "lon": [
          -74.16866,
          -95.89417
         ],
         "mode": "lines",
         "type": "scattergeo"
        },
        {
         "lat": [
          41.9796,
          41.30252
         ],
         "line": {
          "color": "red",
          "width": 1
         },
         "locationmode": "USA-states",
         "lon": [
          -87.90446,
          -95.89417
         ],
         "mode": "lines",
         "type": "scattergeo"
        },
        {
         "lat": [
          47.44898,
          41.30252
         ],
         "line": {
          "color": "red",
          "width": 1
         },
         "locationmode": "USA-states",
         "lon": [
          -122.30931,
          -95.89417
         ],
         "mode": "lines",
         "type": "scattergeo"
        },
        {
         "lat": [
          36.08036,
          35.39309
         ],
         "line": {
          "color": "red",
          "width": 1
         },
         "locationmode": "USA-states",
         "lon": [
          -115.15233,
          -97.60073
         ],
         "mode": "lines",
         "type": "scattergeo"
        },
        {
         "lat": [
          29.98047,
          35.39309
         ],
         "line": {
          "color": "red",
          "width": 1
         },
         "locationmode": "USA-states",
         "lon": [
          -95.33972,
          -97.60073
         ],
         "mode": "lines",
         "type": "scattergeo"
        },
        {
         "lat": [
          39.85841,
          35.39309
         ],
         "line": {
          "color": "red",
          "width": 1
         },
         "locationmode": "USA-states",
         "lon": [
          -104.667,
          -97.60073
         ],
         "mode": "lines",
         "type": "scattergeo"
        },
        {
         "lat": [
          39.85841,
          35.39309
         ],
         "line": {
          "color": "red",
          "width": 1
         },
         "locationmode": "USA-states",
         "lon": [
          -104.667,
          -97.60073
         ],
         "mode": "lines",
         "type": "scattergeo"
        },
        {
         "lat": [
          37.619,
          35.39309
         ],
         "line": {
          "color": "red",
          "width": 1
         },
         "locationmode": "USA-states",
         "lon": [
          -122.37484,
          -97.60073
         ],
         "mode": "lines",
         "type": "scattergeo"
        },
        {
         "lat": [
          39.1754,
          35.39309
         ],
         "line": {
          "color": "red",
          "width": 1
         },
         "locationmode": "USA-states",
         "lon": [
          -76.6682,
          -97.60073
         ],
         "mode": "lines",
         "type": "scattergeo"
        },
        {
         "lat": [
          32.89595,
          35.39309
         ],
         "line": {
          "color": "red",
          "width": 1
         },
         "locationmode": "USA-states",
         "lon": [
          -97.0372,
          -97.60073
         ],
         "mode": "lines",
         "type": "scattergeo"
        },
        {
         "lat": [
          32.89595,
          35.39309
         ],
         "line": {
          "color": "red",
          "width": 1
         },
         "locationmode": "USA-states",
         "lon": [
          -97.0372,
          -97.60073
         ],
         "mode": "lines",
         "type": "scattergeo"
        },
        {
         "lat": [
          41.9796,
          35.39309
         ],
         "line": {
          "color": "red",
          "width": 1
         },
         "locationmode": "USA-states",
         "lon": [
          -87.90446,
          -97.60073
         ],
         "mode": "lines",
         "type": "scattergeo"
        },
        {
         "lat": [
          40.78839,
          35.39309
         ],
         "line": {
          "color": "red",
          "width": 1
         },
         "locationmode": "USA-states",
         "lon": [
          -111.97777,
          -97.60073
         ],
         "mode": "lines",
         "type": "scattergeo"
        },
        {
         "lat": [
          33.43417,
          35.39309
         ],
         "line": {
          "color": "red",
          "width": 1
         },
         "locationmode": "USA-states",
         "lon": [
          -112.00806,
          -97.60073
         ],
         "mode": "lines",
         "type": "scattergeo"
        },
        {
         "lat": [
          38.94453,
          35.39309
         ],
         "line": {
          "color": "red",
          "width": 1
         },
         "locationmode": "USA-states",
         "lon": [
          -77.45581,
          -97.60073
         ],
         "mode": "lines",
         "type": "scattergeo"
        },
        {
         "lat": [
          29.64542,
          35.39309
         ],
         "line": {
          "color": "red",
          "width": 1
         },
         "locationmode": "USA-states",
         "lon": [
          -95.27889,
          -97.60073
         ],
         "mode": "lines",
         "type": "scattergeo"
        },
        {
         "lat": [
          36.08036,
          34.20062
         ],
         "line": {
          "color": "red",
          "width": 1
         },
         "locationmode": "USA-states",
         "lon": [
          -115.15233,
          -118.3585
         ],
         "mode": "lines",
         "type": "scattergeo"
        },
        {
         "lat": [
          39.85841,
          34.20062
         ],
         "line": {
          "color": "red",
          "width": 1
         },
         "locationmode": "USA-states",
         "lon": [
          -104.667,
          -118.3585
         ],
         "mode": "lines",
         "type": "scattergeo"
        },
        {
         "lat": [
          37.72129,
          34.20062
         ],
         "line": {
          "color": "red",
          "width": 1
         },
         "locationmode": "USA-states",
         "lon": [
          -122.22072,
          -118.3585
         ],
         "mode": "lines",
         "type": "scattergeo"
        },
        {
         "lat": [
          37.72129,
          34.20062
         ],
         "line": {
          "color": "red",
          "width": 1
         },
         "locationmode": "USA-states",
         "lon": [
          -122.22072,
          -118.3585
         ],
         "mode": "lines",
         "type": "scattergeo"
        },
        {
         "lat": [
          33.43417,
          34.20062
         ],
         "line": {
          "color": "red",
          "width": 1
         },
         "locationmode": "USA-states",
         "lon": [
          -112.00806,
          -118.3585
         ],
         "mode": "lines",
         "type": "scattergeo"
        },
        {
         "lat": [
          33.43417,
          34.20062
         ],
         "line": {
          "color": "red",
          "width": 1
         },
         "locationmode": "USA-states",
         "lon": [
          -112.00806,
          -118.3585
         ],
         "mode": "lines",
         "type": "scattergeo"
        },
        {
         "lat": [
          18.43942,
          28.42889
         ],
         "line": {
          "color": "red",
          "width": 1
         },
         "locationmode": "USA-states",
         "lon": [
          -66.00183,
          -81.31603
         ],
         "mode": "lines",
         "type": "scattergeo"
        },
        {
         "lat": [
          29.98047,
          28.42889
         ],
         "line": {
          "color": "red",
          "width": 1
         },
         "locationmode": "USA-states",
         "lon": [
          -95.33972,
          -81.31603
         ],
         "mode": "lines",
         "type": "scattergeo"
        },
        {
         "lat": [
          29.98047,
          28.42889
         ],
         "line": {
          "color": "red",
          "width": 1
         },
         "locationmode": "USA-states",
         "lon": [
          -95.33972,
          -81.31603
         ],
         "mode": "lines",
         "type": "scattergeo"
        },
        {
         "lat": [
          39.85841,
          28.42889
         ],
         "line": {
          "color": "red",
          "width": 1
         },
         "locationmode": "USA-states",
         "lon": [
          -104.667,
          -81.31603
         ],
         "mode": "lines",
         "type": "scattergeo"
        },
        {
         "lat": [
          39.85841,
          28.42889
         ],
         "line": {
          "color": "red",
          "width": 1
         },
         "locationmode": "USA-states",
         "lon": [
          -104.667,
          -81.31603
         ],
         "mode": "lines",
         "type": "scattergeo"
        },
        {
         "lat": [
          39.85841,
          28.42889
         ],
         "line": {
          "color": "red",
          "width": 1
         },
         "locationmode": "USA-states",
         "lon": [
          -104.667,
          -81.31603
         ],
         "mode": "lines",
         "type": "scattergeo"
        },
        {
         "lat": [
          40.63975,
          28.42889
         ],
         "line": {
          "color": "red",
          "width": 1
         },
         "locationmode": "USA-states",
         "lon": [
          -73.77893,
          -81.31603
         ],
         "mode": "lines",
         "type": "scattergeo"
        },
        {
         "lat": [
          40.63975,
          28.42889
         ],
         "line": {
          "color": "red",
          "width": 1
         },
         "locationmode": "USA-states",
         "lon": [
          -73.77893,
          -81.31603
         ],
         "mode": "lines",
         "type": "scattergeo"
        },
        {
         "lat": [
          40.63975,
          28.42889
         ],
         "line": {
          "color": "red",
          "width": 1
         },
         "locationmode": "USA-states",
         "lon": [
          -73.77893,
          -81.31603
         ],
         "mode": "lines",
         "type": "scattergeo"
        },
        {
         "lat": [
          40.63975,
          28.42889
         ],
         "line": {
          "color": "red",
          "width": 1
         },
         "locationmode": "USA-states",
         "lon": [
          -73.77893,
          -81.31603
         ],
         "mode": "lines",
         "type": "scattergeo"
        },
        {
         "lat": [
          40.63975,
          28.42889
         ],
         "line": {
          "color": "red",
          "width": 1
         },
         "locationmode": "USA-states",
         "lon": [
          -73.77893,
          -81.31603
         ],
         "mode": "lines",
         "type": "scattergeo"
        },
        {
         "lat": [
          40.63975,
          28.42889
         ],
         "line": {
          "color": "red",
          "width": 1
         },
         "locationmode": "USA-states",
         "lon": [
          -73.77893,
          -81.31603
         ],
         "mode": "lines",
         "type": "scattergeo"
        },
        {
         "lat": [
          40.49147,
          28.42889
         ],
         "line": {
          "color": "red",
          "width": 1
         },
         "locationmode": "USA-states",
         "lon": [
          -80.23287,
          -81.31603
         ],
         "mode": "lines",
         "type": "scattergeo"
        },
        {
         "lat": [
          40.77724,
          28.42889
         ],
         "line": {
          "color": "red",
          "width": 1
         },
         "locationmode": "USA-states",
         "lon": [
          -73.87261,
          -81.31603
         ],
         "mode": "lines",
         "type": "scattergeo"
        },
        {
         "lat": [
          33.64044,
          28.42889
         ],
         "line": {
          "color": "red",
          "width": 1
         },
         "locationmode": "USA-states",
         "lon": [
          -84.42694,
          -81.31603
         ],
         "mode": "lines",
         "type": "scattergeo"
        },
        {
         "lat": [
          33.64044,
          28.42889
         ],
         "line": {
          "color": "red",
          "width": 1
         },
         "locationmode": "USA-states",
         "lon": [
          -84.42694,
          -81.31603
         ],
         "mode": "lines",
         "type": "scattergeo"
        },
        {
         "lat": [
          33.64044,
          28.42889
         ],
         "line": {
          "color": "red",
          "width": 1
         },
         "locationmode": "USA-states",
         "lon": [
          -84.42694,
          -81.31603
         ],
         "mode": "lines",
         "type": "scattergeo"
        },
        {
         "lat": [
          32.89595,
          28.42889
         ],
         "line": {
          "color": "red",
          "width": 1
         },
         "locationmode": "USA-states",
         "lon": [
          -97.0372,
          -81.31603
         ],
         "mode": "lines",
         "type": "scattergeo"
        },
        {
         "lat": [
          40.6925,
          28.42889
         ],
         "line": {
          "color": "red",
          "width": 1
         },
         "locationmode": "USA-states",
         "lon": [
          -74.16866,
          -81.31603
         ],
         "mode": "lines",
         "type": "scattergeo"
        },
        {
         "lat": [
          40.6925,
          28.42889
         ],
         "line": {
          "color": "red",
          "width": 1
         },
         "locationmode": "USA-states",
         "lon": [
          -74.16866,
          -81.31603
         ],
         "mode": "lines",
         "type": "scattergeo"
        },
        {
         "lat": [
          39.87195,
          28.42889
         ],
         "line": {
          "color": "red",
          "width": 1
         },
         "locationmode": "USA-states",
         "lon": [
          -75.24114,
          -81.31603
         ],
         "mode": "lines",
         "type": "scattergeo"
        },
        {
         "lat": [
          42.36435,
          28.42889
         ],
         "line": {
          "color": "red",
          "width": 1
         },
         "locationmode": "USA-states",
         "lon": [
          -71.00518,
          -81.31603
         ],
         "mode": "lines",
         "type": "scattergeo"
        },
        {
         "lat": [
          42.36435,
          28.42889
         ],
         "line": {
          "color": "red",
          "width": 1
         },
         "locationmode": "USA-states",
         "lon": [
          -71.00518,
          -81.31603
         ],
         "mode": "lines",
         "type": "scattergeo"
        },
        {
         "lat": [
          41.9796,
          28.42889
         ],
         "line": {
          "color": "red",
          "width": 1
         },
         "locationmode": "USA-states",
         "lon": [
          -87.90446,
          -81.31603
         ],
         "mode": "lines",
         "type": "scattergeo"
        },
        {
         "lat": [
          33.94254,
          28.42889
         ],
         "line": {
          "color": "red",
          "width": 1
         },
         "locationmode": "USA-states",
         "lon": [
          -118.40807,
          -81.31603
         ],
         "mode": "lines",
         "type": "scattergeo"
        },
        {
         "lat": [
          41.78598,
          28.42889
         ],
         "line": {
          "color": "red",
          "width": 1
         },
         "locationmode": "USA-states",
         "lon": [
          -87.75242,
          -81.31603
         ],
         "mode": "lines",
         "type": "scattergeo"
        },
        {
         "lat": [
          41.78598,
          28.42889
         ],
         "line": {
          "color": "red",
          "width": 1
         },
         "locationmode": "USA-states",
         "lon": [
          -87.75242,
          -81.31603
         ],
         "mode": "lines",
         "type": "scattergeo"
        },
        {
         "lat": [
          41.93887,
          28.42889
         ],
         "line": {
          "color": "red",
          "width": 1
         },
         "locationmode": "USA-states",
         "lon": [
          -72.68323,
          -81.31603
         ],
         "mode": "lines",
         "type": "scattergeo"
        },
        {
         "lat": [
          42.21206,
          28.42889
         ],
         "line": {
          "color": "red",
          "width": 1
         },
         "locationmode": "USA-states",
         "lon": [
          -83.34884,
          -81.31603
         ],
         "mode": "lines",
         "type": "scattergeo"
        },
        {
         "lat": [
          35.21401,
          28.42889
         ],
         "line": {
          "color": "red",
          "width": 1
         },
         "locationmode": "USA-states",
         "lon": [
          -80.94313,
          -81.31603
         ],
         "mode": "lines",
         "type": "scattergeo"
        },
        {
         "lat": [
          29.64542,
          28.42889
         ],
         "line": {
          "color": "red",
          "width": 1
         },
         "locationmode": "USA-states",
         "lon": [
          -95.27889,
          -81.31603
         ],
         "mode": "lines",
         "type": "scattergeo"
        },
        {
         "lat": [
          36.89461,
          28.42889
         ],
         "line": {
          "color": "red",
          "width": 1
         },
         "locationmode": "USA-states",
         "lon": [
          -76.20122,
          -81.31603
         ],
         "mode": "lines",
         "type": "scattergeo"
        },
        {
         "lat": [
          18.43942,
          41.93887
         ],
         "line": {
          "color": "red",
          "width": 1
         },
         "locationmode": "USA-states",
         "lon": [
          -66.00183,
          -72.68323
         ],
         "mode": "lines",
         "type": "scattergeo"
        },
        {
         "lat": [
          39.85841,
          41.93887
         ],
         "line": {
          "color": "red",
          "width": 1
         },
         "locationmode": "USA-states",
         "lon": [
          -104.667,
          -72.68323
         ],
         "mode": "lines",
         "type": "scattergeo"
        },
        {
         "lat": [
          39.1754,
          41.93887
         ],
         "line": {
          "color": "red",
          "width": 1
         },
         "locationmode": "USA-states",
         "lon": [
          -76.6682,
          -72.68323
         ],
         "mode": "lines",
         "type": "scattergeo"
        },
        {
         "lat": [
          32.89595,
          41.93887
         ],
         "line": {
          "color": "red",
          "width": 1
         },
         "locationmode": "USA-states",
         "lon": [
          -97.0372,
          -72.68323
         ],
         "mode": "lines",
         "type": "scattergeo"
        },
        {
         "lat": [
          27.97547,
          41.93887
         ],
         "line": {
          "color": "red",
          "width": 1
         },
         "locationmode": "USA-states",
         "lon": [
          -82.53325,
          -72.68323
         ],
         "mode": "lines",
         "type": "scattergeo"
        },
        {
         "lat": [
          41.9796,
          41.93887
         ],
         "line": {
          "color": "red",
          "width": 1
         },
         "locationmode": "USA-states",
         "lon": [
          -87.90446,
          -72.68323
         ],
         "mode": "lines",
         "type": "scattergeo"
        },
        {
         "lat": [
          38.94453,
          41.93887
         ],
         "line": {
          "color": "red",
          "width": 1
         },
         "locationmode": "USA-states",
         "lon": [
          -77.45581,
          -72.68323
         ],
         "mode": "lines",
         "type": "scattergeo"
        },
        {
         "lat": [
          35.21401,
          41.93887
         ],
         "line": {
          "color": "red",
          "width": 1
         },
         "locationmode": "USA-states",
         "lon": [
          -80.94313,
          -72.68323
         ],
         "mode": "lines",
         "type": "scattergeo"
        },
        {
         "lat": [
          35.21401,
          41.93887
         ],
         "line": {
          "color": "red",
          "width": 1
         },
         "locationmode": "USA-states",
         "lon": [
          -80.94313,
          -72.68323
         ],
         "mode": "lines",
         "type": "scattergeo"
        },
        {
         "lat": [
          18.43942,
          26.07258
         ],
         "line": {
          "color": "red",
          "width": 1
         },
         "locationmode": "USA-states",
         "lon": [
          -66.00183,
          -80.15275
         ],
         "mode": "lines",
         "type": "scattergeo"
        },
        {
         "lat": [
          18.43942,
          26.07258
         ],
         "line": {
          "color": "red",
          "width": 1
         },
         "locationmode": "USA-states",
         "lon": [
          -66.00183,
          -80.15275
         ],
         "mode": "lines",
         "type": "scattergeo"
        },
        {
         "lat": [
          29.98047,
          26.07258
         ],
         "line": {
          "color": "red",
          "width": 1
         },
         "locationmode": "USA-states",
         "lon": [
          -95.33972,
          -80.15275
         ],
         "mode": "lines",
         "type": "scattergeo"
        },
        {
         "lat": [
          29.98047,
          26.07258
         ],
         "line": {
          "color": "red",
          "width": 1
         },
         "locationmode": "USA-states",
         "lon": [
          -95.33972,
          -80.15275
         ],
         "mode": "lines",
         "type": "scattergeo"
        },
        {
         "lat": [
          29.98047,
          26.07258
         ],
         "line": {
          "color": "red",
          "width": 1
         },
         "locationmode": "USA-states",
         "lon": [
          -95.33972,
          -80.15275
         ],
         "mode": "lines",
         "type": "scattergeo"
        },
        {
         "lat": [
          39.85841,
          26.07258
         ],
         "line": {
          "color": "red",
          "width": 1
         },
         "locationmode": "USA-states",
         "lon": [
          -104.667,
          -80.15275
         ],
         "mode": "lines",
         "type": "scattergeo"
        },
        {
         "lat": [
          39.85841,
          26.07258
         ],
         "line": {
          "color": "red",
          "width": 1
         },
         "locationmode": "USA-states",
         "lon": [
          -104.667,
          -80.15275
         ],
         "mode": "lines",
         "type": "scattergeo"
        },
        {
         "lat": [
          40.63975,
          26.07258
         ],
         "line": {
          "color": "red",
          "width": 1
         },
         "locationmode": "USA-states",
         "lon": [
          -73.77893,
          -80.15275
         ],
         "mode": "lines",
         "type": "scattergeo"
        },
        {
         "lat": [
          33.64044,
          26.07258
         ],
         "line": {
          "color": "red",
          "width": 1
         },
         "locationmode": "USA-states",
         "lon": [
          -84.42694,
          -80.15275
         ],
         "mode": "lines",
         "type": "scattergeo"
        },
        {
         "lat": [
          32.89595,
          26.07258
         ],
         "line": {
          "color": "red",
          "width": 1
         },
         "locationmode": "USA-states",
         "lon": [
          -97.0372,
          -80.15275
         ],
         "mode": "lines",
         "type": "scattergeo"
        },
        {
         "lat": [
          40.6925,
          26.07258
         ],
         "line": {
          "color": "red",
          "width": 1
         },
         "locationmode": "USA-states",
         "lon": [
          -74.16866,
          -80.15275
         ],
         "mode": "lines",
         "type": "scattergeo"
        },
        {
         "lat": [
          39.87195,
          26.07258
         ],
         "line": {
          "color": "red",
          "width": 1
         },
         "locationmode": "USA-states",
         "lon": [
          -75.24114,
          -80.15275
         ],
         "mode": "lines",
         "type": "scattergeo"
        },
        {
         "lat": [
          42.36435,
          26.07258
         ],
         "line": {
          "color": "red",
          "width": 1
         },
         "locationmode": "USA-states",
         "lon": [
          -71.00518,
          -80.15275
         ],
         "mode": "lines",
         "type": "scattergeo"
        },
        {
         "lat": [
          42.36435,
          26.07258
         ],
         "line": {
          "color": "red",
          "width": 1
         },
         "locationmode": "USA-states",
         "lon": [
          -71.00518,
          -80.15275
         ],
         "mode": "lines",
         "type": "scattergeo"
        },
        {
         "lat": [
          41.9796,
          26.07258
         ],
         "line": {
          "color": "red",
          "width": 1
         },
         "locationmode": "USA-states",
         "lon": [
          -87.90446,
          -80.15275
         ],
         "mode": "lines",
         "type": "scattergeo"
        },
        {
         "lat": [
          33.43417,
          26.07258
         ],
         "line": {
          "color": "red",
          "width": 1
         },
         "locationmode": "USA-states",
         "lon": [
          -112.00806,
          -80.15275
         ],
         "mode": "lines",
         "type": "scattergeo"
        },
        {
         "lat": [
          38.94453,
          26.07258
         ],
         "line": {
          "color": "red",
          "width": 1
         },
         "locationmode": "USA-states",
         "lon": [
          -77.45581,
          -80.15275
         ],
         "mode": "lines",
         "type": "scattergeo"
        },
        {
         "lat": [
          42.21206,
          26.07258
         ],
         "line": {
          "color": "red",
          "width": 1
         },
         "locationmode": "USA-states",
         "lon": [
          -83.34884,
          -80.15275
         ],
         "mode": "lines",
         "type": "scattergeo"
        },
        {
         "lat": [
          35.21401,
          26.07258
         ],
         "line": {
          "color": "red",
          "width": 1
         },
         "locationmode": "USA-states",
         "lon": [
          -80.94313,
          -80.15275
         ],
         "mode": "lines",
         "type": "scattergeo"
        },
        {
         "lat": [
          29.64542,
          26.07258
         ],
         "line": {
          "color": "red",
          "width": 1
         },
         "locationmode": "USA-states",
         "lon": [
          -95.27889,
          -80.15275
         ],
         "mode": "lines",
         "type": "scattergeo"
        },
        {
         "lat": [
          32.84711,
          26.07258
         ],
         "line": {
          "color": "red",
          "width": 1
         },
         "locationmode": "USA-states",
         "lon": [
          -96.85177,
          -80.15275
         ],
         "mode": "lines",
         "type": "scattergeo"
        },
        {
         "lat": [
          18.43942,
          42.36435
         ],
         "line": {
          "color": "red",
          "width": 1
         },
         "locationmode": "USA-states",
         "lon": [
          -66.00183,
          -71.00518
         ],
         "mode": "lines",
         "type": "scattergeo"
        },
        {
         "lat": [
          18.43942,
          42.36435
         ],
         "line": {
          "color": "red",
          "width": 1
         },
         "locationmode": "USA-states",
         "lon": [
          -66.00183,
          -71.00518
         ],
         "mode": "lines",
         "type": "scattergeo"
        },
        {
         "lat": [
          29.98047,
          42.36435
         ],
         "line": {
          "color": "red",
          "width": 1
         },
         "locationmode": "USA-states",
         "lon": [
          -95.33972,
          -71.00518
         ],
         "mode": "lines",
         "type": "scattergeo"
        },
        {
         "lat": [
          29.98047,
          42.36435
         ],
         "line": {
          "color": "red",
          "width": 1
         },
         "locationmode": "USA-states",
         "lon": [
          -95.33972,
          -71.00518
         ],
         "mode": "lines",
         "type": "scattergeo"
        },
        {
         "lat": [
          39.85841,
          42.36435
         ],
         "line": {
          "color": "red",
          "width": 1
         },
         "locationmode": "USA-states",
         "lon": [
          -104.667,
          -71.00518
         ],
         "mode": "lines",
         "type": "scattergeo"
        },
        {
         "lat": [
          39.85841,
          42.36435
         ],
         "line": {
          "color": "red",
          "width": 1
         },
         "locationmode": "USA-states",
         "lon": [
          -104.667,
          -71.00518
         ],
         "mode": "lines",
         "type": "scattergeo"
        },
        {
         "lat": [
          39.85841,
          42.36435
         ],
         "line": {
          "color": "red",
          "width": 1
         },
         "locationmode": "USA-states",
         "lon": [
          -104.667,
          -71.00518
         ],
         "mode": "lines",
         "type": "scattergeo"
        },
        {
         "lat": [
          40.63975,
          42.36435
         ],
         "line": {
          "color": "red",
          "width": 1
         },
         "locationmode": "USA-states",
         "lon": [
          -73.77893,
          -71.00518
         ],
         "mode": "lines",
         "type": "scattergeo"
        },
        {
         "lat": [
          40.63975,
          42.36435
         ],
         "line": {
          "color": "red",
          "width": 1
         },
         "locationmode": "USA-states",
         "lon": [
          -73.77893,
          -71.00518
         ],
         "mode": "lines",
         "type": "scattergeo"
        },
        {
         "lat": [
          26.07258,
          42.36435
         ],
         "line": {
          "color": "red",
          "width": 1
         },
         "locationmode": "USA-states",
         "lon": [
          -80.15275,
          -71.00518
         ],
         "mode": "lines",
         "type": "scattergeo"
        },
        {
         "lat": [
          26.07258,
          42.36435
         ],
         "line": {
          "color": "red",
          "width": 1
         },
         "locationmode": "USA-states",
         "lon": [
          -80.15275,
          -71.00518
         ],
         "mode": "lines",
         "type": "scattergeo"
        },
        {
         "lat": [
          26.07258,
          42.36435
         ],
         "line": {
          "color": "red",
          "width": 1
         },
         "locationmode": "USA-states",
         "lon": [
          -80.15275,
          -71.00518
         ],
         "mode": "lines",
         "type": "scattergeo"
        },
        {
         "lat": [
          26.07258,
          42.36435
         ],
         "line": {
          "color": "red",
          "width": 1
         },
         "locationmode": "USA-states",
         "lon": [
          -80.15275,
          -71.00518
         ],
         "mode": "lines",
         "type": "scattergeo"
        },
        {
         "lat": [
          26.68316,
          42.36435
         ],
         "line": {
          "color": "red",
          "width": 1
         },
         "locationmode": "USA-states",
         "lon": [
          -80.09559,
          -71.00518
         ],
         "mode": "lines",
         "type": "scattergeo"
        },
        {
         "lat": [
          25.79325,
          42.36435
         ],
         "line": {
          "color": "red",
          "width": 1
         },
         "locationmode": "USA-states",
         "lon": [
          -80.29056,
          -71.00518
         ],
         "mode": "lines",
         "type": "scattergeo"
        },
        {
         "lat": [
          25.79325,
          42.36435
         ],
         "line": {
          "color": "red",
          "width": 1
         },
         "locationmode": "USA-states",
         "lon": [
          -80.29056,
          -71.00518
         ],
         "mode": "lines",
         "type": "scattergeo"
        },
        {
         "lat": [
          28.42889,
          42.36435
         ],
         "line": {
          "color": "red",
          "width": 1
         },
         "locationmode": "USA-states",
         "lon": [
          -81.31603,
          -71.00518
         ],
         "mode": "lines",
         "type": "scattergeo"
        },
        {
         "lat": [
          27.97547,
          42.36435
         ],
         "line": {
          "color": "red",
          "width": 1
         },
         "locationmode": "USA-states",
         "lon": [
          -82.53325,
          -71.00518
         ],
         "mode": "lines",
         "type": "scattergeo"
        },
        {
         "lat": [
          41.9796,
          42.36435
         ],
         "line": {
          "color": "red",
          "width": 1
         },
         "locationmode": "USA-states",
         "lon": [
          -87.90446,
          -71.00518
         ],
         "mode": "lines",
         "type": "scattergeo"
        },
        {
         "lat": [
          41.9796,
          42.36435
         ],
         "line": {
          "color": "red",
          "width": 1
         },
         "locationmode": "USA-states",
         "lon": [
          -87.90446,
          -71.00518
         ],
         "mode": "lines",
         "type": "scattergeo"
        },
        {
         "lat": [
          33.94254,
          42.36435
         ],
         "line": {
          "color": "red",
          "width": 1
         },
         "locationmode": "USA-states",
         "lon": [
          -118.40807,
          -71.00518
         ],
         "mode": "lines",
         "type": "scattergeo"
        },
        {
         "lat": [
          41.78598,
          42.36435
         ],
         "line": {
          "color": "red",
          "width": 1
         },
         "locationmode": "USA-states",
         "lon": [
          -87.75242,
          -71.00518
         ],
         "mode": "lines",
         "type": "scattergeo"
        },
        {
         "lat": [
          41.78598,
          42.36435
         ],
         "line": {
          "color": "red",
          "width": 1
         },
         "locationmode": "USA-states",
         "lon": [
          -87.75242,
          -71.00518
         ],
         "mode": "lines",
         "type": "scattergeo"
        },
        {
         "lat": [
          38.94453,
          42.36435
         ],
         "line": {
          "color": "red",
          "width": 1
         },
         "locationmode": "USA-states",
         "lon": [
          -77.45581,
          -71.00518
         ],
         "mode": "lines",
         "type": "scattergeo"
        },
        {
         "lat": [
          38.74769,
          42.36435
         ],
         "line": {
          "color": "red",
          "width": 1
         },
         "locationmode": "USA-states",
         "lon": [
          -90.35999,
          -71.00518
         ],
         "mode": "lines",
         "type": "scattergeo"
        },
        {
         "lat": [
          35.21401,
          42.36435
         ],
         "line": {
          "color": "red",
          "width": 1
         },
         "locationmode": "USA-states",
         "lon": [
          -80.94313,
          -71.00518
         ],
         "mode": "lines",
         "type": "scattergeo"
        },
        {
         "lat": [
          29.64542,
          42.36435
         ],
         "line": {
          "color": "red",
          "width": 1
         },
         "locationmode": "USA-states",
         "lon": [
          -95.27889,
          -71.00518
         ],
         "mode": "lines",
         "type": "scattergeo"
        },
        {
         "lat": [
          18.43942,
          41.9796
         ],
         "line": {
          "color": "red",
          "width": 1
         },
         "locationmode": "USA-states",
         "lon": [
          -66.00183,
          -87.90446
         ],
         "mode": "lines",
         "type": "scattergeo"
        },
        {
         "lat": [
          39.85841,
          41.9796
         ],
         "line": {
          "color": "red",
          "width": 1
         },
         "locationmode": "USA-states",
         "lon": [
          -104.667,
          -87.90446
         ],
         "mode": "lines",
         "type": "scattergeo"
        },
        {
         "lat": [
          39.85841,
          41.9796
         ],
         "line": {
          "color": "red",
          "width": 1
         },
         "locationmode": "USA-states",
         "lon": [
          -104.667,
          -87.90446
         ],
         "mode": "lines",
         "type": "scattergeo"
        },
        {
         "lat": [
          39.85841,
          41.9796
         ],
         "line": {
          "color": "red",
          "width": 1
         },
         "locationmode": "USA-states",
         "lon": [
          -104.667,
          -87.90446
         ],
         "mode": "lines",
         "type": "scattergeo"
        },
        {
         "lat": [
          39.85841,
          41.9796
         ],
         "line": {
          "color": "red",
          "width": 1
         },
         "locationmode": "USA-states",
         "lon": [
          -104.667,
          -87.90446
         ],
         "mode": "lines",
         "type": "scattergeo"
        },
        {
         "lat": [
          37.619,
          41.9796
         ],
         "line": {
          "color": "red",
          "width": 1
         },
         "locationmode": "USA-states",
         "lon": [
          -122.37484,
          -87.90446
         ],
         "mode": "lines",
         "type": "scattergeo"
        },
        {
         "lat": [
          37.619,
          41.9796
         ],
         "line": {
          "color": "red",
          "width": 1
         },
         "locationmode": "USA-states",
         "lon": [
          -122.37484,
          -87.90446
         ],
         "mode": "lines",
         "type": "scattergeo"
        },
        {
         "lat": [
          37.619,
          41.9796
         ],
         "line": {
          "color": "red",
          "width": 1
         },
         "locationmode": "USA-states",
         "lon": [
          -122.37484,
          -87.90446
         ],
         "mode": "lines",
         "type": "scattergeo"
        },
        {
         "lat": [
          37.619,
          41.9796
         ],
         "line": {
          "color": "red",
          "width": 1
         },
         "locationmode": "USA-states",
         "lon": [
          -122.37484,
          -87.90446
         ],
         "mode": "lines",
         "type": "scattergeo"
        },
        {
         "lat": [
          42.94722,
          41.9796
         ],
         "line": {
          "color": "red",
          "width": 1
         },
         "locationmode": "USA-states",
         "lon": [
          -87.89658,
          -87.90446
         ],
         "mode": "lines",
         "type": "scattergeo"
        },
        {
         "lat": [
          35.04022,
          41.9796
         ],
         "line": {
          "color": "red",
          "width": 1
         },
         "locationmode": "USA-states",
         "lon": [
          -106.60919,
          -87.90446
         ],
         "mode": "lines",
         "type": "scattergeo"
        },
        {
         "lat": [
          35.04022,
          41.9796
         ],
         "line": {
          "color": "red",
          "width": 1
         },
         "locationmode": "USA-states",
         "lon": [
          -106.60919,
          -87.90446
         ],
         "mode": "lines",
         "type": "scattergeo"
        },
        {
         "lat": [
          40.77724,
          41.9796
         ],
         "line": {
          "color": "red",
          "width": 1
         },
         "locationmode": "USA-states",
         "lon": [
          -73.87261,
          -87.90446
         ],
         "mode": "lines",
         "type": "scattergeo"
        },
        {
         "lat": [
          35.39309,
          41.9796
         ],
         "line": {
          "color": "red",
          "width": 1
         },
         "locationmode": "USA-states",
         "lon": [
          -97.60073,
          -87.90446
         ],
         "mode": "lines",
         "type": "scattergeo"
        },
        {
         "lat": [
          42.08202,
          41.9796
         ],
         "line": {
          "color": "red",
          "width": 1
         },
         "locationmode": "USA-states",
         "lon": [
          -80.17622,
          -87.90446
         ],
         "mode": "lines",
         "type": "scattergeo"
        },
        {
         "lat": [
          33.64044,
          41.9796
         ],
         "line": {
          "color": "red",
          "width": 1
         },
         "locationmode": "USA-states",
         "lon": [
          -84.42694,
          -87.90446
         ],
         "mode": "lines",
         "type": "scattergeo"
        },
        {
         "lat": [
          32.89595,
          41.9796
         ],
         "line": {
          "color": "red",
          "width": 1
         },
         "locationmode": "USA-states",
         "lon": [
          -97.0372,
          -87.90446
         ],
         "mode": "lines",
         "type": "scattergeo"
        },
        {
         "lat": [
          32.89595,
          41.9796
         ],
         "line": {
          "color": "red",
          "width": 1
         },
         "locationmode": "USA-states",
         "lon": [
          -97.0372,
          -87.90446
         ],
         "mode": "lines",
         "type": "scattergeo"
        },
        {
         "lat": [
          32.89595,
          41.9796
         ],
         "line": {
          "color": "red",
          "width": 1
         },
         "locationmode": "USA-states",
         "lon": [
          -97.0372,
          -87.90446
         ],
         "mode": "lines",
         "type": "scattergeo"
        },
        {
         "lat": [
          32.89595,
          41.9796
         ],
         "line": {
          "color": "red",
          "width": 1
         },
         "locationmode": "USA-states",
         "lon": [
          -97.0372,
          -87.90446
         ],
         "mode": "lines",
         "type": "scattergeo"
        },
        {
         "lat": [
          40.6925,
          41.9796
         ],
         "line": {
          "color": "red",
          "width": 1
         },
         "locationmode": "USA-states",
         "lon": [
          -74.16866,
          -87.90446
         ],
         "mode": "lines",
         "type": "scattergeo"
        },
        {
         "lat": [
          25.79325,
          41.9796
         ],
         "line": {
          "color": "red",
          "width": 1
         },
         "locationmode": "USA-states",
         "lon": [
          -80.29056,
          -87.90446
         ],
         "mode": "lines",
         "type": "scattergeo"
        },
        {
         "lat": [
          25.79325,
          41.9796
         ],
         "line": {
          "color": "red",
          "width": 1
         },
         "locationmode": "USA-states",
         "lon": [
          -80.29056,
          -87.90446
         ],
         "mode": "lines",
         "type": "scattergeo"
        },
        {
         "lat": [
          25.79325,
          41.9796
         ],
         "line": {
          "color": "red",
          "width": 1
         },
         "locationmode": "USA-states",
         "lon": [
          -80.29056,
          -87.90446
         ],
         "mode": "lines",
         "type": "scattergeo"
        },
        {
         "lat": [
          39.99799,
          41.9796
         ],
         "line": {
          "color": "red",
          "width": 1
         },
         "locationmode": "USA-states",
         "lon": [
          -82.89188,
          -87.90446
         ],
         "mode": "lines",
         "type": "scattergeo"
        },
        {
         "lat": [
          28.42889,
          41.9796
         ],
         "line": {
          "color": "red",
          "width": 1
         },
         "locationmode": "USA-states",
         "lon": [
          -81.31603,
          -87.90446
         ],
         "mode": "lines",
         "type": "scattergeo"
        },
        {
         "lat": [
          39.87195,
          41.9796
         ],
         "line": {
          "color": "red",
          "width": 1
         },
         "locationmode": "USA-states",
         "lon": [
          -75.24114,
          -87.90446
         ],
         "mode": "lines",
         "type": "scattergeo"
        },
        {
         "lat": [
          39.87195,
          41.9796
         ],
         "line": {
          "color": "red",
          "width": 1
         },
         "locationmode": "USA-states",
         "lon": [
          -75.24114,
          -87.90446
         ],
         "mode": "lines",
         "type": "scattergeo"
        },
        {
         "lat": [
          43.13986,
          41.9796
         ],
         "line": {
          "color": "red",
          "width": 1
         },
         "locationmode": "USA-states",
         "lon": [
          -89.33751,
          -87.90446
         ],
         "mode": "lines",
         "type": "scattergeo"
        },
        {
         "lat": [
          43.13986,
          41.9796
         ],
         "line": {
          "color": "red",
          "width": 1
         },
         "locationmode": "USA-states",
         "lon": [
          -89.33751,
          -87.90446
         ],
         "mode": "lines",
         "type": "scattergeo"
        },
        {
         "lat": [
          43.13986,
          41.9796
         ],
         "line": {
          "color": "red",
          "width": 1
         },
         "locationmode": "USA-states",
         "lon": [
          -89.33751,
          -87.90446
         ],
         "mode": "lines",
         "type": "scattergeo"
        },
        {
         "lat": [
          42.94052,
          41.9796
         ],
         "line": {
          "color": "red",
          "width": 1
         },
         "locationmode": "USA-states",
         "lon": [
          -78.73217,
          -87.90446
         ],
         "mode": "lines",
         "type": "scattergeo"
        },
        {
         "lat": [
          44.88055,
          41.9796
         ],
         "line": {
          "color": "red",
          "width": 1
         },
         "locationmode": "USA-states",
         "lon": [
          -93.21692,
          -87.90446
         ],
         "mode": "lines",
         "type": "scattergeo"
        },
        {
         "lat": [
          39.22316,
          41.9796
         ],
         "line": {
          "color": "red",
          "width": 1
         },
         "locationmode": "USA-states",
         "lon": [
          -106.86885,
          -87.90446
         ],
         "mode": "lines",
         "type": "scattergeo"
        },
        {
         "lat": [
          39.22316,
          41.9796
         ],
         "line": {
          "color": "red",
          "width": 1
         },
         "locationmode": "USA-states",
         "lon": [
          -106.86885,
          -87.90446
         ],
         "mode": "lines",
         "type": "scattergeo"
        },
        {
         "lat": [
          39.14097,
          41.9796
         ],
         "line": {
          "color": "red",
          "width": 1
         },
         "locationmode": "USA-states",
         "lon": [
          -96.67083,
          -87.90446
         ],
         "mode": "lines",
         "type": "scattergeo"
        },
        {
         "lat": [
          47.44898,
          41.9796
         ],
         "line": {
          "color": "red",
          "width": 1
         },
         "locationmode": "USA-states",
         "lon": [
          -122.30931,
          -87.90446
         ],
         "mode": "lines",
         "type": "scattergeo"
        },
        {
         "lat": [
          47.44898,
          41.9796
         ],
         "line": {
          "color": "red",
          "width": 1
         },
         "locationmode": "USA-states",
         "lon": [
          -122.30931,
          -87.90446
         ],
         "mode": "lines",
         "type": "scattergeo"
        },
        {
         "lat": [
          47.44898,
          41.9796
         ],
         "line": {
          "color": "red",
          "width": 1
         },
         "locationmode": "USA-states",
         "lon": [
          -122.30931,
          -87.90446
         ],
         "mode": "lines",
         "type": "scattergeo"
        },
        {
         "lat": [
          40.78839,
          41.9796
         ],
         "line": {
          "color": "red",
          "width": 1
         },
         "locationmode": "USA-states",
         "lon": [
          -111.97777,
          -87.90446
         ],
         "mode": "lines",
         "type": "scattergeo"
        },
        {
         "lat": [
          40.78839,
          41.9796
         ],
         "line": {
          "color": "red",
          "width": 1
         },
         "locationmode": "USA-states",
         "lon": [
          -111.97777,
          -87.90446
         ],
         "mode": "lines",
         "type": "scattergeo"
        },
        {
         "lat": [
          37.24433,
          41.9796
         ],
         "line": {
          "color": "red",
          "width": 1
         },
         "locationmode": "USA-states",
         "lon": [
          -93.38686,
          -87.90446
         ],
         "mode": "lines",
         "type": "scattergeo"
        },
        {
         "lat": [
          38.81809,
          41.9796
         ],
         "line": {
          "color": "red",
          "width": 1
         },
         "locationmode": "USA-states",
         "lon": [
          -92.21963,
          -87.90446
         ],
         "mode": "lines",
         "type": "scattergeo"
        },
        {
         "lat": [
          35.81249,
          41.9796
         ],
         "line": {
          "color": "red",
          "width": 1
         },
         "locationmode": "USA-states",
         "lon": [
          -83.99286,
          -87.90446
         ],
         "mode": "lines",
         "type": "scattergeo"
        },
        {
         "lat": [
          33.43417,
          41.9796
         ],
         "line": {
          "color": "red",
          "width": 1
         },
         "locationmode": "USA-states",
         "lon": [
          -112.00806,
          -87.90446
         ],
         "mode": "lines",
         "type": "scattergeo"
        },
        {
         "lat": [
          36.19837,
          41.9796
         ],
         "line": {
          "color": "red",
          "width": 1
         },
         "locationmode": "USA-states",
         "lon": [
          -95.88824,
          -87.90446
         ],
         "mode": "lines",
         "type": "scattergeo"
        },
        {
         "lat": [
          38.94453,
          41.9796
         ],
         "line": {
          "color": "red",
          "width": 1
         },
         "locationmode": "USA-states",
         "lon": [
          -77.45581,
          -87.90446
         ],
         "mode": "lines",
         "type": "scattergeo"
        },
        {
         "lat": [
          39.49858,
          41.9796
         ],
         "line": {
          "color": "red",
          "width": 1
         },
         "locationmode": "USA-states",
         "lon": [
          -119.76806,
          -87.90446
         ],
         "mode": "lines",
         "type": "scattergeo"
        },
        {
         "lat": [
          26.53617,
          41.9796
         ],
         "line": {
          "color": "red",
          "width": 1
         },
         "locationmode": "USA-states",
         "lon": [
          -81.75517,
          -87.90446
         ],
         "mode": "lines",
         "type": "scattergeo"
        },
        {
         "lat": [
          26.53617,
          41.9796
         ],
         "line": {
          "color": "red",
          "width": 1
         },
         "locationmode": "USA-states",
         "lon": [
          -81.75517,
          -87.90446
         ],
         "mode": "lines",
         "type": "scattergeo"
        },
        {
         "lat": [
          38.74769,
          41.9796
         ],
         "line": {
          "color": "red",
          "width": 1
         },
         "locationmode": "USA-states",
         "lon": [
          -90.35999,
          -87.90446
         ],
         "mode": "lines",
         "type": "scattergeo"
        },
        {
         "lat": [
          42.21206,
          41.9796
         ],
         "line": {
          "color": "red",
          "width": 1
         },
         "locationmode": "USA-states",
         "lon": [
          -83.34884,
          -87.90446
         ],
         "mode": "lines",
         "type": "scattergeo"
        },
        {
         "lat": [
          42.21206,
          41.9796
         ],
         "line": {
          "color": "red",
          "width": 1
         },
         "locationmode": "USA-states",
         "lon": [
          -83.34884,
          -87.90446
         ],
         "mode": "lines",
         "type": "scattergeo"
        },
        {
         "lat": [
          42.21206,
          41.9796
         ],
         "line": {
          "color": "red",
          "width": 1
         },
         "locationmode": "USA-states",
         "lon": [
          -83.34884,
          -87.90446
         ],
         "mode": "lines",
         "type": "scattergeo"
        },
        {
         "lat": [
          33.67566,
          41.9796
         ],
         "line": {
          "color": "red",
          "width": 1
         },
         "locationmode": "USA-states",
         "lon": [
          -117.86822,
          -87.90446
         ],
         "mode": "lines",
         "type": "scattergeo"
        },
        {
         "lat": [
          41.88459,
          41.9796
         ],
         "line": {
          "color": "red",
          "width": 1
         },
         "locationmode": "USA-states",
         "lon": [
          -91.71087,
          -87.90446
         ],
         "mode": "lines",
         "type": "scattergeo"
        },
        {
         "lat": [
          35.21401,
          41.9796
         ],
         "line": {
          "color": "red",
          "width": 1
         },
         "locationmode": "USA-states",
         "lon": [
          -80.94313,
          -87.90446
         ],
         "mode": "lines",
         "type": "scattergeo"
        },
        {
         "lat": [
          35.21401,
          41.9796
         ],
         "line": {
          "color": "red",
          "width": 1
         },
         "locationmode": "USA-states",
         "lon": [
          -80.94313,
          -87.90446
         ],
         "mode": "lines",
         "type": "scattergeo"
        },
        {
         "lat": [
          20.89865,
          41.9796
         ],
         "line": {
          "color": "red",
          "width": 1
         },
         "locationmode": "USA-states",
         "lon": [
          -156.43046,
          -87.90446
         ],
         "mode": "lines",
         "type": "scattergeo"
        },
        {
         "lat": [
          37.50517,
          41.9796
         ],
         "line": {
          "color": "red",
          "width": 1
         },
         "locationmode": "USA-states",
         "lon": [
          -77.31967,
          -87.90446
         ],
         "mode": "lines",
         "type": "scattergeo"
        },
        {
         "lat": [
          37.50517,
          41.9796
         ],
         "line": {
          "color": "red",
          "width": 1
         },
         "locationmode": "USA-states",
         "lon": [
          -77.31967,
          -87.90446
         ],
         "mode": "lines",
         "type": "scattergeo"
        },
        {
         "lat": [
          40.03925,
          41.9796
         ],
         "line": {
          "color": "red",
          "width": 1
         },
         "locationmode": "USA-states",
         "lon": [
          -88.27806,
          -87.90446
         ],
         "mode": "lines",
         "type": "scattergeo"
        },
        {
         "lat": [
          36.28187,
          41.9796
         ],
         "line": {
          "color": "red",
          "width": 1
         },
         "locationmode": "USA-states",
         "lon": [
          -94.30681,
          -87.90446
         ],
         "mode": "lines",
         "type": "scattergeo"
        },
        {
         "lat": [
          43.11887,
          41.9796
         ],
         "line": {
          "color": "red",
          "width": 1
         },
         "locationmode": "USA-states",
         "lon": [
          -77.67238,
          -87.90446
         ],
         "mode": "lines",
         "type": "scattergeo"
        },
        {
         "lat": [
          40.97847,
          41.9796
         ],
         "line": {
          "color": "red",
          "width": 1
         },
         "locationmode": "USA-states",
         "lon": [
          -85.19515,
          -87.90446
         ],
         "mode": "lines",
         "type": "scattergeo"
        },
        {
         "lat": [
          36.12448,
          41.9796
         ],
         "line": {
          "color": "red",
          "width": 1
         },
         "locationmode": "USA-states",
         "lon": [
          -86.67818,
          -87.90446
         ],
         "mode": "lines",
         "type": "scattergeo"
        },
        {
         "lat": [
          42.88082,
          41.9796
         ],
         "line": {
          "color": "red",
          "width": 1
         },
         "locationmode": "USA-states",
         "lon": [
          -85.52277,
          -87.90446
         ],
         "mode": "lines",
         "type": "scattergeo"
        },
        {
         "lat": [
          42.55708,
          41.9796
         ],
         "line": {
          "color": "red",
          "width": 1
         },
         "locationmode": "USA-states",
         "lon": [
          -92.40034,
          -87.90446
         ],
         "mode": "lines",
         "type": "scattergeo"
        },
        {
         "lat": [
          44.77762,
          41.9796
         ],
         "line": {
          "color": "red",
          "width": 1
         },
         "locationmode": "USA-states",
         "lon": [
          -89.66678,
          -87.90446
         ],
         "mode": "lines",
         "type": "scattergeo"
        },
        {
         "lat": [
          61.17432,
          41.9796
         ],
         "line": {
          "color": "red",
          "width": 1
         },
         "locationmode": "USA-states",
         "lon": [
          -149.99619,
          -87.90446
         ],
         "mode": "lines",
         "type": "scattergeo"
        },
        {
         "lat": [
          40.1935,
          41.9796
         ],
         "line": {
          "color": "red",
          "width": 1
         },
         "locationmode": "USA-states",
         "lon": [
          -76.7634,
          -87.90446
         ],
         "mode": "lines",
         "type": "scattergeo"
        },
        {
         "lat": [
          41.06696,
          41.9796
         ],
         "line": {
          "color": "red",
          "width": 1
         },
         "locationmode": "USA-states",
         "lon": [
          -73.70757,
          -87.90446
         ],
         "mode": "lines",
         "type": "scattergeo"
        },
        {
         "lat": [
          38.03697,
          41.9796
         ],
         "line": {
          "color": "red",
          "width": 1
         },
         "locationmode": "USA-states",
         "lon": [
          -84.60539,
          -87.90446
         ],
         "mode": "lines",
         "type": "scattergeo"
        },
        {
         "lat": [
          40.66424,
          41.9796
         ],
         "line": {
          "color": "red",
          "width": 1
         },
         "locationmode": "USA-states",
         "lon": [
          -89.69331,
          -87.90446
         ],
         "mode": "lines",
         "type": "scattergeo"
        },
        {
         "lat": [
          18.43942,
          27.97547
         ],
         "line": {
          "color": "red",
          "width": 1
         },
         "locationmode": "USA-states",
         "lon": [
          -66.00183,
          -82.53325
         ],
         "mode": "lines",
         "type": "scattergeo"
        },
        {
         "lat": [
          18.43942,
          27.97547
         ],
         "line": {
          "color": "red",
          "width": 1
         },
         "locationmode": "USA-states",
         "lon": [
          -66.00183,
          -82.53325
         ],
         "mode": "lines",
         "type": "scattergeo"
        },
        {
         "lat": [
          29.98047,
          27.97547
         ],
         "line": {
          "color": "red",
          "width": 1
         },
         "locationmode": "USA-states",
         "lon": [
          -95.33972,
          -82.53325
         ],
         "mode": "lines",
         "type": "scattergeo"
        },
        {
         "lat": [
          39.85841,
          27.97547
         ],
         "line": {
          "color": "red",
          "width": 1
         },
         "locationmode": "USA-states",
         "lon": [
          -104.667,
          -82.53325
         ],
         "mode": "lines",
         "type": "scattergeo"
        },
        {
         "lat": [
          39.85841,
          27.97547
         ],
         "line": {
          "color": "red",
          "width": 1
         },
         "locationmode": "USA-states",
         "lon": [
          -104.667,
          -82.53325
         ],
         "mode": "lines",
         "type": "scattergeo"
        },
        {
         "lat": [
          39.1754,
          27.97547
         ],
         "line": {
          "color": "red",
          "width": 1
         },
         "locationmode": "USA-states",
         "lon": [
          -76.6682,
          -82.53325
         ],
         "mode": "lines",
         "type": "scattergeo"
        },
        {
         "lat": [
          40.77724,
          27.97547
         ],
         "line": {
          "color": "red",
          "width": 1
         },
         "locationmode": "USA-states",
         "lon": [
          -73.87261,
          -82.53325
         ],
         "mode": "lines",
         "type": "scattergeo"
        },
        {
         "lat": [
          33.64044,
          27.97547
         ],
         "line": {
          "color": "red",
          "width": 1
         },
         "locationmode": "USA-states",
         "lon": [
          -84.42694,
          -82.53325
         ],
         "mode": "lines",
         "type": "scattergeo"
        },
        {
         "lat": [
          33.64044,
          27.97547
         ],
         "line": {
          "color": "red",
          "width": 1
         },
         "locationmode": "USA-states",
         "lon": [
          -84.42694,
          -82.53325
         ],
         "mode": "lines",
         "type": "scattergeo"
        },
        {
         "lat": [
          35.87764,
          27.97547
         ],
         "line": {
          "color": "red",
          "width": 1
         },
         "locationmode": "USA-states",
         "lon": [
          -78.78747,
          -82.53325
         ],
         "mode": "lines",
         "type": "scattergeo"
        },
        {
         "lat": [
          32.89595,
          27.97547
         ],
         "line": {
          "color": "red",
          "width": 1
         },
         "locationmode": "USA-states",
         "lon": [
          -97.0372,
          -82.53325
         ],
         "mode": "lines",
         "type": "scattergeo"
        },
        {
         "lat": [
          32.89595,
          27.97547
         ],
         "line": {
          "color": "red",
          "width": 1
         },
         "locationmode": "USA-states",
         "lon": [
          -97.0372,
          -82.53325
         ],
         "mode": "lines",
         "type": "scattergeo"
        },
        {
         "lat": [
          32.89595,
          27.97547
         ],
         "line": {
          "color": "red",
          "width": 1
         },
         "locationmode": "USA-states",
         "lon": [
          -97.0372,
          -82.53325
         ],
         "mode": "lines",
         "type": "scattergeo"
        },
        {
         "lat": [
          32.89595,
          27.97547
         ],
         "line": {
          "color": "red",
          "width": 1
         },
         "locationmode": "USA-states",
         "lon": [
          -97.0372,
          -82.53325
         ],
         "mode": "lines",
         "type": "scattergeo"
        },
        {
         "lat": [
          38.85208,
          27.97547
         ],
         "line": {
          "color": "red",
          "width": 1
         },
         "locationmode": "USA-states",
         "lon": [
          -77.03772,
          -82.53325
         ],
         "mode": "lines",
         "type": "scattergeo"
        },
        {
         "lat": [
          39.87195,
          27.97547
         ],
         "line": {
          "color": "red",
          "width": 1
         },
         "locationmode": "USA-states",
         "lon": [
          -75.24114,
          -82.53325
         ],
         "mode": "lines",
         "type": "scattergeo"
        },
        {
         "lat": [
          39.87195,
          27.97547
         ],
         "line": {
          "color": "red",
          "width": 1
         },
         "locationmode": "USA-states",
         "lon": [
          -75.24114,
          -82.53325
         ],
         "mode": "lines",
         "type": "scattergeo"
        },
        {
         "lat": [
          42.36435,
          27.97547
         ],
         "line": {
          "color": "red",
          "width": 1
         },
         "locationmode": "USA-states",
         "lon": [
          -71.00518,
          -82.53325
         ],
         "mode": "lines",
         "type": "scattergeo"
        },
        {
         "lat": [
          29.53369,
          27.97547
         ],
         "line": {
          "color": "red",
          "width": 1
         },
         "locationmode": "USA-states",
         "lon": [
          -98.46978,
          -82.53325
         ],
         "mode": "lines",
         "type": "scattergeo"
        },
        {
         "lat": [
          41.9796,
          27.97547
         ],
         "line": {
          "color": "red",
          "width": 1
         },
         "locationmode": "USA-states",
         "lon": [
          -87.90446,
          -82.53325
         ],
         "mode": "lines",
         "type": "scattergeo"
        },
        {
         "lat": [
          41.9796,
          27.97547
         ],
         "line": {
          "color": "red",
          "width": 1
         },
         "locationmode": "USA-states",
         "lon": [
          -87.90446,
          -82.53325
         ],
         "mode": "lines",
         "type": "scattergeo"
        },
        {
         "lat": [
          33.94254,
          27.97547
         ],
         "line": {
          "color": "red",
          "width": 1
         },
         "locationmode": "USA-states",
         "lon": [
          -118.40807,
          -82.53325
         ],
         "mode": "lines",
         "type": "scattergeo"
        },
        {
         "lat": [
          38.94453,
          27.97547
         ],
         "line": {
          "color": "red",
          "width": 1
         },
         "locationmode": "USA-states",
         "lon": [
          -77.45581,
          -82.53325
         ],
         "mode": "lines",
         "type": "scattergeo"
        },
        {
         "lat": [
          35.21401,
          27.97547
         ],
         "line": {
          "color": "red",
          "width": 1
         },
         "locationmode": "USA-states",
         "lon": [
          -80.94313,
          -82.53325
         ],
         "mode": "lines",
         "type": "scattergeo"
        },
        {
         "lat": [
          29.64542,
          27.97547
         ],
         "line": {
          "color": "red",
          "width": 1
         },
         "locationmode": "USA-states",
         "lon": [
          -95.27889,
          -82.53325
         ],
         "mode": "lines",
         "type": "scattergeo"
        },
        {
         "lat": [
          29.64542,
          27.97547
         ],
         "line": {
          "color": "red",
          "width": 1
         },
         "locationmode": "USA-states",
         "lon": [
          -95.27889,
          -82.53325
         ],
         "mode": "lines",
         "type": "scattergeo"
        },
        {
         "lat": [
          39.29761,
          27.97547
         ],
         "line": {
          "color": "red",
          "width": 1
         },
         "locationmode": "USA-states",
         "lon": [
          -94.71391,
          -82.53325
         ],
         "mode": "lines",
         "type": "scattergeo"
        },
        {
         "lat": [
          40.79524,
          27.97547
         ],
         "line": {
          "color": "red",
          "width": 1
         },
         "locationmode": "USA-states",
         "lon": [
          -73.10021,
          -82.53325
         ],
         "mode": "lines",
         "type": "scattergeo"
        },
        {
         "lat": [
          18.43942,
          38.85208
         ],
         "line": {
          "color": "red",
          "width": 1
         },
         "locationmode": "USA-states",
         "lon": [
          -66.00183,
          -77.03772
         ],
         "mode": "lines",
         "type": "scattergeo"
        },
        {
         "lat": [
          29.98047,
          38.85208
         ],
         "line": {
          "color": "red",
          "width": 1
         },
         "locationmode": "USA-states",
         "lon": [
          -95.33972,
          -77.03772
         ],
         "mode": "lines",
         "type": "scattergeo"
        },
        {
         "lat": [
          33.64044,
          38.85208
         ],
         "line": {
          "color": "red",
          "width": 1
         },
         "locationmode": "USA-states",
         "lon": [
          -84.42694,
          -77.03772
         ],
         "mode": "lines",
         "type": "scattergeo"
        },
        {
         "lat": [
          33.64044,
          38.85208
         ],
         "line": {
          "color": "red",
          "width": 1
         },
         "locationmode": "USA-states",
         "lon": [
          -84.42694,
          -77.03772
         ],
         "mode": "lines",
         "type": "scattergeo"
        },
        {
         "lat": [
          33.64044,
          38.85208
         ],
         "line": {
          "color": "red",
          "width": 1
         },
         "locationmode": "USA-states",
         "lon": [
          -84.42694,
          -77.03772
         ],
         "mode": "lines",
         "type": "scattergeo"
        },
        {
         "lat": [
          33.64044,
          38.85208
         ],
         "line": {
          "color": "red",
          "width": 1
         },
         "locationmode": "USA-states",
         "lon": [
          -84.42694,
          -77.03772
         ],
         "mode": "lines",
         "type": "scattergeo"
        },
        {
         "lat": [
          32.89595,
          38.85208
         ],
         "line": {
          "color": "red",
          "width": 1
         },
         "locationmode": "USA-states",
         "lon": [
          -97.0372,
          -77.03772
         ],
         "mode": "lines",
         "type": "scattergeo"
        },
        {
         "lat": [
          25.79325,
          38.85208
         ],
         "line": {
          "color": "red",
          "width": 1
         },
         "locationmode": "USA-states",
         "lon": [
          -80.29056,
          -77.03772
         ],
         "mode": "lines",
         "type": "scattergeo"
        },
        {
         "lat": [
          41.9796,
          38.85208
         ],
         "line": {
          "color": "red",
          "width": 1
         },
         "locationmode": "USA-states",
         "lon": [
          -87.90446,
          -77.03772
         ],
         "mode": "lines",
         "type": "scattergeo"
        },
        {
         "lat": [
          35.21401,
          38.85208
         ],
         "line": {
          "color": "red",
          "width": 1
         },
         "locationmode": "USA-states",
         "lon": [
          -80.94313,
          -77.03772
         ],
         "mode": "lines",
         "type": "scattergeo"
        },
        {
         "lat": [
          29.64542,
          38.85208
         ],
         "line": {
          "color": "red",
          "width": 1
         },
         "locationmode": "USA-states",
         "lon": [
          -95.27889,
          -77.03772
         ],
         "mode": "lines",
         "type": "scattergeo"
        },
        {
         "lat": [
          29.64542,
          38.85208
         ],
         "line": {
          "color": "red",
          "width": 1
         },
         "locationmode": "USA-states",
         "lon": [
          -95.27889,
          -77.03772
         ],
         "mode": "lines",
         "type": "scattergeo"
        },
        {
         "lat": [
          45.58872,
          36.08036
         ],
         "line": {
          "color": "red",
          "width": 1
         },
         "locationmode": "USA-states",
         "lon": [
          -122.5975,
          -115.15233
         ],
         "mode": "lines",
         "type": "scattergeo"
        },
        {
         "lat": [
          29.98047,
          36.08036
         ],
         "line": {
          "color": "red",
          "width": 1
         },
         "locationmode": "USA-states",
         "lon": [
          -95.33972,
          -115.15233
         ],
         "mode": "lines",
         "type": "scattergeo"
        },
        {
         "lat": [
          39.85841,
          36.08036
         ],
         "line": {
          "color": "red",
          "width": 1
         },
         "locationmode": "USA-states",
         "lon": [
          -104.667,
          -115.15233
         ],
         "mode": "lines",
         "type": "scattergeo"
        },
        {
         "lat": [
          39.85841,
          36.08036
         ],
         "line": {
          "color": "red",
          "width": 1
         },
         "locationmode": "USA-states",
         "lon": [
          -104.667,
          -115.15233
         ],
         "mode": "lines",
         "type": "scattergeo"
        },
        {
         "lat": [
          39.85841,
          36.08036
         ],
         "line": {
          "color": "red",
          "width": 1
         },
         "locationmode": "USA-states",
         "lon": [
          -104.667,
          -115.15233
         ],
         "mode": "lines",
         "type": "scattergeo"
        },
        {
         "lat": [
          39.85841,
          36.08036
         ],
         "line": {
          "color": "red",
          "width": 1
         },
         "locationmode": "USA-states",
         "lon": [
          -104.667,
          -115.15233
         ],
         "mode": "lines",
         "type": "scattergeo"
        },
        {
         "lat": [
          37.619,
          36.08036
         ],
         "line": {
          "color": "red",
          "width": 1
         },
         "locationmode": "USA-states",
         "lon": [
          -122.37484,
          -115.15233
         ],
         "mode": "lines",
         "type": "scattergeo"
        },
        {
         "lat": [
          37.619,
          36.08036
         ],
         "line": {
          "color": "red",
          "width": 1
         },
         "locationmode": "USA-states",
         "lon": [
          -122.37484,
          -115.15233
         ],
         "mode": "lines",
         "type": "scattergeo"
        },
        {
         "lat": [
          40.63975,
          36.08036
         ],
         "line": {
          "color": "red",
          "width": 1
         },
         "locationmode": "USA-states",
         "lon": [
          -73.77893,
          -115.15233
         ],
         "mode": "lines",
         "type": "scattergeo"
        },
        {
         "lat": [
          40.49147,
          36.08036
         ],
         "line": {
          "color": "red",
          "width": 1
         },
         "locationmode": "USA-states",
         "lon": [
          -80.23287,
          -115.15233
         ],
         "mode": "lines",
         "type": "scattergeo"
        },
        {
         "lat": [
          35.04022,
          36.08036
         ],
         "line": {
          "color": "red",
          "width": 1
         },
         "locationmode": "USA-states",
         "lon": [
          -106.60919,
          -115.15233
         ],
         "mode": "lines",
         "type": "scattergeo"
        },
        {
         "lat": [
          33.64044,
          36.08036
         ],
         "line": {
          "color": "red",
          "width": 1
         },
         "locationmode": "USA-states",
         "lon": [
          -84.42694,
          -115.15233
         ],
         "mode": "lines",
         "type": "scattergeo"
        },
        {
         "lat": [
          32.11608,
          36.08036
         ],
         "line": {
          "color": "red",
          "width": 1
         },
         "locationmode": "USA-states",
         "lon": [
          -110.94103,
          -115.15233
         ],
         "mode": "lines",
         "type": "scattergeo"
        },
        {
         "lat": [
          32.89595,
          36.08036
         ],
         "line": {
          "color": "red",
          "width": 1
         },
         "locationmode": "USA-states",
         "lon": [
          -97.0372,
          -115.15233
         ],
         "mode": "lines",
         "type": "scattergeo"
        },
        {
         "lat": [
          32.89595,
          36.08036
         ],
         "line": {
          "color": "red",
          "width": 1
         },
         "locationmode": "USA-states",
         "lon": [
          -97.0372,
          -115.15233
         ],
         "mode": "lines",
         "type": "scattergeo"
        },
        {
         "lat": [
          32.89595,
          36.08036
         ],
         "line": {
          "color": "red",
          "width": 1
         },
         "locationmode": "USA-states",
         "lon": [
          -97.0372,
          -115.15233
         ],
         "mode": "lines",
         "type": "scattergeo"
        },
        {
         "lat": [
          32.89595,
          36.08036
         ],
         "line": {
          "color": "red",
          "width": 1
         },
         "locationmode": "USA-states",
         "lon": [
          -97.0372,
          -115.15233
         ],
         "mode": "lines",
         "type": "scattergeo"
        },
        {
         "lat": [
          32.89595,
          36.08036
         ],
         "line": {
          "color": "red",
          "width": 1
         },
         "locationmode": "USA-states",
         "lon": [
          -97.0372,
          -115.15233
         ],
         "mode": "lines",
         "type": "scattergeo"
        },
        {
         "lat": [
          32.89595,
          36.08036
         ],
         "line": {
          "color": "red",
          "width": 1
         },
         "locationmode": "USA-states",
         "lon": [
          -97.0372,
          -115.15233
         ],
         "mode": "lines",
         "type": "scattergeo"
        },
        {
         "lat": [
          32.89595,
          36.08036
         ],
         "line": {
          "color": "red",
          "width": 1
         },
         "locationmode": "USA-states",
         "lon": [
          -97.0372,
          -115.15233
         ],
         "mode": "lines",
         "type": "scattergeo"
        },
        {
         "lat": [
          40.6925,
          36.08036
         ],
         "line": {
          "color": "red",
          "width": 1
         },
         "locationmode": "USA-states",
         "lon": [
          -74.16866,
          -115.15233
         ],
         "mode": "lines",
         "type": "scattergeo"
        },
        {
         "lat": [
          28.42889,
          36.08036
         ],
         "line": {
          "color": "red",
          "width": 1
         },
         "locationmode": "USA-states",
         "lon": [
          -81.31603,
          -115.15233
         ],
         "mode": "lines",
         "type": "scattergeo"
        },
        {
         "lat": [
          39.87195,
          36.08036
         ],
         "line": {
          "color": "red",
          "width": 1
         },
         "locationmode": "USA-states",
         "lon": [
          -75.24114,
          -115.15233
         ],
         "mode": "lines",
         "type": "scattergeo"
        },
        {
         "lat": [
          30.19453,
          36.08036
         ],
         "line": {
          "color": "red",
          "width": 1
         },
         "locationmode": "USA-states",
         "lon": [
          -97.66987,
          -115.15233
         ],
         "mode": "lines",
         "type": "scattergeo"
        },
        {
         "lat": [
          42.36435,
          36.08036
         ],
         "line": {
          "color": "red",
          "width": 1
         },
         "locationmode": "USA-states",
         "lon": [
          -71.00518,
          -115.15233
         ],
         "mode": "lines",
         "type": "scattergeo"
        },
        {
         "lat": [
          32.73356,
          36.08036
         ],
         "line": {
          "color": "red",
          "width": 1
         },
         "locationmode": "USA-states",
         "lon": [
          -117.18966,
          -115.15233
         ],
         "mode": "lines",
         "type": "scattergeo"
        },
        {
         "lat": [
          32.73356,
          36.08036
         ],
         "line": {
          "color": "red",
          "width": 1
         },
         "locationmode": "USA-states",
         "lon": [
          -117.18966,
          -115.15233
         ],
         "mode": "lines",
         "type": "scattergeo"
        },
        {
         "lat": [
          41.9796,
          36.08036
         ],
         "line": {
          "color": "red",
          "width": 1
         },
         "locationmode": "USA-states",
         "lon": [
          -87.90446,
          -115.15233
         ],
         "mode": "lines",
         "type": "scattergeo"
        },
        {
         "lat": [
          33.94254,
          36.08036
         ],
         "line": {
          "color": "red",
          "width": 1
         },
         "locationmode": "USA-states",
         "lon": [
          -118.40807,
          -115.15233
         ],
         "mode": "lines",
         "type": "scattergeo"
        },
        {
         "lat": [
          33.94254,
          36.08036
         ],
         "line": {
          "color": "red",
          "width": 1
         },
         "locationmode": "USA-states",
         "lon": [
          -118.40807,
          -115.15233
         ],
         "mode": "lines",
         "type": "scattergeo"
        },
        {
         "lat": [
          33.94254,
          36.08036
         ],
         "line": {
          "color": "red",
          "width": 1
         },
         "locationmode": "USA-states",
         "lon": [
          -118.40807,
          -115.15233
         ],
         "mode": "lines",
         "type": "scattergeo"
        },
        {
         "lat": [
          33.94254,
          36.08036
         ],
         "line": {
          "color": "red",
          "width": 1
         },
         "locationmode": "USA-states",
         "lon": [
          -118.40807,
          -115.15233
         ],
         "mode": "lines",
         "type": "scattergeo"
        },
        {
         "lat": [
          33.94254,
          36.08036
         ],
         "line": {
          "color": "red",
          "width": 1
         },
         "locationmode": "USA-states",
         "lon": [
          -118.40807,
          -115.15233
         ],
         "mode": "lines",
         "type": "scattergeo"
        },
        {
         "lat": [
          40.78839,
          36.08036
         ],
         "line": {
          "color": "red",
          "width": 1
         },
         "locationmode": "USA-states",
         "lon": [
          -111.97777,
          -115.15233
         ],
         "mode": "lines",
         "type": "scattergeo"
        },
        {
         "lat": [
          34.20062,
          36.08036
         ],
         "line": {
          "color": "red",
          "width": 1
         },
         "locationmode": "USA-states",
         "lon": [
          -118.3585,
          -115.15233
         ],
         "mode": "lines",
         "type": "scattergeo"
        },
        {
         "lat": [
          33.43417,
          36.08036
         ],
         "line": {
          "color": "red",
          "width": 1
         },
         "locationmode": "USA-states",
         "lon": [
          -112.00806,
          -115.15233
         ],
         "mode": "lines",
         "type": "scattergeo"
        },
        {
         "lat": [
          33.43417,
          36.08036
         ],
         "line": {
          "color": "red",
          "width": 1
         },
         "locationmode": "USA-states",
         "lon": [
          -112.00806,
          -115.15233
         ],
         "mode": "lines",
         "type": "scattergeo"
        },
        {
         "lat": [
          38.74769,
          36.08036
         ],
         "line": {
          "color": "red",
          "width": 1
         },
         "locationmode": "USA-states",
         "lon": [
          -90.35999,
          -115.15233
         ],
         "mode": "lines",
         "type": "scattergeo"
        },
        {
         "lat": [
          42.21206,
          36.08036
         ],
         "line": {
          "color": "red",
          "width": 1
         },
         "locationmode": "USA-states",
         "lon": [
          -83.34884,
          -115.15233
         ],
         "mode": "lines",
         "type": "scattergeo"
        },
        {
         "lat": [
          33.67566,
          36.08036
         ],
         "line": {
          "color": "red",
          "width": 1
         },
         "locationmode": "USA-states",
         "lon": [
          -117.86822,
          -115.15233
         ],
         "mode": "lines",
         "type": "scattergeo"
        },
        {
         "lat": [
          29.64542,
          36.08036
         ],
         "line": {
          "color": "red",
          "width": 1
         },
         "locationmode": "USA-states",
         "lon": [
          -95.27889,
          -115.15233
         ],
         "mode": "lines",
         "type": "scattergeo"
        },
        {
         "lat": [
          32.84711,
          36.08036
         ],
         "line": {
          "color": "red",
          "width": 1
         },
         "locationmode": "USA-states",
         "lon": [
          -96.85177,
          -115.15233
         ],
         "mode": "lines",
         "type": "scattergeo"
        },
        {
         "lat": [
          31.94253,
          36.08036
         ],
         "line": {
          "color": "red",
          "width": 1
         },
         "locationmode": "USA-states",
         "lon": [
          -102.20191,
          -115.15233
         ],
         "mode": "lines",
         "type": "scattergeo"
        },
        {
         "lat": [
          45.58872,
          32.73356
         ],
         "line": {
          "color": "red",
          "width": 1
         },
         "locationmode": "USA-states",
         "lon": [
          -122.5975,
          -117.18966
         ],
         "mode": "lines",
         "type": "scattergeo"
        },
        {
         "lat": [
          29.98047,
          32.73356
         ],
         "line": {
          "color": "red",
          "width": 1
         },
         "locationmode": "USA-states",
         "lon": [
          -95.33972,
          -117.18966
         ],
         "mode": "lines",
         "type": "scattergeo"
        },
        {
         "lat": [
          39.85841,
          32.73356
         ],
         "line": {
          "color": "red",
          "width": 1
         },
         "locationmode": "USA-states",
         "lon": [
          -104.667,
          -117.18966
         ],
         "mode": "lines",
         "type": "scattergeo"
        },
        {
         "lat": [
          39.85841,
          32.73356
         ],
         "line": {
          "color": "red",
          "width": 1
         },
         "locationmode": "USA-states",
         "lon": [
          -104.667,
          -117.18966
         ],
         "mode": "lines",
         "type": "scattergeo"
        },
        {
         "lat": [
          39.85841,
          32.73356
         ],
         "line": {
          "color": "red",
          "width": 1
         },
         "locationmode": "USA-states",
         "lon": [
          -104.667,
          -117.18966
         ],
         "mode": "lines",
         "type": "scattergeo"
        },
        {
         "lat": [
          39.85841,
          32.73356
         ],
         "line": {
          "color": "red",
          "width": 1
         },
         "locationmode": "USA-states",
         "lon": [
          -104.667,
          -117.18966
         ],
         "mode": "lines",
         "type": "scattergeo"
        },
        {
         "lat": [
          39.85841,
          32.73356
         ],
         "line": {
          "color": "red",
          "width": 1
         },
         "locationmode": "USA-states",
         "lon": [
          -104.667,
          -117.18966
         ],
         "mode": "lines",
         "type": "scattergeo"
        },
        {
         "lat": [
          37.619,
          32.73356
         ],
         "line": {
          "color": "red",
          "width": 1
         },
         "locationmode": "USA-states",
         "lon": [
          -122.37484,
          -117.18966
         ],
         "mode": "lines",
         "type": "scattergeo"
        },
        {
         "lat": [
          37.619,
          32.73356
         ],
         "line": {
          "color": "red",
          "width": 1
         },
         "locationmode": "USA-states",
         "lon": [
          -122.37484,
          -117.18966
         ],
         "mode": "lines",
         "type": "scattergeo"
        },
        {
         "lat": [
          37.619,
          32.73356
         ],
         "line": {
          "color": "red",
          "width": 1
         },
         "locationmode": "USA-states",
         "lon": [
          -122.37484,
          -117.18966
         ],
         "mode": "lines",
         "type": "scattergeo"
        },
        {
         "lat": [
          37.619,
          32.73356
         ],
         "line": {
          "color": "red",
          "width": 1
         },
         "locationmode": "USA-states",
         "lon": [
          -122.37484,
          -117.18966
         ],
         "mode": "lines",
         "type": "scattergeo"
        },
        {
         "lat": [
          40.63975,
          32.73356
         ],
         "line": {
          "color": "red",
          "width": 1
         },
         "locationmode": "USA-states",
         "lon": [
          -73.77893,
          -117.18966
         ],
         "mode": "lines",
         "type": "scattergeo"
        },
        {
         "lat": [
          40.63975,
          32.73356
         ],
         "line": {
          "color": "red",
          "width": 1
         },
         "locationmode": "USA-states",
         "lon": [
          -73.77893,
          -117.18966
         ],
         "mode": "lines",
         "type": "scattergeo"
        },
        {
         "lat": [
          35.04022,
          32.73356
         ],
         "line": {
          "color": "red",
          "width": 1
         },
         "locationmode": "USA-states",
         "lon": [
          -106.60919,
          -117.18966
         ],
         "mode": "lines",
         "type": "scattergeo"
        },
        {
         "lat": [
          32.11608,
          32.73356
         ],
         "line": {
          "color": "red",
          "width": 1
         },
         "locationmode": "USA-states",
         "lon": [
          -110.94103,
          -117.18966
         ],
         "mode": "lines",
         "type": "scattergeo"
        },
        {
         "lat": [
          32.89595,
          32.73356
         ],
         "line": {
          "color": "red",
          "width": 1
         },
         "locationmode": "USA-states",
         "lon": [
          -97.0372,
          -117.18966
         ],
         "mode": "lines",
         "type": "scattergeo"
        },
        {
         "lat": [
          32.89595,
          32.73356
         ],
         "line": {
          "color": "red",
          "width": 1
         },
         "locationmode": "USA-states",
         "lon": [
          -97.0372,
          -117.18966
         ],
         "mode": "lines",
         "type": "scattergeo"
        },
        {
         "lat": [
          32.89595,
          32.73356
         ],
         "line": {
          "color": "red",
          "width": 1
         },
         "locationmode": "USA-states",
         "lon": [
          -97.0372,
          -117.18966
         ],
         "mode": "lines",
         "type": "scattergeo"
        },
        {
         "lat": [
          40.6925,
          32.73356
         ],
         "line": {
          "color": "red",
          "width": 1
         },
         "locationmode": "USA-states",
         "lon": [
          -74.16866,
          -117.18966
         ],
         "mode": "lines",
         "type": "scattergeo"
        },
        {
         "lat": [
          39.87195,
          32.73356
         ],
         "line": {
          "color": "red",
          "width": 1
         },
         "locationmode": "USA-states",
         "lon": [
          -75.24114,
          -117.18966
         ],
         "mode": "lines",
         "type": "scattergeo"
        },
        {
         "lat": [
          29.53369,
          32.73356
         ],
         "line": {
          "color": "red",
          "width": 1
         },
         "locationmode": "USA-states",
         "lon": [
          -98.46978,
          -117.18966
         ],
         "mode": "lines",
         "type": "scattergeo"
        },
        {
         "lat": [
          37.72129,
          32.73356
         ],
         "line": {
          "color": "red",
          "width": 1
         },
         "locationmode": "USA-states",
         "lon": [
          -122.22072,
          -117.18966
         ],
         "mode": "lines",
         "type": "scattergeo"
        },
        {
         "lat": [
          33.94254,
          32.73356
         ],
         "line": {
          "color": "red",
          "width": 1
         },
         "locationmode": "USA-states",
         "lon": [
          -118.40807,
          -117.18966
         ],
         "mode": "lines",
         "type": "scattergeo"
        },
        {
         "lat": [
          33.94254,
          32.73356
         ],
         "line": {
          "color": "red",
          "width": 1
         },
         "locationmode": "USA-states",
         "lon": [
          -118.40807,
          -117.18966
         ],
         "mode": "lines",
         "type": "scattergeo"
        },
        {
         "lat": [
          33.94254,
          32.73356
         ],
         "line": {
          "color": "red",
          "width": 1
         },
         "locationmode": "USA-states",
         "lon": [
          -118.40807,
          -117.18966
         ],
         "mode": "lines",
         "type": "scattergeo"
        },
        {
         "lat": [
          33.94254,
          32.73356
         ],
         "line": {
          "color": "red",
          "width": 1
         },
         "locationmode": "USA-states",
         "lon": [
          -118.40807,
          -117.18966
         ],
         "mode": "lines",
         "type": "scattergeo"
        },
        {
         "lat": [
          33.43417,
          32.73356
         ],
         "line": {
          "color": "red",
          "width": 1
         },
         "locationmode": "USA-states",
         "lon": [
          -112.00806,
          -117.18966
         ],
         "mode": "lines",
         "type": "scattergeo"
        },
        {
         "lat": [
          33.43417,
          32.73356
         ],
         "line": {
          "color": "red",
          "width": 1
         },
         "locationmode": "USA-states",
         "lon": [
          -112.00806,
          -117.18966
         ],
         "mode": "lines",
         "type": "scattergeo"
        },
        {
         "lat": [
          33.43417,
          32.73356
         ],
         "line": {
          "color": "red",
          "width": 1
         },
         "locationmode": "USA-states",
         "lon": [
          -112.00806,
          -117.18966
         ],
         "mode": "lines",
         "type": "scattergeo"
        },
        {
         "lat": [
          33.43417,
          32.73356
         ],
         "line": {
          "color": "red",
          "width": 1
         },
         "locationmode": "USA-states",
         "lon": [
          -112.00806,
          -117.18966
         ],
         "mode": "lines",
         "type": "scattergeo"
        },
        {
         "lat": [
          39.49858,
          32.73356
         ],
         "line": {
          "color": "red",
          "width": 1
         },
         "locationmode": "USA-states",
         "lon": [
          -119.76806,
          -117.18966
         ],
         "mode": "lines",
         "type": "scattergeo"
        },
        {
         "lat": [
          39.49858,
          32.73356
         ],
         "line": {
          "color": "red",
          "width": 1
         },
         "locationmode": "USA-states",
         "lon": [
          -119.76806,
          -117.18966
         ],
         "mode": "lines",
         "type": "scattergeo"
        },
        {
         "lat": [
          39.29761,
          32.73356
         ],
         "line": {
          "color": "red",
          "width": 1
         },
         "locationmode": "USA-states",
         "lon": [
          -94.71391,
          -117.18966
         ],
         "mode": "lines",
         "type": "scattergeo"
        },
        {
         "lat": [
          29.98047,
          25.79325
         ],
         "line": {
          "color": "red",
          "width": 1
         },
         "locationmode": "USA-states",
         "lon": [
          -95.33972,
          -80.29056
         ],
         "mode": "lines",
         "type": "scattergeo"
        },
        {
         "lat": [
          29.98047,
          25.79325
         ],
         "line": {
          "color": "red",
          "width": 1
         },
         "locationmode": "USA-states",
         "lon": [
          -95.33972,
          -80.29056
         ],
         "mode": "lines",
         "type": "scattergeo"
        },
        {
         "lat": [
          29.98047,
          25.79325
         ],
         "line": {
          "color": "red",
          "width": 1
         },
         "locationmode": "USA-states",
         "lon": [
          -95.33972,
          -80.29056
         ],
         "mode": "lines",
         "type": "scattergeo"
        },
        {
         "lat": [
          39.85841,
          25.79325
         ],
         "line": {
          "color": "red",
          "width": 1
         },
         "locationmode": "USA-states",
         "lon": [
          -104.667,
          -80.29056
         ],
         "mode": "lines",
         "type": "scattergeo"
        },
        {
         "lat": [
          39.85841,
          25.79325
         ],
         "line": {
          "color": "red",
          "width": 1
         },
         "locationmode": "USA-states",
         "lon": [
          -104.667,
          -80.29056
         ],
         "mode": "lines",
         "type": "scattergeo"
        },
        {
         "lat": [
          37.619,
          25.79325
         ],
         "line": {
          "color": "red",
          "width": 1
         },
         "locationmode": "USA-states",
         "lon": [
          -122.37484,
          -80.29056
         ],
         "mode": "lines",
         "type": "scattergeo"
        },
        {
         "lat": [
          40.63975,
          25.79325
         ],
         "line": {
          "color": "red",
          "width": 1
         },
         "locationmode": "USA-states",
         "lon": [
          -73.77893,
          -80.29056
         ],
         "mode": "lines",
         "type": "scattergeo"
        },
        {
         "lat": [
          39.1754,
          25.79325
         ],
         "line": {
          "color": "red",
          "width": 1
         },
         "locationmode": "USA-states",
         "lon": [
          -76.6682,
          -80.29056
         ],
         "mode": "lines",
         "type": "scattergeo"
        },
        {
         "lat": [
          40.77724,
          25.79325
         ],
         "line": {
          "color": "red",
          "width": 1
         },
         "locationmode": "USA-states",
         "lon": [
          -73.87261,
          -80.29056
         ],
         "mode": "lines",
         "type": "scattergeo"
        },
        {
         "lat": [
          32.89595,
          25.79325
         ],
         "line": {
          "color": "red",
          "width": 1
         },
         "locationmode": "USA-states",
         "lon": [
          -97.0372,
          -80.29056
         ],
         "mode": "lines",
         "type": "scattergeo"
        },
        {
         "lat": [
          32.89595,
          25.79325
         ],
         "line": {
          "color": "red",
          "width": 1
         },
         "locationmode": "USA-states",
         "lon": [
          -97.0372,
          -80.29056
         ],
         "mode": "lines",
         "type": "scattergeo"
        },
        {
         "lat": [
          32.89595,
          25.79325
         ],
         "line": {
          "color": "red",
          "width": 1
         },
         "locationmode": "USA-states",
         "lon": [
          -97.0372,
          -80.29056
         ],
         "mode": "lines",
         "type": "scattergeo"
        },
        {
         "lat": [
          32.89595,
          25.79325
         ],
         "line": {
          "color": "red",
          "width": 1
         },
         "locationmode": "USA-states",
         "lon": [
          -97.0372,
          -80.29056
         ],
         "mode": "lines",
         "type": "scattergeo"
        },
        {
         "lat": [
          32.89595,
          25.79325
         ],
         "line": {
          "color": "red",
          "width": 1
         },
         "locationmode": "USA-states",
         "lon": [
          -97.0372,
          -80.29056
         ],
         "mode": "lines",
         "type": "scattergeo"
        },
        {
         "lat": [
          38.85208,
          25.79325
         ],
         "line": {
          "color": "red",
          "width": 1
         },
         "locationmode": "USA-states",
         "lon": [
          -77.03772,
          -80.29056
         ],
         "mode": "lines",
         "type": "scattergeo"
        },
        {
         "lat": [
          39.87195,
          25.79325
         ],
         "line": {
          "color": "red",
          "width": 1
         },
         "locationmode": "USA-states",
         "lon": [
          -75.24114,
          -80.29056
         ],
         "mode": "lines",
         "type": "scattergeo"
        },
        {
         "lat": [
          44.88055,
          25.79325
         ],
         "line": {
          "color": "red",
          "width": 1
         },
         "locationmode": "USA-states",
         "lon": [
          -93.21692,
          -80.29056
         ],
         "mode": "lines",
         "type": "scattergeo"
        },
        {
         "lat": [
          41.9796,
          25.79325
         ],
         "line": {
          "color": "red",
          "width": 1
         },
         "locationmode": "USA-states",
         "lon": [
          -87.90446,
          -80.29056
         ],
         "mode": "lines",
         "type": "scattergeo"
        },
        {
         "lat": [
          33.43417,
          25.79325
         ],
         "line": {
          "color": "red",
          "width": 1
         },
         "locationmode": "USA-states",
         "lon": [
          -112.00806,
          -80.29056
         ],
         "mode": "lines",
         "type": "scattergeo"
        },
        {
         "lat": [
          38.74769,
          25.79325
         ],
         "line": {
          "color": "red",
          "width": 1
         },
         "locationmode": "USA-states",
         "lon": [
          -90.35999,
          -80.29056
         ],
         "mode": "lines",
         "type": "scattergeo"
        },
        {
         "lat": [
          17.70189,
          25.79325
         ],
         "line": {
          "color": "red",
          "width": 1
         },
         "locationmode": "USA-states",
         "lon": [
          -64.79856,
          -80.29056
         ],
         "mode": "lines",
         "type": "scattergeo"
        },
        {
         "lat": [
          35.21401,
          25.79325
         ],
         "line": {
          "color": "red",
          "width": 1
         },
         "locationmode": "USA-states",
         "lon": [
          -80.94313,
          -80.29056
         ],
         "mode": "lines",
         "type": "scattergeo"
        },
        {
         "lat": [
          39.04614,
          25.79325
         ],
         "line": {
          "color": "red",
          "width": 1
         },
         "locationmode": "USA-states",
         "lon": [
          -84.66217,
          -80.29056
         ],
         "mode": "lines",
         "type": "scattergeo"
        },
        {
         "lat": [
          29.98047,
          29.53369
         ],
         "line": {
          "color": "red",
          "width": 1
         },
         "locationmode": "USA-states",
         "lon": [
          -95.33972,
          -98.46978
         ],
         "mode": "lines",
         "type": "scattergeo"
        },
        {
         "lat": [
          29.98047,
          29.53369
         ],
         "line": {
          "color": "red",
          "width": 1
         },
         "locationmode": "USA-states",
         "lon": [
          -95.33972,
          -98.46978
         ],
         "mode": "lines",
         "type": "scattergeo"
        },
        {
         "lat": [
          29.98047,
          29.53369
         ],
         "line": {
          "color": "red",
          "width": 1
         },
         "locationmode": "USA-states",
         "lon": [
          -95.33972,
          -98.46978
         ],
         "mode": "lines",
         "type": "scattergeo"
        },
        {
         "lat": [
          29.98047,
          29.53369
         ],
         "line": {
          "color": "red",
          "width": 1
         },
         "locationmode": "USA-states",
         "lon": [
          -95.33972,
          -98.46978
         ],
         "mode": "lines",
         "type": "scattergeo"
        },
        {
         "lat": [
          39.85841,
          29.53369
         ],
         "line": {
          "color": "red",
          "width": 1
         },
         "locationmode": "USA-states",
         "lon": [
          -104.667,
          -98.46978
         ],
         "mode": "lines",
         "type": "scattergeo"
        },
        {
         "lat": [
          39.85841,
          29.53369
         ],
         "line": {
          "color": "red",
          "width": 1
         },
         "locationmode": "USA-states",
         "lon": [
          -104.667,
          -98.46978
         ],
         "mode": "lines",
         "type": "scattergeo"
        },
        {
         "lat": [
          37.619,
          29.53369
         ],
         "line": {
          "color": "red",
          "width": 1
         },
         "locationmode": "USA-states",
         "lon": [
          -122.37484,
          -98.46978
         ],
         "mode": "lines",
         "type": "scattergeo"
        },
        {
         "lat": [
          39.1754,
          29.53369
         ],
         "line": {
          "color": "red",
          "width": 1
         },
         "locationmode": "USA-states",
         "lon": [
          -76.6682,
          -98.46978
         ],
         "mode": "lines",
         "type": "scattergeo"
        },
        {
         "lat": [
          33.64044,
          29.53369
         ],
         "line": {
          "color": "red",
          "width": 1
         },
         "locationmode": "USA-states",
         "lon": [
          -84.42694,
          -98.46978
         ],
         "mode": "lines",
         "type": "scattergeo"
        },
        {
         "lat": [
          33.64044,
          29.53369
         ],
         "line": {
          "color": "red",
          "width": 1
         },
         "locationmode": "USA-states",
         "lon": [
          -84.42694,
          -98.46978
         ],
         "mode": "lines",
         "type": "scattergeo"
        },
        {
         "lat": [
          32.89595,
          29.53369
         ],
         "line": {
          "color": "red",
          "width": 1
         },
         "locationmode": "USA-states",
         "lon": [
          -97.0372,
          -98.46978
         ],
         "mode": "lines",
         "type": "scattergeo"
        },
        {
         "lat": [
          32.89595,
          29.53369
         ],
         "line": {
          "color": "red",
          "width": 1
         },
         "locationmode": "USA-states",
         "lon": [
          -97.0372,
          -98.46978
         ],
         "mode": "lines",
         "type": "scattergeo"
        },
        {
         "lat": [
          32.89595,
          29.53369
         ],
         "line": {
          "color": "red",
          "width": 1
         },
         "locationmode": "USA-states",
         "lon": [
          -97.0372,
          -98.46978
         ],
         "mode": "lines",
         "type": "scattergeo"
        },
        {
         "lat": [
          32.89595,
          29.53369
         ],
         "line": {
          "color": "red",
          "width": 1
         },
         "locationmode": "USA-states",
         "lon": [
          -97.0372,
          -98.46978
         ],
         "mode": "lines",
         "type": "scattergeo"
        },
        {
         "lat": [
          32.89595,
          29.53369
         ],
         "line": {
          "color": "red",
          "width": 1
         },
         "locationmode": "USA-states",
         "lon": [
          -97.0372,
          -98.46978
         ],
         "mode": "lines",
         "type": "scattergeo"
        },
        {
         "lat": [
          32.89595,
          29.53369
         ],
         "line": {
          "color": "red",
          "width": 1
         },
         "locationmode": "USA-states",
         "lon": [
          -97.0372,
          -98.46978
         ],
         "mode": "lines",
         "type": "scattergeo"
        },
        {
         "lat": [
          39.87195,
          29.53369
         ],
         "line": {
          "color": "red",
          "width": 1
         },
         "locationmode": "USA-states",
         "lon": [
          -75.24114,
          -98.46978
         ],
         "mode": "lines",
         "type": "scattergeo"
        },
        {
         "lat": [
          41.9796,
          29.53369
         ],
         "line": {
          "color": "red",
          "width": 1
         },
         "locationmode": "USA-states",
         "lon": [
          -87.90446,
          -98.46978
         ],
         "mode": "lines",
         "type": "scattergeo"
        },
        {
         "lat": [
          33.94254,
          29.53369
         ],
         "line": {
          "color": "red",
          "width": 1
         },
         "locationmode": "USA-states",
         "lon": [
          -118.40807,
          -98.46978
         ],
         "mode": "lines",
         "type": "scattergeo"
        },
        {
         "lat": [
          33.94254,
          29.53369
         ],
         "line": {
          "color": "red",
          "width": 1
         },
         "locationmode": "USA-states",
         "lon": [
          -118.40807,
          -98.46978
         ],
         "mode": "lines",
         "type": "scattergeo"
        },
        {
         "lat": [
          40.78839,
          29.53369
         ],
         "line": {
          "color": "red",
          "width": 1
         },
         "locationmode": "USA-states",
         "lon": [
          -111.97777,
          -98.46978
         ],
         "mode": "lines",
         "type": "scattergeo"
        },
        {
         "lat": [
          33.43417,
          29.53369
         ],
         "line": {
          "color": "red",
          "width": 1
         },
         "locationmode": "USA-states",
         "lon": [
          -112.00806,
          -98.46978
         ],
         "mode": "lines",
         "type": "scattergeo"
        },
        {
         "lat": [
          38.74769,
          29.53369
         ],
         "line": {
          "color": "red",
          "width": 1
         },
         "locationmode": "USA-states",
         "lon": [
          -90.35999,
          -98.46978
         ],
         "mode": "lines",
         "type": "scattergeo"
        },
        {
         "lat": [
          29.64542,
          29.53369
         ],
         "line": {
          "color": "red",
          "width": 1
         },
         "locationmode": "USA-states",
         "lon": [
          -95.27889,
          -98.46978
         ],
         "mode": "lines",
         "type": "scattergeo"
        },
        {
         "lat": [
          32.84711,
          29.53369
         ],
         "line": {
          "color": "red",
          "width": 1
         },
         "locationmode": "USA-states",
         "lon": [
          -96.85177,
          -98.46978
         ],
         "mode": "lines",
         "type": "scattergeo"
        },
        {
         "lat": [
          32.84711,
          29.53369
         ],
         "line": {
          "color": "red",
          "width": 1
         },
         "locationmode": "USA-states",
         "lon": [
          -96.85177,
          -98.46978
         ],
         "mode": "lines",
         "type": "scattergeo"
        },
        {
         "lat": [
          32.84711,
          29.53369
         ],
         "line": {
          "color": "red",
          "width": 1
         },
         "locationmode": "USA-states",
         "lon": [
          -96.85177,
          -98.46978
         ],
         "mode": "lines",
         "type": "scattergeo"
        },
        {
         "lat": [
          32.84711,
          29.53369
         ],
         "line": {
          "color": "red",
          "width": 1
         },
         "locationmode": "USA-states",
         "lon": [
          -96.85177,
          -98.46978
         ],
         "mode": "lines",
         "type": "scattergeo"
        },
        {
         "lat": [
          29.98047,
          45.7769
         ],
         "line": {
          "color": "red",
          "width": 1
         },
         "locationmode": "USA-states",
         "lon": [
          -95.33972,
          -111.15301
         ],
         "mode": "lines",
         "type": "scattergeo"
        },
        {
         "lat": [
          39.85841,
          45.7769
         ],
         "line": {
          "color": "red",
          "width": 1
         },
         "locationmode": "USA-states",
         "lon": [
          -104.667,
          -111.15301
         ],
         "mode": "lines",
         "type": "scattergeo"
        },
        {
         "lat": [
          40.78839,
          45.7769
         ],
         "line": {
          "color": "red",
          "width": 1
         },
         "locationmode": "USA-states",
         "lon": [
          -111.97777,
          -111.15301
         ],
         "mode": "lines",
         "type": "scattergeo"
        },
        {
         "lat": [
          29.98047,
          40.48118
         ],
         "line": {
          "color": "red",
          "width": 1
         },
         "locationmode": "USA-states",
         "lon": [
          -95.33972,
          -107.21766
         ],
         "mode": "lines",
         "type": "scattergeo"
        },
        {
         "lat": [
          32.89595,
          40.48118
         ],
         "line": {
          "color": "red",
          "width": 1
         },
         "locationmode": "USA-states",
         "lon": [
          -97.0372,
          -107.21766
         ],
         "mode": "lines",
         "type": "scattergeo"
        },
        {
         "lat": [
          29.98047,
          38.50887
         ],
         "line": {
          "color": "red",
          "width": 1
         },
         "locationmode": "USA-states",
         "lon": [
          -95.33972,
          -107.89383
         ],
         "mode": "lines",
         "type": "scattergeo"
        },
        {
         "lat": [
          39.85841,
          38.50887
         ],
         "line": {
          "color": "red",
          "width": 1
         },
         "locationmode": "USA-states",
         "lon": [
          -104.667,
          -107.89383
         ],
         "mode": "lines",
         "type": "scattergeo"
        },
        {
         "lat": [
          29.98047,
          38.94453
         ],
         "line": {
          "color": "red",
          "width": 1
         },
         "locationmode": "USA-states",
         "lon": [
          -95.33972,
          -77.45581
         ],
         "mode": "lines",
         "type": "scattergeo"
        },
        {
         "lat": [
          29.98047,
          38.94453
         ],
         "line": {
          "color": "red",
          "width": 1
         },
         "locationmode": "USA-states",
         "lon": [
          -95.33972,
          -77.45581
         ],
         "mode": "lines",
         "type": "scattergeo"
        },
        {
         "lat": [
          39.85841,
          38.94453
         ],
         "line": {
          "color": "red",
          "width": 1
         },
         "locationmode": "USA-states",
         "lon": [
          -104.667,
          -77.45581
         ],
         "mode": "lines",
         "type": "scattergeo"
        },
        {
         "lat": [
          39.85841,
          38.94453
         ],
         "line": {
          "color": "red",
          "width": 1
         },
         "locationmode": "USA-states",
         "lon": [
          -104.667,
          -77.45581
         ],
         "mode": "lines",
         "type": "scattergeo"
        },
        {
         "lat": [
          39.85841,
          38.94453
         ],
         "line": {
          "color": "red",
          "width": 1
         },
         "locationmode": "USA-states",
         "lon": [
          -104.667,
          -77.45581
         ],
         "mode": "lines",
         "type": "scattergeo"
        },
        {
         "lat": [
          39.85841,
          38.94453
         ],
         "line": {
          "color": "red",
          "width": 1
         },
         "locationmode": "USA-states",
         "lon": [
          -104.667,
          -77.45581
         ],
         "mode": "lines",
         "type": "scattergeo"
        },
        {
         "lat": [
          39.85841,
          38.94453
         ],
         "line": {
          "color": "red",
          "width": 1
         },
         "locationmode": "USA-states",
         "lon": [
          -104.667,
          -77.45581
         ],
         "mode": "lines",
         "type": "scattergeo"
        },
        {
         "lat": [
          37.619,
          38.94453
         ],
         "line": {
          "color": "red",
          "width": 1
         },
         "locationmode": "USA-states",
         "lon": [
          -122.37484,
          -77.45581
         ],
         "mode": "lines",
         "type": "scattergeo"
        },
        {
         "lat": [
          40.63975,
          38.94453
         ],
         "line": {
          "color": "red",
          "width": 1
         },
         "locationmode": "USA-states",
         "lon": [
          -73.77893,
          -77.45581
         ],
         "mode": "lines",
         "type": "scattergeo"
        },
        {
         "lat": [
          26.07258,
          38.94453
         ],
         "line": {
          "color": "red",
          "width": 1
         },
         "locationmode": "USA-states",
         "lon": [
          -80.15275,
          -77.45581
         ],
         "mode": "lines",
         "type": "scattergeo"
        },
        {
         "lat": [
          32.89595,
          38.94453
         ],
         "line": {
          "color": "red",
          "width": 1
         },
         "locationmode": "USA-states",
         "lon": [
          -97.0372,
          -77.45581
         ],
         "mode": "lines",
         "type": "scattergeo"
        },
        {
         "lat": [
          32.89595,
          38.94453
         ],
         "line": {
          "color": "red",
          "width": 1
         },
         "locationmode": "USA-states",
         "lon": [
          -97.0372,
          -77.45581
         ],
         "mode": "lines",
         "type": "scattergeo"
        },
        {
         "lat": [
          28.42889,
          38.94453
         ],
         "line": {
          "color": "red",
          "width": 1
         },
         "locationmode": "USA-states",
         "lon": [
          -81.31603,
          -77.45581
         ],
         "mode": "lines",
         "type": "scattergeo"
        },
        {
         "lat": [
          28.42889,
          38.94453
         ],
         "line": {
          "color": "red",
          "width": 1
         },
         "locationmode": "USA-states",
         "lon": [
          -81.31603,
          -77.45581
         ],
         "mode": "lines",
         "type": "scattergeo"
        },
        {
         "lat": [
          28.42889,
          38.94453
         ],
         "line": {
          "color": "red",
          "width": 1
         },
         "locationmode": "USA-states",
         "lon": [
          -81.31603,
          -77.45581
         ],
         "mode": "lines",
         "type": "scattergeo"
        },
        {
         "lat": [
          28.42889,
          38.94453
         ],
         "line": {
          "color": "red",
          "width": 1
         },
         "locationmode": "USA-states",
         "lon": [
          -81.31603,
          -77.45581
         ],
         "mode": "lines",
         "type": "scattergeo"
        },
        {
         "lat": [
          27.97547,
          38.94453
         ],
         "line": {
          "color": "red",
          "width": 1
         },
         "locationmode": "USA-states",
         "lon": [
          -82.53325,
          -77.45581
         ],
         "mode": "lines",
         "type": "scattergeo"
        },
        {
         "lat": [
          47.44898,
          38.94453
         ],
         "line": {
          "color": "red",
          "width": 1
         },
         "locationmode": "USA-states",
         "lon": [
          -122.30931,
          -77.45581
         ],
         "mode": "lines",
         "type": "scattergeo"
        },
        {
         "lat": [
          33.94254,
          38.94453
         ],
         "line": {
          "color": "red",
          "width": 1
         },
         "locationmode": "USA-states",
         "lon": [
          -118.40807,
          -77.45581
         ],
         "mode": "lines",
         "type": "scattergeo"
        },
        {
         "lat": [
          35.21401,
          38.94453
         ],
         "line": {
          "color": "red",
          "width": 1
         },
         "locationmode": "USA-states",
         "lon": [
          -80.94313,
          -77.45581
         ],
         "mode": "lines",
         "type": "scattergeo"
        },
        {
         "lat": [
          29.98047,
          36.28187
         ],
         "line": {
          "color": "red",
          "width": 1
         },
         "locationmode": "USA-states",
         "lon": [
          -95.33972,
          -94.30681
         ],
         "mode": "lines",
         "type": "scattergeo"
        },
        {
         "lat": [
          39.85841,
          36.28187
         ],
         "line": {
          "color": "red",
          "width": 1
         },
         "locationmode": "USA-states",
         "lon": [
          -104.667,
          -94.30681
         ],
         "mode": "lines",
         "type": "scattergeo"
        },
        {
         "lat": [
          32.89595,
          36.28187
         ],
         "line": {
          "color": "red",
          "width": 1
         },
         "locationmode": "USA-states",
         "lon": [
          -97.0372,
          -94.30681
         ],
         "mode": "lines",
         "type": "scattergeo"
        },
        {
         "lat": [
          41.9796,
          36.28187
         ],
         "line": {
          "color": "red",
          "width": 1
         },
         "locationmode": "USA-states",
         "lon": [
          -87.90446,
          -94.30681
         ],
         "mode": "lines",
         "type": "scattergeo"
        },
        {
         "lat": [
          29.98047,
          35.04242
         ],
         "line": {
          "color": "red",
          "width": 1
         },
         "locationmode": "USA-states",
         "lon": [
          -95.33972,
          -89.97667
         ],
         "mode": "lines",
         "type": "scattergeo"
        },
        {
         "lat": [
          39.85841,
          35.04242
         ],
         "line": {
          "color": "red",
          "width": 1
         },
         "locationmode": "USA-states",
         "lon": [
          -104.667,
          -89.97667
         ],
         "mode": "lines",
         "type": "scattergeo"
        },
        {
         "lat": [
          33.64044,
          35.04242
         ],
         "line": {
          "color": "red",
          "width": 1
         },
         "locationmode": "USA-states",
         "lon": [
          -84.42694,
          -89.97667
         ],
         "mode": "lines",
         "type": "scattergeo"
        },
        {
         "lat": [
          32.89595,
          35.04242
         ],
         "line": {
          "color": "red",
          "width": 1
         },
         "locationmode": "USA-states",
         "lon": [
          -97.0372,
          -89.97667
         ],
         "mode": "lines",
         "type": "scattergeo"
        },
        {
         "lat": [
          32.89595,
          35.04242
         ],
         "line": {
          "color": "red",
          "width": 1
         },
         "locationmode": "USA-states",
         "lon": [
          -97.0372,
          -89.97667
         ],
         "mode": "lines",
         "type": "scattergeo"
        },
        {
         "lat": [
          40.6925,
          35.04242
         ],
         "line": {
          "color": "red",
          "width": 1
         },
         "locationmode": "USA-states",
         "lon": [
          -74.16866,
          -89.97667
         ],
         "mode": "lines",
         "type": "scattergeo"
        },
        {
         "lat": [
          41.78598,
          35.04242
         ],
         "line": {
          "color": "red",
          "width": 1
         },
         "locationmode": "USA-states",
         "lon": [
          -87.75242,
          -89.97667
         ],
         "mode": "lines",
         "type": "scattergeo"
        },
        {
         "lat": [
          29.64542,
          35.04242
         ],
         "line": {
          "color": "red",
          "width": 1
         },
         "locationmode": "USA-states",
         "lon": [
          -95.27889,
          -89.97667
         ],
         "mode": "lines",
         "type": "scattergeo"
        },
        {
         "lat": [
          29.98047,
          35.81249
         ],
         "line": {
          "color": "red",
          "width": 1
         },
         "locationmode": "USA-states",
         "lon": [
          -95.33972,
          -83.99286
         ],
         "mode": "lines",
         "type": "scattergeo"
        },
        {
         "lat": [
          39.85841,
          35.81249
         ],
         "line": {
          "color": "red",
          "width": 1
         },
         "locationmode": "USA-states",
         "lon": [
          -104.667,
          -83.99286
         ],
         "mode": "lines",
         "type": "scattergeo"
        },
        {
         "lat": [
          32.89595,
          35.81249
         ],
         "line": {
          "color": "red",
          "width": 1
         },
         "locationmode": "USA-states",
         "lon": [
          -97.0372,
          -83.99286
         ],
         "mode": "lines",
         "type": "scattergeo"
        },
        {
         "lat": [
          29.98047,
          35.87764
         ],
         "line": {
          "color": "red",
          "width": 1
         },
         "locationmode": "USA-states",
         "lon": [
          -95.33972,
          -78.78747
         ],
         "mode": "lines",
         "type": "scattergeo"
        },
        {
         "lat": [
          39.85841,
          35.87764
         ],
         "line": {
          "color": "red",
          "width": 1
         },
         "locationmode": "USA-states",
         "lon": [
          -104.667,
          -78.78747
         ],
         "mode": "lines",
         "type": "scattergeo"
        },
        {
         "lat": [
          33.64044,
          35.87764
         ],
         "line": {
          "color": "red",
          "width": 1
         },
         "locationmode": "USA-states",
         "lon": [
          -84.42694,
          -78.78747
         ],
         "mode": "lines",
         "type": "scattergeo"
        },
        {
         "lat": [
          33.64044,
          35.87764
         ],
         "line": {
          "color": "red",
          "width": 1
         },
         "locationmode": "USA-states",
         "lon": [
          -84.42694,
          -78.78747
         ],
         "mode": "lines",
         "type": "scattergeo"
        },
        {
         "lat": [
          32.89595,
          35.87764
         ],
         "line": {
          "color": "red",
          "width": 1
         },
         "locationmode": "USA-states",
         "lon": [
          -97.0372,
          -78.78747
         ],
         "mode": "lines",
         "type": "scattergeo"
        },
        {
         "lat": [
          39.87195,
          35.87764
         ],
         "line": {
          "color": "red",
          "width": 1
         },
         "locationmode": "USA-states",
         "lon": [
          -75.24114,
          -78.78747
         ],
         "mode": "lines",
         "type": "scattergeo"
        },
        {
         "lat": [
          35.21401,
          35.87764
         ],
         "line": {
          "color": "red",
          "width": 1
         },
         "locationmode": "USA-states",
         "lon": [
          -80.94313,
          -78.78747
         ],
         "mode": "lines",
         "type": "scattergeo"
        },
        {
         "lat": [
          35.21401,
          35.87764
         ],
         "line": {
          "color": "red",
          "width": 1
         },
         "locationmode": "USA-states",
         "lon": [
          -80.94313,
          -78.78747
         ],
         "mode": "lines",
         "type": "scattergeo"
        },
        {
         "lat": [
          29.98047,
          33.66364
         ],
         "line": {
          "color": "red",
          "width": 1
         },
         "locationmode": "USA-states",
         "lon": [
          -95.33972,
          -101.82278
         ],
         "mode": "lines",
         "type": "scattergeo"
        },
        {
         "lat": [
          29.98047,
          33.66364
         ],
         "line": {
          "color": "red",
          "width": 1
         },
         "locationmode": "USA-states",
         "lon": [
          -95.33972,
          -101.82278
         ],
         "mode": "lines",
         "type": "scattergeo"
        },
        {
         "lat": [
          39.85841,
          33.66364
         ],
         "line": {
          "color": "red",
          "width": 1
         },
         "locationmode": "USA-states",
         "lon": [
          -104.667,
          -101.82278
         ],
         "mode": "lines",
         "type": "scattergeo"
        },
        {
         "lat": [
          39.85841,
          33.66364
         ],
         "line": {
          "color": "red",
          "width": 1
         },
         "locationmode": "USA-states",
         "lon": [
          -104.667,
          -101.82278
         ],
         "mode": "lines",
         "type": "scattergeo"
        },
        {
         "lat": [
          32.89595,
          33.66364
         ],
         "line": {
          "color": "red",
          "width": 1
         },
         "locationmode": "USA-states",
         "lon": [
          -97.0372,
          -101.82278
         ],
         "mode": "lines",
         "type": "scattergeo"
        },
        {
         "lat": [
          32.89595,
          33.66364
         ],
         "line": {
          "color": "red",
          "width": 1
         },
         "locationmode": "USA-states",
         "lon": [
          -97.0372,
          -101.82278
         ],
         "mode": "lines",
         "type": "scattergeo"
        },
        {
         "lat": [
          30.19453,
          33.66364
         ],
         "line": {
          "color": "red",
          "width": 1
         },
         "locationmode": "USA-states",
         "lon": [
          -97.66987,
          -101.82278
         ],
         "mode": "lines",
         "type": "scattergeo"
        },
        {
         "lat": [
          29.98047,
          39.87195
         ],
         "line": {
          "color": "red",
          "width": 1
         },
         "locationmode": "USA-states",
         "lon": [
          -95.33972,
          -75.24114
         ],
         "mode": "lines",
         "type": "scattergeo"
        },
        {
         "lat": [
          29.98047,
          39.87195
         ],
         "line": {
          "color": "red",
          "width": 1
         },
         "locationmode": "USA-states",
         "lon": [
          -95.33972,
          -75.24114
         ],
         "mode": "lines",
         "type": "scattergeo"
        },
        {
         "lat": [
          39.85841,
          39.87195
         ],
         "line": {
          "color": "red",
          "width": 1
         },
         "locationmode": "USA-states",
         "lon": [
          -104.667,
          -75.24114
         ],
         "mode": "lines",
         "type": "scattergeo"
        },
        {
         "lat": [
          26.07258,
          39.87195
         ],
         "line": {
          "color": "red",
          "width": 1
         },
         "locationmode": "USA-states",
         "lon": [
          -80.15275,
          -75.24114
         ],
         "mode": "lines",
         "type": "scattergeo"
        },
        {
         "lat": [
          32.89595,
          39.87195
         ],
         "line": {
          "color": "red",
          "width": 1
         },
         "locationmode": "USA-states",
         "lon": [
          -97.0372,
          -75.24114
         ],
         "mode": "lines",
         "type": "scattergeo"
        },
        {
         "lat": [
          41.9796,
          39.87195
         ],
         "line": {
          "color": "red",
          "width": 1
         },
         "locationmode": "USA-states",
         "lon": [
          -87.90446,
          -75.24114
         ],
         "mode": "lines",
         "type": "scattergeo"
        },
        {
         "lat": [
          41.9796,
          39.87195
         ],
         "line": {
          "color": "red",
          "width": 1
         },
         "locationmode": "USA-states",
         "lon": [
          -87.90446,
          -75.24114
         ],
         "mode": "lines",
         "type": "scattergeo"
        },
        {
         "lat": [
          47.44898,
          39.87195
         ],
         "line": {
          "color": "red",
          "width": 1
         },
         "locationmode": "USA-states",
         "lon": [
          -122.30931,
          -75.24114
         ],
         "mode": "lines",
         "type": "scattergeo"
        },
        {
         "lat": [
          33.94254,
          39.87195
         ],
         "line": {
          "color": "red",
          "width": 1
         },
         "locationmode": "USA-states",
         "lon": [
          -118.40807,
          -75.24114
         ],
         "mode": "lines",
         "type": "scattergeo"
        },
        {
         "lat": [
          40.78839,
          39.87195
         ],
         "line": {
          "color": "red",
          "width": 1
         },
         "locationmode": "USA-states",
         "lon": [
          -111.97777,
          -75.24114
         ],
         "mode": "lines",
         "type": "scattergeo"
        },
        {
         "lat": [
          33.43417,
          39.87195
         ],
         "line": {
          "color": "red",
          "width": 1
         },
         "locationmode": "USA-states",
         "lon": [
          -112.00806,
          -75.24114
         ],
         "mode": "lines",
         "type": "scattergeo"
        },
        {
         "lat": [
          42.21206,
          39.87195
         ],
         "line": {
          "color": "red",
          "width": 1
         },
         "locationmode": "USA-states",
         "lon": [
          -83.34884,
          -75.24114
         ],
         "mode": "lines",
         "type": "scattergeo"
        },
        {
         "lat": [
          18.33731,
          39.87195
         ],
         "line": {
          "color": "red",
          "width": 1
         },
         "locationmode": "USA-states",
         "lon": [
          -64.97336,
          -75.24114
         ],
         "mode": "lines",
         "type": "scattergeo"
        },
        {
         "lat": [
          29.98047,
          39.71733
         ],
         "line": {
          "color": "red",
          "width": 1
         },
         "locationmode": "USA-states",
         "lon": [
          -95.33972,
          -86.29438
         ],
         "mode": "lines",
         "type": "scattergeo"
        },
        {
         "lat": [
          39.85841,
          39.71733
         ],
         "line": {
          "color": "red",
          "width": 1
         },
         "locationmode": "USA-states",
         "lon": [
          -104.667,
          -86.29438
         ],
         "mode": "lines",
         "type": "scattergeo"
        },
        {
         "lat": [
          39.85841,
          39.71733
         ],
         "line": {
          "color": "red",
          "width": 1
         },
         "locationmode": "USA-states",
         "lon": [
          -104.667,
          -86.29438
         ],
         "mode": "lines",
         "type": "scattergeo"
        },
        {
         "lat": [
          39.85841,
          39.71733
         ],
         "line": {
          "color": "red",
          "width": 1
         },
         "locationmode": "USA-states",
         "lon": [
          -104.667,
          -86.29438
         ],
         "mode": "lines",
         "type": "scattergeo"
        },
        {
         "lat": [
          39.1754,
          39.71733
         ],
         "line": {
          "color": "red",
          "width": 1
         },
         "locationmode": "USA-states",
         "lon": [
          -76.6682,
          -86.29438
         ],
         "mode": "lines",
         "type": "scattergeo"
        },
        {
         "lat": [
          32.89595,
          39.71733
         ],
         "line": {
          "color": "red",
          "width": 1
         },
         "locationmode": "USA-states",
         "lon": [
          -97.0372,
          -86.29438
         ],
         "mode": "lines",
         "type": "scattergeo"
        },
        {
         "lat": [
          32.89595,
          39.71733
         ],
         "line": {
          "color": "red",
          "width": 1
         },
         "locationmode": "USA-states",
         "lon": [
          -97.0372,
          -86.29438
         ],
         "mode": "lines",
         "type": "scattergeo"
        },
        {
         "lat": [
          32.89595,
          39.71733
         ],
         "line": {
          "color": "red",
          "width": 1
         },
         "locationmode": "USA-states",
         "lon": [
          -97.0372,
          -86.29438
         ],
         "mode": "lines",
         "type": "scattergeo"
        },
        {
         "lat": [
          28.42889,
          39.71733
         ],
         "line": {
          "color": "red",
          "width": 1
         },
         "locationmode": "USA-states",
         "lon": [
          -81.31603,
          -86.29438
         ],
         "mode": "lines",
         "type": "scattergeo"
        },
        {
         "lat": [
          39.87195,
          39.71733
         ],
         "line": {
          "color": "red",
          "width": 1
         },
         "locationmode": "USA-states",
         "lon": [
          -75.24114,
          -86.29438
         ],
         "mode": "lines",
         "type": "scattergeo"
        },
        {
         "lat": [
          41.9796,
          39.71733
         ],
         "line": {
          "color": "red",
          "width": 1
         },
         "locationmode": "USA-states",
         "lon": [
          -87.90446,
          -86.29438
         ],
         "mode": "lines",
         "type": "scattergeo"
        },
        {
         "lat": [
          41.9796,
          39.71733
         ],
         "line": {
          "color": "red",
          "width": 1
         },
         "locationmode": "USA-states",
         "lon": [
          -87.90446,
          -86.29438
         ],
         "mode": "lines",
         "type": "scattergeo"
        },
        {
         "lat": [
          41.9796,
          39.71733
         ],
         "line": {
          "color": "red",
          "width": 1
         },
         "locationmode": "USA-states",
         "lon": [
          -87.90446,
          -86.29438
         ],
         "mode": "lines",
         "type": "scattergeo"
        },
        {
         "lat": [
          38.94453,
          39.71733
         ],
         "line": {
          "color": "red",
          "width": 1
         },
         "locationmode": "USA-states",
         "lon": [
          -77.45581,
          -86.29438
         ],
         "mode": "lines",
         "type": "scattergeo"
        },
        {
         "lat": [
          29.98047,
          30.69142
         ],
         "line": {
          "color": "red",
          "width": 1
         },
         "locationmode": "USA-states",
         "lon": [
          -95.33972,
          -88.24283
         ],
         "mode": "lines",
         "type": "scattergeo"
        },
        {
         "lat": [
          32.89595,
          30.69142
         ],
         "line": {
          "color": "red",
          "width": 1
         },
         "locationmode": "USA-states",
         "lon": [
          -97.0372,
          -88.24283
         ],
         "mode": "lines",
         "type": "scattergeo"
        },
        {
         "lat": [
          29.98047,
          36.19837
         ],
         "line": {
          "color": "red",
          "width": 1
         },
         "locationmode": "USA-states",
         "lon": [
          -95.33972,
          -95.88824
         ],
         "mode": "lines",
         "type": "scattergeo"
        },
        {
         "lat": [
          39.85841,
          36.19837
         ],
         "line": {
          "color": "red",
          "width": 1
         },
         "locationmode": "USA-states",
         "lon": [
          -104.667,
          -95.88824
         ],
         "mode": "lines",
         "type": "scattergeo"
        },
        {
         "lat": [
          33.43417,
          36.19837
         ],
         "line": {
          "color": "red",
          "width": 1
         },
         "locationmode": "USA-states",
         "lon": [
          -112.00806,
          -95.88824
         ],
         "mode": "lines",
         "type": "scattergeo"
        },
        {
         "lat": [
          41.78598,
          36.19837
         ],
         "line": {
          "color": "red",
          "width": 1
         },
         "locationmode": "USA-states",
         "lon": [
          -87.75242,
          -95.88824
         ],
         "mode": "lines",
         "type": "scattergeo"
        },
        {
         "lat": [
          38.94453,
          36.19837
         ],
         "line": {
          "color": "red",
          "width": 1
         },
         "locationmode": "USA-states",
         "lon": [
          -77.45581,
          -95.88824
         ],
         "mode": "lines",
         "type": "scattergeo"
        },
        {
         "lat": [
          32.84711,
          36.19837
         ],
         "line": {
          "color": "red",
          "width": 1
         },
         "locationmode": "USA-states",
         "lon": [
          -96.85177,
          -95.88824
         ],
         "mode": "lines",
         "type": "scattergeo"
        },
        {
         "lat": [
          32.84711,
          36.19837
         ],
         "line": {
          "color": "red",
          "width": 1
         },
         "locationmode": "USA-states",
         "lon": [
          -96.85177,
          -95.88824
         ],
         "mode": "lines",
         "type": "scattergeo"
        },
        {
         "lat": [
          29.98047,
          33.64044
         ],
         "line": {
          "color": "red",
          "width": 1
         },
         "locationmode": "USA-states",
         "lon": [
          -95.33972,
          -84.42694
         ],
         "mode": "lines",
         "type": "scattergeo"
        },
        {
         "lat": [
          39.85841,
          33.64044
         ],
         "line": {
          "color": "red",
          "width": 1
         },
         "locationmode": "USA-states",
         "lon": [
          -104.667,
          -84.42694
         ],
         "mode": "lines",
         "type": "scattergeo"
        },
        {
         "lat": [
          39.85841,
          33.64044
         ],
         "line": {
          "color": "red",
          "width": 1
         },
         "locationmode": "USA-states",
         "lon": [
          -104.667,
          -84.42694
         ],
         "mode": "lines",
         "type": "scattergeo"
        },
        {
         "lat": [
          39.85841,
          33.64044
         ],
         "line": {
          "color": "red",
          "width": 1
         },
         "locationmode": "USA-states",
         "lon": [
          -104.667,
          -84.42694
         ],
         "mode": "lines",
         "type": "scattergeo"
        },
        {
         "lat": [
          37.619,
          33.64044
         ],
         "line": {
          "color": "red",
          "width": 1
         },
         "locationmode": "USA-states",
         "lon": [
          -122.37484,
          -84.42694
         ],
         "mode": "lines",
         "type": "scattergeo"
        },
        {
         "lat": [
          37.619,
          33.64044
         ],
         "line": {
          "color": "red",
          "width": 1
         },
         "locationmode": "USA-states",
         "lon": [
          -122.37484,
          -84.42694
         ],
         "mode": "lines",
         "type": "scattergeo"
        },
        {
         "lat": [
          42.94722,
          33.64044
         ],
         "line": {
          "color": "red",
          "width": 1
         },
         "locationmode": "USA-states",
         "lon": [
          -87.89658,
          -84.42694
         ],
         "mode": "lines",
         "type": "scattergeo"
        },
        {
         "lat": [
          40.49147,
          33.64044
         ],
         "line": {
          "color": "red",
          "width": 1
         },
         "locationmode": "USA-states",
         "lon": [
          -80.23287,
          -84.42694
         ],
         "mode": "lines",
         "type": "scattergeo"
        },
        {
         "lat": [
          39.1754,
          33.64044
         ],
         "line": {
          "color": "red",
          "width": 1
         },
         "locationmode": "USA-states",
         "lon": [
          -76.6682,
          -84.42694
         ],
         "mode": "lines",
         "type": "scattergeo"
        },
        {
         "lat": [
          26.07258,
          33.64044
         ],
         "line": {
          "color": "red",
          "width": 1
         },
         "locationmode": "USA-states",
         "lon": [
          -80.15275,
          -84.42694
         ],
         "mode": "lines",
         "type": "scattergeo"
        },
        {
         "lat": [
          35.87764,
          33.64044
         ],
         "line": {
          "color": "red",
          "width": 1
         },
         "locationmode": "USA-states",
         "lon": [
          -78.78747,
          -84.42694
         ],
         "mode": "lines",
         "type": "scattergeo"
        },
        {
         "lat": [
          32.89595,
          33.64044
         ],
         "line": {
          "color": "red",
          "width": 1
         },
         "locationmode": "USA-states",
         "lon": [
          -97.0372,
          -84.42694
         ],
         "mode": "lines",
         "type": "scattergeo"
        },
        {
         "lat": [
          40.6925,
          33.64044
         ],
         "line": {
          "color": "red",
          "width": 1
         },
         "locationmode": "USA-states",
         "lon": [
          -74.16866,
          -84.42694
         ],
         "mode": "lines",
         "type": "scattergeo"
        },
        {
         "lat": [
          25.79325,
          33.64044
         ],
         "line": {
          "color": "red",
          "width": 1
         },
         "locationmode": "USA-states",
         "lon": [
          -80.29056,
          -84.42694
         ],
         "mode": "lines",
         "type": "scattergeo"
        },
        {
         "lat": [
          25.79325,
          33.64044
         ],
         "line": {
          "color": "red",
          "width": 1
         },
         "locationmode": "USA-states",
         "lon": [
          -80.29056,
          -84.42694
         ],
         "mode": "lines",
         "type": "scattergeo"
        },
        {
         "lat": [
          39.99799,
          33.64044
         ],
         "line": {
          "color": "red",
          "width": 1
         },
         "locationmode": "USA-states",
         "lon": [
          -82.89188,
          -84.42694
         ],
         "mode": "lines",
         "type": "scattergeo"
        },
        {
         "lat": [
          33.93884,
          33.64044
         ],
         "line": {
          "color": "red",
          "width": 1
         },
         "locationmode": "USA-states",
         "lon": [
          -81.11954,
          -84.42694
         ],
         "mode": "lines",
         "type": "scattergeo"
        },
        {
         "lat": [
          28.42889,
          33.64044
         ],
         "line": {
          "color": "red",
          "width": 1
         },
         "locationmode": "USA-states",
         "lon": [
          -81.31603,
          -84.42694
         ],
         "mode": "lines",
         "type": "scattergeo"
        },
        {
         "lat": [
          39.87195,
          33.64044
         ],
         "line": {
          "color": "red",
          "width": 1
         },
         "locationmode": "USA-states",
         "lon": [
          -75.24114,
          -84.42694
         ],
         "mode": "lines",
         "type": "scattergeo"
        },
        {
         "lat": [
          30.19453,
          33.64044
         ],
         "line": {
          "color": "red",
          "width": 1
         },
         "locationmode": "USA-states",
         "lon": [
          -97.66987,
          -84.42694
         ],
         "mode": "lines",
         "type": "scattergeo"
        },
        {
         "lat": [
          27.97547,
          33.64044
         ],
         "line": {
          "color": "red",
          "width": 1
         },
         "locationmode": "USA-states",
         "lon": [
          -82.53325,
          -84.42694
         ],
         "mode": "lines",
         "type": "scattergeo"
        },
        {
         "lat": [
          44.88055,
          33.64044
         ],
         "line": {
          "color": "red",
          "width": 1
         },
         "locationmode": "USA-states",
         "lon": [
          -93.21692,
          -84.42694
         ],
         "mode": "lines",
         "type": "scattergeo"
        },
        {
         "lat": [
          32.73356,
          33.64044
         ],
         "line": {
          "color": "red",
          "width": 1
         },
         "locationmode": "USA-states",
         "lon": [
          -117.18966,
          -84.42694
         ],
         "mode": "lines",
         "type": "scattergeo"
        },
        {
         "lat": [
          29.53369,
          33.64044
         ],
         "line": {
          "color": "red",
          "width": 1
         },
         "locationmode": "USA-states",
         "lon": [
          -98.46978,
          -84.42694
         ],
         "mode": "lines",
         "type": "scattergeo"
        },
        {
         "lat": [
          41.9796,
          33.64044
         ],
         "line": {
          "color": "red",
          "width": 1
         },
         "locationmode": "USA-states",
         "lon": [
          -87.90446,
          -84.42694
         ],
         "mode": "lines",
         "type": "scattergeo"
        },
        {
         "lat": [
          41.9796,
          33.64044
         ],
         "line": {
          "color": "red",
          "width": 1
         },
         "locationmode": "USA-states",
         "lon": [
          -87.90446,
          -84.42694
         ],
         "mode": "lines",
         "type": "scattergeo"
        },
        {
         "lat": [
          33.94254,
          33.64044
         ],
         "line": {
          "color": "red",
          "width": 1
         },
         "locationmode": "USA-states",
         "lon": [
          -118.40807,
          -84.42694
         ],
         "mode": "lines",
         "type": "scattergeo"
        },
        {
         "lat": [
          40.78839,
          33.64044
         ],
         "line": {
          "color": "red",
          "width": 1
         },
         "locationmode": "USA-states",
         "lon": [
          -111.97777,
          -84.42694
         ],
         "mode": "lines",
         "type": "scattergeo"
        },
        {
         "lat": [
          33.43417,
          33.64044
         ],
         "line": {
          "color": "red",
          "width": 1
         },
         "locationmode": "USA-states",
         "lon": [
          -112.00806,
          -84.42694
         ],
         "mode": "lines",
         "type": "scattergeo"
        },
        {
         "lat": [
          36.19837,
          33.64044
         ],
         "line": {
          "color": "red",
          "width": 1
         },
         "locationmode": "USA-states",
         "lon": [
          -95.88824,
          -84.42694
         ],
         "mode": "lines",
         "type": "scattergeo"
        },
        {
         "lat": [
          41.78598,
          33.64044
         ],
         "line": {
          "color": "red",
          "width": 1
         },
         "locationmode": "USA-states",
         "lon": [
          -87.75242,
          -84.42694
         ],
         "mode": "lines",
         "type": "scattergeo"
        },
        {
         "lat": [
          41.78598,
          33.64044
         ],
         "line": {
          "color": "red",
          "width": 1
         },
         "locationmode": "USA-states",
         "lon": [
          -87.75242,
          -84.42694
         ],
         "mode": "lines",
         "type": "scattergeo"
        },
        {
         "lat": [
          32.12758,
          33.64044
         ],
         "line": {
          "color": "red",
          "width": 1
         },
         "locationmode": "USA-states",
         "lon": [
          -81.20214,
          -84.42694
         ],
         "mode": "lines",
         "type": "scattergeo"
        },
        {
         "lat": [
          42.21206,
          33.64044
         ],
         "line": {
          "color": "red",
          "width": 1
         },
         "locationmode": "USA-states",
         "lon": [
          -83.34884,
          -84.42694
         ],
         "mode": "lines",
         "type": "scattergeo"
        },
        {
         "lat": [
          42.21206,
          33.64044
         ],
         "line": {
          "color": "red",
          "width": 1
         },
         "locationmode": "USA-states",
         "lon": [
          -83.34884,
          -84.42694
         ],
         "mode": "lines",
         "type": "scattergeo"
        },
        {
         "lat": [
          35.21401,
          33.64044
         ],
         "line": {
          "color": "red",
          "width": 1
         },
         "locationmode": "USA-states",
         "lon": [
          -80.94313,
          -84.42694
         ],
         "mode": "lines",
         "type": "scattergeo"
        },
        {
         "lat": [
          29.64542,
          33.64044
         ],
         "line": {
          "color": "red",
          "width": 1
         },
         "locationmode": "USA-states",
         "lon": [
          -95.27889,
          -84.42694
         ],
         "mode": "lines",
         "type": "scattergeo"
        },
        {
         "lat": [
          33.36996,
          33.64044
         ],
         "line": {
          "color": "red",
          "width": 1
         },
         "locationmode": "USA-states",
         "lon": [
          -81.9645,
          -84.42694
         ],
         "mode": "lines",
         "type": "scattergeo"
        },
        {
         "lat": [
          32.84711,
          33.64044
         ],
         "line": {
          "color": "red",
          "width": 1
         },
         "locationmode": "USA-states",
         "lon": [
          -96.85177,
          -84.42694
         ],
         "mode": "lines",
         "type": "scattergeo"
        },
        {
         "lat": [
          29.98047,
          38.69542
         ],
         "line": {
          "color": "red",
          "width": 1
         },
         "locationmode": "USA-states",
         "lon": [
          -95.33972,
          -121.59077
         ],
         "mode": "lines",
         "type": "scattergeo"
        },
        {
         "lat": [
          39.85841,
          38.69542
         ],
         "line": {
          "color": "red",
          "width": 1
         },
         "locationmode": "USA-states",
         "lon": [
          -104.667,
          -121.59077
         ],
         "mode": "lines",
         "type": "scattergeo"
        },
        {
         "lat": [
          39.85841,
          38.69542
         ],
         "line": {
          "color": "red",
          "width": 1
         },
         "locationmode": "USA-states",
         "lon": [
          -104.667,
          -121.59077
         ],
         "mode": "lines",
         "type": "scattergeo"
        },
        {
         "lat": [
          39.85841,
          38.69542
         ],
         "line": {
          "color": "red",
          "width": 1
         },
         "locationmode": "USA-states",
         "lon": [
          -104.667,
          -121.59077
         ],
         "mode": "lines",
         "type": "scattergeo"
        },
        {
         "lat": [
          37.619,
          38.69542
         ],
         "line": {
          "color": "red",
          "width": 1
         },
         "locationmode": "USA-states",
         "lon": [
          -122.37484,
          -121.59077
         ],
         "mode": "lines",
         "type": "scattergeo"
        },
        {
         "lat": [
          37.619,
          38.69542
         ],
         "line": {
          "color": "red",
          "width": 1
         },
         "locationmode": "USA-states",
         "lon": [
          -122.37484,
          -121.59077
         ],
         "mode": "lines",
         "type": "scattergeo"
        },
        {
         "lat": [
          32.89595,
          38.69542
         ],
         "line": {
          "color": "red",
          "width": 1
         },
         "locationmode": "USA-states",
         "lon": [
          -97.0372,
          -121.59077
         ],
         "mode": "lines",
         "type": "scattergeo"
        },
        {
         "lat": [
          32.73356,
          38.69542
         ],
         "line": {
          "color": "red",
          "width": 1
         },
         "locationmode": "USA-states",
         "lon": [
          -117.18966,
          -121.59077
         ],
         "mode": "lines",
         "type": "scattergeo"
        },
        {
         "lat": [
          34.056,
          38.69542
         ],
         "line": {
          "color": "red",
          "width": 1
         },
         "locationmode": "USA-states",
         "lon": [
          -117.60119,
          -121.59077
         ],
         "mode": "lines",
         "type": "scattergeo"
        },
        {
         "lat": [
          34.056,
          38.69542
         ],
         "line": {
          "color": "red",
          "width": 1
         },
         "locationmode": "USA-states",
         "lon": [
          -117.60119,
          -121.59077
         ],
         "mode": "lines",
         "type": "scattergeo"
        },
        {
         "lat": [
          41.9796,
          38.69542
         ],
         "line": {
          "color": "red",
          "width": 1
         },
         "locationmode": "USA-states",
         "lon": [
          -87.90446,
          -121.59077
         ],
         "mode": "lines",
         "type": "scattergeo"
        },
        {
         "lat": [
          47.44898,
          38.69542
         ],
         "line": {
          "color": "red",
          "width": 1
         },
         "locationmode": "USA-states",
         "lon": [
          -122.30931,
          -121.59077
         ],
         "mode": "lines",
         "type": "scattergeo"
        },
        {
         "lat": [
          33.94254,
          38.69542
         ],
         "line": {
          "color": "red",
          "width": 1
         },
         "locationmode": "USA-states",
         "lon": [
          -118.40807,
          -121.59077
         ],
         "mode": "lines",
         "type": "scattergeo"
        },
        {
         "lat": [
          33.94254,
          38.69542
         ],
         "line": {
          "color": "red",
          "width": 1
         },
         "locationmode": "USA-states",
         "lon": [
          -118.40807,
          -121.59077
         ],
         "mode": "lines",
         "type": "scattergeo"
        },
        {
         "lat": [
          33.43417,
          38.69542
         ],
         "line": {
          "color": "red",
          "width": 1
         },
         "locationmode": "USA-states",
         "lon": [
          -112.00806,
          -121.59077
         ],
         "mode": "lines",
         "type": "scattergeo"
        },
        {
         "lat": [
          33.43417,
          38.69542
         ],
         "line": {
          "color": "red",
          "width": 1
         },
         "locationmode": "USA-states",
         "lon": [
          -112.00806,
          -121.59077
         ],
         "mode": "lines",
         "type": "scattergeo"
        },
        {
         "lat": [
          33.43417,
          38.69542
         ],
         "line": {
          "color": "red",
          "width": 1
         },
         "locationmode": "USA-states",
         "lon": [
          -112.00806,
          -121.59077
         ],
         "mode": "lines",
         "type": "scattergeo"
        },
        {
         "lat": [
          33.43417,
          38.69542
         ],
         "line": {
          "color": "red",
          "width": 1
         },
         "locationmode": "USA-states",
         "lon": [
          -112.00806,
          -121.59077
         ],
         "mode": "lines",
         "type": "scattergeo"
        },
        {
         "lat": [
          33.67566,
          38.69542
         ],
         "line": {
          "color": "red",
          "width": 1
         },
         "locationmode": "USA-states",
         "lon": [
          -117.86822,
          -121.59077
         ],
         "mode": "lines",
         "type": "scattergeo"
        },
        {
         "lat": [
          33.81772,
          38.69542
         ],
         "line": {
          "color": "red",
          "width": 1
         },
         "locationmode": "USA-states",
         "lon": [
          -118.15161,
          -121.59077
         ],
         "mode": "lines",
         "type": "scattergeo"
        },
        {
         "lat": [
          29.98047,
          34.056
         ],
         "line": {
          "color": "red",
          "width": 1
         },
         "locationmode": "USA-states",
         "lon": [
          -95.33972,
          -117.60119
         ],
         "mode": "lines",
         "type": "scattergeo"
        },
        {
         "lat": [
          39.85841,
          34.056
         ],
         "line": {
          "color": "red",
          "width": 1
         },
         "locationmode": "USA-states",
         "lon": [
          -104.667,
          -117.60119
         ],
         "mode": "lines",
         "type": "scattergeo"
        },
        {
         "lat": [
          38.69542,
          34.056
         ],
         "line": {
          "color": "red",
          "width": 1
         },
         "locationmode": "USA-states",
         "lon": [
          -121.59077,
          -117.60119
         ],
         "mode": "lines",
         "type": "scattergeo"
        },
        {
         "lat": [
          38.69542,
          34.056
         ],
         "line": {
          "color": "red",
          "width": 1
         },
         "locationmode": "USA-states",
         "lon": [
          -121.59077,
          -117.60119
         ],
         "mode": "lines",
         "type": "scattergeo"
        },
        {
         "lat": [
          32.89595,
          34.056
         ],
         "line": {
          "color": "red",
          "width": 1
         },
         "locationmode": "USA-states",
         "lon": [
          -97.0372,
          -117.60119
         ],
         "mode": "lines",
         "type": "scattergeo"
        },
        {
         "lat": [
          32.89595,
          34.056
         ],
         "line": {
          "color": "red",
          "width": 1
         },
         "locationmode": "USA-states",
         "lon": [
          -97.0372,
          -117.60119
         ],
         "mode": "lines",
         "type": "scattergeo"
        },
        {
         "lat": [
          47.44898,
          34.056
         ],
         "line": {
          "color": "red",
          "width": 1
         },
         "locationmode": "USA-states",
         "lon": [
          -122.30931,
          -117.60119
         ],
         "mode": "lines",
         "type": "scattergeo"
        },
        {
         "lat": [
          37.72129,
          34.056
         ],
         "line": {
          "color": "red",
          "width": 1
         },
         "locationmode": "USA-states",
         "lon": [
          -122.22072,
          -117.60119
         ],
         "mode": "lines",
         "type": "scattergeo"
        },
        {
         "lat": [
          33.43417,
          34.056
         ],
         "line": {
          "color": "red",
          "width": 1
         },
         "locationmode": "USA-states",
         "lon": [
          -112.00806,
          -117.60119
         ],
         "mode": "lines",
         "type": "scattergeo"
        },
        {
         "lat": [
          33.43417,
          34.056
         ],
         "line": {
          "color": "red",
          "width": 1
         },
         "locationmode": "USA-states",
         "lon": [
          -112.00806,
          -117.60119
         ],
         "mode": "lines",
         "type": "scattergeo"
        },
        {
         "lat": [
          33.43417,
          34.056
         ],
         "line": {
          "color": "red",
          "width": 1
         },
         "locationmode": "USA-states",
         "lon": [
          -112.00806,
          -117.60119
         ],
         "mode": "lines",
         "type": "scattergeo"
        },
        {
         "lat": [
          29.98047,
          32.89865
         ],
         "line": {
          "color": "red",
          "width": 1
         },
         "locationmode": "USA-states",
         "lon": [
          -95.33972,
          -80.04051
         ],
         "mode": "lines",
         "type": "scattergeo"
        },
        {
         "lat": [
          40.77724,
          32.89865
         ],
         "line": {
          "color": "red",
          "width": 1
         },
         "locationmode": "USA-states",
         "lon": [
          -73.87261,
          -80.04051
         ],
         "mode": "lines",
         "type": "scattergeo"
        },
        {
         "lat": [
          32.89595,
          32.89865
         ],
         "line": {
          "color": "red",
          "width": 1
         },
         "locationmode": "USA-states",
         "lon": [
          -97.0372,
          -80.04051
         ],
         "mode": "lines",
         "type": "scattergeo"
        },
        {
         "lat": [
          32.89595,
          32.89865
         ],
         "line": {
          "color": "red",
          "width": 1
         },
         "locationmode": "USA-states",
         "lon": [
          -97.0372,
          -80.04051
         ],
         "mode": "lines",
         "type": "scattergeo"
        },
        {
         "lat": [
          29.64542,
          32.89865
         ],
         "line": {
          "color": "red",
          "width": 1
         },
         "locationmode": "USA-states",
         "lon": [
          -95.27889,
          -80.04051
         ],
         "mode": "lines",
         "type": "scattergeo"
        },
        {
         "lat": [
          29.98047,
          26.68316
         ],
         "line": {
          "color": "red",
          "width": 1
         },
         "locationmode": "USA-states",
         "lon": [
          -95.33972,
          -80.09559
         ],
         "mode": "lines",
         "type": "scattergeo"
        },
        {
         "lat": [
          39.85841,
          26.68316
         ],
         "line": {
          "color": "red",
          "width": 1
         },
         "locationmode": "USA-states",
         "lon": [
          -104.667,
          -80.09559
         ],
         "mode": "lines",
         "type": "scattergeo"
        },
        {
         "lat": [
          39.1754,
          26.68316
         ],
         "line": {
          "color": "red",
          "width": 1
         },
         "locationmode": "USA-states",
         "lon": [
          -76.6682,
          -80.09559
         ],
         "mode": "lines",
         "type": "scattergeo"
        },
        {
         "lat": [
          32.89595,
          26.68316
         ],
         "line": {
          "color": "red",
          "width": 1
         },
         "locationmode": "USA-states",
         "lon": [
          -97.0372,
          -80.09559
         ],
         "mode": "lines",
         "type": "scattergeo"
        },
        {
         "lat": [
          42.36435,
          26.68316
         ],
         "line": {
          "color": "red",
          "width": 1
         },
         "locationmode": "USA-states",
         "lon": [
          -71.00518,
          -80.09559
         ],
         "mode": "lines",
         "type": "scattergeo"
        },
        {
         "lat": [
          40.79524,
          26.68316
         ],
         "line": {
          "color": "red",
          "width": 1
         },
         "locationmode": "USA-states",
         "lon": [
          -73.10021,
          -80.09559
         ],
         "mode": "lines",
         "type": "scattergeo"
        },
        {
         "lat": [
          29.98047,
          36.12448
         ],
         "line": {
          "color": "red",
          "width": 1
         },
         "locationmode": "USA-states",
         "lon": [
          -95.33972,
          -86.67818
         ],
         "mode": "lines",
         "type": "scattergeo"
        },
        {
         "lat": [
          39.85841,
          36.12448
         ],
         "line": {
          "color": "red",
          "width": 1
         },
         "locationmode": "USA-states",
         "lon": [
          -104.667,
          -86.67818
         ],
         "mode": "lines",
         "type": "scattergeo"
        },
        {
         "lat": [
          39.85841,
          36.12448
         ],
         "line": {
          "color": "red",
          "width": 1
         },
         "locationmode": "USA-states",
         "lon": [
          -104.667,
          -86.67818
         ],
         "mode": "lines",
         "type": "scattergeo"
        },
        {
         "lat": [
          39.85841,
          36.12448
         ],
         "line": {
          "color": "red",
          "width": 1
         },
         "locationmode": "USA-states",
         "lon": [
          -104.667,
          -86.67818
         ],
         "mode": "lines",
         "type": "scattergeo"
        },
        {
         "lat": [
          40.63975,
          36.12448
         ],
         "line": {
          "color": "red",
          "width": 1
         },
         "locationmode": "USA-states",
         "lon": [
          -73.77893,
          -86.67818
         ],
         "mode": "lines",
         "type": "scattergeo"
        },
        {
         "lat": [
          32.89595,
          36.12448
         ],
         "line": {
          "color": "red",
          "width": 1
         },
         "locationmode": "USA-states",
         "lon": [
          -97.0372,
          -86.67818
         ],
         "mode": "lines",
         "type": "scattergeo"
        },
        {
         "lat": [
          32.89595,
          36.12448
         ],
         "line": {
          "color": "red",
          "width": 1
         },
         "locationmode": "USA-states",
         "lon": [
          -97.0372,
          -86.67818
         ],
         "mode": "lines",
         "type": "scattergeo"
        },
        {
         "lat": [
          32.89595,
          36.12448
         ],
         "line": {
          "color": "red",
          "width": 1
         },
         "locationmode": "USA-states",
         "lon": [
          -97.0372,
          -86.67818
         ],
         "mode": "lines",
         "type": "scattergeo"
        },
        {
         "lat": [
          30.19453,
          36.12448
         ],
         "line": {
          "color": "red",
          "width": 1
         },
         "locationmode": "USA-states",
         "lon": [
          -97.66987,
          -86.67818
         ],
         "mode": "lines",
         "type": "scattergeo"
        },
        {
         "lat": [
          42.36435,
          36.12448
         ],
         "line": {
          "color": "red",
          "width": 1
         },
         "locationmode": "USA-states",
         "lon": [
          -71.00518,
          -86.67818
         ],
         "mode": "lines",
         "type": "scattergeo"
        },
        {
         "lat": [
          33.43417,
          36.12448
         ],
         "line": {
          "color": "red",
          "width": 1
         },
         "locationmode": "USA-states",
         "lon": [
          -112.00806,
          -86.67818
         ],
         "mode": "lines",
         "type": "scattergeo"
        },
        {
         "lat": [
          41.78598,
          36.12448
         ],
         "line": {
          "color": "red",
          "width": 1
         },
         "locationmode": "USA-states",
         "lon": [
          -87.75242,
          -86.67818
         ],
         "mode": "lines",
         "type": "scattergeo"
        },
        {
         "lat": [
          38.94453,
          36.12448
         ],
         "line": {
          "color": "red",
          "width": 1
         },
         "locationmode": "USA-states",
         "lon": [
          -77.45581,
          -86.67818
         ],
         "mode": "lines",
         "type": "scattergeo"
        },
        {
         "lat": [
          29.98047,
          40.6925
         ],
         "line": {
          "color": "red",
          "width": 1
         },
         "locationmode": "USA-states",
         "lon": [
          -95.33972,
          -74.16866
         ],
         "mode": "lines",
         "type": "scattergeo"
        },
        {
         "lat": [
          29.98047,
          40.6925
         ],
         "line": {
          "color": "red",
          "width": 1
         },
         "locationmode": "USA-states",
         "lon": [
          -95.33972,
          -74.16866
         ],
         "mode": "lines",
         "type": "scattergeo"
        },
        {
         "lat": [
          39.85841,
          40.6925
         ],
         "line": {
          "color": "red",
          "width": 1
         },
         "locationmode": "USA-states",
         "lon": [
          -104.667,
          -74.16866
         ],
         "mode": "lines",
         "type": "scattergeo"
        },
        {
         "lat": [
          39.85841,
          40.6925
         ],
         "line": {
          "color": "red",
          "width": 1
         },
         "locationmode": "USA-states",
         "lon": [
          -104.667,
          -74.16866
         ],
         "mode": "lines",
         "type": "scattergeo"
        },
        {
         "lat": [
          39.85841,
          40.6925
         ],
         "line": {
          "color": "red",
          "width": 1
         },
         "locationmode": "USA-states",
         "lon": [
          -104.667,
          -74.16866
         ],
         "mode": "lines",
         "type": "scattergeo"
        },
        {
         "lat": [
          37.619,
          40.6925
         ],
         "line": {
          "color": "red",
          "width": 1
         },
         "locationmode": "USA-states",
         "lon": [
          -122.37484,
          -74.16866
         ],
         "mode": "lines",
         "type": "scattergeo"
        },
        {
         "lat": [
          33.64044,
          40.6925
         ],
         "line": {
          "color": "red",
          "width": 1
         },
         "locationmode": "USA-states",
         "lon": [
          -84.42694,
          -74.16866
         ],
         "mode": "lines",
         "type": "scattergeo"
        },
        {
         "lat": [
          25.79325,
          40.6925
         ],
         "line": {
          "color": "red",
          "width": 1
         },
         "locationmode": "USA-states",
         "lon": [
          -80.29056,
          -74.16866
         ],
         "mode": "lines",
         "type": "scattergeo"
        },
        {
         "lat": [
          28.42889,
          40.6925
         ],
         "line": {
          "color": "red",
          "width": 1
         },
         "locationmode": "USA-states",
         "lon": [
          -81.31603,
          -74.16866
         ],
         "mode": "lines",
         "type": "scattergeo"
        },
        {
         "lat": [
          30.19453,
          40.6925
         ],
         "line": {
          "color": "red",
          "width": 1
         },
         "locationmode": "USA-states",
         "lon": [
          -97.66987,
          -74.16866
         ],
         "mode": "lines",
         "type": "scattergeo"
        },
        {
         "lat": [
          27.97547,
          40.6925
         ],
         "line": {
          "color": "red",
          "width": 1
         },
         "locationmode": "USA-states",
         "lon": [
          -82.53325,
          -74.16866
         ],
         "mode": "lines",
         "type": "scattergeo"
        },
        {
         "lat": [
          21.31869,
          40.6925
         ],
         "line": {
          "color": "red",
          "width": 1
         },
         "locationmode": "USA-states",
         "lon": [
          -157.92241,
          -74.16866
         ],
         "mode": "lines",
         "type": "scattergeo"
        },
        {
         "lat": [
          33.94254,
          40.6925
         ],
         "line": {
          "color": "red",
          "width": 1
         },
         "locationmode": "USA-states",
         "lon": [
          -118.40807,
          -74.16866
         ],
         "mode": "lines",
         "type": "scattergeo"
        },
        {
         "lat": [
          33.43417,
          40.6925
         ],
         "line": {
          "color": "red",
          "width": 1
         },
         "locationmode": "USA-states",
         "lon": [
          -112.00806,
          -74.16866
         ],
         "mode": "lines",
         "type": "scattergeo"
        },
        {
         "lat": [
          41.78598,
          40.6925
         ],
         "line": {
          "color": "red",
          "width": 1
         },
         "locationmode": "USA-states",
         "lon": [
          -87.75242,
          -74.16866
         ],
         "mode": "lines",
         "type": "scattergeo"
        },
        {
         "lat": [
          29.98047,
          34.64045
         ],
         "line": {
          "color": "red",
          "width": 1
         },
         "locationmode": "USA-states",
         "lon": [
          -95.33972,
          -86.77311
         ],
         "mode": "lines",
         "type": "scattergeo"
        },
        {
         "lat": [
          39.85841,
          34.64045
         ],
         "line": {
          "color": "red",
          "width": 1
         },
         "locationmode": "USA-states",
         "lon": [
          -104.667,
          -86.77311
         ],
         "mode": "lines",
         "type": "scattergeo"
        },
        {
         "lat": [
          32.89595,
          34.64045
         ],
         "line": {
          "color": "red",
          "width": 1
         },
         "locationmode": "USA-states",
         "lon": [
          -97.0372,
          -86.77311
         ],
         "mode": "lines",
         "type": "scattergeo"
        },
        {
         "lat": [
          29.98047,
          27.77036
         ],
         "line": {
          "color": "red",
          "width": 1
         },
         "locationmode": "USA-states",
         "lon": [
          -95.33972,
          -97.50122
         ],
         "mode": "lines",
         "type": "scattergeo"
        },
        {
         "lat": [
          32.89595,
          27.77036
         ],
         "line": {
          "color": "red",
          "width": 1
         },
         "locationmode": "USA-states",
         "lon": [
          -97.0372,
          -97.50122
         ],
         "mode": "lines",
         "type": "scattergeo"
        },
        {
         "lat": [
          32.89595,
          27.77036
         ],
         "line": {
          "color": "red",
          "width": 1
         },
         "locationmode": "USA-states",
         "lon": [
          -97.0372,
          -97.50122
         ],
         "mode": "lines",
         "type": "scattergeo"
        },
        {
         "lat": [
          29.64542,
          27.77036
         ],
         "line": {
          "color": "red",
          "width": 1
         },
         "locationmode": "USA-states",
         "lon": [
          -95.27889,
          -97.50122
         ],
         "mode": "lines",
         "type": "scattergeo"
        },
        {
         "lat": [
          29.98047,
          47.44898
         ],
         "line": {
          "color": "red",
          "width": 1
         },
         "locationmode": "USA-states",
         "lon": [
          -95.33972,
          -122.30931
         ],
         "mode": "lines",
         "type": "scattergeo"
        },
        {
         "lat": [
          39.85841,
          47.44898
         ],
         "line": {
          "color": "red",
          "width": 1
         },
         "locationmode": "USA-states",
         "lon": [
          -104.667,
          -122.30931
         ],
         "mode": "lines",
         "type": "scattergeo"
        },
        {
         "lat": [
          39.85841,
          47.44898
         ],
         "line": {
          "color": "red",
          "width": 1
         },
         "locationmode": "USA-states",
         "lon": [
          -104.667,
          -122.30931
         ],
         "mode": "lines",
         "type": "scattergeo"
        },
        {
         "lat": [
          39.85841,
          47.44898
         ],
         "line": {
          "color": "red",
          "width": 1
         },
         "locationmode": "USA-states",
         "lon": [
          -104.667,
          -122.30931
         ],
         "mode": "lines",
         "type": "scattergeo"
        },
        {
         "lat": [
          39.85841,
          47.44898
         ],
         "line": {
          "color": "red",
          "width": 1
         },
         "locationmode": "USA-states",
         "lon": [
          -104.667,
          -122.30931
         ],
         "mode": "lines",
         "type": "scattergeo"
        },
        {
         "lat": [
          37.619,
          47.44898
         ],
         "line": {
          "color": "red",
          "width": 1
         },
         "locationmode": "USA-states",
         "lon": [
          -122.37484,
          -122.30931
         ],
         "mode": "lines",
         "type": "scattergeo"
        },
        {
         "lat": [
          40.63975,
          47.44898
         ],
         "line": {
          "color": "red",
          "width": 1
         },
         "locationmode": "USA-states",
         "lon": [
          -73.77893,
          -122.30931
         ],
         "mode": "lines",
         "type": "scattergeo"
        },
        {
         "lat": [
          40.63975,
          47.44898
         ],
         "line": {
          "color": "red",
          "width": 1
         },
         "locationmode": "USA-states",
         "lon": [
          -73.77893,
          -122.30931
         ],
         "mode": "lines",
         "type": "scattergeo"
        },
        {
         "lat": [
          32.89595,
          47.44898
         ],
         "line": {
          "color": "red",
          "width": 1
         },
         "locationmode": "USA-states",
         "lon": [
          -97.0372,
          -122.30931
         ],
         "mode": "lines",
         "type": "scattergeo"
        },
        {
         "lat": [
          32.89595,
          47.44898
         ],
         "line": {
          "color": "red",
          "width": 1
         },
         "locationmode": "USA-states",
         "lon": [
          -97.0372,
          -122.30931
         ],
         "mode": "lines",
         "type": "scattergeo"
        },
        {
         "lat": [
          40.6925,
          47.44898
         ],
         "line": {
          "color": "red",
          "width": 1
         },
         "locationmode": "USA-states",
         "lon": [
          -74.16866,
          -122.30931
         ],
         "mode": "lines",
         "type": "scattergeo"
        },
        {
         "lat": [
          39.87195,
          47.44898
         ],
         "line": {
          "color": "red",
          "width": 1
         },
         "locationmode": "USA-states",
         "lon": [
          -75.24114,
          -122.30931
         ],
         "mode": "lines",
         "type": "scattergeo"
        },
        {
         "lat": [
          32.73356,
          47.44898
         ],
         "line": {
          "color": "red",
          "width": 1
         },
         "locationmode": "USA-states",
         "lon": [
          -117.18966,
          -122.30931
         ],
         "mode": "lines",
         "type": "scattergeo"
        },
        {
         "lat": [
          37.72129,
          47.44898
         ],
         "line": {
          "color": "red",
          "width": 1
         },
         "locationmode": "USA-states",
         "lon": [
          -122.22072,
          -122.30931
         ],
         "mode": "lines",
         "type": "scattergeo"
        },
        {
         "lat": [
          37.72129,
          47.44898
         ],
         "line": {
          "color": "red",
          "width": 1
         },
         "locationmode": "USA-states",
         "lon": [
          -122.22072,
          -122.30931
         ],
         "mode": "lines",
         "type": "scattergeo"
        },
        {
         "lat": [
          33.94254,
          47.44898
         ],
         "line": {
          "color": "red",
          "width": 1
         },
         "locationmode": "USA-states",
         "lon": [
          -118.40807,
          -122.30931
         ],
         "mode": "lines",
         "type": "scattergeo"
        },
        {
         "lat": [
          41.78598,
          47.44898
         ],
         "line": {
          "color": "red",
          "width": 1
         },
         "locationmode": "USA-states",
         "lon": [
          -87.75242,
          -122.30931
         ],
         "mode": "lines",
         "type": "scattergeo"
        },
        {
         "lat": [
          38.94453,
          47.44898
         ],
         "line": {
          "color": "red",
          "width": 1
         },
         "locationmode": "USA-states",
         "lon": [
          -77.45581,
          -122.30931
         ],
         "mode": "lines",
         "type": "scattergeo"
        },
        {
         "lat": [
          37.36186,
          47.44898
         ],
         "line": {
          "color": "red",
          "width": 1
         },
         "locationmode": "USA-states",
         "lon": [
          -121.92901,
          -122.30931
         ],
         "mode": "lines",
         "type": "scattergeo"
        },
        {
         "lat": [
          29.98047,
          33.56294
         ],
         "line": {
          "color": "red",
          "width": 1
         },
         "locationmode": "USA-states",
         "lon": [
          -95.33972,
          -86.75355
         ],
         "mode": "lines",
         "type": "scattergeo"
        },
        {
         "lat": [
          39.85841,
          33.56294
         ],
         "line": {
          "color": "red",
          "width": 1
         },
         "locationmode": "USA-states",
         "lon": [
          -104.667,
          -86.75355
         ],
         "mode": "lines",
         "type": "scattergeo"
        },
        {
         "lat": [
          39.1754,
          33.56294
         ],
         "line": {
          "color": "red",
          "width": 1
         },
         "locationmode": "USA-states",
         "lon": [
          -76.6682,
          -86.75355
         ],
         "mode": "lines",
         "type": "scattergeo"
        },
        {
         "lat": [
          28.42889,
          33.56294
         ],
         "line": {
          "color": "red",
          "width": 1
         },
         "locationmode": "USA-states",
         "lon": [
          -81.31603,
          -86.75355
         ],
         "mode": "lines",
         "type": "scattergeo"
        },
        {
         "lat": [
          29.64542,
          33.56294
         ],
         "line": {
          "color": "red",
          "width": 1
         },
         "locationmode": "USA-states",
         "lon": [
          -95.27889,
          -86.75355
         ],
         "mode": "lines",
         "type": "scattergeo"
        },
        {
         "lat": [
          29.98047,
          18.43942
         ],
         "line": {
          "color": "red",
          "width": 1
         },
         "locationmode": "USA-states",
         "lon": [
          -95.33972,
          -66.00183
         ],
         "mode": "lines",
         "type": "scattergeo"
        },
        {
         "lat": [
          40.63975,
          18.43942
         ],
         "line": {
          "color": "red",
          "width": 1
         },
         "locationmode": "USA-states",
         "lon": [
          -73.77893,
          -66.00183
         ],
         "mode": "lines",
         "type": "scattergeo"
        },
        {
         "lat": [
          40.63975,
          18.43942
         ],
         "line": {
          "color": "red",
          "width": 1
         },
         "locationmode": "USA-states",
         "lon": [
          -73.77893,
          -66.00183
         ],
         "mode": "lines",
         "type": "scattergeo"
        },
        {
         "lat": [
          26.07258,
          18.43942
         ],
         "line": {
          "color": "red",
          "width": 1
         },
         "locationmode": "USA-states",
         "lon": [
          -80.15275,
          -66.00183
         ],
         "mode": "lines",
         "type": "scattergeo"
        },
        {
         "lat": [
          26.07258,
          18.43942
         ],
         "line": {
          "color": "red",
          "width": 1
         },
         "locationmode": "USA-states",
         "lon": [
          -80.15275,
          -66.00183
         ],
         "mode": "lines",
         "type": "scattergeo"
        },
        {
         "lat": [
          26.07258,
          18.43942
         ],
         "line": {
          "color": "red",
          "width": 1
         },
         "locationmode": "USA-states",
         "lon": [
          -80.15275,
          -66.00183
         ],
         "mode": "lines",
         "type": "scattergeo"
        },
        {
         "lat": [
          32.89595,
          18.43942
         ],
         "line": {
          "color": "red",
          "width": 1
         },
         "locationmode": "USA-states",
         "lon": [
          -97.0372,
          -66.00183
         ],
         "mode": "lines",
         "type": "scattergeo"
        },
        {
         "lat": [
          32.89595,
          18.43942
         ],
         "line": {
          "color": "red",
          "width": 1
         },
         "locationmode": "USA-states",
         "lon": [
          -97.0372,
          -66.00183
         ],
         "mode": "lines",
         "type": "scattergeo"
        },
        {
         "lat": [
          28.42889,
          18.43942
         ],
         "line": {
          "color": "red",
          "width": 1
         },
         "locationmode": "USA-states",
         "lon": [
          -81.31603,
          -66.00183
         ],
         "mode": "lines",
         "type": "scattergeo"
        },
        {
         "lat": [
          27.97547,
          18.43942
         ],
         "line": {
          "color": "red",
          "width": 1
         },
         "locationmode": "USA-states",
         "lon": [
          -82.53325,
          -66.00183
         ],
         "mode": "lines",
         "type": "scattergeo"
        },
        {
         "lat": [
          27.97547,
          18.43942
         ],
         "line": {
          "color": "red",
          "width": 1
         },
         "locationmode": "USA-states",
         "lon": [
          -82.53325,
          -66.00183
         ],
         "mode": "lines",
         "type": "scattergeo"
        },
        {
         "lat": [
          41.9796,
          18.43942
         ],
         "line": {
          "color": "red",
          "width": 1
         },
         "locationmode": "USA-states",
         "lon": [
          -87.90446,
          -66.00183
         ],
         "mode": "lines",
         "type": "scattergeo"
        },
        {
         "lat": [
          39.85841,
          38.80581
         ],
         "line": {
          "color": "red",
          "width": 1
         },
         "locationmode": "USA-states",
         "lon": [
          -104.667,
          -104.70025
         ],
         "mode": "lines",
         "type": "scattergeo"
        },
        {
         "lat": [
          39.85841,
          38.80581
         ],
         "line": {
          "color": "red",
          "width": 1
         },
         "locationmode": "USA-states",
         "lon": [
          -104.667,
          -104.70025
         ],
         "mode": "lines",
         "type": "scattergeo"
        },
        {
         "lat": [
          39.85841,
          38.80581
         ],
         "line": {
          "color": "red",
          "width": 1
         },
         "locationmode": "USA-states",
         "lon": [
          -104.667,
          -104.70025
         ],
         "mode": "lines",
         "type": "scattergeo"
        },
        {
         "lat": [
          39.85841,
          38.80581
         ],
         "line": {
          "color": "red",
          "width": 1
         },
         "locationmode": "USA-states",
         "lon": [
          -104.667,
          -104.70025
         ],
         "mode": "lines",
         "type": "scattergeo"
        },
        {
         "lat": [
          32.89595,
          38.80581
         ],
         "line": {
          "color": "red",
          "width": 1
         },
         "locationmode": "USA-states",
         "lon": [
          -97.0372,
          -104.70025
         ],
         "mode": "lines",
         "type": "scattergeo"
        },
        {
         "lat": [
          32.89595,
          38.80581
         ],
         "line": {
          "color": "red",
          "width": 1
         },
         "locationmode": "USA-states",
         "lon": [
          -97.0372,
          -104.70025
         ],
         "mode": "lines",
         "type": "scattergeo"
        },
        {
         "lat": [
          33.94254,
          38.80581
         ],
         "line": {
          "color": "red",
          "width": 1
         },
         "locationmode": "USA-states",
         "lon": [
          -118.40807,
          -104.70025
         ],
         "mode": "lines",
         "type": "scattergeo"
        },
        {
         "lat": [
          39.85841,
          29.98047
         ],
         "line": {
          "color": "red",
          "width": 1
         },
         "locationmode": "USA-states",
         "lon": [
          -104.667,
          -95.33972
         ],
         "mode": "lines",
         "type": "scattergeo"
        },
        {
         "lat": [
          39.85841,
          29.98047
         ],
         "line": {
          "color": "red",
          "width": 1
         },
         "locationmode": "USA-states",
         "lon": [
          -104.667,
          -95.33972
         ],
         "mode": "lines",
         "type": "scattergeo"
        },
        {
         "lat": [
          39.85841,
          29.98047
         ],
         "line": {
          "color": "red",
          "width": 1
         },
         "locationmode": "USA-states",
         "lon": [
          -104.667,
          -95.33972
         ],
         "mode": "lines",
         "type": "scattergeo"
        },
        {
         "lat": [
          39.85841,
          29.98047
         ],
         "line": {
          "color": "red",
          "width": 1
         },
         "locationmode": "USA-states",
         "lon": [
          -104.667,
          -95.33972
         ],
         "mode": "lines",
         "type": "scattergeo"
        },
        {
         "lat": [
          39.85841,
          29.98047
         ],
         "line": {
          "color": "red",
          "width": 1
         },
         "locationmode": "USA-states",
         "lon": [
          -104.667,
          -95.33972
         ],
         "mode": "lines",
         "type": "scattergeo"
        },
        {
         "lat": [
          39.85841,
          29.98047
         ],
         "line": {
          "color": "red",
          "width": 1
         },
         "locationmode": "USA-states",
         "lon": [
          -104.667,
          -95.33972
         ],
         "mode": "lines",
         "type": "scattergeo"
        },
        {
         "lat": [
          39.85841,
          29.98047
         ],
         "line": {
          "color": "red",
          "width": 1
         },
         "locationmode": "USA-states",
         "lon": [
          -104.667,
          -95.33972
         ],
         "mode": "lines",
         "type": "scattergeo"
        },
        {
         "lat": [
          39.85841,
          29.98047
         ],
         "line": {
          "color": "red",
          "width": 1
         },
         "locationmode": "USA-states",
         "lon": [
          -104.667,
          -95.33972
         ],
         "mode": "lines",
         "type": "scattergeo"
        },
        {
         "lat": [
          39.85841,
          29.98047
         ],
         "line": {
          "color": "red",
          "width": 1
         },
         "locationmode": "USA-states",
         "lon": [
          -104.667,
          -95.33972
         ],
         "mode": "lines",
         "type": "scattergeo"
        },
        {
         "lat": [
          39.85841,
          29.98047
         ],
         "line": {
          "color": "red",
          "width": 1
         },
         "locationmode": "USA-states",
         "lon": [
          -104.667,
          -95.33972
         ],
         "mode": "lines",
         "type": "scattergeo"
        },
        {
         "lat": [
          37.619,
          29.98047
         ],
         "line": {
          "color": "red",
          "width": 1
         },
         "locationmode": "USA-states",
         "lon": [
          -122.37484,
          -95.33972
         ],
         "mode": "lines",
         "type": "scattergeo"
        },
        {
         "lat": [
          38.69542,
          29.98047
         ],
         "line": {
          "color": "red",
          "width": 1
         },
         "locationmode": "USA-states",
         "lon": [
          -121.59077,
          -95.33972
         ],
         "mode": "lines",
         "type": "scattergeo"
        },
        {
         "lat": [
          41.41089,
          29.98047
         ],
         "line": {
          "color": "red",
          "width": 1
         },
         "locationmode": "USA-states",
         "lon": [
          -81.8494,
          -95.33972
         ],
         "mode": "lines",
         "type": "scattergeo"
        },
        {
         "lat": [
          41.41089,
          29.98047
         ],
         "line": {
          "color": "red",
          "width": 1
         },
         "locationmode": "USA-states",
         "lon": [
          -81.8494,
          -95.33972
         ],
         "mode": "lines",
         "type": "scattergeo"
        },
        {
         "lat": [
          41.41089,
          29.98047
         ],
         "line": {
          "color": "red",
          "width": 1
         },
         "locationmode": "USA-states",
         "lon": [
          -81.8494,
          -95.33972
         ],
         "mode": "lines",
         "type": "scattergeo"
        },
        {
         "lat": [
          41.30252,
          29.98047
         ],
         "line": {
          "color": "red",
          "width": 1
         },
         "locationmode": "USA-states",
         "lon": [
          -95.89417,
          -95.33972
         ],
         "mode": "lines",
         "type": "scattergeo"
        },
        {
         "lat": [
          40.49147,
          29.98047
         ],
         "line": {
          "color": "red",
          "width": 1
         },
         "locationmode": "USA-states",
         "lon": [
          -80.23287,
          -95.33972
         ],
         "mode": "lines",
         "type": "scattergeo"
        },
        {
         "lat": [
          39.1754,
          29.98047
         ],
         "line": {
          "color": "red",
          "width": 1
         },
         "locationmode": "USA-states",
         "lon": [
          -76.6682,
          -95.33972
         ],
         "mode": "lines",
         "type": "scattergeo"
        },
        {
         "lat": [
          40.77724,
          29.98047
         ],
         "line": {
          "color": "red",
          "width": 1
         },
         "locationmode": "USA-states",
         "lon": [
          -73.87261,
          -95.33972
         ],
         "mode": "lines",
         "type": "scattergeo"
        },
        {
         "lat": [
          26.07258,
          29.98047
         ],
         "line": {
          "color": "red",
          "width": 1
         },
         "locationmode": "USA-states",
         "lon": [
          -80.15275,
          -95.33972
         ],
         "mode": "lines",
         "type": "scattergeo"
        },
        {
         "lat": [
          33.64044,
          29.98047
         ],
         "line": {
          "color": "red",
          "width": 1
         },
         "locationmode": "USA-states",
         "lon": [
          -84.42694,
          -95.33972
         ],
         "mode": "lines",
         "type": "scattergeo"
        },
        {
         "lat": [
          43.56444,
          29.98047
         ],
         "line": {
          "color": "red",
          "width": 1
         },
         "locationmode": "USA-states",
         "lon": [
          -116.22278,
          -95.33972
         ],
         "mode": "lines",
         "type": "scattergeo"
        },
        {
         "lat": [
          32.11608,
          29.98047
         ],
         "line": {
          "color": "red",
          "width": 1
         },
         "locationmode": "USA-states",
         "lon": [
          -110.94103,
          -95.33972
         ],
         "mode": "lines",
         "type": "scattergeo"
        },
        {
         "lat": [
          32.89595,
          29.98047
         ],
         "line": {
          "color": "red",
          "width": 1
         },
         "locationmode": "USA-states",
         "lon": [
          -97.0372,
          -95.33972
         ],
         "mode": "lines",
         "type": "scattergeo"
        },
        {
         "lat": [
          32.89595,
          29.98047
         ],
         "line": {
          "color": "red",
          "width": 1
         },
         "locationmode": "USA-states",
         "lon": [
          -97.0372,
          -95.33972
         ],
         "mode": "lines",
         "type": "scattergeo"
        },
        {
         "lat": [
          40.6925,
          29.98047
         ],
         "line": {
          "color": "red",
          "width": 1
         },
         "locationmode": "USA-states",
         "lon": [
          -74.16866,
          -95.33972
         ],
         "mode": "lines",
         "type": "scattergeo"
        },
        {
         "lat": [
          40.6925,
          29.98047
         ],
         "line": {
          "color": "red",
          "width": 1
         },
         "locationmode": "USA-states",
         "lon": [
          -74.16866,
          -95.33972
         ],
         "mode": "lines",
         "type": "scattergeo"
        },
        {
         "lat": [
          40.6925,
          29.98047
         ],
         "line": {
          "color": "red",
          "width": 1
         },
         "locationmode": "USA-states",
         "lon": [
          -74.16866,
          -95.33972
         ],
         "mode": "lines",
         "type": "scattergeo"
        },
        {
         "lat": [
          25.79325,
          29.98047
         ],
         "line": {
          "color": "red",
          "width": 1
         },
         "locationmode": "USA-states",
         "lon": [
          -80.29056,
          -95.33972
         ],
         "mode": "lines",
         "type": "scattergeo"
        },
        {
         "lat": [
          25.79325,
          29.98047
         ],
         "line": {
          "color": "red",
          "width": 1
         },
         "locationmode": "USA-states",
         "lon": [
          -80.29056,
          -95.33972
         ],
         "mode": "lines",
         "type": "scattergeo"
        },
        {
         "lat": [
          32.89865,
          29.98047
         ],
         "line": {
          "color": "red",
          "width": 1
         },
         "locationmode": "USA-states",
         "lon": [
          -80.04051,
          -95.33972
         ],
         "mode": "lines",
         "type": "scattergeo"
        },
        {
         "lat": [
          38.85208,
          29.98047
         ],
         "line": {
          "color": "red",
          "width": 1
         },
         "locationmode": "USA-states",
         "lon": [
          -77.03772,
          -95.33972
         ],
         "mode": "lines",
         "type": "scattergeo"
        },
        {
         "lat": [
          33.93884,
          29.98047
         ],
         "line": {
          "color": "red",
          "width": 1
         },
         "locationmode": "USA-states",
         "lon": [
          -81.11954,
          -95.33972
         ],
         "mode": "lines",
         "type": "scattergeo"
        },
        {
         "lat": [
          28.42889,
          29.98047
         ],
         "line": {
          "color": "red",
          "width": 1
         },
         "locationmode": "USA-states",
         "lon": [
          -81.31603,
          -95.33972
         ],
         "mode": "lines",
         "type": "scattergeo"
        },
        {
         "lat": [
          28.42889,
          29.98047
         ],
         "line": {
          "color": "red",
          "width": 1
         },
         "locationmode": "USA-states",
         "lon": [
          -81.31603,
          -95.33972
         ],
         "mode": "lines",
         "type": "scattergeo"
        },
        {
         "lat": [
          28.42889,
          29.98047
         ],
         "line": {
          "color": "red",
          "width": 1
         },
         "locationmode": "USA-states",
         "lon": [
          -81.31603,
          -95.33972
         ],
         "mode": "lines",
         "type": "scattergeo"
        },
        {
         "lat": [
          39.87195,
          29.98047
         ],
         "line": {
          "color": "red",
          "width": 1
         },
         "locationmode": "USA-states",
         "lon": [
          -75.24114,
          -95.33972
         ],
         "mode": "lines",
         "type": "scattergeo"
        },
        {
         "lat": [
          30.19453,
          29.98047
         ],
         "line": {
          "color": "red",
          "width": 1
         },
         "locationmode": "USA-states",
         "lon": [
          -97.66987,
          -95.33972
         ],
         "mode": "lines",
         "type": "scattergeo"
        },
        {
         "lat": [
          30.19453,
          29.98047
         ],
         "line": {
          "color": "red",
          "width": 1
         },
         "locationmode": "USA-states",
         "lon": [
          -97.66987,
          -95.33972
         ],
         "mode": "lines",
         "type": "scattergeo"
        },
        {
         "lat": [
          44.88055,
          29.98047
         ],
         "line": {
          "color": "red",
          "width": 1
         },
         "locationmode": "USA-states",
         "lon": [
          -93.21692,
          -95.33972
         ],
         "mode": "lines",
         "type": "scattergeo"
        },
        {
         "lat": [
          42.36435,
          29.98047
         ],
         "line": {
          "color": "red",
          "width": 1
         },
         "locationmode": "USA-states",
         "lon": [
          -71.00518,
          -95.33972
         ],
         "mode": "lines",
         "type": "scattergeo"
        },
        {
         "lat": [
          39.22316,
          29.98047
         ],
         "line": {
          "color": "red",
          "width": 1
         },
         "locationmode": "USA-states",
         "lon": [
          -106.86885,
          -95.33972
         ],
         "mode": "lines",
         "type": "scattergeo"
        },
        {
         "lat": [
          39.22316,
          29.98047
         ],
         "line": {
          "color": "red",
          "width": 1
         },
         "locationmode": "USA-states",
         "lon": [
          -106.86885,
          -95.33972
         ],
         "mode": "lines",
         "type": "scattergeo"
        },
        {
         "lat": [
          41.9796,
          29.98047
         ],
         "line": {
          "color": "red",
          "width": 1
         },
         "locationmode": "USA-states",
         "lon": [
          -87.90446,
          -95.33972
         ],
         "mode": "lines",
         "type": "scattergeo"
        },
        {
         "lat": [
          41.9796,
          29.98047
         ],
         "line": {
          "color": "red",
          "width": 1
         },
         "locationmode": "USA-states",
         "lon": [
          -87.90446,
          -95.33972
         ],
         "mode": "lines",
         "type": "scattergeo"
        },
        {
         "lat": [
          41.9796,
          29.98047
         ],
         "line": {
          "color": "red",
          "width": 1
         },
         "locationmode": "USA-states",
         "lon": [
          -87.90446,
          -95.33972
         ],
         "mode": "lines",
         "type": "scattergeo"
        },
        {
         "lat": [
          41.9796,
          29.98047
         ],
         "line": {
          "color": "red",
          "width": 1
         },
         "locationmode": "USA-states",
         "lon": [
          -87.90446,
          -95.33972
         ],
         "mode": "lines",
         "type": "scattergeo"
        },
        {
         "lat": [
          33.94254,
          29.98047
         ],
         "line": {
          "color": "red",
          "width": 1
         },
         "locationmode": "USA-states",
         "lon": [
          -118.40807,
          -95.33972
         ],
         "mode": "lines",
         "type": "scattergeo"
        },
        {
         "lat": [
          33.94254,
          29.98047
         ],
         "line": {
          "color": "red",
          "width": 1
         },
         "locationmode": "USA-states",
         "lon": [
          -118.40807,
          -95.33972
         ],
         "mode": "lines",
         "type": "scattergeo"
        },
        {
         "lat": [
          40.78839,
          29.98047
         ],
         "line": {
          "color": "red",
          "width": 1
         },
         "locationmode": "USA-states",
         "lon": [
          -111.97777,
          -95.33972
         ],
         "mode": "lines",
         "type": "scattergeo"
        },
        {
         "lat": [
          40.78839,
          29.98047
         ],
         "line": {
          "color": "red",
          "width": 1
         },
         "locationmode": "USA-states",
         "lon": [
          -111.97777,
          -95.33972
         ],
         "mode": "lines",
         "type": "scattergeo"
        },
        {
         "lat": [
          40.78839,
          29.98047
         ],
         "line": {
          "color": "red",
          "width": 1
         },
         "locationmode": "USA-states",
         "lon": [
          -111.97777,
          -95.33972
         ],
         "mode": "lines",
         "type": "scattergeo"
        },
        {
         "lat": [
          32.44663,
          29.98047
         ],
         "line": {
          "color": "red",
          "width": 1
         },
         "locationmode": "USA-states",
         "lon": [
          -93.8256,
          -95.33972
         ],
         "mode": "lines",
         "type": "scattergeo"
        },
        {
         "lat": [
          32.12758,
          29.98047
         ],
         "line": {
          "color": "red",
          "width": 1
         },
         "locationmode": "USA-states",
         "lon": [
          -81.20214,
          -95.33972
         ],
         "mode": "lines",
         "type": "scattergeo"
        },
        {
         "lat": [
          33.67566,
          29.98047
         ],
         "line": {
          "color": "red",
          "width": 1
         },
         "locationmode": "USA-states",
         "lon": [
          -117.86822,
          -95.33972
         ],
         "mode": "lines",
         "type": "scattergeo"
        },
        {
         "lat": [
          34.7294,
          29.98047
         ],
         "line": {
          "color": "red",
          "width": 1
         },
         "locationmode": "USA-states",
         "lon": [
          -92.22425,
          -95.33972
         ],
         "mode": "lines",
         "type": "scattergeo"
        },
        {
         "lat": [
          35.21401,
          29.98047
         ],
         "line": {
          "color": "red",
          "width": 1
         },
         "locationmode": "USA-states",
         "lon": [
          -80.94313,
          -95.33972
         ],
         "mode": "lines",
         "type": "scattergeo"
        },
        {
         "lat": [
          40.48118,
          29.98047
         ],
         "line": {
          "color": "red",
          "width": 1
         },
         "locationmode": "USA-states",
         "lon": [
          -107.21766,
          -95.33972
         ],
         "mode": "lines",
         "type": "scattergeo"
        },
        {
         "lat": [
          32.84711,
          29.98047
         ],
         "line": {
          "color": "red",
          "width": 1
         },
         "locationmode": "USA-states",
         "lon": [
          -96.85177,
          -95.33972
         ],
         "mode": "lines",
         "type": "scattergeo"
        },
        {
         "lat": [
          39.04614,
          29.98047
         ],
         "line": {
          "color": "red",
          "width": 1
         },
         "locationmode": "USA-states",
         "lon": [
          -84.66217,
          -95.33972
         ],
         "mode": "lines",
         "type": "scattergeo"
        },
        {
         "lat": [
          39.04614,
          29.98047
         ],
         "line": {
          "color": "red",
          "width": 1
         },
         "locationmode": "USA-states",
         "lon": [
          -84.66217,
          -95.33972
         ],
         "mode": "lines",
         "type": "scattergeo"
        },
        {
         "lat": [
          39.04614,
          29.98047
         ],
         "line": {
          "color": "red",
          "width": 1
         },
         "locationmode": "USA-states",
         "lon": [
          -84.66217,
          -95.33972
         ],
         "mode": "lines",
         "type": "scattergeo"
        },
        {
         "lat": [
          39.64257,
          29.98047
         ],
         "line": {
          "color": "red",
          "width": 1
         },
         "locationmode": "USA-states",
         "lon": [
          -106.9177,
          -95.33972
         ],
         "mode": "lines",
         "type": "scattergeo"
        },
        {
         "lat": [
          27.77036,
          29.98047
         ],
         "line": {
          "color": "red",
          "width": 1
         },
         "locationmode": "USA-states",
         "lon": [
          -97.50122,
          -95.33972
         ],
         "mode": "lines",
         "type": "scattergeo"
        },
        {
         "lat": [
          36.28187,
          29.98047
         ],
         "line": {
          "color": "red",
          "width": 1
         },
         "locationmode": "USA-states",
         "lon": [
          -94.30681,
          -95.33972
         ],
         "mode": "lines",
         "type": "scattergeo"
        },
        {
         "lat": [
          45.7769,
          29.98047
         ],
         "line": {
          "color": "red",
          "width": 1
         },
         "locationmode": "USA-states",
         "lon": [
          -111.15301,
          -95.33972
         ],
         "mode": "lines",
         "type": "scattergeo"
        },
        {
         "lat": [
          33.56294,
          29.98047
         ],
         "line": {
          "color": "red",
          "width": 1
         },
         "locationmode": "USA-states",
         "lon": [
          -86.75355,
          -95.33972
         ],
         "mode": "lines",
         "type": "scattergeo"
        },
        {
         "lat": [
          32.51087,
          29.98047
         ],
         "line": {
          "color": "red",
          "width": 1
         },
         "locationmode": "USA-states",
         "lon": [
          -92.03769,
          -95.33972
         ],
         "mode": "lines",
         "type": "scattergeo"
        },
        {
         "lat": [
          31.32737,
          29.98047
         ],
         "line": {
          "color": "red",
          "width": 1
         },
         "locationmode": "USA-states",
         "lon": [
          -92.54856,
          -95.33972
         ],
         "mode": "lines",
         "type": "scattergeo"
        },
        {
         "lat": [
          38.17439,
          29.98047
         ],
         "line": {
          "color": "red",
          "width": 1
         },
         "locationmode": "USA-states",
         "lon": [
          -85.736,
          -95.33972
         ],
         "mode": "lines",
         "type": "scattergeo"
        },
        {
         "lat": [
          39.85841,
          46.92972
         ],
         "line": {
          "color": "red",
          "width": 1
         },
         "locationmode": "USA-states",
         "lon": [
          -104.667,
          -98.6782
         ],
         "mode": "lines",
         "type": "scattergeo"
        },
        {
         "lat": [
          39.85841,
          40.49147
         ],
         "line": {
          "color": "red",
          "width": 1
         },
         "locationmode": "USA-states",
         "lon": [
          -104.667,
          -80.23287
         ],
         "mode": "lines",
         "type": "scattergeo"
        },
        {
         "lat": [
          39.85841,
          40.49147
         ],
         "line": {
          "color": "red",
          "width": 1
         },
         "locationmode": "USA-states",
         "lon": [
          -104.667,
          -80.23287
         ],
         "mode": "lines",
         "type": "scattergeo"
        },
        {
         "lat": [
          39.85841,
          40.49147
         ],
         "line": {
          "color": "red",
          "width": 1
         },
         "locationmode": "USA-states",
         "lon": [
          -104.667,
          -80.23287
         ],
         "mode": "lines",
         "type": "scattergeo"
        },
        {
         "lat": [
          33.64044,
          40.49147
         ],
         "line": {
          "color": "red",
          "width": 1
         },
         "locationmode": "USA-states",
         "lon": [
          -84.42694,
          -80.23287
         ],
         "mode": "lines",
         "type": "scattergeo"
        },
        {
         "lat": [
          32.89595,
          40.49147
         ],
         "line": {
          "color": "red",
          "width": 1
         },
         "locationmode": "USA-states",
         "lon": [
          -97.0372,
          -80.23287
         ],
         "mode": "lines",
         "type": "scattergeo"
        },
        {
         "lat": [
          28.42889,
          40.49147
         ],
         "line": {
          "color": "red",
          "width": 1
         },
         "locationmode": "USA-states",
         "lon": [
          -81.31603,
          -80.23287
         ],
         "mode": "lines",
         "type": "scattergeo"
        },
        {
         "lat": [
          41.9796,
          40.49147
         ],
         "line": {
          "color": "red",
          "width": 1
         },
         "locationmode": "USA-states",
         "lon": [
          -87.90446,
          -80.23287
         ],
         "mode": "lines",
         "type": "scattergeo"
        },
        {
         "lat": [
          33.94254,
          40.49147
         ],
         "line": {
          "color": "red",
          "width": 1
         },
         "locationmode": "USA-states",
         "lon": [
          -118.40807,
          -80.23287
         ],
         "mode": "lines",
         "type": "scattergeo"
        },
        {
         "lat": [
          35.21401,
          40.49147
         ],
         "line": {
          "color": "red",
          "width": 1
         },
         "locationmode": "USA-states",
         "lon": [
          -80.94313,
          -80.23287
         ],
         "mode": "lines",
         "type": "scattergeo"
        },
        {
         "lat": [
          35.21401,
          40.49147
         ],
         "line": {
          "color": "red",
          "width": 1
         },
         "locationmode": "USA-states",
         "lon": [
          -80.94313,
          -80.23287
         ],
         "mode": "lines",
         "type": "scattergeo"
        },
        {
         "lat": [
          39.85841,
          39.1754
         ],
         "line": {
          "color": "red",
          "width": 1
         },
         "locationmode": "USA-states",
         "lon": [
          -104.667,
          -76.6682
         ],
         "mode": "lines",
         "type": "scattergeo"
        },
        {
         "lat": [
          39.85841,
          39.1754
         ],
         "line": {
          "color": "red",
          "width": 1
         },
         "locationmode": "USA-states",
         "lon": [
          -104.667,
          -76.6682
         ],
         "mode": "lines",
         "type": "scattergeo"
        },
        {
         "lat": [
          35.04022,
          39.1754
         ],
         "line": {
          "color": "red",
          "width": 1
         },
         "locationmode": "USA-states",
         "lon": [
          -106.60919,
          -76.6682
         ],
         "mode": "lines",
         "type": "scattergeo"
        },
        {
         "lat": [
          26.68316,
          39.1754
         ],
         "line": {
          "color": "red",
          "width": 1
         },
         "locationmode": "USA-states",
         "lon": [
          -80.09559,
          -76.6682
         ],
         "mode": "lines",
         "type": "scattergeo"
        },
        {
         "lat": [
          32.89595,
          39.1754
         ],
         "line": {
          "color": "red",
          "width": 1
         },
         "locationmode": "USA-states",
         "lon": [
          -97.0372,
          -76.6682
         ],
         "mode": "lines",
         "type": "scattergeo"
        },
        {
         "lat": [
          32.89595,
          39.1754
         ],
         "line": {
          "color": "red",
          "width": 1
         },
         "locationmode": "USA-states",
         "lon": [
          -97.0372,
          -76.6682
         ],
         "mode": "lines",
         "type": "scattergeo"
        },
        {
         "lat": [
          42.94052,
          39.1754
         ],
         "line": {
          "color": "red",
          "width": 1
         },
         "locationmode": "USA-states",
         "lon": [
          -78.73217,
          -76.6682
         ],
         "mode": "lines",
         "type": "scattergeo"
        },
        {
         "lat": [
          42.36435,
          39.1754
         ],
         "line": {
          "color": "red",
          "width": 1
         },
         "locationmode": "USA-states",
         "lon": [
          -71.00518,
          -76.6682
         ],
         "mode": "lines",
         "type": "scattergeo"
        },
        {
         "lat": [
          40.78839,
          39.1754
         ],
         "line": {
          "color": "red",
          "width": 1
         },
         "locationmode": "USA-states",
         "lon": [
          -111.97777,
          -76.6682
         ],
         "mode": "lines",
         "type": "scattergeo"
        },
        {
         "lat": [
          40.78839,
          39.1754
         ],
         "line": {
          "color": "red",
          "width": 1
         },
         "locationmode": "USA-states",
         "lon": [
          -111.97777,
          -76.6682
         ],
         "mode": "lines",
         "type": "scattergeo"
        },
        {
         "lat": [
          41.93887,
          39.1754
         ],
         "line": {
          "color": "red",
          "width": 1
         },
         "locationmode": "USA-states",
         "lon": [
          -72.68323,
          -76.6682
         ],
         "mode": "lines",
         "type": "scattergeo"
        },
        {
         "lat": [
          42.21206,
          39.1754
         ],
         "line": {
          "color": "red",
          "width": 1
         },
         "locationmode": "USA-states",
         "lon": [
          -83.34884,
          -76.6682
         ],
         "mode": "lines",
         "type": "scattergeo"
        },
        {
         "lat": [
          42.21206,
          39.1754
         ],
         "line": {
          "color": "red",
          "width": 1
         },
         "locationmode": "USA-states",
         "lon": [
          -83.34884,
          -76.6682
         ],
         "mode": "lines",
         "type": "scattergeo"
        },
        {
         "lat": [
          34.7294,
          39.1754
         ],
         "line": {
          "color": "red",
          "width": 1
         },
         "locationmode": "USA-states",
         "lon": [
          -92.22425,
          -76.6682
         ],
         "mode": "lines",
         "type": "scattergeo"
        },
        {
         "lat": [
          35.21401,
          39.1754
         ],
         "line": {
          "color": "red",
          "width": 1
         },
         "locationmode": "USA-states",
         "lon": [
          -80.94313,
          -76.6682
         ],
         "mode": "lines",
         "type": "scattergeo"
        },
        {
         "lat": [
          29.64542,
          39.1754
         ],
         "line": {
          "color": "red",
          "width": 1
         },
         "locationmode": "USA-states",
         "lon": [
          -95.27889,
          -76.6682
         ],
         "mode": "lines",
         "type": "scattergeo"
        },
        {
         "lat": [
          32.84711,
          39.1754
         ],
         "line": {
          "color": "red",
          "width": 1
         },
         "locationmode": "USA-states",
         "lon": [
          -96.85177,
          -76.6682
         ],
         "mode": "lines",
         "type": "scattergeo"
        },
        {
         "lat": [
          42.93452,
          39.1754
         ],
         "line": {
          "color": "red",
          "width": 1
         },
         "locationmode": "USA-states",
         "lon": [
          -71.43706,
          -76.6682
         ],
         "mode": "lines",
         "type": "scattergeo"
        },
        {
         "lat": [
          42.93452,
          39.1754
         ],
         "line": {
          "color": "red",
          "width": 1
         },
         "locationmode": "USA-states",
         "lon": [
          -71.43706,
          -76.6682
         ],
         "mode": "lines",
         "type": "scattergeo"
        },
        {
         "lat": [
          41.724,
          39.1754
         ],
         "line": {
          "color": "red",
          "width": 1
         },
         "locationmode": "USA-states",
         "lon": [
          -71.42822,
          -76.6682
         ],
         "mode": "lines",
         "type": "scattergeo"
        },
        {
         "lat": [
          39.85841,
          48.17794
         ],
         "line": {
          "color": "red",
          "width": 1
         },
         "locationmode": "USA-states",
         "lon": [
          -104.667,
          -103.64235
         ],
         "mode": "lines",
         "type": "scattergeo"
        },
        {
         "lat": [
          39.85841,
          48.17794
         ],
         "line": {
          "color": "red",
          "width": 1
         },
         "locationmode": "USA-states",
         "lon": [
          -104.667,
          -103.64235
         ],
         "mode": "lines",
         "type": "scattergeo"
        },
        {
         "lat": [
          39.85841,
          48.17794
         ],
         "line": {
          "color": "red",
          "width": 1
         },
         "locationmode": "USA-states",
         "lon": [
          -104.667,
          -103.64235
         ],
         "mode": "lines",
         "type": "scattergeo"
        },
        {
         "lat": [
          39.85841,
          37.24433
         ],
         "line": {
          "color": "red",
          "width": 1
         },
         "locationmode": "USA-states",
         "lon": [
          -104.667,
          -93.38686
         ],
         "mode": "lines",
         "type": "scattergeo"
        },
        {
         "lat": [
          32.89595,
          37.24433
         ],
         "line": {
          "color": "red",
          "width": 1
         },
         "locationmode": "USA-states",
         "lon": [
          -97.0372,
          -93.38686
         ],
         "mode": "lines",
         "type": "scattergeo"
        },
        {
         "lat": [
          32.89595,
          37.24433
         ],
         "line": {
          "color": "red",
          "width": 1
         },
         "locationmode": "USA-states",
         "lon": [
          -97.0372,
          -93.38686
         ],
         "mode": "lines",
         "type": "scattergeo"
        },
        {
         "lat": [
          32.89595,
          37.24433
         ],
         "line": {
          "color": "red",
          "width": 1
         },
         "locationmode": "USA-states",
         "lon": [
          -97.0372,
          -93.38686
         ],
         "mode": "lines",
         "type": "scattergeo"
        },
        {
         "lat": [
          41.9796,
          37.24433
         ],
         "line": {
          "color": "red",
          "width": 1
         },
         "locationmode": "USA-states",
         "lon": [
          -87.90446,
          -93.38686
         ],
         "mode": "lines",
         "type": "scattergeo"
        },
        {
         "lat": [
          39.85841,
          43.58135
         ],
         "line": {
          "color": "red",
          "width": 1
         },
         "locationmode": "USA-states",
         "lon": [
          -104.667,
          -96.7417
         ],
         "mode": "lines",
         "type": "scattergeo"
        },
        {
         "lat": [
          39.85841,
          43.58135
         ],
         "line": {
          "color": "red",
          "width": 1
         },
         "locationmode": "USA-states",
         "lon": [
          -104.667,
          -96.7417
         ],
         "mode": "lines",
         "type": "scattergeo"
        },
        {
         "lat": [
          39.85841,
          43.58135
         ],
         "line": {
          "color": "red",
          "width": 1
         },
         "locationmode": "USA-states",
         "lon": [
          -104.667,
          -96.7417
         ],
         "mode": "lines",
         "type": "scattergeo"
        },
        {
         "lat": [
          44.88055,
          43.58135
         ],
         "line": {
          "color": "red",
          "width": 1
         },
         "locationmode": "USA-states",
         "lon": [
          -93.21692,
          -96.7417
         ],
         "mode": "lines",
         "type": "scattergeo"
        },
        {
         "lat": [
          41.9796,
          43.58135
         ],
         "line": {
          "color": "red",
          "width": 1
         },
         "locationmode": "USA-states",
         "lon": [
          -87.90446,
          -96.7417
         ],
         "mode": "lines",
         "type": "scattergeo"
        },
        {
         "lat": [
          39.85841,
          48.25938
         ],
         "line": {
          "color": "red",
          "width": 1
         },
         "locationmode": "USA-states",
         "lon": [
          -104.667,
          -101.28033
         ],
         "mode": "lines",
         "type": "scattergeo"
        },
        {
         "lat": [
          39.85841,
          42.88082
         ],
         "line": {
          "color": "red",
          "width": 1
         },
         "locationmode": "USA-states",
         "lon": [
          -104.667,
          -85.52277
         ],
         "mode": "lines",
         "type": "scattergeo"
        },
        {
         "lat": [
          32.89595,
          42.88082
         ],
         "line": {
          "color": "red",
          "width": 1
         },
         "locationmode": "USA-states",
         "lon": [
          -97.0372,
          -85.52277
         ],
         "mode": "lines",
         "type": "scattergeo"
        },
        {
         "lat": [
          41.9796,
          42.88082
         ],
         "line": {
          "color": "red",
          "width": 1
         },
         "locationmode": "USA-states",
         "lon": [
          -87.90446,
          -85.52277
         ],
         "mode": "lines",
         "type": "scattergeo"
        },
        {
         "lat": [
          41.9796,
          42.88082
         ],
         "line": {
          "color": "red",
          "width": 1
         },
         "locationmode": "USA-states",
         "lon": [
          -87.90446,
          -85.52277
         ],
         "mode": "lines",
         "type": "scattergeo"
        },
        {
         "lat": [
          39.85841,
          43.13986
         ],
         "line": {
          "color": "red",
          "width": 1
         },
         "locationmode": "USA-states",
         "lon": [
          -104.667,
          -89.33751
         ],
         "mode": "lines",
         "type": "scattergeo"
        },
        {
         "lat": [
          39.85841,
          43.13986
         ],
         "line": {
          "color": "red",
          "width": 1
         },
         "locationmode": "USA-states",
         "lon": [
          -104.667,
          -89.33751
         ],
         "mode": "lines",
         "type": "scattergeo"
        },
        {
         "lat": [
          39.85841,
          43.13986
         ],
         "line": {
          "color": "red",
          "width": 1
         },
         "locationmode": "USA-states",
         "lon": [
          -104.667,
          -89.33751
         ],
         "mode": "lines",
         "type": "scattergeo"
        },
        {
         "lat": [
          32.89595,
          43.13986
         ],
         "line": {
          "color": "red",
          "width": 1
         },
         "locationmode": "USA-states",
         "lon": [
          -97.0372,
          -89.33751
         ],
         "mode": "lines",
         "type": "scattergeo"
        },
        {
         "lat": [
          41.9796,
          43.13986
         ],
         "line": {
          "color": "red",
          "width": 1
         },
         "locationmode": "USA-states",
         "lon": [
          -87.90446,
          -89.33751
         ],
         "mode": "lines",
         "type": "scattergeo"
        },
        {
         "lat": [
          39.85841,
          44.04532
         ],
         "line": {
          "color": "red",
          "width": 1
         },
         "locationmode": "USA-states",
         "lon": [
          -104.667,
          -103.05737
         ],
         "mode": "lines",
         "type": "scattergeo"
        },
        {
         "lat": [
          39.85841,
          45.80766
         ],
         "line": {
          "color": "red",
          "width": 1
         },
         "locationmode": "USA-states",
         "lon": [
          -104.667,
          -108.54286
         ],
         "mode": "lines",
         "type": "scattergeo"
        },
        {
         "lat": [
          39.85841,
          45.80766
         ],
         "line": {
          "color": "red",
          "width": 1
         },
         "locationmode": "USA-states",
         "lon": [
          -104.667,
          -108.54286
         ],
         "mode": "lines",
         "type": "scattergeo"
        },
        {
         "lat": [
          40.78839,
          45.80766
         ],
         "line": {
          "color": "red",
          "width": 1
         },
         "locationmode": "USA-states",
         "lon": [
          -111.97777,
          -108.54286
         ],
         "mode": "lines",
         "type": "scattergeo"
        },
        {
         "lat": [
          39.85841,
          43.50484
         ],
         "line": {
          "color": "red",
          "width": 1
         },
         "locationmode": "USA-states",
         "lon": [
          -104.667,
          -114.29659
         ],
         "mode": "lines",
         "type": "scattergeo"
        },
        {
         "lat": [
          37.619,
          43.50484
         ],
         "line": {
          "color": "red",
          "width": 1
         },
         "locationmode": "USA-states",
         "lon": [
          -122.37484,
          -114.29659
         ],
         "mode": "lines",
         "type": "scattergeo"
        },
        {
         "lat": [
          39.85841,
          44.12326
         ],
         "line": {
          "color": "red",
          "width": 1
         },
         "locationmode": "USA-states",
         "lon": [
          -104.667,
          -123.21869
         ],
         "mode": "lines",
         "type": "scattergeo"
        },
        {
         "lat": [
          39.85841,
          44.12326
         ],
         "line": {
          "color": "red",
          "width": 1
         },
         "locationmode": "USA-states",
         "lon": [
          -104.667,
          -123.21869
         ],
         "mode": "lines",
         "type": "scattergeo"
        },
        {
         "lat": [
          37.619,
          44.12326
         ],
         "line": {
          "color": "red",
          "width": 1
         },
         "locationmode": "USA-states",
         "lon": [
          -122.37484,
          -123.21869
         ],
         "mode": "lines",
         "type": "scattergeo"
        },
        {
         "lat": [
          39.85841,
          47.61986
         ],
         "line": {
          "color": "red",
          "width": 1
         },
         "locationmode": "USA-states",
         "lon": [
          -104.667,
          -117.53384
         ],
         "mode": "lines",
         "type": "scattergeo"
        },
        {
         "lat": [
          39.85841,
          47.61986
         ],
         "line": {
          "color": "red",
          "width": 1
         },
         "locationmode": "USA-states",
         "lon": [
          -104.667,
          -117.53384
         ],
         "mode": "lines",
         "type": "scattergeo"
        },
        {
         "lat": [
          39.85841,
          47.61986
         ],
         "line": {
          "color": "red",
          "width": 1
         },
         "locationmode": "USA-states",
         "lon": [
          -104.667,
          -117.53384
         ],
         "mode": "lines",
         "type": "scattergeo"
        },
        {
         "lat": [
          43.56444,
          47.61986
         ],
         "line": {
          "color": "red",
          "width": 1
         },
         "locationmode": "USA-states",
         "lon": [
          -116.22278,
          -117.53384
         ],
         "mode": "lines",
         "type": "scattergeo"
        },
        {
         "lat": [
          37.72129,
          47.61986
         ],
         "line": {
          "color": "red",
          "width": 1
         },
         "locationmode": "USA-states",
         "lon": [
          -122.22072,
          -117.53384
         ],
         "mode": "lines",
         "type": "scattergeo"
        },
        {
         "lat": [
          33.94254,
          47.61986
         ],
         "line": {
          "color": "red",
          "width": 1
         },
         "locationmode": "USA-states",
         "lon": [
          -118.40807,
          -117.53384
         ],
         "mode": "lines",
         "type": "scattergeo"
        },
        {
         "lat": [
          39.85841,
          61.17432
         ],
         "line": {
          "color": "red",
          "width": 1
         },
         "locationmode": "USA-states",
         "lon": [
          -104.667,
          -149.99619
         ],
         "mode": "lines",
         "type": "scattergeo"
        },
        {
         "lat": [
          37.619,
          61.17432
         ],
         "line": {
          "color": "red",
          "width": 1
         },
         "locationmode": "USA-states",
         "lon": [
          -122.37484,
          -149.99619
         ],
         "mode": "lines",
         "type": "scattergeo"
        },
        {
         "lat": [
          44.88055,
          61.17432
         ],
         "line": {
          "color": "red",
          "width": 1
         },
         "locationmode": "USA-states",
         "lon": [
          -93.21692,
          -149.99619
         ],
         "mode": "lines",
         "type": "scattergeo"
        },
        {
         "lat": [
          41.9796,
          61.17432
         ],
         "line": {
          "color": "red",
          "width": 1
         },
         "locationmode": "USA-states",
         "lon": [
          -87.90446,
          -149.99619
         ],
         "mode": "lines",
         "type": "scattergeo"
        },
        {
         "lat": [
          33.43417,
          61.17432
         ],
         "line": {
          "color": "red",
          "width": 1
         },
         "locationmode": "USA-states",
         "lon": [
          -112.00806,
          -149.99619
         ],
         "mode": "lines",
         "type": "scattergeo"
        },
        {
         "lat": [
          39.85841,
          43.51456
         ],
         "line": {
          "color": "red",
          "width": 1
         },
         "locationmode": "USA-states",
         "lon": [
          -104.667,
          -112.07017
         ],
         "mode": "lines",
         "type": "scattergeo"
        },
        {
         "lat": [
          40.78839,
          43.51456
         ],
         "line": {
          "color": "red",
          "width": 1
         },
         "locationmode": "USA-states",
         "lon": [
          -111.97777,
          -112.07017
         ],
         "mode": "lines",
         "type": "scattergeo"
        },
        {
         "lat": [
          39.85841,
          39.49858
         ],
         "line": {
          "color": "red",
          "width": 1
         },
         "locationmode": "USA-states",
         "lon": [
          -104.667,
          -119.76806
         ],
         "mode": "lines",
         "type": "scattergeo"
        },
        {
         "lat": [
          39.85841,
          39.49858
         ],
         "line": {
          "color": "red",
          "width": 1
         },
         "locationmode": "USA-states",
         "lon": [
          -104.667,
          -119.76806
         ],
         "mode": "lines",
         "type": "scattergeo"
        },
        {
         "lat": [
          39.85841,
          39.49858
         ],
         "line": {
          "color": "red",
          "width": 1
         },
         "locationmode": "USA-states",
         "lon": [
          -104.667,
          -119.76806
         ],
         "mode": "lines",
         "type": "scattergeo"
        },
        {
         "lat": [
          32.73356,
          39.49858
         ],
         "line": {
          "color": "red",
          "width": 1
         },
         "locationmode": "USA-states",
         "lon": [
          -117.18966,
          -119.76806
         ],
         "mode": "lines",
         "type": "scattergeo"
        },
        {
         "lat": [
          39.85841,
          20.89865
         ],
         "line": {
          "color": "red",
          "width": 1
         },
         "locationmode": "USA-states",
         "lon": [
          -104.667,
          -156.43046
         ],
         "mode": "lines",
         "type": "scattergeo"
        },
        {
         "lat": [
          37.619,
          20.89865
         ],
         "line": {
          "color": "red",
          "width": 1
         },
         "locationmode": "USA-states",
         "lon": [
          -122.37484,
          -156.43046
         ],
         "mode": "lines",
         "type": "scattergeo"
        },
        {
         "lat": [
          32.89595,
          20.89865
         ],
         "line": {
          "color": "red",
          "width": 1
         },
         "locationmode": "USA-states",
         "lon": [
          -97.0372,
          -156.43046
         ],
         "mode": "lines",
         "type": "scattergeo"
        },
        {
         "lat": [
          21.97598,
          20.89865
         ],
         "line": {
          "color": "red",
          "width": 1
         },
         "locationmode": "USA-states",
         "lon": [
          -159.33896,
          -156.43046
         ],
         "mode": "lines",
         "type": "scattergeo"
        },
        {
         "lat": [
          47.44898,
          20.89865
         ],
         "line": {
          "color": "red",
          "width": 1
         },
         "locationmode": "USA-states",
         "lon": [
          -122.30931,
          -156.43046
         ],
         "mode": "lines",
         "type": "scattergeo"
        },
        {
         "lat": [
          37.72129,
          20.89865
         ],
         "line": {
          "color": "red",
          "width": 1
         },
         "locationmode": "USA-states",
         "lon": [
          -122.22072,
          -156.43046
         ],
         "mode": "lines",
         "type": "scattergeo"
        },
        {
         "lat": [
          33.94254,
          20.89865
         ],
         "line": {
          "color": "red",
          "width": 1
         },
         "locationmode": "USA-states",
         "lon": [
          -118.40807,
          -156.43046
         ],
         "mode": "lines",
         "type": "scattergeo"
        },
        {
         "lat": [
          33.94254,
          20.89865
         ],
         "line": {
          "color": "red",
          "width": 1
         },
         "locationmode": "USA-states",
         "lon": [
          -118.40807,
          -156.43046
         ],
         "mode": "lines",
         "type": "scattergeo"
        },
        {
         "lat": [
          19.72026,
          20.89865
         ],
         "line": {
          "color": "red",
          "width": 1
         },
         "locationmode": "USA-states",
         "lon": [
          -155.04847,
          -156.43046
         ],
         "mode": "lines",
         "type": "scattergeo"
        },
        {
         "lat": [
          39.85841,
          21.97598
         ],
         "line": {
          "color": "red",
          "width": 1
         },
         "locationmode": "USA-states",
         "lon": [
          -104.667,
          -159.33896
         ],
         "mode": "lines",
         "type": "scattergeo"
        },
        {
         "lat": [
          21.31869,
          21.97598
         ],
         "line": {
          "color": "red",
          "width": 1
         },
         "locationmode": "USA-states",
         "lon": [
          -157.92241,
          -159.33896
         ],
         "mode": "lines",
         "type": "scattergeo"
        },
        {
         "lat": [
          21.31869,
          21.97598
         ],
         "line": {
          "color": "red",
          "width": 1
         },
         "locationmode": "USA-states",
         "lon": [
          -157.92241,
          -159.33896
         ],
         "mode": "lines",
         "type": "scattergeo"
        },
        {
         "lat": [
          21.31869,
          21.97598
         ],
         "line": {
          "color": "red",
          "width": 1
         },
         "locationmode": "USA-states",
         "lon": [
          -157.92241,
          -159.33896
         ],
         "mode": "lines",
         "type": "scattergeo"
        },
        {
         "lat": [
          47.44898,
          21.97598
         ],
         "line": {
          "color": "red",
          "width": 1
         },
         "locationmode": "USA-states",
         "lon": [
          -122.30931,
          -159.33896
         ],
         "mode": "lines",
         "type": "scattergeo"
        },
        {
         "lat": [
          33.94254,
          21.97598
         ],
         "line": {
          "color": "red",
          "width": 1
         },
         "locationmode": "USA-states",
         "lon": [
          -118.40807,
          -159.33896
         ],
         "mode": "lines",
         "type": "scattergeo"
        },
        {
         "lat": [
          20.89865,
          21.97598
         ],
         "line": {
          "color": "red",
          "width": 1
         },
         "locationmode": "USA-states",
         "lon": [
          -156.43046,
          -159.33896
         ],
         "mode": "lines",
         "type": "scattergeo"
        },
        {
         "lat": [
          39.85841,
          39.22316
         ],
         "line": {
          "color": "red",
          "width": 1
         },
         "locationmode": "USA-states",
         "lon": [
          -104.667,
          -106.86885
         ],
         "mode": "lines",
         "type": "scattergeo"
        },
        {
         "lat": [
          39.85841,
          39.22316
         ],
         "line": {
          "color": "red",
          "width": 1
         },
         "locationmode": "USA-states",
         "lon": [
          -104.667,
          -106.86885
         ],
         "mode": "lines",
         "type": "scattergeo"
        },
        {
         "lat": [
          39.85841,
          39.22316
         ],
         "line": {
          "color": "red",
          "width": 1
         },
         "locationmode": "USA-states",
         "lon": [
          -104.667,
          -106.86885
         ],
         "mode": "lines",
         "type": "scattergeo"
        },
        {
         "lat": [
          32.89595,
          39.22316
         ],
         "line": {
          "color": "red",
          "width": 1
         },
         "locationmode": "USA-states",
         "lon": [
          -97.0372,
          -106.86885
         ],
         "mode": "lines",
         "type": "scattergeo"
        },
        {
         "lat": [
          41.9796,
          39.22316
         ],
         "line": {
          "color": "red",
          "width": 1
         },
         "locationmode": "USA-states",
         "lon": [
          -87.90446,
          -106.86885
         ],
         "mode": "lines",
         "type": "scattergeo"
        },
        {
         "lat": [
          33.94254,
          39.22316
         ],
         "line": {
          "color": "red",
          "width": 1
         },
         "locationmode": "USA-states",
         "lon": [
          -118.40807,
          -106.86885
         ],
         "mode": "lines",
         "type": "scattergeo"
        },
        {
         "lat": [
          33.94254,
          39.22316
         ],
         "line": {
          "color": "red",
          "width": 1
         },
         "locationmode": "USA-states",
         "lon": [
          -118.40807,
          -106.86885
         ],
         "mode": "lines",
         "type": "scattergeo"
        },
        {
         "lat": [
          39.85841,
          35.21401
         ],
         "line": {
          "color": "red",
          "width": 1
         },
         "locationmode": "USA-states",
         "lon": [
          -104.667,
          -80.94313
         ],
         "mode": "lines",
         "type": "scattergeo"
        },
        {
         "lat": [
          39.85841,
          35.21401
         ],
         "line": {
          "color": "red",
          "width": 1
         },
         "locationmode": "USA-states",
         "lon": [
          -104.667,
          -80.94313
         ],
         "mode": "lines",
         "type": "scattergeo"
        },
        {
         "lat": [
          41.41089,
          35.21401
         ],
         "line": {
          "color": "red",
          "width": 1
         },
         "locationmode": "USA-states",
         "lon": [
          -81.8494,
          -80.94313
         ],
         "mode": "lines",
         "type": "scattergeo"
        },
        {
         "lat": [
          26.07258,
          35.21401
         ],
         "line": {
          "color": "red",
          "width": 1
         },
         "locationmode": "USA-states",
         "lon": [
          -80.15275,
          -80.94313
         ],
         "mode": "lines",
         "type": "scattergeo"
        },
        {
         "lat": [
          33.64044,
          35.21401
         ],
         "line": {
          "color": "red",
          "width": 1
         },
         "locationmode": "USA-states",
         "lon": [
          -84.42694,
          -80.94313
         ],
         "mode": "lines",
         "type": "scattergeo"
        },
        {
         "lat": [
          33.64044,
          35.21401
         ],
         "line": {
          "color": "red",
          "width": 1
         },
         "locationmode": "USA-states",
         "lon": [
          -84.42694,
          -80.94313
         ],
         "mode": "lines",
         "type": "scattergeo"
        },
        {
         "lat": [
          35.87764,
          35.21401
         ],
         "line": {
          "color": "red",
          "width": 1
         },
         "locationmode": "USA-states",
         "lon": [
          -78.78747,
          -80.94313
         ],
         "mode": "lines",
         "type": "scattergeo"
        },
        {
         "lat": [
          32.89595,
          35.21401
         ],
         "line": {
          "color": "red",
          "width": 1
         },
         "locationmode": "USA-states",
         "lon": [
          -97.0372,
          -80.94313
         ],
         "mode": "lines",
         "type": "scattergeo"
        },
        {
         "lat": [
          40.6925,
          35.21401
         ],
         "line": {
          "color": "red",
          "width": 1
         },
         "locationmode": "USA-states",
         "lon": [
          -74.16866,
          -80.94313
         ],
         "mode": "lines",
         "type": "scattergeo"
        },
        {
         "lat": [
          27.97547,
          35.21401
         ],
         "line": {
          "color": "red",
          "width": 1
         },
         "locationmode": "USA-states",
         "lon": [
          -82.53325,
          -80.94313
         ],
         "mode": "lines",
         "type": "scattergeo"
        },
        {
         "lat": [
          42.36435,
          35.21401
         ],
         "line": {
          "color": "red",
          "width": 1
         },
         "locationmode": "USA-states",
         "lon": [
          -71.00518,
          -80.94313
         ],
         "mode": "lines",
         "type": "scattergeo"
        },
        {
         "lat": [
          40.78839,
          35.21401
         ],
         "line": {
          "color": "red",
          "width": 1
         },
         "locationmode": "USA-states",
         "lon": [
          -111.97777,
          -80.94313
         ],
         "mode": "lines",
         "type": "scattergeo"
        },
        {
         "lat": [
          33.43417,
          35.21401
         ],
         "line": {
          "color": "red",
          "width": 1
         },
         "locationmode": "USA-states",
         "lon": [
          -112.00806,
          -80.94313
         ],
         "mode": "lines",
         "type": "scattergeo"
        },
        {
         "lat": [
          33.43417,
          35.21401
         ],
         "line": {
          "color": "red",
          "width": 1
         },
         "locationmode": "USA-states",
         "lon": [
          -112.00806,
          -80.94313
         ],
         "mode": "lines",
         "type": "scattergeo"
        },
        {
         "lat": [
          41.93887,
          35.21401
         ],
         "line": {
          "color": "red",
          "width": 1
         },
         "locationmode": "USA-states",
         "lon": [
          -72.68323,
          -80.94313
         ],
         "mode": "lines",
         "type": "scattergeo"
        },
        {
         "lat": [
          41.93887,
          35.21401
         ],
         "line": {
          "color": "red",
          "width": 1
         },
         "locationmode": "USA-states",
         "lon": [
          -72.68323,
          -80.94313
         ],
         "mode": "lines",
         "type": "scattergeo"
        },
        {
         "lat": [
          29.64542,
          35.21401
         ],
         "line": {
          "color": "red",
          "width": 1
         },
         "locationmode": "USA-states",
         "lon": [
          -95.27889,
          -80.94313
         ],
         "mode": "lines",
         "type": "scattergeo"
        },
        {
         "lat": [
          18.33731,
          35.21401
         ],
         "line": {
          "color": "red",
          "width": 1
         },
         "locationmode": "USA-states",
         "lon": [
          -64.97336,
          -80.94313
         ],
         "mode": "lines",
         "type": "scattergeo"
        },
        {
         "lat": [
          39.85841,
          41.88459
         ],
         "line": {
          "color": "red",
          "width": 1
         },
         "locationmode": "USA-states",
         "lon": [
          -104.667,
          -91.71087
         ],
         "mode": "lines",
         "type": "scattergeo"
        },
        {
         "lat": [
          33.64044,
          41.88459
         ],
         "line": {
          "color": "red",
          "width": 1
         },
         "locationmode": "USA-states",
         "lon": [
          -84.42694,
          -91.71087
         ],
         "mode": "lines",
         "type": "scattergeo"
        },
        {
         "lat": [
          32.89595,
          41.88459
         ],
         "line": {
          "color": "red",
          "width": 1
         },
         "locationmode": "USA-states",
         "lon": [
          -97.0372,
          -91.71087
         ],
         "mode": "lines",
         "type": "scattergeo"
        },
        {
         "lat": [
          32.89595,
          41.88459
         ],
         "line": {
          "color": "red",
          "width": 1
         },
         "locationmode": "USA-states",
         "lon": [
          -97.0372,
          -91.71087
         ],
         "mode": "lines",
         "type": "scattergeo"
        },
        {
         "lat": [
          41.9796,
          41.88459
         ],
         "line": {
          "color": "red",
          "width": 1
         },
         "locationmode": "USA-states",
         "lon": [
          -87.90446,
          -91.71087
         ],
         "mode": "lines",
         "type": "scattergeo"
        },
        {
         "lat": [
          42.21206,
          41.88459
         ],
         "line": {
          "color": "red",
          "width": 1
         },
         "locationmode": "USA-states",
         "lon": [
          -83.34884,
          -91.71087
         ],
         "mode": "lines",
         "type": "scattergeo"
        },
        {
         "lat": [
          39.85841,
          29.99339
         ],
         "line": {
          "color": "red",
          "width": 1
         },
         "locationmode": "USA-states",
         "lon": [
          -104.667,
          -90.25803
         ],
         "mode": "lines",
         "type": "scattergeo"
        },
        {
         "lat": [
          39.85841,
          29.99339
         ],
         "line": {
          "color": "red",
          "width": 1
         },
         "locationmode": "USA-states",
         "lon": [
          -104.667,
          -90.25803
         ],
         "mode": "lines",
         "type": "scattergeo"
        },
        {
         "lat": [
          39.85841,
          29.99339
         ],
         "line": {
          "color": "red",
          "width": 1
         },
         "locationmode": "USA-states",
         "lon": [
          -104.667,
          -90.25803
         ],
         "mode": "lines",
         "type": "scattergeo"
        },
        {
         "lat": [
          33.64044,
          29.99339
         ],
         "line": {
          "color": "red",
          "width": 1
         },
         "locationmode": "USA-states",
         "lon": [
          -84.42694,
          -90.25803
         ],
         "mode": "lines",
         "type": "scattergeo"
        },
        {
         "lat": [
          32.89595,
          29.99339
         ],
         "line": {
          "color": "red",
          "width": 1
         },
         "locationmode": "USA-states",
         "lon": [
          -97.0372,
          -90.25803
         ],
         "mode": "lines",
         "type": "scattergeo"
        },
        {
         "lat": [
          32.89595,
          29.99339
         ],
         "line": {
          "color": "red",
          "width": 1
         },
         "locationmode": "USA-states",
         "lon": [
          -97.0372,
          -90.25803
         ],
         "mode": "lines",
         "type": "scattergeo"
        },
        {
         "lat": [
          28.42889,
          29.99339
         ],
         "line": {
          "color": "red",
          "width": 1
         },
         "locationmode": "USA-states",
         "lon": [
          -81.31603,
          -90.25803
         ],
         "mode": "lines",
         "type": "scattergeo"
        },
        {
         "lat": [
          42.36435,
          29.99339
         ],
         "line": {
          "color": "red",
          "width": 1
         },
         "locationmode": "USA-states",
         "lon": [
          -71.00518,
          -90.25803
         ],
         "mode": "lines",
         "type": "scattergeo"
        },
        {
         "lat": [
          38.74769,
          29.99339
         ],
         "line": {
          "color": "red",
          "width": 1
         },
         "locationmode": "USA-states",
         "lon": [
          -90.35999,
          -90.25803
         ],
         "mode": "lines",
         "type": "scattergeo"
        },
        {
         "lat": [
          32.84711,
          29.99339
         ],
         "line": {
          "color": "red",
          "width": 1
         },
         "locationmode": "USA-states",
         "lon": [
          -96.85177,
          -90.25803
         ],
         "mode": "lines",
         "type": "scattergeo"
        },
        {
         "lat": [
          32.84711,
          29.99339
         ],
         "line": {
          "color": "red",
          "width": 1
         },
         "locationmode": "USA-states",
         "lon": [
          -96.85177,
          -90.25803
         ],
         "mode": "lines",
         "type": "scattergeo"
        },
        {
         "lat": [
          39.85841,
          41.31205
         ],
         "line": {
          "color": "red",
          "width": 1
         },
         "locationmode": "USA-states",
         "lon": [
          -104.667,
          -105.67499
         ],
         "mode": "lines",
         "type": "scattergeo"
        },
        {
         "lat": [
          39.85841,
          48.3114
         ],
         "line": {
          "color": "red",
          "width": 1
         },
         "locationmode": "USA-states",
         "lon": [
          -104.667,
          -114.25507
         ],
         "mode": "lines",
         "type": "scattergeo"
        },
        {
         "lat": [
          39.85841,
          38.74769
         ],
         "line": {
          "color": "red",
          "width": 1
         },
         "locationmode": "USA-states",
         "lon": [
          -104.667,
          -90.35999
         ],
         "mode": "lines",
         "type": "scattergeo"
        },
        {
         "lat": [
          39.85841,
          38.74769
         ],
         "line": {
          "color": "red",
          "width": 1
         },
         "locationmode": "USA-states",
         "lon": [
          -104.667,
          -90.35999
         ],
         "mode": "lines",
         "type": "scattergeo"
        },
        {
         "lat": [
          39.85841,
          38.74769
         ],
         "line": {
          "color": "red",
          "width": 1
         },
         "locationmode": "USA-states",
         "lon": [
          -104.667,
          -90.35999
         ],
         "mode": "lines",
         "type": "scattergeo"
        },
        {
         "lat": [
          37.619,
          38.74769
         ],
         "line": {
          "color": "red",
          "width": 1
         },
         "locationmode": "USA-states",
         "lon": [
          -122.37484,
          -90.35999
         ],
         "mode": "lines",
         "type": "scattergeo"
        },
        {
         "lat": [
          39.1754,
          38.74769
         ],
         "line": {
          "color": "red",
          "width": 1
         },
         "locationmode": "USA-states",
         "lon": [
          -76.6682,
          -90.35999
         ],
         "mode": "lines",
         "type": "scattergeo"
        },
        {
         "lat": [
          26.07258,
          38.74769
         ],
         "line": {
          "color": "red",
          "width": 1
         },
         "locationmode": "USA-states",
         "lon": [
          -80.15275,
          -90.35999
         ],
         "mode": "lines",
         "type": "scattergeo"
        },
        {
         "lat": [
          33.64044,
          38.74769
         ],
         "line": {
          "color": "red",
          "width": 1
         },
         "locationmode": "USA-states",
         "lon": [
          -84.42694,
          -90.35999
         ],
         "mode": "lines",
         "type": "scattergeo"
        },
        {
         "lat": [
          40.6925,
          38.74769
         ],
         "line": {
          "color": "red",
          "width": 1
         },
         "locationmode": "USA-states",
         "lon": [
          -74.16866,
          -90.35999
         ],
         "mode": "lines",
         "type": "scattergeo"
        },
        {
         "lat": [
          25.79325,
          38.74769
         ],
         "line": {
          "color": "red",
          "width": 1
         },
         "locationmode": "USA-states",
         "lon": [
          -80.29056,
          -90.35999
         ],
         "mode": "lines",
         "type": "scattergeo"
        },
        {
         "lat": [
          39.87195,
          38.74769
         ],
         "line": {
          "color": "red",
          "width": 1
         },
         "locationmode": "USA-states",
         "lon": [
          -75.24114,
          -90.35999
         ],
         "mode": "lines",
         "type": "scattergeo"
        },
        {
         "lat": [
          27.97547,
          38.74769
         ],
         "line": {
          "color": "red",
          "width": 1
         },
         "locationmode": "USA-states",
         "lon": [
          -82.53325,
          -90.35999
         ],
         "mode": "lines",
         "type": "scattergeo"
        },
        {
         "lat": [
          44.88055,
          38.74769
         ],
         "line": {
          "color": "red",
          "width": 1
         },
         "locationmode": "USA-states",
         "lon": [
          -93.21692,
          -90.35999
         ],
         "mode": "lines",
         "type": "scattergeo"
        },
        {
         "lat": [
          47.44898,
          38.74769
         ],
         "line": {
          "color": "red",
          "width": 1
         },
         "locationmode": "USA-states",
         "lon": [
          -122.30931,
          -90.35999
         ],
         "mode": "lines",
         "type": "scattergeo"
        },
        {
         "lat": [
          33.94254,
          38.74769
         ],
         "line": {
          "color": "red",
          "width": 1
         },
         "locationmode": "USA-states",
         "lon": [
          -118.40807,
          -90.35999
         ],
         "mode": "lines",
         "type": "scattergeo"
        },
        {
         "lat": [
          33.43417,
          38.74769
         ],
         "line": {
          "color": "red",
          "width": 1
         },
         "locationmode": "USA-states",
         "lon": [
          -112.00806,
          -90.35999
         ],
         "mode": "lines",
         "type": "scattergeo"
        },
        {
         "lat": [
          33.43417,
          38.74769
         ],
         "line": {
          "color": "red",
          "width": 1
         },
         "locationmode": "USA-states",
         "lon": [
          -112.00806,
          -90.35999
         ],
         "mode": "lines",
         "type": "scattergeo"
        },
        {
         "lat": [
          33.43417,
          38.74769
         ],
         "line": {
          "color": "red",
          "width": 1
         },
         "locationmode": "USA-states",
         "lon": [
          -112.00806,
          -90.35999
         ],
         "mode": "lines",
         "type": "scattergeo"
        },
        {
         "lat": [
          26.53617,
          38.74769
         ],
         "line": {
          "color": "red",
          "width": 1
         },
         "locationmode": "USA-states",
         "lon": [
          -81.75517,
          -90.35999
         ],
         "mode": "lines",
         "type": "scattergeo"
        },
        {
         "lat": [
          42.21206,
          38.74769
         ],
         "line": {
          "color": "red",
          "width": 1
         },
         "locationmode": "USA-states",
         "lon": [
          -83.34884,
          -90.35999
         ],
         "mode": "lines",
         "type": "scattergeo"
        },
        {
         "lat": [
          32.84711,
          38.74769
         ],
         "line": {
          "color": "red",
          "width": 1
         },
         "locationmode": "USA-states",
         "lon": [
          -96.85177,
          -90.35999
         ],
         "mode": "lines",
         "type": "scattergeo"
        },
        {
         "lat": [
          32.84711,
          38.74769
         ],
         "line": {
          "color": "red",
          "width": 1
         },
         "locationmode": "USA-states",
         "lon": [
          -96.85177,
          -90.35999
         ],
         "mode": "lines",
         "type": "scattergeo"
        },
        {
         "lat": [
          39.29761,
          38.74769
         ],
         "line": {
          "color": "red",
          "width": 1
         },
         "locationmode": "USA-states",
         "lon": [
          -94.71391,
          -90.35999
         ],
         "mode": "lines",
         "type": "scattergeo"
        },
        {
         "lat": [
          36.12448,
          38.74769
         ],
         "line": {
          "color": "red",
          "width": 1
         },
         "locationmode": "USA-states",
         "lon": [
          -86.67818,
          -90.35999
         ],
         "mode": "lines",
         "type": "scattergeo"
        },
        {
         "lat": [
          39.85841,
          41.41089
         ],
         "line": {
          "color": "red",
          "width": 1
         },
         "locationmode": "USA-states",
         "lon": [
          -104.667,
          -81.8494
         ],
         "mode": "lines",
         "type": "scattergeo"
        },
        {
         "lat": [
          39.85841,
          41.41089
         ],
         "line": {
          "color": "red",
          "width": 1
         },
         "locationmode": "USA-states",
         "lon": [
          -104.667,
          -81.8494
         ],
         "mode": "lines",
         "type": "scattergeo"
        },
        {
         "lat": [
          39.1754,
          41.41089
         ],
         "line": {
          "color": "red",
          "width": 1
         },
         "locationmode": "USA-states",
         "lon": [
          -76.6682,
          -81.8494
         ],
         "mode": "lines",
         "type": "scattergeo"
        },
        {
         "lat": [
          32.89595,
          41.41089
         ],
         "line": {
          "color": "red",
          "width": 1
         },
         "locationmode": "USA-states",
         "lon": [
          -97.0372,
          -81.8494
         ],
         "mode": "lines",
         "type": "scattergeo"
        },
        {
         "lat": [
          32.89595,
          41.41089
         ],
         "line": {
          "color": "red",
          "width": 1
         },
         "locationmode": "USA-states",
         "lon": [
          -97.0372,
          -81.8494
         ],
         "mode": "lines",
         "type": "scattergeo"
        },
        {
         "lat": [
          41.9796,
          41.41089
         ],
         "line": {
          "color": "red",
          "width": 1
         },
         "locationmode": "USA-states",
         "lon": [
          -87.90446,
          -81.8494
         ],
         "mode": "lines",
         "type": "scattergeo"
        },
        {
         "lat": [
          41.9796,
          41.41089
         ],
         "line": {
          "color": "red",
          "width": 1
         },
         "locationmode": "USA-states",
         "lon": [
          -87.90446,
          -81.8494
         ],
         "mode": "lines",
         "type": "scattergeo"
        },
        {
         "lat": [
          35.21401,
          41.41089
         ],
         "line": {
          "color": "red",
          "width": 1
         },
         "locationmode": "USA-states",
         "lon": [
          -80.94313,
          -81.8494
         ],
         "mode": "lines",
         "type": "scattergeo"
        },
        {
         "lat": [
          39.85841,
          31.94253
         ],
         "line": {
          "color": "red",
          "width": 1
         },
         "locationmode": "USA-states",
         "lon": [
          -104.667,
          -102.20191
         ],
         "mode": "lines",
         "type": "scattergeo"
        },
        {
         "lat": [
          29.64542,
          31.94253
         ],
         "line": {
          "color": "red",
          "width": 1
         },
         "locationmode": "USA-states",
         "lon": [
          -95.27889,
          -102.20191
         ],
         "mode": "lines",
         "type": "scattergeo"
        },
        {
         "lat": [
          39.85841,
          43.60732
         ],
         "line": {
          "color": "red",
          "width": 1
         },
         "locationmode": "USA-states",
         "lon": [
          -104.667,
          -110.73774
         ],
         "mode": "lines",
         "type": "scattergeo"
        },
        {
         "lat": [
          32.89595,
          43.60732
         ],
         "line": {
          "color": "red",
          "width": 1
         },
         "locationmode": "USA-states",
         "lon": [
          -97.0372,
          -110.73774
         ],
         "mode": "lines",
         "type": "scattergeo"
        },
        {
         "lat": [
          40.78839,
          43.60732
         ],
         "line": {
          "color": "red",
          "width": 1
         },
         "locationmode": "USA-states",
         "lon": [
          -111.97777,
          -110.73774
         ],
         "mode": "lines",
         "type": "scattergeo"
        },
        {
         "lat": [
          39.85841,
          33.82922
         ],
         "line": {
          "color": "red",
          "width": 1
         },
         "locationmode": "USA-states",
         "lon": [
          -104.667,
          -116.50625
         ],
         "mode": "lines",
         "type": "scattergeo"
        },
        {
         "lat": [
          39.85841,
          33.82922
         ],
         "line": {
          "color": "red",
          "width": 1
         },
         "locationmode": "USA-states",
         "lon": [
          -104.667,
          -116.50625
         ],
         "mode": "lines",
         "type": "scattergeo"
        },
        {
         "lat": [
          47.44898,
          33.82922
         ],
         "line": {
          "color": "red",
          "width": 1
         },
         "locationmode": "USA-states",
         "lon": [
          -122.30931,
          -116.50625
         ],
         "mode": "lines",
         "type": "scattergeo"
        },
        {
         "lat": [
          39.85841,
          40.85097
         ],
         "line": {
          "color": "red",
          "width": 1
         },
         "locationmode": "USA-states",
         "lon": [
          -104.667,
          -96.75925
         ],
         "mode": "lines",
         "type": "scattergeo"
        },
        {
         "lat": [
          39.85841,
          46.91935
         ],
         "line": {
          "color": "red",
          "width": 1
         },
         "locationmode": "USA-states",
         "lon": [
          -104.667,
          -96.81499
         ],
         "mode": "lines",
         "type": "scattergeo"
        },
        {
         "lat": [
          39.85841,
          46.91935
         ],
         "line": {
          "color": "red",
          "width": 1
         },
         "locationmode": "USA-states",
         "lon": [
          -104.667,
          -96.81499
         ],
         "mode": "lines",
         "type": "scattergeo"
        },
        {
         "lat": [
          32.89595,
          46.91935
         ],
         "line": {
          "color": "red",
          "width": 1
         },
         "locationmode": "USA-states",
         "lon": [
          -97.0372,
          -96.81499
         ],
         "mode": "lines",
         "type": "scattergeo"
        },
        {
         "lat": [
          41.9796,
          46.91935
         ],
         "line": {
          "color": "red",
          "width": 1
         },
         "locationmode": "USA-states",
         "lon": [
          -87.90446,
          -96.81499
         ],
         "mode": "lines",
         "type": "scattergeo"
        },
        {
         "lat": [
          39.85841,
          35.04022
         ],
         "line": {
          "color": "red",
          "width": 1
         },
         "locationmode": "USA-states",
         "lon": [
          -104.667,
          -106.60919
         ],
         "mode": "lines",
         "type": "scattergeo"
        },
        {
         "lat": [
          39.85841,
          35.04022
         ],
         "line": {
          "color": "red",
          "width": 1
         },
         "locationmode": "USA-states",
         "lon": [
          -104.667,
          -106.60919
         ],
         "mode": "lines",
         "type": "scattergeo"
        },
        {
         "lat": [
          41.9796,
          35.04022
         ],
         "line": {
          "color": "red",
          "width": 1
         },
         "locationmode": "USA-states",
         "lon": [
          -87.90446,
          -106.60919
         ],
         "mode": "lines",
         "type": "scattergeo"
        },
        {
         "lat": [
          37.72129,
          35.04022
         ],
         "line": {
          "color": "red",
          "width": 1
         },
         "locationmode": "USA-states",
         "lon": [
          -122.22072,
          -106.60919
         ],
         "mode": "lines",
         "type": "scattergeo"
        },
        {
         "lat": [
          37.72129,
          35.04022
         ],
         "line": {
          "color": "red",
          "width": 1
         },
         "locationmode": "USA-states",
         "lon": [
          -122.22072,
          -106.60919
         ],
         "mode": "lines",
         "type": "scattergeo"
        },
        {
         "lat": [
          33.94254,
          35.04022
         ],
         "line": {
          "color": "red",
          "width": 1
         },
         "locationmode": "USA-states",
         "lon": [
          -118.40807,
          -106.60919
         ],
         "mode": "lines",
         "type": "scattergeo"
        },
        {
         "lat": [
          33.43417,
          35.04022
         ],
         "line": {
          "color": "red",
          "width": 1
         },
         "locationmode": "USA-states",
         "lon": [
          -112.00806,
          -106.60919
         ],
         "mode": "lines",
         "type": "scattergeo"
        },
        {
         "lat": [
          33.43417,
          35.04022
         ],
         "line": {
          "color": "red",
          "width": 1
         },
         "locationmode": "USA-states",
         "lon": [
          -112.00806,
          -106.60919
         ],
         "mode": "lines",
         "type": "scattergeo"
        },
        {
         "lat": [
          32.84711,
          35.04022
         ],
         "line": {
          "color": "red",
          "width": 1
         },
         "locationmode": "USA-states",
         "lon": [
          -96.85177,
          -106.60919
         ],
         "mode": "lines",
         "type": "scattergeo"
        },
        {
         "lat": [
          39.29761,
          35.04022
         ],
         "line": {
          "color": "red",
          "width": 1
         },
         "locationmode": "USA-states",
         "lon": [
          -94.71391,
          -106.60919
         ],
         "mode": "lines",
         "type": "scattergeo"
        },
        {
         "lat": [
          39.85841,
          39.90238
         ],
         "line": {
          "color": "red",
          "width": 1
         },
         "locationmode": "USA-states",
         "lon": [
          -104.667,
          -84.21938
         ],
         "mode": "lines",
         "type": "scattergeo"
        },
        {
         "lat": [
          39.1754,
          39.90238
         ],
         "line": {
          "color": "red",
          "width": 1
         },
         "locationmode": "USA-states",
         "lon": [
          -76.6682,
          -84.21938
         ],
         "mode": "lines",
         "type": "scattergeo"
        },
        {
         "lat": [
          32.89595,
          39.90238
         ],
         "line": {
          "color": "red",
          "width": 1
         },
         "locationmode": "USA-states",
         "lon": [
          -97.0372,
          -84.21938
         ],
         "mode": "lines",
         "type": "scattergeo"
        },
        {
         "lat": [
          41.9796,
          39.90238
         ],
         "line": {
          "color": "red",
          "width": 1
         },
         "locationmode": "USA-states",
         "lon": [
          -87.90446,
          -84.21938
         ],
         "mode": "lines",
         "type": "scattergeo"
        },
        {
         "lat": [
          39.85841,
          46.77411
         ],
         "line": {
          "color": "red",
          "width": 1
         },
         "locationmode": "USA-states",
         "lon": [
          -104.667,
          -100.74672
         ],
         "mode": "lines",
         "type": "scattergeo"
        },
        {
         "lat": [
          32.89595,
          46.77411
         ],
         "line": {
          "color": "red",
          "width": 1
         },
         "locationmode": "USA-states",
         "lon": [
          -97.0372,
          -100.74672
         ],
         "mode": "lines",
         "type": "scattergeo"
        },
        {
         "lat": [
          39.85841,
          39.04614
         ],
         "line": {
          "color": "red",
          "width": 1
         },
         "locationmode": "USA-states",
         "lon": [
          -104.667,
          -84.66217
         ],
         "mode": "lines",
         "type": "scattergeo"
        },
        {
         "lat": [
          40.63975,
          39.04614
         ],
         "line": {
          "color": "red",
          "width": 1
         },
         "locationmode": "USA-states",
         "lon": [
          -73.77893,
          -84.66217
         ],
         "mode": "lines",
         "type": "scattergeo"
        },
        {
         "lat": [
          32.89595,
          39.04614
         ],
         "line": {
          "color": "red",
          "width": 1
         },
         "locationmode": "USA-states",
         "lon": [
          -97.0372,
          -84.66217
         ],
         "mode": "lines",
         "type": "scattergeo"
        },
        {
         "lat": [
          41.9796,
          39.04614
         ],
         "line": {
          "color": "red",
          "width": 1
         },
         "locationmode": "USA-states",
         "lon": [
          -87.90446,
          -84.66217
         ],
         "mode": "lines",
         "type": "scattergeo"
        },
        {
         "lat": [
          41.9796,
          39.04614
         ],
         "line": {
          "color": "red",
          "width": 1
         },
         "locationmode": "USA-states",
         "lon": [
          -87.90446,
          -84.66217
         ],
         "mode": "lines",
         "type": "scattergeo"
        },
        {
         "lat": [
          41.9796,
          39.04614
         ],
         "line": {
          "color": "red",
          "width": 1
         },
         "locationmode": "USA-states",
         "lon": [
          -87.90446,
          -84.66217
         ],
         "mode": "lines",
         "type": "scattergeo"
        },
        {
         "lat": [
          39.85841,
          38.17439
         ],
         "line": {
          "color": "red",
          "width": 1
         },
         "locationmode": "USA-states",
         "lon": [
          -104.667,
          -85.736
         ],
         "mode": "lines",
         "type": "scattergeo"
        },
        {
         "lat": [
          33.64044,
          38.17439
         ],
         "line": {
          "color": "red",
          "width": 1
         },
         "locationmode": "USA-states",
         "lon": [
          -84.42694,
          -85.736
         ],
         "mode": "lines",
         "type": "scattergeo"
        },
        {
         "lat": [
          39.85841,
          42.90836
         ],
         "line": {
          "color": "red",
          "width": 1
         },
         "locationmode": "USA-states",
         "lon": [
          -104.667,
          -106.46447
         ],
         "mode": "lines",
         "type": "scattergeo"
        },
        {
         "lat": [
          39.85841,
          35.61678
         ],
         "line": {
          "color": "red",
          "width": 1
         },
         "locationmode": "USA-states",
         "lon": [
          -104.667,
          -106.08814
         ],
         "mode": "lines",
         "type": "scattergeo"
        },
        {
         "lat": [
          39.85841,
          41.44853
         ],
         "line": {
          "color": "red",
          "width": 1
         },
         "locationmode": "USA-states",
         "lon": [
          -104.667,
          -90.50754
         ],
         "mode": "lines",
         "type": "scattergeo"
        },
        {
         "lat": [
          39.85841,
          44.3489
         ],
         "line": {
          "color": "red",
          "width": 1
         },
         "locationmode": "USA-states",
         "lon": [
          -104.667,
          -105.53936
         ],
         "mode": "lines",
         "type": "scattergeo"
        },
        {
         "lat": [
          39.85841,
          37.64996
         ],
         "line": {
          "color": "red",
          "width": 1
         },
         "locationmode": "USA-states",
         "lon": [
          -104.667,
          -97.43305
         ],
         "mode": "lines",
         "type": "scattergeo"
        },
        {
         "lat": [
          41.9796,
          37.64996
         ],
         "line": {
          "color": "red",
          "width": 1
         },
         "locationmode": "USA-states",
         "lon": [
          -87.90446,
          -97.43305
         ],
         "mode": "lines",
         "type": "scattergeo"
        },
        {
         "lat": [
          41.9796,
          37.64996
         ],
         "line": {
          "color": "red",
          "width": 1
         },
         "locationmode": "USA-states",
         "lon": [
          -87.90446,
          -97.43305
         ],
         "mode": "lines",
         "type": "scattergeo"
        },
        {
         "lat": [
          33.94254,
          37.64996
         ],
         "line": {
          "color": "red",
          "width": 1
         },
         "locationmode": "USA-states",
         "lon": [
          -118.40807,
          -97.43305
         ],
         "mode": "lines",
         "type": "scattergeo"
        },
        {
         "lat": [
          41.78598,
          37.64996
         ],
         "line": {
          "color": "red",
          "width": 1
         },
         "locationmode": "USA-states",
         "lon": [
          -87.75242,
          -97.43305
         ],
         "mode": "lines",
         "type": "scattergeo"
        },
        {
         "lat": [
          39.85841,
          29.64542
         ],
         "line": {
          "color": "red",
          "width": 1
         },
         "locationmode": "USA-states",
         "lon": [
          -104.667,
          -95.27889
         ],
         "mode": "lines",
         "type": "scattergeo"
        },
        {
         "lat": [
          40.49147,
          29.64542
         ],
         "line": {
          "color": "red",
          "width": 1
         },
         "locationmode": "USA-states",
         "lon": [
          -80.23287,
          -95.27889
         ],
         "mode": "lines",
         "type": "scattergeo"
        },
        {
         "lat": [
          35.04022,
          29.64542
         ],
         "line": {
          "color": "red",
          "width": 1
         },
         "locationmode": "USA-states",
         "lon": [
          -106.60919,
          -95.27889
         ],
         "mode": "lines",
         "type": "scattergeo"
        },
        {
         "lat": [
          35.04022,
          29.64542
         ],
         "line": {
          "color": "red",
          "width": 1
         },
         "locationmode": "USA-states",
         "lon": [
          -106.60919,
          -95.27889
         ],
         "mode": "lines",
         "type": "scattergeo"
        },
        {
         "lat": [
          33.64044,
          29.64542
         ],
         "line": {
          "color": "red",
          "width": 1
         },
         "locationmode": "USA-states",
         "lon": [
          -84.42694,
          -95.27889
         ],
         "mode": "lines",
         "type": "scattergeo"
        },
        {
         "lat": [
          35.87764,
          29.64542
         ],
         "line": {
          "color": "red",
          "width": 1
         },
         "locationmode": "USA-states",
         "lon": [
          -78.78747,
          -95.27889
         ],
         "mode": "lines",
         "type": "scattergeo"
        },
        {
         "lat": [
          32.89595,
          29.64542
         ],
         "line": {
          "color": "red",
          "width": 1
         },
         "locationmode": "USA-states",
         "lon": [
          -97.0372,
          -95.27889
         ],
         "mode": "lines",
         "type": "scattergeo"
        },
        {
         "lat": [
          27.97547,
          29.64542
         ],
         "line": {
          "color": "red",
          "width": 1
         },
         "locationmode": "USA-states",
         "lon": [
          -82.53325,
          -95.27889
         ],
         "mode": "lines",
         "type": "scattergeo"
        },
        {
         "lat": [
          29.53369,
          29.64542
         ],
         "line": {
          "color": "red",
          "width": 1
         },
         "locationmode": "USA-states",
         "lon": [
          -98.46978,
          -95.27889
         ],
         "mode": "lines",
         "type": "scattergeo"
        },
        {
         "lat": [
          29.53369,
          29.64542
         ],
         "line": {
          "color": "red",
          "width": 1
         },
         "locationmode": "USA-states",
         "lon": [
          -98.46978,
          -95.27889
         ],
         "mode": "lines",
         "type": "scattergeo"
        },
        {
         "lat": [
          37.72129,
          29.64542
         ],
         "line": {
          "color": "red",
          "width": 1
         },
         "locationmode": "USA-states",
         "lon": [
          -122.22072,
          -95.27889
         ],
         "mode": "lines",
         "type": "scattergeo"
        },
        {
         "lat": [
          33.94254,
          29.64542
         ],
         "line": {
          "color": "red",
          "width": 1
         },
         "locationmode": "USA-states",
         "lon": [
          -118.40807,
          -95.27889
         ],
         "mode": "lines",
         "type": "scattergeo"
        },
        {
         "lat": [
          33.94254,
          29.64542
         ],
         "line": {
          "color": "red",
          "width": 1
         },
         "locationmode": "USA-states",
         "lon": [
          -118.40807,
          -95.27889
         ],
         "mode": "lines",
         "type": "scattergeo"
        },
        {
         "lat": [
          33.43417,
          29.64542
         ],
         "line": {
          "color": "red",
          "width": 1
         },
         "locationmode": "USA-states",
         "lon": [
          -112.00806,
          -95.27889
         ],
         "mode": "lines",
         "type": "scattergeo"
        },
        {
         "lat": [
          33.43417,
          29.64542
         ],
         "line": {
          "color": "red",
          "width": 1
         },
         "locationmode": "USA-states",
         "lon": [
          -112.00806,
          -95.27889
         ],
         "mode": "lines",
         "type": "scattergeo"
        },
        {
         "lat": [
          33.43417,
          29.64542
         ],
         "line": {
          "color": "red",
          "width": 1
         },
         "locationmode": "USA-states",
         "lon": [
          -112.00806,
          -95.27889
         ],
         "mode": "lines",
         "type": "scattergeo"
        },
        {
         "lat": [
          41.78598,
          29.64542
         ],
         "line": {
          "color": "red",
          "width": 1
         },
         "locationmode": "USA-states",
         "lon": [
          -87.75242,
          -95.27889
         ],
         "mode": "lines",
         "type": "scattergeo"
        },
        {
         "lat": [
          38.74769,
          29.64542
         ],
         "line": {
          "color": "red",
          "width": 1
         },
         "locationmode": "USA-states",
         "lon": [
          -90.35999,
          -95.27889
         ],
         "mode": "lines",
         "type": "scattergeo"
        },
        {
         "lat": [
          38.74769,
          29.64542
         ],
         "line": {
          "color": "red",
          "width": 1
         },
         "locationmode": "USA-states",
         "lon": [
          -90.35999,
          -95.27889
         ],
         "mode": "lines",
         "type": "scattergeo"
        },
        {
         "lat": [
          32.84711,
          29.64542
         ],
         "line": {
          "color": "red",
          "width": 1
         },
         "locationmode": "USA-states",
         "lon": [
          -96.85177,
          -95.27889
         ],
         "mode": "lines",
         "type": "scattergeo"
        },
        {
         "lat": [
          32.84711,
          29.64542
         ],
         "line": {
          "color": "red",
          "width": 1
         },
         "locationmode": "USA-states",
         "lon": [
          -96.85177,
          -95.27889
         ],
         "mode": "lines",
         "type": "scattergeo"
        },
        {
         "lat": [
          31.94253,
          29.64542
         ],
         "line": {
          "color": "red",
          "width": 1
         },
         "locationmode": "USA-states",
         "lon": [
          -102.20191,
          -95.27889
         ],
         "mode": "lines",
         "type": "scattergeo"
        },
        {
         "lat": [
          27.77036,
          29.64542
         ],
         "line": {
          "color": "red",
          "width": 1
         },
         "locationmode": "USA-states",
         "lon": [
          -97.50122,
          -95.27889
         ],
         "mode": "lines",
         "type": "scattergeo"
        },
        {
         "lat": [
          26.22851,
          29.64542
         ],
         "line": {
          "color": "red",
          "width": 1
         },
         "locationmode": "USA-states",
         "lon": [
          -97.65439,
          -95.27889
         ],
         "mode": "lines",
         "type": "scattergeo"
        },
        {
         "lat": [
          39.85841,
          41.59422
         ],
         "line": {
          "color": "red",
          "width": 1
         },
         "locationmode": "USA-states",
         "lon": [
          -104.667,
          -109.06519
         ],
         "mode": "lines",
         "type": "scattergeo"
        },
        {
         "lat": [
          40.78839,
          41.59422
         ],
         "line": {
          "color": "red",
          "width": 1
         },
         "locationmode": "USA-states",
         "lon": [
          -111.97777,
          -109.06519
         ],
         "mode": "lines",
         "type": "scattergeo"
        },
        {
         "lat": [
          39.85841,
          36.77619
         ],
         "line": {
          "color": "red",
          "width": 1
         },
         "locationmode": "USA-states",
         "lon": [
          -104.667,
          -119.71814
         ],
         "mode": "lines",
         "type": "scattergeo"
        },
        {
         "lat": [
          33.94254,
          36.77619
         ],
         "line": {
          "color": "red",
          "width": 1
         },
         "locationmode": "USA-states",
         "lon": [
          -118.40807,
          -119.71814
         ],
         "mode": "lines",
         "type": "scattergeo"
        },
        {
         "lat": [
          39.85841,
          34.42621
         ],
         "line": {
          "color": "red",
          "width": 1
         },
         "locationmode": "USA-states",
         "lon": [
          -104.667,
          -119.84037
         ],
         "mode": "lines",
         "type": "scattergeo"
        },
        {
         "lat": [
          37.619,
          34.42621
         ],
         "line": {
          "color": "red",
          "width": 1
         },
         "locationmode": "USA-states",
         "lon": [
          -122.37484,
          -119.84037
         ],
         "mode": "lines",
         "type": "scattergeo"
        },
        {
         "lat": [
          39.85841,
          26.53617
         ],
         "line": {
          "color": "red",
          "width": 1
         },
         "locationmode": "USA-states",
         "lon": [
          -104.667,
          -81.75517
         ],
         "mode": "lines",
         "type": "scattergeo"
        },
        {
         "lat": [
          40.63975,
          26.53617
         ],
         "line": {
          "color": "red",
          "width": 1
         },
         "locationmode": "USA-states",
         "lon": [
          -73.77893,
          -81.75517
         ],
         "mode": "lines",
         "type": "scattergeo"
        },
        {
         "lat": [
          32.89595,
          26.53617
         ],
         "line": {
          "color": "red",
          "width": 1
         },
         "locationmode": "USA-states",
         "lon": [
          -97.0372,
          -81.75517
         ],
         "mode": "lines",
         "type": "scattergeo"
        },
        {
         "lat": [
          32.89595,
          26.53617
         ],
         "line": {
          "color": "red",
          "width": 1
         },
         "locationmode": "USA-states",
         "lon": [
          -97.0372,
          -81.75517
         ],
         "mode": "lines",
         "type": "scattergeo"
        },
        {
         "lat": [
          39.87195,
          26.53617
         ],
         "line": {
          "color": "red",
          "width": 1
         },
         "locationmode": "USA-states",
         "lon": [
          -75.24114,
          -81.75517
         ],
         "mode": "lines",
         "type": "scattergeo"
        },
        {
         "lat": [
          42.36435,
          26.53617
         ],
         "line": {
          "color": "red",
          "width": 1
         },
         "locationmode": "USA-states",
         "lon": [
          -71.00518,
          -81.75517
         ],
         "mode": "lines",
         "type": "scattergeo"
        },
        {
         "lat": [
          41.9796,
          26.53617
         ],
         "line": {
          "color": "red",
          "width": 1
         },
         "locationmode": "USA-states",
         "lon": [
          -87.90446,
          -81.75517
         ],
         "mode": "lines",
         "type": "scattergeo"
        },
        {
         "lat": [
          35.21401,
          26.53617
         ],
         "line": {
          "color": "red",
          "width": 1
         },
         "locationmode": "USA-states",
         "lon": [
          -80.94313,
          -81.75517
         ],
         "mode": "lines",
         "type": "scattergeo"
        },
        {
         "lat": [
          37.619,
          35.23706
         ],
         "line": {
          "color": "red",
          "width": 1
         },
         "locationmode": "USA-states",
         "lon": [
          -122.37484,
          -120.64239
         ],
         "mode": "lines",
         "type": "scattergeo"
        },
        {
         "lat": [
          33.94254,
          35.23706
         ],
         "line": {
          "color": "red",
          "width": 1
         },
         "locationmode": "USA-states",
         "lon": [
          -118.40807,
          -120.64239
         ],
         "mode": "lines",
         "type": "scattergeo"
        },
        {
         "lat": [
          37.619,
          33.81772
         ],
         "line": {
          "color": "red",
          "width": 1
         },
         "locationmode": "USA-states",
         "lon": [
          -122.37484,
          -118.15161
         ],
         "mode": "lines",
         "type": "scattergeo"
        },
        {
         "lat": [
          30.19453,
          33.81772
         ],
         "line": {
          "color": "red",
          "width": 1
         },
         "locationmode": "USA-states",
         "lon": [
          -97.66987,
          -118.15161
         ],
         "mode": "lines",
         "type": "scattergeo"
        },
        {
         "lat": [
          42.36435,
          33.81772
         ],
         "line": {
          "color": "red",
          "width": 1
         },
         "locationmode": "USA-states",
         "lon": [
          -71.00518,
          -118.15161
         ],
         "mode": "lines",
         "type": "scattergeo"
        },
        {
         "lat": [
          37.619,
          40.97812
         ],
         "line": {
          "color": "red",
          "width": 1
         },
         "locationmode": "USA-states",
         "lon": [
          -122.37484,
          -124.10862
         ],
         "mode": "lines",
         "type": "scattergeo"
        },
        {
         "lat": [
          40.63975,
          42.94052
         ],
         "line": {
          "color": "red",
          "width": 1
         },
         "locationmode": "USA-states",
         "lon": [
          -73.77893,
          -78.73217
         ],
         "mode": "lines",
         "type": "scattergeo"
        },
        {
         "lat": [
          40.63975,
          42.94052
         ],
         "line": {
          "color": "red",
          "width": 1
         },
         "locationmode": "USA-states",
         "lon": [
          -73.77893,
          -78.73217
         ],
         "mode": "lines",
         "type": "scattergeo"
        },
        {
         "lat": [
          26.07258,
          42.94052
         ],
         "line": {
          "color": "red",
          "width": 1
         },
         "locationmode": "USA-states",
         "lon": [
          -80.15275,
          -78.73217
         ],
         "mode": "lines",
         "type": "scattergeo"
        },
        {
         "lat": [
          28.42889,
          42.94052
         ],
         "line": {
          "color": "red",
          "width": 1
         },
         "locationmode": "USA-states",
         "lon": [
          -81.31603,
          -78.73217
         ],
         "mode": "lines",
         "type": "scattergeo"
        },
        {
         "lat": [
          41.78598,
          42.94052
         ],
         "line": {
          "color": "red",
          "width": 1
         },
         "locationmode": "USA-states",
         "lon": [
          -87.75242,
          -78.73217
         ],
         "mode": "lines",
         "type": "scattergeo"
        },
        {
         "lat": [
          40.63975,
          43.11119
         ],
         "line": {
          "color": "red",
          "width": 1
         },
         "locationmode": "USA-states",
         "lon": [
          -73.77893,
          -76.10631
         ],
         "mode": "lines",
         "type": "scattergeo"
        },
        {
         "lat": [
          41.9796,
          43.11119
         ],
         "line": {
          "color": "red",
          "width": 1
         },
         "locationmode": "USA-states",
         "lon": [
          -87.90446,
          -76.10631
         ],
         "mode": "lines",
         "type": "scattergeo"
        },
        {
         "lat": [
          41.41089,
          40.77724
         ],
         "line": {
          "color": "red",
          "width": 1
         },
         "locationmode": "USA-states",
         "lon": [
          -81.8494,
          -73.87261
         ],
         "mode": "lines",
         "type": "scattergeo"
        },
        {
         "lat": [
          33.64044,
          40.77724
         ],
         "line": {
          "color": "red",
          "width": 1
         },
         "locationmode": "USA-states",
         "lon": [
          -84.42694,
          -73.87261
         ],
         "mode": "lines",
         "type": "scattergeo"
        },
        {
         "lat": [
          33.64044,
          40.77724
         ],
         "line": {
          "color": "red",
          "width": 1
         },
         "locationmode": "USA-states",
         "lon": [
          -84.42694,
          -73.87261
         ],
         "mode": "lines",
         "type": "scattergeo"
        },
        {
         "lat": [
          26.68316,
          40.77724
         ],
         "line": {
          "color": "red",
          "width": 1
         },
         "locationmode": "USA-states",
         "lon": [
          -80.09559,
          -73.87261
         ],
         "mode": "lines",
         "type": "scattergeo"
        },
        {
         "lat": [
          32.89595,
          40.77724
         ],
         "line": {
          "color": "red",
          "width": 1
         },
         "locationmode": "USA-states",
         "lon": [
          -97.0372,
          -73.87261
         ],
         "mode": "lines",
         "type": "scattergeo"
        },
        {
         "lat": [
          25.79325,
          40.77724
         ],
         "line": {
          "color": "red",
          "width": 1
         },
         "locationmode": "USA-states",
         "lon": [
          -80.29056,
          -73.87261
         ],
         "mode": "lines",
         "type": "scattergeo"
        },
        {
         "lat": [
          25.79325,
          40.77724
         ],
         "line": {
          "color": "red",
          "width": 1
         },
         "locationmode": "USA-states",
         "lon": [
          -80.29056,
          -73.87261
         ],
         "mode": "lines",
         "type": "scattergeo"
        },
        {
         "lat": [
          28.42889,
          40.77724
         ],
         "line": {
          "color": "red",
          "width": 1
         },
         "locationmode": "USA-states",
         "lon": [
          -81.31603,
          -73.87261
         ],
         "mode": "lines",
         "type": "scattergeo"
        },
        {
         "lat": [
          28.42889,
          40.77724
         ],
         "line": {
          "color": "red",
          "width": 1
         },
         "locationmode": "USA-states",
         "lon": [
          -81.31603,
          -73.87261
         ],
         "mode": "lines",
         "type": "scattergeo"
        },
        {
         "lat": [
          41.9796,
          40.77724
         ],
         "line": {
          "color": "red",
          "width": 1
         },
         "locationmode": "USA-states",
         "lon": [
          -87.90446,
          -73.87261
         ],
         "mode": "lines",
         "type": "scattergeo"
        },
        {
         "lat": [
          41.9796,
          40.77724
         ],
         "line": {
          "color": "red",
          "width": 1
         },
         "locationmode": "USA-states",
         "lon": [
          -87.90446,
          -73.87261
         ],
         "mode": "lines",
         "type": "scattergeo"
        },
        {
         "lat": [
          26.53617,
          40.77724
         ],
         "line": {
          "color": "red",
          "width": 1
         },
         "locationmode": "USA-states",
         "lon": [
          -81.75517,
          -73.87261
         ],
         "mode": "lines",
         "type": "scattergeo"
        },
        {
         "lat": [
          29.64542,
          40.77724
         ],
         "line": {
          "color": "red",
          "width": 1
         },
         "locationmode": "USA-states",
         "lon": [
          -95.27889,
          -73.87261
         ],
         "mode": "lines",
         "type": "scattergeo"
        },
        {
         "lat": [
          32.84711,
          40.77724
         ],
         "line": {
          "color": "red",
          "width": 1
         },
         "locationmode": "USA-states",
         "lon": [
          -96.85177,
          -73.87261
         ],
         "mode": "lines",
         "type": "scattergeo"
        },
        {
         "lat": [
          43.11887,
          40.77724
         ],
         "line": {
          "color": "red",
          "width": 1
         },
         "locationmode": "USA-states",
         "lon": [
          -77.67238,
          -73.87261
         ],
         "mode": "lines",
         "type": "scattergeo"
        },
        {
         "lat": [
          38.13864,
          40.77724
         ],
         "line": {
          "color": "red",
          "width": 1
         },
         "locationmode": "USA-states",
         "lon": [
          -78.45286,
          -73.87261
         ],
         "mode": "lines",
         "type": "scattergeo"
        },
        {
         "lat": [
          27.39533,
          40.77724
         ],
         "line": {
          "color": "red",
          "width": 1
         },
         "locationmode": "USA-states",
         "lon": [
          -82.55411,
          -73.87261
         ],
         "mode": "lines",
         "type": "scattergeo"
        },
        {
         "lat": [
          39.1754,
          30.49406
         ],
         "line": {
          "color": "red",
          "width": 1
         },
         "locationmode": "USA-states",
         "lon": [
          -76.6682,
          -81.68786
         ],
         "mode": "lines",
         "type": "scattergeo"
        },
        {
         "lat": [
          33.64044,
          30.49406
         ],
         "line": {
          "color": "red",
          "width": 1
         },
         "locationmode": "USA-states",
         "lon": [
          -84.42694,
          -81.68786
         ],
         "mode": "lines",
         "type": "scattergeo"
        },
        {
         "lat": [
          32.89595,
          30.49406
         ],
         "line": {
          "color": "red",
          "width": 1
         },
         "locationmode": "USA-states",
         "lon": [
          -97.0372,
          -81.68786
         ],
         "mode": "lines",
         "type": "scattergeo"
        },
        {
         "lat": [
          32.89595,
          30.49406
         ],
         "line": {
          "color": "red",
          "width": 1
         },
         "locationmode": "USA-states",
         "lon": [
          -97.0372,
          -81.68786
         ],
         "mode": "lines",
         "type": "scattergeo"
        },
        {
         "lat": [
          44.88055,
          30.49406
         ],
         "line": {
          "color": "red",
          "width": 1
         },
         "locationmode": "USA-states",
         "lon": [
          -93.21692,
          -81.68786
         ],
         "mode": "lines",
         "type": "scattergeo"
        },
        {
         "lat": [
          42.36435,
          30.49406
         ],
         "line": {
          "color": "red",
          "width": 1
         },
         "locationmode": "USA-states",
         "lon": [
          -71.00518,
          -81.68786
         ],
         "mode": "lines",
         "type": "scattergeo"
        },
        {
         "lat": [
          35.21401,
          30.49406
         ],
         "line": {
          "color": "red",
          "width": 1
         },
         "locationmode": "USA-states",
         "lon": [
          -80.94313,
          -81.68786
         ],
         "mode": "lines",
         "type": "scattergeo"
        },
        {
         "lat": [
          29.64542,
          30.49406
         ],
         "line": {
          "color": "red",
          "width": 1
         },
         "locationmode": "USA-states",
         "lon": [
          -95.27889,
          -81.68786
         ],
         "mode": "lines",
         "type": "scattergeo"
        },
        {
         "lat": [
          39.1754,
          36.89461
         ],
         "line": {
          "color": "red",
          "width": 1
         },
         "locationmode": "USA-states",
         "lon": [
          -76.6682,
          -76.20122
         ],
         "mode": "lines",
         "type": "scattergeo"
        },
        {
         "lat": [
          40.77724,
          38.13864
         ],
         "line": {
          "color": "red",
          "width": 1
         },
         "locationmode": "USA-states",
         "lon": [
          -73.87261,
          -78.45286
         ],
         "mode": "lines",
         "type": "scattergeo"
        },
        {
         "lat": [
          41.9796,
          38.13864
         ],
         "line": {
          "color": "red",
          "width": 1
         },
         "locationmode": "USA-states",
         "lon": [
          -87.90446,
          -78.45286
         ],
         "mode": "lines",
         "type": "scattergeo"
        },
        {
         "lat": [
          40.77724,
          27.39533
         ],
         "line": {
          "color": "red",
          "width": 1
         },
         "locationmode": "USA-states",
         "lon": [
          -73.87261,
          -82.55411
         ],
         "mode": "lines",
         "type": "scattergeo"
        },
        {
         "lat": [
          26.07258,
          42.26734
         ],
         "line": {
          "color": "red",
          "width": 1
         },
         "locationmode": "USA-states",
         "lon": [
          -80.15275,
          -71.87571
         ],
         "mode": "lines",
         "type": "scattergeo"
        },
        {
         "lat": [
          33.64044,
          40.27669
         ],
         "line": {
          "color": "red",
          "width": 1
         },
         "locationmode": "USA-states",
         "lon": [
          -84.42694,
          -74.81347
         ],
         "mode": "lines",
         "type": "scattergeo"
        },
        {
         "lat": [
          26.68316,
          40.27669
         ],
         "line": {
          "color": "red",
          "width": 1
         },
         "locationmode": "USA-states",
         "lon": [
          -80.09559,
          -74.81347
         ],
         "mode": "lines",
         "type": "scattergeo"
        },
        {
         "lat": [
          33.64044,
          33.36996
         ],
         "line": {
          "color": "red",
          "width": 1
         },
         "locationmode": "USA-states",
         "lon": [
          -84.42694,
          -81.9645
         ],
         "mode": "lines",
         "type": "scattergeo"
        },
        {
         "lat": [
          33.64044,
          40.47799
         ],
         "line": {
          "color": "red",
          "width": 1
         },
         "locationmode": "USA-states",
         "lon": [
          -84.42694,
          -88.91595
         ],
         "mode": "lines",
         "type": "scattergeo"
        },
        {
         "lat": [
          41.9796,
          40.47799
         ],
         "line": {
          "color": "red",
          "width": 1
         },
         "locationmode": "USA-states",
         "lon": [
          -87.90446,
          -88.91595
         ],
         "mode": "lines",
         "type": "scattergeo"
        },
        {
         "lat": [
          33.64044,
          37.50517
         ],
         "line": {
          "color": "red",
          "width": 1
         },
         "locationmode": "USA-states",
         "lon": [
          -84.42694,
          -77.31967
         ],
         "mode": "lines",
         "type": "scattergeo"
        },
        {
         "lat": [
          33.64044,
          37.50517
         ],
         "line": {
          "color": "red",
          "width": 1
         },
         "locationmode": "USA-states",
         "lon": [
          -84.42694,
          -77.31967
         ],
         "mode": "lines",
         "type": "scattergeo"
        },
        {
         "lat": [
          32.89595,
          37.50517
         ],
         "line": {
          "color": "red",
          "width": 1
         },
         "locationmode": "USA-states",
         "lon": [
          -97.0372,
          -77.31967
         ],
         "mode": "lines",
         "type": "scattergeo"
        },
        {
         "lat": [
          41.9796,
          37.50517
         ],
         "line": {
          "color": "red",
          "width": 1
         },
         "locationmode": "USA-states",
         "lon": [
          -87.90446,
          -77.31967
         ],
         "mode": "lines",
         "type": "scattergeo"
        },
        {
         "lat": [
          41.9796,
          37.50517
         ],
         "line": {
          "color": "red",
          "width": 1
         },
         "locationmode": "USA-states",
         "lon": [
          -87.90446,
          -77.31967
         ],
         "mode": "lines",
         "type": "scattergeo"
        },
        {
         "lat": [
          33.64044,
          39.99799
         ],
         "line": {
          "color": "red",
          "width": 1
         },
         "locationmode": "USA-states",
         "lon": [
          -84.42694,
          -82.89188
         ],
         "mode": "lines",
         "type": "scattergeo"
        },
        {
         "lat": [
          32.89595,
          39.99799
         ],
         "line": {
          "color": "red",
          "width": 1
         },
         "locationmode": "USA-states",
         "lon": [
          -97.0372,
          -82.89188
         ],
         "mode": "lines",
         "type": "scattergeo"
        },
        {
         "lat": [
          25.79325,
          39.99799
         ],
         "line": {
          "color": "red",
          "width": 1
         },
         "locationmode": "USA-states",
         "lon": [
          -80.29056,
          -82.89188
         ],
         "mode": "lines",
         "type": "scattergeo"
        },
        {
         "lat": [
          27.97547,
          39.99799
         ],
         "line": {
          "color": "red",
          "width": 1
         },
         "locationmode": "USA-states",
         "lon": [
          -82.53325,
          -82.89188
         ],
         "mode": "lines",
         "type": "scattergeo"
        },
        {
         "lat": [
          41.9796,
          39.99799
         ],
         "line": {
          "color": "red",
          "width": 1
         },
         "locationmode": "USA-states",
         "lon": [
          -87.90446,
          -82.89188
         ],
         "mode": "lines",
         "type": "scattergeo"
        },
        {
         "lat": [
          33.64044,
          31.0649
         ],
         "line": {
          "color": "red",
          "width": 1
         },
         "locationmode": "USA-states",
         "lon": [
          -84.42694,
          -97.8278
         ],
         "mode": "lines",
         "type": "scattergeo"
        },
        {
         "lat": [
          32.89595,
          31.0649
         ],
         "line": {
          "color": "red",
          "width": 1
         },
         "locationmode": "USA-states",
         "lon": [
          -97.0372,
          -97.8278
         ],
         "mode": "lines",
         "type": "scattergeo"
        },
        {
         "lat": [
          32.89595,
          31.0649
         ],
         "line": {
          "color": "red",
          "width": 1
         },
         "locationmode": "USA-states",
         "lon": [
          -97.0372,
          -97.8278
         ],
         "mode": "lines",
         "type": "scattergeo"
        },
        {
         "lat": [
          32.89595,
          31.0649
         ],
         "line": {
          "color": "red",
          "width": 1
         },
         "locationmode": "USA-states",
         "lon": [
          -97.0372,
          -97.8278
         ],
         "mode": "lines",
         "type": "scattergeo"
        },
        {
         "lat": [
          32.89595,
          31.0649
         ],
         "line": {
          "color": "red",
          "width": 1
         },
         "locationmode": "USA-states",
         "lon": [
          -97.0372,
          -97.8278
         ],
         "mode": "lines",
         "type": "scattergeo"
        },
        {
         "lat": [
          32.89595,
          31.0649
         ],
         "line": {
          "color": "red",
          "width": 1
         },
         "locationmode": "USA-states",
         "lon": [
          -97.0372,
          -97.8278
         ],
         "mode": "lines",
         "type": "scattergeo"
        },
        {
         "lat": [
          33.64044,
          41.70895
         ],
         "line": {
          "color": "red",
          "width": 1
         },
         "locationmode": "USA-states",
         "lon": [
          -84.42694,
          -86.31847
         ],
         "mode": "lines",
         "type": "scattergeo"
        },
        {
         "lat": [
          41.9796,
          41.70895
         ],
         "line": {
          "color": "red",
          "width": 1
         },
         "locationmode": "USA-states",
         "lon": [
          -87.90446,
          -86.31847
         ],
         "mode": "lines",
         "type": "scattergeo"
        },
        {
         "lat": [
          33.64044,
          38.37315
         ],
         "line": {
          "color": "red",
          "width": 1
         },
         "locationmode": "USA-states",
         "lon": [
          -84.42694,
          -81.59319
         ],
         "mode": "lines",
         "type": "scattergeo"
        },
        {
         "lat": [
          33.64044,
          40.91631
         ],
         "line": {
          "color": "red",
          "width": 1
         },
         "locationmode": "USA-states",
         "lon": [
          -84.42694,
          -81.44247
         ],
         "mode": "lines",
         "type": "scattergeo"
        },
        {
         "lat": [
          26.68316,
          41.06696
         ],
         "line": {
          "color": "red",
          "width": 1
         },
         "locationmode": "USA-states",
         "lon": [
          -80.09559,
          -73.70757
         ],
         "mode": "lines",
         "type": "scattergeo"
        },
        {
         "lat": [
          32.89595,
          29.95083
         ],
         "line": {
          "color": "red",
          "width": 1
         },
         "locationmode": "USA-states",
         "lon": [
          -97.0372,
          -94.02069
         ],
         "mode": "lines",
         "type": "scattergeo"
        },
        {
         "lat": [
          32.89595,
          29.95083
         ],
         "line": {
          "color": "red",
          "width": 1
         },
         "locationmode": "USA-states",
         "lon": [
          -97.0372,
          -94.02069
         ],
         "mode": "lines",
         "type": "scattergeo"
        },
        {
         "lat": [
          32.89595,
          38.53396
         ],
         "line": {
          "color": "red",
          "width": 1
         },
         "locationmode": "USA-states",
         "lon": [
          -97.0372,
          -106.93318
         ],
         "mode": "lines",
         "type": "scattergeo"
        },
        {
         "lat": [
          32.89595,
          33.30156
         ],
         "line": {
          "color": "red",
          "width": 1
         },
         "locationmode": "USA-states",
         "lon": [
          -97.0372,
          -104.53056
         ],
         "mode": "lines",
         "type": "scattergeo"
        },
        {
         "lat": [
          32.89595,
          32.31117
         ],
         "line": {
          "color": "red",
          "width": 1
         },
         "locationmode": "USA-states",
         "lon": [
          -97.0372,
          -90.07589
         ],
         "mode": "lines",
         "type": "scattergeo"
        },
        {
         "lat": [
          32.89595,
          32.31117
         ],
         "line": {
          "color": "red",
          "width": 1
         },
         "locationmode": "USA-states",
         "lon": [
          -97.0372,
          -90.07589
         ],
         "mode": "lines",
         "type": "scattergeo"
        },
        {
         "lat": [
          32.89595,
          32.31117
         ],
         "line": {
          "color": "red",
          "width": 1
         },
         "locationmode": "USA-states",
         "lon": [
          -97.0372,
          -90.07589
         ],
         "mode": "lines",
         "type": "scattergeo"
        },
        {
         "lat": [
          32.89595,
          32.44663
         ],
         "line": {
          "color": "red",
          "width": 1
         },
         "locationmode": "USA-states",
         "lon": [
          -97.0372,
          -93.8256
         ],
         "mode": "lines",
         "type": "scattergeo"
        },
        {
         "lat": [
          32.89595,
          32.44663
         ],
         "line": {
          "color": "red",
          "width": 1
         },
         "locationmode": "USA-states",
         "lon": [
          -97.0372,
          -93.8256
         ],
         "mode": "lines",
         "type": "scattergeo"
        },
        {
         "lat": [
          32.89595,
          30.48325
         ],
         "line": {
          "color": "red",
          "width": 1
         },
         "locationmode": "USA-states",
         "lon": [
          -97.0372,
          -86.5254
         ],
         "mode": "lines",
         "type": "scattergeo"
        },
        {
         "lat": [
          32.89595,
          37.15152
         ],
         "line": {
          "color": "red",
          "width": 1
         },
         "locationmode": "USA-states",
         "lon": [
          -97.0372,
          -107.75377
         ],
         "mode": "lines",
         "type": "scattergeo"
        },
        {
         "lat": [
          32.89595,
          37.15152
         ],
         "line": {
          "color": "red",
          "width": 1
         },
         "locationmode": "USA-states",
         "lon": [
          -97.0372,
          -107.75377
         ],
         "mode": "lines",
         "type": "scattergeo"
        },
        {
         "lat": [
          33.43417,
          37.15152
         ],
         "line": {
          "color": "red",
          "width": 1
         },
         "locationmode": "USA-states",
         "lon": [
          -112.00806,
          -107.75377
         ],
         "mode": "lines",
         "type": "scattergeo"
        },
        {
         "lat": [
          32.89595,
          30.53316
         ],
         "line": {
          "color": "red",
          "width": 1
         },
         "locationmode": "USA-states",
         "lon": [
          -97.0372,
          -91.14963
         ],
         "mode": "lines",
         "type": "scattergeo"
        },
        {
         "lat": [
          32.89595,
          30.53316
         ],
         "line": {
          "color": "red",
          "width": 1
         },
         "locationmode": "USA-states",
         "lon": [
          -97.0372,
          -91.14963
         ],
         "mode": "lines",
         "type": "scattergeo"
        },
        {
         "lat": [
          32.89595,
          32.12758
         ],
         "line": {
          "color": "red",
          "width": 1
         },
         "locationmode": "USA-states",
         "lon": [
          -97.0372,
          -81.20214
         ],
         "mode": "lines",
         "type": "scattergeo"
        },
        {
         "lat": [
          41.9796,
          32.12758
         ],
         "line": {
          "color": "red",
          "width": 1
         },
         "locationmode": "USA-states",
         "lon": [
          -87.90446,
          -81.20214
         ],
         "mode": "lines",
         "type": "scattergeo"
        },
        {
         "lat": [
          32.89595,
          30.20528
         ],
         "line": {
          "color": "red",
          "width": 1
         },
         "locationmode": "USA-states",
         "lon": [
          -97.0372,
          -91.98766
         ],
         "mode": "lines",
         "type": "scattergeo"
        },
        {
         "lat": [
          32.89595,
          30.20528
         ],
         "line": {
          "color": "red",
          "width": 1
         },
         "locationmode": "USA-states",
         "lon": [
          -97.0372,
          -91.98766
         ],
         "mode": "lines",
         "type": "scattergeo"
        },
        {
         "lat": [
          32.89595,
          36.09775
         ],
         "line": {
          "color": "red",
          "width": 1
         },
         "locationmode": "USA-states",
         "lon": [
          -97.0372,
          -79.9373
         ],
         "mode": "lines",
         "type": "scattergeo"
        },
        {
         "lat": [
          32.89595,
          36.09775
         ],
         "line": {
          "color": "red",
          "width": 1
         },
         "locationmode": "USA-states",
         "lon": [
          -97.0372,
          -79.9373
         ],
         "mode": "lines",
         "type": "scattergeo"
        },
        {
         "lat": [
          32.89595,
          33.93884
         ],
         "line": {
          "color": "red",
          "width": 1
         },
         "locationmode": "USA-states",
         "lon": [
          -97.0372,
          -81.11954
         ],
         "mode": "lines",
         "type": "scattergeo"
        },
        {
         "lat": [
          32.89595,
          33.93884
         ],
         "line": {
          "color": "red",
          "width": 1
         },
         "locationmode": "USA-states",
         "lon": [
          -97.0372,
          -81.11954
         ],
         "mode": "lines",
         "type": "scattergeo"
        },
        {
         "lat": [
          32.89595,
          35.03527
         ],
         "line": {
          "color": "red",
          "width": 1
         },
         "locationmode": "USA-states",
         "lon": [
          -97.0372,
          -85.20379
         ],
         "mode": "lines",
         "type": "scattergeo"
        },
        {
         "lat": [
          32.89595,
          31.61129
         ],
         "line": {
          "color": "red",
          "width": 1
         },
         "locationmode": "USA-states",
         "lon": [
          -97.0372,
          -97.23052
         ],
         "mode": "lines",
         "type": "scattergeo"
        },
        {
         "lat": [
          32.89595,
          31.61129
         ],
         "line": {
          "color": "red",
          "width": 1
         },
         "locationmode": "USA-states",
         "lon": [
          -97.0372,
          -97.23052
         ],
         "mode": "lines",
         "type": "scattergeo"
        },
        {
         "lat": [
          32.89595,
          31.61129
         ],
         "line": {
          "color": "red",
          "width": 1
         },
         "locationmode": "USA-states",
         "lon": [
          -97.0372,
          -97.23052
         ],
         "mode": "lines",
         "type": "scattergeo"
        },
        {
         "lat": [
          32.89595,
          32.30064
         ],
         "line": {
          "color": "red",
          "width": 1
         },
         "locationmode": "USA-states",
         "lon": [
          -97.0372,
          -86.39398
         ],
         "mode": "lines",
         "type": "scattergeo"
        },
        {
         "lat": [
          32.89595,
          40.66424
         ],
         "line": {
          "color": "red",
          "width": 1
         },
         "locationmode": "USA-states",
         "lon": [
          -97.0372,
          -89.69331
         ],
         "mode": "lines",
         "type": "scattergeo"
        },
        {
         "lat": [
          41.9796,
          40.66424
         ],
         "line": {
          "color": "red",
          "width": 1
         },
         "locationmode": "USA-states",
         "lon": [
          -87.90446,
          -89.69331
         ],
         "mode": "lines",
         "type": "scattergeo"
        },
        {
         "lat": [
          32.89595,
          39.64257
         ],
         "line": {
          "color": "red",
          "width": 1
         },
         "locationmode": "USA-states",
         "lon": [
          -97.0372,
          -106.9177
         ],
         "mode": "lines",
         "type": "scattergeo"
        },
        {
         "lat": [
          40.6925,
          39.64257
         ],
         "line": {
          "color": "red",
          "width": 1
         },
         "locationmode": "USA-states",
         "lon": [
          -74.16866,
          -106.9177
         ],
         "mode": "lines",
         "type": "scattergeo"
        },
        {
         "lat": [
          32.89595,
          31.32737
         ],
         "line": {
          "color": "red",
          "width": 1
         },
         "locationmode": "USA-states",
         "lon": [
          -97.0372,
          -92.54856
         ],
         "mode": "lines",
         "type": "scattergeo"
        },
        {
         "lat": [
          32.89595,
          33.45371
         ],
         "line": {
          "color": "red",
          "width": 1
         },
         "locationmode": "USA-states",
         "lon": [
          -97.0372,
          -93.99102
         ],
         "mode": "lines",
         "type": "scattergeo"
        },
        {
         "lat": [
          32.89595,
          30.40728
         ],
         "line": {
          "color": "red",
          "width": 1
         },
         "locationmode": "USA-states",
         "lon": [
          -97.0372,
          -89.07009
         ],
         "mode": "lines",
         "type": "scattergeo"
        },
        {
         "lat": [
          32.89595,
          30.58859
         ],
         "line": {
          "color": "red",
          "width": 1
         },
         "locationmode": "USA-states",
         "lon": [
          -97.0372,
          -96.36382
         ],
         "mode": "lines",
         "type": "scattergeo"
        },
        {
         "lat": [
          32.89595,
          30.58859
         ],
         "line": {
          "color": "red",
          "width": 1
         },
         "locationmode": "USA-states",
         "lon": [
          -97.0372,
          -96.36382
         ],
         "mode": "lines",
         "type": "scattergeo"
        },
        {
         "lat": [
          32.89595,
          27.54374
         ],
         "line": {
          "color": "red",
          "width": 1
         },
         "locationmode": "USA-states",
         "lon": [
          -97.0372,
          -99.46154
         ],
         "mode": "lines",
         "type": "scattergeo"
        },
        {
         "lat": [
          32.89595,
          27.54374
         ],
         "line": {
          "color": "red",
          "width": 1
         },
         "locationmode": "USA-states",
         "lon": [
          -97.0372,
          -99.46154
         ],
         "mode": "lines",
         "type": "scattergeo"
        },
        {
         "lat": [
          32.89595,
          35.33659
         ],
         "line": {
          "color": "red",
          "width": 1
         },
         "locationmode": "USA-states",
         "lon": [
          -97.0372,
          -94.36744
         ],
         "mode": "lines",
         "type": "scattergeo"
        },
        {
         "lat": [
          32.89595,
          35.21937
         ],
         "line": {
          "color": "red",
          "width": 1
         },
         "locationmode": "USA-states",
         "lon": [
          -97.0372,
          -101.70593
         ],
         "mode": "lines",
         "type": "scattergeo"
        },
        {
         "lat": [
          32.84711,
          35.21937
         ],
         "line": {
          "color": "red",
          "width": 1
         },
         "locationmode": "USA-states",
         "lon": [
          -96.85177,
          -101.70593
         ],
         "mode": "lines",
         "type": "scattergeo"
        },
        {
         "lat": [
          32.89595,
          30.47331
         ],
         "line": {
          "color": "red",
          "width": 1
         },
         "locationmode": "USA-states",
         "lon": [
          -97.0372,
          -87.18744
         ],
         "mode": "lines",
         "type": "scattergeo"
        },
        {
         "lat": [
          25.79325,
          30.47331
         ],
         "line": {
          "color": "red",
          "width": 1
         },
         "locationmode": "USA-states",
         "lon": [
          -80.29056,
          -87.18744
         ],
         "mode": "lines",
         "type": "scattergeo"
        },
        {
         "lat": [
          32.89595,
          38.81809
         ],
         "line": {
          "color": "red",
          "width": 1
         },
         "locationmode": "USA-states",
         "lon": [
          -97.0372,
          -92.21963
         ],
         "mode": "lines",
         "type": "scattergeo"
        },
        {
         "lat": [
          32.89595,
          39.84395
         ],
         "line": {
          "color": "red",
          "width": 1
         },
         "locationmode": "USA-states",
         "lon": [
          -97.0372,
          -89.67762
         ],
         "mode": "lines",
         "type": "scattergeo"
        },
        {
         "lat": [
          41.9796,
          39.84395
         ],
         "line": {
          "color": "red",
          "width": 1
         },
         "locationmode": "USA-states",
         "lon": [
          -87.90446,
          -89.67762
         ],
         "mode": "lines",
         "type": "scattergeo"
        },
        {
         "lat": [
          32.89595,
          32.51087
         ],
         "line": {
          "color": "red",
          "width": 1
         },
         "locationmode": "USA-states",
         "lon": [
          -97.0372,
          -92.03769
         ],
         "mode": "lines",
         "type": "scattergeo"
        },
        {
         "lat": [
          32.89595,
          39.12241
         ],
         "line": {
          "color": "red",
          "width": 1
         },
         "locationmode": "USA-states",
         "lon": [
          -97.0372,
          -108.52673
         ],
         "mode": "lines",
         "type": "scattergeo"
        },
        {
         "lat": [
          32.89595,
          25.90683
         ],
         "line": {
          "color": "red",
          "width": 1
         },
         "locationmode": "USA-states",
         "lon": [
          -97.0372,
          -97.42586
         ],
         "mode": "lines",
         "type": "scattergeo"
        },
        {
         "lat": [
          32.89595,
          38.03697
         ],
         "line": {
          "color": "red",
          "width": 1
         },
         "locationmode": "USA-states",
         "lon": [
          -97.0372,
          -84.60539
         ],
         "mode": "lines",
         "type": "scattergeo"
        },
        {
         "lat": [
          32.89595,
          26.17583
         ],
         "line": {
          "color": "red",
          "width": 1
         },
         "locationmode": "USA-states",
         "lon": [
          -97.0372,
          -98.23861
         ],
         "mode": "lines",
         "type": "scattergeo"
        },
        {
         "lat": [
          32.89595,
          39.14097
         ],
         "line": {
          "color": "red",
          "width": 1
         },
         "locationmode": "USA-states",
         "lon": [
          -97.0372,
          -96.67083
         ],
         "mode": "lines",
         "type": "scattergeo"
        },
        {
         "lat": [
          32.89595,
          32.35414
         ],
         "line": {
          "color": "red",
          "width": 1
         },
         "locationmode": "USA-states",
         "lon": [
          -97.0372,
          -95.40239
         ],
         "mode": "lines",
         "type": "scattergeo"
        },
        {
         "lat": [
          25.79325,
          24.55611
         ],
         "line": {
          "color": "red",
          "width": 1
         },
         "locationmode": "USA-states",
         "lon": [
          -80.29056,
          -81.75956
         ],
         "mode": "lines",
         "type": "scattergeo"
        },
        {
         "lat": [
          25.79325,
          17.70189
         ],
         "line": {
          "color": "red",
          "width": 1
         },
         "locationmode": "USA-states",
         "lon": [
          -80.29056,
          -64.79856
         ],
         "mode": "lines",
         "type": "scattergeo"
        },
        {
         "lat": [
          25.79325,
          18.33731
         ],
         "line": {
          "color": "red",
          "width": 1
         },
         "locationmode": "USA-states",
         "lon": [
          -80.29056,
          -64.97336
         ],
         "mode": "lines",
         "type": "scattergeo"
        },
        {
         "lat": [
          35.21401,
          18.33731
         ],
         "line": {
          "color": "red",
          "width": 1
         },
         "locationmode": "USA-states",
         "lon": [
          -80.94313,
          -64.97336
         ],
         "mode": "lines",
         "type": "scattergeo"
        },
        {
         "lat": [
          28.42889,
          42.93452
         ],
         "line": {
          "color": "red",
          "width": 1
         },
         "locationmode": "USA-states",
         "lon": [
          -81.31603,
          -71.43706
         ],
         "mode": "lines",
         "type": "scattergeo"
        },
        {
         "lat": [
          27.97547,
          42.9655
         ],
         "line": {
          "color": "red",
          "width": 1
         },
         "locationmode": "USA-states",
         "lon": [
          -82.53325,
          -83.74346
         ],
         "mode": "lines",
         "type": "scattergeo"
        },
        {
         "lat": [
          41.9796,
          42.9655
         ],
         "line": {
          "color": "red",
          "width": 1
         },
         "locationmode": "USA-states",
         "lon": [
          -87.90446,
          -83.74346
         ],
         "mode": "lines",
         "type": "scattergeo"
        },
        {
         "lat": [
          44.88055,
          47.3866
         ],
         "line": {
          "color": "red",
          "width": 1
         },
         "locationmode": "USA-states",
         "lon": [
          -93.21692,
          -92.83899
         ],
         "mode": "lines",
         "type": "scattergeo"
        },
        {
         "lat": [
          21.31869,
          19.72026
         ],
         "line": {
          "color": "red",
          "width": 1
         },
         "locationmode": "USA-states",
         "lon": [
          -157.92241,
          -155.04847
         ],
         "mode": "lines",
         "type": "scattergeo"
        },
        {
         "lat": [
          21.31869,
          19.72026
         ],
         "line": {
          "color": "red",
          "width": 1
         },
         "locationmode": "USA-states",
         "lon": [
          -157.92241,
          -155.04847
         ],
         "mode": "lines",
         "type": "scattergeo"
        },
        {
         "lat": [
          21.31869,
          19.72026
         ],
         "line": {
          "color": "red",
          "width": 1
         },
         "locationmode": "USA-states",
         "lon": [
          -157.92241,
          -155.04847
         ],
         "mode": "lines",
         "type": "scattergeo"
        },
        {
         "lat": [
          20.89865,
          19.72026
         ],
         "line": {
          "color": "red",
          "width": 1
         },
         "locationmode": "USA-states",
         "lon": [
          -156.43046,
          -155.04847
         ],
         "mode": "lines",
         "type": "scattergeo"
        },
        {
         "lat": [
          20.89865,
          19.72026
         ],
         "line": {
          "color": "red",
          "width": 1
         },
         "locationmode": "USA-states",
         "lon": [
          -156.43046,
          -155.04847
         ],
         "mode": "lines",
         "type": "scattergeo"
        },
        {
         "lat": [
          21.31869,
          13.48345
         ],
         "line": {
          "color": "red",
          "width": 1
         },
         "locationmode": "USA-states",
         "lon": [
          -157.92241,
          -144.79598
         ],
         "mode": "lines",
         "type": "scattergeo"
        },
        {
         "lat": [
          41.9796,
          44.48507
         ],
         "line": {
          "color": "red",
          "width": 1
         },
         "locationmode": "USA-states",
         "lon": [
          -87.90446,
          -88.12959
         ],
         "mode": "lines",
         "type": "scattergeo"
        },
        {
         "lat": [
          41.9796,
          44.48507
         ],
         "line": {
          "color": "red",
          "width": 1
         },
         "locationmode": "USA-states",
         "lon": [
          -87.90446,
          -88.12959
         ],
         "mode": "lines",
         "type": "scattergeo"
        },
        {
         "lat": [
          41.9796,
          43.11887
         ],
         "line": {
          "color": "red",
          "width": 1
         },
         "locationmode": "USA-states",
         "lon": [
          -87.90446,
          -77.67238
         ],
         "mode": "lines",
         "type": "scattergeo"
        },
        {
         "lat": [
          35.21401,
          43.11887
         ],
         "line": {
          "color": "red",
          "width": 1
         },
         "locationmode": "USA-states",
         "lon": [
          -80.94313,
          -77.67238
         ],
         "mode": "lines",
         "type": "scattergeo"
        },
        {
         "lat": [
          41.9796,
          40.03925
         ],
         "line": {
          "color": "red",
          "width": 1
         },
         "locationmode": "USA-states",
         "lon": [
          -87.90446,
          -88.27806
         ],
         "mode": "lines",
         "type": "scattergeo"
        },
        {
         "lat": [
          41.9796,
          40.03925
         ],
         "line": {
          "color": "red",
          "width": 1
         },
         "locationmode": "USA-states",
         "lon": [
          -87.90446,
          -88.27806
         ],
         "mode": "lines",
         "type": "scattergeo"
        },
        {
         "lat": [
          41.9796,
          40.03925
         ],
         "line": {
          "color": "red",
          "width": 1
         },
         "locationmode": "USA-states",
         "lon": [
          -87.90446,
          -88.27806
         ],
         "mode": "lines",
         "type": "scattergeo"
        },
        {
         "lat": [
          41.9796,
          43.53291
         ],
         "line": {
          "color": "red",
          "width": 1
         },
         "locationmode": "USA-states",
         "lon": [
          -87.90446,
          -84.07965
         ],
         "mode": "lines",
         "type": "scattergeo"
        },
        {
         "lat": [
          41.9796,
          42.55708
         ],
         "line": {
          "color": "red",
          "width": 1
         },
         "locationmode": "USA-states",
         "lon": [
          -87.90446,
          -92.40034
         ],
         "mode": "lines",
         "type": "scattergeo"
        },
        {
         "lat": [
          41.9796,
          44.77762
         ],
         "line": {
          "color": "red",
          "width": 1
         },
         "locationmode": "USA-states",
         "lon": [
          -87.90446,
          -89.66678
         ],
         "mode": "lines",
         "type": "scattergeo"
        },
        {
         "lat": [
          41.9796,
          40.1935
         ],
         "line": {
          "color": "red",
          "width": 1
         },
         "locationmode": "USA-states",
         "lon": [
          -87.90446,
          -76.7634
         ],
         "mode": "lines",
         "type": "scattergeo"
        },
        {
         "lat": [
          41.9796,
          42.4026
         ],
         "line": {
          "color": "red",
          "width": 1
         },
         "locationmode": "USA-states",
         "lon": [
          -87.90446,
          -96.38437
         ],
         "mode": "lines",
         "type": "scattergeo"
        },
        {
         "lat": [
          41.9796,
          42.4026
         ],
         "line": {
          "color": "red",
          "width": 1
         },
         "locationmode": "USA-states",
         "lon": [
          -87.90446,
          -96.38437
         ],
         "mode": "lines",
         "type": "scattergeo"
        },
        {
         "lat": [
          41.9796,
          40.97847
         ],
         "line": {
          "color": "red",
          "width": 1
         },
         "locationmode": "USA-states",
         "lon": [
          -87.90446,
          -85.19515
         ],
         "mode": "lines",
         "type": "scattergeo"
        },
        {
         "lat": [
          41.9796,
          35.43619
         ],
         "line": {
          "color": "red",
          "width": 1
         },
         "locationmode": "USA-states",
         "lon": [
          -87.90446,
          -82.54181
         ],
         "mode": "lines",
         "type": "scattergeo"
        },
        {
         "lat": [
          41.9796,
          42.74812
         ],
         "line": {
          "color": "red",
          "width": 1
         },
         "locationmode": "USA-states",
         "lon": [
          -87.90446,
          -73.80298
         ],
         "mode": "lines",
         "type": "scattergeo"
        },
        {
         "lat": [
          41.9796,
          38.03799
         ],
         "line": {
          "color": "red",
          "width": 1
         },
         "locationmode": "USA-states",
         "lon": [
          -87.90446,
          -87.53063
         ],
         "mode": "lines",
         "type": "scattergeo"
        },
        {
         "lat": [
          41.9796,
          47.16842
         ],
         "line": {
          "color": "red",
          "width": 1
         },
         "locationmode": "USA-states",
         "lon": [
          -87.90446,
          -88.48906
         ],
         "mode": "lines",
         "type": "scattergeo"
        },
        {
         "lat": [
          47.44898,
          58.35496
         ],
         "line": {
          "color": "red",
          "width": 1
         },
         "locationmode": "USA-states",
         "lon": [
          -122.30931,
          -134.57628
         ],
         "mode": "lines",
         "type": "scattergeo"
        },
        {
         "lat": [
          47.44898,
          19.73877
         ],
         "line": {
          "color": "red",
          "width": 1
         },
         "locationmode": "USA-states",
         "lon": [
          -122.30931,
          -156.04563
         ],
         "mode": "lines",
         "type": "scattergeo"
        },
        {
         "lat": [
          33.94254,
          19.73877
         ],
         "line": {
          "color": "red",
          "width": 1
         },
         "locationmode": "USA-states",
         "lon": [
          -118.40807,
          -156.04563
         ],
         "mode": "lines",
         "type": "scattergeo"
        },
        {
         "lat": [
          33.94254,
          19.73877
         ],
         "line": {
          "color": "red",
          "width": 1
         },
         "locationmode": "USA-states",
         "lon": [
          -118.40807,
          -156.04563
         ],
         "mode": "lines",
         "type": "scattergeo"
        },
        {
         "lat": [
          33.94254,
          33.12723
         ],
         "line": {
          "color": "red",
          "width": 1
         },
         "locationmode": "USA-states",
         "lon": [
          -118.40807,
          -117.27873
         ],
         "mode": "lines",
         "type": "scattergeo"
        },
        {
         "lat": [
          33.94254,
          33.12723
         ],
         "line": {
          "color": "red",
          "width": 1
         },
         "locationmode": "USA-states",
         "lon": [
          -118.40807,
          -117.27873
         ],
         "mode": "lines",
         "type": "scattergeo"
        },
        {
         "lat": [
          40.78839,
          42.37423
         ],
         "line": {
          "color": "red",
          "width": 1
         },
         "locationmode": "USA-states",
         "lon": [
          -111.97777,
          -122.8735
         ],
         "mode": "lines",
         "type": "scattergeo"
        },
        {
         "lat": [
          33.43417,
          35.13845
         ],
         "line": {
          "color": "red",
          "width": 1
         },
         "locationmode": "USA-states",
         "lon": [
          -112.00806,
          -111.67122
         ],
         "mode": "lines",
         "type": "scattergeo"
        },
        {
         "lat": [
          33.43417,
          35.13845
         ],
         "line": {
          "color": "red",
          "width": 1
         },
         "locationmode": "USA-states",
         "lon": [
          -112.00806,
          -111.67122
         ],
         "mode": "lines",
         "type": "scattergeo"
        },
        {
         "lat": [
          33.43417,
          35.4336
         ],
         "line": {
          "color": "red",
          "width": 1
         },
         "locationmode": "USA-states",
         "lon": [
          -112.00806,
          -119.05677
         ],
         "mode": "lines",
         "type": "scattergeo"
        },
        {
         "lat": [
          42.21206,
          45.57093
         ],
         "line": {
          "color": "red",
          "width": 1
         },
         "locationmode": "USA-states",
         "lon": [
          -83.34884,
          -84.79672
         ],
         "mode": "lines",
         "type": "scattergeo"
        },
        {
         "lat": [
          42.21206,
          45.57093
         ],
         "line": {
          "color": "red",
          "width": 1
         },
         "locationmode": "USA-states",
         "lon": [
          -83.34884,
          -84.79672
         ],
         "mode": "lines",
         "type": "scattergeo"
        },
        {
         "lat": [
          46.92972,
          48.11425
         ],
         "line": {
          "color": "red",
          "width": 1
         },
         "locationmode": "USA-states",
         "lon": [
          -98.6782,
          -98.90878
         ],
         "mode": "lines",
         "type": "scattergeo"
        }
       ],
       "layout": {
        "template": {
         "data": {
          "histogram2dcontour": [
           {
            "type": "histogram2dcontour",
            "colorbar": {
             "outlinewidth": 0,
             "ticks": ""
            },
            "colorscale": [
             [
              0.0,
              "#0d0887"
             ],
             [
              0.1111111111111111,
              "#46039f"
             ],
             [
              0.2222222222222222,
              "#7201a8"
             ],
             [
              0.3333333333333333,
              "#9c179e"
             ],
             [
              0.4444444444444444,
              "#bd3786"
             ],
             [
              0.5555555555555556,
              "#d8576b"
             ],
             [
              0.6666666666666666,
              "#ed7953"
             ],
             [
              0.7777777777777778,
              "#fb9f3a"
             ],
             [
              0.8888888888888888,
              "#fdca26"
             ],
             [
              1.0,
              "#f0f921"
             ]
            ]
           }
          ],
          "choropleth": [
           {
            "type": "choropleth",
            "colorbar": {
             "outlinewidth": 0,
             "ticks": ""
            }
           }
          ],
          "histogram2d": [
           {
            "type": "histogram2d",
            "colorbar": {
             "outlinewidth": 0,
             "ticks": ""
            },
            "colorscale": [
             [
              0.0,
              "#0d0887"
             ],
             [
              0.1111111111111111,
              "#46039f"
             ],
             [
              0.2222222222222222,
              "#7201a8"
             ],
             [
              0.3333333333333333,
              "#9c179e"
             ],
             [
              0.4444444444444444,
              "#bd3786"
             ],
             [
              0.5555555555555556,
              "#d8576b"
             ],
             [
              0.6666666666666666,
              "#ed7953"
             ],
             [
              0.7777777777777778,
              "#fb9f3a"
             ],
             [
              0.8888888888888888,
              "#fdca26"
             ],
             [
              1.0,
              "#f0f921"
             ]
            ]
           }
          ],
          "heatmap": [
           {
            "type": "heatmap",
            "colorbar": {
             "outlinewidth": 0,
             "ticks": ""
            },
            "colorscale": [
             [
              0.0,
              "#0d0887"
             ],
             [
              0.1111111111111111,
              "#46039f"
             ],
             [
              0.2222222222222222,
              "#7201a8"
             ],
             [
              0.3333333333333333,
              "#9c179e"
             ],
             [
              0.4444444444444444,
              "#bd3786"
             ],
             [
              0.5555555555555556,
              "#d8576b"
             ],
             [
              0.6666666666666666,
              "#ed7953"
             ],
             [
              0.7777777777777778,
              "#fb9f3a"
             ],
             [
              0.8888888888888888,
              "#fdca26"
             ],
             [
              1.0,
              "#f0f921"
             ]
            ]
           }
          ],
          "heatmapgl": [
           {
            "type": "heatmapgl",
            "colorbar": {
             "outlinewidth": 0,
             "ticks": ""
            },
            "colorscale": [
             [
              0.0,
              "#0d0887"
             ],
             [
              0.1111111111111111,
              "#46039f"
             ],
             [
              0.2222222222222222,
              "#7201a8"
             ],
             [
              0.3333333333333333,
              "#9c179e"
             ],
             [
              0.4444444444444444,
              "#bd3786"
             ],
             [
              0.5555555555555556,
              "#d8576b"
             ],
             [
              0.6666666666666666,
              "#ed7953"
             ],
             [
              0.7777777777777778,
              "#fb9f3a"
             ],
             [
              0.8888888888888888,
              "#fdca26"
             ],
             [
              1.0,
              "#f0f921"
             ]
            ]
           }
          ],
          "contourcarpet": [
           {
            "type": "contourcarpet",
            "colorbar": {
             "outlinewidth": 0,
             "ticks": ""
            }
           }
          ],
          "contour": [
           {
            "type": "contour",
            "colorbar": {
             "outlinewidth": 0,
             "ticks": ""
            },
            "colorscale": [
             [
              0.0,
              "#0d0887"
             ],
             [
              0.1111111111111111,
              "#46039f"
             ],
             [
              0.2222222222222222,
              "#7201a8"
             ],
             [
              0.3333333333333333,
              "#9c179e"
             ],
             [
              0.4444444444444444,
              "#bd3786"
             ],
             [
              0.5555555555555556,
              "#d8576b"
             ],
             [
              0.6666666666666666,
              "#ed7953"
             ],
             [
              0.7777777777777778,
              "#fb9f3a"
             ],
             [
              0.8888888888888888,
              "#fdca26"
             ],
             [
              1.0,
              "#f0f921"
             ]
            ]
           }
          ],
          "surface": [
           {
            "type": "surface",
            "colorbar": {
             "outlinewidth": 0,
             "ticks": ""
            },
            "colorscale": [
             [
              0.0,
              "#0d0887"
             ],
             [
              0.1111111111111111,
              "#46039f"
             ],
             [
              0.2222222222222222,
              "#7201a8"
             ],
             [
              0.3333333333333333,
              "#9c179e"
             ],
             [
              0.4444444444444444,
              "#bd3786"
             ],
             [
              0.5555555555555556,
              "#d8576b"
             ],
             [
              0.6666666666666666,
              "#ed7953"
             ],
             [
              0.7777777777777778,
              "#fb9f3a"
             ],
             [
              0.8888888888888888,
              "#fdca26"
             ],
             [
              1.0,
              "#f0f921"
             ]
            ]
           }
          ],
          "mesh3d": [
           {
            "type": "mesh3d",
            "colorbar": {
             "outlinewidth": 0,
             "ticks": ""
            }
           }
          ],
          "scatter": [
           {
            "fillpattern": {
             "fillmode": "overlay",
             "size": 10,
             "solidity": 0.2
            },
            "type": "scatter"
           }
          ],
          "parcoords": [
           {
            "type": "parcoords",
            "line": {
             "colorbar": {
              "outlinewidth": 0,
              "ticks": ""
             }
            }
           }
          ],
          "scatterpolargl": [
           {
            "type": "scatterpolargl",
            "marker": {
             "colorbar": {
              "outlinewidth": 0,
              "ticks": ""
             }
            }
           }
          ],
          "bar": [
           {
            "error_x": {
             "color": "#2a3f5f"
            },
            "error_y": {
             "color": "#2a3f5f"
            },
            "marker": {
             "line": {
              "color": "#E5ECF6",
              "width": 0.5
             },
             "pattern": {
              "fillmode": "overlay",
              "size": 10,
              "solidity": 0.2
             }
            },
            "type": "bar"
           }
          ],
          "scattergeo": [
           {
            "type": "scattergeo",
            "marker": {
             "colorbar": {
              "outlinewidth": 0,
              "ticks": ""
             }
            }
           }
          ],
          "scatterpolar": [
           {
            "type": "scatterpolar",
            "marker": {
             "colorbar": {
              "outlinewidth": 0,
              "ticks": ""
             }
            }
           }
          ],
          "histogram": [
           {
            "marker": {
             "pattern": {
              "fillmode": "overlay",
              "size": 10,
              "solidity": 0.2
             }
            },
            "type": "histogram"
           }
          ],
          "scattergl": [
           {
            "type": "scattergl",
            "marker": {
             "colorbar": {
              "outlinewidth": 0,
              "ticks": ""
             }
            }
           }
          ],
          "scatter3d": [
           {
            "type": "scatter3d",
            "line": {
             "colorbar": {
              "outlinewidth": 0,
              "ticks": ""
             }
            },
            "marker": {
             "colorbar": {
              "outlinewidth": 0,
              "ticks": ""
             }
            }
           }
          ],
          "scattermapbox": [
           {
            "type": "scattermapbox",
            "marker": {
             "colorbar": {
              "outlinewidth": 0,
              "ticks": ""
             }
            }
           }
          ],
          "scatterternary": [
           {
            "type": "scatterternary",
            "marker": {
             "colorbar": {
              "outlinewidth": 0,
              "ticks": ""
             }
            }
           }
          ],
          "scattercarpet": [
           {
            "type": "scattercarpet",
            "marker": {
             "colorbar": {
              "outlinewidth": 0,
              "ticks": ""
             }
            }
           }
          ],
          "carpet": [
           {
            "aaxis": {
             "endlinecolor": "#2a3f5f",
             "gridcolor": "white",
             "linecolor": "white",
             "minorgridcolor": "white",
             "startlinecolor": "#2a3f5f"
            },
            "baxis": {
             "endlinecolor": "#2a3f5f",
             "gridcolor": "white",
             "linecolor": "white",
             "minorgridcolor": "white",
             "startlinecolor": "#2a3f5f"
            },
            "type": "carpet"
           }
          ],
          "table": [
           {
            "cells": {
             "fill": {
              "color": "#EBF0F8"
             },
             "line": {
              "color": "white"
             }
            },
            "header": {
             "fill": {
              "color": "#C8D4E3"
             },
             "line": {
              "color": "white"
             }
            },
            "type": "table"
           }
          ],
          "barpolar": [
           {
            "marker": {
             "line": {
              "color": "#E5ECF6",
              "width": 0.5
             },
             "pattern": {
              "fillmode": "overlay",
              "size": 10,
              "solidity": 0.2
             }
            },
            "type": "barpolar"
           }
          ],
          "pie": [
           {
            "automargin": true,
            "type": "pie"
           }
          ]
         },
         "layout": {
          "autotypenumbers": "strict",
          "colorway": [
           "#636efa",
           "#EF553B",
           "#00cc96",
           "#ab63fa",
           "#FFA15A",
           "#19d3f3",
           "#FF6692",
           "#B6E880",
           "#FF97FF",
           "#FECB52"
          ],
          "font": {
           "color": "#2a3f5f"
          },
          "hovermode": "closest",
          "hoverlabel": {
           "align": "left"
          },
          "paper_bgcolor": "white",
          "plot_bgcolor": "#E5ECF6",
          "polar": {
           "bgcolor": "#E5ECF6",
           "angularaxis": {
            "gridcolor": "white",
            "linecolor": "white",
            "ticks": ""
           },
           "radialaxis": {
            "gridcolor": "white",
            "linecolor": "white",
            "ticks": ""
           }
          },
          "ternary": {
           "bgcolor": "#E5ECF6",
           "aaxis": {
            "gridcolor": "white",
            "linecolor": "white",
            "ticks": ""
           },
           "baxis": {
            "gridcolor": "white",
            "linecolor": "white",
            "ticks": ""
           },
           "caxis": {
            "gridcolor": "white",
            "linecolor": "white",
            "ticks": ""
           }
          },
          "coloraxis": {
           "colorbar": {
            "outlinewidth": 0,
            "ticks": ""
           }
          },
          "colorscale": {
           "sequential": [
            [
             0.0,
             "#0d0887"
            ],
            [
             0.1111111111111111,
             "#46039f"
            ],
            [
             0.2222222222222222,
             "#7201a8"
            ],
            [
             0.3333333333333333,
             "#9c179e"
            ],
            [
             0.4444444444444444,
             "#bd3786"
            ],
            [
             0.5555555555555556,
             "#d8576b"
            ],
            [
             0.6666666666666666,
             "#ed7953"
            ],
            [
             0.7777777777777778,
             "#fb9f3a"
            ],
            [
             0.8888888888888888,
             "#fdca26"
            ],
            [
             1.0,
             "#f0f921"
            ]
           ],
           "sequentialminus": [
            [
             0.0,
             "#0d0887"
            ],
            [
             0.1111111111111111,
             "#46039f"
            ],
            [
             0.2222222222222222,
             "#7201a8"
            ],
            [
             0.3333333333333333,
             "#9c179e"
            ],
            [
             0.4444444444444444,
             "#bd3786"
            ],
            [
             0.5555555555555556,
             "#d8576b"
            ],
            [
             0.6666666666666666,
             "#ed7953"
            ],
            [
             0.7777777777777778,
             "#fb9f3a"
            ],
            [
             0.8888888888888888,
             "#fdca26"
            ],
            [
             1.0,
             "#f0f921"
            ]
           ],
           "diverging": [
            [
             0,
             "#8e0152"
            ],
            [
             0.1,
             "#c51b7d"
            ],
            [
             0.2,
             "#de77ae"
            ],
            [
             0.3,
             "#f1b6da"
            ],
            [
             0.4,
             "#fde0ef"
            ],
            [
             0.5,
             "#f7f7f7"
            ],
            [
             0.6,
             "#e6f5d0"
            ],
            [
             0.7,
             "#b8e186"
            ],
            [
             0.8,
             "#7fbc41"
            ],
            [
             0.9,
             "#4d9221"
            ],
            [
             1,
             "#276419"
            ]
           ]
          },
          "xaxis": {
           "gridcolor": "white",
           "linecolor": "white",
           "ticks": "",
           "title": {
            "standoff": 15
           },
           "zerolinecolor": "white",
           "automargin": true,
           "zerolinewidth": 2
          },
          "yaxis": {
           "gridcolor": "white",
           "linecolor": "white",
           "ticks": "",
           "title": {
            "standoff": 15
           },
           "zerolinecolor": "white",
           "automargin": true,
           "zerolinewidth": 2
          },
          "scene": {
           "xaxis": {
            "backgroundcolor": "#E5ECF6",
            "gridcolor": "white",
            "linecolor": "white",
            "showbackground": true,
            "ticks": "",
            "zerolinecolor": "white",
            "gridwidth": 2
           },
           "yaxis": {
            "backgroundcolor": "#E5ECF6",
            "gridcolor": "white",
            "linecolor": "white",
            "showbackground": true,
            "ticks": "",
            "zerolinecolor": "white",
            "gridwidth": 2
           },
           "zaxis": {
            "backgroundcolor": "#E5ECF6",
            "gridcolor": "white",
            "linecolor": "white",
            "showbackground": true,
            "ticks": "",
            "zerolinecolor": "white",
            "gridwidth": 2
           }
          },
          "shapedefaults": {
           "line": {
            "color": "#2a3f5f"
           }
          },
          "annotationdefaults": {
           "arrowcolor": "#2a3f5f",
           "arrowhead": 0,
           "arrowwidth": 1
          },
          "geo": {
           "bgcolor": "white",
           "landcolor": "#E5ECF6",
           "subunitcolor": "white",
           "showland": true,
           "showlakes": true,
           "lakecolor": "white"
          },
          "title": {
           "x": 0.05
          },
          "mapbox": {
           "style": "light"
          }
         }
        },
        "title": {
         "text": "Delayed flight on Jan 1, 2015 in USA"
        },
        "showlegend": false,
        "geo": {
         "scope": "usa"
        }
       },
       "config": {
        "plotlyServerURL": "https://plot.ly"
       }
      },
      "text/html": "<div>                            <div id=\"9092631f-8747-480a-b82f-bea8d9c58b78\" class=\"plotly-graph-div\" style=\"height:525px; width:100%;\"></div>            <script type=\"text/javascript\">                require([\"plotly\"], function(Plotly) {                    window.PLOTLYENV=window.PLOTLYENV || {};                                    if (document.getElementById(\"9092631f-8747-480a-b82f-bea8d9c58b78\")) {                    Plotly.newPlot(                        \"9092631f-8747-480a-b82f-bea8d9c58b78\",                        [{\"lat\":[36.08036,21.31869],\"line\":{\"color\":\"red\",\"width\":1},\"locationmode\":\"USA-states\",\"lon\":[-115.15233,-157.92241],\"mode\":\"lines\",\"type\":\"scattergeo\"},{\"lat\":[36.08036,21.31869],\"line\":{\"color\":\"red\",\"width\":1},\"locationmode\":\"USA-states\",\"lon\":[-115.15233,-157.92241],\"mode\":\"lines\",\"type\":\"scattergeo\"},{\"lat\":[29.98047,21.31869],\"line\":{\"color\":\"red\",\"width\":1},\"locationmode\":\"USA-states\",\"lon\":[-95.33972,-157.92241],\"mode\":\"lines\",\"type\":\"scattergeo\"},{\"lat\":[39.85841,21.31869],\"line\":{\"color\":\"red\",\"width\":1},\"locationmode\":\"USA-states\",\"lon\":[-104.667,-157.92241],\"mode\":\"lines\",\"type\":\"scattergeo\"},{\"lat\":[37.619,21.31869],\"line\":{\"color\":\"red\",\"width\":1},\"locationmode\":\"USA-states\",\"lon\":[-122.37484,-157.92241],\"mode\":\"lines\",\"type\":\"scattergeo\"},{\"lat\":[37.619,21.31869],\"line\":{\"color\":\"red\",\"width\":1},\"locationmode\":\"USA-states\",\"lon\":[-122.37484,-157.92241],\"mode\":\"lines\",\"type\":\"scattergeo\"},{\"lat\":[37.619,21.31869],\"line\":{\"color\":\"red\",\"width\":1},\"locationmode\":\"USA-states\",\"lon\":[-122.37484,-157.92241],\"mode\":\"lines\",\"type\":\"scattergeo\"},{\"lat\":[38.69542,21.31869],\"line\":{\"color\":\"red\",\"width\":1},\"locationmode\":\"USA-states\",\"lon\":[-121.59077,-157.92241],\"mode\":\"lines\",\"type\":\"scattergeo\"},{\"lat\":[32.89595,21.31869],\"line\":{\"color\":\"red\",\"width\":1},\"locationmode\":\"USA-states\",\"lon\":[-97.0372,-157.92241],\"mode\":\"lines\",\"type\":\"scattergeo\"},{\"lat\":[32.89595,21.31869],\"line\":{\"color\":\"red\",\"width\":1},\"locationmode\":\"USA-states\",\"lon\":[-97.0372,-157.92241],\"mode\":\"lines\",\"type\":\"scattergeo\"},{\"lat\":[32.73356,21.31869],\"line\":{\"color\":\"red\",\"width\":1},\"locationmode\":\"USA-states\",\"lon\":[-117.18966,-157.92241],\"mode\":\"lines\",\"type\":\"scattergeo\"},{\"lat\":[21.97598,21.31869],\"line\":{\"color\":\"red\",\"width\":1},\"locationmode\":\"USA-states\",\"lon\":[-159.33896,-157.92241],\"mode\":\"lines\",\"type\":\"scattergeo\"},{\"lat\":[21.97598,21.31869],\"line\":{\"color\":\"red\",\"width\":1},\"locationmode\":\"USA-states\",\"lon\":[-159.33896,-157.92241],\"mode\":\"lines\",\"type\":\"scattergeo\"},{\"lat\":[21.97598,21.31869],\"line\":{\"color\":\"red\",\"width\":1},\"locationmode\":\"USA-states\",\"lon\":[-159.33896,-157.92241],\"mode\":\"lines\",\"type\":\"scattergeo\"},{\"lat\":[21.97598,21.31869],\"line\":{\"color\":\"red\",\"width\":1},\"locationmode\":\"USA-states\",\"lon\":[-159.33896,-157.92241],\"mode\":\"lines\",\"type\":\"scattergeo\"},{\"lat\":[21.97598,21.31869],\"line\":{\"color\":\"red\",\"width\":1},\"locationmode\":\"USA-states\",\"lon\":[-159.33896,-157.92241],\"mode\":\"lines\",\"type\":\"scattergeo\"},{\"lat\":[13.48345,21.31869],\"line\":{\"color\":\"red\",\"width\":1},\"locationmode\":\"USA-states\",\"lon\":[-144.79598,-157.92241],\"mode\":\"lines\",\"type\":\"scattergeo\"},{\"lat\":[33.94254,21.31869],\"line\":{\"color\":\"red\",\"width\":1},\"locationmode\":\"USA-states\",\"lon\":[-118.40807,-157.92241],\"mode\":\"lines\",\"type\":\"scattergeo\"},{\"lat\":[33.94254,21.31869],\"line\":{\"color\":\"red\",\"width\":1},\"locationmode\":\"USA-states\",\"lon\":[-118.40807,-157.92241],\"mode\":\"lines\",\"type\":\"scattergeo\"},{\"lat\":[33.94254,21.31869],\"line\":{\"color\":\"red\",\"width\":1},\"locationmode\":\"USA-states\",\"lon\":[-118.40807,-157.92241],\"mode\":\"lines\",\"type\":\"scattergeo\"},{\"lat\":[33.94254,21.31869],\"line\":{\"color\":\"red\",\"width\":1},\"locationmode\":\"USA-states\",\"lon\":[-118.40807,-157.92241],\"mode\":\"lines\",\"type\":\"scattergeo\"},{\"lat\":[33.94254,21.31869],\"line\":{\"color\":\"red\",\"width\":1},\"locationmode\":\"USA-states\",\"lon\":[-118.40807,-157.92241],\"mode\":\"lines\",\"type\":\"scattergeo\"},{\"lat\":[33.94254,21.31869],\"line\":{\"color\":\"red\",\"width\":1},\"locationmode\":\"USA-states\",\"lon\":[-118.40807,-157.92241],\"mode\":\"lines\",\"type\":\"scattergeo\"},{\"lat\":[33.43417,21.31869],\"line\":{\"color\":\"red\",\"width\":1},\"locationmode\":\"USA-states\",\"lon\":[-112.00806,-157.92241],\"mode\":\"lines\",\"type\":\"scattergeo\"},{\"lat\":[19.72026,21.31869],\"line\":{\"color\":\"red\",\"width\":1},\"locationmode\":\"USA-states\",\"lon\":[-155.04847,-157.92241],\"mode\":\"lines\",\"type\":\"scattergeo\"},{\"lat\":[19.72026,21.31869],\"line\":{\"color\":\"red\",\"width\":1},\"locationmode\":\"USA-states\",\"lon\":[-155.04847,-157.92241],\"mode\":\"lines\",\"type\":\"scattergeo\"},{\"lat\":[19.72026,21.31869],\"line\":{\"color\":\"red\",\"width\":1},\"locationmode\":\"USA-states\",\"lon\":[-155.04847,-157.92241],\"mode\":\"lines\",\"type\":\"scattergeo\"},{\"lat\":[19.72026,21.31869],\"line\":{\"color\":\"red\",\"width\":1},\"locationmode\":\"USA-states\",\"lon\":[-155.04847,-157.92241],\"mode\":\"lines\",\"type\":\"scattergeo\"},{\"lat\":[20.89865,21.31869],\"line\":{\"color\":\"red\",\"width\":1},\"locationmode\":\"USA-states\",\"lon\":[-156.43046,-157.92241],\"mode\":\"lines\",\"type\":\"scattergeo\"},{\"lat\":[20.89865,21.31869],\"line\":{\"color\":\"red\",\"width\":1},\"locationmode\":\"USA-states\",\"lon\":[-156.43046,-157.92241],\"mode\":\"lines\",\"type\":\"scattergeo\"},{\"lat\":[20.89865,21.31869],\"line\":{\"color\":\"red\",\"width\":1},\"locationmode\":\"USA-states\",\"lon\":[-156.43046,-157.92241],\"mode\":\"lines\",\"type\":\"scattergeo\"},{\"lat\":[20.89865,21.31869],\"line\":{\"color\":\"red\",\"width\":1},\"locationmode\":\"USA-states\",\"lon\":[-156.43046,-157.92241],\"mode\":\"lines\",\"type\":\"scattergeo\"},{\"lat\":[37.36186,21.31869],\"line\":{\"color\":\"red\",\"width\":1},\"locationmode\":\"USA-states\",\"lon\":[-121.92901,-157.92241],\"mode\":\"lines\",\"type\":\"scattergeo\"},{\"lat\":[36.08036,32.89595],\"line\":{\"color\":\"red\",\"width\":1},\"locationmode\":\"USA-states\",\"lon\":[-115.15233,-97.0372],\"mode\":\"lines\",\"type\":\"scattergeo\"},{\"lat\":[36.08036,32.89595],\"line\":{\"color\":\"red\",\"width\":1},\"locationmode\":\"USA-states\",\"lon\":[-115.15233,-97.0372],\"mode\":\"lines\",\"type\":\"scattergeo\"},{\"lat\":[36.08036,32.89595],\"line\":{\"color\":\"red\",\"width\":1},\"locationmode\":\"USA-states\",\"lon\":[-115.15233,-97.0372],\"mode\":\"lines\",\"type\":\"scattergeo\"},{\"lat\":[36.08036,32.89595],\"line\":{\"color\":\"red\",\"width\":1},\"locationmode\":\"USA-states\",\"lon\":[-115.15233,-97.0372],\"mode\":\"lines\",\"type\":\"scattergeo\"},{\"lat\":[29.98047,32.89595],\"line\":{\"color\":\"red\",\"width\":1},\"locationmode\":\"USA-states\",\"lon\":[-95.33972,-97.0372],\"mode\":\"lines\",\"type\":\"scattergeo\"},{\"lat\":[39.85841,32.89595],\"line\":{\"color\":\"red\",\"width\":1},\"locationmode\":\"USA-states\",\"lon\":[-104.667,-97.0372],\"mode\":\"lines\",\"type\":\"scattergeo\"},{\"lat\":[39.85841,32.89595],\"line\":{\"color\":\"red\",\"width\":1},\"locationmode\":\"USA-states\",\"lon\":[-104.667,-97.0372],\"mode\":\"lines\",\"type\":\"scattergeo\"},{\"lat\":[39.85841,32.89595],\"line\":{\"color\":\"red\",\"width\":1},\"locationmode\":\"USA-states\",\"lon\":[-104.667,-97.0372],\"mode\":\"lines\",\"type\":\"scattergeo\"},{\"lat\":[39.85841,32.89595],\"line\":{\"color\":\"red\",\"width\":1},\"locationmode\":\"USA-states\",\"lon\":[-104.667,-97.0372],\"mode\":\"lines\",\"type\":\"scattergeo\"},{\"lat\":[39.85841,32.89595],\"line\":{\"color\":\"red\",\"width\":1},\"locationmode\":\"USA-states\",\"lon\":[-104.667,-97.0372],\"mode\":\"lines\",\"type\":\"scattergeo\"},{\"lat\":[37.619,32.89595],\"line\":{\"color\":\"red\",\"width\":1},\"locationmode\":\"USA-states\",\"lon\":[-122.37484,-97.0372],\"mode\":\"lines\",\"type\":\"scattergeo\"},{\"lat\":[40.63975,32.89595],\"line\":{\"color\":\"red\",\"width\":1},\"locationmode\":\"USA-states\",\"lon\":[-73.77893,-97.0372],\"mode\":\"lines\",\"type\":\"scattergeo\"},{\"lat\":[38.69542,32.89595],\"line\":{\"color\":\"red\",\"width\":1},\"locationmode\":\"USA-states\",\"lon\":[-121.59077,-97.0372],\"mode\":\"lines\",\"type\":\"scattergeo\"},{\"lat\":[38.69542,32.89595],\"line\":{\"color\":\"red\",\"width\":1},\"locationmode\":\"USA-states\",\"lon\":[-121.59077,-97.0372],\"mode\":\"lines\",\"type\":\"scattergeo\"},{\"lat\":[38.69542,32.89595],\"line\":{\"color\":\"red\",\"width\":1},\"locationmode\":\"USA-states\",\"lon\":[-121.59077,-97.0372],\"mode\":\"lines\",\"type\":\"scattergeo\"},{\"lat\":[42.94722,32.89595],\"line\":{\"color\":\"red\",\"width\":1},\"locationmode\":\"USA-states\",\"lon\":[-87.89658,-97.0372],\"mode\":\"lines\",\"type\":\"scattergeo\"},{\"lat\":[41.41089,32.89595],\"line\":{\"color\":\"red\",\"width\":1},\"locationmode\":\"USA-states\",\"lon\":[-81.8494,-97.0372],\"mode\":\"lines\",\"type\":\"scattergeo\"},{\"lat\":[35.04022,32.89595],\"line\":{\"color\":\"red\",\"width\":1},\"locationmode\":\"USA-states\",\"lon\":[-106.60919,-97.0372],\"mode\":\"lines\",\"type\":\"scattergeo\"},{\"lat\":[40.77724,32.89595],\"line\":{\"color\":\"red\",\"width\":1},\"locationmode\":\"USA-states\",\"lon\":[-73.87261,-97.0372],\"mode\":\"lines\",\"type\":\"scattergeo\"},{\"lat\":[40.77724,32.89595],\"line\":{\"color\":\"red\",\"width\":1},\"locationmode\":\"USA-states\",\"lon\":[-73.87261,-97.0372],\"mode\":\"lines\",\"type\":\"scattergeo\"},{\"lat\":[35.39309,32.89595],\"line\":{\"color\":\"red\",\"width\":1},\"locationmode\":\"USA-states\",\"lon\":[-97.60073,-97.0372],\"mode\":\"lines\",\"type\":\"scattergeo\"},{\"lat\":[33.64044,32.89595],\"line\":{\"color\":\"red\",\"width\":1},\"locationmode\":\"USA-states\",\"lon\":[-84.42694,-97.0372],\"mode\":\"lines\",\"type\":\"scattergeo\"},{\"lat\":[40.6925,32.89595],\"line\":{\"color\":\"red\",\"width\":1},\"locationmode\":\"USA-states\",\"lon\":[-74.16866,-97.0372],\"mode\":\"lines\",\"type\":\"scattergeo\"},{\"lat\":[40.6925,32.89595],\"line\":{\"color\":\"red\",\"width\":1},\"locationmode\":\"USA-states\",\"lon\":[-74.16866,-97.0372],\"mode\":\"lines\",\"type\":\"scattergeo\"},{\"lat\":[25.79325,32.89595],\"line\":{\"color\":\"red\",\"width\":1},\"locationmode\":\"USA-states\",\"lon\":[-80.29056,-97.0372],\"mode\":\"lines\",\"type\":\"scattergeo\"},{\"lat\":[34.56771,32.89595],\"line\":{\"color\":\"red\",\"width\":1},\"locationmode\":\"USA-states\",\"lon\":[-98.41664,-97.0372],\"mode\":\"lines\",\"type\":\"scattergeo\"},{\"lat\":[34.56771,32.89595],\"line\":{\"color\":\"red\",\"width\":1},\"locationmode\":\"USA-states\",\"lon\":[-98.41664,-97.0372],\"mode\":\"lines\",\"type\":\"scattergeo\"},{\"lat\":[38.85208,32.89595],\"line\":{\"color\":\"red\",\"width\":1},\"locationmode\":\"USA-states\",\"lon\":[-77.03772,-97.0372],\"mode\":\"lines\",\"type\":\"scattergeo\"},{\"lat\":[33.93884,32.89595],\"line\":{\"color\":\"red\",\"width\":1},\"locationmode\":\"USA-states\",\"lon\":[-81.11954,-97.0372],\"mode\":\"lines\",\"type\":\"scattergeo\"},{\"lat\":[39.87195,32.89595],\"line\":{\"color\":\"red\",\"width\":1},\"locationmode\":\"USA-states\",\"lon\":[-75.24114,-97.0372],\"mode\":\"lines\",\"type\":\"scattergeo\"},{\"lat\":[39.87195,32.89595],\"line\":{\"color\":\"red\",\"width\":1},\"locationmode\":\"USA-states\",\"lon\":[-75.24114,-97.0372],\"mode\":\"lines\",\"type\":\"scattergeo\"},{\"lat\":[39.87195,32.89595],\"line\":{\"color\":\"red\",\"width\":1},\"locationmode\":\"USA-states\",\"lon\":[-75.24114,-97.0372],\"mode\":\"lines\",\"type\":\"scattergeo\"},{\"lat\":[44.88055,32.89595],\"line\":{\"color\":\"red\",\"width\":1},\"locationmode\":\"USA-states\",\"lon\":[-93.21692,-97.0372],\"mode\":\"lines\",\"type\":\"scattergeo\"},{\"lat\":[44.88055,32.89595],\"line\":{\"color\":\"red\",\"width\":1},\"locationmode\":\"USA-states\",\"lon\":[-93.21692,-97.0372],\"mode\":\"lines\",\"type\":\"scattergeo\"},{\"lat\":[36.77619,32.89595],\"line\":{\"color\":\"red\",\"width\":1},\"locationmode\":\"USA-states\",\"lon\":[-119.71814,-97.0372],\"mode\":\"lines\",\"type\":\"scattergeo\"},{\"lat\":[42.36435,32.89595],\"line\":{\"color\":\"red\",\"width\":1},\"locationmode\":\"USA-states\",\"lon\":[-71.00518,-97.0372],\"mode\":\"lines\",\"type\":\"scattergeo\"},{\"lat\":[39.71733,32.89595],\"line\":{\"color\":\"red\",\"width\":1},\"locationmode\":\"USA-states\",\"lon\":[-86.29438,-97.0372],\"mode\":\"lines\",\"type\":\"scattergeo\"},{\"lat\":[34.056,32.89595],\"line\":{\"color\":\"red\",\"width\":1},\"locationmode\":\"USA-states\",\"lon\":[-117.60119,-97.0372],\"mode\":\"lines\",\"type\":\"scattergeo\"},{\"lat\":[39.22316,32.89595],\"line\":{\"color\":\"red\",\"width\":1},\"locationmode\":\"USA-states\",\"lon\":[-106.86885,-97.0372],\"mode\":\"lines\",\"type\":\"scattergeo\"},{\"lat\":[41.9796,32.89595],\"line\":{\"color\":\"red\",\"width\":1},\"locationmode\":\"USA-states\",\"lon\":[-87.90446,-97.0372],\"mode\":\"lines\",\"type\":\"scattergeo\"},{\"lat\":[41.9796,32.89595],\"line\":{\"color\":\"red\",\"width\":1},\"locationmode\":\"USA-states\",\"lon\":[-87.90446,-97.0372],\"mode\":\"lines\",\"type\":\"scattergeo\"},{\"lat\":[41.9796,32.89595],\"line\":{\"color\":\"red\",\"width\":1},\"locationmode\":\"USA-states\",\"lon\":[-87.90446,-97.0372],\"mode\":\"lines\",\"type\":\"scattergeo\"},{\"lat\":[41.9796,32.89595],\"line\":{\"color\":\"red\",\"width\":1},\"locationmode\":\"USA-states\",\"lon\":[-87.90446,-97.0372],\"mode\":\"lines\",\"type\":\"scattergeo\"},{\"lat\":[41.9796,32.89595],\"line\":{\"color\":\"red\",\"width\":1},\"locationmode\":\"USA-states\",\"lon\":[-87.90446,-97.0372],\"mode\":\"lines\",\"type\":\"scattergeo\"},{\"lat\":[41.9796,32.89595],\"line\":{\"color\":\"red\",\"width\":1},\"locationmode\":\"USA-states\",\"lon\":[-87.90446,-97.0372],\"mode\":\"lines\",\"type\":\"scattergeo\"},{\"lat\":[41.9796,32.89595],\"line\":{\"color\":\"red\",\"width\":1},\"locationmode\":\"USA-states\",\"lon\":[-87.90446,-97.0372],\"mode\":\"lines\",\"type\":\"scattergeo\"},{\"lat\":[41.9796,32.89595],\"line\":{\"color\":\"red\",\"width\":1},\"locationmode\":\"USA-states\",\"lon\":[-87.90446,-97.0372],\"mode\":\"lines\",\"type\":\"scattergeo\"},{\"lat\":[41.9796,32.89595],\"line\":{\"color\":\"red\",\"width\":1},\"locationmode\":\"USA-states\",\"lon\":[-87.90446,-97.0372],\"mode\":\"lines\",\"type\":\"scattergeo\"},{\"lat\":[41.9796,32.89595],\"line\":{\"color\":\"red\",\"width\":1},\"locationmode\":\"USA-states\",\"lon\":[-87.90446,-97.0372],\"mode\":\"lines\",\"type\":\"scattergeo\"},{\"lat\":[41.9796,32.89595],\"line\":{\"color\":\"red\",\"width\":1},\"locationmode\":\"USA-states\",\"lon\":[-87.90446,-97.0372],\"mode\":\"lines\",\"type\":\"scattergeo\"},{\"lat\":[47.44898,32.89595],\"line\":{\"color\":\"red\",\"width\":1},\"locationmode\":\"USA-states\",\"lon\":[-122.30931,-97.0372],\"mode\":\"lines\",\"type\":\"scattergeo\"},{\"lat\":[33.94254,32.89595],\"line\":{\"color\":\"red\",\"width\":1},\"locationmode\":\"USA-states\",\"lon\":[-118.40807,-97.0372],\"mode\":\"lines\",\"type\":\"scattergeo\"},{\"lat\":[33.94254,32.89595],\"line\":{\"color\":\"red\",\"width\":1},\"locationmode\":\"USA-states\",\"lon\":[-118.40807,-97.0372],\"mode\":\"lines\",\"type\":\"scattergeo\"},{\"lat\":[33.94254,32.89595],\"line\":{\"color\":\"red\",\"width\":1},\"locationmode\":\"USA-states\",\"lon\":[-118.40807,-97.0372],\"mode\":\"lines\",\"type\":\"scattergeo\"},{\"lat\":[33.94254,32.89595],\"line\":{\"color\":\"red\",\"width\":1},\"locationmode\":\"USA-states\",\"lon\":[-118.40807,-97.0372],\"mode\":\"lines\",\"type\":\"scattergeo\"},{\"lat\":[44.04532,32.89595],\"line\":{\"color\":\"red\",\"width\":1},\"locationmode\":\"USA-states\",\"lon\":[-103.05737,-97.0372],\"mode\":\"lines\",\"type\":\"scattergeo\"},{\"lat\":[40.78839,32.89595],\"line\":{\"color\":\"red\",\"width\":1},\"locationmode\":\"USA-states\",\"lon\":[-111.97777,-97.0372],\"mode\":\"lines\",\"type\":\"scattergeo\"},{\"lat\":[40.78839,32.89595],\"line\":{\"color\":\"red\",\"width\":1},\"locationmode\":\"USA-states\",\"lon\":[-111.97777,-97.0372],\"mode\":\"lines\",\"type\":\"scattergeo\"},{\"lat\":[32.44663,32.89595],\"line\":{\"color\":\"red\",\"width\":1},\"locationmode\":\"USA-states\",\"lon\":[-93.8256,-97.0372],\"mode\":\"lines\",\"type\":\"scattergeo\"},{\"lat\":[32.44663,32.89595],\"line\":{\"color\":\"red\",\"width\":1},\"locationmode\":\"USA-states\",\"lon\":[-93.8256,-97.0372],\"mode\":\"lines\",\"type\":\"scattergeo\"},{\"lat\":[35.81249,32.89595],\"line\":{\"color\":\"red\",\"width\":1},\"locationmode\":\"USA-states\",\"lon\":[-83.99286,-97.0372],\"mode\":\"lines\",\"type\":\"scattergeo\"},{\"lat\":[35.81249,32.89595],\"line\":{\"color\":\"red\",\"width\":1},\"locationmode\":\"USA-states\",\"lon\":[-83.99286,-97.0372],\"mode\":\"lines\",\"type\":\"scattergeo\"},{\"lat\":[33.43417,32.89595],\"line\":{\"color\":\"red\",\"width\":1},\"locationmode\":\"USA-states\",\"lon\":[-112.00806,-97.0372],\"mode\":\"lines\",\"type\":\"scattergeo\"},{\"lat\":[33.43417,32.89595],\"line\":{\"color\":\"red\",\"width\":1},\"locationmode\":\"USA-states\",\"lon\":[-112.00806,-97.0372],\"mode\":\"lines\",\"type\":\"scattergeo\"},{\"lat\":[33.43417,32.89595],\"line\":{\"color\":\"red\",\"width\":1},\"locationmode\":\"USA-states\",\"lon\":[-112.00806,-97.0372],\"mode\":\"lines\",\"type\":\"scattergeo\"},{\"lat\":[33.43417,32.89595],\"line\":{\"color\":\"red\",\"width\":1},\"locationmode\":\"USA-states\",\"lon\":[-112.00806,-97.0372],\"mode\":\"lines\",\"type\":\"scattergeo\"},{\"lat\":[36.19837,32.89595],\"line\":{\"color\":\"red\",\"width\":1},\"locationmode\":\"USA-states\",\"lon\":[-95.88824,-97.0372],\"mode\":\"lines\",\"type\":\"scattergeo\"},{\"lat\":[32.12758,32.89595],\"line\":{\"color\":\"red\",\"width\":1},\"locationmode\":\"USA-states\",\"lon\":[-81.20214,-97.0372],\"mode\":\"lines\",\"type\":\"scattergeo\"},{\"lat\":[26.53617,32.89595],\"line\":{\"color\":\"red\",\"width\":1},\"locationmode\":\"USA-states\",\"lon\":[-81.75517,-97.0372],\"mode\":\"lines\",\"type\":\"scattergeo\"},{\"lat\":[38.74769,32.89595],\"line\":{\"color\":\"red\",\"width\":1},\"locationmode\":\"USA-states\",\"lon\":[-90.35999,-97.0372],\"mode\":\"lines\",\"type\":\"scattergeo\"},{\"lat\":[33.66364,32.89595],\"line\":{\"color\":\"red\",\"width\":1},\"locationmode\":\"USA-states\",\"lon\":[-101.82278,-97.0372],\"mode\":\"lines\",\"type\":\"scattergeo\"},{\"lat\":[33.67566,32.89595],\"line\":{\"color\":\"red\",\"width\":1},\"locationmode\":\"USA-states\",\"lon\":[-117.86822,-97.0372],\"mode\":\"lines\",\"type\":\"scattergeo\"},{\"lat\":[33.67566,32.89595],\"line\":{\"color\":\"red\",\"width\":1},\"locationmode\":\"USA-states\",\"lon\":[-117.86822,-97.0372],\"mode\":\"lines\",\"type\":\"scattergeo\"},{\"lat\":[41.88459,32.89595],\"line\":{\"color\":\"red\",\"width\":1},\"locationmode\":\"USA-states\",\"lon\":[-91.71087,-97.0372],\"mode\":\"lines\",\"type\":\"scattergeo\"},{\"lat\":[35.21401,32.89595],\"line\":{\"color\":\"red\",\"width\":1},\"locationmode\":\"USA-states\",\"lon\":[-80.94313,-97.0372],\"mode\":\"lines\",\"type\":\"scattergeo\"},{\"lat\":[35.21401,32.89595],\"line\":{\"color\":\"red\",\"width\":1},\"locationmode\":\"USA-states\",\"lon\":[-80.94313,-97.0372],\"mode\":\"lines\",\"type\":\"scattergeo\"},{\"lat\":[20.89865,32.89595],\"line\":{\"color\":\"red\",\"width\":1},\"locationmode\":\"USA-states\",\"lon\":[-156.43046,-97.0372],\"mode\":\"lines\",\"type\":\"scattergeo\"},{\"lat\":[37.36186,32.89595],\"line\":{\"color\":\"red\",\"width\":1},\"locationmode\":\"USA-states\",\"lon\":[-121.92901,-97.0372],\"mode\":\"lines\",\"type\":\"scattergeo\"},{\"lat\":[37.36186,32.89595],\"line\":{\"color\":\"red\",\"width\":1},\"locationmode\":\"USA-states\",\"lon\":[-121.92901,-97.0372],\"mode\":\"lines\",\"type\":\"scattergeo\"},{\"lat\":[40.48118,32.89595],\"line\":{\"color\":\"red\",\"width\":1},\"locationmode\":\"USA-states\",\"lon\":[-107.21766,-97.0372],\"mode\":\"lines\",\"type\":\"scattergeo\"},{\"lat\":[40.48118,32.89595],\"line\":{\"color\":\"red\",\"width\":1},\"locationmode\":\"USA-states\",\"lon\":[-107.21766,-97.0372],\"mode\":\"lines\",\"type\":\"scattergeo\"},{\"lat\":[29.99339,32.89595],\"line\":{\"color\":\"red\",\"width\":1},\"locationmode\":\"USA-states\",\"lon\":[-90.25803,-97.0372],\"mode\":\"lines\",\"type\":\"scattergeo\"},{\"lat\":[29.95083,32.89595],\"line\":{\"color\":\"red\",\"width\":1},\"locationmode\":\"USA-states\",\"lon\":[-94.02069,-97.0372],\"mode\":\"lines\",\"type\":\"scattergeo\"},{\"lat\":[32.38486,32.89595],\"line\":{\"color\":\"red\",\"width\":1},\"locationmode\":\"USA-states\",\"lon\":[-94.71171,-97.0372],\"mode\":\"lines\",\"type\":\"scattergeo\"},{\"lat\":[35.04242,32.89595],\"line\":{\"color\":\"red\",\"width\":1},\"locationmode\":\"USA-states\",\"lon\":[-89.97667,-97.0372],\"mode\":\"lines\",\"type\":\"scattergeo\"},{\"lat\":[30.69142,32.89595],\"line\":{\"color\":\"red\",\"width\":1},\"locationmode\":\"USA-states\",\"lon\":[-88.24283,-97.0372],\"mode\":\"lines\",\"type\":\"scattergeo\"},{\"lat\":[30.69142,32.89595],\"line\":{\"color\":\"red\",\"width\":1},\"locationmode\":\"USA-states\",\"lon\":[-88.24283,-97.0372],\"mode\":\"lines\",\"type\":\"scattergeo\"},{\"lat\":[43.58135,32.89595],\"line\":{\"color\":\"red\",\"width\":1},\"locationmode\":\"USA-states\",\"lon\":[-96.7417,-97.0372],\"mode\":\"lines\",\"type\":\"scattergeo\"},{\"lat\":[43.58135,32.89595],\"line\":{\"color\":\"red\",\"width\":1},\"locationmode\":\"USA-states\",\"lon\":[-96.7417,-97.0372],\"mode\":\"lines\",\"type\":\"scattergeo\"},{\"lat\":[38.80581,32.89595],\"line\":{\"color\":\"red\",\"width\":1},\"locationmode\":\"USA-states\",\"lon\":[-104.70025,-97.0372],\"mode\":\"lines\",\"type\":\"scattergeo\"},{\"lat\":[39.64257,32.89595],\"line\":{\"color\":\"red\",\"width\":1},\"locationmode\":\"USA-states\",\"lon\":[-106.9177,-97.0372],\"mode\":\"lines\",\"type\":\"scattergeo\"},{\"lat\":[39.64257,32.89595],\"line\":{\"color\":\"red\",\"width\":1},\"locationmode\":\"USA-states\",\"lon\":[-106.9177,-97.0372],\"mode\":\"lines\",\"type\":\"scattergeo\"},{\"lat\":[38.53396,32.89595],\"line\":{\"color\":\"red\",\"width\":1},\"locationmode\":\"USA-states\",\"lon\":[-106.93318,-97.0372],\"mode\":\"lines\",\"type\":\"scattergeo\"},{\"lat\":[27.77036,32.89595],\"line\":{\"color\":\"red\",\"width\":1},\"locationmode\":\"USA-states\",\"lon\":[-97.50122,-97.0372],\"mode\":\"lines\",\"type\":\"scattergeo\"},{\"lat\":[36.28187,32.89595],\"line\":{\"color\":\"red\",\"width\":1},\"locationmode\":\"USA-states\",\"lon\":[-94.30681,-97.0372],\"mode\":\"lines\",\"type\":\"scattergeo\"},{\"lat\":[36.12448,32.89595],\"line\":{\"color\":\"red\",\"width\":1},\"locationmode\":\"USA-states\",\"lon\":[-86.67818,-97.0372],\"mode\":\"lines\",\"type\":\"scattergeo\"},{\"lat\":[30.58859,32.89595],\"line\":{\"color\":\"red\",\"width\":1},\"locationmode\":\"USA-states\",\"lon\":[-96.36382,-97.0372],\"mode\":\"lines\",\"type\":\"scattergeo\"},{\"lat\":[42.88082,32.89595],\"line\":{\"color\":\"red\",\"width\":1},\"locationmode\":\"USA-states\",\"lon\":[-85.52277,-97.0372],\"mode\":\"lines\",\"type\":\"scattergeo\"},{\"lat\":[37.15152,32.89595],\"line\":{\"color\":\"red\",\"width\":1},\"locationmode\":\"USA-states\",\"lon\":[-107.75377,-97.0372],\"mode\":\"lines\",\"type\":\"scattergeo\"},{\"lat\":[30.48325,32.89595],\"line\":{\"color\":\"red\",\"width\":1},\"locationmode\":\"USA-states\",\"lon\":[-86.5254,-97.0372],\"mode\":\"lines\",\"type\":\"scattergeo\"},{\"lat\":[35.21937,32.89595],\"line\":{\"color\":\"red\",\"width\":1},\"locationmode\":\"USA-states\",\"lon\":[-101.70593,-97.0372],\"mode\":\"lines\",\"type\":\"scattergeo\"},{\"lat\":[30.53316,32.89595],\"line\":{\"color\":\"red\",\"width\":1},\"locationmode\":\"USA-states\",\"lon\":[-91.14963,-97.0372],\"mode\":\"lines\",\"type\":\"scattergeo\"},{\"lat\":[31.46715,32.89595],\"line\":{\"color\":\"red\",\"width\":1},\"locationmode\":\"USA-states\",\"lon\":[-89.33706,-97.0372],\"mode\":\"lines\",\"type\":\"scattergeo\"},{\"lat\":[32.51087,32.89595],\"line\":{\"color\":\"red\",\"width\":1},\"locationmode\":\"USA-states\",\"lon\":[-92.03769,-97.0372],\"mode\":\"lines\",\"type\":\"scattergeo\"},{\"lat\":[38.03799,32.89595],\"line\":{\"color\":\"red\",\"width\":1},\"locationmode\":\"USA-states\",\"lon\":[-87.53063,-97.0372],\"mode\":\"lines\",\"type\":\"scattergeo\"},{\"lat\":[37.15181,32.89595],\"line\":{\"color\":\"red\",\"width\":1},\"locationmode\":\"USA-states\",\"lon\":[-94.49827,-97.0372],\"mode\":\"lines\",\"type\":\"scattergeo\"},{\"lat\":[31.0649,32.89595],\"line\":{\"color\":\"red\",\"width\":1},\"locationmode\":\"USA-states\",\"lon\":[-97.8278,-97.0372],\"mode\":\"lines\",\"type\":\"scattergeo\"},{\"lat\":[31.0649,32.89595],\"line\":{\"color\":\"red\",\"width\":1},\"locationmode\":\"USA-states\",\"lon\":[-97.8278,-97.0372],\"mode\":\"lines\",\"type\":\"scattergeo\"},{\"lat\":[32.30064,32.89595],\"line\":{\"color\":\"red\",\"width\":1},\"locationmode\":\"USA-states\",\"lon\":[-86.39398,-97.0372],\"mode\":\"lines\",\"type\":\"scattergeo\"},{\"lat\":[34.89567,32.89595],\"line\":{\"color\":\"red\",\"width\":1},\"locationmode\":\"USA-states\",\"lon\":[-82.21886,-97.0372],\"mode\":\"lines\",\"type\":\"scattergeo\"},{\"lat\":[35.03527,32.89595],\"line\":{\"color\":\"red\",\"width\":1},\"locationmode\":\"USA-states\",\"lon\":[-85.20379,-97.0372],\"mode\":\"lines\",\"type\":\"scattergeo\"},{\"lat\":[35.33659,32.89595],\"line\":{\"color\":\"red\",\"width\":1},\"locationmode\":\"USA-states\",\"lon\":[-94.36744,-97.0372],\"mode\":\"lines\",\"type\":\"scattergeo\"},{\"lat\":[25.90683,32.89595],\"line\":{\"color\":\"red\",\"width\":1},\"locationmode\":\"USA-states\",\"lon\":[-97.42586,-97.0372],\"mode\":\"lines\",\"type\":\"scattergeo\"},{\"lat\":[36.08036,44.88055],\"line\":{\"color\":\"red\",\"width\":1},\"locationmode\":\"USA-states\",\"lon\":[-115.15233,-93.21692],\"mode\":\"lines\",\"type\":\"scattergeo\"},{\"lat\":[39.85841,44.88055],\"line\":{\"color\":\"red\",\"width\":1},\"locationmode\":\"USA-states\",\"lon\":[-104.667,-93.21692],\"mode\":\"lines\",\"type\":\"scattergeo\"},{\"lat\":[39.85841,44.88055],\"line\":{\"color\":\"red\",\"width\":1},\"locationmode\":\"USA-states\",\"lon\":[-104.667,-93.21692],\"mode\":\"lines\",\"type\":\"scattergeo\"},{\"lat\":[39.85841,44.88055],\"line\":{\"color\":\"red\",\"width\":1},\"locationmode\":\"USA-states\",\"lon\":[-104.667,-93.21692],\"mode\":\"lines\",\"type\":\"scattergeo\"},{\"lat\":[40.63975,44.88055],\"line\":{\"color\":\"red\",\"width\":1},\"locationmode\":\"USA-states\",\"lon\":[-73.77893,-93.21692],\"mode\":\"lines\",\"type\":\"scattergeo\"},{\"lat\":[40.63975,44.88055],\"line\":{\"color\":\"red\",\"width\":1},\"locationmode\":\"USA-states\",\"lon\":[-73.77893,-93.21692],\"mode\":\"lines\",\"type\":\"scattergeo\"},{\"lat\":[42.94722,44.88055],\"line\":{\"color\":\"red\",\"width\":1},\"locationmode\":\"USA-states\",\"lon\":[-87.89658,-93.21692],\"mode\":\"lines\",\"type\":\"scattergeo\"},{\"lat\":[39.1754,44.88055],\"line\":{\"color\":\"red\",\"width\":1},\"locationmode\":\"USA-states\",\"lon\":[-76.6682,-93.21692],\"mode\":\"lines\",\"type\":\"scattergeo\"},{\"lat\":[33.64044,44.88055],\"line\":{\"color\":\"red\",\"width\":1},\"locationmode\":\"USA-states\",\"lon\":[-84.42694,-93.21692],\"mode\":\"lines\",\"type\":\"scattergeo\"},{\"lat\":[32.89595,44.88055],\"line\":{\"color\":\"red\",\"width\":1},\"locationmode\":\"USA-states\",\"lon\":[-97.0372,-93.21692],\"mode\":\"lines\",\"type\":\"scattergeo\"},{\"lat\":[32.89595,44.88055],\"line\":{\"color\":\"red\",\"width\":1},\"locationmode\":\"USA-states\",\"lon\":[-97.0372,-93.21692],\"mode\":\"lines\",\"type\":\"scattergeo\"},{\"lat\":[25.79325,44.88055],\"line\":{\"color\":\"red\",\"width\":1},\"locationmode\":\"USA-states\",\"lon\":[-80.29056,-93.21692],\"mode\":\"lines\",\"type\":\"scattergeo\"},{\"lat\":[41.9796,44.88055],\"line\":{\"color\":\"red\",\"width\":1},\"locationmode\":\"USA-states\",\"lon\":[-87.90446,-93.21692],\"mode\":\"lines\",\"type\":\"scattergeo\"},{\"lat\":[41.9796,44.88055],\"line\":{\"color\":\"red\",\"width\":1},\"locationmode\":\"USA-states\",\"lon\":[-87.90446,-93.21692],\"mode\":\"lines\",\"type\":\"scattergeo\"},{\"lat\":[33.94254,44.88055],\"line\":{\"color\":\"red\",\"width\":1},\"locationmode\":\"USA-states\",\"lon\":[-118.40807,-93.21692],\"mode\":\"lines\",\"type\":\"scattergeo\"},{\"lat\":[40.78839,44.88055],\"line\":{\"color\":\"red\",\"width\":1},\"locationmode\":\"USA-states\",\"lon\":[-111.97777,-93.21692],\"mode\":\"lines\",\"type\":\"scattergeo\"},{\"lat\":[33.43417,44.88055],\"line\":{\"color\":\"red\",\"width\":1},\"locationmode\":\"USA-states\",\"lon\":[-112.00806,-93.21692],\"mode\":\"lines\",\"type\":\"scattergeo\"},{\"lat\":[35.21401,44.88055],\"line\":{\"color\":\"red\",\"width\":1},\"locationmode\":\"USA-states\",\"lon\":[-80.94313,-93.21692],\"mode\":\"lines\",\"type\":\"scattergeo\"},{\"lat\":[36.08036,31.80667],\"line\":{\"color\":\"red\",\"width\":1},\"locationmode\":\"USA-states\",\"lon\":[-115.15233,-106.37781],\"mode\":\"lines\",\"type\":\"scattergeo\"},{\"lat\":[32.89595,31.80667],\"line\":{\"color\":\"red\",\"width\":1},\"locationmode\":\"USA-states\",\"lon\":[-97.0372,-106.37781],\"mode\":\"lines\",\"type\":\"scattergeo\"},{\"lat\":[29.53369,31.80667],\"line\":{\"color\":\"red\",\"width\":1},\"locationmode\":\"USA-states\",\"lon\":[-98.46978,-106.37781],\"mode\":\"lines\",\"type\":\"scattergeo\"},{\"lat\":[41.9796,31.80667],\"line\":{\"color\":\"red\",\"width\":1},\"locationmode\":\"USA-states\",\"lon\":[-87.90446,-106.37781],\"mode\":\"lines\",\"type\":\"scattergeo\"},{\"lat\":[33.94254,31.80667],\"line\":{\"color\":\"red\",\"width\":1},\"locationmode\":\"USA-states\",\"lon\":[-118.40807,-106.37781],\"mode\":\"lines\",\"type\":\"scattergeo\"},{\"lat\":[33.43417,31.80667],\"line\":{\"color\":\"red\",\"width\":1},\"locationmode\":\"USA-states\",\"lon\":[-112.00806,-106.37781],\"mode\":\"lines\",\"type\":\"scattergeo\"},{\"lat\":[33.43417,31.80667],\"line\":{\"color\":\"red\",\"width\":1},\"locationmode\":\"USA-states\",\"lon\":[-112.00806,-106.37781],\"mode\":\"lines\",\"type\":\"scattergeo\"},{\"lat\":[32.84711,31.80667],\"line\":{\"color\":\"red\",\"width\":1},\"locationmode\":\"USA-states\",\"lon\":[-96.85177,-106.37781],\"mode\":\"lines\",\"type\":\"scattergeo\"},{\"lat\":[36.08036,39.85841],\"line\":{\"color\":\"red\",\"width\":1},\"locationmode\":\"USA-states\",\"lon\":[-115.15233,-104.667],\"mode\":\"lines\",\"type\":\"scattergeo\"},{\"lat\":[36.08036,39.85841],\"line\":{\"color\":\"red\",\"width\":1},\"locationmode\":\"USA-states\",\"lon\":[-115.15233,-104.667],\"mode\":\"lines\",\"type\":\"scattergeo\"},{\"lat\":[36.08036,39.85841],\"line\":{\"color\":\"red\",\"width\":1},\"locationmode\":\"USA-states\",\"lon\":[-115.15233,-104.667],\"mode\":\"lines\",\"type\":\"scattergeo\"},{\"lat\":[45.58872,39.85841],\"line\":{\"color\":\"red\",\"width\":1},\"locationmode\":\"USA-states\",\"lon\":[-122.5975,-104.667],\"mode\":\"lines\",\"type\":\"scattergeo\"},{\"lat\":[45.58872,39.85841],\"line\":{\"color\":\"red\",\"width\":1},\"locationmode\":\"USA-states\",\"lon\":[-122.5975,-104.667],\"mode\":\"lines\",\"type\":\"scattergeo\"},{\"lat\":[45.58872,39.85841],\"line\":{\"color\":\"red\",\"width\":1},\"locationmode\":\"USA-states\",\"lon\":[-122.5975,-104.667],\"mode\":\"lines\",\"type\":\"scattergeo\"},{\"lat\":[29.98047,39.85841],\"line\":{\"color\":\"red\",\"width\":1},\"locationmode\":\"USA-states\",\"lon\":[-95.33972,-104.667],\"mode\":\"lines\",\"type\":\"scattergeo\"},{\"lat\":[29.98047,39.85841],\"line\":{\"color\":\"red\",\"width\":1},\"locationmode\":\"USA-states\",\"lon\":[-95.33972,-104.667],\"mode\":\"lines\",\"type\":\"scattergeo\"},{\"lat\":[29.98047,39.85841],\"line\":{\"color\":\"red\",\"width\":1},\"locationmode\":\"USA-states\",\"lon\":[-95.33972,-104.667],\"mode\":\"lines\",\"type\":\"scattergeo\"},{\"lat\":[29.98047,39.85841],\"line\":{\"color\":\"red\",\"width\":1},\"locationmode\":\"USA-states\",\"lon\":[-95.33972,-104.667],\"mode\":\"lines\",\"type\":\"scattergeo\"},{\"lat\":[37.619,39.85841],\"line\":{\"color\":\"red\",\"width\":1},\"locationmode\":\"USA-states\",\"lon\":[-122.37484,-104.667],\"mode\":\"lines\",\"type\":\"scattergeo\"},{\"lat\":[37.619,39.85841],\"line\":{\"color\":\"red\",\"width\":1},\"locationmode\":\"USA-states\",\"lon\":[-122.37484,-104.667],\"mode\":\"lines\",\"type\":\"scattergeo\"},{\"lat\":[37.619,39.85841],\"line\":{\"color\":\"red\",\"width\":1},\"locationmode\":\"USA-states\",\"lon\":[-122.37484,-104.667],\"mode\":\"lines\",\"type\":\"scattergeo\"},{\"lat\":[37.619,39.85841],\"line\":{\"color\":\"red\",\"width\":1},\"locationmode\":\"USA-states\",\"lon\":[-122.37484,-104.667],\"mode\":\"lines\",\"type\":\"scattergeo\"},{\"lat\":[37.619,39.85841],\"line\":{\"color\":\"red\",\"width\":1},\"locationmode\":\"USA-states\",\"lon\":[-122.37484,-104.667],\"mode\":\"lines\",\"type\":\"scattergeo\"},{\"lat\":[37.619,39.85841],\"line\":{\"color\":\"red\",\"width\":1},\"locationmode\":\"USA-states\",\"lon\":[-122.37484,-104.667],\"mode\":\"lines\",\"type\":\"scattergeo\"},{\"lat\":[37.619,39.85841],\"line\":{\"color\":\"red\",\"width\":1},\"locationmode\":\"USA-states\",\"lon\":[-122.37484,-104.667],\"mode\":\"lines\",\"type\":\"scattergeo\"},{\"lat\":[37.619,39.85841],\"line\":{\"color\":\"red\",\"width\":1},\"locationmode\":\"USA-states\",\"lon\":[-122.37484,-104.667],\"mode\":\"lines\",\"type\":\"scattergeo\"},{\"lat\":[38.69542,39.85841],\"line\":{\"color\":\"red\",\"width\":1},\"locationmode\":\"USA-states\",\"lon\":[-121.59077,-104.667],\"mode\":\"lines\",\"type\":\"scattergeo\"},{\"lat\":[38.69542,39.85841],\"line\":{\"color\":\"red\",\"width\":1},\"locationmode\":\"USA-states\",\"lon\":[-121.59077,-104.667],\"mode\":\"lines\",\"type\":\"scattergeo\"},{\"lat\":[38.69542,39.85841],\"line\":{\"color\":\"red\",\"width\":1},\"locationmode\":\"USA-states\",\"lon\":[-121.59077,-104.667],\"mode\":\"lines\",\"type\":\"scattergeo\"},{\"lat\":[38.69542,39.85841],\"line\":{\"color\":\"red\",\"width\":1},\"locationmode\":\"USA-states\",\"lon\":[-121.59077,-104.667],\"mode\":\"lines\",\"type\":\"scattergeo\"},{\"lat\":[38.69542,39.85841],\"line\":{\"color\":\"red\",\"width\":1},\"locationmode\":\"USA-states\",\"lon\":[-121.59077,-104.667],\"mode\":\"lines\",\"type\":\"scattergeo\"},{\"lat\":[42.94722,39.85841],\"line\":{\"color\":\"red\",\"width\":1},\"locationmode\":\"USA-states\",\"lon\":[-87.89658,-104.667],\"mode\":\"lines\",\"type\":\"scattergeo\"},{\"lat\":[42.94722,39.85841],\"line\":{\"color\":\"red\",\"width\":1},\"locationmode\":\"USA-states\",\"lon\":[-87.89658,-104.667],\"mode\":\"lines\",\"type\":\"scattergeo\"},{\"lat\":[41.41089,39.85841],\"line\":{\"color\":\"red\",\"width\":1},\"locationmode\":\"USA-states\",\"lon\":[-81.8494,-104.667],\"mode\":\"lines\",\"type\":\"scattergeo\"},{\"lat\":[35.4336,39.85841],\"line\":{\"color\":\"red\",\"width\":1},\"locationmode\":\"USA-states\",\"lon\":[-119.05677,-104.667],\"mode\":\"lines\",\"type\":\"scattergeo\"},{\"lat\":[41.30252,39.85841],\"line\":{\"color\":\"red\",\"width\":1},\"locationmode\":\"USA-states\",\"lon\":[-95.89417,-104.667],\"mode\":\"lines\",\"type\":\"scattergeo\"},{\"lat\":[35.04022,39.85841],\"line\":{\"color\":\"red\",\"width\":1},\"locationmode\":\"USA-states\",\"lon\":[-106.60919,-104.667],\"mode\":\"lines\",\"type\":\"scattergeo\"},{\"lat\":[39.1754,39.85841],\"line\":{\"color\":\"red\",\"width\":1},\"locationmode\":\"USA-states\",\"lon\":[-76.6682,-104.667],\"mode\":\"lines\",\"type\":\"scattergeo\"},{\"lat\":[35.39309,39.85841],\"line\":{\"color\":\"red\",\"width\":1},\"locationmode\":\"USA-states\",\"lon\":[-97.60073,-104.667],\"mode\":\"lines\",\"type\":\"scattergeo\"},{\"lat\":[33.64044,39.85841],\"line\":{\"color\":\"red\",\"width\":1},\"locationmode\":\"USA-states\",\"lon\":[-84.42694,-104.667],\"mode\":\"lines\",\"type\":\"scattergeo\"},{\"lat\":[33.64044,39.85841],\"line\":{\"color\":\"red\",\"width\":1},\"locationmode\":\"USA-states\",\"lon\":[-84.42694,-104.667],\"mode\":\"lines\",\"type\":\"scattergeo\"},{\"lat\":[43.56444,39.85841],\"line\":{\"color\":\"red\",\"width\":1},\"locationmode\":\"USA-states\",\"lon\":[-116.22278,-104.667],\"mode\":\"lines\",\"type\":\"scattergeo\"},{\"lat\":[32.11608,39.85841],\"line\":{\"color\":\"red\",\"width\":1},\"locationmode\":\"USA-states\",\"lon\":[-110.94103,-104.667],\"mode\":\"lines\",\"type\":\"scattergeo\"},{\"lat\":[32.11608,39.85841],\"line\":{\"color\":\"red\",\"width\":1},\"locationmode\":\"USA-states\",\"lon\":[-110.94103,-104.667],\"mode\":\"lines\",\"type\":\"scattergeo\"},{\"lat\":[32.11608,39.85841],\"line\":{\"color\":\"red\",\"width\":1},\"locationmode\":\"USA-states\",\"lon\":[-110.94103,-104.667],\"mode\":\"lines\",\"type\":\"scattergeo\"},{\"lat\":[32.11608,39.85841],\"line\":{\"color\":\"red\",\"width\":1},\"locationmode\":\"USA-states\",\"lon\":[-110.94103,-104.667],\"mode\":\"lines\",\"type\":\"scattergeo\"},{\"lat\":[32.89595,39.85841],\"line\":{\"color\":\"red\",\"width\":1},\"locationmode\":\"USA-states\",\"lon\":[-97.0372,-104.667],\"mode\":\"lines\",\"type\":\"scattergeo\"},{\"lat\":[32.89595,39.85841],\"line\":{\"color\":\"red\",\"width\":1},\"locationmode\":\"USA-states\",\"lon\":[-97.0372,-104.667],\"mode\":\"lines\",\"type\":\"scattergeo\"},{\"lat\":[32.89595,39.85841],\"line\":{\"color\":\"red\",\"width\":1},\"locationmode\":\"USA-states\",\"lon\":[-97.0372,-104.667],\"mode\":\"lines\",\"type\":\"scattergeo\"},{\"lat\":[32.89595,39.85841],\"line\":{\"color\":\"red\",\"width\":1},\"locationmode\":\"USA-states\",\"lon\":[-97.0372,-104.667],\"mode\":\"lines\",\"type\":\"scattergeo\"},{\"lat\":[32.89595,39.85841],\"line\":{\"color\":\"red\",\"width\":1},\"locationmode\":\"USA-states\",\"lon\":[-97.0372,-104.667],\"mode\":\"lines\",\"type\":\"scattergeo\"},{\"lat\":[32.89595,39.85841],\"line\":{\"color\":\"red\",\"width\":1},\"locationmode\":\"USA-states\",\"lon\":[-97.0372,-104.667],\"mode\":\"lines\",\"type\":\"scattergeo\"},{\"lat\":[40.6925,39.85841],\"line\":{\"color\":\"red\",\"width\":1},\"locationmode\":\"USA-states\",\"lon\":[-74.16866,-104.667],\"mode\":\"lines\",\"type\":\"scattergeo\"},{\"lat\":[40.6925,39.85841],\"line\":{\"color\":\"red\",\"width\":1},\"locationmode\":\"USA-states\",\"lon\":[-74.16866,-104.667],\"mode\":\"lines\",\"type\":\"scattergeo\"},{\"lat\":[39.99799,39.85841],\"line\":{\"color\":\"red\",\"width\":1},\"locationmode\":\"USA-states\",\"lon\":[-82.89188,-104.667],\"mode\":\"lines\",\"type\":\"scattergeo\"},{\"lat\":[38.85208,39.85841],\"line\":{\"color\":\"red\",\"width\":1},\"locationmode\":\"USA-states\",\"lon\":[-77.03772,-104.667],\"mode\":\"lines\",\"type\":\"scattergeo\"},{\"lat\":[28.42889,39.85841],\"line\":{\"color\":\"red\",\"width\":1},\"locationmode\":\"USA-states\",\"lon\":[-81.31603,-104.667],\"mode\":\"lines\",\"type\":\"scattergeo\"},{\"lat\":[28.42889,39.85841],\"line\":{\"color\":\"red\",\"width\":1},\"locationmode\":\"USA-states\",\"lon\":[-81.31603,-104.667],\"mode\":\"lines\",\"type\":\"scattergeo\"},{\"lat\":[28.42889,39.85841],\"line\":{\"color\":\"red\",\"width\":1},\"locationmode\":\"USA-states\",\"lon\":[-81.31603,-104.667],\"mode\":\"lines\",\"type\":\"scattergeo\"},{\"lat\":[28.42889,39.85841],\"line\":{\"color\":\"red\",\"width\":1},\"locationmode\":\"USA-states\",\"lon\":[-81.31603,-104.667],\"mode\":\"lines\",\"type\":\"scattergeo\"},{\"lat\":[39.87195,39.85841],\"line\":{\"color\":\"red\",\"width\":1},\"locationmode\":\"USA-states\",\"lon\":[-75.24114,-104.667],\"mode\":\"lines\",\"type\":\"scattergeo\"},{\"lat\":[27.97547,39.85841],\"line\":{\"color\":\"red\",\"width\":1},\"locationmode\":\"USA-states\",\"lon\":[-82.53325,-104.667],\"mode\":\"lines\",\"type\":\"scattergeo\"},{\"lat\":[36.77619,39.85841],\"line\":{\"color\":\"red\",\"width\":1},\"locationmode\":\"USA-states\",\"lon\":[-119.71814,-104.667],\"mode\":\"lines\",\"type\":\"scattergeo\"},{\"lat\":[42.36435,39.85841],\"line\":{\"color\":\"red\",\"width\":1},\"locationmode\":\"USA-states\",\"lon\":[-71.00518,-104.667],\"mode\":\"lines\",\"type\":\"scattergeo\"},{\"lat\":[42.36435,39.85841],\"line\":{\"color\":\"red\",\"width\":1},\"locationmode\":\"USA-states\",\"lon\":[-71.00518,-104.667],\"mode\":\"lines\",\"type\":\"scattergeo\"},{\"lat\":[42.36435,39.85841],\"line\":{\"color\":\"red\",\"width\":1},\"locationmode\":\"USA-states\",\"lon\":[-71.00518,-104.667],\"mode\":\"lines\",\"type\":\"scattergeo\"},{\"lat\":[32.73356,39.85841],\"line\":{\"color\":\"red\",\"width\":1},\"locationmode\":\"USA-states\",\"lon\":[-117.18966,-104.667],\"mode\":\"lines\",\"type\":\"scattergeo\"},{\"lat\":[32.73356,39.85841],\"line\":{\"color\":\"red\",\"width\":1},\"locationmode\":\"USA-states\",\"lon\":[-117.18966,-104.667],\"mode\":\"lines\",\"type\":\"scattergeo\"},{\"lat\":[29.53369,39.85841],\"line\":{\"color\":\"red\",\"width\":1},\"locationmode\":\"USA-states\",\"lon\":[-98.46978,-104.667],\"mode\":\"lines\",\"type\":\"scattergeo\"},{\"lat\":[39.71733,39.85841],\"line\":{\"color\":\"red\",\"width\":1},\"locationmode\":\"USA-states\",\"lon\":[-86.29438,-104.667],\"mode\":\"lines\",\"type\":\"scattergeo\"},{\"lat\":[34.056,39.85841],\"line\":{\"color\":\"red\",\"width\":1},\"locationmode\":\"USA-states\",\"lon\":[-117.60119,-104.667],\"mode\":\"lines\",\"type\":\"scattergeo\"},{\"lat\":[39.22316,39.85841],\"line\":{\"color\":\"red\",\"width\":1},\"locationmode\":\"USA-states\",\"lon\":[-106.86885,-104.667],\"mode\":\"lines\",\"type\":\"scattergeo\"},{\"lat\":[39.22316,39.85841],\"line\":{\"color\":\"red\",\"width\":1},\"locationmode\":\"USA-states\",\"lon\":[-106.86885,-104.667],\"mode\":\"lines\",\"type\":\"scattergeo\"},{\"lat\":[39.22316,39.85841],\"line\":{\"color\":\"red\",\"width\":1},\"locationmode\":\"USA-states\",\"lon\":[-106.86885,-104.667],\"mode\":\"lines\",\"type\":\"scattergeo\"},{\"lat\":[41.9796,39.85841],\"line\":{\"color\":\"red\",\"width\":1},\"locationmode\":\"USA-states\",\"lon\":[-87.90446,-104.667],\"mode\":\"lines\",\"type\":\"scattergeo\"},{\"lat\":[41.9796,39.85841],\"line\":{\"color\":\"red\",\"width\":1},\"locationmode\":\"USA-states\",\"lon\":[-87.90446,-104.667],\"mode\":\"lines\",\"type\":\"scattergeo\"},{\"lat\":[41.9796,39.85841],\"line\":{\"color\":\"red\",\"width\":1},\"locationmode\":\"USA-states\",\"lon\":[-87.90446,-104.667],\"mode\":\"lines\",\"type\":\"scattergeo\"},{\"lat\":[41.9796,39.85841],\"line\":{\"color\":\"red\",\"width\":1},\"locationmode\":\"USA-states\",\"lon\":[-87.90446,-104.667],\"mode\":\"lines\",\"type\":\"scattergeo\"},{\"lat\":[41.9796,39.85841],\"line\":{\"color\":\"red\",\"width\":1},\"locationmode\":\"USA-states\",\"lon\":[-87.90446,-104.667],\"mode\":\"lines\",\"type\":\"scattergeo\"},{\"lat\":[47.44898,39.85841],\"line\":{\"color\":\"red\",\"width\":1},\"locationmode\":\"USA-states\",\"lon\":[-122.30931,-104.667],\"mode\":\"lines\",\"type\":\"scattergeo\"},{\"lat\":[47.44898,39.85841],\"line\":{\"color\":\"red\",\"width\":1},\"locationmode\":\"USA-states\",\"lon\":[-122.30931,-104.667],\"mode\":\"lines\",\"type\":\"scattergeo\"},{\"lat\":[47.44898,39.85841],\"line\":{\"color\":\"red\",\"width\":1},\"locationmode\":\"USA-states\",\"lon\":[-122.30931,-104.667],\"mode\":\"lines\",\"type\":\"scattergeo\"},{\"lat\":[47.44898,39.85841],\"line\":{\"color\":\"red\",\"width\":1},\"locationmode\":\"USA-states\",\"lon\":[-122.30931,-104.667],\"mode\":\"lines\",\"type\":\"scattergeo\"},{\"lat\":[47.44898,39.85841],\"line\":{\"color\":\"red\",\"width\":1},\"locationmode\":\"USA-states\",\"lon\":[-122.30931,-104.667],\"mode\":\"lines\",\"type\":\"scattergeo\"},{\"lat\":[37.72129,39.85841],\"line\":{\"color\":\"red\",\"width\":1},\"locationmode\":\"USA-states\",\"lon\":[-122.22072,-104.667],\"mode\":\"lines\",\"type\":\"scattergeo\"},{\"lat\":[33.94254,39.85841],\"line\":{\"color\":\"red\",\"width\":1},\"locationmode\":\"USA-states\",\"lon\":[-118.40807,-104.667],\"mode\":\"lines\",\"type\":\"scattergeo\"},{\"lat\":[33.94254,39.85841],\"line\":{\"color\":\"red\",\"width\":1},\"locationmode\":\"USA-states\",\"lon\":[-118.40807,-104.667],\"mode\":\"lines\",\"type\":\"scattergeo\"},{\"lat\":[33.94254,39.85841],\"line\":{\"color\":\"red\",\"width\":1},\"locationmode\":\"USA-states\",\"lon\":[-118.40807,-104.667],\"mode\":\"lines\",\"type\":\"scattergeo\"},{\"lat\":[33.94254,39.85841],\"line\":{\"color\":\"red\",\"width\":1},\"locationmode\":\"USA-states\",\"lon\":[-118.40807,-104.667],\"mode\":\"lines\",\"type\":\"scattergeo\"},{\"lat\":[33.94254,39.85841],\"line\":{\"color\":\"red\",\"width\":1},\"locationmode\":\"USA-states\",\"lon\":[-118.40807,-104.667],\"mode\":\"lines\",\"type\":\"scattergeo\"},{\"lat\":[33.94254,39.85841],\"line\":{\"color\":\"red\",\"width\":1},\"locationmode\":\"USA-states\",\"lon\":[-118.40807,-104.667],\"mode\":\"lines\",\"type\":\"scattergeo\"},{\"lat\":[33.94254,39.85841],\"line\":{\"color\":\"red\",\"width\":1},\"locationmode\":\"USA-states\",\"lon\":[-118.40807,-104.667],\"mode\":\"lines\",\"type\":\"scattergeo\"},{\"lat\":[40.78839,39.85841],\"line\":{\"color\":\"red\",\"width\":1},\"locationmode\":\"USA-states\",\"lon\":[-111.97777,-104.667],\"mode\":\"lines\",\"type\":\"scattergeo\"},{\"lat\":[40.78839,39.85841],\"line\":{\"color\":\"red\",\"width\":1},\"locationmode\":\"USA-states\",\"lon\":[-111.97777,-104.667],\"mode\":\"lines\",\"type\":\"scattergeo\"},{\"lat\":[40.78839,39.85841],\"line\":{\"color\":\"red\",\"width\":1},\"locationmode\":\"USA-states\",\"lon\":[-111.97777,-104.667],\"mode\":\"lines\",\"type\":\"scattergeo\"},{\"lat\":[40.78839,39.85841],\"line\":{\"color\":\"red\",\"width\":1},\"locationmode\":\"USA-states\",\"lon\":[-111.97777,-104.667],\"mode\":\"lines\",\"type\":\"scattergeo\"},{\"lat\":[34.20062,39.85841],\"line\":{\"color\":\"red\",\"width\":1},\"locationmode\":\"USA-states\",\"lon\":[-118.3585,-104.667],\"mode\":\"lines\",\"type\":\"scattergeo\"},{\"lat\":[35.81249,39.85841],\"line\":{\"color\":\"red\",\"width\":1},\"locationmode\":\"USA-states\",\"lon\":[-83.99286,-104.667],\"mode\":\"lines\",\"type\":\"scattergeo\"},{\"lat\":[33.43417,39.85841],\"line\":{\"color\":\"red\",\"width\":1},\"locationmode\":\"USA-states\",\"lon\":[-112.00806,-104.667],\"mode\":\"lines\",\"type\":\"scattergeo\"},{\"lat\":[33.43417,39.85841],\"line\":{\"color\":\"red\",\"width\":1},\"locationmode\":\"USA-states\",\"lon\":[-112.00806,-104.667],\"mode\":\"lines\",\"type\":\"scattergeo\"},{\"lat\":[33.43417,39.85841],\"line\":{\"color\":\"red\",\"width\":1},\"locationmode\":\"USA-states\",\"lon\":[-112.00806,-104.667],\"mode\":\"lines\",\"type\":\"scattergeo\"},{\"lat\":[33.43417,39.85841],\"line\":{\"color\":\"red\",\"width\":1},\"locationmode\":\"USA-states\",\"lon\":[-112.00806,-104.667],\"mode\":\"lines\",\"type\":\"scattergeo\"},{\"lat\":[36.19837,39.85841],\"line\":{\"color\":\"red\",\"width\":1},\"locationmode\":\"USA-states\",\"lon\":[-95.88824,-104.667],\"mode\":\"lines\",\"type\":\"scattergeo\"},{\"lat\":[41.78598,39.85841],\"line\":{\"color\":\"red\",\"width\":1},\"locationmode\":\"USA-states\",\"lon\":[-87.75242,-104.667],\"mode\":\"lines\",\"type\":\"scattergeo\"},{\"lat\":[41.78598,39.85841],\"line\":{\"color\":\"red\",\"width\":1},\"locationmode\":\"USA-states\",\"lon\":[-87.75242,-104.667],\"mode\":\"lines\",\"type\":\"scattergeo\"},{\"lat\":[33.82922,39.85841],\"line\":{\"color\":\"red\",\"width\":1},\"locationmode\":\"USA-states\",\"lon\":[-116.50625,-104.667],\"mode\":\"lines\",\"type\":\"scattergeo\"},{\"lat\":[39.49858,39.85841],\"line\":{\"color\":\"red\",\"width\":1},\"locationmode\":\"USA-states\",\"lon\":[-119.76806,-104.667],\"mode\":\"lines\",\"type\":\"scattergeo\"},{\"lat\":[38.74769,39.85841],\"line\":{\"color\":\"red\",\"width\":1},\"locationmode\":\"USA-states\",\"lon\":[-90.35999,-104.667],\"mode\":\"lines\",\"type\":\"scattergeo\"},{\"lat\":[33.66364,39.85841],\"line\":{\"color\":\"red\",\"width\":1},\"locationmode\":\"USA-states\",\"lon\":[-101.82278,-104.667],\"mode\":\"lines\",\"type\":\"scattergeo\"},{\"lat\":[33.66364,39.85841],\"line\":{\"color\":\"red\",\"width\":1},\"locationmode\":\"USA-states\",\"lon\":[-101.82278,-104.667],\"mode\":\"lines\",\"type\":\"scattergeo\"},{\"lat\":[33.66364,39.85841],\"line\":{\"color\":\"red\",\"width\":1},\"locationmode\":\"USA-states\",\"lon\":[-101.82278,-104.667],\"mode\":\"lines\",\"type\":\"scattergeo\"},{\"lat\":[47.61986,39.85841],\"line\":{\"color\":\"red\",\"width\":1},\"locationmode\":\"USA-states\",\"lon\":[-117.53384,-104.667],\"mode\":\"lines\",\"type\":\"scattergeo\"},{\"lat\":[47.61986,39.85841],\"line\":{\"color\":\"red\",\"width\":1},\"locationmode\":\"USA-states\",\"lon\":[-117.53384,-104.667],\"mode\":\"lines\",\"type\":\"scattergeo\"},{\"lat\":[41.44853,39.85841],\"line\":{\"color\":\"red\",\"width\":1},\"locationmode\":\"USA-states\",\"lon\":[-90.50754,-104.667],\"mode\":\"lines\",\"type\":\"scattergeo\"},{\"lat\":[34.7294,39.85841],\"line\":{\"color\":\"red\",\"width\":1},\"locationmode\":\"USA-states\",\"lon\":[-92.22425,-104.667],\"mode\":\"lines\",\"type\":\"scattergeo\"},{\"lat\":[29.64542,39.85841],\"line\":{\"color\":\"red\",\"width\":1},\"locationmode\":\"USA-states\",\"lon\":[-95.27889,-104.667],\"mode\":\"lines\",\"type\":\"scattergeo\"},{\"lat\":[29.99339,39.85841],\"line\":{\"color\":\"red\",\"width\":1},\"locationmode\":\"USA-states\",\"lon\":[-90.25803,-104.667],\"mode\":\"lines\",\"type\":\"scattergeo\"},{\"lat\":[32.84711,39.85841],\"line\":{\"color\":\"red\",\"width\":1},\"locationmode\":\"USA-states\",\"lon\":[-96.85177,-104.667],\"mode\":\"lines\",\"type\":\"scattergeo\"},{\"lat\":[34.42621,39.85841],\"line\":{\"color\":\"red\",\"width\":1},\"locationmode\":\"USA-states\",\"lon\":[-119.84037,-104.667],\"mode\":\"lines\",\"type\":\"scattergeo\"},{\"lat\":[39.04614,39.85841],\"line\":{\"color\":\"red\",\"width\":1},\"locationmode\":\"USA-states\",\"lon\":[-84.66217,-104.667],\"mode\":\"lines\",\"type\":\"scattergeo\"},{\"lat\":[46.91631,39.85841],\"line\":{\"color\":\"red\",\"width\":1},\"locationmode\":\"USA-states\",\"lon\":[-114.09056,-104.667],\"mode\":\"lines\",\"type\":\"scattergeo\"},{\"lat\":[38.53396,39.85841],\"line\":{\"color\":\"red\",\"width\":1},\"locationmode\":\"USA-states\",\"lon\":[-106.93318,-104.667],\"mode\":\"lines\",\"type\":\"scattergeo\"},{\"lat\":[39.29761,39.85841],\"line\":{\"color\":\"red\",\"width\":1},\"locationmode\":\"USA-states\",\"lon\":[-94.71391,-104.667],\"mode\":\"lines\",\"type\":\"scattergeo\"},{\"lat\":[45.80766,39.85841],\"line\":{\"color\":\"red\",\"width\":1},\"locationmode\":\"USA-states\",\"lon\":[-108.54286,-104.667],\"mode\":\"lines\",\"type\":\"scattergeo\"},{\"lat\":[44.3489,39.85841],\"line\":{\"color\":\"red\",\"width\":1},\"locationmode\":\"USA-states\",\"lon\":[-105.53936,-104.667],\"mode\":\"lines\",\"type\":\"scattergeo\"},{\"lat\":[43.51456,39.85841],\"line\":{\"color\":\"red\",\"width\":1},\"locationmode\":\"USA-states\",\"lon\":[-112.07017,-104.667],\"mode\":\"lines\",\"type\":\"scattergeo\"},{\"lat\":[48.11425,39.85841],\"line\":{\"color\":\"red\",\"width\":1},\"locationmode\":\"USA-states\",\"lon\":[-98.90878,-104.667],\"mode\":\"lines\",\"type\":\"scattergeo\"},{\"lat\":[36.12448,39.85841],\"line\":{\"color\":\"red\",\"width\":1},\"locationmode\":\"USA-states\",\"lon\":[-86.67818,-104.667],\"mode\":\"lines\",\"type\":\"scattergeo\"},{\"lat\":[36.12448,39.85841],\"line\":{\"color\":\"red\",\"width\":1},\"locationmode\":\"USA-states\",\"lon\":[-86.67818,-104.667],\"mode\":\"lines\",\"type\":\"scattergeo\"},{\"lat\":[33.56294,39.85841],\"line\":{\"color\":\"red\",\"width\":1},\"locationmode\":\"USA-states\",\"lon\":[-86.75355,-104.667],\"mode\":\"lines\",\"type\":\"scattergeo\"},{\"lat\":[35.21937,39.85841],\"line\":{\"color\":\"red\",\"width\":1},\"locationmode\":\"USA-states\",\"lon\":[-101.70593,-104.667],\"mode\":\"lines\",\"type\":\"scattergeo\"},{\"lat\":[46.77411,39.85841],\"line\":{\"color\":\"red\",\"width\":1},\"locationmode\":\"USA-states\",\"lon\":[-100.74672,-104.667],\"mode\":\"lines\",\"type\":\"scattergeo\"},{\"lat\":[37.64996,39.85841],\"line\":{\"color\":\"red\",\"width\":1},\"locationmode\":\"USA-states\",\"lon\":[-97.43305,-104.667],\"mode\":\"lines\",\"type\":\"scattergeo\"},{\"lat\":[46.91935,39.85841],\"line\":{\"color\":\"red\",\"width\":1},\"locationmode\":\"USA-states\",\"lon\":[-96.81499,-104.667],\"mode\":\"lines\",\"type\":\"scattergeo\"},{\"lat\":[40.47799,39.85841],\"line\":{\"color\":\"red\",\"width\":1},\"locationmode\":\"USA-states\",\"lon\":[-88.91595,-104.667],\"mode\":\"lines\",\"type\":\"scattergeo\"},{\"lat\":[36.08036,40.63975],\"line\":{\"color\":\"red\",\"width\":1},\"locationmode\":\"USA-states\",\"lon\":[-115.15233,-73.77893],\"mode\":\"lines\",\"type\":\"scattergeo\"},{\"lat\":[18.43942,40.63975],\"line\":{\"color\":\"red\",\"width\":1},\"locationmode\":\"USA-states\",\"lon\":[-66.00183,-73.77893],\"mode\":\"lines\",\"type\":\"scattergeo\"},{\"lat\":[18.43942,40.63975],\"line\":{\"color\":\"red\",\"width\":1},\"locationmode\":\"USA-states\",\"lon\":[-66.00183,-73.77893],\"mode\":\"lines\",\"type\":\"scattergeo\"},{\"lat\":[37.619,40.63975],\"line\":{\"color\":\"red\",\"width\":1},\"locationmode\":\"USA-states\",\"lon\":[-122.37484,-73.77893],\"mode\":\"lines\",\"type\":\"scattergeo\"},{\"lat\":[37.619,40.63975],\"line\":{\"color\":\"red\",\"width\":1},\"locationmode\":\"USA-states\",\"lon\":[-122.37484,-73.77893],\"mode\":\"lines\",\"type\":\"scattergeo\"},{\"lat\":[37.619,40.63975],\"line\":{\"color\":\"red\",\"width\":1},\"locationmode\":\"USA-states\",\"lon\":[-122.37484,-73.77893],\"mode\":\"lines\",\"type\":\"scattergeo\"},{\"lat\":[37.619,40.63975],\"line\":{\"color\":\"red\",\"width\":1},\"locationmode\":\"USA-states\",\"lon\":[-122.37484,-73.77893],\"mode\":\"lines\",\"type\":\"scattergeo\"},{\"lat\":[35.04022,40.63975],\"line\":{\"color\":\"red\",\"width\":1},\"locationmode\":\"USA-states\",\"lon\":[-106.60919,-73.77893],\"mode\":\"lines\",\"type\":\"scattergeo\"},{\"lat\":[18.49486,40.63975],\"line\":{\"color\":\"red\",\"width\":1},\"locationmode\":\"USA-states\",\"lon\":[-67.12944,-73.77893],\"mode\":\"lines\",\"type\":\"scattergeo\"},{\"lat\":[26.07258,40.63975],\"line\":{\"color\":\"red\",\"width\":1},\"locationmode\":\"USA-states\",\"lon\":[-80.15275,-73.77893],\"mode\":\"lines\",\"type\":\"scattergeo\"},{\"lat\":[26.07258,40.63975],\"line\":{\"color\":\"red\",\"width\":1},\"locationmode\":\"USA-states\",\"lon\":[-80.15275,-73.77893],\"mode\":\"lines\",\"type\":\"scattergeo\"},{\"lat\":[26.07258,40.63975],\"line\":{\"color\":\"red\",\"width\":1},\"locationmode\":\"USA-states\",\"lon\":[-80.15275,-73.77893],\"mode\":\"lines\",\"type\":\"scattergeo\"},{\"lat\":[26.07258,40.63975],\"line\":{\"color\":\"red\",\"width\":1},\"locationmode\":\"USA-states\",\"lon\":[-80.15275,-73.77893],\"mode\":\"lines\",\"type\":\"scattergeo\"},{\"lat\":[26.07258,40.63975],\"line\":{\"color\":\"red\",\"width\":1},\"locationmode\":\"USA-states\",\"lon\":[-80.15275,-73.77893],\"mode\":\"lines\",\"type\":\"scattergeo\"},{\"lat\":[26.68316,40.63975],\"line\":{\"color\":\"red\",\"width\":1},\"locationmode\":\"USA-states\",\"lon\":[-80.09559,-73.77893],\"mode\":\"lines\",\"type\":\"scattergeo\"},{\"lat\":[26.68316,40.63975],\"line\":{\"color\":\"red\",\"width\":1},\"locationmode\":\"USA-states\",\"lon\":[-80.09559,-73.77893],\"mode\":\"lines\",\"type\":\"scattergeo\"},{\"lat\":[26.68316,40.63975],\"line\":{\"color\":\"red\",\"width\":1},\"locationmode\":\"USA-states\",\"lon\":[-80.09559,-73.77893],\"mode\":\"lines\",\"type\":\"scattergeo\"},{\"lat\":[39.99799,40.63975],\"line\":{\"color\":\"red\",\"width\":1},\"locationmode\":\"USA-states\",\"lon\":[-82.89188,-73.77893],\"mode\":\"lines\",\"type\":\"scattergeo\"},{\"lat\":[32.89865,40.63975],\"line\":{\"color\":\"red\",\"width\":1},\"locationmode\":\"USA-states\",\"lon\":[-80.04051,-73.77893],\"mode\":\"lines\",\"type\":\"scattergeo\"},{\"lat\":[38.85208,40.63975],\"line\":{\"color\":\"red\",\"width\":1},\"locationmode\":\"USA-states\",\"lon\":[-77.03772,-73.77893],\"mode\":\"lines\",\"type\":\"scattergeo\"},{\"lat\":[28.42889,40.63975],\"line\":{\"color\":\"red\",\"width\":1},\"locationmode\":\"USA-states\",\"lon\":[-81.31603,-73.77893],\"mode\":\"lines\",\"type\":\"scattergeo\"},{\"lat\":[28.42889,40.63975],\"line\":{\"color\":\"red\",\"width\":1},\"locationmode\":\"USA-states\",\"lon\":[-81.31603,-73.77893],\"mode\":\"lines\",\"type\":\"scattergeo\"},{\"lat\":[42.94052,40.63975],\"line\":{\"color\":\"red\",\"width\":1},\"locationmode\":\"USA-states\",\"lon\":[-78.73217,-73.77893],\"mode\":\"lines\",\"type\":\"scattergeo\"},{\"lat\":[44.88055,40.63975],\"line\":{\"color\":\"red\",\"width\":1},\"locationmode\":\"USA-states\",\"lon\":[-93.21692,-73.77893],\"mode\":\"lines\",\"type\":\"scattergeo\"},{\"lat\":[42.36435,40.63975],\"line\":{\"color\":\"red\",\"width\":1},\"locationmode\":\"USA-states\",\"lon\":[-71.00518,-73.77893],\"mode\":\"lines\",\"type\":\"scattergeo\"},{\"lat\":[32.73356,40.63975],\"line\":{\"color\":\"red\",\"width\":1},\"locationmode\":\"USA-states\",\"lon\":[-117.18966,-73.77893],\"mode\":\"lines\",\"type\":\"scattergeo\"},{\"lat\":[41.9796,40.63975],\"line\":{\"color\":\"red\",\"width\":1},\"locationmode\":\"USA-states\",\"lon\":[-87.90446,-73.77893],\"mode\":\"lines\",\"type\":\"scattergeo\"},{\"lat\":[33.94254,40.63975],\"line\":{\"color\":\"red\",\"width\":1},\"locationmode\":\"USA-states\",\"lon\":[-118.40807,-73.77893],\"mode\":\"lines\",\"type\":\"scattergeo\"},{\"lat\":[40.78839,40.63975],\"line\":{\"color\":\"red\",\"width\":1},\"locationmode\":\"USA-states\",\"lon\":[-111.97777,-73.77893],\"mode\":\"lines\",\"type\":\"scattergeo\"},{\"lat\":[33.43417,40.63975],\"line\":{\"color\":\"red\",\"width\":1},\"locationmode\":\"USA-states\",\"lon\":[-112.00806,-73.77893],\"mode\":\"lines\",\"type\":\"scattergeo\"},{\"lat\":[26.53617,40.63975],\"line\":{\"color\":\"red\",\"width\":1},\"locationmode\":\"USA-states\",\"lon\":[-81.75517,-73.77893],\"mode\":\"lines\",\"type\":\"scattergeo\"},{\"lat\":[26.53617,40.63975],\"line\":{\"color\":\"red\",\"width\":1},\"locationmode\":\"USA-states\",\"lon\":[-81.75517,-73.77893],\"mode\":\"lines\",\"type\":\"scattergeo\"},{\"lat\":[35.21401,40.63975],\"line\":{\"color\":\"red\",\"width\":1},\"locationmode\":\"USA-states\",\"lon\":[-80.94313,-73.77893],\"mode\":\"lines\",\"type\":\"scattergeo\"},{\"lat\":[18.33731,40.63975],\"line\":{\"color\":\"red\",\"width\":1},\"locationmode\":\"USA-states\",\"lon\":[-64.97336,-73.77893],\"mode\":\"lines\",\"type\":\"scattergeo\"},{\"lat\":[36.08036,33.94254],\"line\":{\"color\":\"red\",\"width\":1},\"locationmode\":\"USA-states\",\"lon\":[-115.15233,-118.40807],\"mode\":\"lines\",\"type\":\"scattergeo\"},{\"lat\":[36.08036,33.94254],\"line\":{\"color\":\"red\",\"width\":1},\"locationmode\":\"USA-states\",\"lon\":[-115.15233,-118.40807],\"mode\":\"lines\",\"type\":\"scattergeo\"},{\"lat\":[36.08036,33.94254],\"line\":{\"color\":\"red\",\"width\":1},\"locationmode\":\"USA-states\",\"lon\":[-115.15233,-118.40807],\"mode\":\"lines\",\"type\":\"scattergeo\"},{\"lat\":[29.98047,33.94254],\"line\":{\"color\":\"red\",\"width\":1},\"locationmode\":\"USA-states\",\"lon\":[-95.33972,-118.40807],\"mode\":\"lines\",\"type\":\"scattergeo\"},{\"lat\":[39.85841,33.94254],\"line\":{\"color\":\"red\",\"width\":1},\"locationmode\":\"USA-states\",\"lon\":[-104.667,-118.40807],\"mode\":\"lines\",\"type\":\"scattergeo\"},{\"lat\":[39.85841,33.94254],\"line\":{\"color\":\"red\",\"width\":1},\"locationmode\":\"USA-states\",\"lon\":[-104.667,-118.40807],\"mode\":\"lines\",\"type\":\"scattergeo\"},{\"lat\":[39.85841,33.94254],\"line\":{\"color\":\"red\",\"width\":1},\"locationmode\":\"USA-states\",\"lon\":[-104.667,-118.40807],\"mode\":\"lines\",\"type\":\"scattergeo\"},{\"lat\":[39.85841,33.94254],\"line\":{\"color\":\"red\",\"width\":1},\"locationmode\":\"USA-states\",\"lon\":[-104.667,-118.40807],\"mode\":\"lines\",\"type\":\"scattergeo\"},{\"lat\":[39.85841,33.94254],\"line\":{\"color\":\"red\",\"width\":1},\"locationmode\":\"USA-states\",\"lon\":[-104.667,-118.40807],\"mode\":\"lines\",\"type\":\"scattergeo\"},{\"lat\":[39.85841,33.94254],\"line\":{\"color\":\"red\",\"width\":1},\"locationmode\":\"USA-states\",\"lon\":[-104.667,-118.40807],\"mode\":\"lines\",\"type\":\"scattergeo\"},{\"lat\":[39.85841,33.94254],\"line\":{\"color\":\"red\",\"width\":1},\"locationmode\":\"USA-states\",\"lon\":[-104.667,-118.40807],\"mode\":\"lines\",\"type\":\"scattergeo\"},{\"lat\":[40.63975,33.94254],\"line\":{\"color\":\"red\",\"width\":1},\"locationmode\":\"USA-states\",\"lon\":[-73.77893,-118.40807],\"mode\":\"lines\",\"type\":\"scattergeo\"},{\"lat\":[40.63975,33.94254],\"line\":{\"color\":\"red\",\"width\":1},\"locationmode\":\"USA-states\",\"lon\":[-73.77893,-118.40807],\"mode\":\"lines\",\"type\":\"scattergeo\"},{\"lat\":[40.63975,33.94254],\"line\":{\"color\":\"red\",\"width\":1},\"locationmode\":\"USA-states\",\"lon\":[-73.77893,-118.40807],\"mode\":\"lines\",\"type\":\"scattergeo\"},{\"lat\":[40.63975,33.94254],\"line\":{\"color\":\"red\",\"width\":1},\"locationmode\":\"USA-states\",\"lon\":[-73.77893,-118.40807],\"mode\":\"lines\",\"type\":\"scattergeo\"},{\"lat\":[38.69542,33.94254],\"line\":{\"color\":\"red\",\"width\":1},\"locationmode\":\"USA-states\",\"lon\":[-121.59077,-118.40807],\"mode\":\"lines\",\"type\":\"scattergeo\"},{\"lat\":[35.04022,33.94254],\"line\":{\"color\":\"red\",\"width\":1},\"locationmode\":\"USA-states\",\"lon\":[-106.60919,-118.40807],\"mode\":\"lines\",\"type\":\"scattergeo\"},{\"lat\":[39.1754,33.94254],\"line\":{\"color\":\"red\",\"width\":1},\"locationmode\":\"USA-states\",\"lon\":[-76.6682,-118.40807],\"mode\":\"lines\",\"type\":\"scattergeo\"},{\"lat\":[33.64044,33.94254],\"line\":{\"color\":\"red\",\"width\":1},\"locationmode\":\"USA-states\",\"lon\":[-84.42694,-118.40807],\"mode\":\"lines\",\"type\":\"scattergeo\"},{\"lat\":[33.64044,33.94254],\"line\":{\"color\":\"red\",\"width\":1},\"locationmode\":\"USA-states\",\"lon\":[-84.42694,-118.40807],\"mode\":\"lines\",\"type\":\"scattergeo\"},{\"lat\":[43.56444,33.94254],\"line\":{\"color\":\"red\",\"width\":1},\"locationmode\":\"USA-states\",\"lon\":[-116.22278,-118.40807],\"mode\":\"lines\",\"type\":\"scattergeo\"},{\"lat\":[43.56444,33.94254],\"line\":{\"color\":\"red\",\"width\":1},\"locationmode\":\"USA-states\",\"lon\":[-116.22278,-118.40807],\"mode\":\"lines\",\"type\":\"scattergeo\"},{\"lat\":[32.89595,33.94254],\"line\":{\"color\":\"red\",\"width\":1},\"locationmode\":\"USA-states\",\"lon\":[-97.0372,-118.40807],\"mode\":\"lines\",\"type\":\"scattergeo\"},{\"lat\":[32.89595,33.94254],\"line\":{\"color\":\"red\",\"width\":1},\"locationmode\":\"USA-states\",\"lon\":[-97.0372,-118.40807],\"mode\":\"lines\",\"type\":\"scattergeo\"},{\"lat\":[32.89595,33.94254],\"line\":{\"color\":\"red\",\"width\":1},\"locationmode\":\"USA-states\",\"lon\":[-97.0372,-118.40807],\"mode\":\"lines\",\"type\":\"scattergeo\"},{\"lat\":[32.89595,33.94254],\"line\":{\"color\":\"red\",\"width\":1},\"locationmode\":\"USA-states\",\"lon\":[-97.0372,-118.40807],\"mode\":\"lines\",\"type\":\"scattergeo\"},{\"lat\":[40.6925,33.94254],\"line\":{\"color\":\"red\",\"width\":1},\"locationmode\":\"USA-states\",\"lon\":[-74.16866,-118.40807],\"mode\":\"lines\",\"type\":\"scattergeo\"},{\"lat\":[28.42889,33.94254],\"line\":{\"color\":\"red\",\"width\":1},\"locationmode\":\"USA-states\",\"lon\":[-81.31603,-118.40807],\"mode\":\"lines\",\"type\":\"scattergeo\"},{\"lat\":[39.87195,33.94254],\"line\":{\"color\":\"red\",\"width\":1},\"locationmode\":\"USA-states\",\"lon\":[-75.24114,-118.40807],\"mode\":\"lines\",\"type\":\"scattergeo\"},{\"lat\":[30.19453,33.94254],\"line\":{\"color\":\"red\",\"width\":1},\"locationmode\":\"USA-states\",\"lon\":[-97.66987,-118.40807],\"mode\":\"lines\",\"type\":\"scattergeo\"},{\"lat\":[30.19453,33.94254],\"line\":{\"color\":\"red\",\"width\":1},\"locationmode\":\"USA-states\",\"lon\":[-97.66987,-118.40807],\"mode\":\"lines\",\"type\":\"scattergeo\"},{\"lat\":[36.77619,33.94254],\"line\":{\"color\":\"red\",\"width\":1},\"locationmode\":\"USA-states\",\"lon\":[-119.71814,-118.40807],\"mode\":\"lines\",\"type\":\"scattergeo\"},{\"lat\":[42.36435,33.94254],\"line\":{\"color\":\"red\",\"width\":1},\"locationmode\":\"USA-states\",\"lon\":[-71.00518,-118.40807],\"mode\":\"lines\",\"type\":\"scattergeo\"},{\"lat\":[42.36435,33.94254],\"line\":{\"color\":\"red\",\"width\":1},\"locationmode\":\"USA-states\",\"lon\":[-71.00518,-118.40807],\"mode\":\"lines\",\"type\":\"scattergeo\"},{\"lat\":[32.73356,33.94254],\"line\":{\"color\":\"red\",\"width\":1},\"locationmode\":\"USA-states\",\"lon\":[-117.18966,-118.40807],\"mode\":\"lines\",\"type\":\"scattergeo\"},{\"lat\":[21.97598,33.94254],\"line\":{\"color\":\"red\",\"width\":1},\"locationmode\":\"USA-states\",\"lon\":[-159.33896,-118.40807],\"mode\":\"lines\",\"type\":\"scattergeo\"},{\"lat\":[21.97598,33.94254],\"line\":{\"color\":\"red\",\"width\":1},\"locationmode\":\"USA-states\",\"lon\":[-159.33896,-118.40807],\"mode\":\"lines\",\"type\":\"scattergeo\"},{\"lat\":[39.22316,33.94254],\"line\":{\"color\":\"red\",\"width\":1},\"locationmode\":\"USA-states\",\"lon\":[-106.86885,-118.40807],\"mode\":\"lines\",\"type\":\"scattergeo\"},{\"lat\":[39.22316,33.94254],\"line\":{\"color\":\"red\",\"width\":1},\"locationmode\":\"USA-states\",\"lon\":[-106.86885,-118.40807],\"mode\":\"lines\",\"type\":\"scattergeo\"},{\"lat\":[41.9796,33.94254],\"line\":{\"color\":\"red\",\"width\":1},\"locationmode\":\"USA-states\",\"lon\":[-87.90446,-118.40807],\"mode\":\"lines\",\"type\":\"scattergeo\"},{\"lat\":[41.9796,33.94254],\"line\":{\"color\":\"red\",\"width\":1},\"locationmode\":\"USA-states\",\"lon\":[-87.90446,-118.40807],\"mode\":\"lines\",\"type\":\"scattergeo\"},{\"lat\":[47.44898,33.94254],\"line\":{\"color\":\"red\",\"width\":1},\"locationmode\":\"USA-states\",\"lon\":[-122.30931,-118.40807],\"mode\":\"lines\",\"type\":\"scattergeo\"},{\"lat\":[47.44898,33.94254],\"line\":{\"color\":\"red\",\"width\":1},\"locationmode\":\"USA-states\",\"lon\":[-122.30931,-118.40807],\"mode\":\"lines\",\"type\":\"scattergeo\"},{\"lat\":[37.72129,33.94254],\"line\":{\"color\":\"red\",\"width\":1},\"locationmode\":\"USA-states\",\"lon\":[-122.22072,-118.40807],\"mode\":\"lines\",\"type\":\"scattergeo\"},{\"lat\":[37.72129,33.94254],\"line\":{\"color\":\"red\",\"width\":1},\"locationmode\":\"USA-states\",\"lon\":[-122.22072,-118.40807],\"mode\":\"lines\",\"type\":\"scattergeo\"},{\"lat\":[37.72129,33.94254],\"line\":{\"color\":\"red\",\"width\":1},\"locationmode\":\"USA-states\",\"lon\":[-122.22072,-118.40807],\"mode\":\"lines\",\"type\":\"scattergeo\"},{\"lat\":[40.78839,33.94254],\"line\":{\"color\":\"red\",\"width\":1},\"locationmode\":\"USA-states\",\"lon\":[-111.97777,-118.40807],\"mode\":\"lines\",\"type\":\"scattergeo\"},{\"lat\":[40.78839,33.94254],\"line\":{\"color\":\"red\",\"width\":1},\"locationmode\":\"USA-states\",\"lon\":[-111.97777,-118.40807],\"mode\":\"lines\",\"type\":\"scattergeo\"},{\"lat\":[40.78839,33.94254],\"line\":{\"color\":\"red\",\"width\":1},\"locationmode\":\"USA-states\",\"lon\":[-111.97777,-118.40807],\"mode\":\"lines\",\"type\":\"scattergeo\"},{\"lat\":[33.43417,33.94254],\"line\":{\"color\":\"red\",\"width\":1},\"locationmode\":\"USA-states\",\"lon\":[-112.00806,-118.40807],\"mode\":\"lines\",\"type\":\"scattergeo\"},{\"lat\":[39.49858,33.94254],\"line\":{\"color\":\"red\",\"width\":1},\"locationmode\":\"USA-states\",\"lon\":[-119.76806,-118.40807],\"mode\":\"lines\",\"type\":\"scattergeo\"},{\"lat\":[20.89865,33.94254],\"line\":{\"color\":\"red\",\"width\":1},\"locationmode\":\"USA-states\",\"lon\":[-156.43046,-118.40807],\"mode\":\"lines\",\"type\":\"scattergeo\"},{\"lat\":[29.64542,33.94254],\"line\":{\"color\":\"red\",\"width\":1},\"locationmode\":\"USA-states\",\"lon\":[-95.27889,-118.40807],\"mode\":\"lines\",\"type\":\"scattergeo\"},{\"lat\":[29.99339,33.94254],\"line\":{\"color\":\"red\",\"width\":1},\"locationmode\":\"USA-states\",\"lon\":[-90.25803,-118.40807],\"mode\":\"lines\",\"type\":\"scattergeo\"},{\"lat\":[32.84711,33.94254],\"line\":{\"color\":\"red\",\"width\":1},\"locationmode\":\"USA-states\",\"lon\":[-96.85177,-118.40807],\"mode\":\"lines\",\"type\":\"scattergeo\"},{\"lat\":[32.84711,33.94254],\"line\":{\"color\":\"red\",\"width\":1},\"locationmode\":\"USA-states\",\"lon\":[-96.85177,-118.40807],\"mode\":\"lines\",\"type\":\"scattergeo\"},{\"lat\":[34.42621,33.94254],\"line\":{\"color\":\"red\",\"width\":1},\"locationmode\":\"USA-states\",\"lon\":[-119.84037,-118.40807],\"mode\":\"lines\",\"type\":\"scattergeo\"},{\"lat\":[38.80581,33.94254],\"line\":{\"color\":\"red\",\"width\":1},\"locationmode\":\"USA-states\",\"lon\":[-104.70025,-118.40807],\"mode\":\"lines\",\"type\":\"scattergeo\"},{\"lat\":[36.12448,33.94254],\"line\":{\"color\":\"red\",\"width\":1},\"locationmode\":\"USA-states\",\"lon\":[-86.67818,-118.40807],\"mode\":\"lines\",\"type\":\"scattergeo\"},{\"lat\":[36.08036,37.619],\"line\":{\"color\":\"red\",\"width\":1},\"locationmode\":\"USA-states\",\"lon\":[-115.15233,-122.37484],\"mode\":\"lines\",\"type\":\"scattergeo\"},{\"lat\":[36.08036,37.619],\"line\":{\"color\":\"red\",\"width\":1},\"locationmode\":\"USA-states\",\"lon\":[-115.15233,-122.37484],\"mode\":\"lines\",\"type\":\"scattergeo\"},{\"lat\":[29.98047,37.619],\"line\":{\"color\":\"red\",\"width\":1},\"locationmode\":\"USA-states\",\"lon\":[-95.33972,-122.37484],\"mode\":\"lines\",\"type\":\"scattergeo\"},{\"lat\":[29.98047,37.619],\"line\":{\"color\":\"red\",\"width\":1},\"locationmode\":\"USA-states\",\"lon\":[-95.33972,-122.37484],\"mode\":\"lines\",\"type\":\"scattergeo\"},{\"lat\":[39.85841,37.619],\"line\":{\"color\":\"red\",\"width\":1},\"locationmode\":\"USA-states\",\"lon\":[-104.667,-122.37484],\"mode\":\"lines\",\"type\":\"scattergeo\"},{\"lat\":[39.85841,37.619],\"line\":{\"color\":\"red\",\"width\":1},\"locationmode\":\"USA-states\",\"lon\":[-104.667,-122.37484],\"mode\":\"lines\",\"type\":\"scattergeo\"},{\"lat\":[39.85841,37.619],\"line\":{\"color\":\"red\",\"width\":1},\"locationmode\":\"USA-states\",\"lon\":[-104.667,-122.37484],\"mode\":\"lines\",\"type\":\"scattergeo\"},{\"lat\":[39.85841,37.619],\"line\":{\"color\":\"red\",\"width\":1},\"locationmode\":\"USA-states\",\"lon\":[-104.667,-122.37484],\"mode\":\"lines\",\"type\":\"scattergeo\"},{\"lat\":[40.63975,37.619],\"line\":{\"color\":\"red\",\"width\":1},\"locationmode\":\"USA-states\",\"lon\":[-73.77893,-122.37484],\"mode\":\"lines\",\"type\":\"scattergeo\"},{\"lat\":[43.56444,37.619],\"line\":{\"color\":\"red\",\"width\":1},\"locationmode\":\"USA-states\",\"lon\":[-116.22278,-122.37484],\"mode\":\"lines\",\"type\":\"scattergeo\"},{\"lat\":[32.89595,37.619],\"line\":{\"color\":\"red\",\"width\":1},\"locationmode\":\"USA-states\",\"lon\":[-97.0372,-122.37484],\"mode\":\"lines\",\"type\":\"scattergeo\"},{\"lat\":[32.89595,37.619],\"line\":{\"color\":\"red\",\"width\":1},\"locationmode\":\"USA-states\",\"lon\":[-97.0372,-122.37484],\"mode\":\"lines\",\"type\":\"scattergeo\"},{\"lat\":[32.89595,37.619],\"line\":{\"color\":\"red\",\"width\":1},\"locationmode\":\"USA-states\",\"lon\":[-97.0372,-122.37484],\"mode\":\"lines\",\"type\":\"scattergeo\"},{\"lat\":[32.89595,37.619],\"line\":{\"color\":\"red\",\"width\":1},\"locationmode\":\"USA-states\",\"lon\":[-97.0372,-122.37484],\"mode\":\"lines\",\"type\":\"scattergeo\"},{\"lat\":[40.6925,37.619],\"line\":{\"color\":\"red\",\"width\":1},\"locationmode\":\"USA-states\",\"lon\":[-74.16866,-122.37484],\"mode\":\"lines\",\"type\":\"scattergeo\"},{\"lat\":[40.6925,37.619],\"line\":{\"color\":\"red\",\"width\":1},\"locationmode\":\"USA-states\",\"lon\":[-74.16866,-122.37484],\"mode\":\"lines\",\"type\":\"scattergeo\"},{\"lat\":[39.87195,37.619],\"line\":{\"color\":\"red\",\"width\":1},\"locationmode\":\"USA-states\",\"lon\":[-75.24114,-122.37484],\"mode\":\"lines\",\"type\":\"scattergeo\"},{\"lat\":[39.87195,37.619],\"line\":{\"color\":\"red\",\"width\":1},\"locationmode\":\"USA-states\",\"lon\":[-75.24114,-122.37484],\"mode\":\"lines\",\"type\":\"scattergeo\"},{\"lat\":[32.73356,37.619],\"line\":{\"color\":\"red\",\"width\":1},\"locationmode\":\"USA-states\",\"lon\":[-117.18966,-122.37484],\"mode\":\"lines\",\"type\":\"scattergeo\"},{\"lat\":[32.73356,37.619],\"line\":{\"color\":\"red\",\"width\":1},\"locationmode\":\"USA-states\",\"lon\":[-117.18966,-122.37484],\"mode\":\"lines\",\"type\":\"scattergeo\"},{\"lat\":[29.53369,37.619],\"line\":{\"color\":\"red\",\"width\":1},\"locationmode\":\"USA-states\",\"lon\":[-98.46978,-122.37484],\"mode\":\"lines\",\"type\":\"scattergeo\"},{\"lat\":[39.22316,37.619],\"line\":{\"color\":\"red\",\"width\":1},\"locationmode\":\"USA-states\",\"lon\":[-106.86885,-122.37484],\"mode\":\"lines\",\"type\":\"scattergeo\"},{\"lat\":[41.9796,37.619],\"line\":{\"color\":\"red\",\"width\":1},\"locationmode\":\"USA-states\",\"lon\":[-87.90446,-122.37484],\"mode\":\"lines\",\"type\":\"scattergeo\"},{\"lat\":[47.44898,37.619],\"line\":{\"color\":\"red\",\"width\":1},\"locationmode\":\"USA-states\",\"lon\":[-122.30931,-122.37484],\"mode\":\"lines\",\"type\":\"scattergeo\"},{\"lat\":[47.44898,37.619],\"line\":{\"color\":\"red\",\"width\":1},\"locationmode\":\"USA-states\",\"lon\":[-122.30931,-122.37484],\"mode\":\"lines\",\"type\":\"scattergeo\"},{\"lat\":[33.94254,37.619],\"line\":{\"color\":\"red\",\"width\":1},\"locationmode\":\"USA-states\",\"lon\":[-118.40807,-122.37484],\"mode\":\"lines\",\"type\":\"scattergeo\"},{\"lat\":[33.94254,37.619],\"line\":{\"color\":\"red\",\"width\":1},\"locationmode\":\"USA-states\",\"lon\":[-118.40807,-122.37484],\"mode\":\"lines\",\"type\":\"scattergeo\"},{\"lat\":[33.43417,37.619],\"line\":{\"color\":\"red\",\"width\":1},\"locationmode\":\"USA-states\",\"lon\":[-112.00806,-122.37484],\"mode\":\"lines\",\"type\":\"scattergeo\"},{\"lat\":[33.43417,37.619],\"line\":{\"color\":\"red\",\"width\":1},\"locationmode\":\"USA-states\",\"lon\":[-112.00806,-122.37484],\"mode\":\"lines\",\"type\":\"scattergeo\"},{\"lat\":[33.43417,37.619],\"line\":{\"color\":\"red\",\"width\":1},\"locationmode\":\"USA-states\",\"lon\":[-112.00806,-122.37484],\"mode\":\"lines\",\"type\":\"scattergeo\"},{\"lat\":[33.43417,37.619],\"line\":{\"color\":\"red\",\"width\":1},\"locationmode\":\"USA-states\",\"lon\":[-112.00806,-122.37484],\"mode\":\"lines\",\"type\":\"scattergeo\"},{\"lat\":[33.82922,37.619],\"line\":{\"color\":\"red\",\"width\":1},\"locationmode\":\"USA-states\",\"lon\":[-116.50625,-122.37484],\"mode\":\"lines\",\"type\":\"scattergeo\"},{\"lat\":[38.94453,37.619],\"line\":{\"color\":\"red\",\"width\":1},\"locationmode\":\"USA-states\",\"lon\":[-77.45581,-122.37484],\"mode\":\"lines\",\"type\":\"scattergeo\"},{\"lat\":[42.21206,37.619],\"line\":{\"color\":\"red\",\"width\":1},\"locationmode\":\"USA-states\",\"lon\":[-83.34884,-122.37484],\"mode\":\"lines\",\"type\":\"scattergeo\"},{\"lat\":[32.84711,37.619],\"line\":{\"color\":\"red\",\"width\":1},\"locationmode\":\"USA-states\",\"lon\":[-96.85177,-122.37484],\"mode\":\"lines\",\"type\":\"scattergeo\"},{\"lat\":[43.50484,37.619],\"line\":{\"color\":\"red\",\"width\":1},\"locationmode\":\"USA-states\",\"lon\":[-114.29659,-122.37484],\"mode\":\"lines\",\"type\":\"scattergeo\"},{\"lat\":[61.17432,37.619],\"line\":{\"color\":\"red\",\"width\":1},\"locationmode\":\"USA-states\",\"lon\":[-149.99619,-122.37484],\"mode\":\"lines\",\"type\":\"scattergeo\"},{\"lat\":[36.08036,45.58872],\"line\":{\"color\":\"red\",\"width\":1},\"locationmode\":\"USA-states\",\"lon\":[-115.15233,-122.5975],\"mode\":\"lines\",\"type\":\"scattergeo\"},{\"lat\":[36.08036,45.58872],\"line\":{\"color\":\"red\",\"width\":1},\"locationmode\":\"USA-states\",\"lon\":[-115.15233,-122.5975],\"mode\":\"lines\",\"type\":\"scattergeo\"},{\"lat\":[36.08036,45.58872],\"line\":{\"color\":\"red\",\"width\":1},\"locationmode\":\"USA-states\",\"lon\":[-115.15233,-122.5975],\"mode\":\"lines\",\"type\":\"scattergeo\"},{\"lat\":[29.98047,45.58872],\"line\":{\"color\":\"red\",\"width\":1},\"locationmode\":\"USA-states\",\"lon\":[-95.33972,-122.5975],\"mode\":\"lines\",\"type\":\"scattergeo\"},{\"lat\":[39.85841,45.58872],\"line\":{\"color\":\"red\",\"width\":1},\"locationmode\":\"USA-states\",\"lon\":[-104.667,-122.5975],\"mode\":\"lines\",\"type\":\"scattergeo\"},{\"lat\":[39.85841,45.58872],\"line\":{\"color\":\"red\",\"width\":1},\"locationmode\":\"USA-states\",\"lon\":[-104.667,-122.5975],\"mode\":\"lines\",\"type\":\"scattergeo\"},{\"lat\":[35.04022,45.58872],\"line\":{\"color\":\"red\",\"width\":1},\"locationmode\":\"USA-states\",\"lon\":[-106.60919,-122.5975],\"mode\":\"lines\",\"type\":\"scattergeo\"},{\"lat\":[32.73356,45.58872],\"line\":{\"color\":\"red\",\"width\":1},\"locationmode\":\"USA-states\",\"lon\":[-117.18966,-122.5975],\"mode\":\"lines\",\"type\":\"scattergeo\"},{\"lat\":[32.73356,45.58872],\"line\":{\"color\":\"red\",\"width\":1},\"locationmode\":\"USA-states\",\"lon\":[-117.18966,-122.5975],\"mode\":\"lines\",\"type\":\"scattergeo\"},{\"lat\":[37.72129,45.58872],\"line\":{\"color\":\"red\",\"width\":1},\"locationmode\":\"USA-states\",\"lon\":[-122.22072,-122.5975],\"mode\":\"lines\",\"type\":\"scattergeo\"},{\"lat\":[40.78839,45.58872],\"line\":{\"color\":\"red\",\"width\":1},\"locationmode\":\"USA-states\",\"lon\":[-111.97777,-122.5975],\"mode\":\"lines\",\"type\":\"scattergeo\"},{\"lat\":[33.43417,45.58872],\"line\":{\"color\":\"red\",\"width\":1},\"locationmode\":\"USA-states\",\"lon\":[-112.00806,-122.5975],\"mode\":\"lines\",\"type\":\"scattergeo\"},{\"lat\":[33.43417,45.58872],\"line\":{\"color\":\"red\",\"width\":1},\"locationmode\":\"USA-states\",\"lon\":[-112.00806,-122.5975],\"mode\":\"lines\",\"type\":\"scattergeo\"},{\"lat\":[36.08036,41.53493],\"line\":{\"color\":\"red\",\"width\":1},\"locationmode\":\"USA-states\",\"lon\":[-115.15233,-93.66068],\"mode\":\"lines\",\"type\":\"scattergeo\"},{\"lat\":[39.85841,41.53493],\"line\":{\"color\":\"red\",\"width\":1},\"locationmode\":\"USA-states\",\"lon\":[-104.667,-93.66068],\"mode\":\"lines\",\"type\":\"scattergeo\"},{\"lat\":[39.85841,41.53493],\"line\":{\"color\":\"red\",\"width\":1},\"locationmode\":\"USA-states\",\"lon\":[-104.667,-93.66068],\"mode\":\"lines\",\"type\":\"scattergeo\"},{\"lat\":[32.89595,41.53493],\"line\":{\"color\":\"red\",\"width\":1},\"locationmode\":\"USA-states\",\"lon\":[-97.0372,-93.66068],\"mode\":\"lines\",\"type\":\"scattergeo\"},{\"lat\":[32.89595,41.53493],\"line\":{\"color\":\"red\",\"width\":1},\"locationmode\":\"USA-states\",\"lon\":[-97.0372,-93.66068],\"mode\":\"lines\",\"type\":\"scattergeo\"},{\"lat\":[41.9796,41.53493],\"line\":{\"color\":\"red\",\"width\":1},\"locationmode\":\"USA-states\",\"lon\":[-87.90446,-93.66068],\"mode\":\"lines\",\"type\":\"scattergeo\"},{\"lat\":[41.9796,41.53493],\"line\":{\"color\":\"red\",\"width\":1},\"locationmode\":\"USA-states\",\"lon\":[-87.90446,-93.66068],\"mode\":\"lines\",\"type\":\"scattergeo\"},{\"lat\":[41.9796,41.53493],\"line\":{\"color\":\"red\",\"width\":1},\"locationmode\":\"USA-states\",\"lon\":[-87.90446,-93.66068],\"mode\":\"lines\",\"type\":\"scattergeo\"},{\"lat\":[42.21206,41.53493],\"line\":{\"color\":\"red\",\"width\":1},\"locationmode\":\"USA-states\",\"lon\":[-83.34884,-93.66068],\"mode\":\"lines\",\"type\":\"scattergeo\"},{\"lat\":[36.08036,42.21206],\"line\":{\"color\":\"red\",\"width\":1},\"locationmode\":\"USA-states\",\"lon\":[-115.15233,-83.34884],\"mode\":\"lines\",\"type\":\"scattergeo\"},{\"lat\":[39.85841,42.21206],\"line\":{\"color\":\"red\",\"width\":1},\"locationmode\":\"USA-states\",\"lon\":[-104.667,-83.34884],\"mode\":\"lines\",\"type\":\"scattergeo\"},{\"lat\":[37.619,42.21206],\"line\":{\"color\":\"red\",\"width\":1},\"locationmode\":\"USA-states\",\"lon\":[-122.37484,-83.34884],\"mode\":\"lines\",\"type\":\"scattergeo\"},{\"lat\":[33.64044,42.21206],\"line\":{\"color\":\"red\",\"width\":1},\"locationmode\":\"USA-states\",\"lon\":[-84.42694,-83.34884],\"mode\":\"lines\",\"type\":\"scattergeo\"},{\"lat\":[33.64044,42.21206],\"line\":{\"color\":\"red\",\"width\":1},\"locationmode\":\"USA-states\",\"lon\":[-84.42694,-83.34884],\"mode\":\"lines\",\"type\":\"scattergeo\"},{\"lat\":[32.89595,42.21206],\"line\":{\"color\":\"red\",\"width\":1},\"locationmode\":\"USA-states\",\"lon\":[-97.0372,-83.34884],\"mode\":\"lines\",\"type\":\"scattergeo\"},{\"lat\":[25.79325,42.21206],\"line\":{\"color\":\"red\",\"width\":1},\"locationmode\":\"USA-states\",\"lon\":[-80.29056,-83.34884],\"mode\":\"lines\",\"type\":\"scattergeo\"},{\"lat\":[28.42889,42.21206],\"line\":{\"color\":\"red\",\"width\":1},\"locationmode\":\"USA-states\",\"lon\":[-81.31603,-83.34884],\"mode\":\"lines\",\"type\":\"scattergeo\"},{\"lat\":[39.87195,42.21206],\"line\":{\"color\":\"red\",\"width\":1},\"locationmode\":\"USA-states\",\"lon\":[-75.24114,-83.34884],\"mode\":\"lines\",\"type\":\"scattergeo\"},{\"lat\":[43.13986,42.21206],\"line\":{\"color\":\"red\",\"width\":1},\"locationmode\":\"USA-states\",\"lon\":[-89.33751,-83.34884],\"mode\":\"lines\",\"type\":\"scattergeo\"},{\"lat\":[41.9796,42.21206],\"line\":{\"color\":\"red\",\"width\":1},\"locationmode\":\"USA-states\",\"lon\":[-87.90446,-83.34884],\"mode\":\"lines\",\"type\":\"scattergeo\"},{\"lat\":[33.43417,42.21206],\"line\":{\"color\":\"red\",\"width\":1},\"locationmode\":\"USA-states\",\"lon\":[-112.00806,-83.34884],\"mode\":\"lines\",\"type\":\"scattergeo\"},{\"lat\":[40.27669,42.21206],\"line\":{\"color\":\"red\",\"width\":1},\"locationmode\":\"USA-states\",\"lon\":[-74.81347,-83.34884],\"mode\":\"lines\",\"type\":\"scattergeo\"},{\"lat\":[36.08036,37.36186],\"line\":{\"color\":\"red\",\"width\":1},\"locationmode\":\"USA-states\",\"lon\":[-115.15233,-121.92901],\"mode\":\"lines\",\"type\":\"scattergeo\"},{\"lat\":[39.85841,37.36186],\"line\":{\"color\":\"red\",\"width\":1},\"locationmode\":\"USA-states\",\"lon\":[-104.667,-121.92901],\"mode\":\"lines\",\"type\":\"scattergeo\"},{\"lat\":[32.89595,37.36186],\"line\":{\"color\":\"red\",\"width\":1},\"locationmode\":\"USA-states\",\"lon\":[-97.0372,-121.92901],\"mode\":\"lines\",\"type\":\"scattergeo\"},{\"lat\":[32.89595,37.36186],\"line\":{\"color\":\"red\",\"width\":1},\"locationmode\":\"USA-states\",\"lon\":[-97.0372,-121.92901],\"mode\":\"lines\",\"type\":\"scattergeo\"},{\"lat\":[47.44898,37.36186],\"line\":{\"color\":\"red\",\"width\":1},\"locationmode\":\"USA-states\",\"lon\":[-122.30931,-121.92901],\"mode\":\"lines\",\"type\":\"scattergeo\"},{\"lat\":[33.94254,37.36186],\"line\":{\"color\":\"red\",\"width\":1},\"locationmode\":\"USA-states\",\"lon\":[-118.40807,-121.92901],\"mode\":\"lines\",\"type\":\"scattergeo\"},{\"lat\":[33.94254,37.36186],\"line\":{\"color\":\"red\",\"width\":1},\"locationmode\":\"USA-states\",\"lon\":[-118.40807,-121.92901],\"mode\":\"lines\",\"type\":\"scattergeo\"},{\"lat\":[40.78839,37.36186],\"line\":{\"color\":\"red\",\"width\":1},\"locationmode\":\"USA-states\",\"lon\":[-111.97777,-121.92901],\"mode\":\"lines\",\"type\":\"scattergeo\"},{\"lat\":[33.43417,37.36186],\"line\":{\"color\":\"red\",\"width\":1},\"locationmode\":\"USA-states\",\"lon\":[-112.00806,-121.92901],\"mode\":\"lines\",\"type\":\"scattergeo\"},{\"lat\":[33.43417,37.36186],\"line\":{\"color\":\"red\",\"width\":1},\"locationmode\":\"USA-states\",\"lon\":[-112.00806,-121.92901],\"mode\":\"lines\",\"type\":\"scattergeo\"},{\"lat\":[33.43417,37.36186],\"line\":{\"color\":\"red\",\"width\":1},\"locationmode\":\"USA-states\",\"lon\":[-112.00806,-121.92901],\"mode\":\"lines\",\"type\":\"scattergeo\"},{\"lat\":[36.08036,30.19453],\"line\":{\"color\":\"red\",\"width\":1},\"locationmode\":\"USA-states\",\"lon\":[-115.15233,-97.66987],\"mode\":\"lines\",\"type\":\"scattergeo\"},{\"lat\":[36.08036,30.19453],\"line\":{\"color\":\"red\",\"width\":1},\"locationmode\":\"USA-states\",\"lon\":[-115.15233,-97.66987],\"mode\":\"lines\",\"type\":\"scattergeo\"},{\"lat\":[29.98047,30.19453],\"line\":{\"color\":\"red\",\"width\":1},\"locationmode\":\"USA-states\",\"lon\":[-95.33972,-97.66987],\"mode\":\"lines\",\"type\":\"scattergeo\"},{\"lat\":[29.98047,30.19453],\"line\":{\"color\":\"red\",\"width\":1},\"locationmode\":\"USA-states\",\"lon\":[-95.33972,-97.66987],\"mode\":\"lines\",\"type\":\"scattergeo\"},{\"lat\":[29.98047,30.19453],\"line\":{\"color\":\"red\",\"width\":1},\"locationmode\":\"USA-states\",\"lon\":[-95.33972,-97.66987],\"mode\":\"lines\",\"type\":\"scattergeo\"},{\"lat\":[39.85841,30.19453],\"line\":{\"color\":\"red\",\"width\":1},\"locationmode\":\"USA-states\",\"lon\":[-104.667,-97.66987],\"mode\":\"lines\",\"type\":\"scattergeo\"},{\"lat\":[39.85841,30.19453],\"line\":{\"color\":\"red\",\"width\":1},\"locationmode\":\"USA-states\",\"lon\":[-104.667,-97.66987],\"mode\":\"lines\",\"type\":\"scattergeo\"},{\"lat\":[39.85841,30.19453],\"line\":{\"color\":\"red\",\"width\":1},\"locationmode\":\"USA-states\",\"lon\":[-104.667,-97.66987],\"mode\":\"lines\",\"type\":\"scattergeo\"},{\"lat\":[39.85841,30.19453],\"line\":{\"color\":\"red\",\"width\":1},\"locationmode\":\"USA-states\",\"lon\":[-104.667,-97.66987],\"mode\":\"lines\",\"type\":\"scattergeo\"},{\"lat\":[39.85841,30.19453],\"line\":{\"color\":\"red\",\"width\":1},\"locationmode\":\"USA-states\",\"lon\":[-104.667,-97.66987],\"mode\":\"lines\",\"type\":\"scattergeo\"},{\"lat\":[37.619,30.19453],\"line\":{\"color\":\"red\",\"width\":1},\"locationmode\":\"USA-states\",\"lon\":[-122.37484,-97.66987],\"mode\":\"lines\",\"type\":\"scattergeo\"},{\"lat\":[32.89595,30.19453],\"line\":{\"color\":\"red\",\"width\":1},\"locationmode\":\"USA-states\",\"lon\":[-97.0372,-97.66987],\"mode\":\"lines\",\"type\":\"scattergeo\"},{\"lat\":[32.89595,30.19453],\"line\":{\"color\":\"red\",\"width\":1},\"locationmode\":\"USA-states\",\"lon\":[-97.0372,-97.66987],\"mode\":\"lines\",\"type\":\"scattergeo\"},{\"lat\":[32.89595,30.19453],\"line\":{\"color\":\"red\",\"width\":1},\"locationmode\":\"USA-states\",\"lon\":[-97.0372,-97.66987],\"mode\":\"lines\",\"type\":\"scattergeo\"},{\"lat\":[32.89595,30.19453],\"line\":{\"color\":\"red\",\"width\":1},\"locationmode\":\"USA-states\",\"lon\":[-97.0372,-97.66987],\"mode\":\"lines\",\"type\":\"scattergeo\"},{\"lat\":[28.42889,30.19453],\"line\":{\"color\":\"red\",\"width\":1},\"locationmode\":\"USA-states\",\"lon\":[-81.31603,-97.66987],\"mode\":\"lines\",\"type\":\"scattergeo\"},{\"lat\":[32.73356,30.19453],\"line\":{\"color\":\"red\",\"width\":1},\"locationmode\":\"USA-states\",\"lon\":[-117.18966,-97.66987],\"mode\":\"lines\",\"type\":\"scattergeo\"},{\"lat\":[41.9796,30.19453],\"line\":{\"color\":\"red\",\"width\":1},\"locationmode\":\"USA-states\",\"lon\":[-87.90446,-97.66987],\"mode\":\"lines\",\"type\":\"scattergeo\"},{\"lat\":[33.94254,30.19453],\"line\":{\"color\":\"red\",\"width\":1},\"locationmode\":\"USA-states\",\"lon\":[-118.40807,-97.66987],\"mode\":\"lines\",\"type\":\"scattergeo\"},{\"lat\":[33.94254,30.19453],\"line\":{\"color\":\"red\",\"width\":1},\"locationmode\":\"USA-states\",\"lon\":[-118.40807,-97.66987],\"mode\":\"lines\",\"type\":\"scattergeo\"},{\"lat\":[33.43417,30.19453],\"line\":{\"color\":\"red\",\"width\":1},\"locationmode\":\"USA-states\",\"lon\":[-112.00806,-97.66987],\"mode\":\"lines\",\"type\":\"scattergeo\"},{\"lat\":[33.43417,30.19453],\"line\":{\"color\":\"red\",\"width\":1},\"locationmode\":\"USA-states\",\"lon\":[-112.00806,-97.66987],\"mode\":\"lines\",\"type\":\"scattergeo\"},{\"lat\":[32.84711,30.19453],\"line\":{\"color\":\"red\",\"width\":1},\"locationmode\":\"USA-states\",\"lon\":[-96.85177,-97.66987],\"mode\":\"lines\",\"type\":\"scattergeo\"},{\"lat\":[32.84711,30.19453],\"line\":{\"color\":\"red\",\"width\":1},\"locationmode\":\"USA-states\",\"lon\":[-96.85177,-97.66987],\"mode\":\"lines\",\"type\":\"scattergeo\"},{\"lat\":[32.84711,30.19453],\"line\":{\"color\":\"red\",\"width\":1},\"locationmode\":\"USA-states\",\"lon\":[-96.85177,-97.66987],\"mode\":\"lines\",\"type\":\"scattergeo\"},{\"lat\":[36.12448,30.19453],\"line\":{\"color\":\"red\",\"width\":1},\"locationmode\":\"USA-states\",\"lon\":[-86.67818,-97.66987],\"mode\":\"lines\",\"type\":\"scattergeo\"},{\"lat\":[36.08036,42.94722],\"line\":{\"color\":\"red\",\"width\":1},\"locationmode\":\"USA-states\",\"lon\":[-115.15233,-87.89658],\"mode\":\"lines\",\"type\":\"scattergeo\"},{\"lat\":[39.85841,42.94722],\"line\":{\"color\":\"red\",\"width\":1},\"locationmode\":\"USA-states\",\"lon\":[-104.667,-87.89658],\"mode\":\"lines\",\"type\":\"scattergeo\"},{\"lat\":[39.85841,42.94722],\"line\":{\"color\":\"red\",\"width\":1},\"locationmode\":\"USA-states\",\"lon\":[-104.667,-87.89658],\"mode\":\"lines\",\"type\":\"scattergeo\"},{\"lat\":[39.85841,42.94722],\"line\":{\"color\":\"red\",\"width\":1},\"locationmode\":\"USA-states\",\"lon\":[-104.667,-87.89658],\"mode\":\"lines\",\"type\":\"scattergeo\"},{\"lat\":[40.77724,42.94722],\"line\":{\"color\":\"red\",\"width\":1},\"locationmode\":\"USA-states\",\"lon\":[-73.87261,-87.89658],\"mode\":\"lines\",\"type\":\"scattergeo\"},{\"lat\":[33.64044,42.94722],\"line\":{\"color\":\"red\",\"width\":1},\"locationmode\":\"USA-states\",\"lon\":[-84.42694,-87.89658],\"mode\":\"lines\",\"type\":\"scattergeo\"},{\"lat\":[33.64044,42.94722],\"line\":{\"color\":\"red\",\"width\":1},\"locationmode\":\"USA-states\",\"lon\":[-84.42694,-87.89658],\"mode\":\"lines\",\"type\":\"scattergeo\"},{\"lat\":[32.89595,42.94722],\"line\":{\"color\":\"red\",\"width\":1},\"locationmode\":\"USA-states\",\"lon\":[-97.0372,-87.89658],\"mode\":\"lines\",\"type\":\"scattergeo\"},{\"lat\":[28.42889,42.94722],\"line\":{\"color\":\"red\",\"width\":1},\"locationmode\":\"USA-states\",\"lon\":[-81.31603,-87.89658],\"mode\":\"lines\",\"type\":\"scattergeo\"},{\"lat\":[44.88055,42.94722],\"line\":{\"color\":\"red\",\"width\":1},\"locationmode\":\"USA-states\",\"lon\":[-93.21692,-87.89658],\"mode\":\"lines\",\"type\":\"scattergeo\"},{\"lat\":[41.9796,42.94722],\"line\":{\"color\":\"red\",\"width\":1},\"locationmode\":\"USA-states\",\"lon\":[-87.90446,-87.89658],\"mode\":\"lines\",\"type\":\"scattergeo\"},{\"lat\":[41.9796,42.94722],\"line\":{\"color\":\"red\",\"width\":1},\"locationmode\":\"USA-states\",\"lon\":[-87.90446,-87.89658],\"mode\":\"lines\",\"type\":\"scattergeo\"},{\"lat\":[33.43417,42.94722],\"line\":{\"color\":\"red\",\"width\":1},\"locationmode\":\"USA-states\",\"lon\":[-112.00806,-87.89658],\"mode\":\"lines\",\"type\":\"scattergeo\"},{\"lat\":[42.21206,42.94722],\"line\":{\"color\":\"red\",\"width\":1},\"locationmode\":\"USA-states\",\"lon\":[-83.34884,-87.89658],\"mode\":\"lines\",\"type\":\"scattergeo\"},{\"lat\":[36.08036,43.56444],\"line\":{\"color\":\"red\",\"width\":1},\"locationmode\":\"USA-states\",\"lon\":[-115.15233,-116.22278],\"mode\":\"lines\",\"type\":\"scattergeo\"},{\"lat\":[29.98047,43.56444],\"line\":{\"color\":\"red\",\"width\":1},\"locationmode\":\"USA-states\",\"lon\":[-95.33972,-116.22278],\"mode\":\"lines\",\"type\":\"scattergeo\"},{\"lat\":[39.85841,43.56444],\"line\":{\"color\":\"red\",\"width\":1},\"locationmode\":\"USA-states\",\"lon\":[-104.667,-116.22278],\"mode\":\"lines\",\"type\":\"scattergeo\"},{\"lat\":[39.85841,43.56444],\"line\":{\"color\":\"red\",\"width\":1},\"locationmode\":\"USA-states\",\"lon\":[-104.667,-116.22278],\"mode\":\"lines\",\"type\":\"scattergeo\"},{\"lat\":[37.619,43.56444],\"line\":{\"color\":\"red\",\"width\":1},\"locationmode\":\"USA-states\",\"lon\":[-122.37484,-116.22278],\"mode\":\"lines\",\"type\":\"scattergeo\"},{\"lat\":[37.619,43.56444],\"line\":{\"color\":\"red\",\"width\":1},\"locationmode\":\"USA-states\",\"lon\":[-122.37484,-116.22278],\"mode\":\"lines\",\"type\":\"scattergeo\"},{\"lat\":[37.72129,43.56444],\"line\":{\"color\":\"red\",\"width\":1},\"locationmode\":\"USA-states\",\"lon\":[-122.22072,-116.22278],\"mode\":\"lines\",\"type\":\"scattergeo\"},{\"lat\":[33.94254,43.56444],\"line\":{\"color\":\"red\",\"width\":1},\"locationmode\":\"USA-states\",\"lon\":[-118.40807,-116.22278],\"mode\":\"lines\",\"type\":\"scattergeo\"},{\"lat\":[36.08036,33.43417],\"line\":{\"color\":\"red\",\"width\":1},\"locationmode\":\"USA-states\",\"lon\":[-115.15233,-112.00806],\"mode\":\"lines\",\"type\":\"scattergeo\"},{\"lat\":[36.08036,33.43417],\"line\":{\"color\":\"red\",\"width\":1},\"locationmode\":\"USA-states\",\"lon\":[-115.15233,-112.00806],\"mode\":\"lines\",\"type\":\"scattergeo\"},{\"lat\":[36.08036,33.43417],\"line\":{\"color\":\"red\",\"width\":1},\"locationmode\":\"USA-states\",\"lon\":[-115.15233,-112.00806],\"mode\":\"lines\",\"type\":\"scattergeo\"},{\"lat\":[45.58872,33.43417],\"line\":{\"color\":\"red\",\"width\":1},\"locationmode\":\"USA-states\",\"lon\":[-122.5975,-112.00806],\"mode\":\"lines\",\"type\":\"scattergeo\"},{\"lat\":[29.98047,33.43417],\"line\":{\"color\":\"red\",\"width\":1},\"locationmode\":\"USA-states\",\"lon\":[-95.33972,-112.00806],\"mode\":\"lines\",\"type\":\"scattergeo\"},{\"lat\":[29.98047,33.43417],\"line\":{\"color\":\"red\",\"width\":1},\"locationmode\":\"USA-states\",\"lon\":[-95.33972,-112.00806],\"mode\":\"lines\",\"type\":\"scattergeo\"},{\"lat\":[39.85841,33.43417],\"line\":{\"color\":\"red\",\"width\":1},\"locationmode\":\"USA-states\",\"lon\":[-104.667,-112.00806],\"mode\":\"lines\",\"type\":\"scattergeo\"},{\"lat\":[39.85841,33.43417],\"line\":{\"color\":\"red\",\"width\":1},\"locationmode\":\"USA-states\",\"lon\":[-104.667,-112.00806],\"mode\":\"lines\",\"type\":\"scattergeo\"},{\"lat\":[39.85841,33.43417],\"line\":{\"color\":\"red\",\"width\":1},\"locationmode\":\"USA-states\",\"lon\":[-104.667,-112.00806],\"mode\":\"lines\",\"type\":\"scattergeo\"},{\"lat\":[39.85841,33.43417],\"line\":{\"color\":\"red\",\"width\":1},\"locationmode\":\"USA-states\",\"lon\":[-104.667,-112.00806],\"mode\":\"lines\",\"type\":\"scattergeo\"},{\"lat\":[39.85841,33.43417],\"line\":{\"color\":\"red\",\"width\":1},\"locationmode\":\"USA-states\",\"lon\":[-104.667,-112.00806],\"mode\":\"lines\",\"type\":\"scattergeo\"},{\"lat\":[39.85841,33.43417],\"line\":{\"color\":\"red\",\"width\":1},\"locationmode\":\"USA-states\",\"lon\":[-104.667,-112.00806],\"mode\":\"lines\",\"type\":\"scattergeo\"},{\"lat\":[39.85841,33.43417],\"line\":{\"color\":\"red\",\"width\":1},\"locationmode\":\"USA-states\",\"lon\":[-104.667,-112.00806],\"mode\":\"lines\",\"type\":\"scattergeo\"},{\"lat\":[39.85841,33.43417],\"line\":{\"color\":\"red\",\"width\":1},\"locationmode\":\"USA-states\",\"lon\":[-104.667,-112.00806],\"mode\":\"lines\",\"type\":\"scattergeo\"},{\"lat\":[37.619,33.43417],\"line\":{\"color\":\"red\",\"width\":1},\"locationmode\":\"USA-states\",\"lon\":[-122.37484,-112.00806],\"mode\":\"lines\",\"type\":\"scattergeo\"},{\"lat\":[40.63975,33.43417],\"line\":{\"color\":\"red\",\"width\":1},\"locationmode\":\"USA-states\",\"lon\":[-73.77893,-112.00806],\"mode\":\"lines\",\"type\":\"scattergeo\"},{\"lat\":[40.63975,33.43417],\"line\":{\"color\":\"red\",\"width\":1},\"locationmode\":\"USA-states\",\"lon\":[-73.77893,-112.00806],\"mode\":\"lines\",\"type\":\"scattergeo\"},{\"lat\":[40.63975,33.43417],\"line\":{\"color\":\"red\",\"width\":1},\"locationmode\":\"USA-states\",\"lon\":[-73.77893,-112.00806],\"mode\":\"lines\",\"type\":\"scattergeo\"},{\"lat\":[40.63975,33.43417],\"line\":{\"color\":\"red\",\"width\":1},\"locationmode\":\"USA-states\",\"lon\":[-73.77893,-112.00806],\"mode\":\"lines\",\"type\":\"scattergeo\"},{\"lat\":[40.49147,33.43417],\"line\":{\"color\":\"red\",\"width\":1},\"locationmode\":\"USA-states\",\"lon\":[-80.23287,-112.00806],\"mode\":\"lines\",\"type\":\"scattergeo\"},{\"lat\":[35.04022,33.43417],\"line\":{\"color\":\"red\",\"width\":1},\"locationmode\":\"USA-states\",\"lon\":[-106.60919,-112.00806],\"mode\":\"lines\",\"type\":\"scattergeo\"},{\"lat\":[35.04022,33.43417],\"line\":{\"color\":\"red\",\"width\":1},\"locationmode\":\"USA-states\",\"lon\":[-106.60919,-112.00806],\"mode\":\"lines\",\"type\":\"scattergeo\"},{\"lat\":[39.1754,33.43417],\"line\":{\"color\":\"red\",\"width\":1},\"locationmode\":\"USA-states\",\"lon\":[-76.6682,-112.00806],\"mode\":\"lines\",\"type\":\"scattergeo\"},{\"lat\":[39.1754,33.43417],\"line\":{\"color\":\"red\",\"width\":1},\"locationmode\":\"USA-states\",\"lon\":[-76.6682,-112.00806],\"mode\":\"lines\",\"type\":\"scattergeo\"},{\"lat\":[32.89595,33.43417],\"line\":{\"color\":\"red\",\"width\":1},\"locationmode\":\"USA-states\",\"lon\":[-97.0372,-112.00806],\"mode\":\"lines\",\"type\":\"scattergeo\"},{\"lat\":[32.89595,33.43417],\"line\":{\"color\":\"red\",\"width\":1},\"locationmode\":\"USA-states\",\"lon\":[-97.0372,-112.00806],\"mode\":\"lines\",\"type\":\"scattergeo\"},{\"lat\":[32.89595,33.43417],\"line\":{\"color\":\"red\",\"width\":1},\"locationmode\":\"USA-states\",\"lon\":[-97.0372,-112.00806],\"mode\":\"lines\",\"type\":\"scattergeo\"},{\"lat\":[40.6925,33.43417],\"line\":{\"color\":\"red\",\"width\":1},\"locationmode\":\"USA-states\",\"lon\":[-74.16866,-112.00806],\"mode\":\"lines\",\"type\":\"scattergeo\"},{\"lat\":[40.6925,33.43417],\"line\":{\"color\":\"red\",\"width\":1},\"locationmode\":\"USA-states\",\"lon\":[-74.16866,-112.00806],\"mode\":\"lines\",\"type\":\"scattergeo\"},{\"lat\":[39.87195,33.43417],\"line\":{\"color\":\"red\",\"width\":1},\"locationmode\":\"USA-states\",\"lon\":[-75.24114,-112.00806],\"mode\":\"lines\",\"type\":\"scattergeo\"},{\"lat\":[30.19453,33.43417],\"line\":{\"color\":\"red\",\"width\":1},\"locationmode\":\"USA-states\",\"lon\":[-97.66987,-112.00806],\"mode\":\"lines\",\"type\":\"scattergeo\"},{\"lat\":[21.31869,33.43417],\"line\":{\"color\":\"red\",\"width\":1},\"locationmode\":\"USA-states\",\"lon\":[-157.92241,-112.00806],\"mode\":\"lines\",\"type\":\"scattergeo\"},{\"lat\":[21.31869,33.43417],\"line\":{\"color\":\"red\",\"width\":1},\"locationmode\":\"USA-states\",\"lon\":[-157.92241,-112.00806],\"mode\":\"lines\",\"type\":\"scattergeo\"},{\"lat\":[42.36435,33.43417],\"line\":{\"color\":\"red\",\"width\":1},\"locationmode\":\"USA-states\",\"lon\":[-71.00518,-112.00806],\"mode\":\"lines\",\"type\":\"scattergeo\"},{\"lat\":[32.73356,33.43417],\"line\":{\"color\":\"red\",\"width\":1},\"locationmode\":\"USA-states\",\"lon\":[-117.18966,-112.00806],\"mode\":\"lines\",\"type\":\"scattergeo\"},{\"lat\":[32.73356,33.43417],\"line\":{\"color\":\"red\",\"width\":1},\"locationmode\":\"USA-states\",\"lon\":[-117.18966,-112.00806],\"mode\":\"lines\",\"type\":\"scattergeo\"},{\"lat\":[29.53369,33.43417],\"line\":{\"color\":\"red\",\"width\":1},\"locationmode\":\"USA-states\",\"lon\":[-98.46978,-112.00806],\"mode\":\"lines\",\"type\":\"scattergeo\"},{\"lat\":[39.71733,33.43417],\"line\":{\"color\":\"red\",\"width\":1},\"locationmode\":\"USA-states\",\"lon\":[-86.29438,-112.00806],\"mode\":\"lines\",\"type\":\"scattergeo\"},{\"lat\":[21.97598,33.43417],\"line\":{\"color\":\"red\",\"width\":1},\"locationmode\":\"USA-states\",\"lon\":[-159.33896,-112.00806],\"mode\":\"lines\",\"type\":\"scattergeo\"},{\"lat\":[41.9796,33.43417],\"line\":{\"color\":\"red\",\"width\":1},\"locationmode\":\"USA-states\",\"lon\":[-87.90446,-112.00806],\"mode\":\"lines\",\"type\":\"scattergeo\"},{\"lat\":[41.9796,33.43417],\"line\":{\"color\":\"red\",\"width\":1},\"locationmode\":\"USA-states\",\"lon\":[-87.90446,-112.00806],\"mode\":\"lines\",\"type\":\"scattergeo\"},{\"lat\":[41.9796,33.43417],\"line\":{\"color\":\"red\",\"width\":1},\"locationmode\":\"USA-states\",\"lon\":[-87.90446,-112.00806],\"mode\":\"lines\",\"type\":\"scattergeo\"},{\"lat\":[41.9796,33.43417],\"line\":{\"color\":\"red\",\"width\":1},\"locationmode\":\"USA-states\",\"lon\":[-87.90446,-112.00806],\"mode\":\"lines\",\"type\":\"scattergeo\"},{\"lat\":[47.44898,33.43417],\"line\":{\"color\":\"red\",\"width\":1},\"locationmode\":\"USA-states\",\"lon\":[-122.30931,-112.00806],\"mode\":\"lines\",\"type\":\"scattergeo\"},{\"lat\":[33.94254,33.43417],\"line\":{\"color\":\"red\",\"width\":1},\"locationmode\":\"USA-states\",\"lon\":[-118.40807,-112.00806],\"mode\":\"lines\",\"type\":\"scattergeo\"},{\"lat\":[33.94254,33.43417],\"line\":{\"color\":\"red\",\"width\":1},\"locationmode\":\"USA-states\",\"lon\":[-118.40807,-112.00806],\"mode\":\"lines\",\"type\":\"scattergeo\"},{\"lat\":[33.94254,33.43417],\"line\":{\"color\":\"red\",\"width\":1},\"locationmode\":\"USA-states\",\"lon\":[-118.40807,-112.00806],\"mode\":\"lines\",\"type\":\"scattergeo\"},{\"lat\":[33.94254,33.43417],\"line\":{\"color\":\"red\",\"width\":1},\"locationmode\":\"USA-states\",\"lon\":[-118.40807,-112.00806],\"mode\":\"lines\",\"type\":\"scattergeo\"},{\"lat\":[33.94254,33.43417],\"line\":{\"color\":\"red\",\"width\":1},\"locationmode\":\"USA-states\",\"lon\":[-118.40807,-112.00806],\"mode\":\"lines\",\"type\":\"scattergeo\"},{\"lat\":[33.94254,33.43417],\"line\":{\"color\":\"red\",\"width\":1},\"locationmode\":\"USA-states\",\"lon\":[-118.40807,-112.00806],\"mode\":\"lines\",\"type\":\"scattergeo\"},{\"lat\":[40.78839,33.43417],\"line\":{\"color\":\"red\",\"width\":1},\"locationmode\":\"USA-states\",\"lon\":[-111.97777,-112.00806],\"mode\":\"lines\",\"type\":\"scattergeo\"},{\"lat\":[40.78839,33.43417],\"line\":{\"color\":\"red\",\"width\":1},\"locationmode\":\"USA-states\",\"lon\":[-111.97777,-112.00806],\"mode\":\"lines\",\"type\":\"scattergeo\"},{\"lat\":[40.78839,33.43417],\"line\":{\"color\":\"red\",\"width\":1},\"locationmode\":\"USA-states\",\"lon\":[-111.97777,-112.00806],\"mode\":\"lines\",\"type\":\"scattergeo\"},{\"lat\":[36.19837,33.43417],\"line\":{\"color\":\"red\",\"width\":1},\"locationmode\":\"USA-states\",\"lon\":[-95.88824,-112.00806],\"mode\":\"lines\",\"type\":\"scattergeo\"},{\"lat\":[38.74769,33.43417],\"line\":{\"color\":\"red\",\"width\":1},\"locationmode\":\"USA-states\",\"lon\":[-90.35999,-112.00806],\"mode\":\"lines\",\"type\":\"scattergeo\"},{\"lat\":[38.74769,33.43417],\"line\":{\"color\":\"red\",\"width\":1},\"locationmode\":\"USA-states\",\"lon\":[-90.35999,-112.00806],\"mode\":\"lines\",\"type\":\"scattergeo\"},{\"lat\":[42.21206,33.43417],\"line\":{\"color\":\"red\",\"width\":1},\"locationmode\":\"USA-states\",\"lon\":[-83.34884,-112.00806],\"mode\":\"lines\",\"type\":\"scattergeo\"},{\"lat\":[47.61986,33.43417],\"line\":{\"color\":\"red\",\"width\":1},\"locationmode\":\"USA-states\",\"lon\":[-117.53384,-112.00806],\"mode\":\"lines\",\"type\":\"scattergeo\"},{\"lat\":[33.67566,33.43417],\"line\":{\"color\":\"red\",\"width\":1},\"locationmode\":\"USA-states\",\"lon\":[-117.86822,-112.00806],\"mode\":\"lines\",\"type\":\"scattergeo\"},{\"lat\":[33.67566,33.43417],\"line\":{\"color\":\"red\",\"width\":1},\"locationmode\":\"USA-states\",\"lon\":[-117.86822,-112.00806],\"mode\":\"lines\",\"type\":\"scattergeo\"},{\"lat\":[35.21401,33.43417],\"line\":{\"color\":\"red\",\"width\":1},\"locationmode\":\"USA-states\",\"lon\":[-80.94313,-112.00806],\"mode\":\"lines\",\"type\":\"scattergeo\"},{\"lat\":[35.21401,33.43417],\"line\":{\"color\":\"red\",\"width\":1},\"locationmode\":\"USA-states\",\"lon\":[-80.94313,-112.00806],\"mode\":\"lines\",\"type\":\"scattergeo\"},{\"lat\":[37.36186,33.43417],\"line\":{\"color\":\"red\",\"width\":1},\"locationmode\":\"USA-states\",\"lon\":[-121.92901,-112.00806],\"mode\":\"lines\",\"type\":\"scattergeo\"},{\"lat\":[37.36186,33.43417],\"line\":{\"color\":\"red\",\"width\":1},\"locationmode\":\"USA-states\",\"lon\":[-121.92901,-112.00806],\"mode\":\"lines\",\"type\":\"scattergeo\"},{\"lat\":[37.36186,33.43417],\"line\":{\"color\":\"red\",\"width\":1},\"locationmode\":\"USA-states\",\"lon\":[-121.92901,-112.00806],\"mode\":\"lines\",\"type\":\"scattergeo\"},{\"lat\":[29.99339,33.43417],\"line\":{\"color\":\"red\",\"width\":1},\"locationmode\":\"USA-states\",\"lon\":[-90.25803,-112.00806],\"mode\":\"lines\",\"type\":\"scattergeo\"},{\"lat\":[31.80667,33.43417],\"line\":{\"color\":\"red\",\"width\":1},\"locationmode\":\"USA-states\",\"lon\":[-106.37781,-112.00806],\"mode\":\"lines\",\"type\":\"scattergeo\"},{\"lat\":[36.08036,40.78839],\"line\":{\"color\":\"red\",\"width\":1},\"locationmode\":\"USA-states\",\"lon\":[-115.15233,-111.97777],\"mode\":\"lines\",\"type\":\"scattergeo\"},{\"lat\":[39.85841,40.78839],\"line\":{\"color\":\"red\",\"width\":1},\"locationmode\":\"USA-states\",\"lon\":[-104.667,-111.97777],\"mode\":\"lines\",\"type\":\"scattergeo\"},{\"lat\":[39.85841,40.78839],\"line\":{\"color\":\"red\",\"width\":1},\"locationmode\":\"USA-states\",\"lon\":[-104.667,-111.97777],\"mode\":\"lines\",\"type\":\"scattergeo\"},{\"lat\":[39.85841,40.78839],\"line\":{\"color\":\"red\",\"width\":1},\"locationmode\":\"USA-states\",\"lon\":[-104.667,-111.97777],\"mode\":\"lines\",\"type\":\"scattergeo\"},{\"lat\":[39.85841,40.78839],\"line\":{\"color\":\"red\",\"width\":1},\"locationmode\":\"USA-states\",\"lon\":[-104.667,-111.97777],\"mode\":\"lines\",\"type\":\"scattergeo\"},{\"lat\":[37.619,40.78839],\"line\":{\"color\":\"red\",\"width\":1},\"locationmode\":\"USA-states\",\"lon\":[-122.37484,-111.97777],\"mode\":\"lines\",\"type\":\"scattergeo\"},{\"lat\":[40.63975,40.78839],\"line\":{\"color\":\"red\",\"width\":1},\"locationmode\":\"USA-states\",\"lon\":[-73.77893,-111.97777],\"mode\":\"lines\",\"type\":\"scattergeo\"},{\"lat\":[40.63975,40.78839],\"line\":{\"color\":\"red\",\"width\":1},\"locationmode\":\"USA-states\",\"lon\":[-73.77893,-111.97777],\"mode\":\"lines\",\"type\":\"scattergeo\"},{\"lat\":[35.39309,40.78839],\"line\":{\"color\":\"red\",\"width\":1},\"locationmode\":\"USA-states\",\"lon\":[-97.60073,-111.97777],\"mode\":\"lines\",\"type\":\"scattergeo\"},{\"lat\":[32.89595,40.78839],\"line\":{\"color\":\"red\",\"width\":1},\"locationmode\":\"USA-states\",\"lon\":[-97.0372,-111.97777],\"mode\":\"lines\",\"type\":\"scattergeo\"},{\"lat\":[32.89595,40.78839],\"line\":{\"color\":\"red\",\"width\":1},\"locationmode\":\"USA-states\",\"lon\":[-97.0372,-111.97777],\"mode\":\"lines\",\"type\":\"scattergeo\"},{\"lat\":[32.73356,40.78839],\"line\":{\"color\":\"red\",\"width\":1},\"locationmode\":\"USA-states\",\"lon\":[-117.18966,-111.97777],\"mode\":\"lines\",\"type\":\"scattergeo\"},{\"lat\":[37.72129,40.78839],\"line\":{\"color\":\"red\",\"width\":1},\"locationmode\":\"USA-states\",\"lon\":[-122.22072,-111.97777],\"mode\":\"lines\",\"type\":\"scattergeo\"},{\"lat\":[33.94254,40.78839],\"line\":{\"color\":\"red\",\"width\":1},\"locationmode\":\"USA-states\",\"lon\":[-118.40807,-111.97777],\"mode\":\"lines\",\"type\":\"scattergeo\"},{\"lat\":[33.94254,40.78839],\"line\":{\"color\":\"red\",\"width\":1},\"locationmode\":\"USA-states\",\"lon\":[-118.40807,-111.97777],\"mode\":\"lines\",\"type\":\"scattergeo\"},{\"lat\":[40.4409,40.78839],\"line\":{\"color\":\"red\",\"width\":1},\"locationmode\":\"USA-states\",\"lon\":[-109.50992,-111.97777],\"mode\":\"lines\",\"type\":\"scattergeo\"},{\"lat\":[33.43417,40.78839],\"line\":{\"color\":\"red\",\"width\":1},\"locationmode\":\"USA-states\",\"lon\":[-112.00806,-111.97777],\"mode\":\"lines\",\"type\":\"scattergeo\"},{\"lat\":[33.43417,40.78839],\"line\":{\"color\":\"red\",\"width\":1},\"locationmode\":\"USA-states\",\"lon\":[-112.00806,-111.97777],\"mode\":\"lines\",\"type\":\"scattergeo\"},{\"lat\":[35.21401,40.78839],\"line\":{\"color\":\"red\",\"width\":1},\"locationmode\":\"USA-states\",\"lon\":[-80.94313,-111.97777],\"mode\":\"lines\",\"type\":\"scattergeo\"},{\"lat\":[37.70097,40.78839],\"line\":{\"color\":\"red\",\"width\":1},\"locationmode\":\"USA-states\",\"lon\":[-113.09858,-111.97777],\"mode\":\"lines\",\"type\":\"scattergeo\"},{\"lat\":[33.81772,40.78839],\"line\":{\"color\":\"red\",\"width\":1},\"locationmode\":\"USA-states\",\"lon\":[-118.15161,-111.97777],\"mode\":\"lines\",\"type\":\"scattergeo\"},{\"lat\":[36.08036,37.72129],\"line\":{\"color\":\"red\",\"width\":1},\"locationmode\":\"USA-states\",\"lon\":[-115.15233,-122.22072],\"mode\":\"lines\",\"type\":\"scattergeo\"},{\"lat\":[36.08036,37.72129],\"line\":{\"color\":\"red\",\"width\":1},\"locationmode\":\"USA-states\",\"lon\":[-115.15233,-122.22072],\"mode\":\"lines\",\"type\":\"scattergeo\"},{\"lat\":[36.08036,37.72129],\"line\":{\"color\":\"red\",\"width\":1},\"locationmode\":\"USA-states\",\"lon\":[-115.15233,-122.22072],\"mode\":\"lines\",\"type\":\"scattergeo\"},{\"lat\":[39.85841,37.72129],\"line\":{\"color\":\"red\",\"width\":1},\"locationmode\":\"USA-states\",\"lon\":[-104.667,-122.22072],\"mode\":\"lines\",\"type\":\"scattergeo\"},{\"lat\":[35.04022,37.72129],\"line\":{\"color\":\"red\",\"width\":1},\"locationmode\":\"USA-states\",\"lon\":[-106.60919,-122.22072],\"mode\":\"lines\",\"type\":\"scattergeo\"},{\"lat\":[32.73356,37.72129],\"line\":{\"color\":\"red\",\"width\":1},\"locationmode\":\"USA-states\",\"lon\":[-117.18966,-122.22072],\"mode\":\"lines\",\"type\":\"scattergeo\"},{\"lat\":[32.73356,37.72129],\"line\":{\"color\":\"red\",\"width\":1},\"locationmode\":\"USA-states\",\"lon\":[-117.18966,-122.22072],\"mode\":\"lines\",\"type\":\"scattergeo\"},{\"lat\":[32.73356,37.72129],\"line\":{\"color\":\"red\",\"width\":1},\"locationmode\":\"USA-states\",\"lon\":[-117.18966,-122.22072],\"mode\":\"lines\",\"type\":\"scattergeo\"},{\"lat\":[32.73356,37.72129],\"line\":{\"color\":\"red\",\"width\":1},\"locationmode\":\"USA-states\",\"lon\":[-117.18966,-122.22072],\"mode\":\"lines\",\"type\":\"scattergeo\"},{\"lat\":[32.73356,37.72129],\"line\":{\"color\":\"red\",\"width\":1},\"locationmode\":\"USA-states\",\"lon\":[-117.18966,-122.22072],\"mode\":\"lines\",\"type\":\"scattergeo\"},{\"lat\":[34.056,37.72129],\"line\":{\"color\":\"red\",\"width\":1},\"locationmode\":\"USA-states\",\"lon\":[-117.60119,-122.22072],\"mode\":\"lines\",\"type\":\"scattergeo\"},{\"lat\":[47.44898,37.72129],\"line\":{\"color\":\"red\",\"width\":1},\"locationmode\":\"USA-states\",\"lon\":[-122.30931,-122.22072],\"mode\":\"lines\",\"type\":\"scattergeo\"},{\"lat\":[33.94254,37.72129],\"line\":{\"color\":\"red\",\"width\":1},\"locationmode\":\"USA-states\",\"lon\":[-118.40807,-122.22072],\"mode\":\"lines\",\"type\":\"scattergeo\"},{\"lat\":[33.94254,37.72129],\"line\":{\"color\":\"red\",\"width\":1},\"locationmode\":\"USA-states\",\"lon\":[-118.40807,-122.22072],\"mode\":\"lines\",\"type\":\"scattergeo\"},{\"lat\":[33.94254,37.72129],\"line\":{\"color\":\"red\",\"width\":1},\"locationmode\":\"USA-states\",\"lon\":[-118.40807,-122.22072],\"mode\":\"lines\",\"type\":\"scattergeo\"},{\"lat\":[40.78839,37.72129],\"line\":{\"color\":\"red\",\"width\":1},\"locationmode\":\"USA-states\",\"lon\":[-111.97777,-122.22072],\"mode\":\"lines\",\"type\":\"scattergeo\"},{\"lat\":[34.20062,37.72129],\"line\":{\"color\":\"red\",\"width\":1},\"locationmode\":\"USA-states\",\"lon\":[-118.3585,-122.22072],\"mode\":\"lines\",\"type\":\"scattergeo\"},{\"lat\":[33.43417,37.72129],\"line\":{\"color\":\"red\",\"width\":1},\"locationmode\":\"USA-states\",\"lon\":[-112.00806,-122.22072],\"mode\":\"lines\",\"type\":\"scattergeo\"},{\"lat\":[36.08036,33.67566],\"line\":{\"color\":\"red\",\"width\":1},\"locationmode\":\"USA-states\",\"lon\":[-115.15233,-117.86822],\"mode\":\"lines\",\"type\":\"scattergeo\"},{\"lat\":[29.98047,33.67566],\"line\":{\"color\":\"red\",\"width\":1},\"locationmode\":\"USA-states\",\"lon\":[-95.33972,-117.86822],\"mode\":\"lines\",\"type\":\"scattergeo\"},{\"lat\":[39.85841,33.67566],\"line\":{\"color\":\"red\",\"width\":1},\"locationmode\":\"USA-states\",\"lon\":[-104.667,-117.86822],\"mode\":\"lines\",\"type\":\"scattergeo\"},{\"lat\":[39.85841,33.67566],\"line\":{\"color\":\"red\",\"width\":1},\"locationmode\":\"USA-states\",\"lon\":[-104.667,-117.86822],\"mode\":\"lines\",\"type\":\"scattergeo\"},{\"lat\":[39.85841,33.67566],\"line\":{\"color\":\"red\",\"width\":1},\"locationmode\":\"USA-states\",\"lon\":[-104.667,-117.86822],\"mode\":\"lines\",\"type\":\"scattergeo\"},{\"lat\":[32.89595,33.67566],\"line\":{\"color\":\"red\",\"width\":1},\"locationmode\":\"USA-states\",\"lon\":[-97.0372,-117.86822],\"mode\":\"lines\",\"type\":\"scattergeo\"},{\"lat\":[41.9796,33.67566],\"line\":{\"color\":\"red\",\"width\":1},\"locationmode\":\"USA-states\",\"lon\":[-87.90446,-117.86822],\"mode\":\"lines\",\"type\":\"scattergeo\"},{\"lat\":[47.44898,33.67566],\"line\":{\"color\":\"red\",\"width\":1},\"locationmode\":\"USA-states\",\"lon\":[-122.30931,-117.86822],\"mode\":\"lines\",\"type\":\"scattergeo\"},{\"lat\":[37.72129,33.67566],\"line\":{\"color\":\"red\",\"width\":1},\"locationmode\":\"USA-states\",\"lon\":[-122.22072,-117.86822],\"mode\":\"lines\",\"type\":\"scattergeo\"},{\"lat\":[37.72129,33.67566],\"line\":{\"color\":\"red\",\"width\":1},\"locationmode\":\"USA-states\",\"lon\":[-122.22072,-117.86822],\"mode\":\"lines\",\"type\":\"scattergeo\"},{\"lat\":[33.43417,33.67566],\"line\":{\"color\":\"red\",\"width\":1},\"locationmode\":\"USA-states\",\"lon\":[-112.00806,-117.86822],\"mode\":\"lines\",\"type\":\"scattergeo\"},{\"lat\":[33.43417,33.67566],\"line\":{\"color\":\"red\",\"width\":1},\"locationmode\":\"USA-states\",\"lon\":[-112.00806,-117.86822],\"mode\":\"lines\",\"type\":\"scattergeo\"},{\"lat\":[37.36186,33.67566],\"line\":{\"color\":\"red\",\"width\":1},\"locationmode\":\"USA-states\",\"lon\":[-121.92901,-117.86822],\"mode\":\"lines\",\"type\":\"scattergeo\"},{\"lat\":[37.36186,33.67566],\"line\":{\"color\":\"red\",\"width\":1},\"locationmode\":\"USA-states\",\"lon\":[-121.92901,-117.86822],\"mode\":\"lines\",\"type\":\"scattergeo\"},{\"lat\":[36.08036,32.84711],\"line\":{\"color\":\"red\",\"width\":1},\"locationmode\":\"USA-states\",\"lon\":[-115.15233,-96.85177],\"mode\":\"lines\",\"type\":\"scattergeo\"},{\"lat\":[36.08036,32.84711],\"line\":{\"color\":\"red\",\"width\":1},\"locationmode\":\"USA-states\",\"lon\":[-115.15233,-96.85177],\"mode\":\"lines\",\"type\":\"scattergeo\"},{\"lat\":[39.85841,32.84711],\"line\":{\"color\":\"red\",\"width\":1},\"locationmode\":\"USA-states\",\"lon\":[-104.667,-96.85177],\"mode\":\"lines\",\"type\":\"scattergeo\"},{\"lat\":[37.619,32.84711],\"line\":{\"color\":\"red\",\"width\":1},\"locationmode\":\"USA-states\",\"lon\":[-122.37484,-96.85177],\"mode\":\"lines\",\"type\":\"scattergeo\"},{\"lat\":[35.04022,32.84711],\"line\":{\"color\":\"red\",\"width\":1},\"locationmode\":\"USA-states\",\"lon\":[-106.60919,-96.85177],\"mode\":\"lines\",\"type\":\"scattergeo\"},{\"lat\":[35.04022,32.84711],\"line\":{\"color\":\"red\",\"width\":1},\"locationmode\":\"USA-states\",\"lon\":[-106.60919,-96.85177],\"mode\":\"lines\",\"type\":\"scattergeo\"},{\"lat\":[35.04022,32.84711],\"line\":{\"color\":\"red\",\"width\":1},\"locationmode\":\"USA-states\",\"lon\":[-106.60919,-96.85177],\"mode\":\"lines\",\"type\":\"scattergeo\"},{\"lat\":[35.39309,32.84711],\"line\":{\"color\":\"red\",\"width\":1},\"locationmode\":\"USA-states\",\"lon\":[-97.60073,-96.85177],\"mode\":\"lines\",\"type\":\"scattergeo\"},{\"lat\":[26.07258,32.84711],\"line\":{\"color\":\"red\",\"width\":1},\"locationmode\":\"USA-states\",\"lon\":[-80.15275,-96.85177],\"mode\":\"lines\",\"type\":\"scattergeo\"},{\"lat\":[33.64044,32.84711],\"line\":{\"color\":\"red\",\"width\":1},\"locationmode\":\"USA-states\",\"lon\":[-84.42694,-96.85177],\"mode\":\"lines\",\"type\":\"scattergeo\"},{\"lat\":[38.85208,32.84711],\"line\":{\"color\":\"red\",\"width\":1},\"locationmode\":\"USA-states\",\"lon\":[-77.03772,-96.85177],\"mode\":\"lines\",\"type\":\"scattergeo\"},{\"lat\":[32.73356,32.84711],\"line\":{\"color\":\"red\",\"width\":1},\"locationmode\":\"USA-states\",\"lon\":[-117.18966,-96.85177],\"mode\":\"lines\",\"type\":\"scattergeo\"},{\"lat\":[33.94254,32.84711],\"line\":{\"color\":\"red\",\"width\":1},\"locationmode\":\"USA-states\",\"lon\":[-118.40807,-96.85177],\"mode\":\"lines\",\"type\":\"scattergeo\"},{\"lat\":[33.94254,32.84711],\"line\":{\"color\":\"red\",\"width\":1},\"locationmode\":\"USA-states\",\"lon\":[-118.40807,-96.85177],\"mode\":\"lines\",\"type\":\"scattergeo\"},{\"lat\":[33.94254,32.84711],\"line\":{\"color\":\"red\",\"width\":1},\"locationmode\":\"USA-states\",\"lon\":[-118.40807,-96.85177],\"mode\":\"lines\",\"type\":\"scattergeo\"},{\"lat\":[33.43417,32.84711],\"line\":{\"color\":\"red\",\"width\":1},\"locationmode\":\"USA-states\",\"lon\":[-112.00806,-96.85177],\"mode\":\"lines\",\"type\":\"scattergeo\"},{\"lat\":[33.43417,32.84711],\"line\":{\"color\":\"red\",\"width\":1},\"locationmode\":\"USA-states\",\"lon\":[-112.00806,-96.85177],\"mode\":\"lines\",\"type\":\"scattergeo\"},{\"lat\":[41.78598,32.84711],\"line\":{\"color\":\"red\",\"width\":1},\"locationmode\":\"USA-states\",\"lon\":[-87.75242,-96.85177],\"mode\":\"lines\",\"type\":\"scattergeo\"},{\"lat\":[38.74769,32.84711],\"line\":{\"color\":\"red\",\"width\":1},\"locationmode\":\"USA-states\",\"lon\":[-90.35999,-96.85177],\"mode\":\"lines\",\"type\":\"scattergeo\"},{\"lat\":[38.74769,32.84711],\"line\":{\"color\":\"red\",\"width\":1},\"locationmode\":\"USA-states\",\"lon\":[-90.35999,-96.85177],\"mode\":\"lines\",\"type\":\"scattergeo\"},{\"lat\":[33.67566,32.84711],\"line\":{\"color\":\"red\",\"width\":1},\"locationmode\":\"USA-states\",\"lon\":[-117.86822,-96.85177],\"mode\":\"lines\",\"type\":\"scattergeo\"},{\"lat\":[29.64542,32.84711],\"line\":{\"color\":\"red\",\"width\":1},\"locationmode\":\"USA-states\",\"lon\":[-95.27889,-96.85177],\"mode\":\"lines\",\"type\":\"scattergeo\"},{\"lat\":[29.64542,32.84711],\"line\":{\"color\":\"red\",\"width\":1},\"locationmode\":\"USA-states\",\"lon\":[-95.27889,-96.85177],\"mode\":\"lines\",\"type\":\"scattergeo\"},{\"lat\":[29.64542,32.84711],\"line\":{\"color\":\"red\",\"width\":1},\"locationmode\":\"USA-states\",\"lon\":[-95.27889,-96.85177],\"mode\":\"lines\",\"type\":\"scattergeo\"},{\"lat\":[31.94253,32.84711],\"line\":{\"color\":\"red\",\"width\":1},\"locationmode\":\"USA-states\",\"lon\":[-102.20191,-96.85177],\"mode\":\"lines\",\"type\":\"scattergeo\"},{\"lat\":[39.29761,32.84711],\"line\":{\"color\":\"red\",\"width\":1},\"locationmode\":\"USA-states\",\"lon\":[-94.71391,-96.85177],\"mode\":\"lines\",\"type\":\"scattergeo\"},{\"lat\":[35.21937,32.84711],\"line\":{\"color\":\"red\",\"width\":1},\"locationmode\":\"USA-states\",\"lon\":[-101.70593,-96.85177],\"mode\":\"lines\",\"type\":\"scattergeo\"},{\"lat\":[36.08036,34.7294],\"line\":{\"color\":\"red\",\"width\":1},\"locationmode\":\"USA-states\",\"lon\":[-115.15233,-92.22425],\"mode\":\"lines\",\"type\":\"scattergeo\"},{\"lat\":[39.1754,34.7294],\"line\":{\"color\":\"red\",\"width\":1},\"locationmode\":\"USA-states\",\"lon\":[-76.6682,-92.22425],\"mode\":\"lines\",\"type\":\"scattergeo\"},{\"lat\":[32.89595,34.7294],\"line\":{\"color\":\"red\",\"width\":1},\"locationmode\":\"USA-states\",\"lon\":[-97.0372,-92.22425],\"mode\":\"lines\",\"type\":\"scattergeo\"},{\"lat\":[41.9796,34.7294],\"line\":{\"color\":\"red\",\"width\":1},\"locationmode\":\"USA-states\",\"lon\":[-87.90446,-92.22425],\"mode\":\"lines\",\"type\":\"scattergeo\"},{\"lat\":[32.84711,34.7294],\"line\":{\"color\":\"red\",\"width\":1},\"locationmode\":\"USA-states\",\"lon\":[-96.85177,-92.22425],\"mode\":\"lines\",\"type\":\"scattergeo\"},{\"lat\":[32.84711,34.7294],\"line\":{\"color\":\"red\",\"width\":1},\"locationmode\":\"USA-states\",\"lon\":[-96.85177,-92.22425],\"mode\":\"lines\",\"type\":\"scattergeo\"},{\"lat\":[36.08036,39.29761],\"line\":{\"color\":\"red\",\"width\":1},\"locationmode\":\"USA-states\",\"lon\":[-115.15233,-94.71391],\"mode\":\"lines\",\"type\":\"scattergeo\"},{\"lat\":[39.85841,39.29761],\"line\":{\"color\":\"red\",\"width\":1},\"locationmode\":\"USA-states\",\"lon\":[-104.667,-94.71391],\"mode\":\"lines\",\"type\":\"scattergeo\"},{\"lat\":[37.619,39.29761],\"line\":{\"color\":\"red\",\"width\":1},\"locationmode\":\"USA-states\",\"lon\":[-122.37484,-94.71391],\"mode\":\"lines\",\"type\":\"scattergeo\"},{\"lat\":[42.94722,39.29761],\"line\":{\"color\":\"red\",\"width\":1},\"locationmode\":\"USA-states\",\"lon\":[-87.89658,-94.71391],\"mode\":\"lines\",\"type\":\"scattergeo\"},{\"lat\":[32.89595,39.29761],\"line\":{\"color\":\"red\",\"width\":1},\"locationmode\":\"USA-states\",\"lon\":[-97.0372,-94.71391],\"mode\":\"lines\",\"type\":\"scattergeo\"},{\"lat\":[28.42889,39.29761],\"line\":{\"color\":\"red\",\"width\":1},\"locationmode\":\"USA-states\",\"lon\":[-81.31603,-94.71391],\"mode\":\"lines\",\"type\":\"scattergeo\"},{\"lat\":[41.9796,39.29761],\"line\":{\"color\":\"red\",\"width\":1},\"locationmode\":\"USA-states\",\"lon\":[-87.90446,-94.71391],\"mode\":\"lines\",\"type\":\"scattergeo\"},{\"lat\":[47.44898,39.29761],\"line\":{\"color\":\"red\",\"width\":1},\"locationmode\":\"USA-states\",\"lon\":[-122.30931,-94.71391],\"mode\":\"lines\",\"type\":\"scattergeo\"},{\"lat\":[33.94254,39.29761],\"line\":{\"color\":\"red\",\"width\":1},\"locationmode\":\"USA-states\",\"lon\":[-118.40807,-94.71391],\"mode\":\"lines\",\"type\":\"scattergeo\"},{\"lat\":[33.94254,39.29761],\"line\":{\"color\":\"red\",\"width\":1},\"locationmode\":\"USA-states\",\"lon\":[-118.40807,-94.71391],\"mode\":\"lines\",\"type\":\"scattergeo\"},{\"lat\":[33.43417,39.29761],\"line\":{\"color\":\"red\",\"width\":1},\"locationmode\":\"USA-states\",\"lon\":[-112.00806,-94.71391],\"mode\":\"lines\",\"type\":\"scattergeo\"},{\"lat\":[41.78598,39.29761],\"line\":{\"color\":\"red\",\"width\":1},\"locationmode\":\"USA-states\",\"lon\":[-87.75242,-94.71391],\"mode\":\"lines\",\"type\":\"scattergeo\"},{\"lat\":[35.21401,39.29761],\"line\":{\"color\":\"red\",\"width\":1},\"locationmode\":\"USA-states\",\"lon\":[-80.94313,-94.71391],\"mode\":\"lines\",\"type\":\"scattergeo\"},{\"lat\":[32.84711,39.29761],\"line\":{\"color\":\"red\",\"width\":1},\"locationmode\":\"USA-states\",\"lon\":[-96.85177,-94.71391],\"mode\":\"lines\",\"type\":\"scattergeo\"},{\"lat\":[36.08036,41.78598],\"line\":{\"color\":\"red\",\"width\":1},\"locationmode\":\"USA-states\",\"lon\":[-115.15233,-87.75242],\"mode\":\"lines\",\"type\":\"scattergeo\"},{\"lat\":[39.85841,41.78598],\"line\":{\"color\":\"red\",\"width\":1},\"locationmode\":\"USA-states\",\"lon\":[-104.667,-87.75242],\"mode\":\"lines\",\"type\":\"scattergeo\"},{\"lat\":[39.85841,41.78598],\"line\":{\"color\":\"red\",\"width\":1},\"locationmode\":\"USA-states\",\"lon\":[-104.667,-87.75242],\"mode\":\"lines\",\"type\":\"scattergeo\"},{\"lat\":[39.85841,41.78598],\"line\":{\"color\":\"red\",\"width\":1},\"locationmode\":\"USA-states\",\"lon\":[-104.667,-87.75242],\"mode\":\"lines\",\"type\":\"scattergeo\"},{\"lat\":[39.85841,41.78598],\"line\":{\"color\":\"red\",\"width\":1},\"locationmode\":\"USA-states\",\"lon\":[-104.667,-87.75242],\"mode\":\"lines\",\"type\":\"scattergeo\"},{\"lat\":[37.619,41.78598],\"line\":{\"color\":\"red\",\"width\":1},\"locationmode\":\"USA-states\",\"lon\":[-122.37484,-87.75242],\"mode\":\"lines\",\"type\":\"scattergeo\"},{\"lat\":[33.64044,41.78598],\"line\":{\"color\":\"red\",\"width\":1},\"locationmode\":\"USA-states\",\"lon\":[-84.42694,-87.75242],\"mode\":\"lines\",\"type\":\"scattergeo\"},{\"lat\":[28.42889,41.78598],\"line\":{\"color\":\"red\",\"width\":1},\"locationmode\":\"USA-states\",\"lon\":[-81.31603,-87.75242],\"mode\":\"lines\",\"type\":\"scattergeo\"},{\"lat\":[27.97547,41.78598],\"line\":{\"color\":\"red\",\"width\":1},\"locationmode\":\"USA-states\",\"lon\":[-82.53325,-87.75242],\"mode\":\"lines\",\"type\":\"scattergeo\"},{\"lat\":[34.056,41.78598],\"line\":{\"color\":\"red\",\"width\":1},\"locationmode\":\"USA-states\",\"lon\":[-117.60119,-87.75242],\"mode\":\"lines\",\"type\":\"scattergeo\"},{\"lat\":[33.94254,41.78598],\"line\":{\"color\":\"red\",\"width\":1},\"locationmode\":\"USA-states\",\"lon\":[-118.40807,-87.75242],\"mode\":\"lines\",\"type\":\"scattergeo\"},{\"lat\":[33.43417,41.78598],\"line\":{\"color\":\"red\",\"width\":1},\"locationmode\":\"USA-states\",\"lon\":[-112.00806,-87.75242],\"mode\":\"lines\",\"type\":\"scattergeo\"},{\"lat\":[29.64542,41.78598],\"line\":{\"color\":\"red\",\"width\":1},\"locationmode\":\"USA-states\",\"lon\":[-95.27889,-87.75242],\"mode\":\"lines\",\"type\":\"scattergeo\"},{\"lat\":[37.36186,41.78598],\"line\":{\"color\":\"red\",\"width\":1},\"locationmode\":\"USA-states\",\"lon\":[-121.92901,-87.75242],\"mode\":\"lines\",\"type\":\"scattergeo\"},{\"lat\":[29.99339,41.78598],\"line\":{\"color\":\"red\",\"width\":1},\"locationmode\":\"USA-states\",\"lon\":[-90.25803,-87.75242],\"mode\":\"lines\",\"type\":\"scattergeo\"},{\"lat\":[32.84711,41.78598],\"line\":{\"color\":\"red\",\"width\":1},\"locationmode\":\"USA-states\",\"lon\":[-96.85177,-87.75242],\"mode\":\"lines\",\"type\":\"scattergeo\"},{\"lat\":[32.84711,41.78598],\"line\":{\"color\":\"red\",\"width\":1},\"locationmode\":\"USA-states\",\"lon\":[-96.85177,-87.75242],\"mode\":\"lines\",\"type\":\"scattergeo\"},{\"lat\":[32.84711,41.78598],\"line\":{\"color\":\"red\",\"width\":1},\"locationmode\":\"USA-states\",\"lon\":[-96.85177,-87.75242],\"mode\":\"lines\",\"type\":\"scattergeo\"},{\"lat\":[36.12448,41.78598],\"line\":{\"color\":\"red\",\"width\":1},\"locationmode\":\"USA-states\",\"lon\":[-86.67818,-87.75242],\"mode\":\"lines\",\"type\":\"scattergeo\"},{\"lat\":[36.12448,41.78598],\"line\":{\"color\":\"red\",\"width\":1},\"locationmode\":\"USA-states\",\"lon\":[-86.67818,-87.75242],\"mode\":\"lines\",\"type\":\"scattergeo\"},{\"lat\":[41.53493,41.78598],\"line\":{\"color\":\"red\",\"width\":1},\"locationmode\":\"USA-states\",\"lon\":[-93.66068,-87.75242],\"mode\":\"lines\",\"type\":\"scattergeo\"},{\"lat\":[36.08036,32.11608],\"line\":{\"color\":\"red\",\"width\":1},\"locationmode\":\"USA-states\",\"lon\":[-115.15233,-110.94103],\"mode\":\"lines\",\"type\":\"scattergeo\"},{\"lat\":[29.98047,32.11608],\"line\":{\"color\":\"red\",\"width\":1},\"locationmode\":\"USA-states\",\"lon\":[-95.33972,-110.94103],\"mode\":\"lines\",\"type\":\"scattergeo\"},{\"lat\":[39.85841,32.11608],\"line\":{\"color\":\"red\",\"width\":1},\"locationmode\":\"USA-states\",\"lon\":[-104.667,-110.94103],\"mode\":\"lines\",\"type\":\"scattergeo\"},{\"lat\":[32.89595,32.11608],\"line\":{\"color\":\"red\",\"width\":1},\"locationmode\":\"USA-states\",\"lon\":[-97.0372,-110.94103],\"mode\":\"lines\",\"type\":\"scattergeo\"},{\"lat\":[32.89595,32.11608],\"line\":{\"color\":\"red\",\"width\":1},\"locationmode\":\"USA-states\",\"lon\":[-97.0372,-110.94103],\"mode\":\"lines\",\"type\":\"scattergeo\"},{\"lat\":[33.94254,32.11608],\"line\":{\"color\":\"red\",\"width\":1},\"locationmode\":\"USA-states\",\"lon\":[-118.40807,-110.94103],\"mode\":\"lines\",\"type\":\"scattergeo\"},{\"lat\":[33.94254,32.11608],\"line\":{\"color\":\"red\",\"width\":1},\"locationmode\":\"USA-states\",\"lon\":[-118.40807,-110.94103],\"mode\":\"lines\",\"type\":\"scattergeo\"},{\"lat\":[33.94254,32.11608],\"line\":{\"color\":\"red\",\"width\":1},\"locationmode\":\"USA-states\",\"lon\":[-118.40807,-110.94103],\"mode\":\"lines\",\"type\":\"scattergeo\"},{\"lat\":[33.43417,32.11608],\"line\":{\"color\":\"red\",\"width\":1},\"locationmode\":\"USA-states\",\"lon\":[-112.00806,-110.94103],\"mode\":\"lines\",\"type\":\"scattergeo\"},{\"lat\":[41.78598,32.11608],\"line\":{\"color\":\"red\",\"width\":1},\"locationmode\":\"USA-states\",\"lon\":[-87.75242,-110.94103],\"mode\":\"lines\",\"type\":\"scattergeo\"},{\"lat\":[36.08036,41.30252],\"line\":{\"color\":\"red\",\"width\":1},\"locationmode\":\"USA-states\",\"lon\":[-115.15233,-95.89417],\"mode\":\"lines\",\"type\":\"scattergeo\"},{\"lat\":[39.85841,41.30252],\"line\":{\"color\":\"red\",\"width\":1},\"locationmode\":\"USA-states\",\"lon\":[-104.667,-95.89417],\"mode\":\"lines\",\"type\":\"scattergeo\"},{\"lat\":[40.6925,41.30252],\"line\":{\"color\":\"red\",\"width\":1},\"locationmode\":\"USA-states\",\"lon\":[-74.16866,-95.89417],\"mode\":\"lines\",\"type\":\"scattergeo\"},{\"lat\":[41.9796,41.30252],\"line\":{\"color\":\"red\",\"width\":1},\"locationmode\":\"USA-states\",\"lon\":[-87.90446,-95.89417],\"mode\":\"lines\",\"type\":\"scattergeo\"},{\"lat\":[47.44898,41.30252],\"line\":{\"color\":\"red\",\"width\":1},\"locationmode\":\"USA-states\",\"lon\":[-122.30931,-95.89417],\"mode\":\"lines\",\"type\":\"scattergeo\"},{\"lat\":[36.08036,35.39309],\"line\":{\"color\":\"red\",\"width\":1},\"locationmode\":\"USA-states\",\"lon\":[-115.15233,-97.60073],\"mode\":\"lines\",\"type\":\"scattergeo\"},{\"lat\":[29.98047,35.39309],\"line\":{\"color\":\"red\",\"width\":1},\"locationmode\":\"USA-states\",\"lon\":[-95.33972,-97.60073],\"mode\":\"lines\",\"type\":\"scattergeo\"},{\"lat\":[39.85841,35.39309],\"line\":{\"color\":\"red\",\"width\":1},\"locationmode\":\"USA-states\",\"lon\":[-104.667,-97.60073],\"mode\":\"lines\",\"type\":\"scattergeo\"},{\"lat\":[39.85841,35.39309],\"line\":{\"color\":\"red\",\"width\":1},\"locationmode\":\"USA-states\",\"lon\":[-104.667,-97.60073],\"mode\":\"lines\",\"type\":\"scattergeo\"},{\"lat\":[37.619,35.39309],\"line\":{\"color\":\"red\",\"width\":1},\"locationmode\":\"USA-states\",\"lon\":[-122.37484,-97.60073],\"mode\":\"lines\",\"type\":\"scattergeo\"},{\"lat\":[39.1754,35.39309],\"line\":{\"color\":\"red\",\"width\":1},\"locationmode\":\"USA-states\",\"lon\":[-76.6682,-97.60073],\"mode\":\"lines\",\"type\":\"scattergeo\"},{\"lat\":[32.89595,35.39309],\"line\":{\"color\":\"red\",\"width\":1},\"locationmode\":\"USA-states\",\"lon\":[-97.0372,-97.60073],\"mode\":\"lines\",\"type\":\"scattergeo\"},{\"lat\":[32.89595,35.39309],\"line\":{\"color\":\"red\",\"width\":1},\"locationmode\":\"USA-states\",\"lon\":[-97.0372,-97.60073],\"mode\":\"lines\",\"type\":\"scattergeo\"},{\"lat\":[41.9796,35.39309],\"line\":{\"color\":\"red\",\"width\":1},\"locationmode\":\"USA-states\",\"lon\":[-87.90446,-97.60073],\"mode\":\"lines\",\"type\":\"scattergeo\"},{\"lat\":[40.78839,35.39309],\"line\":{\"color\":\"red\",\"width\":1},\"locationmode\":\"USA-states\",\"lon\":[-111.97777,-97.60073],\"mode\":\"lines\",\"type\":\"scattergeo\"},{\"lat\":[33.43417,35.39309],\"line\":{\"color\":\"red\",\"width\":1},\"locationmode\":\"USA-states\",\"lon\":[-112.00806,-97.60073],\"mode\":\"lines\",\"type\":\"scattergeo\"},{\"lat\":[38.94453,35.39309],\"line\":{\"color\":\"red\",\"width\":1},\"locationmode\":\"USA-states\",\"lon\":[-77.45581,-97.60073],\"mode\":\"lines\",\"type\":\"scattergeo\"},{\"lat\":[29.64542,35.39309],\"line\":{\"color\":\"red\",\"width\":1},\"locationmode\":\"USA-states\",\"lon\":[-95.27889,-97.60073],\"mode\":\"lines\",\"type\":\"scattergeo\"},{\"lat\":[36.08036,34.20062],\"line\":{\"color\":\"red\",\"width\":1},\"locationmode\":\"USA-states\",\"lon\":[-115.15233,-118.3585],\"mode\":\"lines\",\"type\":\"scattergeo\"},{\"lat\":[39.85841,34.20062],\"line\":{\"color\":\"red\",\"width\":1},\"locationmode\":\"USA-states\",\"lon\":[-104.667,-118.3585],\"mode\":\"lines\",\"type\":\"scattergeo\"},{\"lat\":[37.72129,34.20062],\"line\":{\"color\":\"red\",\"width\":1},\"locationmode\":\"USA-states\",\"lon\":[-122.22072,-118.3585],\"mode\":\"lines\",\"type\":\"scattergeo\"},{\"lat\":[37.72129,34.20062],\"line\":{\"color\":\"red\",\"width\":1},\"locationmode\":\"USA-states\",\"lon\":[-122.22072,-118.3585],\"mode\":\"lines\",\"type\":\"scattergeo\"},{\"lat\":[33.43417,34.20062],\"line\":{\"color\":\"red\",\"width\":1},\"locationmode\":\"USA-states\",\"lon\":[-112.00806,-118.3585],\"mode\":\"lines\",\"type\":\"scattergeo\"},{\"lat\":[33.43417,34.20062],\"line\":{\"color\":\"red\",\"width\":1},\"locationmode\":\"USA-states\",\"lon\":[-112.00806,-118.3585],\"mode\":\"lines\",\"type\":\"scattergeo\"},{\"lat\":[18.43942,28.42889],\"line\":{\"color\":\"red\",\"width\":1},\"locationmode\":\"USA-states\",\"lon\":[-66.00183,-81.31603],\"mode\":\"lines\",\"type\":\"scattergeo\"},{\"lat\":[29.98047,28.42889],\"line\":{\"color\":\"red\",\"width\":1},\"locationmode\":\"USA-states\",\"lon\":[-95.33972,-81.31603],\"mode\":\"lines\",\"type\":\"scattergeo\"},{\"lat\":[29.98047,28.42889],\"line\":{\"color\":\"red\",\"width\":1},\"locationmode\":\"USA-states\",\"lon\":[-95.33972,-81.31603],\"mode\":\"lines\",\"type\":\"scattergeo\"},{\"lat\":[39.85841,28.42889],\"line\":{\"color\":\"red\",\"width\":1},\"locationmode\":\"USA-states\",\"lon\":[-104.667,-81.31603],\"mode\":\"lines\",\"type\":\"scattergeo\"},{\"lat\":[39.85841,28.42889],\"line\":{\"color\":\"red\",\"width\":1},\"locationmode\":\"USA-states\",\"lon\":[-104.667,-81.31603],\"mode\":\"lines\",\"type\":\"scattergeo\"},{\"lat\":[39.85841,28.42889],\"line\":{\"color\":\"red\",\"width\":1},\"locationmode\":\"USA-states\",\"lon\":[-104.667,-81.31603],\"mode\":\"lines\",\"type\":\"scattergeo\"},{\"lat\":[40.63975,28.42889],\"line\":{\"color\":\"red\",\"width\":1},\"locationmode\":\"USA-states\",\"lon\":[-73.77893,-81.31603],\"mode\":\"lines\",\"type\":\"scattergeo\"},{\"lat\":[40.63975,28.42889],\"line\":{\"color\":\"red\",\"width\":1},\"locationmode\":\"USA-states\",\"lon\":[-73.77893,-81.31603],\"mode\":\"lines\",\"type\":\"scattergeo\"},{\"lat\":[40.63975,28.42889],\"line\":{\"color\":\"red\",\"width\":1},\"locationmode\":\"USA-states\",\"lon\":[-73.77893,-81.31603],\"mode\":\"lines\",\"type\":\"scattergeo\"},{\"lat\":[40.63975,28.42889],\"line\":{\"color\":\"red\",\"width\":1},\"locationmode\":\"USA-states\",\"lon\":[-73.77893,-81.31603],\"mode\":\"lines\",\"type\":\"scattergeo\"},{\"lat\":[40.63975,28.42889],\"line\":{\"color\":\"red\",\"width\":1},\"locationmode\":\"USA-states\",\"lon\":[-73.77893,-81.31603],\"mode\":\"lines\",\"type\":\"scattergeo\"},{\"lat\":[40.63975,28.42889],\"line\":{\"color\":\"red\",\"width\":1},\"locationmode\":\"USA-states\",\"lon\":[-73.77893,-81.31603],\"mode\":\"lines\",\"type\":\"scattergeo\"},{\"lat\":[40.49147,28.42889],\"line\":{\"color\":\"red\",\"width\":1},\"locationmode\":\"USA-states\",\"lon\":[-80.23287,-81.31603],\"mode\":\"lines\",\"type\":\"scattergeo\"},{\"lat\":[40.77724,28.42889],\"line\":{\"color\":\"red\",\"width\":1},\"locationmode\":\"USA-states\",\"lon\":[-73.87261,-81.31603],\"mode\":\"lines\",\"type\":\"scattergeo\"},{\"lat\":[33.64044,28.42889],\"line\":{\"color\":\"red\",\"width\":1},\"locationmode\":\"USA-states\",\"lon\":[-84.42694,-81.31603],\"mode\":\"lines\",\"type\":\"scattergeo\"},{\"lat\":[33.64044,28.42889],\"line\":{\"color\":\"red\",\"width\":1},\"locationmode\":\"USA-states\",\"lon\":[-84.42694,-81.31603],\"mode\":\"lines\",\"type\":\"scattergeo\"},{\"lat\":[33.64044,28.42889],\"line\":{\"color\":\"red\",\"width\":1},\"locationmode\":\"USA-states\",\"lon\":[-84.42694,-81.31603],\"mode\":\"lines\",\"type\":\"scattergeo\"},{\"lat\":[32.89595,28.42889],\"line\":{\"color\":\"red\",\"width\":1},\"locationmode\":\"USA-states\",\"lon\":[-97.0372,-81.31603],\"mode\":\"lines\",\"type\":\"scattergeo\"},{\"lat\":[40.6925,28.42889],\"line\":{\"color\":\"red\",\"width\":1},\"locationmode\":\"USA-states\",\"lon\":[-74.16866,-81.31603],\"mode\":\"lines\",\"type\":\"scattergeo\"},{\"lat\":[40.6925,28.42889],\"line\":{\"color\":\"red\",\"width\":1},\"locationmode\":\"USA-states\",\"lon\":[-74.16866,-81.31603],\"mode\":\"lines\",\"type\":\"scattergeo\"},{\"lat\":[39.87195,28.42889],\"line\":{\"color\":\"red\",\"width\":1},\"locationmode\":\"USA-states\",\"lon\":[-75.24114,-81.31603],\"mode\":\"lines\",\"type\":\"scattergeo\"},{\"lat\":[42.36435,28.42889],\"line\":{\"color\":\"red\",\"width\":1},\"locationmode\":\"USA-states\",\"lon\":[-71.00518,-81.31603],\"mode\":\"lines\",\"type\":\"scattergeo\"},{\"lat\":[42.36435,28.42889],\"line\":{\"color\":\"red\",\"width\":1},\"locationmode\":\"USA-states\",\"lon\":[-71.00518,-81.31603],\"mode\":\"lines\",\"type\":\"scattergeo\"},{\"lat\":[41.9796,28.42889],\"line\":{\"color\":\"red\",\"width\":1},\"locationmode\":\"USA-states\",\"lon\":[-87.90446,-81.31603],\"mode\":\"lines\",\"type\":\"scattergeo\"},{\"lat\":[33.94254,28.42889],\"line\":{\"color\":\"red\",\"width\":1},\"locationmode\":\"USA-states\",\"lon\":[-118.40807,-81.31603],\"mode\":\"lines\",\"type\":\"scattergeo\"},{\"lat\":[41.78598,28.42889],\"line\":{\"color\":\"red\",\"width\":1},\"locationmode\":\"USA-states\",\"lon\":[-87.75242,-81.31603],\"mode\":\"lines\",\"type\":\"scattergeo\"},{\"lat\":[41.78598,28.42889],\"line\":{\"color\":\"red\",\"width\":1},\"locationmode\":\"USA-states\",\"lon\":[-87.75242,-81.31603],\"mode\":\"lines\",\"type\":\"scattergeo\"},{\"lat\":[41.93887,28.42889],\"line\":{\"color\":\"red\",\"width\":1},\"locationmode\":\"USA-states\",\"lon\":[-72.68323,-81.31603],\"mode\":\"lines\",\"type\":\"scattergeo\"},{\"lat\":[42.21206,28.42889],\"line\":{\"color\":\"red\",\"width\":1},\"locationmode\":\"USA-states\",\"lon\":[-83.34884,-81.31603],\"mode\":\"lines\",\"type\":\"scattergeo\"},{\"lat\":[35.21401,28.42889],\"line\":{\"color\":\"red\",\"width\":1},\"locationmode\":\"USA-states\",\"lon\":[-80.94313,-81.31603],\"mode\":\"lines\",\"type\":\"scattergeo\"},{\"lat\":[29.64542,28.42889],\"line\":{\"color\":\"red\",\"width\":1},\"locationmode\":\"USA-states\",\"lon\":[-95.27889,-81.31603],\"mode\":\"lines\",\"type\":\"scattergeo\"},{\"lat\":[36.89461,28.42889],\"line\":{\"color\":\"red\",\"width\":1},\"locationmode\":\"USA-states\",\"lon\":[-76.20122,-81.31603],\"mode\":\"lines\",\"type\":\"scattergeo\"},{\"lat\":[18.43942,41.93887],\"line\":{\"color\":\"red\",\"width\":1},\"locationmode\":\"USA-states\",\"lon\":[-66.00183,-72.68323],\"mode\":\"lines\",\"type\":\"scattergeo\"},{\"lat\":[39.85841,41.93887],\"line\":{\"color\":\"red\",\"width\":1},\"locationmode\":\"USA-states\",\"lon\":[-104.667,-72.68323],\"mode\":\"lines\",\"type\":\"scattergeo\"},{\"lat\":[39.1754,41.93887],\"line\":{\"color\":\"red\",\"width\":1},\"locationmode\":\"USA-states\",\"lon\":[-76.6682,-72.68323],\"mode\":\"lines\",\"type\":\"scattergeo\"},{\"lat\":[32.89595,41.93887],\"line\":{\"color\":\"red\",\"width\":1},\"locationmode\":\"USA-states\",\"lon\":[-97.0372,-72.68323],\"mode\":\"lines\",\"type\":\"scattergeo\"},{\"lat\":[27.97547,41.93887],\"line\":{\"color\":\"red\",\"width\":1},\"locationmode\":\"USA-states\",\"lon\":[-82.53325,-72.68323],\"mode\":\"lines\",\"type\":\"scattergeo\"},{\"lat\":[41.9796,41.93887],\"line\":{\"color\":\"red\",\"width\":1},\"locationmode\":\"USA-states\",\"lon\":[-87.90446,-72.68323],\"mode\":\"lines\",\"type\":\"scattergeo\"},{\"lat\":[38.94453,41.93887],\"line\":{\"color\":\"red\",\"width\":1},\"locationmode\":\"USA-states\",\"lon\":[-77.45581,-72.68323],\"mode\":\"lines\",\"type\":\"scattergeo\"},{\"lat\":[35.21401,41.93887],\"line\":{\"color\":\"red\",\"width\":1},\"locationmode\":\"USA-states\",\"lon\":[-80.94313,-72.68323],\"mode\":\"lines\",\"type\":\"scattergeo\"},{\"lat\":[35.21401,41.93887],\"line\":{\"color\":\"red\",\"width\":1},\"locationmode\":\"USA-states\",\"lon\":[-80.94313,-72.68323],\"mode\":\"lines\",\"type\":\"scattergeo\"},{\"lat\":[18.43942,26.07258],\"line\":{\"color\":\"red\",\"width\":1},\"locationmode\":\"USA-states\",\"lon\":[-66.00183,-80.15275],\"mode\":\"lines\",\"type\":\"scattergeo\"},{\"lat\":[18.43942,26.07258],\"line\":{\"color\":\"red\",\"width\":1},\"locationmode\":\"USA-states\",\"lon\":[-66.00183,-80.15275],\"mode\":\"lines\",\"type\":\"scattergeo\"},{\"lat\":[29.98047,26.07258],\"line\":{\"color\":\"red\",\"width\":1},\"locationmode\":\"USA-states\",\"lon\":[-95.33972,-80.15275],\"mode\":\"lines\",\"type\":\"scattergeo\"},{\"lat\":[29.98047,26.07258],\"line\":{\"color\":\"red\",\"width\":1},\"locationmode\":\"USA-states\",\"lon\":[-95.33972,-80.15275],\"mode\":\"lines\",\"type\":\"scattergeo\"},{\"lat\":[29.98047,26.07258],\"line\":{\"color\":\"red\",\"width\":1},\"locationmode\":\"USA-states\",\"lon\":[-95.33972,-80.15275],\"mode\":\"lines\",\"type\":\"scattergeo\"},{\"lat\":[39.85841,26.07258],\"line\":{\"color\":\"red\",\"width\":1},\"locationmode\":\"USA-states\",\"lon\":[-104.667,-80.15275],\"mode\":\"lines\",\"type\":\"scattergeo\"},{\"lat\":[39.85841,26.07258],\"line\":{\"color\":\"red\",\"width\":1},\"locationmode\":\"USA-states\",\"lon\":[-104.667,-80.15275],\"mode\":\"lines\",\"type\":\"scattergeo\"},{\"lat\":[40.63975,26.07258],\"line\":{\"color\":\"red\",\"width\":1},\"locationmode\":\"USA-states\",\"lon\":[-73.77893,-80.15275],\"mode\":\"lines\",\"type\":\"scattergeo\"},{\"lat\":[33.64044,26.07258],\"line\":{\"color\":\"red\",\"width\":1},\"locationmode\":\"USA-states\",\"lon\":[-84.42694,-80.15275],\"mode\":\"lines\",\"type\":\"scattergeo\"},{\"lat\":[32.89595,26.07258],\"line\":{\"color\":\"red\",\"width\":1},\"locationmode\":\"USA-states\",\"lon\":[-97.0372,-80.15275],\"mode\":\"lines\",\"type\":\"scattergeo\"},{\"lat\":[40.6925,26.07258],\"line\":{\"color\":\"red\",\"width\":1},\"locationmode\":\"USA-states\",\"lon\":[-74.16866,-80.15275],\"mode\":\"lines\",\"type\":\"scattergeo\"},{\"lat\":[39.87195,26.07258],\"line\":{\"color\":\"red\",\"width\":1},\"locationmode\":\"USA-states\",\"lon\":[-75.24114,-80.15275],\"mode\":\"lines\",\"type\":\"scattergeo\"},{\"lat\":[42.36435,26.07258],\"line\":{\"color\":\"red\",\"width\":1},\"locationmode\":\"USA-states\",\"lon\":[-71.00518,-80.15275],\"mode\":\"lines\",\"type\":\"scattergeo\"},{\"lat\":[42.36435,26.07258],\"line\":{\"color\":\"red\",\"width\":1},\"locationmode\":\"USA-states\",\"lon\":[-71.00518,-80.15275],\"mode\":\"lines\",\"type\":\"scattergeo\"},{\"lat\":[41.9796,26.07258],\"line\":{\"color\":\"red\",\"width\":1},\"locationmode\":\"USA-states\",\"lon\":[-87.90446,-80.15275],\"mode\":\"lines\",\"type\":\"scattergeo\"},{\"lat\":[33.43417,26.07258],\"line\":{\"color\":\"red\",\"width\":1},\"locationmode\":\"USA-states\",\"lon\":[-112.00806,-80.15275],\"mode\":\"lines\",\"type\":\"scattergeo\"},{\"lat\":[38.94453,26.07258],\"line\":{\"color\":\"red\",\"width\":1},\"locationmode\":\"USA-states\",\"lon\":[-77.45581,-80.15275],\"mode\":\"lines\",\"type\":\"scattergeo\"},{\"lat\":[42.21206,26.07258],\"line\":{\"color\":\"red\",\"width\":1},\"locationmode\":\"USA-states\",\"lon\":[-83.34884,-80.15275],\"mode\":\"lines\",\"type\":\"scattergeo\"},{\"lat\":[35.21401,26.07258],\"line\":{\"color\":\"red\",\"width\":1},\"locationmode\":\"USA-states\",\"lon\":[-80.94313,-80.15275],\"mode\":\"lines\",\"type\":\"scattergeo\"},{\"lat\":[29.64542,26.07258],\"line\":{\"color\":\"red\",\"width\":1},\"locationmode\":\"USA-states\",\"lon\":[-95.27889,-80.15275],\"mode\":\"lines\",\"type\":\"scattergeo\"},{\"lat\":[32.84711,26.07258],\"line\":{\"color\":\"red\",\"width\":1},\"locationmode\":\"USA-states\",\"lon\":[-96.85177,-80.15275],\"mode\":\"lines\",\"type\":\"scattergeo\"},{\"lat\":[18.43942,42.36435],\"line\":{\"color\":\"red\",\"width\":1},\"locationmode\":\"USA-states\",\"lon\":[-66.00183,-71.00518],\"mode\":\"lines\",\"type\":\"scattergeo\"},{\"lat\":[18.43942,42.36435],\"line\":{\"color\":\"red\",\"width\":1},\"locationmode\":\"USA-states\",\"lon\":[-66.00183,-71.00518],\"mode\":\"lines\",\"type\":\"scattergeo\"},{\"lat\":[29.98047,42.36435],\"line\":{\"color\":\"red\",\"width\":1},\"locationmode\":\"USA-states\",\"lon\":[-95.33972,-71.00518],\"mode\":\"lines\",\"type\":\"scattergeo\"},{\"lat\":[29.98047,42.36435],\"line\":{\"color\":\"red\",\"width\":1},\"locationmode\":\"USA-states\",\"lon\":[-95.33972,-71.00518],\"mode\":\"lines\",\"type\":\"scattergeo\"},{\"lat\":[39.85841,42.36435],\"line\":{\"color\":\"red\",\"width\":1},\"locationmode\":\"USA-states\",\"lon\":[-104.667,-71.00518],\"mode\":\"lines\",\"type\":\"scattergeo\"},{\"lat\":[39.85841,42.36435],\"line\":{\"color\":\"red\",\"width\":1},\"locationmode\":\"USA-states\",\"lon\":[-104.667,-71.00518],\"mode\":\"lines\",\"type\":\"scattergeo\"},{\"lat\":[39.85841,42.36435],\"line\":{\"color\":\"red\",\"width\":1},\"locationmode\":\"USA-states\",\"lon\":[-104.667,-71.00518],\"mode\":\"lines\",\"type\":\"scattergeo\"},{\"lat\":[40.63975,42.36435],\"line\":{\"color\":\"red\",\"width\":1},\"locationmode\":\"USA-states\",\"lon\":[-73.77893,-71.00518],\"mode\":\"lines\",\"type\":\"scattergeo\"},{\"lat\":[40.63975,42.36435],\"line\":{\"color\":\"red\",\"width\":1},\"locationmode\":\"USA-states\",\"lon\":[-73.77893,-71.00518],\"mode\":\"lines\",\"type\":\"scattergeo\"},{\"lat\":[26.07258,42.36435],\"line\":{\"color\":\"red\",\"width\":1},\"locationmode\":\"USA-states\",\"lon\":[-80.15275,-71.00518],\"mode\":\"lines\",\"type\":\"scattergeo\"},{\"lat\":[26.07258,42.36435],\"line\":{\"color\":\"red\",\"width\":1},\"locationmode\":\"USA-states\",\"lon\":[-80.15275,-71.00518],\"mode\":\"lines\",\"type\":\"scattergeo\"},{\"lat\":[26.07258,42.36435],\"line\":{\"color\":\"red\",\"width\":1},\"locationmode\":\"USA-states\",\"lon\":[-80.15275,-71.00518],\"mode\":\"lines\",\"type\":\"scattergeo\"},{\"lat\":[26.07258,42.36435],\"line\":{\"color\":\"red\",\"width\":1},\"locationmode\":\"USA-states\",\"lon\":[-80.15275,-71.00518],\"mode\":\"lines\",\"type\":\"scattergeo\"},{\"lat\":[26.68316,42.36435],\"line\":{\"color\":\"red\",\"width\":1},\"locationmode\":\"USA-states\",\"lon\":[-80.09559,-71.00518],\"mode\":\"lines\",\"type\":\"scattergeo\"},{\"lat\":[25.79325,42.36435],\"line\":{\"color\":\"red\",\"width\":1},\"locationmode\":\"USA-states\",\"lon\":[-80.29056,-71.00518],\"mode\":\"lines\",\"type\":\"scattergeo\"},{\"lat\":[25.79325,42.36435],\"line\":{\"color\":\"red\",\"width\":1},\"locationmode\":\"USA-states\",\"lon\":[-80.29056,-71.00518],\"mode\":\"lines\",\"type\":\"scattergeo\"},{\"lat\":[28.42889,42.36435],\"line\":{\"color\":\"red\",\"width\":1},\"locationmode\":\"USA-states\",\"lon\":[-81.31603,-71.00518],\"mode\":\"lines\",\"type\":\"scattergeo\"},{\"lat\":[27.97547,42.36435],\"line\":{\"color\":\"red\",\"width\":1},\"locationmode\":\"USA-states\",\"lon\":[-82.53325,-71.00518],\"mode\":\"lines\",\"type\":\"scattergeo\"},{\"lat\":[41.9796,42.36435],\"line\":{\"color\":\"red\",\"width\":1},\"locationmode\":\"USA-states\",\"lon\":[-87.90446,-71.00518],\"mode\":\"lines\",\"type\":\"scattergeo\"},{\"lat\":[41.9796,42.36435],\"line\":{\"color\":\"red\",\"width\":1},\"locationmode\":\"USA-states\",\"lon\":[-87.90446,-71.00518],\"mode\":\"lines\",\"type\":\"scattergeo\"},{\"lat\":[33.94254,42.36435],\"line\":{\"color\":\"red\",\"width\":1},\"locationmode\":\"USA-states\",\"lon\":[-118.40807,-71.00518],\"mode\":\"lines\",\"type\":\"scattergeo\"},{\"lat\":[41.78598,42.36435],\"line\":{\"color\":\"red\",\"width\":1},\"locationmode\":\"USA-states\",\"lon\":[-87.75242,-71.00518],\"mode\":\"lines\",\"type\":\"scattergeo\"},{\"lat\":[41.78598,42.36435],\"line\":{\"color\":\"red\",\"width\":1},\"locationmode\":\"USA-states\",\"lon\":[-87.75242,-71.00518],\"mode\":\"lines\",\"type\":\"scattergeo\"},{\"lat\":[38.94453,42.36435],\"line\":{\"color\":\"red\",\"width\":1},\"locationmode\":\"USA-states\",\"lon\":[-77.45581,-71.00518],\"mode\":\"lines\",\"type\":\"scattergeo\"},{\"lat\":[38.74769,42.36435],\"line\":{\"color\":\"red\",\"width\":1},\"locationmode\":\"USA-states\",\"lon\":[-90.35999,-71.00518],\"mode\":\"lines\",\"type\":\"scattergeo\"},{\"lat\":[35.21401,42.36435],\"line\":{\"color\":\"red\",\"width\":1},\"locationmode\":\"USA-states\",\"lon\":[-80.94313,-71.00518],\"mode\":\"lines\",\"type\":\"scattergeo\"},{\"lat\":[29.64542,42.36435],\"line\":{\"color\":\"red\",\"width\":1},\"locationmode\":\"USA-states\",\"lon\":[-95.27889,-71.00518],\"mode\":\"lines\",\"type\":\"scattergeo\"},{\"lat\":[18.43942,41.9796],\"line\":{\"color\":\"red\",\"width\":1},\"locationmode\":\"USA-states\",\"lon\":[-66.00183,-87.90446],\"mode\":\"lines\",\"type\":\"scattergeo\"},{\"lat\":[39.85841,41.9796],\"line\":{\"color\":\"red\",\"width\":1},\"locationmode\":\"USA-states\",\"lon\":[-104.667,-87.90446],\"mode\":\"lines\",\"type\":\"scattergeo\"},{\"lat\":[39.85841,41.9796],\"line\":{\"color\":\"red\",\"width\":1},\"locationmode\":\"USA-states\",\"lon\":[-104.667,-87.90446],\"mode\":\"lines\",\"type\":\"scattergeo\"},{\"lat\":[39.85841,41.9796],\"line\":{\"color\":\"red\",\"width\":1},\"locationmode\":\"USA-states\",\"lon\":[-104.667,-87.90446],\"mode\":\"lines\",\"type\":\"scattergeo\"},{\"lat\":[39.85841,41.9796],\"line\":{\"color\":\"red\",\"width\":1},\"locationmode\":\"USA-states\",\"lon\":[-104.667,-87.90446],\"mode\":\"lines\",\"type\":\"scattergeo\"},{\"lat\":[37.619,41.9796],\"line\":{\"color\":\"red\",\"width\":1},\"locationmode\":\"USA-states\",\"lon\":[-122.37484,-87.90446],\"mode\":\"lines\",\"type\":\"scattergeo\"},{\"lat\":[37.619,41.9796],\"line\":{\"color\":\"red\",\"width\":1},\"locationmode\":\"USA-states\",\"lon\":[-122.37484,-87.90446],\"mode\":\"lines\",\"type\":\"scattergeo\"},{\"lat\":[37.619,41.9796],\"line\":{\"color\":\"red\",\"width\":1},\"locationmode\":\"USA-states\",\"lon\":[-122.37484,-87.90446],\"mode\":\"lines\",\"type\":\"scattergeo\"},{\"lat\":[37.619,41.9796],\"line\":{\"color\":\"red\",\"width\":1},\"locationmode\":\"USA-states\",\"lon\":[-122.37484,-87.90446],\"mode\":\"lines\",\"type\":\"scattergeo\"},{\"lat\":[42.94722,41.9796],\"line\":{\"color\":\"red\",\"width\":1},\"locationmode\":\"USA-states\",\"lon\":[-87.89658,-87.90446],\"mode\":\"lines\",\"type\":\"scattergeo\"},{\"lat\":[35.04022,41.9796],\"line\":{\"color\":\"red\",\"width\":1},\"locationmode\":\"USA-states\",\"lon\":[-106.60919,-87.90446],\"mode\":\"lines\",\"type\":\"scattergeo\"},{\"lat\":[35.04022,41.9796],\"line\":{\"color\":\"red\",\"width\":1},\"locationmode\":\"USA-states\",\"lon\":[-106.60919,-87.90446],\"mode\":\"lines\",\"type\":\"scattergeo\"},{\"lat\":[40.77724,41.9796],\"line\":{\"color\":\"red\",\"width\":1},\"locationmode\":\"USA-states\",\"lon\":[-73.87261,-87.90446],\"mode\":\"lines\",\"type\":\"scattergeo\"},{\"lat\":[35.39309,41.9796],\"line\":{\"color\":\"red\",\"width\":1},\"locationmode\":\"USA-states\",\"lon\":[-97.60073,-87.90446],\"mode\":\"lines\",\"type\":\"scattergeo\"},{\"lat\":[42.08202,41.9796],\"line\":{\"color\":\"red\",\"width\":1},\"locationmode\":\"USA-states\",\"lon\":[-80.17622,-87.90446],\"mode\":\"lines\",\"type\":\"scattergeo\"},{\"lat\":[33.64044,41.9796],\"line\":{\"color\":\"red\",\"width\":1},\"locationmode\":\"USA-states\",\"lon\":[-84.42694,-87.90446],\"mode\":\"lines\",\"type\":\"scattergeo\"},{\"lat\":[32.89595,41.9796],\"line\":{\"color\":\"red\",\"width\":1},\"locationmode\":\"USA-states\",\"lon\":[-97.0372,-87.90446],\"mode\":\"lines\",\"type\":\"scattergeo\"},{\"lat\":[32.89595,41.9796],\"line\":{\"color\":\"red\",\"width\":1},\"locationmode\":\"USA-states\",\"lon\":[-97.0372,-87.90446],\"mode\":\"lines\",\"type\":\"scattergeo\"},{\"lat\":[32.89595,41.9796],\"line\":{\"color\":\"red\",\"width\":1},\"locationmode\":\"USA-states\",\"lon\":[-97.0372,-87.90446],\"mode\":\"lines\",\"type\":\"scattergeo\"},{\"lat\":[32.89595,41.9796],\"line\":{\"color\":\"red\",\"width\":1},\"locationmode\":\"USA-states\",\"lon\":[-97.0372,-87.90446],\"mode\":\"lines\",\"type\":\"scattergeo\"},{\"lat\":[40.6925,41.9796],\"line\":{\"color\":\"red\",\"width\":1},\"locationmode\":\"USA-states\",\"lon\":[-74.16866,-87.90446],\"mode\":\"lines\",\"type\":\"scattergeo\"},{\"lat\":[25.79325,41.9796],\"line\":{\"color\":\"red\",\"width\":1},\"locationmode\":\"USA-states\",\"lon\":[-80.29056,-87.90446],\"mode\":\"lines\",\"type\":\"scattergeo\"},{\"lat\":[25.79325,41.9796],\"line\":{\"color\":\"red\",\"width\":1},\"locationmode\":\"USA-states\",\"lon\":[-80.29056,-87.90446],\"mode\":\"lines\",\"type\":\"scattergeo\"},{\"lat\":[25.79325,41.9796],\"line\":{\"color\":\"red\",\"width\":1},\"locationmode\":\"USA-states\",\"lon\":[-80.29056,-87.90446],\"mode\":\"lines\",\"type\":\"scattergeo\"},{\"lat\":[39.99799,41.9796],\"line\":{\"color\":\"red\",\"width\":1},\"locationmode\":\"USA-states\",\"lon\":[-82.89188,-87.90446],\"mode\":\"lines\",\"type\":\"scattergeo\"},{\"lat\":[28.42889,41.9796],\"line\":{\"color\":\"red\",\"width\":1},\"locationmode\":\"USA-states\",\"lon\":[-81.31603,-87.90446],\"mode\":\"lines\",\"type\":\"scattergeo\"},{\"lat\":[39.87195,41.9796],\"line\":{\"color\":\"red\",\"width\":1},\"locationmode\":\"USA-states\",\"lon\":[-75.24114,-87.90446],\"mode\":\"lines\",\"type\":\"scattergeo\"},{\"lat\":[39.87195,41.9796],\"line\":{\"color\":\"red\",\"width\":1},\"locationmode\":\"USA-states\",\"lon\":[-75.24114,-87.90446],\"mode\":\"lines\",\"type\":\"scattergeo\"},{\"lat\":[43.13986,41.9796],\"line\":{\"color\":\"red\",\"width\":1},\"locationmode\":\"USA-states\",\"lon\":[-89.33751,-87.90446],\"mode\":\"lines\",\"type\":\"scattergeo\"},{\"lat\":[43.13986,41.9796],\"line\":{\"color\":\"red\",\"width\":1},\"locationmode\":\"USA-states\",\"lon\":[-89.33751,-87.90446],\"mode\":\"lines\",\"type\":\"scattergeo\"},{\"lat\":[43.13986,41.9796],\"line\":{\"color\":\"red\",\"width\":1},\"locationmode\":\"USA-states\",\"lon\":[-89.33751,-87.90446],\"mode\":\"lines\",\"type\":\"scattergeo\"},{\"lat\":[42.94052,41.9796],\"line\":{\"color\":\"red\",\"width\":1},\"locationmode\":\"USA-states\",\"lon\":[-78.73217,-87.90446],\"mode\":\"lines\",\"type\":\"scattergeo\"},{\"lat\":[44.88055,41.9796],\"line\":{\"color\":\"red\",\"width\":1},\"locationmode\":\"USA-states\",\"lon\":[-93.21692,-87.90446],\"mode\":\"lines\",\"type\":\"scattergeo\"},{\"lat\":[39.22316,41.9796],\"line\":{\"color\":\"red\",\"width\":1},\"locationmode\":\"USA-states\",\"lon\":[-106.86885,-87.90446],\"mode\":\"lines\",\"type\":\"scattergeo\"},{\"lat\":[39.22316,41.9796],\"line\":{\"color\":\"red\",\"width\":1},\"locationmode\":\"USA-states\",\"lon\":[-106.86885,-87.90446],\"mode\":\"lines\",\"type\":\"scattergeo\"},{\"lat\":[39.14097,41.9796],\"line\":{\"color\":\"red\",\"width\":1},\"locationmode\":\"USA-states\",\"lon\":[-96.67083,-87.90446],\"mode\":\"lines\",\"type\":\"scattergeo\"},{\"lat\":[47.44898,41.9796],\"line\":{\"color\":\"red\",\"width\":1},\"locationmode\":\"USA-states\",\"lon\":[-122.30931,-87.90446],\"mode\":\"lines\",\"type\":\"scattergeo\"},{\"lat\":[47.44898,41.9796],\"line\":{\"color\":\"red\",\"width\":1},\"locationmode\":\"USA-states\",\"lon\":[-122.30931,-87.90446],\"mode\":\"lines\",\"type\":\"scattergeo\"},{\"lat\":[47.44898,41.9796],\"line\":{\"color\":\"red\",\"width\":1},\"locationmode\":\"USA-states\",\"lon\":[-122.30931,-87.90446],\"mode\":\"lines\",\"type\":\"scattergeo\"},{\"lat\":[40.78839,41.9796],\"line\":{\"color\":\"red\",\"width\":1},\"locationmode\":\"USA-states\",\"lon\":[-111.97777,-87.90446],\"mode\":\"lines\",\"type\":\"scattergeo\"},{\"lat\":[40.78839,41.9796],\"line\":{\"color\":\"red\",\"width\":1},\"locationmode\":\"USA-states\",\"lon\":[-111.97777,-87.90446],\"mode\":\"lines\",\"type\":\"scattergeo\"},{\"lat\":[37.24433,41.9796],\"line\":{\"color\":\"red\",\"width\":1},\"locationmode\":\"USA-states\",\"lon\":[-93.38686,-87.90446],\"mode\":\"lines\",\"type\":\"scattergeo\"},{\"lat\":[38.81809,41.9796],\"line\":{\"color\":\"red\",\"width\":1},\"locationmode\":\"USA-states\",\"lon\":[-92.21963,-87.90446],\"mode\":\"lines\",\"type\":\"scattergeo\"},{\"lat\":[35.81249,41.9796],\"line\":{\"color\":\"red\",\"width\":1},\"locationmode\":\"USA-states\",\"lon\":[-83.99286,-87.90446],\"mode\":\"lines\",\"type\":\"scattergeo\"},{\"lat\":[33.43417,41.9796],\"line\":{\"color\":\"red\",\"width\":1},\"locationmode\":\"USA-states\",\"lon\":[-112.00806,-87.90446],\"mode\":\"lines\",\"type\":\"scattergeo\"},{\"lat\":[36.19837,41.9796],\"line\":{\"color\":\"red\",\"width\":1},\"locationmode\":\"USA-states\",\"lon\":[-95.88824,-87.90446],\"mode\":\"lines\",\"type\":\"scattergeo\"},{\"lat\":[38.94453,41.9796],\"line\":{\"color\":\"red\",\"width\":1},\"locationmode\":\"USA-states\",\"lon\":[-77.45581,-87.90446],\"mode\":\"lines\",\"type\":\"scattergeo\"},{\"lat\":[39.49858,41.9796],\"line\":{\"color\":\"red\",\"width\":1},\"locationmode\":\"USA-states\",\"lon\":[-119.76806,-87.90446],\"mode\":\"lines\",\"type\":\"scattergeo\"},{\"lat\":[26.53617,41.9796],\"line\":{\"color\":\"red\",\"width\":1},\"locationmode\":\"USA-states\",\"lon\":[-81.75517,-87.90446],\"mode\":\"lines\",\"type\":\"scattergeo\"},{\"lat\":[26.53617,41.9796],\"line\":{\"color\":\"red\",\"width\":1},\"locationmode\":\"USA-states\",\"lon\":[-81.75517,-87.90446],\"mode\":\"lines\",\"type\":\"scattergeo\"},{\"lat\":[38.74769,41.9796],\"line\":{\"color\":\"red\",\"width\":1},\"locationmode\":\"USA-states\",\"lon\":[-90.35999,-87.90446],\"mode\":\"lines\",\"type\":\"scattergeo\"},{\"lat\":[42.21206,41.9796],\"line\":{\"color\":\"red\",\"width\":1},\"locationmode\":\"USA-states\",\"lon\":[-83.34884,-87.90446],\"mode\":\"lines\",\"type\":\"scattergeo\"},{\"lat\":[42.21206,41.9796],\"line\":{\"color\":\"red\",\"width\":1},\"locationmode\":\"USA-states\",\"lon\":[-83.34884,-87.90446],\"mode\":\"lines\",\"type\":\"scattergeo\"},{\"lat\":[42.21206,41.9796],\"line\":{\"color\":\"red\",\"width\":1},\"locationmode\":\"USA-states\",\"lon\":[-83.34884,-87.90446],\"mode\":\"lines\",\"type\":\"scattergeo\"},{\"lat\":[33.67566,41.9796],\"line\":{\"color\":\"red\",\"width\":1},\"locationmode\":\"USA-states\",\"lon\":[-117.86822,-87.90446],\"mode\":\"lines\",\"type\":\"scattergeo\"},{\"lat\":[41.88459,41.9796],\"line\":{\"color\":\"red\",\"width\":1},\"locationmode\":\"USA-states\",\"lon\":[-91.71087,-87.90446],\"mode\":\"lines\",\"type\":\"scattergeo\"},{\"lat\":[35.21401,41.9796],\"line\":{\"color\":\"red\",\"width\":1},\"locationmode\":\"USA-states\",\"lon\":[-80.94313,-87.90446],\"mode\":\"lines\",\"type\":\"scattergeo\"},{\"lat\":[35.21401,41.9796],\"line\":{\"color\":\"red\",\"width\":1},\"locationmode\":\"USA-states\",\"lon\":[-80.94313,-87.90446],\"mode\":\"lines\",\"type\":\"scattergeo\"},{\"lat\":[20.89865,41.9796],\"line\":{\"color\":\"red\",\"width\":1},\"locationmode\":\"USA-states\",\"lon\":[-156.43046,-87.90446],\"mode\":\"lines\",\"type\":\"scattergeo\"},{\"lat\":[37.50517,41.9796],\"line\":{\"color\":\"red\",\"width\":1},\"locationmode\":\"USA-states\",\"lon\":[-77.31967,-87.90446],\"mode\":\"lines\",\"type\":\"scattergeo\"},{\"lat\":[37.50517,41.9796],\"line\":{\"color\":\"red\",\"width\":1},\"locationmode\":\"USA-states\",\"lon\":[-77.31967,-87.90446],\"mode\":\"lines\",\"type\":\"scattergeo\"},{\"lat\":[40.03925,41.9796],\"line\":{\"color\":\"red\",\"width\":1},\"locationmode\":\"USA-states\",\"lon\":[-88.27806,-87.90446],\"mode\":\"lines\",\"type\":\"scattergeo\"},{\"lat\":[36.28187,41.9796],\"line\":{\"color\":\"red\",\"width\":1},\"locationmode\":\"USA-states\",\"lon\":[-94.30681,-87.90446],\"mode\":\"lines\",\"type\":\"scattergeo\"},{\"lat\":[43.11887,41.9796],\"line\":{\"color\":\"red\",\"width\":1},\"locationmode\":\"USA-states\",\"lon\":[-77.67238,-87.90446],\"mode\":\"lines\",\"type\":\"scattergeo\"},{\"lat\":[40.97847,41.9796],\"line\":{\"color\":\"red\",\"width\":1},\"locationmode\":\"USA-states\",\"lon\":[-85.19515,-87.90446],\"mode\":\"lines\",\"type\":\"scattergeo\"},{\"lat\":[36.12448,41.9796],\"line\":{\"color\":\"red\",\"width\":1},\"locationmode\":\"USA-states\",\"lon\":[-86.67818,-87.90446],\"mode\":\"lines\",\"type\":\"scattergeo\"},{\"lat\":[42.88082,41.9796],\"line\":{\"color\":\"red\",\"width\":1},\"locationmode\":\"USA-states\",\"lon\":[-85.52277,-87.90446],\"mode\":\"lines\",\"type\":\"scattergeo\"},{\"lat\":[42.55708,41.9796],\"line\":{\"color\":\"red\",\"width\":1},\"locationmode\":\"USA-states\",\"lon\":[-92.40034,-87.90446],\"mode\":\"lines\",\"type\":\"scattergeo\"},{\"lat\":[44.77762,41.9796],\"line\":{\"color\":\"red\",\"width\":1},\"locationmode\":\"USA-states\",\"lon\":[-89.66678,-87.90446],\"mode\":\"lines\",\"type\":\"scattergeo\"},{\"lat\":[61.17432,41.9796],\"line\":{\"color\":\"red\",\"width\":1},\"locationmode\":\"USA-states\",\"lon\":[-149.99619,-87.90446],\"mode\":\"lines\",\"type\":\"scattergeo\"},{\"lat\":[40.1935,41.9796],\"line\":{\"color\":\"red\",\"width\":1},\"locationmode\":\"USA-states\",\"lon\":[-76.7634,-87.90446],\"mode\":\"lines\",\"type\":\"scattergeo\"},{\"lat\":[41.06696,41.9796],\"line\":{\"color\":\"red\",\"width\":1},\"locationmode\":\"USA-states\",\"lon\":[-73.70757,-87.90446],\"mode\":\"lines\",\"type\":\"scattergeo\"},{\"lat\":[38.03697,41.9796],\"line\":{\"color\":\"red\",\"width\":1},\"locationmode\":\"USA-states\",\"lon\":[-84.60539,-87.90446],\"mode\":\"lines\",\"type\":\"scattergeo\"},{\"lat\":[40.66424,41.9796],\"line\":{\"color\":\"red\",\"width\":1},\"locationmode\":\"USA-states\",\"lon\":[-89.69331,-87.90446],\"mode\":\"lines\",\"type\":\"scattergeo\"},{\"lat\":[18.43942,27.97547],\"line\":{\"color\":\"red\",\"width\":1},\"locationmode\":\"USA-states\",\"lon\":[-66.00183,-82.53325],\"mode\":\"lines\",\"type\":\"scattergeo\"},{\"lat\":[18.43942,27.97547],\"line\":{\"color\":\"red\",\"width\":1},\"locationmode\":\"USA-states\",\"lon\":[-66.00183,-82.53325],\"mode\":\"lines\",\"type\":\"scattergeo\"},{\"lat\":[29.98047,27.97547],\"line\":{\"color\":\"red\",\"width\":1},\"locationmode\":\"USA-states\",\"lon\":[-95.33972,-82.53325],\"mode\":\"lines\",\"type\":\"scattergeo\"},{\"lat\":[39.85841,27.97547],\"line\":{\"color\":\"red\",\"width\":1},\"locationmode\":\"USA-states\",\"lon\":[-104.667,-82.53325],\"mode\":\"lines\",\"type\":\"scattergeo\"},{\"lat\":[39.85841,27.97547],\"line\":{\"color\":\"red\",\"width\":1},\"locationmode\":\"USA-states\",\"lon\":[-104.667,-82.53325],\"mode\":\"lines\",\"type\":\"scattergeo\"},{\"lat\":[39.1754,27.97547],\"line\":{\"color\":\"red\",\"width\":1},\"locationmode\":\"USA-states\",\"lon\":[-76.6682,-82.53325],\"mode\":\"lines\",\"type\":\"scattergeo\"},{\"lat\":[40.77724,27.97547],\"line\":{\"color\":\"red\",\"width\":1},\"locationmode\":\"USA-states\",\"lon\":[-73.87261,-82.53325],\"mode\":\"lines\",\"type\":\"scattergeo\"},{\"lat\":[33.64044,27.97547],\"line\":{\"color\":\"red\",\"width\":1},\"locationmode\":\"USA-states\",\"lon\":[-84.42694,-82.53325],\"mode\":\"lines\",\"type\":\"scattergeo\"},{\"lat\":[33.64044,27.97547],\"line\":{\"color\":\"red\",\"width\":1},\"locationmode\":\"USA-states\",\"lon\":[-84.42694,-82.53325],\"mode\":\"lines\",\"type\":\"scattergeo\"},{\"lat\":[35.87764,27.97547],\"line\":{\"color\":\"red\",\"width\":1},\"locationmode\":\"USA-states\",\"lon\":[-78.78747,-82.53325],\"mode\":\"lines\",\"type\":\"scattergeo\"},{\"lat\":[32.89595,27.97547],\"line\":{\"color\":\"red\",\"width\":1},\"locationmode\":\"USA-states\",\"lon\":[-97.0372,-82.53325],\"mode\":\"lines\",\"type\":\"scattergeo\"},{\"lat\":[32.89595,27.97547],\"line\":{\"color\":\"red\",\"width\":1},\"locationmode\":\"USA-states\",\"lon\":[-97.0372,-82.53325],\"mode\":\"lines\",\"type\":\"scattergeo\"},{\"lat\":[32.89595,27.97547],\"line\":{\"color\":\"red\",\"width\":1},\"locationmode\":\"USA-states\",\"lon\":[-97.0372,-82.53325],\"mode\":\"lines\",\"type\":\"scattergeo\"},{\"lat\":[32.89595,27.97547],\"line\":{\"color\":\"red\",\"width\":1},\"locationmode\":\"USA-states\",\"lon\":[-97.0372,-82.53325],\"mode\":\"lines\",\"type\":\"scattergeo\"},{\"lat\":[38.85208,27.97547],\"line\":{\"color\":\"red\",\"width\":1},\"locationmode\":\"USA-states\",\"lon\":[-77.03772,-82.53325],\"mode\":\"lines\",\"type\":\"scattergeo\"},{\"lat\":[39.87195,27.97547],\"line\":{\"color\":\"red\",\"width\":1},\"locationmode\":\"USA-states\",\"lon\":[-75.24114,-82.53325],\"mode\":\"lines\",\"type\":\"scattergeo\"},{\"lat\":[39.87195,27.97547],\"line\":{\"color\":\"red\",\"width\":1},\"locationmode\":\"USA-states\",\"lon\":[-75.24114,-82.53325],\"mode\":\"lines\",\"type\":\"scattergeo\"},{\"lat\":[42.36435,27.97547],\"line\":{\"color\":\"red\",\"width\":1},\"locationmode\":\"USA-states\",\"lon\":[-71.00518,-82.53325],\"mode\":\"lines\",\"type\":\"scattergeo\"},{\"lat\":[29.53369,27.97547],\"line\":{\"color\":\"red\",\"width\":1},\"locationmode\":\"USA-states\",\"lon\":[-98.46978,-82.53325],\"mode\":\"lines\",\"type\":\"scattergeo\"},{\"lat\":[41.9796,27.97547],\"line\":{\"color\":\"red\",\"width\":1},\"locationmode\":\"USA-states\",\"lon\":[-87.90446,-82.53325],\"mode\":\"lines\",\"type\":\"scattergeo\"},{\"lat\":[41.9796,27.97547],\"line\":{\"color\":\"red\",\"width\":1},\"locationmode\":\"USA-states\",\"lon\":[-87.90446,-82.53325],\"mode\":\"lines\",\"type\":\"scattergeo\"},{\"lat\":[33.94254,27.97547],\"line\":{\"color\":\"red\",\"width\":1},\"locationmode\":\"USA-states\",\"lon\":[-118.40807,-82.53325],\"mode\":\"lines\",\"type\":\"scattergeo\"},{\"lat\":[38.94453,27.97547],\"line\":{\"color\":\"red\",\"width\":1},\"locationmode\":\"USA-states\",\"lon\":[-77.45581,-82.53325],\"mode\":\"lines\",\"type\":\"scattergeo\"},{\"lat\":[35.21401,27.97547],\"line\":{\"color\":\"red\",\"width\":1},\"locationmode\":\"USA-states\",\"lon\":[-80.94313,-82.53325],\"mode\":\"lines\",\"type\":\"scattergeo\"},{\"lat\":[29.64542,27.97547],\"line\":{\"color\":\"red\",\"width\":1},\"locationmode\":\"USA-states\",\"lon\":[-95.27889,-82.53325],\"mode\":\"lines\",\"type\":\"scattergeo\"},{\"lat\":[29.64542,27.97547],\"line\":{\"color\":\"red\",\"width\":1},\"locationmode\":\"USA-states\",\"lon\":[-95.27889,-82.53325],\"mode\":\"lines\",\"type\":\"scattergeo\"},{\"lat\":[39.29761,27.97547],\"line\":{\"color\":\"red\",\"width\":1},\"locationmode\":\"USA-states\",\"lon\":[-94.71391,-82.53325],\"mode\":\"lines\",\"type\":\"scattergeo\"},{\"lat\":[40.79524,27.97547],\"line\":{\"color\":\"red\",\"width\":1},\"locationmode\":\"USA-states\",\"lon\":[-73.10021,-82.53325],\"mode\":\"lines\",\"type\":\"scattergeo\"},{\"lat\":[18.43942,38.85208],\"line\":{\"color\":\"red\",\"width\":1},\"locationmode\":\"USA-states\",\"lon\":[-66.00183,-77.03772],\"mode\":\"lines\",\"type\":\"scattergeo\"},{\"lat\":[29.98047,38.85208],\"line\":{\"color\":\"red\",\"width\":1},\"locationmode\":\"USA-states\",\"lon\":[-95.33972,-77.03772],\"mode\":\"lines\",\"type\":\"scattergeo\"},{\"lat\":[33.64044,38.85208],\"line\":{\"color\":\"red\",\"width\":1},\"locationmode\":\"USA-states\",\"lon\":[-84.42694,-77.03772],\"mode\":\"lines\",\"type\":\"scattergeo\"},{\"lat\":[33.64044,38.85208],\"line\":{\"color\":\"red\",\"width\":1},\"locationmode\":\"USA-states\",\"lon\":[-84.42694,-77.03772],\"mode\":\"lines\",\"type\":\"scattergeo\"},{\"lat\":[33.64044,38.85208],\"line\":{\"color\":\"red\",\"width\":1},\"locationmode\":\"USA-states\",\"lon\":[-84.42694,-77.03772],\"mode\":\"lines\",\"type\":\"scattergeo\"},{\"lat\":[33.64044,38.85208],\"line\":{\"color\":\"red\",\"width\":1},\"locationmode\":\"USA-states\",\"lon\":[-84.42694,-77.03772],\"mode\":\"lines\",\"type\":\"scattergeo\"},{\"lat\":[32.89595,38.85208],\"line\":{\"color\":\"red\",\"width\":1},\"locationmode\":\"USA-states\",\"lon\":[-97.0372,-77.03772],\"mode\":\"lines\",\"type\":\"scattergeo\"},{\"lat\":[25.79325,38.85208],\"line\":{\"color\":\"red\",\"width\":1},\"locationmode\":\"USA-states\",\"lon\":[-80.29056,-77.03772],\"mode\":\"lines\",\"type\":\"scattergeo\"},{\"lat\":[41.9796,38.85208],\"line\":{\"color\":\"red\",\"width\":1},\"locationmode\":\"USA-states\",\"lon\":[-87.90446,-77.03772],\"mode\":\"lines\",\"type\":\"scattergeo\"},{\"lat\":[35.21401,38.85208],\"line\":{\"color\":\"red\",\"width\":1},\"locationmode\":\"USA-states\",\"lon\":[-80.94313,-77.03772],\"mode\":\"lines\",\"type\":\"scattergeo\"},{\"lat\":[29.64542,38.85208],\"line\":{\"color\":\"red\",\"width\":1},\"locationmode\":\"USA-states\",\"lon\":[-95.27889,-77.03772],\"mode\":\"lines\",\"type\":\"scattergeo\"},{\"lat\":[29.64542,38.85208],\"line\":{\"color\":\"red\",\"width\":1},\"locationmode\":\"USA-states\",\"lon\":[-95.27889,-77.03772],\"mode\":\"lines\",\"type\":\"scattergeo\"},{\"lat\":[45.58872,36.08036],\"line\":{\"color\":\"red\",\"width\":1},\"locationmode\":\"USA-states\",\"lon\":[-122.5975,-115.15233],\"mode\":\"lines\",\"type\":\"scattergeo\"},{\"lat\":[29.98047,36.08036],\"line\":{\"color\":\"red\",\"width\":1},\"locationmode\":\"USA-states\",\"lon\":[-95.33972,-115.15233],\"mode\":\"lines\",\"type\":\"scattergeo\"},{\"lat\":[39.85841,36.08036],\"line\":{\"color\":\"red\",\"width\":1},\"locationmode\":\"USA-states\",\"lon\":[-104.667,-115.15233],\"mode\":\"lines\",\"type\":\"scattergeo\"},{\"lat\":[39.85841,36.08036],\"line\":{\"color\":\"red\",\"width\":1},\"locationmode\":\"USA-states\",\"lon\":[-104.667,-115.15233],\"mode\":\"lines\",\"type\":\"scattergeo\"},{\"lat\":[39.85841,36.08036],\"line\":{\"color\":\"red\",\"width\":1},\"locationmode\":\"USA-states\",\"lon\":[-104.667,-115.15233],\"mode\":\"lines\",\"type\":\"scattergeo\"},{\"lat\":[39.85841,36.08036],\"line\":{\"color\":\"red\",\"width\":1},\"locationmode\":\"USA-states\",\"lon\":[-104.667,-115.15233],\"mode\":\"lines\",\"type\":\"scattergeo\"},{\"lat\":[37.619,36.08036],\"line\":{\"color\":\"red\",\"width\":1},\"locationmode\":\"USA-states\",\"lon\":[-122.37484,-115.15233],\"mode\":\"lines\",\"type\":\"scattergeo\"},{\"lat\":[37.619,36.08036],\"line\":{\"color\":\"red\",\"width\":1},\"locationmode\":\"USA-states\",\"lon\":[-122.37484,-115.15233],\"mode\":\"lines\",\"type\":\"scattergeo\"},{\"lat\":[40.63975,36.08036],\"line\":{\"color\":\"red\",\"width\":1},\"locationmode\":\"USA-states\",\"lon\":[-73.77893,-115.15233],\"mode\":\"lines\",\"type\":\"scattergeo\"},{\"lat\":[40.49147,36.08036],\"line\":{\"color\":\"red\",\"width\":1},\"locationmode\":\"USA-states\",\"lon\":[-80.23287,-115.15233],\"mode\":\"lines\",\"type\":\"scattergeo\"},{\"lat\":[35.04022,36.08036],\"line\":{\"color\":\"red\",\"width\":1},\"locationmode\":\"USA-states\",\"lon\":[-106.60919,-115.15233],\"mode\":\"lines\",\"type\":\"scattergeo\"},{\"lat\":[33.64044,36.08036],\"line\":{\"color\":\"red\",\"width\":1},\"locationmode\":\"USA-states\",\"lon\":[-84.42694,-115.15233],\"mode\":\"lines\",\"type\":\"scattergeo\"},{\"lat\":[32.11608,36.08036],\"line\":{\"color\":\"red\",\"width\":1},\"locationmode\":\"USA-states\",\"lon\":[-110.94103,-115.15233],\"mode\":\"lines\",\"type\":\"scattergeo\"},{\"lat\":[32.89595,36.08036],\"line\":{\"color\":\"red\",\"width\":1},\"locationmode\":\"USA-states\",\"lon\":[-97.0372,-115.15233],\"mode\":\"lines\",\"type\":\"scattergeo\"},{\"lat\":[32.89595,36.08036],\"line\":{\"color\":\"red\",\"width\":1},\"locationmode\":\"USA-states\",\"lon\":[-97.0372,-115.15233],\"mode\":\"lines\",\"type\":\"scattergeo\"},{\"lat\":[32.89595,36.08036],\"line\":{\"color\":\"red\",\"width\":1},\"locationmode\":\"USA-states\",\"lon\":[-97.0372,-115.15233],\"mode\":\"lines\",\"type\":\"scattergeo\"},{\"lat\":[32.89595,36.08036],\"line\":{\"color\":\"red\",\"width\":1},\"locationmode\":\"USA-states\",\"lon\":[-97.0372,-115.15233],\"mode\":\"lines\",\"type\":\"scattergeo\"},{\"lat\":[32.89595,36.08036],\"line\":{\"color\":\"red\",\"width\":1},\"locationmode\":\"USA-states\",\"lon\":[-97.0372,-115.15233],\"mode\":\"lines\",\"type\":\"scattergeo\"},{\"lat\":[32.89595,36.08036],\"line\":{\"color\":\"red\",\"width\":1},\"locationmode\":\"USA-states\",\"lon\":[-97.0372,-115.15233],\"mode\":\"lines\",\"type\":\"scattergeo\"},{\"lat\":[32.89595,36.08036],\"line\":{\"color\":\"red\",\"width\":1},\"locationmode\":\"USA-states\",\"lon\":[-97.0372,-115.15233],\"mode\":\"lines\",\"type\":\"scattergeo\"},{\"lat\":[40.6925,36.08036],\"line\":{\"color\":\"red\",\"width\":1},\"locationmode\":\"USA-states\",\"lon\":[-74.16866,-115.15233],\"mode\":\"lines\",\"type\":\"scattergeo\"},{\"lat\":[28.42889,36.08036],\"line\":{\"color\":\"red\",\"width\":1},\"locationmode\":\"USA-states\",\"lon\":[-81.31603,-115.15233],\"mode\":\"lines\",\"type\":\"scattergeo\"},{\"lat\":[39.87195,36.08036],\"line\":{\"color\":\"red\",\"width\":1},\"locationmode\":\"USA-states\",\"lon\":[-75.24114,-115.15233],\"mode\":\"lines\",\"type\":\"scattergeo\"},{\"lat\":[30.19453,36.08036],\"line\":{\"color\":\"red\",\"width\":1},\"locationmode\":\"USA-states\",\"lon\":[-97.66987,-115.15233],\"mode\":\"lines\",\"type\":\"scattergeo\"},{\"lat\":[42.36435,36.08036],\"line\":{\"color\":\"red\",\"width\":1},\"locationmode\":\"USA-states\",\"lon\":[-71.00518,-115.15233],\"mode\":\"lines\",\"type\":\"scattergeo\"},{\"lat\":[32.73356,36.08036],\"line\":{\"color\":\"red\",\"width\":1},\"locationmode\":\"USA-states\",\"lon\":[-117.18966,-115.15233],\"mode\":\"lines\",\"type\":\"scattergeo\"},{\"lat\":[32.73356,36.08036],\"line\":{\"color\":\"red\",\"width\":1},\"locationmode\":\"USA-states\",\"lon\":[-117.18966,-115.15233],\"mode\":\"lines\",\"type\":\"scattergeo\"},{\"lat\":[41.9796,36.08036],\"line\":{\"color\":\"red\",\"width\":1},\"locationmode\":\"USA-states\",\"lon\":[-87.90446,-115.15233],\"mode\":\"lines\",\"type\":\"scattergeo\"},{\"lat\":[33.94254,36.08036],\"line\":{\"color\":\"red\",\"width\":1},\"locationmode\":\"USA-states\",\"lon\":[-118.40807,-115.15233],\"mode\":\"lines\",\"type\":\"scattergeo\"},{\"lat\":[33.94254,36.08036],\"line\":{\"color\":\"red\",\"width\":1},\"locationmode\":\"USA-states\",\"lon\":[-118.40807,-115.15233],\"mode\":\"lines\",\"type\":\"scattergeo\"},{\"lat\":[33.94254,36.08036],\"line\":{\"color\":\"red\",\"width\":1},\"locationmode\":\"USA-states\",\"lon\":[-118.40807,-115.15233],\"mode\":\"lines\",\"type\":\"scattergeo\"},{\"lat\":[33.94254,36.08036],\"line\":{\"color\":\"red\",\"width\":1},\"locationmode\":\"USA-states\",\"lon\":[-118.40807,-115.15233],\"mode\":\"lines\",\"type\":\"scattergeo\"},{\"lat\":[33.94254,36.08036],\"line\":{\"color\":\"red\",\"width\":1},\"locationmode\":\"USA-states\",\"lon\":[-118.40807,-115.15233],\"mode\":\"lines\",\"type\":\"scattergeo\"},{\"lat\":[40.78839,36.08036],\"line\":{\"color\":\"red\",\"width\":1},\"locationmode\":\"USA-states\",\"lon\":[-111.97777,-115.15233],\"mode\":\"lines\",\"type\":\"scattergeo\"},{\"lat\":[34.20062,36.08036],\"line\":{\"color\":\"red\",\"width\":1},\"locationmode\":\"USA-states\",\"lon\":[-118.3585,-115.15233],\"mode\":\"lines\",\"type\":\"scattergeo\"},{\"lat\":[33.43417,36.08036],\"line\":{\"color\":\"red\",\"width\":1},\"locationmode\":\"USA-states\",\"lon\":[-112.00806,-115.15233],\"mode\":\"lines\",\"type\":\"scattergeo\"},{\"lat\":[33.43417,36.08036],\"line\":{\"color\":\"red\",\"width\":1},\"locationmode\":\"USA-states\",\"lon\":[-112.00806,-115.15233],\"mode\":\"lines\",\"type\":\"scattergeo\"},{\"lat\":[38.74769,36.08036],\"line\":{\"color\":\"red\",\"width\":1},\"locationmode\":\"USA-states\",\"lon\":[-90.35999,-115.15233],\"mode\":\"lines\",\"type\":\"scattergeo\"},{\"lat\":[42.21206,36.08036],\"line\":{\"color\":\"red\",\"width\":1},\"locationmode\":\"USA-states\",\"lon\":[-83.34884,-115.15233],\"mode\":\"lines\",\"type\":\"scattergeo\"},{\"lat\":[33.67566,36.08036],\"line\":{\"color\":\"red\",\"width\":1},\"locationmode\":\"USA-states\",\"lon\":[-117.86822,-115.15233],\"mode\":\"lines\",\"type\":\"scattergeo\"},{\"lat\":[29.64542,36.08036],\"line\":{\"color\":\"red\",\"width\":1},\"locationmode\":\"USA-states\",\"lon\":[-95.27889,-115.15233],\"mode\":\"lines\",\"type\":\"scattergeo\"},{\"lat\":[32.84711,36.08036],\"line\":{\"color\":\"red\",\"width\":1},\"locationmode\":\"USA-states\",\"lon\":[-96.85177,-115.15233],\"mode\":\"lines\",\"type\":\"scattergeo\"},{\"lat\":[31.94253,36.08036],\"line\":{\"color\":\"red\",\"width\":1},\"locationmode\":\"USA-states\",\"lon\":[-102.20191,-115.15233],\"mode\":\"lines\",\"type\":\"scattergeo\"},{\"lat\":[45.58872,32.73356],\"line\":{\"color\":\"red\",\"width\":1},\"locationmode\":\"USA-states\",\"lon\":[-122.5975,-117.18966],\"mode\":\"lines\",\"type\":\"scattergeo\"},{\"lat\":[29.98047,32.73356],\"line\":{\"color\":\"red\",\"width\":1},\"locationmode\":\"USA-states\",\"lon\":[-95.33972,-117.18966],\"mode\":\"lines\",\"type\":\"scattergeo\"},{\"lat\":[39.85841,32.73356],\"line\":{\"color\":\"red\",\"width\":1},\"locationmode\":\"USA-states\",\"lon\":[-104.667,-117.18966],\"mode\":\"lines\",\"type\":\"scattergeo\"},{\"lat\":[39.85841,32.73356],\"line\":{\"color\":\"red\",\"width\":1},\"locationmode\":\"USA-states\",\"lon\":[-104.667,-117.18966],\"mode\":\"lines\",\"type\":\"scattergeo\"},{\"lat\":[39.85841,32.73356],\"line\":{\"color\":\"red\",\"width\":1},\"locationmode\":\"USA-states\",\"lon\":[-104.667,-117.18966],\"mode\":\"lines\",\"type\":\"scattergeo\"},{\"lat\":[39.85841,32.73356],\"line\":{\"color\":\"red\",\"width\":1},\"locationmode\":\"USA-states\",\"lon\":[-104.667,-117.18966],\"mode\":\"lines\",\"type\":\"scattergeo\"},{\"lat\":[39.85841,32.73356],\"line\":{\"color\":\"red\",\"width\":1},\"locationmode\":\"USA-states\",\"lon\":[-104.667,-117.18966],\"mode\":\"lines\",\"type\":\"scattergeo\"},{\"lat\":[37.619,32.73356],\"line\":{\"color\":\"red\",\"width\":1},\"locationmode\":\"USA-states\",\"lon\":[-122.37484,-117.18966],\"mode\":\"lines\",\"type\":\"scattergeo\"},{\"lat\":[37.619,32.73356],\"line\":{\"color\":\"red\",\"width\":1},\"locationmode\":\"USA-states\",\"lon\":[-122.37484,-117.18966],\"mode\":\"lines\",\"type\":\"scattergeo\"},{\"lat\":[37.619,32.73356],\"line\":{\"color\":\"red\",\"width\":1},\"locationmode\":\"USA-states\",\"lon\":[-122.37484,-117.18966],\"mode\":\"lines\",\"type\":\"scattergeo\"},{\"lat\":[37.619,32.73356],\"line\":{\"color\":\"red\",\"width\":1},\"locationmode\":\"USA-states\",\"lon\":[-122.37484,-117.18966],\"mode\":\"lines\",\"type\":\"scattergeo\"},{\"lat\":[40.63975,32.73356],\"line\":{\"color\":\"red\",\"width\":1},\"locationmode\":\"USA-states\",\"lon\":[-73.77893,-117.18966],\"mode\":\"lines\",\"type\":\"scattergeo\"},{\"lat\":[40.63975,32.73356],\"line\":{\"color\":\"red\",\"width\":1},\"locationmode\":\"USA-states\",\"lon\":[-73.77893,-117.18966],\"mode\":\"lines\",\"type\":\"scattergeo\"},{\"lat\":[35.04022,32.73356],\"line\":{\"color\":\"red\",\"width\":1},\"locationmode\":\"USA-states\",\"lon\":[-106.60919,-117.18966],\"mode\":\"lines\",\"type\":\"scattergeo\"},{\"lat\":[32.11608,32.73356],\"line\":{\"color\":\"red\",\"width\":1},\"locationmode\":\"USA-states\",\"lon\":[-110.94103,-117.18966],\"mode\":\"lines\",\"type\":\"scattergeo\"},{\"lat\":[32.89595,32.73356],\"line\":{\"color\":\"red\",\"width\":1},\"locationmode\":\"USA-states\",\"lon\":[-97.0372,-117.18966],\"mode\":\"lines\",\"type\":\"scattergeo\"},{\"lat\":[32.89595,32.73356],\"line\":{\"color\":\"red\",\"width\":1},\"locationmode\":\"USA-states\",\"lon\":[-97.0372,-117.18966],\"mode\":\"lines\",\"type\":\"scattergeo\"},{\"lat\":[32.89595,32.73356],\"line\":{\"color\":\"red\",\"width\":1},\"locationmode\":\"USA-states\",\"lon\":[-97.0372,-117.18966],\"mode\":\"lines\",\"type\":\"scattergeo\"},{\"lat\":[40.6925,32.73356],\"line\":{\"color\":\"red\",\"width\":1},\"locationmode\":\"USA-states\",\"lon\":[-74.16866,-117.18966],\"mode\":\"lines\",\"type\":\"scattergeo\"},{\"lat\":[39.87195,32.73356],\"line\":{\"color\":\"red\",\"width\":1},\"locationmode\":\"USA-states\",\"lon\":[-75.24114,-117.18966],\"mode\":\"lines\",\"type\":\"scattergeo\"},{\"lat\":[29.53369,32.73356],\"line\":{\"color\":\"red\",\"width\":1},\"locationmode\":\"USA-states\",\"lon\":[-98.46978,-117.18966],\"mode\":\"lines\",\"type\":\"scattergeo\"},{\"lat\":[37.72129,32.73356],\"line\":{\"color\":\"red\",\"width\":1},\"locationmode\":\"USA-states\",\"lon\":[-122.22072,-117.18966],\"mode\":\"lines\",\"type\":\"scattergeo\"},{\"lat\":[33.94254,32.73356],\"line\":{\"color\":\"red\",\"width\":1},\"locationmode\":\"USA-states\",\"lon\":[-118.40807,-117.18966],\"mode\":\"lines\",\"type\":\"scattergeo\"},{\"lat\":[33.94254,32.73356],\"line\":{\"color\":\"red\",\"width\":1},\"locationmode\":\"USA-states\",\"lon\":[-118.40807,-117.18966],\"mode\":\"lines\",\"type\":\"scattergeo\"},{\"lat\":[33.94254,32.73356],\"line\":{\"color\":\"red\",\"width\":1},\"locationmode\":\"USA-states\",\"lon\":[-118.40807,-117.18966],\"mode\":\"lines\",\"type\":\"scattergeo\"},{\"lat\":[33.94254,32.73356],\"line\":{\"color\":\"red\",\"width\":1},\"locationmode\":\"USA-states\",\"lon\":[-118.40807,-117.18966],\"mode\":\"lines\",\"type\":\"scattergeo\"},{\"lat\":[33.43417,32.73356],\"line\":{\"color\":\"red\",\"width\":1},\"locationmode\":\"USA-states\",\"lon\":[-112.00806,-117.18966],\"mode\":\"lines\",\"type\":\"scattergeo\"},{\"lat\":[33.43417,32.73356],\"line\":{\"color\":\"red\",\"width\":1},\"locationmode\":\"USA-states\",\"lon\":[-112.00806,-117.18966],\"mode\":\"lines\",\"type\":\"scattergeo\"},{\"lat\":[33.43417,32.73356],\"line\":{\"color\":\"red\",\"width\":1},\"locationmode\":\"USA-states\",\"lon\":[-112.00806,-117.18966],\"mode\":\"lines\",\"type\":\"scattergeo\"},{\"lat\":[33.43417,32.73356],\"line\":{\"color\":\"red\",\"width\":1},\"locationmode\":\"USA-states\",\"lon\":[-112.00806,-117.18966],\"mode\":\"lines\",\"type\":\"scattergeo\"},{\"lat\":[39.49858,32.73356],\"line\":{\"color\":\"red\",\"width\":1},\"locationmode\":\"USA-states\",\"lon\":[-119.76806,-117.18966],\"mode\":\"lines\",\"type\":\"scattergeo\"},{\"lat\":[39.49858,32.73356],\"line\":{\"color\":\"red\",\"width\":1},\"locationmode\":\"USA-states\",\"lon\":[-119.76806,-117.18966],\"mode\":\"lines\",\"type\":\"scattergeo\"},{\"lat\":[39.29761,32.73356],\"line\":{\"color\":\"red\",\"width\":1},\"locationmode\":\"USA-states\",\"lon\":[-94.71391,-117.18966],\"mode\":\"lines\",\"type\":\"scattergeo\"},{\"lat\":[29.98047,25.79325],\"line\":{\"color\":\"red\",\"width\":1},\"locationmode\":\"USA-states\",\"lon\":[-95.33972,-80.29056],\"mode\":\"lines\",\"type\":\"scattergeo\"},{\"lat\":[29.98047,25.79325],\"line\":{\"color\":\"red\",\"width\":1},\"locationmode\":\"USA-states\",\"lon\":[-95.33972,-80.29056],\"mode\":\"lines\",\"type\":\"scattergeo\"},{\"lat\":[29.98047,25.79325],\"line\":{\"color\":\"red\",\"width\":1},\"locationmode\":\"USA-states\",\"lon\":[-95.33972,-80.29056],\"mode\":\"lines\",\"type\":\"scattergeo\"},{\"lat\":[39.85841,25.79325],\"line\":{\"color\":\"red\",\"width\":1},\"locationmode\":\"USA-states\",\"lon\":[-104.667,-80.29056],\"mode\":\"lines\",\"type\":\"scattergeo\"},{\"lat\":[39.85841,25.79325],\"line\":{\"color\":\"red\",\"width\":1},\"locationmode\":\"USA-states\",\"lon\":[-104.667,-80.29056],\"mode\":\"lines\",\"type\":\"scattergeo\"},{\"lat\":[37.619,25.79325],\"line\":{\"color\":\"red\",\"width\":1},\"locationmode\":\"USA-states\",\"lon\":[-122.37484,-80.29056],\"mode\":\"lines\",\"type\":\"scattergeo\"},{\"lat\":[40.63975,25.79325],\"line\":{\"color\":\"red\",\"width\":1},\"locationmode\":\"USA-states\",\"lon\":[-73.77893,-80.29056],\"mode\":\"lines\",\"type\":\"scattergeo\"},{\"lat\":[39.1754,25.79325],\"line\":{\"color\":\"red\",\"width\":1},\"locationmode\":\"USA-states\",\"lon\":[-76.6682,-80.29056],\"mode\":\"lines\",\"type\":\"scattergeo\"},{\"lat\":[40.77724,25.79325],\"line\":{\"color\":\"red\",\"width\":1},\"locationmode\":\"USA-states\",\"lon\":[-73.87261,-80.29056],\"mode\":\"lines\",\"type\":\"scattergeo\"},{\"lat\":[32.89595,25.79325],\"line\":{\"color\":\"red\",\"width\":1},\"locationmode\":\"USA-states\",\"lon\":[-97.0372,-80.29056],\"mode\":\"lines\",\"type\":\"scattergeo\"},{\"lat\":[32.89595,25.79325],\"line\":{\"color\":\"red\",\"width\":1},\"locationmode\":\"USA-states\",\"lon\":[-97.0372,-80.29056],\"mode\":\"lines\",\"type\":\"scattergeo\"},{\"lat\":[32.89595,25.79325],\"line\":{\"color\":\"red\",\"width\":1},\"locationmode\":\"USA-states\",\"lon\":[-97.0372,-80.29056],\"mode\":\"lines\",\"type\":\"scattergeo\"},{\"lat\":[32.89595,25.79325],\"line\":{\"color\":\"red\",\"width\":1},\"locationmode\":\"USA-states\",\"lon\":[-97.0372,-80.29056],\"mode\":\"lines\",\"type\":\"scattergeo\"},{\"lat\":[32.89595,25.79325],\"line\":{\"color\":\"red\",\"width\":1},\"locationmode\":\"USA-states\",\"lon\":[-97.0372,-80.29056],\"mode\":\"lines\",\"type\":\"scattergeo\"},{\"lat\":[38.85208,25.79325],\"line\":{\"color\":\"red\",\"width\":1},\"locationmode\":\"USA-states\",\"lon\":[-77.03772,-80.29056],\"mode\":\"lines\",\"type\":\"scattergeo\"},{\"lat\":[39.87195,25.79325],\"line\":{\"color\":\"red\",\"width\":1},\"locationmode\":\"USA-states\",\"lon\":[-75.24114,-80.29056],\"mode\":\"lines\",\"type\":\"scattergeo\"},{\"lat\":[44.88055,25.79325],\"line\":{\"color\":\"red\",\"width\":1},\"locationmode\":\"USA-states\",\"lon\":[-93.21692,-80.29056],\"mode\":\"lines\",\"type\":\"scattergeo\"},{\"lat\":[41.9796,25.79325],\"line\":{\"color\":\"red\",\"width\":1},\"locationmode\":\"USA-states\",\"lon\":[-87.90446,-80.29056],\"mode\":\"lines\",\"type\":\"scattergeo\"},{\"lat\":[33.43417,25.79325],\"line\":{\"color\":\"red\",\"width\":1},\"locationmode\":\"USA-states\",\"lon\":[-112.00806,-80.29056],\"mode\":\"lines\",\"type\":\"scattergeo\"},{\"lat\":[38.74769,25.79325],\"line\":{\"color\":\"red\",\"width\":1},\"locationmode\":\"USA-states\",\"lon\":[-90.35999,-80.29056],\"mode\":\"lines\",\"type\":\"scattergeo\"},{\"lat\":[17.70189,25.79325],\"line\":{\"color\":\"red\",\"width\":1},\"locationmode\":\"USA-states\",\"lon\":[-64.79856,-80.29056],\"mode\":\"lines\",\"type\":\"scattergeo\"},{\"lat\":[35.21401,25.79325],\"line\":{\"color\":\"red\",\"width\":1},\"locationmode\":\"USA-states\",\"lon\":[-80.94313,-80.29056],\"mode\":\"lines\",\"type\":\"scattergeo\"},{\"lat\":[39.04614,25.79325],\"line\":{\"color\":\"red\",\"width\":1},\"locationmode\":\"USA-states\",\"lon\":[-84.66217,-80.29056],\"mode\":\"lines\",\"type\":\"scattergeo\"},{\"lat\":[29.98047,29.53369],\"line\":{\"color\":\"red\",\"width\":1},\"locationmode\":\"USA-states\",\"lon\":[-95.33972,-98.46978],\"mode\":\"lines\",\"type\":\"scattergeo\"},{\"lat\":[29.98047,29.53369],\"line\":{\"color\":\"red\",\"width\":1},\"locationmode\":\"USA-states\",\"lon\":[-95.33972,-98.46978],\"mode\":\"lines\",\"type\":\"scattergeo\"},{\"lat\":[29.98047,29.53369],\"line\":{\"color\":\"red\",\"width\":1},\"locationmode\":\"USA-states\",\"lon\":[-95.33972,-98.46978],\"mode\":\"lines\",\"type\":\"scattergeo\"},{\"lat\":[29.98047,29.53369],\"line\":{\"color\":\"red\",\"width\":1},\"locationmode\":\"USA-states\",\"lon\":[-95.33972,-98.46978],\"mode\":\"lines\",\"type\":\"scattergeo\"},{\"lat\":[39.85841,29.53369],\"line\":{\"color\":\"red\",\"width\":1},\"locationmode\":\"USA-states\",\"lon\":[-104.667,-98.46978],\"mode\":\"lines\",\"type\":\"scattergeo\"},{\"lat\":[39.85841,29.53369],\"line\":{\"color\":\"red\",\"width\":1},\"locationmode\":\"USA-states\",\"lon\":[-104.667,-98.46978],\"mode\":\"lines\",\"type\":\"scattergeo\"},{\"lat\":[37.619,29.53369],\"line\":{\"color\":\"red\",\"width\":1},\"locationmode\":\"USA-states\",\"lon\":[-122.37484,-98.46978],\"mode\":\"lines\",\"type\":\"scattergeo\"},{\"lat\":[39.1754,29.53369],\"line\":{\"color\":\"red\",\"width\":1},\"locationmode\":\"USA-states\",\"lon\":[-76.6682,-98.46978],\"mode\":\"lines\",\"type\":\"scattergeo\"},{\"lat\":[33.64044,29.53369],\"line\":{\"color\":\"red\",\"width\":1},\"locationmode\":\"USA-states\",\"lon\":[-84.42694,-98.46978],\"mode\":\"lines\",\"type\":\"scattergeo\"},{\"lat\":[33.64044,29.53369],\"line\":{\"color\":\"red\",\"width\":1},\"locationmode\":\"USA-states\",\"lon\":[-84.42694,-98.46978],\"mode\":\"lines\",\"type\":\"scattergeo\"},{\"lat\":[32.89595,29.53369],\"line\":{\"color\":\"red\",\"width\":1},\"locationmode\":\"USA-states\",\"lon\":[-97.0372,-98.46978],\"mode\":\"lines\",\"type\":\"scattergeo\"},{\"lat\":[32.89595,29.53369],\"line\":{\"color\":\"red\",\"width\":1},\"locationmode\":\"USA-states\",\"lon\":[-97.0372,-98.46978],\"mode\":\"lines\",\"type\":\"scattergeo\"},{\"lat\":[32.89595,29.53369],\"line\":{\"color\":\"red\",\"width\":1},\"locationmode\":\"USA-states\",\"lon\":[-97.0372,-98.46978],\"mode\":\"lines\",\"type\":\"scattergeo\"},{\"lat\":[32.89595,29.53369],\"line\":{\"color\":\"red\",\"width\":1},\"locationmode\":\"USA-states\",\"lon\":[-97.0372,-98.46978],\"mode\":\"lines\",\"type\":\"scattergeo\"},{\"lat\":[32.89595,29.53369],\"line\":{\"color\":\"red\",\"width\":1},\"locationmode\":\"USA-states\",\"lon\":[-97.0372,-98.46978],\"mode\":\"lines\",\"type\":\"scattergeo\"},{\"lat\":[32.89595,29.53369],\"line\":{\"color\":\"red\",\"width\":1},\"locationmode\":\"USA-states\",\"lon\":[-97.0372,-98.46978],\"mode\":\"lines\",\"type\":\"scattergeo\"},{\"lat\":[39.87195,29.53369],\"line\":{\"color\":\"red\",\"width\":1},\"locationmode\":\"USA-states\",\"lon\":[-75.24114,-98.46978],\"mode\":\"lines\",\"type\":\"scattergeo\"},{\"lat\":[41.9796,29.53369],\"line\":{\"color\":\"red\",\"width\":1},\"locationmode\":\"USA-states\",\"lon\":[-87.90446,-98.46978],\"mode\":\"lines\",\"type\":\"scattergeo\"},{\"lat\":[33.94254,29.53369],\"line\":{\"color\":\"red\",\"width\":1},\"locationmode\":\"USA-states\",\"lon\":[-118.40807,-98.46978],\"mode\":\"lines\",\"type\":\"scattergeo\"},{\"lat\":[33.94254,29.53369],\"line\":{\"color\":\"red\",\"width\":1},\"locationmode\":\"USA-states\",\"lon\":[-118.40807,-98.46978],\"mode\":\"lines\",\"type\":\"scattergeo\"},{\"lat\":[40.78839,29.53369],\"line\":{\"color\":\"red\",\"width\":1},\"locationmode\":\"USA-states\",\"lon\":[-111.97777,-98.46978],\"mode\":\"lines\",\"type\":\"scattergeo\"},{\"lat\":[33.43417,29.53369],\"line\":{\"color\":\"red\",\"width\":1},\"locationmode\":\"USA-states\",\"lon\":[-112.00806,-98.46978],\"mode\":\"lines\",\"type\":\"scattergeo\"},{\"lat\":[38.74769,29.53369],\"line\":{\"color\":\"red\",\"width\":1},\"locationmode\":\"USA-states\",\"lon\":[-90.35999,-98.46978],\"mode\":\"lines\",\"type\":\"scattergeo\"},{\"lat\":[29.64542,29.53369],\"line\":{\"color\":\"red\",\"width\":1},\"locationmode\":\"USA-states\",\"lon\":[-95.27889,-98.46978],\"mode\":\"lines\",\"type\":\"scattergeo\"},{\"lat\":[32.84711,29.53369],\"line\":{\"color\":\"red\",\"width\":1},\"locationmode\":\"USA-states\",\"lon\":[-96.85177,-98.46978],\"mode\":\"lines\",\"type\":\"scattergeo\"},{\"lat\":[32.84711,29.53369],\"line\":{\"color\":\"red\",\"width\":1},\"locationmode\":\"USA-states\",\"lon\":[-96.85177,-98.46978],\"mode\":\"lines\",\"type\":\"scattergeo\"},{\"lat\":[32.84711,29.53369],\"line\":{\"color\":\"red\",\"width\":1},\"locationmode\":\"USA-states\",\"lon\":[-96.85177,-98.46978],\"mode\":\"lines\",\"type\":\"scattergeo\"},{\"lat\":[32.84711,29.53369],\"line\":{\"color\":\"red\",\"width\":1},\"locationmode\":\"USA-states\",\"lon\":[-96.85177,-98.46978],\"mode\":\"lines\",\"type\":\"scattergeo\"},{\"lat\":[29.98047,45.7769],\"line\":{\"color\":\"red\",\"width\":1},\"locationmode\":\"USA-states\",\"lon\":[-95.33972,-111.15301],\"mode\":\"lines\",\"type\":\"scattergeo\"},{\"lat\":[39.85841,45.7769],\"line\":{\"color\":\"red\",\"width\":1},\"locationmode\":\"USA-states\",\"lon\":[-104.667,-111.15301],\"mode\":\"lines\",\"type\":\"scattergeo\"},{\"lat\":[40.78839,45.7769],\"line\":{\"color\":\"red\",\"width\":1},\"locationmode\":\"USA-states\",\"lon\":[-111.97777,-111.15301],\"mode\":\"lines\",\"type\":\"scattergeo\"},{\"lat\":[29.98047,40.48118],\"line\":{\"color\":\"red\",\"width\":1},\"locationmode\":\"USA-states\",\"lon\":[-95.33972,-107.21766],\"mode\":\"lines\",\"type\":\"scattergeo\"},{\"lat\":[32.89595,40.48118],\"line\":{\"color\":\"red\",\"width\":1},\"locationmode\":\"USA-states\",\"lon\":[-97.0372,-107.21766],\"mode\":\"lines\",\"type\":\"scattergeo\"},{\"lat\":[29.98047,38.50887],\"line\":{\"color\":\"red\",\"width\":1},\"locationmode\":\"USA-states\",\"lon\":[-95.33972,-107.89383],\"mode\":\"lines\",\"type\":\"scattergeo\"},{\"lat\":[39.85841,38.50887],\"line\":{\"color\":\"red\",\"width\":1},\"locationmode\":\"USA-states\",\"lon\":[-104.667,-107.89383],\"mode\":\"lines\",\"type\":\"scattergeo\"},{\"lat\":[29.98047,38.94453],\"line\":{\"color\":\"red\",\"width\":1},\"locationmode\":\"USA-states\",\"lon\":[-95.33972,-77.45581],\"mode\":\"lines\",\"type\":\"scattergeo\"},{\"lat\":[29.98047,38.94453],\"line\":{\"color\":\"red\",\"width\":1},\"locationmode\":\"USA-states\",\"lon\":[-95.33972,-77.45581],\"mode\":\"lines\",\"type\":\"scattergeo\"},{\"lat\":[39.85841,38.94453],\"line\":{\"color\":\"red\",\"width\":1},\"locationmode\":\"USA-states\",\"lon\":[-104.667,-77.45581],\"mode\":\"lines\",\"type\":\"scattergeo\"},{\"lat\":[39.85841,38.94453],\"line\":{\"color\":\"red\",\"width\":1},\"locationmode\":\"USA-states\",\"lon\":[-104.667,-77.45581],\"mode\":\"lines\",\"type\":\"scattergeo\"},{\"lat\":[39.85841,38.94453],\"line\":{\"color\":\"red\",\"width\":1},\"locationmode\":\"USA-states\",\"lon\":[-104.667,-77.45581],\"mode\":\"lines\",\"type\":\"scattergeo\"},{\"lat\":[39.85841,38.94453],\"line\":{\"color\":\"red\",\"width\":1},\"locationmode\":\"USA-states\",\"lon\":[-104.667,-77.45581],\"mode\":\"lines\",\"type\":\"scattergeo\"},{\"lat\":[39.85841,38.94453],\"line\":{\"color\":\"red\",\"width\":1},\"locationmode\":\"USA-states\",\"lon\":[-104.667,-77.45581],\"mode\":\"lines\",\"type\":\"scattergeo\"},{\"lat\":[37.619,38.94453],\"line\":{\"color\":\"red\",\"width\":1},\"locationmode\":\"USA-states\",\"lon\":[-122.37484,-77.45581],\"mode\":\"lines\",\"type\":\"scattergeo\"},{\"lat\":[40.63975,38.94453],\"line\":{\"color\":\"red\",\"width\":1},\"locationmode\":\"USA-states\",\"lon\":[-73.77893,-77.45581],\"mode\":\"lines\",\"type\":\"scattergeo\"},{\"lat\":[26.07258,38.94453],\"line\":{\"color\":\"red\",\"width\":1},\"locationmode\":\"USA-states\",\"lon\":[-80.15275,-77.45581],\"mode\":\"lines\",\"type\":\"scattergeo\"},{\"lat\":[32.89595,38.94453],\"line\":{\"color\":\"red\",\"width\":1},\"locationmode\":\"USA-states\",\"lon\":[-97.0372,-77.45581],\"mode\":\"lines\",\"type\":\"scattergeo\"},{\"lat\":[32.89595,38.94453],\"line\":{\"color\":\"red\",\"width\":1},\"locationmode\":\"USA-states\",\"lon\":[-97.0372,-77.45581],\"mode\":\"lines\",\"type\":\"scattergeo\"},{\"lat\":[28.42889,38.94453],\"line\":{\"color\":\"red\",\"width\":1},\"locationmode\":\"USA-states\",\"lon\":[-81.31603,-77.45581],\"mode\":\"lines\",\"type\":\"scattergeo\"},{\"lat\":[28.42889,38.94453],\"line\":{\"color\":\"red\",\"width\":1},\"locationmode\":\"USA-states\",\"lon\":[-81.31603,-77.45581],\"mode\":\"lines\",\"type\":\"scattergeo\"},{\"lat\":[28.42889,38.94453],\"line\":{\"color\":\"red\",\"width\":1},\"locationmode\":\"USA-states\",\"lon\":[-81.31603,-77.45581],\"mode\":\"lines\",\"type\":\"scattergeo\"},{\"lat\":[28.42889,38.94453],\"line\":{\"color\":\"red\",\"width\":1},\"locationmode\":\"USA-states\",\"lon\":[-81.31603,-77.45581],\"mode\":\"lines\",\"type\":\"scattergeo\"},{\"lat\":[27.97547,38.94453],\"line\":{\"color\":\"red\",\"width\":1},\"locationmode\":\"USA-states\",\"lon\":[-82.53325,-77.45581],\"mode\":\"lines\",\"type\":\"scattergeo\"},{\"lat\":[47.44898,38.94453],\"line\":{\"color\":\"red\",\"width\":1},\"locationmode\":\"USA-states\",\"lon\":[-122.30931,-77.45581],\"mode\":\"lines\",\"type\":\"scattergeo\"},{\"lat\":[33.94254,38.94453],\"line\":{\"color\":\"red\",\"width\":1},\"locationmode\":\"USA-states\",\"lon\":[-118.40807,-77.45581],\"mode\":\"lines\",\"type\":\"scattergeo\"},{\"lat\":[35.21401,38.94453],\"line\":{\"color\":\"red\",\"width\":1},\"locationmode\":\"USA-states\",\"lon\":[-80.94313,-77.45581],\"mode\":\"lines\",\"type\":\"scattergeo\"},{\"lat\":[29.98047,36.28187],\"line\":{\"color\":\"red\",\"width\":1},\"locationmode\":\"USA-states\",\"lon\":[-95.33972,-94.30681],\"mode\":\"lines\",\"type\":\"scattergeo\"},{\"lat\":[39.85841,36.28187],\"line\":{\"color\":\"red\",\"width\":1},\"locationmode\":\"USA-states\",\"lon\":[-104.667,-94.30681],\"mode\":\"lines\",\"type\":\"scattergeo\"},{\"lat\":[32.89595,36.28187],\"line\":{\"color\":\"red\",\"width\":1},\"locationmode\":\"USA-states\",\"lon\":[-97.0372,-94.30681],\"mode\":\"lines\",\"type\":\"scattergeo\"},{\"lat\":[41.9796,36.28187],\"line\":{\"color\":\"red\",\"width\":1},\"locationmode\":\"USA-states\",\"lon\":[-87.90446,-94.30681],\"mode\":\"lines\",\"type\":\"scattergeo\"},{\"lat\":[29.98047,35.04242],\"line\":{\"color\":\"red\",\"width\":1},\"locationmode\":\"USA-states\",\"lon\":[-95.33972,-89.97667],\"mode\":\"lines\",\"type\":\"scattergeo\"},{\"lat\":[39.85841,35.04242],\"line\":{\"color\":\"red\",\"width\":1},\"locationmode\":\"USA-states\",\"lon\":[-104.667,-89.97667],\"mode\":\"lines\",\"type\":\"scattergeo\"},{\"lat\":[33.64044,35.04242],\"line\":{\"color\":\"red\",\"width\":1},\"locationmode\":\"USA-states\",\"lon\":[-84.42694,-89.97667],\"mode\":\"lines\",\"type\":\"scattergeo\"},{\"lat\":[32.89595,35.04242],\"line\":{\"color\":\"red\",\"width\":1},\"locationmode\":\"USA-states\",\"lon\":[-97.0372,-89.97667],\"mode\":\"lines\",\"type\":\"scattergeo\"},{\"lat\":[32.89595,35.04242],\"line\":{\"color\":\"red\",\"width\":1},\"locationmode\":\"USA-states\",\"lon\":[-97.0372,-89.97667],\"mode\":\"lines\",\"type\":\"scattergeo\"},{\"lat\":[40.6925,35.04242],\"line\":{\"color\":\"red\",\"width\":1},\"locationmode\":\"USA-states\",\"lon\":[-74.16866,-89.97667],\"mode\":\"lines\",\"type\":\"scattergeo\"},{\"lat\":[41.78598,35.04242],\"line\":{\"color\":\"red\",\"width\":1},\"locationmode\":\"USA-states\",\"lon\":[-87.75242,-89.97667],\"mode\":\"lines\",\"type\":\"scattergeo\"},{\"lat\":[29.64542,35.04242],\"line\":{\"color\":\"red\",\"width\":1},\"locationmode\":\"USA-states\",\"lon\":[-95.27889,-89.97667],\"mode\":\"lines\",\"type\":\"scattergeo\"},{\"lat\":[29.98047,35.81249],\"line\":{\"color\":\"red\",\"width\":1},\"locationmode\":\"USA-states\",\"lon\":[-95.33972,-83.99286],\"mode\":\"lines\",\"type\":\"scattergeo\"},{\"lat\":[39.85841,35.81249],\"line\":{\"color\":\"red\",\"width\":1},\"locationmode\":\"USA-states\",\"lon\":[-104.667,-83.99286],\"mode\":\"lines\",\"type\":\"scattergeo\"},{\"lat\":[32.89595,35.81249],\"line\":{\"color\":\"red\",\"width\":1},\"locationmode\":\"USA-states\",\"lon\":[-97.0372,-83.99286],\"mode\":\"lines\",\"type\":\"scattergeo\"},{\"lat\":[29.98047,35.87764],\"line\":{\"color\":\"red\",\"width\":1},\"locationmode\":\"USA-states\",\"lon\":[-95.33972,-78.78747],\"mode\":\"lines\",\"type\":\"scattergeo\"},{\"lat\":[39.85841,35.87764],\"line\":{\"color\":\"red\",\"width\":1},\"locationmode\":\"USA-states\",\"lon\":[-104.667,-78.78747],\"mode\":\"lines\",\"type\":\"scattergeo\"},{\"lat\":[33.64044,35.87764],\"line\":{\"color\":\"red\",\"width\":1},\"locationmode\":\"USA-states\",\"lon\":[-84.42694,-78.78747],\"mode\":\"lines\",\"type\":\"scattergeo\"},{\"lat\":[33.64044,35.87764],\"line\":{\"color\":\"red\",\"width\":1},\"locationmode\":\"USA-states\",\"lon\":[-84.42694,-78.78747],\"mode\":\"lines\",\"type\":\"scattergeo\"},{\"lat\":[32.89595,35.87764],\"line\":{\"color\":\"red\",\"width\":1},\"locationmode\":\"USA-states\",\"lon\":[-97.0372,-78.78747],\"mode\":\"lines\",\"type\":\"scattergeo\"},{\"lat\":[39.87195,35.87764],\"line\":{\"color\":\"red\",\"width\":1},\"locationmode\":\"USA-states\",\"lon\":[-75.24114,-78.78747],\"mode\":\"lines\",\"type\":\"scattergeo\"},{\"lat\":[35.21401,35.87764],\"line\":{\"color\":\"red\",\"width\":1},\"locationmode\":\"USA-states\",\"lon\":[-80.94313,-78.78747],\"mode\":\"lines\",\"type\":\"scattergeo\"},{\"lat\":[35.21401,35.87764],\"line\":{\"color\":\"red\",\"width\":1},\"locationmode\":\"USA-states\",\"lon\":[-80.94313,-78.78747],\"mode\":\"lines\",\"type\":\"scattergeo\"},{\"lat\":[29.98047,33.66364],\"line\":{\"color\":\"red\",\"width\":1},\"locationmode\":\"USA-states\",\"lon\":[-95.33972,-101.82278],\"mode\":\"lines\",\"type\":\"scattergeo\"},{\"lat\":[29.98047,33.66364],\"line\":{\"color\":\"red\",\"width\":1},\"locationmode\":\"USA-states\",\"lon\":[-95.33972,-101.82278],\"mode\":\"lines\",\"type\":\"scattergeo\"},{\"lat\":[39.85841,33.66364],\"line\":{\"color\":\"red\",\"width\":1},\"locationmode\":\"USA-states\",\"lon\":[-104.667,-101.82278],\"mode\":\"lines\",\"type\":\"scattergeo\"},{\"lat\":[39.85841,33.66364],\"line\":{\"color\":\"red\",\"width\":1},\"locationmode\":\"USA-states\",\"lon\":[-104.667,-101.82278],\"mode\":\"lines\",\"type\":\"scattergeo\"},{\"lat\":[32.89595,33.66364],\"line\":{\"color\":\"red\",\"width\":1},\"locationmode\":\"USA-states\",\"lon\":[-97.0372,-101.82278],\"mode\":\"lines\",\"type\":\"scattergeo\"},{\"lat\":[32.89595,33.66364],\"line\":{\"color\":\"red\",\"width\":1},\"locationmode\":\"USA-states\",\"lon\":[-97.0372,-101.82278],\"mode\":\"lines\",\"type\":\"scattergeo\"},{\"lat\":[30.19453,33.66364],\"line\":{\"color\":\"red\",\"width\":1},\"locationmode\":\"USA-states\",\"lon\":[-97.66987,-101.82278],\"mode\":\"lines\",\"type\":\"scattergeo\"},{\"lat\":[29.98047,39.87195],\"line\":{\"color\":\"red\",\"width\":1},\"locationmode\":\"USA-states\",\"lon\":[-95.33972,-75.24114],\"mode\":\"lines\",\"type\":\"scattergeo\"},{\"lat\":[29.98047,39.87195],\"line\":{\"color\":\"red\",\"width\":1},\"locationmode\":\"USA-states\",\"lon\":[-95.33972,-75.24114],\"mode\":\"lines\",\"type\":\"scattergeo\"},{\"lat\":[39.85841,39.87195],\"line\":{\"color\":\"red\",\"width\":1},\"locationmode\":\"USA-states\",\"lon\":[-104.667,-75.24114],\"mode\":\"lines\",\"type\":\"scattergeo\"},{\"lat\":[26.07258,39.87195],\"line\":{\"color\":\"red\",\"width\":1},\"locationmode\":\"USA-states\",\"lon\":[-80.15275,-75.24114],\"mode\":\"lines\",\"type\":\"scattergeo\"},{\"lat\":[32.89595,39.87195],\"line\":{\"color\":\"red\",\"width\":1},\"locationmode\":\"USA-states\",\"lon\":[-97.0372,-75.24114],\"mode\":\"lines\",\"type\":\"scattergeo\"},{\"lat\":[41.9796,39.87195],\"line\":{\"color\":\"red\",\"width\":1},\"locationmode\":\"USA-states\",\"lon\":[-87.90446,-75.24114],\"mode\":\"lines\",\"type\":\"scattergeo\"},{\"lat\":[41.9796,39.87195],\"line\":{\"color\":\"red\",\"width\":1},\"locationmode\":\"USA-states\",\"lon\":[-87.90446,-75.24114],\"mode\":\"lines\",\"type\":\"scattergeo\"},{\"lat\":[47.44898,39.87195],\"line\":{\"color\":\"red\",\"width\":1},\"locationmode\":\"USA-states\",\"lon\":[-122.30931,-75.24114],\"mode\":\"lines\",\"type\":\"scattergeo\"},{\"lat\":[33.94254,39.87195],\"line\":{\"color\":\"red\",\"width\":1},\"locationmode\":\"USA-states\",\"lon\":[-118.40807,-75.24114],\"mode\":\"lines\",\"type\":\"scattergeo\"},{\"lat\":[40.78839,39.87195],\"line\":{\"color\":\"red\",\"width\":1},\"locationmode\":\"USA-states\",\"lon\":[-111.97777,-75.24114],\"mode\":\"lines\",\"type\":\"scattergeo\"},{\"lat\":[33.43417,39.87195],\"line\":{\"color\":\"red\",\"width\":1},\"locationmode\":\"USA-states\",\"lon\":[-112.00806,-75.24114],\"mode\":\"lines\",\"type\":\"scattergeo\"},{\"lat\":[42.21206,39.87195],\"line\":{\"color\":\"red\",\"width\":1},\"locationmode\":\"USA-states\",\"lon\":[-83.34884,-75.24114],\"mode\":\"lines\",\"type\":\"scattergeo\"},{\"lat\":[18.33731,39.87195],\"line\":{\"color\":\"red\",\"width\":1},\"locationmode\":\"USA-states\",\"lon\":[-64.97336,-75.24114],\"mode\":\"lines\",\"type\":\"scattergeo\"},{\"lat\":[29.98047,39.71733],\"line\":{\"color\":\"red\",\"width\":1},\"locationmode\":\"USA-states\",\"lon\":[-95.33972,-86.29438],\"mode\":\"lines\",\"type\":\"scattergeo\"},{\"lat\":[39.85841,39.71733],\"line\":{\"color\":\"red\",\"width\":1},\"locationmode\":\"USA-states\",\"lon\":[-104.667,-86.29438],\"mode\":\"lines\",\"type\":\"scattergeo\"},{\"lat\":[39.85841,39.71733],\"line\":{\"color\":\"red\",\"width\":1},\"locationmode\":\"USA-states\",\"lon\":[-104.667,-86.29438],\"mode\":\"lines\",\"type\":\"scattergeo\"},{\"lat\":[39.85841,39.71733],\"line\":{\"color\":\"red\",\"width\":1},\"locationmode\":\"USA-states\",\"lon\":[-104.667,-86.29438],\"mode\":\"lines\",\"type\":\"scattergeo\"},{\"lat\":[39.1754,39.71733],\"line\":{\"color\":\"red\",\"width\":1},\"locationmode\":\"USA-states\",\"lon\":[-76.6682,-86.29438],\"mode\":\"lines\",\"type\":\"scattergeo\"},{\"lat\":[32.89595,39.71733],\"line\":{\"color\":\"red\",\"width\":1},\"locationmode\":\"USA-states\",\"lon\":[-97.0372,-86.29438],\"mode\":\"lines\",\"type\":\"scattergeo\"},{\"lat\":[32.89595,39.71733],\"line\":{\"color\":\"red\",\"width\":1},\"locationmode\":\"USA-states\",\"lon\":[-97.0372,-86.29438],\"mode\":\"lines\",\"type\":\"scattergeo\"},{\"lat\":[32.89595,39.71733],\"line\":{\"color\":\"red\",\"width\":1},\"locationmode\":\"USA-states\",\"lon\":[-97.0372,-86.29438],\"mode\":\"lines\",\"type\":\"scattergeo\"},{\"lat\":[28.42889,39.71733],\"line\":{\"color\":\"red\",\"width\":1},\"locationmode\":\"USA-states\",\"lon\":[-81.31603,-86.29438],\"mode\":\"lines\",\"type\":\"scattergeo\"},{\"lat\":[39.87195,39.71733],\"line\":{\"color\":\"red\",\"width\":1},\"locationmode\":\"USA-states\",\"lon\":[-75.24114,-86.29438],\"mode\":\"lines\",\"type\":\"scattergeo\"},{\"lat\":[41.9796,39.71733],\"line\":{\"color\":\"red\",\"width\":1},\"locationmode\":\"USA-states\",\"lon\":[-87.90446,-86.29438],\"mode\":\"lines\",\"type\":\"scattergeo\"},{\"lat\":[41.9796,39.71733],\"line\":{\"color\":\"red\",\"width\":1},\"locationmode\":\"USA-states\",\"lon\":[-87.90446,-86.29438],\"mode\":\"lines\",\"type\":\"scattergeo\"},{\"lat\":[41.9796,39.71733],\"line\":{\"color\":\"red\",\"width\":1},\"locationmode\":\"USA-states\",\"lon\":[-87.90446,-86.29438],\"mode\":\"lines\",\"type\":\"scattergeo\"},{\"lat\":[38.94453,39.71733],\"line\":{\"color\":\"red\",\"width\":1},\"locationmode\":\"USA-states\",\"lon\":[-77.45581,-86.29438],\"mode\":\"lines\",\"type\":\"scattergeo\"},{\"lat\":[29.98047,30.69142],\"line\":{\"color\":\"red\",\"width\":1},\"locationmode\":\"USA-states\",\"lon\":[-95.33972,-88.24283],\"mode\":\"lines\",\"type\":\"scattergeo\"},{\"lat\":[32.89595,30.69142],\"line\":{\"color\":\"red\",\"width\":1},\"locationmode\":\"USA-states\",\"lon\":[-97.0372,-88.24283],\"mode\":\"lines\",\"type\":\"scattergeo\"},{\"lat\":[29.98047,36.19837],\"line\":{\"color\":\"red\",\"width\":1},\"locationmode\":\"USA-states\",\"lon\":[-95.33972,-95.88824],\"mode\":\"lines\",\"type\":\"scattergeo\"},{\"lat\":[39.85841,36.19837],\"line\":{\"color\":\"red\",\"width\":1},\"locationmode\":\"USA-states\",\"lon\":[-104.667,-95.88824],\"mode\":\"lines\",\"type\":\"scattergeo\"},{\"lat\":[33.43417,36.19837],\"line\":{\"color\":\"red\",\"width\":1},\"locationmode\":\"USA-states\",\"lon\":[-112.00806,-95.88824],\"mode\":\"lines\",\"type\":\"scattergeo\"},{\"lat\":[41.78598,36.19837],\"line\":{\"color\":\"red\",\"width\":1},\"locationmode\":\"USA-states\",\"lon\":[-87.75242,-95.88824],\"mode\":\"lines\",\"type\":\"scattergeo\"},{\"lat\":[38.94453,36.19837],\"line\":{\"color\":\"red\",\"width\":1},\"locationmode\":\"USA-states\",\"lon\":[-77.45581,-95.88824],\"mode\":\"lines\",\"type\":\"scattergeo\"},{\"lat\":[32.84711,36.19837],\"line\":{\"color\":\"red\",\"width\":1},\"locationmode\":\"USA-states\",\"lon\":[-96.85177,-95.88824],\"mode\":\"lines\",\"type\":\"scattergeo\"},{\"lat\":[32.84711,36.19837],\"line\":{\"color\":\"red\",\"width\":1},\"locationmode\":\"USA-states\",\"lon\":[-96.85177,-95.88824],\"mode\":\"lines\",\"type\":\"scattergeo\"},{\"lat\":[29.98047,33.64044],\"line\":{\"color\":\"red\",\"width\":1},\"locationmode\":\"USA-states\",\"lon\":[-95.33972,-84.42694],\"mode\":\"lines\",\"type\":\"scattergeo\"},{\"lat\":[39.85841,33.64044],\"line\":{\"color\":\"red\",\"width\":1},\"locationmode\":\"USA-states\",\"lon\":[-104.667,-84.42694],\"mode\":\"lines\",\"type\":\"scattergeo\"},{\"lat\":[39.85841,33.64044],\"line\":{\"color\":\"red\",\"width\":1},\"locationmode\":\"USA-states\",\"lon\":[-104.667,-84.42694],\"mode\":\"lines\",\"type\":\"scattergeo\"},{\"lat\":[39.85841,33.64044],\"line\":{\"color\":\"red\",\"width\":1},\"locationmode\":\"USA-states\",\"lon\":[-104.667,-84.42694],\"mode\":\"lines\",\"type\":\"scattergeo\"},{\"lat\":[37.619,33.64044],\"line\":{\"color\":\"red\",\"width\":1},\"locationmode\":\"USA-states\",\"lon\":[-122.37484,-84.42694],\"mode\":\"lines\",\"type\":\"scattergeo\"},{\"lat\":[37.619,33.64044],\"line\":{\"color\":\"red\",\"width\":1},\"locationmode\":\"USA-states\",\"lon\":[-122.37484,-84.42694],\"mode\":\"lines\",\"type\":\"scattergeo\"},{\"lat\":[42.94722,33.64044],\"line\":{\"color\":\"red\",\"width\":1},\"locationmode\":\"USA-states\",\"lon\":[-87.89658,-84.42694],\"mode\":\"lines\",\"type\":\"scattergeo\"},{\"lat\":[40.49147,33.64044],\"line\":{\"color\":\"red\",\"width\":1},\"locationmode\":\"USA-states\",\"lon\":[-80.23287,-84.42694],\"mode\":\"lines\",\"type\":\"scattergeo\"},{\"lat\":[39.1754,33.64044],\"line\":{\"color\":\"red\",\"width\":1},\"locationmode\":\"USA-states\",\"lon\":[-76.6682,-84.42694],\"mode\":\"lines\",\"type\":\"scattergeo\"},{\"lat\":[26.07258,33.64044],\"line\":{\"color\":\"red\",\"width\":1},\"locationmode\":\"USA-states\",\"lon\":[-80.15275,-84.42694],\"mode\":\"lines\",\"type\":\"scattergeo\"},{\"lat\":[35.87764,33.64044],\"line\":{\"color\":\"red\",\"width\":1},\"locationmode\":\"USA-states\",\"lon\":[-78.78747,-84.42694],\"mode\":\"lines\",\"type\":\"scattergeo\"},{\"lat\":[32.89595,33.64044],\"line\":{\"color\":\"red\",\"width\":1},\"locationmode\":\"USA-states\",\"lon\":[-97.0372,-84.42694],\"mode\":\"lines\",\"type\":\"scattergeo\"},{\"lat\":[40.6925,33.64044],\"line\":{\"color\":\"red\",\"width\":1},\"locationmode\":\"USA-states\",\"lon\":[-74.16866,-84.42694],\"mode\":\"lines\",\"type\":\"scattergeo\"},{\"lat\":[25.79325,33.64044],\"line\":{\"color\":\"red\",\"width\":1},\"locationmode\":\"USA-states\",\"lon\":[-80.29056,-84.42694],\"mode\":\"lines\",\"type\":\"scattergeo\"},{\"lat\":[25.79325,33.64044],\"line\":{\"color\":\"red\",\"width\":1},\"locationmode\":\"USA-states\",\"lon\":[-80.29056,-84.42694],\"mode\":\"lines\",\"type\":\"scattergeo\"},{\"lat\":[39.99799,33.64044],\"line\":{\"color\":\"red\",\"width\":1},\"locationmode\":\"USA-states\",\"lon\":[-82.89188,-84.42694],\"mode\":\"lines\",\"type\":\"scattergeo\"},{\"lat\":[33.93884,33.64044],\"line\":{\"color\":\"red\",\"width\":1},\"locationmode\":\"USA-states\",\"lon\":[-81.11954,-84.42694],\"mode\":\"lines\",\"type\":\"scattergeo\"},{\"lat\":[28.42889,33.64044],\"line\":{\"color\":\"red\",\"width\":1},\"locationmode\":\"USA-states\",\"lon\":[-81.31603,-84.42694],\"mode\":\"lines\",\"type\":\"scattergeo\"},{\"lat\":[39.87195,33.64044],\"line\":{\"color\":\"red\",\"width\":1},\"locationmode\":\"USA-states\",\"lon\":[-75.24114,-84.42694],\"mode\":\"lines\",\"type\":\"scattergeo\"},{\"lat\":[30.19453,33.64044],\"line\":{\"color\":\"red\",\"width\":1},\"locationmode\":\"USA-states\",\"lon\":[-97.66987,-84.42694],\"mode\":\"lines\",\"type\":\"scattergeo\"},{\"lat\":[27.97547,33.64044],\"line\":{\"color\":\"red\",\"width\":1},\"locationmode\":\"USA-states\",\"lon\":[-82.53325,-84.42694],\"mode\":\"lines\",\"type\":\"scattergeo\"},{\"lat\":[44.88055,33.64044],\"line\":{\"color\":\"red\",\"width\":1},\"locationmode\":\"USA-states\",\"lon\":[-93.21692,-84.42694],\"mode\":\"lines\",\"type\":\"scattergeo\"},{\"lat\":[32.73356,33.64044],\"line\":{\"color\":\"red\",\"width\":1},\"locationmode\":\"USA-states\",\"lon\":[-117.18966,-84.42694],\"mode\":\"lines\",\"type\":\"scattergeo\"},{\"lat\":[29.53369,33.64044],\"line\":{\"color\":\"red\",\"width\":1},\"locationmode\":\"USA-states\",\"lon\":[-98.46978,-84.42694],\"mode\":\"lines\",\"type\":\"scattergeo\"},{\"lat\":[41.9796,33.64044],\"line\":{\"color\":\"red\",\"width\":1},\"locationmode\":\"USA-states\",\"lon\":[-87.90446,-84.42694],\"mode\":\"lines\",\"type\":\"scattergeo\"},{\"lat\":[41.9796,33.64044],\"line\":{\"color\":\"red\",\"width\":1},\"locationmode\":\"USA-states\",\"lon\":[-87.90446,-84.42694],\"mode\":\"lines\",\"type\":\"scattergeo\"},{\"lat\":[33.94254,33.64044],\"line\":{\"color\":\"red\",\"width\":1},\"locationmode\":\"USA-states\",\"lon\":[-118.40807,-84.42694],\"mode\":\"lines\",\"type\":\"scattergeo\"},{\"lat\":[40.78839,33.64044],\"line\":{\"color\":\"red\",\"width\":1},\"locationmode\":\"USA-states\",\"lon\":[-111.97777,-84.42694],\"mode\":\"lines\",\"type\":\"scattergeo\"},{\"lat\":[33.43417,33.64044],\"line\":{\"color\":\"red\",\"width\":1},\"locationmode\":\"USA-states\",\"lon\":[-112.00806,-84.42694],\"mode\":\"lines\",\"type\":\"scattergeo\"},{\"lat\":[36.19837,33.64044],\"line\":{\"color\":\"red\",\"width\":1},\"locationmode\":\"USA-states\",\"lon\":[-95.88824,-84.42694],\"mode\":\"lines\",\"type\":\"scattergeo\"},{\"lat\":[41.78598,33.64044],\"line\":{\"color\":\"red\",\"width\":1},\"locationmode\":\"USA-states\",\"lon\":[-87.75242,-84.42694],\"mode\":\"lines\",\"type\":\"scattergeo\"},{\"lat\":[41.78598,33.64044],\"line\":{\"color\":\"red\",\"width\":1},\"locationmode\":\"USA-states\",\"lon\":[-87.75242,-84.42694],\"mode\":\"lines\",\"type\":\"scattergeo\"},{\"lat\":[32.12758,33.64044],\"line\":{\"color\":\"red\",\"width\":1},\"locationmode\":\"USA-states\",\"lon\":[-81.20214,-84.42694],\"mode\":\"lines\",\"type\":\"scattergeo\"},{\"lat\":[42.21206,33.64044],\"line\":{\"color\":\"red\",\"width\":1},\"locationmode\":\"USA-states\",\"lon\":[-83.34884,-84.42694],\"mode\":\"lines\",\"type\":\"scattergeo\"},{\"lat\":[42.21206,33.64044],\"line\":{\"color\":\"red\",\"width\":1},\"locationmode\":\"USA-states\",\"lon\":[-83.34884,-84.42694],\"mode\":\"lines\",\"type\":\"scattergeo\"},{\"lat\":[35.21401,33.64044],\"line\":{\"color\":\"red\",\"width\":1},\"locationmode\":\"USA-states\",\"lon\":[-80.94313,-84.42694],\"mode\":\"lines\",\"type\":\"scattergeo\"},{\"lat\":[29.64542,33.64044],\"line\":{\"color\":\"red\",\"width\":1},\"locationmode\":\"USA-states\",\"lon\":[-95.27889,-84.42694],\"mode\":\"lines\",\"type\":\"scattergeo\"},{\"lat\":[33.36996,33.64044],\"line\":{\"color\":\"red\",\"width\":1},\"locationmode\":\"USA-states\",\"lon\":[-81.9645,-84.42694],\"mode\":\"lines\",\"type\":\"scattergeo\"},{\"lat\":[32.84711,33.64044],\"line\":{\"color\":\"red\",\"width\":1},\"locationmode\":\"USA-states\",\"lon\":[-96.85177,-84.42694],\"mode\":\"lines\",\"type\":\"scattergeo\"},{\"lat\":[29.98047,38.69542],\"line\":{\"color\":\"red\",\"width\":1},\"locationmode\":\"USA-states\",\"lon\":[-95.33972,-121.59077],\"mode\":\"lines\",\"type\":\"scattergeo\"},{\"lat\":[39.85841,38.69542],\"line\":{\"color\":\"red\",\"width\":1},\"locationmode\":\"USA-states\",\"lon\":[-104.667,-121.59077],\"mode\":\"lines\",\"type\":\"scattergeo\"},{\"lat\":[39.85841,38.69542],\"line\":{\"color\":\"red\",\"width\":1},\"locationmode\":\"USA-states\",\"lon\":[-104.667,-121.59077],\"mode\":\"lines\",\"type\":\"scattergeo\"},{\"lat\":[39.85841,38.69542],\"line\":{\"color\":\"red\",\"width\":1},\"locationmode\":\"USA-states\",\"lon\":[-104.667,-121.59077],\"mode\":\"lines\",\"type\":\"scattergeo\"},{\"lat\":[37.619,38.69542],\"line\":{\"color\":\"red\",\"width\":1},\"locationmode\":\"USA-states\",\"lon\":[-122.37484,-121.59077],\"mode\":\"lines\",\"type\":\"scattergeo\"},{\"lat\":[37.619,38.69542],\"line\":{\"color\":\"red\",\"width\":1},\"locationmode\":\"USA-states\",\"lon\":[-122.37484,-121.59077],\"mode\":\"lines\",\"type\":\"scattergeo\"},{\"lat\":[32.89595,38.69542],\"line\":{\"color\":\"red\",\"width\":1},\"locationmode\":\"USA-states\",\"lon\":[-97.0372,-121.59077],\"mode\":\"lines\",\"type\":\"scattergeo\"},{\"lat\":[32.73356,38.69542],\"line\":{\"color\":\"red\",\"width\":1},\"locationmode\":\"USA-states\",\"lon\":[-117.18966,-121.59077],\"mode\":\"lines\",\"type\":\"scattergeo\"},{\"lat\":[34.056,38.69542],\"line\":{\"color\":\"red\",\"width\":1},\"locationmode\":\"USA-states\",\"lon\":[-117.60119,-121.59077],\"mode\":\"lines\",\"type\":\"scattergeo\"},{\"lat\":[34.056,38.69542],\"line\":{\"color\":\"red\",\"width\":1},\"locationmode\":\"USA-states\",\"lon\":[-117.60119,-121.59077],\"mode\":\"lines\",\"type\":\"scattergeo\"},{\"lat\":[41.9796,38.69542],\"line\":{\"color\":\"red\",\"width\":1},\"locationmode\":\"USA-states\",\"lon\":[-87.90446,-121.59077],\"mode\":\"lines\",\"type\":\"scattergeo\"},{\"lat\":[47.44898,38.69542],\"line\":{\"color\":\"red\",\"width\":1},\"locationmode\":\"USA-states\",\"lon\":[-122.30931,-121.59077],\"mode\":\"lines\",\"type\":\"scattergeo\"},{\"lat\":[33.94254,38.69542],\"line\":{\"color\":\"red\",\"width\":1},\"locationmode\":\"USA-states\",\"lon\":[-118.40807,-121.59077],\"mode\":\"lines\",\"type\":\"scattergeo\"},{\"lat\":[33.94254,38.69542],\"line\":{\"color\":\"red\",\"width\":1},\"locationmode\":\"USA-states\",\"lon\":[-118.40807,-121.59077],\"mode\":\"lines\",\"type\":\"scattergeo\"},{\"lat\":[33.43417,38.69542],\"line\":{\"color\":\"red\",\"width\":1},\"locationmode\":\"USA-states\",\"lon\":[-112.00806,-121.59077],\"mode\":\"lines\",\"type\":\"scattergeo\"},{\"lat\":[33.43417,38.69542],\"line\":{\"color\":\"red\",\"width\":1},\"locationmode\":\"USA-states\",\"lon\":[-112.00806,-121.59077],\"mode\":\"lines\",\"type\":\"scattergeo\"},{\"lat\":[33.43417,38.69542],\"line\":{\"color\":\"red\",\"width\":1},\"locationmode\":\"USA-states\",\"lon\":[-112.00806,-121.59077],\"mode\":\"lines\",\"type\":\"scattergeo\"},{\"lat\":[33.43417,38.69542],\"line\":{\"color\":\"red\",\"width\":1},\"locationmode\":\"USA-states\",\"lon\":[-112.00806,-121.59077],\"mode\":\"lines\",\"type\":\"scattergeo\"},{\"lat\":[33.67566,38.69542],\"line\":{\"color\":\"red\",\"width\":1},\"locationmode\":\"USA-states\",\"lon\":[-117.86822,-121.59077],\"mode\":\"lines\",\"type\":\"scattergeo\"},{\"lat\":[33.81772,38.69542],\"line\":{\"color\":\"red\",\"width\":1},\"locationmode\":\"USA-states\",\"lon\":[-118.15161,-121.59077],\"mode\":\"lines\",\"type\":\"scattergeo\"},{\"lat\":[29.98047,34.056],\"line\":{\"color\":\"red\",\"width\":1},\"locationmode\":\"USA-states\",\"lon\":[-95.33972,-117.60119],\"mode\":\"lines\",\"type\":\"scattergeo\"},{\"lat\":[39.85841,34.056],\"line\":{\"color\":\"red\",\"width\":1},\"locationmode\":\"USA-states\",\"lon\":[-104.667,-117.60119],\"mode\":\"lines\",\"type\":\"scattergeo\"},{\"lat\":[38.69542,34.056],\"line\":{\"color\":\"red\",\"width\":1},\"locationmode\":\"USA-states\",\"lon\":[-121.59077,-117.60119],\"mode\":\"lines\",\"type\":\"scattergeo\"},{\"lat\":[38.69542,34.056],\"line\":{\"color\":\"red\",\"width\":1},\"locationmode\":\"USA-states\",\"lon\":[-121.59077,-117.60119],\"mode\":\"lines\",\"type\":\"scattergeo\"},{\"lat\":[32.89595,34.056],\"line\":{\"color\":\"red\",\"width\":1},\"locationmode\":\"USA-states\",\"lon\":[-97.0372,-117.60119],\"mode\":\"lines\",\"type\":\"scattergeo\"},{\"lat\":[32.89595,34.056],\"line\":{\"color\":\"red\",\"width\":1},\"locationmode\":\"USA-states\",\"lon\":[-97.0372,-117.60119],\"mode\":\"lines\",\"type\":\"scattergeo\"},{\"lat\":[47.44898,34.056],\"line\":{\"color\":\"red\",\"width\":1},\"locationmode\":\"USA-states\",\"lon\":[-122.30931,-117.60119],\"mode\":\"lines\",\"type\":\"scattergeo\"},{\"lat\":[37.72129,34.056],\"line\":{\"color\":\"red\",\"width\":1},\"locationmode\":\"USA-states\",\"lon\":[-122.22072,-117.60119],\"mode\":\"lines\",\"type\":\"scattergeo\"},{\"lat\":[33.43417,34.056],\"line\":{\"color\":\"red\",\"width\":1},\"locationmode\":\"USA-states\",\"lon\":[-112.00806,-117.60119],\"mode\":\"lines\",\"type\":\"scattergeo\"},{\"lat\":[33.43417,34.056],\"line\":{\"color\":\"red\",\"width\":1},\"locationmode\":\"USA-states\",\"lon\":[-112.00806,-117.60119],\"mode\":\"lines\",\"type\":\"scattergeo\"},{\"lat\":[33.43417,34.056],\"line\":{\"color\":\"red\",\"width\":1},\"locationmode\":\"USA-states\",\"lon\":[-112.00806,-117.60119],\"mode\":\"lines\",\"type\":\"scattergeo\"},{\"lat\":[29.98047,32.89865],\"line\":{\"color\":\"red\",\"width\":1},\"locationmode\":\"USA-states\",\"lon\":[-95.33972,-80.04051],\"mode\":\"lines\",\"type\":\"scattergeo\"},{\"lat\":[40.77724,32.89865],\"line\":{\"color\":\"red\",\"width\":1},\"locationmode\":\"USA-states\",\"lon\":[-73.87261,-80.04051],\"mode\":\"lines\",\"type\":\"scattergeo\"},{\"lat\":[32.89595,32.89865],\"line\":{\"color\":\"red\",\"width\":1},\"locationmode\":\"USA-states\",\"lon\":[-97.0372,-80.04051],\"mode\":\"lines\",\"type\":\"scattergeo\"},{\"lat\":[32.89595,32.89865],\"line\":{\"color\":\"red\",\"width\":1},\"locationmode\":\"USA-states\",\"lon\":[-97.0372,-80.04051],\"mode\":\"lines\",\"type\":\"scattergeo\"},{\"lat\":[29.64542,32.89865],\"line\":{\"color\":\"red\",\"width\":1},\"locationmode\":\"USA-states\",\"lon\":[-95.27889,-80.04051],\"mode\":\"lines\",\"type\":\"scattergeo\"},{\"lat\":[29.98047,26.68316],\"line\":{\"color\":\"red\",\"width\":1},\"locationmode\":\"USA-states\",\"lon\":[-95.33972,-80.09559],\"mode\":\"lines\",\"type\":\"scattergeo\"},{\"lat\":[39.85841,26.68316],\"line\":{\"color\":\"red\",\"width\":1},\"locationmode\":\"USA-states\",\"lon\":[-104.667,-80.09559],\"mode\":\"lines\",\"type\":\"scattergeo\"},{\"lat\":[39.1754,26.68316],\"line\":{\"color\":\"red\",\"width\":1},\"locationmode\":\"USA-states\",\"lon\":[-76.6682,-80.09559],\"mode\":\"lines\",\"type\":\"scattergeo\"},{\"lat\":[32.89595,26.68316],\"line\":{\"color\":\"red\",\"width\":1},\"locationmode\":\"USA-states\",\"lon\":[-97.0372,-80.09559],\"mode\":\"lines\",\"type\":\"scattergeo\"},{\"lat\":[42.36435,26.68316],\"line\":{\"color\":\"red\",\"width\":1},\"locationmode\":\"USA-states\",\"lon\":[-71.00518,-80.09559],\"mode\":\"lines\",\"type\":\"scattergeo\"},{\"lat\":[40.79524,26.68316],\"line\":{\"color\":\"red\",\"width\":1},\"locationmode\":\"USA-states\",\"lon\":[-73.10021,-80.09559],\"mode\":\"lines\",\"type\":\"scattergeo\"},{\"lat\":[29.98047,36.12448],\"line\":{\"color\":\"red\",\"width\":1},\"locationmode\":\"USA-states\",\"lon\":[-95.33972,-86.67818],\"mode\":\"lines\",\"type\":\"scattergeo\"},{\"lat\":[39.85841,36.12448],\"line\":{\"color\":\"red\",\"width\":1},\"locationmode\":\"USA-states\",\"lon\":[-104.667,-86.67818],\"mode\":\"lines\",\"type\":\"scattergeo\"},{\"lat\":[39.85841,36.12448],\"line\":{\"color\":\"red\",\"width\":1},\"locationmode\":\"USA-states\",\"lon\":[-104.667,-86.67818],\"mode\":\"lines\",\"type\":\"scattergeo\"},{\"lat\":[39.85841,36.12448],\"line\":{\"color\":\"red\",\"width\":1},\"locationmode\":\"USA-states\",\"lon\":[-104.667,-86.67818],\"mode\":\"lines\",\"type\":\"scattergeo\"},{\"lat\":[40.63975,36.12448],\"line\":{\"color\":\"red\",\"width\":1},\"locationmode\":\"USA-states\",\"lon\":[-73.77893,-86.67818],\"mode\":\"lines\",\"type\":\"scattergeo\"},{\"lat\":[32.89595,36.12448],\"line\":{\"color\":\"red\",\"width\":1},\"locationmode\":\"USA-states\",\"lon\":[-97.0372,-86.67818],\"mode\":\"lines\",\"type\":\"scattergeo\"},{\"lat\":[32.89595,36.12448],\"line\":{\"color\":\"red\",\"width\":1},\"locationmode\":\"USA-states\",\"lon\":[-97.0372,-86.67818],\"mode\":\"lines\",\"type\":\"scattergeo\"},{\"lat\":[32.89595,36.12448],\"line\":{\"color\":\"red\",\"width\":1},\"locationmode\":\"USA-states\",\"lon\":[-97.0372,-86.67818],\"mode\":\"lines\",\"type\":\"scattergeo\"},{\"lat\":[30.19453,36.12448],\"line\":{\"color\":\"red\",\"width\":1},\"locationmode\":\"USA-states\",\"lon\":[-97.66987,-86.67818],\"mode\":\"lines\",\"type\":\"scattergeo\"},{\"lat\":[42.36435,36.12448],\"line\":{\"color\":\"red\",\"width\":1},\"locationmode\":\"USA-states\",\"lon\":[-71.00518,-86.67818],\"mode\":\"lines\",\"type\":\"scattergeo\"},{\"lat\":[33.43417,36.12448],\"line\":{\"color\":\"red\",\"width\":1},\"locationmode\":\"USA-states\",\"lon\":[-112.00806,-86.67818],\"mode\":\"lines\",\"type\":\"scattergeo\"},{\"lat\":[41.78598,36.12448],\"line\":{\"color\":\"red\",\"width\":1},\"locationmode\":\"USA-states\",\"lon\":[-87.75242,-86.67818],\"mode\":\"lines\",\"type\":\"scattergeo\"},{\"lat\":[38.94453,36.12448],\"line\":{\"color\":\"red\",\"width\":1},\"locationmode\":\"USA-states\",\"lon\":[-77.45581,-86.67818],\"mode\":\"lines\",\"type\":\"scattergeo\"},{\"lat\":[29.98047,40.6925],\"line\":{\"color\":\"red\",\"width\":1},\"locationmode\":\"USA-states\",\"lon\":[-95.33972,-74.16866],\"mode\":\"lines\",\"type\":\"scattergeo\"},{\"lat\":[29.98047,40.6925],\"line\":{\"color\":\"red\",\"width\":1},\"locationmode\":\"USA-states\",\"lon\":[-95.33972,-74.16866],\"mode\":\"lines\",\"type\":\"scattergeo\"},{\"lat\":[39.85841,40.6925],\"line\":{\"color\":\"red\",\"width\":1},\"locationmode\":\"USA-states\",\"lon\":[-104.667,-74.16866],\"mode\":\"lines\",\"type\":\"scattergeo\"},{\"lat\":[39.85841,40.6925],\"line\":{\"color\":\"red\",\"width\":1},\"locationmode\":\"USA-states\",\"lon\":[-104.667,-74.16866],\"mode\":\"lines\",\"type\":\"scattergeo\"},{\"lat\":[39.85841,40.6925],\"line\":{\"color\":\"red\",\"width\":1},\"locationmode\":\"USA-states\",\"lon\":[-104.667,-74.16866],\"mode\":\"lines\",\"type\":\"scattergeo\"},{\"lat\":[37.619,40.6925],\"line\":{\"color\":\"red\",\"width\":1},\"locationmode\":\"USA-states\",\"lon\":[-122.37484,-74.16866],\"mode\":\"lines\",\"type\":\"scattergeo\"},{\"lat\":[33.64044,40.6925],\"line\":{\"color\":\"red\",\"width\":1},\"locationmode\":\"USA-states\",\"lon\":[-84.42694,-74.16866],\"mode\":\"lines\",\"type\":\"scattergeo\"},{\"lat\":[25.79325,40.6925],\"line\":{\"color\":\"red\",\"width\":1},\"locationmode\":\"USA-states\",\"lon\":[-80.29056,-74.16866],\"mode\":\"lines\",\"type\":\"scattergeo\"},{\"lat\":[28.42889,40.6925],\"line\":{\"color\":\"red\",\"width\":1},\"locationmode\":\"USA-states\",\"lon\":[-81.31603,-74.16866],\"mode\":\"lines\",\"type\":\"scattergeo\"},{\"lat\":[30.19453,40.6925],\"line\":{\"color\":\"red\",\"width\":1},\"locationmode\":\"USA-states\",\"lon\":[-97.66987,-74.16866],\"mode\":\"lines\",\"type\":\"scattergeo\"},{\"lat\":[27.97547,40.6925],\"line\":{\"color\":\"red\",\"width\":1},\"locationmode\":\"USA-states\",\"lon\":[-82.53325,-74.16866],\"mode\":\"lines\",\"type\":\"scattergeo\"},{\"lat\":[21.31869,40.6925],\"line\":{\"color\":\"red\",\"width\":1},\"locationmode\":\"USA-states\",\"lon\":[-157.92241,-74.16866],\"mode\":\"lines\",\"type\":\"scattergeo\"},{\"lat\":[33.94254,40.6925],\"line\":{\"color\":\"red\",\"width\":1},\"locationmode\":\"USA-states\",\"lon\":[-118.40807,-74.16866],\"mode\":\"lines\",\"type\":\"scattergeo\"},{\"lat\":[33.43417,40.6925],\"line\":{\"color\":\"red\",\"width\":1},\"locationmode\":\"USA-states\",\"lon\":[-112.00806,-74.16866],\"mode\":\"lines\",\"type\":\"scattergeo\"},{\"lat\":[41.78598,40.6925],\"line\":{\"color\":\"red\",\"width\":1},\"locationmode\":\"USA-states\",\"lon\":[-87.75242,-74.16866],\"mode\":\"lines\",\"type\":\"scattergeo\"},{\"lat\":[29.98047,34.64045],\"line\":{\"color\":\"red\",\"width\":1},\"locationmode\":\"USA-states\",\"lon\":[-95.33972,-86.77311],\"mode\":\"lines\",\"type\":\"scattergeo\"},{\"lat\":[39.85841,34.64045],\"line\":{\"color\":\"red\",\"width\":1},\"locationmode\":\"USA-states\",\"lon\":[-104.667,-86.77311],\"mode\":\"lines\",\"type\":\"scattergeo\"},{\"lat\":[32.89595,34.64045],\"line\":{\"color\":\"red\",\"width\":1},\"locationmode\":\"USA-states\",\"lon\":[-97.0372,-86.77311],\"mode\":\"lines\",\"type\":\"scattergeo\"},{\"lat\":[29.98047,27.77036],\"line\":{\"color\":\"red\",\"width\":1},\"locationmode\":\"USA-states\",\"lon\":[-95.33972,-97.50122],\"mode\":\"lines\",\"type\":\"scattergeo\"},{\"lat\":[32.89595,27.77036],\"line\":{\"color\":\"red\",\"width\":1},\"locationmode\":\"USA-states\",\"lon\":[-97.0372,-97.50122],\"mode\":\"lines\",\"type\":\"scattergeo\"},{\"lat\":[32.89595,27.77036],\"line\":{\"color\":\"red\",\"width\":1},\"locationmode\":\"USA-states\",\"lon\":[-97.0372,-97.50122],\"mode\":\"lines\",\"type\":\"scattergeo\"},{\"lat\":[29.64542,27.77036],\"line\":{\"color\":\"red\",\"width\":1},\"locationmode\":\"USA-states\",\"lon\":[-95.27889,-97.50122],\"mode\":\"lines\",\"type\":\"scattergeo\"},{\"lat\":[29.98047,47.44898],\"line\":{\"color\":\"red\",\"width\":1},\"locationmode\":\"USA-states\",\"lon\":[-95.33972,-122.30931],\"mode\":\"lines\",\"type\":\"scattergeo\"},{\"lat\":[39.85841,47.44898],\"line\":{\"color\":\"red\",\"width\":1},\"locationmode\":\"USA-states\",\"lon\":[-104.667,-122.30931],\"mode\":\"lines\",\"type\":\"scattergeo\"},{\"lat\":[39.85841,47.44898],\"line\":{\"color\":\"red\",\"width\":1},\"locationmode\":\"USA-states\",\"lon\":[-104.667,-122.30931],\"mode\":\"lines\",\"type\":\"scattergeo\"},{\"lat\":[39.85841,47.44898],\"line\":{\"color\":\"red\",\"width\":1},\"locationmode\":\"USA-states\",\"lon\":[-104.667,-122.30931],\"mode\":\"lines\",\"type\":\"scattergeo\"},{\"lat\":[39.85841,47.44898],\"line\":{\"color\":\"red\",\"width\":1},\"locationmode\":\"USA-states\",\"lon\":[-104.667,-122.30931],\"mode\":\"lines\",\"type\":\"scattergeo\"},{\"lat\":[37.619,47.44898],\"line\":{\"color\":\"red\",\"width\":1},\"locationmode\":\"USA-states\",\"lon\":[-122.37484,-122.30931],\"mode\":\"lines\",\"type\":\"scattergeo\"},{\"lat\":[40.63975,47.44898],\"line\":{\"color\":\"red\",\"width\":1},\"locationmode\":\"USA-states\",\"lon\":[-73.77893,-122.30931],\"mode\":\"lines\",\"type\":\"scattergeo\"},{\"lat\":[40.63975,47.44898],\"line\":{\"color\":\"red\",\"width\":1},\"locationmode\":\"USA-states\",\"lon\":[-73.77893,-122.30931],\"mode\":\"lines\",\"type\":\"scattergeo\"},{\"lat\":[32.89595,47.44898],\"line\":{\"color\":\"red\",\"width\":1},\"locationmode\":\"USA-states\",\"lon\":[-97.0372,-122.30931],\"mode\":\"lines\",\"type\":\"scattergeo\"},{\"lat\":[32.89595,47.44898],\"line\":{\"color\":\"red\",\"width\":1},\"locationmode\":\"USA-states\",\"lon\":[-97.0372,-122.30931],\"mode\":\"lines\",\"type\":\"scattergeo\"},{\"lat\":[40.6925,47.44898],\"line\":{\"color\":\"red\",\"width\":1},\"locationmode\":\"USA-states\",\"lon\":[-74.16866,-122.30931],\"mode\":\"lines\",\"type\":\"scattergeo\"},{\"lat\":[39.87195,47.44898],\"line\":{\"color\":\"red\",\"width\":1},\"locationmode\":\"USA-states\",\"lon\":[-75.24114,-122.30931],\"mode\":\"lines\",\"type\":\"scattergeo\"},{\"lat\":[32.73356,47.44898],\"line\":{\"color\":\"red\",\"width\":1},\"locationmode\":\"USA-states\",\"lon\":[-117.18966,-122.30931],\"mode\":\"lines\",\"type\":\"scattergeo\"},{\"lat\":[37.72129,47.44898],\"line\":{\"color\":\"red\",\"width\":1},\"locationmode\":\"USA-states\",\"lon\":[-122.22072,-122.30931],\"mode\":\"lines\",\"type\":\"scattergeo\"},{\"lat\":[37.72129,47.44898],\"line\":{\"color\":\"red\",\"width\":1},\"locationmode\":\"USA-states\",\"lon\":[-122.22072,-122.30931],\"mode\":\"lines\",\"type\":\"scattergeo\"},{\"lat\":[33.94254,47.44898],\"line\":{\"color\":\"red\",\"width\":1},\"locationmode\":\"USA-states\",\"lon\":[-118.40807,-122.30931],\"mode\":\"lines\",\"type\":\"scattergeo\"},{\"lat\":[41.78598,47.44898],\"line\":{\"color\":\"red\",\"width\":1},\"locationmode\":\"USA-states\",\"lon\":[-87.75242,-122.30931],\"mode\":\"lines\",\"type\":\"scattergeo\"},{\"lat\":[38.94453,47.44898],\"line\":{\"color\":\"red\",\"width\":1},\"locationmode\":\"USA-states\",\"lon\":[-77.45581,-122.30931],\"mode\":\"lines\",\"type\":\"scattergeo\"},{\"lat\":[37.36186,47.44898],\"line\":{\"color\":\"red\",\"width\":1},\"locationmode\":\"USA-states\",\"lon\":[-121.92901,-122.30931],\"mode\":\"lines\",\"type\":\"scattergeo\"},{\"lat\":[29.98047,33.56294],\"line\":{\"color\":\"red\",\"width\":1},\"locationmode\":\"USA-states\",\"lon\":[-95.33972,-86.75355],\"mode\":\"lines\",\"type\":\"scattergeo\"},{\"lat\":[39.85841,33.56294],\"line\":{\"color\":\"red\",\"width\":1},\"locationmode\":\"USA-states\",\"lon\":[-104.667,-86.75355],\"mode\":\"lines\",\"type\":\"scattergeo\"},{\"lat\":[39.1754,33.56294],\"line\":{\"color\":\"red\",\"width\":1},\"locationmode\":\"USA-states\",\"lon\":[-76.6682,-86.75355],\"mode\":\"lines\",\"type\":\"scattergeo\"},{\"lat\":[28.42889,33.56294],\"line\":{\"color\":\"red\",\"width\":1},\"locationmode\":\"USA-states\",\"lon\":[-81.31603,-86.75355],\"mode\":\"lines\",\"type\":\"scattergeo\"},{\"lat\":[29.64542,33.56294],\"line\":{\"color\":\"red\",\"width\":1},\"locationmode\":\"USA-states\",\"lon\":[-95.27889,-86.75355],\"mode\":\"lines\",\"type\":\"scattergeo\"},{\"lat\":[29.98047,18.43942],\"line\":{\"color\":\"red\",\"width\":1},\"locationmode\":\"USA-states\",\"lon\":[-95.33972,-66.00183],\"mode\":\"lines\",\"type\":\"scattergeo\"},{\"lat\":[40.63975,18.43942],\"line\":{\"color\":\"red\",\"width\":1},\"locationmode\":\"USA-states\",\"lon\":[-73.77893,-66.00183],\"mode\":\"lines\",\"type\":\"scattergeo\"},{\"lat\":[40.63975,18.43942],\"line\":{\"color\":\"red\",\"width\":1},\"locationmode\":\"USA-states\",\"lon\":[-73.77893,-66.00183],\"mode\":\"lines\",\"type\":\"scattergeo\"},{\"lat\":[26.07258,18.43942],\"line\":{\"color\":\"red\",\"width\":1},\"locationmode\":\"USA-states\",\"lon\":[-80.15275,-66.00183],\"mode\":\"lines\",\"type\":\"scattergeo\"},{\"lat\":[26.07258,18.43942],\"line\":{\"color\":\"red\",\"width\":1},\"locationmode\":\"USA-states\",\"lon\":[-80.15275,-66.00183],\"mode\":\"lines\",\"type\":\"scattergeo\"},{\"lat\":[26.07258,18.43942],\"line\":{\"color\":\"red\",\"width\":1},\"locationmode\":\"USA-states\",\"lon\":[-80.15275,-66.00183],\"mode\":\"lines\",\"type\":\"scattergeo\"},{\"lat\":[32.89595,18.43942],\"line\":{\"color\":\"red\",\"width\":1},\"locationmode\":\"USA-states\",\"lon\":[-97.0372,-66.00183],\"mode\":\"lines\",\"type\":\"scattergeo\"},{\"lat\":[32.89595,18.43942],\"line\":{\"color\":\"red\",\"width\":1},\"locationmode\":\"USA-states\",\"lon\":[-97.0372,-66.00183],\"mode\":\"lines\",\"type\":\"scattergeo\"},{\"lat\":[28.42889,18.43942],\"line\":{\"color\":\"red\",\"width\":1},\"locationmode\":\"USA-states\",\"lon\":[-81.31603,-66.00183],\"mode\":\"lines\",\"type\":\"scattergeo\"},{\"lat\":[27.97547,18.43942],\"line\":{\"color\":\"red\",\"width\":1},\"locationmode\":\"USA-states\",\"lon\":[-82.53325,-66.00183],\"mode\":\"lines\",\"type\":\"scattergeo\"},{\"lat\":[27.97547,18.43942],\"line\":{\"color\":\"red\",\"width\":1},\"locationmode\":\"USA-states\",\"lon\":[-82.53325,-66.00183],\"mode\":\"lines\",\"type\":\"scattergeo\"},{\"lat\":[41.9796,18.43942],\"line\":{\"color\":\"red\",\"width\":1},\"locationmode\":\"USA-states\",\"lon\":[-87.90446,-66.00183],\"mode\":\"lines\",\"type\":\"scattergeo\"},{\"lat\":[39.85841,38.80581],\"line\":{\"color\":\"red\",\"width\":1},\"locationmode\":\"USA-states\",\"lon\":[-104.667,-104.70025],\"mode\":\"lines\",\"type\":\"scattergeo\"},{\"lat\":[39.85841,38.80581],\"line\":{\"color\":\"red\",\"width\":1},\"locationmode\":\"USA-states\",\"lon\":[-104.667,-104.70025],\"mode\":\"lines\",\"type\":\"scattergeo\"},{\"lat\":[39.85841,38.80581],\"line\":{\"color\":\"red\",\"width\":1},\"locationmode\":\"USA-states\",\"lon\":[-104.667,-104.70025],\"mode\":\"lines\",\"type\":\"scattergeo\"},{\"lat\":[39.85841,38.80581],\"line\":{\"color\":\"red\",\"width\":1},\"locationmode\":\"USA-states\",\"lon\":[-104.667,-104.70025],\"mode\":\"lines\",\"type\":\"scattergeo\"},{\"lat\":[32.89595,38.80581],\"line\":{\"color\":\"red\",\"width\":1},\"locationmode\":\"USA-states\",\"lon\":[-97.0372,-104.70025],\"mode\":\"lines\",\"type\":\"scattergeo\"},{\"lat\":[32.89595,38.80581],\"line\":{\"color\":\"red\",\"width\":1},\"locationmode\":\"USA-states\",\"lon\":[-97.0372,-104.70025],\"mode\":\"lines\",\"type\":\"scattergeo\"},{\"lat\":[33.94254,38.80581],\"line\":{\"color\":\"red\",\"width\":1},\"locationmode\":\"USA-states\",\"lon\":[-118.40807,-104.70025],\"mode\":\"lines\",\"type\":\"scattergeo\"},{\"lat\":[39.85841,29.98047],\"line\":{\"color\":\"red\",\"width\":1},\"locationmode\":\"USA-states\",\"lon\":[-104.667,-95.33972],\"mode\":\"lines\",\"type\":\"scattergeo\"},{\"lat\":[39.85841,29.98047],\"line\":{\"color\":\"red\",\"width\":1},\"locationmode\":\"USA-states\",\"lon\":[-104.667,-95.33972],\"mode\":\"lines\",\"type\":\"scattergeo\"},{\"lat\":[39.85841,29.98047],\"line\":{\"color\":\"red\",\"width\":1},\"locationmode\":\"USA-states\",\"lon\":[-104.667,-95.33972],\"mode\":\"lines\",\"type\":\"scattergeo\"},{\"lat\":[39.85841,29.98047],\"line\":{\"color\":\"red\",\"width\":1},\"locationmode\":\"USA-states\",\"lon\":[-104.667,-95.33972],\"mode\":\"lines\",\"type\":\"scattergeo\"},{\"lat\":[39.85841,29.98047],\"line\":{\"color\":\"red\",\"width\":1},\"locationmode\":\"USA-states\",\"lon\":[-104.667,-95.33972],\"mode\":\"lines\",\"type\":\"scattergeo\"},{\"lat\":[39.85841,29.98047],\"line\":{\"color\":\"red\",\"width\":1},\"locationmode\":\"USA-states\",\"lon\":[-104.667,-95.33972],\"mode\":\"lines\",\"type\":\"scattergeo\"},{\"lat\":[39.85841,29.98047],\"line\":{\"color\":\"red\",\"width\":1},\"locationmode\":\"USA-states\",\"lon\":[-104.667,-95.33972],\"mode\":\"lines\",\"type\":\"scattergeo\"},{\"lat\":[39.85841,29.98047],\"line\":{\"color\":\"red\",\"width\":1},\"locationmode\":\"USA-states\",\"lon\":[-104.667,-95.33972],\"mode\":\"lines\",\"type\":\"scattergeo\"},{\"lat\":[39.85841,29.98047],\"line\":{\"color\":\"red\",\"width\":1},\"locationmode\":\"USA-states\",\"lon\":[-104.667,-95.33972],\"mode\":\"lines\",\"type\":\"scattergeo\"},{\"lat\":[39.85841,29.98047],\"line\":{\"color\":\"red\",\"width\":1},\"locationmode\":\"USA-states\",\"lon\":[-104.667,-95.33972],\"mode\":\"lines\",\"type\":\"scattergeo\"},{\"lat\":[37.619,29.98047],\"line\":{\"color\":\"red\",\"width\":1},\"locationmode\":\"USA-states\",\"lon\":[-122.37484,-95.33972],\"mode\":\"lines\",\"type\":\"scattergeo\"},{\"lat\":[38.69542,29.98047],\"line\":{\"color\":\"red\",\"width\":1},\"locationmode\":\"USA-states\",\"lon\":[-121.59077,-95.33972],\"mode\":\"lines\",\"type\":\"scattergeo\"},{\"lat\":[41.41089,29.98047],\"line\":{\"color\":\"red\",\"width\":1},\"locationmode\":\"USA-states\",\"lon\":[-81.8494,-95.33972],\"mode\":\"lines\",\"type\":\"scattergeo\"},{\"lat\":[41.41089,29.98047],\"line\":{\"color\":\"red\",\"width\":1},\"locationmode\":\"USA-states\",\"lon\":[-81.8494,-95.33972],\"mode\":\"lines\",\"type\":\"scattergeo\"},{\"lat\":[41.41089,29.98047],\"line\":{\"color\":\"red\",\"width\":1},\"locationmode\":\"USA-states\",\"lon\":[-81.8494,-95.33972],\"mode\":\"lines\",\"type\":\"scattergeo\"},{\"lat\":[41.30252,29.98047],\"line\":{\"color\":\"red\",\"width\":1},\"locationmode\":\"USA-states\",\"lon\":[-95.89417,-95.33972],\"mode\":\"lines\",\"type\":\"scattergeo\"},{\"lat\":[40.49147,29.98047],\"line\":{\"color\":\"red\",\"width\":1},\"locationmode\":\"USA-states\",\"lon\":[-80.23287,-95.33972],\"mode\":\"lines\",\"type\":\"scattergeo\"},{\"lat\":[39.1754,29.98047],\"line\":{\"color\":\"red\",\"width\":1},\"locationmode\":\"USA-states\",\"lon\":[-76.6682,-95.33972],\"mode\":\"lines\",\"type\":\"scattergeo\"},{\"lat\":[40.77724,29.98047],\"line\":{\"color\":\"red\",\"width\":1},\"locationmode\":\"USA-states\",\"lon\":[-73.87261,-95.33972],\"mode\":\"lines\",\"type\":\"scattergeo\"},{\"lat\":[26.07258,29.98047],\"line\":{\"color\":\"red\",\"width\":1},\"locationmode\":\"USA-states\",\"lon\":[-80.15275,-95.33972],\"mode\":\"lines\",\"type\":\"scattergeo\"},{\"lat\":[33.64044,29.98047],\"line\":{\"color\":\"red\",\"width\":1},\"locationmode\":\"USA-states\",\"lon\":[-84.42694,-95.33972],\"mode\":\"lines\",\"type\":\"scattergeo\"},{\"lat\":[43.56444,29.98047],\"line\":{\"color\":\"red\",\"width\":1},\"locationmode\":\"USA-states\",\"lon\":[-116.22278,-95.33972],\"mode\":\"lines\",\"type\":\"scattergeo\"},{\"lat\":[32.11608,29.98047],\"line\":{\"color\":\"red\",\"width\":1},\"locationmode\":\"USA-states\",\"lon\":[-110.94103,-95.33972],\"mode\":\"lines\",\"type\":\"scattergeo\"},{\"lat\":[32.89595,29.98047],\"line\":{\"color\":\"red\",\"width\":1},\"locationmode\":\"USA-states\",\"lon\":[-97.0372,-95.33972],\"mode\":\"lines\",\"type\":\"scattergeo\"},{\"lat\":[32.89595,29.98047],\"line\":{\"color\":\"red\",\"width\":1},\"locationmode\":\"USA-states\",\"lon\":[-97.0372,-95.33972],\"mode\":\"lines\",\"type\":\"scattergeo\"},{\"lat\":[40.6925,29.98047],\"line\":{\"color\":\"red\",\"width\":1},\"locationmode\":\"USA-states\",\"lon\":[-74.16866,-95.33972],\"mode\":\"lines\",\"type\":\"scattergeo\"},{\"lat\":[40.6925,29.98047],\"line\":{\"color\":\"red\",\"width\":1},\"locationmode\":\"USA-states\",\"lon\":[-74.16866,-95.33972],\"mode\":\"lines\",\"type\":\"scattergeo\"},{\"lat\":[40.6925,29.98047],\"line\":{\"color\":\"red\",\"width\":1},\"locationmode\":\"USA-states\",\"lon\":[-74.16866,-95.33972],\"mode\":\"lines\",\"type\":\"scattergeo\"},{\"lat\":[25.79325,29.98047],\"line\":{\"color\":\"red\",\"width\":1},\"locationmode\":\"USA-states\",\"lon\":[-80.29056,-95.33972],\"mode\":\"lines\",\"type\":\"scattergeo\"},{\"lat\":[25.79325,29.98047],\"line\":{\"color\":\"red\",\"width\":1},\"locationmode\":\"USA-states\",\"lon\":[-80.29056,-95.33972],\"mode\":\"lines\",\"type\":\"scattergeo\"},{\"lat\":[32.89865,29.98047],\"line\":{\"color\":\"red\",\"width\":1},\"locationmode\":\"USA-states\",\"lon\":[-80.04051,-95.33972],\"mode\":\"lines\",\"type\":\"scattergeo\"},{\"lat\":[38.85208,29.98047],\"line\":{\"color\":\"red\",\"width\":1},\"locationmode\":\"USA-states\",\"lon\":[-77.03772,-95.33972],\"mode\":\"lines\",\"type\":\"scattergeo\"},{\"lat\":[33.93884,29.98047],\"line\":{\"color\":\"red\",\"width\":1},\"locationmode\":\"USA-states\",\"lon\":[-81.11954,-95.33972],\"mode\":\"lines\",\"type\":\"scattergeo\"},{\"lat\":[28.42889,29.98047],\"line\":{\"color\":\"red\",\"width\":1},\"locationmode\":\"USA-states\",\"lon\":[-81.31603,-95.33972],\"mode\":\"lines\",\"type\":\"scattergeo\"},{\"lat\":[28.42889,29.98047],\"line\":{\"color\":\"red\",\"width\":1},\"locationmode\":\"USA-states\",\"lon\":[-81.31603,-95.33972],\"mode\":\"lines\",\"type\":\"scattergeo\"},{\"lat\":[28.42889,29.98047],\"line\":{\"color\":\"red\",\"width\":1},\"locationmode\":\"USA-states\",\"lon\":[-81.31603,-95.33972],\"mode\":\"lines\",\"type\":\"scattergeo\"},{\"lat\":[39.87195,29.98047],\"line\":{\"color\":\"red\",\"width\":1},\"locationmode\":\"USA-states\",\"lon\":[-75.24114,-95.33972],\"mode\":\"lines\",\"type\":\"scattergeo\"},{\"lat\":[30.19453,29.98047],\"line\":{\"color\":\"red\",\"width\":1},\"locationmode\":\"USA-states\",\"lon\":[-97.66987,-95.33972],\"mode\":\"lines\",\"type\":\"scattergeo\"},{\"lat\":[30.19453,29.98047],\"line\":{\"color\":\"red\",\"width\":1},\"locationmode\":\"USA-states\",\"lon\":[-97.66987,-95.33972],\"mode\":\"lines\",\"type\":\"scattergeo\"},{\"lat\":[44.88055,29.98047],\"line\":{\"color\":\"red\",\"width\":1},\"locationmode\":\"USA-states\",\"lon\":[-93.21692,-95.33972],\"mode\":\"lines\",\"type\":\"scattergeo\"},{\"lat\":[42.36435,29.98047],\"line\":{\"color\":\"red\",\"width\":1},\"locationmode\":\"USA-states\",\"lon\":[-71.00518,-95.33972],\"mode\":\"lines\",\"type\":\"scattergeo\"},{\"lat\":[39.22316,29.98047],\"line\":{\"color\":\"red\",\"width\":1},\"locationmode\":\"USA-states\",\"lon\":[-106.86885,-95.33972],\"mode\":\"lines\",\"type\":\"scattergeo\"},{\"lat\":[39.22316,29.98047],\"line\":{\"color\":\"red\",\"width\":1},\"locationmode\":\"USA-states\",\"lon\":[-106.86885,-95.33972],\"mode\":\"lines\",\"type\":\"scattergeo\"},{\"lat\":[41.9796,29.98047],\"line\":{\"color\":\"red\",\"width\":1},\"locationmode\":\"USA-states\",\"lon\":[-87.90446,-95.33972],\"mode\":\"lines\",\"type\":\"scattergeo\"},{\"lat\":[41.9796,29.98047],\"line\":{\"color\":\"red\",\"width\":1},\"locationmode\":\"USA-states\",\"lon\":[-87.90446,-95.33972],\"mode\":\"lines\",\"type\":\"scattergeo\"},{\"lat\":[41.9796,29.98047],\"line\":{\"color\":\"red\",\"width\":1},\"locationmode\":\"USA-states\",\"lon\":[-87.90446,-95.33972],\"mode\":\"lines\",\"type\":\"scattergeo\"},{\"lat\":[41.9796,29.98047],\"line\":{\"color\":\"red\",\"width\":1},\"locationmode\":\"USA-states\",\"lon\":[-87.90446,-95.33972],\"mode\":\"lines\",\"type\":\"scattergeo\"},{\"lat\":[33.94254,29.98047],\"line\":{\"color\":\"red\",\"width\":1},\"locationmode\":\"USA-states\",\"lon\":[-118.40807,-95.33972],\"mode\":\"lines\",\"type\":\"scattergeo\"},{\"lat\":[33.94254,29.98047],\"line\":{\"color\":\"red\",\"width\":1},\"locationmode\":\"USA-states\",\"lon\":[-118.40807,-95.33972],\"mode\":\"lines\",\"type\":\"scattergeo\"},{\"lat\":[40.78839,29.98047],\"line\":{\"color\":\"red\",\"width\":1},\"locationmode\":\"USA-states\",\"lon\":[-111.97777,-95.33972],\"mode\":\"lines\",\"type\":\"scattergeo\"},{\"lat\":[40.78839,29.98047],\"line\":{\"color\":\"red\",\"width\":1},\"locationmode\":\"USA-states\",\"lon\":[-111.97777,-95.33972],\"mode\":\"lines\",\"type\":\"scattergeo\"},{\"lat\":[40.78839,29.98047],\"line\":{\"color\":\"red\",\"width\":1},\"locationmode\":\"USA-states\",\"lon\":[-111.97777,-95.33972],\"mode\":\"lines\",\"type\":\"scattergeo\"},{\"lat\":[32.44663,29.98047],\"line\":{\"color\":\"red\",\"width\":1},\"locationmode\":\"USA-states\",\"lon\":[-93.8256,-95.33972],\"mode\":\"lines\",\"type\":\"scattergeo\"},{\"lat\":[32.12758,29.98047],\"line\":{\"color\":\"red\",\"width\":1},\"locationmode\":\"USA-states\",\"lon\":[-81.20214,-95.33972],\"mode\":\"lines\",\"type\":\"scattergeo\"},{\"lat\":[33.67566,29.98047],\"line\":{\"color\":\"red\",\"width\":1},\"locationmode\":\"USA-states\",\"lon\":[-117.86822,-95.33972],\"mode\":\"lines\",\"type\":\"scattergeo\"},{\"lat\":[34.7294,29.98047],\"line\":{\"color\":\"red\",\"width\":1},\"locationmode\":\"USA-states\",\"lon\":[-92.22425,-95.33972],\"mode\":\"lines\",\"type\":\"scattergeo\"},{\"lat\":[35.21401,29.98047],\"line\":{\"color\":\"red\",\"width\":1},\"locationmode\":\"USA-states\",\"lon\":[-80.94313,-95.33972],\"mode\":\"lines\",\"type\":\"scattergeo\"},{\"lat\":[40.48118,29.98047],\"line\":{\"color\":\"red\",\"width\":1},\"locationmode\":\"USA-states\",\"lon\":[-107.21766,-95.33972],\"mode\":\"lines\",\"type\":\"scattergeo\"},{\"lat\":[32.84711,29.98047],\"line\":{\"color\":\"red\",\"width\":1},\"locationmode\":\"USA-states\",\"lon\":[-96.85177,-95.33972],\"mode\":\"lines\",\"type\":\"scattergeo\"},{\"lat\":[39.04614,29.98047],\"line\":{\"color\":\"red\",\"width\":1},\"locationmode\":\"USA-states\",\"lon\":[-84.66217,-95.33972],\"mode\":\"lines\",\"type\":\"scattergeo\"},{\"lat\":[39.04614,29.98047],\"line\":{\"color\":\"red\",\"width\":1},\"locationmode\":\"USA-states\",\"lon\":[-84.66217,-95.33972],\"mode\":\"lines\",\"type\":\"scattergeo\"},{\"lat\":[39.04614,29.98047],\"line\":{\"color\":\"red\",\"width\":1},\"locationmode\":\"USA-states\",\"lon\":[-84.66217,-95.33972],\"mode\":\"lines\",\"type\":\"scattergeo\"},{\"lat\":[39.64257,29.98047],\"line\":{\"color\":\"red\",\"width\":1},\"locationmode\":\"USA-states\",\"lon\":[-106.9177,-95.33972],\"mode\":\"lines\",\"type\":\"scattergeo\"},{\"lat\":[27.77036,29.98047],\"line\":{\"color\":\"red\",\"width\":1},\"locationmode\":\"USA-states\",\"lon\":[-97.50122,-95.33972],\"mode\":\"lines\",\"type\":\"scattergeo\"},{\"lat\":[36.28187,29.98047],\"line\":{\"color\":\"red\",\"width\":1},\"locationmode\":\"USA-states\",\"lon\":[-94.30681,-95.33972],\"mode\":\"lines\",\"type\":\"scattergeo\"},{\"lat\":[45.7769,29.98047],\"line\":{\"color\":\"red\",\"width\":1},\"locationmode\":\"USA-states\",\"lon\":[-111.15301,-95.33972],\"mode\":\"lines\",\"type\":\"scattergeo\"},{\"lat\":[33.56294,29.98047],\"line\":{\"color\":\"red\",\"width\":1},\"locationmode\":\"USA-states\",\"lon\":[-86.75355,-95.33972],\"mode\":\"lines\",\"type\":\"scattergeo\"},{\"lat\":[32.51087,29.98047],\"line\":{\"color\":\"red\",\"width\":1},\"locationmode\":\"USA-states\",\"lon\":[-92.03769,-95.33972],\"mode\":\"lines\",\"type\":\"scattergeo\"},{\"lat\":[31.32737,29.98047],\"line\":{\"color\":\"red\",\"width\":1},\"locationmode\":\"USA-states\",\"lon\":[-92.54856,-95.33972],\"mode\":\"lines\",\"type\":\"scattergeo\"},{\"lat\":[38.17439,29.98047],\"line\":{\"color\":\"red\",\"width\":1},\"locationmode\":\"USA-states\",\"lon\":[-85.736,-95.33972],\"mode\":\"lines\",\"type\":\"scattergeo\"},{\"lat\":[39.85841,46.92972],\"line\":{\"color\":\"red\",\"width\":1},\"locationmode\":\"USA-states\",\"lon\":[-104.667,-98.6782],\"mode\":\"lines\",\"type\":\"scattergeo\"},{\"lat\":[39.85841,40.49147],\"line\":{\"color\":\"red\",\"width\":1},\"locationmode\":\"USA-states\",\"lon\":[-104.667,-80.23287],\"mode\":\"lines\",\"type\":\"scattergeo\"},{\"lat\":[39.85841,40.49147],\"line\":{\"color\":\"red\",\"width\":1},\"locationmode\":\"USA-states\",\"lon\":[-104.667,-80.23287],\"mode\":\"lines\",\"type\":\"scattergeo\"},{\"lat\":[39.85841,40.49147],\"line\":{\"color\":\"red\",\"width\":1},\"locationmode\":\"USA-states\",\"lon\":[-104.667,-80.23287],\"mode\":\"lines\",\"type\":\"scattergeo\"},{\"lat\":[33.64044,40.49147],\"line\":{\"color\":\"red\",\"width\":1},\"locationmode\":\"USA-states\",\"lon\":[-84.42694,-80.23287],\"mode\":\"lines\",\"type\":\"scattergeo\"},{\"lat\":[32.89595,40.49147],\"line\":{\"color\":\"red\",\"width\":1},\"locationmode\":\"USA-states\",\"lon\":[-97.0372,-80.23287],\"mode\":\"lines\",\"type\":\"scattergeo\"},{\"lat\":[28.42889,40.49147],\"line\":{\"color\":\"red\",\"width\":1},\"locationmode\":\"USA-states\",\"lon\":[-81.31603,-80.23287],\"mode\":\"lines\",\"type\":\"scattergeo\"},{\"lat\":[41.9796,40.49147],\"line\":{\"color\":\"red\",\"width\":1},\"locationmode\":\"USA-states\",\"lon\":[-87.90446,-80.23287],\"mode\":\"lines\",\"type\":\"scattergeo\"},{\"lat\":[33.94254,40.49147],\"line\":{\"color\":\"red\",\"width\":1},\"locationmode\":\"USA-states\",\"lon\":[-118.40807,-80.23287],\"mode\":\"lines\",\"type\":\"scattergeo\"},{\"lat\":[35.21401,40.49147],\"line\":{\"color\":\"red\",\"width\":1},\"locationmode\":\"USA-states\",\"lon\":[-80.94313,-80.23287],\"mode\":\"lines\",\"type\":\"scattergeo\"},{\"lat\":[35.21401,40.49147],\"line\":{\"color\":\"red\",\"width\":1},\"locationmode\":\"USA-states\",\"lon\":[-80.94313,-80.23287],\"mode\":\"lines\",\"type\":\"scattergeo\"},{\"lat\":[39.85841,39.1754],\"line\":{\"color\":\"red\",\"width\":1},\"locationmode\":\"USA-states\",\"lon\":[-104.667,-76.6682],\"mode\":\"lines\",\"type\":\"scattergeo\"},{\"lat\":[39.85841,39.1754],\"line\":{\"color\":\"red\",\"width\":1},\"locationmode\":\"USA-states\",\"lon\":[-104.667,-76.6682],\"mode\":\"lines\",\"type\":\"scattergeo\"},{\"lat\":[35.04022,39.1754],\"line\":{\"color\":\"red\",\"width\":1},\"locationmode\":\"USA-states\",\"lon\":[-106.60919,-76.6682],\"mode\":\"lines\",\"type\":\"scattergeo\"},{\"lat\":[26.68316,39.1754],\"line\":{\"color\":\"red\",\"width\":1},\"locationmode\":\"USA-states\",\"lon\":[-80.09559,-76.6682],\"mode\":\"lines\",\"type\":\"scattergeo\"},{\"lat\":[32.89595,39.1754],\"line\":{\"color\":\"red\",\"width\":1},\"locationmode\":\"USA-states\",\"lon\":[-97.0372,-76.6682],\"mode\":\"lines\",\"type\":\"scattergeo\"},{\"lat\":[32.89595,39.1754],\"line\":{\"color\":\"red\",\"width\":1},\"locationmode\":\"USA-states\",\"lon\":[-97.0372,-76.6682],\"mode\":\"lines\",\"type\":\"scattergeo\"},{\"lat\":[42.94052,39.1754],\"line\":{\"color\":\"red\",\"width\":1},\"locationmode\":\"USA-states\",\"lon\":[-78.73217,-76.6682],\"mode\":\"lines\",\"type\":\"scattergeo\"},{\"lat\":[42.36435,39.1754],\"line\":{\"color\":\"red\",\"width\":1},\"locationmode\":\"USA-states\",\"lon\":[-71.00518,-76.6682],\"mode\":\"lines\",\"type\":\"scattergeo\"},{\"lat\":[40.78839,39.1754],\"line\":{\"color\":\"red\",\"width\":1},\"locationmode\":\"USA-states\",\"lon\":[-111.97777,-76.6682],\"mode\":\"lines\",\"type\":\"scattergeo\"},{\"lat\":[40.78839,39.1754],\"line\":{\"color\":\"red\",\"width\":1},\"locationmode\":\"USA-states\",\"lon\":[-111.97777,-76.6682],\"mode\":\"lines\",\"type\":\"scattergeo\"},{\"lat\":[41.93887,39.1754],\"line\":{\"color\":\"red\",\"width\":1},\"locationmode\":\"USA-states\",\"lon\":[-72.68323,-76.6682],\"mode\":\"lines\",\"type\":\"scattergeo\"},{\"lat\":[42.21206,39.1754],\"line\":{\"color\":\"red\",\"width\":1},\"locationmode\":\"USA-states\",\"lon\":[-83.34884,-76.6682],\"mode\":\"lines\",\"type\":\"scattergeo\"},{\"lat\":[42.21206,39.1754],\"line\":{\"color\":\"red\",\"width\":1},\"locationmode\":\"USA-states\",\"lon\":[-83.34884,-76.6682],\"mode\":\"lines\",\"type\":\"scattergeo\"},{\"lat\":[34.7294,39.1754],\"line\":{\"color\":\"red\",\"width\":1},\"locationmode\":\"USA-states\",\"lon\":[-92.22425,-76.6682],\"mode\":\"lines\",\"type\":\"scattergeo\"},{\"lat\":[35.21401,39.1754],\"line\":{\"color\":\"red\",\"width\":1},\"locationmode\":\"USA-states\",\"lon\":[-80.94313,-76.6682],\"mode\":\"lines\",\"type\":\"scattergeo\"},{\"lat\":[29.64542,39.1754],\"line\":{\"color\":\"red\",\"width\":1},\"locationmode\":\"USA-states\",\"lon\":[-95.27889,-76.6682],\"mode\":\"lines\",\"type\":\"scattergeo\"},{\"lat\":[32.84711,39.1754],\"line\":{\"color\":\"red\",\"width\":1},\"locationmode\":\"USA-states\",\"lon\":[-96.85177,-76.6682],\"mode\":\"lines\",\"type\":\"scattergeo\"},{\"lat\":[42.93452,39.1754],\"line\":{\"color\":\"red\",\"width\":1},\"locationmode\":\"USA-states\",\"lon\":[-71.43706,-76.6682],\"mode\":\"lines\",\"type\":\"scattergeo\"},{\"lat\":[42.93452,39.1754],\"line\":{\"color\":\"red\",\"width\":1},\"locationmode\":\"USA-states\",\"lon\":[-71.43706,-76.6682],\"mode\":\"lines\",\"type\":\"scattergeo\"},{\"lat\":[41.724,39.1754],\"line\":{\"color\":\"red\",\"width\":1},\"locationmode\":\"USA-states\",\"lon\":[-71.42822,-76.6682],\"mode\":\"lines\",\"type\":\"scattergeo\"},{\"lat\":[39.85841,48.17794],\"line\":{\"color\":\"red\",\"width\":1},\"locationmode\":\"USA-states\",\"lon\":[-104.667,-103.64235],\"mode\":\"lines\",\"type\":\"scattergeo\"},{\"lat\":[39.85841,48.17794],\"line\":{\"color\":\"red\",\"width\":1},\"locationmode\":\"USA-states\",\"lon\":[-104.667,-103.64235],\"mode\":\"lines\",\"type\":\"scattergeo\"},{\"lat\":[39.85841,48.17794],\"line\":{\"color\":\"red\",\"width\":1},\"locationmode\":\"USA-states\",\"lon\":[-104.667,-103.64235],\"mode\":\"lines\",\"type\":\"scattergeo\"},{\"lat\":[39.85841,37.24433],\"line\":{\"color\":\"red\",\"width\":1},\"locationmode\":\"USA-states\",\"lon\":[-104.667,-93.38686],\"mode\":\"lines\",\"type\":\"scattergeo\"},{\"lat\":[32.89595,37.24433],\"line\":{\"color\":\"red\",\"width\":1},\"locationmode\":\"USA-states\",\"lon\":[-97.0372,-93.38686],\"mode\":\"lines\",\"type\":\"scattergeo\"},{\"lat\":[32.89595,37.24433],\"line\":{\"color\":\"red\",\"width\":1},\"locationmode\":\"USA-states\",\"lon\":[-97.0372,-93.38686],\"mode\":\"lines\",\"type\":\"scattergeo\"},{\"lat\":[32.89595,37.24433],\"line\":{\"color\":\"red\",\"width\":1},\"locationmode\":\"USA-states\",\"lon\":[-97.0372,-93.38686],\"mode\":\"lines\",\"type\":\"scattergeo\"},{\"lat\":[41.9796,37.24433],\"line\":{\"color\":\"red\",\"width\":1},\"locationmode\":\"USA-states\",\"lon\":[-87.90446,-93.38686],\"mode\":\"lines\",\"type\":\"scattergeo\"},{\"lat\":[39.85841,43.58135],\"line\":{\"color\":\"red\",\"width\":1},\"locationmode\":\"USA-states\",\"lon\":[-104.667,-96.7417],\"mode\":\"lines\",\"type\":\"scattergeo\"},{\"lat\":[39.85841,43.58135],\"line\":{\"color\":\"red\",\"width\":1},\"locationmode\":\"USA-states\",\"lon\":[-104.667,-96.7417],\"mode\":\"lines\",\"type\":\"scattergeo\"},{\"lat\":[39.85841,43.58135],\"line\":{\"color\":\"red\",\"width\":1},\"locationmode\":\"USA-states\",\"lon\":[-104.667,-96.7417],\"mode\":\"lines\",\"type\":\"scattergeo\"},{\"lat\":[44.88055,43.58135],\"line\":{\"color\":\"red\",\"width\":1},\"locationmode\":\"USA-states\",\"lon\":[-93.21692,-96.7417],\"mode\":\"lines\",\"type\":\"scattergeo\"},{\"lat\":[41.9796,43.58135],\"line\":{\"color\":\"red\",\"width\":1},\"locationmode\":\"USA-states\",\"lon\":[-87.90446,-96.7417],\"mode\":\"lines\",\"type\":\"scattergeo\"},{\"lat\":[39.85841,48.25938],\"line\":{\"color\":\"red\",\"width\":1},\"locationmode\":\"USA-states\",\"lon\":[-104.667,-101.28033],\"mode\":\"lines\",\"type\":\"scattergeo\"},{\"lat\":[39.85841,42.88082],\"line\":{\"color\":\"red\",\"width\":1},\"locationmode\":\"USA-states\",\"lon\":[-104.667,-85.52277],\"mode\":\"lines\",\"type\":\"scattergeo\"},{\"lat\":[32.89595,42.88082],\"line\":{\"color\":\"red\",\"width\":1},\"locationmode\":\"USA-states\",\"lon\":[-97.0372,-85.52277],\"mode\":\"lines\",\"type\":\"scattergeo\"},{\"lat\":[41.9796,42.88082],\"line\":{\"color\":\"red\",\"width\":1},\"locationmode\":\"USA-states\",\"lon\":[-87.90446,-85.52277],\"mode\":\"lines\",\"type\":\"scattergeo\"},{\"lat\":[41.9796,42.88082],\"line\":{\"color\":\"red\",\"width\":1},\"locationmode\":\"USA-states\",\"lon\":[-87.90446,-85.52277],\"mode\":\"lines\",\"type\":\"scattergeo\"},{\"lat\":[39.85841,43.13986],\"line\":{\"color\":\"red\",\"width\":1},\"locationmode\":\"USA-states\",\"lon\":[-104.667,-89.33751],\"mode\":\"lines\",\"type\":\"scattergeo\"},{\"lat\":[39.85841,43.13986],\"line\":{\"color\":\"red\",\"width\":1},\"locationmode\":\"USA-states\",\"lon\":[-104.667,-89.33751],\"mode\":\"lines\",\"type\":\"scattergeo\"},{\"lat\":[39.85841,43.13986],\"line\":{\"color\":\"red\",\"width\":1},\"locationmode\":\"USA-states\",\"lon\":[-104.667,-89.33751],\"mode\":\"lines\",\"type\":\"scattergeo\"},{\"lat\":[32.89595,43.13986],\"line\":{\"color\":\"red\",\"width\":1},\"locationmode\":\"USA-states\",\"lon\":[-97.0372,-89.33751],\"mode\":\"lines\",\"type\":\"scattergeo\"},{\"lat\":[41.9796,43.13986],\"line\":{\"color\":\"red\",\"width\":1},\"locationmode\":\"USA-states\",\"lon\":[-87.90446,-89.33751],\"mode\":\"lines\",\"type\":\"scattergeo\"},{\"lat\":[39.85841,44.04532],\"line\":{\"color\":\"red\",\"width\":1},\"locationmode\":\"USA-states\",\"lon\":[-104.667,-103.05737],\"mode\":\"lines\",\"type\":\"scattergeo\"},{\"lat\":[39.85841,45.80766],\"line\":{\"color\":\"red\",\"width\":1},\"locationmode\":\"USA-states\",\"lon\":[-104.667,-108.54286],\"mode\":\"lines\",\"type\":\"scattergeo\"},{\"lat\":[39.85841,45.80766],\"line\":{\"color\":\"red\",\"width\":1},\"locationmode\":\"USA-states\",\"lon\":[-104.667,-108.54286],\"mode\":\"lines\",\"type\":\"scattergeo\"},{\"lat\":[40.78839,45.80766],\"line\":{\"color\":\"red\",\"width\":1},\"locationmode\":\"USA-states\",\"lon\":[-111.97777,-108.54286],\"mode\":\"lines\",\"type\":\"scattergeo\"},{\"lat\":[39.85841,43.50484],\"line\":{\"color\":\"red\",\"width\":1},\"locationmode\":\"USA-states\",\"lon\":[-104.667,-114.29659],\"mode\":\"lines\",\"type\":\"scattergeo\"},{\"lat\":[37.619,43.50484],\"line\":{\"color\":\"red\",\"width\":1},\"locationmode\":\"USA-states\",\"lon\":[-122.37484,-114.29659],\"mode\":\"lines\",\"type\":\"scattergeo\"},{\"lat\":[39.85841,44.12326],\"line\":{\"color\":\"red\",\"width\":1},\"locationmode\":\"USA-states\",\"lon\":[-104.667,-123.21869],\"mode\":\"lines\",\"type\":\"scattergeo\"},{\"lat\":[39.85841,44.12326],\"line\":{\"color\":\"red\",\"width\":1},\"locationmode\":\"USA-states\",\"lon\":[-104.667,-123.21869],\"mode\":\"lines\",\"type\":\"scattergeo\"},{\"lat\":[37.619,44.12326],\"line\":{\"color\":\"red\",\"width\":1},\"locationmode\":\"USA-states\",\"lon\":[-122.37484,-123.21869],\"mode\":\"lines\",\"type\":\"scattergeo\"},{\"lat\":[39.85841,47.61986],\"line\":{\"color\":\"red\",\"width\":1},\"locationmode\":\"USA-states\",\"lon\":[-104.667,-117.53384],\"mode\":\"lines\",\"type\":\"scattergeo\"},{\"lat\":[39.85841,47.61986],\"line\":{\"color\":\"red\",\"width\":1},\"locationmode\":\"USA-states\",\"lon\":[-104.667,-117.53384],\"mode\":\"lines\",\"type\":\"scattergeo\"},{\"lat\":[39.85841,47.61986],\"line\":{\"color\":\"red\",\"width\":1},\"locationmode\":\"USA-states\",\"lon\":[-104.667,-117.53384],\"mode\":\"lines\",\"type\":\"scattergeo\"},{\"lat\":[43.56444,47.61986],\"line\":{\"color\":\"red\",\"width\":1},\"locationmode\":\"USA-states\",\"lon\":[-116.22278,-117.53384],\"mode\":\"lines\",\"type\":\"scattergeo\"},{\"lat\":[37.72129,47.61986],\"line\":{\"color\":\"red\",\"width\":1},\"locationmode\":\"USA-states\",\"lon\":[-122.22072,-117.53384],\"mode\":\"lines\",\"type\":\"scattergeo\"},{\"lat\":[33.94254,47.61986],\"line\":{\"color\":\"red\",\"width\":1},\"locationmode\":\"USA-states\",\"lon\":[-118.40807,-117.53384],\"mode\":\"lines\",\"type\":\"scattergeo\"},{\"lat\":[39.85841,61.17432],\"line\":{\"color\":\"red\",\"width\":1},\"locationmode\":\"USA-states\",\"lon\":[-104.667,-149.99619],\"mode\":\"lines\",\"type\":\"scattergeo\"},{\"lat\":[37.619,61.17432],\"line\":{\"color\":\"red\",\"width\":1},\"locationmode\":\"USA-states\",\"lon\":[-122.37484,-149.99619],\"mode\":\"lines\",\"type\":\"scattergeo\"},{\"lat\":[44.88055,61.17432],\"line\":{\"color\":\"red\",\"width\":1},\"locationmode\":\"USA-states\",\"lon\":[-93.21692,-149.99619],\"mode\":\"lines\",\"type\":\"scattergeo\"},{\"lat\":[41.9796,61.17432],\"line\":{\"color\":\"red\",\"width\":1},\"locationmode\":\"USA-states\",\"lon\":[-87.90446,-149.99619],\"mode\":\"lines\",\"type\":\"scattergeo\"},{\"lat\":[33.43417,61.17432],\"line\":{\"color\":\"red\",\"width\":1},\"locationmode\":\"USA-states\",\"lon\":[-112.00806,-149.99619],\"mode\":\"lines\",\"type\":\"scattergeo\"},{\"lat\":[39.85841,43.51456],\"line\":{\"color\":\"red\",\"width\":1},\"locationmode\":\"USA-states\",\"lon\":[-104.667,-112.07017],\"mode\":\"lines\",\"type\":\"scattergeo\"},{\"lat\":[40.78839,43.51456],\"line\":{\"color\":\"red\",\"width\":1},\"locationmode\":\"USA-states\",\"lon\":[-111.97777,-112.07017],\"mode\":\"lines\",\"type\":\"scattergeo\"},{\"lat\":[39.85841,39.49858],\"line\":{\"color\":\"red\",\"width\":1},\"locationmode\":\"USA-states\",\"lon\":[-104.667,-119.76806],\"mode\":\"lines\",\"type\":\"scattergeo\"},{\"lat\":[39.85841,39.49858],\"line\":{\"color\":\"red\",\"width\":1},\"locationmode\":\"USA-states\",\"lon\":[-104.667,-119.76806],\"mode\":\"lines\",\"type\":\"scattergeo\"},{\"lat\":[39.85841,39.49858],\"line\":{\"color\":\"red\",\"width\":1},\"locationmode\":\"USA-states\",\"lon\":[-104.667,-119.76806],\"mode\":\"lines\",\"type\":\"scattergeo\"},{\"lat\":[32.73356,39.49858],\"line\":{\"color\":\"red\",\"width\":1},\"locationmode\":\"USA-states\",\"lon\":[-117.18966,-119.76806],\"mode\":\"lines\",\"type\":\"scattergeo\"},{\"lat\":[39.85841,20.89865],\"line\":{\"color\":\"red\",\"width\":1},\"locationmode\":\"USA-states\",\"lon\":[-104.667,-156.43046],\"mode\":\"lines\",\"type\":\"scattergeo\"},{\"lat\":[37.619,20.89865],\"line\":{\"color\":\"red\",\"width\":1},\"locationmode\":\"USA-states\",\"lon\":[-122.37484,-156.43046],\"mode\":\"lines\",\"type\":\"scattergeo\"},{\"lat\":[32.89595,20.89865],\"line\":{\"color\":\"red\",\"width\":1},\"locationmode\":\"USA-states\",\"lon\":[-97.0372,-156.43046],\"mode\":\"lines\",\"type\":\"scattergeo\"},{\"lat\":[21.97598,20.89865],\"line\":{\"color\":\"red\",\"width\":1},\"locationmode\":\"USA-states\",\"lon\":[-159.33896,-156.43046],\"mode\":\"lines\",\"type\":\"scattergeo\"},{\"lat\":[47.44898,20.89865],\"line\":{\"color\":\"red\",\"width\":1},\"locationmode\":\"USA-states\",\"lon\":[-122.30931,-156.43046],\"mode\":\"lines\",\"type\":\"scattergeo\"},{\"lat\":[37.72129,20.89865],\"line\":{\"color\":\"red\",\"width\":1},\"locationmode\":\"USA-states\",\"lon\":[-122.22072,-156.43046],\"mode\":\"lines\",\"type\":\"scattergeo\"},{\"lat\":[33.94254,20.89865],\"line\":{\"color\":\"red\",\"width\":1},\"locationmode\":\"USA-states\",\"lon\":[-118.40807,-156.43046],\"mode\":\"lines\",\"type\":\"scattergeo\"},{\"lat\":[33.94254,20.89865],\"line\":{\"color\":\"red\",\"width\":1},\"locationmode\":\"USA-states\",\"lon\":[-118.40807,-156.43046],\"mode\":\"lines\",\"type\":\"scattergeo\"},{\"lat\":[19.72026,20.89865],\"line\":{\"color\":\"red\",\"width\":1},\"locationmode\":\"USA-states\",\"lon\":[-155.04847,-156.43046],\"mode\":\"lines\",\"type\":\"scattergeo\"},{\"lat\":[39.85841,21.97598],\"line\":{\"color\":\"red\",\"width\":1},\"locationmode\":\"USA-states\",\"lon\":[-104.667,-159.33896],\"mode\":\"lines\",\"type\":\"scattergeo\"},{\"lat\":[21.31869,21.97598],\"line\":{\"color\":\"red\",\"width\":1},\"locationmode\":\"USA-states\",\"lon\":[-157.92241,-159.33896],\"mode\":\"lines\",\"type\":\"scattergeo\"},{\"lat\":[21.31869,21.97598],\"line\":{\"color\":\"red\",\"width\":1},\"locationmode\":\"USA-states\",\"lon\":[-157.92241,-159.33896],\"mode\":\"lines\",\"type\":\"scattergeo\"},{\"lat\":[21.31869,21.97598],\"line\":{\"color\":\"red\",\"width\":1},\"locationmode\":\"USA-states\",\"lon\":[-157.92241,-159.33896],\"mode\":\"lines\",\"type\":\"scattergeo\"},{\"lat\":[47.44898,21.97598],\"line\":{\"color\":\"red\",\"width\":1},\"locationmode\":\"USA-states\",\"lon\":[-122.30931,-159.33896],\"mode\":\"lines\",\"type\":\"scattergeo\"},{\"lat\":[33.94254,21.97598],\"line\":{\"color\":\"red\",\"width\":1},\"locationmode\":\"USA-states\",\"lon\":[-118.40807,-159.33896],\"mode\":\"lines\",\"type\":\"scattergeo\"},{\"lat\":[20.89865,21.97598],\"line\":{\"color\":\"red\",\"width\":1},\"locationmode\":\"USA-states\",\"lon\":[-156.43046,-159.33896],\"mode\":\"lines\",\"type\":\"scattergeo\"},{\"lat\":[39.85841,39.22316],\"line\":{\"color\":\"red\",\"width\":1},\"locationmode\":\"USA-states\",\"lon\":[-104.667,-106.86885],\"mode\":\"lines\",\"type\":\"scattergeo\"},{\"lat\":[39.85841,39.22316],\"line\":{\"color\":\"red\",\"width\":1},\"locationmode\":\"USA-states\",\"lon\":[-104.667,-106.86885],\"mode\":\"lines\",\"type\":\"scattergeo\"},{\"lat\":[39.85841,39.22316],\"line\":{\"color\":\"red\",\"width\":1},\"locationmode\":\"USA-states\",\"lon\":[-104.667,-106.86885],\"mode\":\"lines\",\"type\":\"scattergeo\"},{\"lat\":[32.89595,39.22316],\"line\":{\"color\":\"red\",\"width\":1},\"locationmode\":\"USA-states\",\"lon\":[-97.0372,-106.86885],\"mode\":\"lines\",\"type\":\"scattergeo\"},{\"lat\":[41.9796,39.22316],\"line\":{\"color\":\"red\",\"width\":1},\"locationmode\":\"USA-states\",\"lon\":[-87.90446,-106.86885],\"mode\":\"lines\",\"type\":\"scattergeo\"},{\"lat\":[33.94254,39.22316],\"line\":{\"color\":\"red\",\"width\":1},\"locationmode\":\"USA-states\",\"lon\":[-118.40807,-106.86885],\"mode\":\"lines\",\"type\":\"scattergeo\"},{\"lat\":[33.94254,39.22316],\"line\":{\"color\":\"red\",\"width\":1},\"locationmode\":\"USA-states\",\"lon\":[-118.40807,-106.86885],\"mode\":\"lines\",\"type\":\"scattergeo\"},{\"lat\":[39.85841,35.21401],\"line\":{\"color\":\"red\",\"width\":1},\"locationmode\":\"USA-states\",\"lon\":[-104.667,-80.94313],\"mode\":\"lines\",\"type\":\"scattergeo\"},{\"lat\":[39.85841,35.21401],\"line\":{\"color\":\"red\",\"width\":1},\"locationmode\":\"USA-states\",\"lon\":[-104.667,-80.94313],\"mode\":\"lines\",\"type\":\"scattergeo\"},{\"lat\":[41.41089,35.21401],\"line\":{\"color\":\"red\",\"width\":1},\"locationmode\":\"USA-states\",\"lon\":[-81.8494,-80.94313],\"mode\":\"lines\",\"type\":\"scattergeo\"},{\"lat\":[26.07258,35.21401],\"line\":{\"color\":\"red\",\"width\":1},\"locationmode\":\"USA-states\",\"lon\":[-80.15275,-80.94313],\"mode\":\"lines\",\"type\":\"scattergeo\"},{\"lat\":[33.64044,35.21401],\"line\":{\"color\":\"red\",\"width\":1},\"locationmode\":\"USA-states\",\"lon\":[-84.42694,-80.94313],\"mode\":\"lines\",\"type\":\"scattergeo\"},{\"lat\":[33.64044,35.21401],\"line\":{\"color\":\"red\",\"width\":1},\"locationmode\":\"USA-states\",\"lon\":[-84.42694,-80.94313],\"mode\":\"lines\",\"type\":\"scattergeo\"},{\"lat\":[35.87764,35.21401],\"line\":{\"color\":\"red\",\"width\":1},\"locationmode\":\"USA-states\",\"lon\":[-78.78747,-80.94313],\"mode\":\"lines\",\"type\":\"scattergeo\"},{\"lat\":[32.89595,35.21401],\"line\":{\"color\":\"red\",\"width\":1},\"locationmode\":\"USA-states\",\"lon\":[-97.0372,-80.94313],\"mode\":\"lines\",\"type\":\"scattergeo\"},{\"lat\":[40.6925,35.21401],\"line\":{\"color\":\"red\",\"width\":1},\"locationmode\":\"USA-states\",\"lon\":[-74.16866,-80.94313],\"mode\":\"lines\",\"type\":\"scattergeo\"},{\"lat\":[27.97547,35.21401],\"line\":{\"color\":\"red\",\"width\":1},\"locationmode\":\"USA-states\",\"lon\":[-82.53325,-80.94313],\"mode\":\"lines\",\"type\":\"scattergeo\"},{\"lat\":[42.36435,35.21401],\"line\":{\"color\":\"red\",\"width\":1},\"locationmode\":\"USA-states\",\"lon\":[-71.00518,-80.94313],\"mode\":\"lines\",\"type\":\"scattergeo\"},{\"lat\":[40.78839,35.21401],\"line\":{\"color\":\"red\",\"width\":1},\"locationmode\":\"USA-states\",\"lon\":[-111.97777,-80.94313],\"mode\":\"lines\",\"type\":\"scattergeo\"},{\"lat\":[33.43417,35.21401],\"line\":{\"color\":\"red\",\"width\":1},\"locationmode\":\"USA-states\",\"lon\":[-112.00806,-80.94313],\"mode\":\"lines\",\"type\":\"scattergeo\"},{\"lat\":[33.43417,35.21401],\"line\":{\"color\":\"red\",\"width\":1},\"locationmode\":\"USA-states\",\"lon\":[-112.00806,-80.94313],\"mode\":\"lines\",\"type\":\"scattergeo\"},{\"lat\":[41.93887,35.21401],\"line\":{\"color\":\"red\",\"width\":1},\"locationmode\":\"USA-states\",\"lon\":[-72.68323,-80.94313],\"mode\":\"lines\",\"type\":\"scattergeo\"},{\"lat\":[41.93887,35.21401],\"line\":{\"color\":\"red\",\"width\":1},\"locationmode\":\"USA-states\",\"lon\":[-72.68323,-80.94313],\"mode\":\"lines\",\"type\":\"scattergeo\"},{\"lat\":[29.64542,35.21401],\"line\":{\"color\":\"red\",\"width\":1},\"locationmode\":\"USA-states\",\"lon\":[-95.27889,-80.94313],\"mode\":\"lines\",\"type\":\"scattergeo\"},{\"lat\":[18.33731,35.21401],\"line\":{\"color\":\"red\",\"width\":1},\"locationmode\":\"USA-states\",\"lon\":[-64.97336,-80.94313],\"mode\":\"lines\",\"type\":\"scattergeo\"},{\"lat\":[39.85841,41.88459],\"line\":{\"color\":\"red\",\"width\":1},\"locationmode\":\"USA-states\",\"lon\":[-104.667,-91.71087],\"mode\":\"lines\",\"type\":\"scattergeo\"},{\"lat\":[33.64044,41.88459],\"line\":{\"color\":\"red\",\"width\":1},\"locationmode\":\"USA-states\",\"lon\":[-84.42694,-91.71087],\"mode\":\"lines\",\"type\":\"scattergeo\"},{\"lat\":[32.89595,41.88459],\"line\":{\"color\":\"red\",\"width\":1},\"locationmode\":\"USA-states\",\"lon\":[-97.0372,-91.71087],\"mode\":\"lines\",\"type\":\"scattergeo\"},{\"lat\":[32.89595,41.88459],\"line\":{\"color\":\"red\",\"width\":1},\"locationmode\":\"USA-states\",\"lon\":[-97.0372,-91.71087],\"mode\":\"lines\",\"type\":\"scattergeo\"},{\"lat\":[41.9796,41.88459],\"line\":{\"color\":\"red\",\"width\":1},\"locationmode\":\"USA-states\",\"lon\":[-87.90446,-91.71087],\"mode\":\"lines\",\"type\":\"scattergeo\"},{\"lat\":[42.21206,41.88459],\"line\":{\"color\":\"red\",\"width\":1},\"locationmode\":\"USA-states\",\"lon\":[-83.34884,-91.71087],\"mode\":\"lines\",\"type\":\"scattergeo\"},{\"lat\":[39.85841,29.99339],\"line\":{\"color\":\"red\",\"width\":1},\"locationmode\":\"USA-states\",\"lon\":[-104.667,-90.25803],\"mode\":\"lines\",\"type\":\"scattergeo\"},{\"lat\":[39.85841,29.99339],\"line\":{\"color\":\"red\",\"width\":1},\"locationmode\":\"USA-states\",\"lon\":[-104.667,-90.25803],\"mode\":\"lines\",\"type\":\"scattergeo\"},{\"lat\":[39.85841,29.99339],\"line\":{\"color\":\"red\",\"width\":1},\"locationmode\":\"USA-states\",\"lon\":[-104.667,-90.25803],\"mode\":\"lines\",\"type\":\"scattergeo\"},{\"lat\":[33.64044,29.99339],\"line\":{\"color\":\"red\",\"width\":1},\"locationmode\":\"USA-states\",\"lon\":[-84.42694,-90.25803],\"mode\":\"lines\",\"type\":\"scattergeo\"},{\"lat\":[32.89595,29.99339],\"line\":{\"color\":\"red\",\"width\":1},\"locationmode\":\"USA-states\",\"lon\":[-97.0372,-90.25803],\"mode\":\"lines\",\"type\":\"scattergeo\"},{\"lat\":[32.89595,29.99339],\"line\":{\"color\":\"red\",\"width\":1},\"locationmode\":\"USA-states\",\"lon\":[-97.0372,-90.25803],\"mode\":\"lines\",\"type\":\"scattergeo\"},{\"lat\":[28.42889,29.99339],\"line\":{\"color\":\"red\",\"width\":1},\"locationmode\":\"USA-states\",\"lon\":[-81.31603,-90.25803],\"mode\":\"lines\",\"type\":\"scattergeo\"},{\"lat\":[42.36435,29.99339],\"line\":{\"color\":\"red\",\"width\":1},\"locationmode\":\"USA-states\",\"lon\":[-71.00518,-90.25803],\"mode\":\"lines\",\"type\":\"scattergeo\"},{\"lat\":[38.74769,29.99339],\"line\":{\"color\":\"red\",\"width\":1},\"locationmode\":\"USA-states\",\"lon\":[-90.35999,-90.25803],\"mode\":\"lines\",\"type\":\"scattergeo\"},{\"lat\":[32.84711,29.99339],\"line\":{\"color\":\"red\",\"width\":1},\"locationmode\":\"USA-states\",\"lon\":[-96.85177,-90.25803],\"mode\":\"lines\",\"type\":\"scattergeo\"},{\"lat\":[32.84711,29.99339],\"line\":{\"color\":\"red\",\"width\":1},\"locationmode\":\"USA-states\",\"lon\":[-96.85177,-90.25803],\"mode\":\"lines\",\"type\":\"scattergeo\"},{\"lat\":[39.85841,41.31205],\"line\":{\"color\":\"red\",\"width\":1},\"locationmode\":\"USA-states\",\"lon\":[-104.667,-105.67499],\"mode\":\"lines\",\"type\":\"scattergeo\"},{\"lat\":[39.85841,48.3114],\"line\":{\"color\":\"red\",\"width\":1},\"locationmode\":\"USA-states\",\"lon\":[-104.667,-114.25507],\"mode\":\"lines\",\"type\":\"scattergeo\"},{\"lat\":[39.85841,38.74769],\"line\":{\"color\":\"red\",\"width\":1},\"locationmode\":\"USA-states\",\"lon\":[-104.667,-90.35999],\"mode\":\"lines\",\"type\":\"scattergeo\"},{\"lat\":[39.85841,38.74769],\"line\":{\"color\":\"red\",\"width\":1},\"locationmode\":\"USA-states\",\"lon\":[-104.667,-90.35999],\"mode\":\"lines\",\"type\":\"scattergeo\"},{\"lat\":[39.85841,38.74769],\"line\":{\"color\":\"red\",\"width\":1},\"locationmode\":\"USA-states\",\"lon\":[-104.667,-90.35999],\"mode\":\"lines\",\"type\":\"scattergeo\"},{\"lat\":[37.619,38.74769],\"line\":{\"color\":\"red\",\"width\":1},\"locationmode\":\"USA-states\",\"lon\":[-122.37484,-90.35999],\"mode\":\"lines\",\"type\":\"scattergeo\"},{\"lat\":[39.1754,38.74769],\"line\":{\"color\":\"red\",\"width\":1},\"locationmode\":\"USA-states\",\"lon\":[-76.6682,-90.35999],\"mode\":\"lines\",\"type\":\"scattergeo\"},{\"lat\":[26.07258,38.74769],\"line\":{\"color\":\"red\",\"width\":1},\"locationmode\":\"USA-states\",\"lon\":[-80.15275,-90.35999],\"mode\":\"lines\",\"type\":\"scattergeo\"},{\"lat\":[33.64044,38.74769],\"line\":{\"color\":\"red\",\"width\":1},\"locationmode\":\"USA-states\",\"lon\":[-84.42694,-90.35999],\"mode\":\"lines\",\"type\":\"scattergeo\"},{\"lat\":[40.6925,38.74769],\"line\":{\"color\":\"red\",\"width\":1},\"locationmode\":\"USA-states\",\"lon\":[-74.16866,-90.35999],\"mode\":\"lines\",\"type\":\"scattergeo\"},{\"lat\":[25.79325,38.74769],\"line\":{\"color\":\"red\",\"width\":1},\"locationmode\":\"USA-states\",\"lon\":[-80.29056,-90.35999],\"mode\":\"lines\",\"type\":\"scattergeo\"},{\"lat\":[39.87195,38.74769],\"line\":{\"color\":\"red\",\"width\":1},\"locationmode\":\"USA-states\",\"lon\":[-75.24114,-90.35999],\"mode\":\"lines\",\"type\":\"scattergeo\"},{\"lat\":[27.97547,38.74769],\"line\":{\"color\":\"red\",\"width\":1},\"locationmode\":\"USA-states\",\"lon\":[-82.53325,-90.35999],\"mode\":\"lines\",\"type\":\"scattergeo\"},{\"lat\":[44.88055,38.74769],\"line\":{\"color\":\"red\",\"width\":1},\"locationmode\":\"USA-states\",\"lon\":[-93.21692,-90.35999],\"mode\":\"lines\",\"type\":\"scattergeo\"},{\"lat\":[47.44898,38.74769],\"line\":{\"color\":\"red\",\"width\":1},\"locationmode\":\"USA-states\",\"lon\":[-122.30931,-90.35999],\"mode\":\"lines\",\"type\":\"scattergeo\"},{\"lat\":[33.94254,38.74769],\"line\":{\"color\":\"red\",\"width\":1},\"locationmode\":\"USA-states\",\"lon\":[-118.40807,-90.35999],\"mode\":\"lines\",\"type\":\"scattergeo\"},{\"lat\":[33.43417,38.74769],\"line\":{\"color\":\"red\",\"width\":1},\"locationmode\":\"USA-states\",\"lon\":[-112.00806,-90.35999],\"mode\":\"lines\",\"type\":\"scattergeo\"},{\"lat\":[33.43417,38.74769],\"line\":{\"color\":\"red\",\"width\":1},\"locationmode\":\"USA-states\",\"lon\":[-112.00806,-90.35999],\"mode\":\"lines\",\"type\":\"scattergeo\"},{\"lat\":[33.43417,38.74769],\"line\":{\"color\":\"red\",\"width\":1},\"locationmode\":\"USA-states\",\"lon\":[-112.00806,-90.35999],\"mode\":\"lines\",\"type\":\"scattergeo\"},{\"lat\":[26.53617,38.74769],\"line\":{\"color\":\"red\",\"width\":1},\"locationmode\":\"USA-states\",\"lon\":[-81.75517,-90.35999],\"mode\":\"lines\",\"type\":\"scattergeo\"},{\"lat\":[42.21206,38.74769],\"line\":{\"color\":\"red\",\"width\":1},\"locationmode\":\"USA-states\",\"lon\":[-83.34884,-90.35999],\"mode\":\"lines\",\"type\":\"scattergeo\"},{\"lat\":[32.84711,38.74769],\"line\":{\"color\":\"red\",\"width\":1},\"locationmode\":\"USA-states\",\"lon\":[-96.85177,-90.35999],\"mode\":\"lines\",\"type\":\"scattergeo\"},{\"lat\":[32.84711,38.74769],\"line\":{\"color\":\"red\",\"width\":1},\"locationmode\":\"USA-states\",\"lon\":[-96.85177,-90.35999],\"mode\":\"lines\",\"type\":\"scattergeo\"},{\"lat\":[39.29761,38.74769],\"line\":{\"color\":\"red\",\"width\":1},\"locationmode\":\"USA-states\",\"lon\":[-94.71391,-90.35999],\"mode\":\"lines\",\"type\":\"scattergeo\"},{\"lat\":[36.12448,38.74769],\"line\":{\"color\":\"red\",\"width\":1},\"locationmode\":\"USA-states\",\"lon\":[-86.67818,-90.35999],\"mode\":\"lines\",\"type\":\"scattergeo\"},{\"lat\":[39.85841,41.41089],\"line\":{\"color\":\"red\",\"width\":1},\"locationmode\":\"USA-states\",\"lon\":[-104.667,-81.8494],\"mode\":\"lines\",\"type\":\"scattergeo\"},{\"lat\":[39.85841,41.41089],\"line\":{\"color\":\"red\",\"width\":1},\"locationmode\":\"USA-states\",\"lon\":[-104.667,-81.8494],\"mode\":\"lines\",\"type\":\"scattergeo\"},{\"lat\":[39.1754,41.41089],\"line\":{\"color\":\"red\",\"width\":1},\"locationmode\":\"USA-states\",\"lon\":[-76.6682,-81.8494],\"mode\":\"lines\",\"type\":\"scattergeo\"},{\"lat\":[32.89595,41.41089],\"line\":{\"color\":\"red\",\"width\":1},\"locationmode\":\"USA-states\",\"lon\":[-97.0372,-81.8494],\"mode\":\"lines\",\"type\":\"scattergeo\"},{\"lat\":[32.89595,41.41089],\"line\":{\"color\":\"red\",\"width\":1},\"locationmode\":\"USA-states\",\"lon\":[-97.0372,-81.8494],\"mode\":\"lines\",\"type\":\"scattergeo\"},{\"lat\":[41.9796,41.41089],\"line\":{\"color\":\"red\",\"width\":1},\"locationmode\":\"USA-states\",\"lon\":[-87.90446,-81.8494],\"mode\":\"lines\",\"type\":\"scattergeo\"},{\"lat\":[41.9796,41.41089],\"line\":{\"color\":\"red\",\"width\":1},\"locationmode\":\"USA-states\",\"lon\":[-87.90446,-81.8494],\"mode\":\"lines\",\"type\":\"scattergeo\"},{\"lat\":[35.21401,41.41089],\"line\":{\"color\":\"red\",\"width\":1},\"locationmode\":\"USA-states\",\"lon\":[-80.94313,-81.8494],\"mode\":\"lines\",\"type\":\"scattergeo\"},{\"lat\":[39.85841,31.94253],\"line\":{\"color\":\"red\",\"width\":1},\"locationmode\":\"USA-states\",\"lon\":[-104.667,-102.20191],\"mode\":\"lines\",\"type\":\"scattergeo\"},{\"lat\":[29.64542,31.94253],\"line\":{\"color\":\"red\",\"width\":1},\"locationmode\":\"USA-states\",\"lon\":[-95.27889,-102.20191],\"mode\":\"lines\",\"type\":\"scattergeo\"},{\"lat\":[39.85841,43.60732],\"line\":{\"color\":\"red\",\"width\":1},\"locationmode\":\"USA-states\",\"lon\":[-104.667,-110.73774],\"mode\":\"lines\",\"type\":\"scattergeo\"},{\"lat\":[32.89595,43.60732],\"line\":{\"color\":\"red\",\"width\":1},\"locationmode\":\"USA-states\",\"lon\":[-97.0372,-110.73774],\"mode\":\"lines\",\"type\":\"scattergeo\"},{\"lat\":[40.78839,43.60732],\"line\":{\"color\":\"red\",\"width\":1},\"locationmode\":\"USA-states\",\"lon\":[-111.97777,-110.73774],\"mode\":\"lines\",\"type\":\"scattergeo\"},{\"lat\":[39.85841,33.82922],\"line\":{\"color\":\"red\",\"width\":1},\"locationmode\":\"USA-states\",\"lon\":[-104.667,-116.50625],\"mode\":\"lines\",\"type\":\"scattergeo\"},{\"lat\":[39.85841,33.82922],\"line\":{\"color\":\"red\",\"width\":1},\"locationmode\":\"USA-states\",\"lon\":[-104.667,-116.50625],\"mode\":\"lines\",\"type\":\"scattergeo\"},{\"lat\":[47.44898,33.82922],\"line\":{\"color\":\"red\",\"width\":1},\"locationmode\":\"USA-states\",\"lon\":[-122.30931,-116.50625],\"mode\":\"lines\",\"type\":\"scattergeo\"},{\"lat\":[39.85841,40.85097],\"line\":{\"color\":\"red\",\"width\":1},\"locationmode\":\"USA-states\",\"lon\":[-104.667,-96.75925],\"mode\":\"lines\",\"type\":\"scattergeo\"},{\"lat\":[39.85841,46.91935],\"line\":{\"color\":\"red\",\"width\":1},\"locationmode\":\"USA-states\",\"lon\":[-104.667,-96.81499],\"mode\":\"lines\",\"type\":\"scattergeo\"},{\"lat\":[39.85841,46.91935],\"line\":{\"color\":\"red\",\"width\":1},\"locationmode\":\"USA-states\",\"lon\":[-104.667,-96.81499],\"mode\":\"lines\",\"type\":\"scattergeo\"},{\"lat\":[32.89595,46.91935],\"line\":{\"color\":\"red\",\"width\":1},\"locationmode\":\"USA-states\",\"lon\":[-97.0372,-96.81499],\"mode\":\"lines\",\"type\":\"scattergeo\"},{\"lat\":[41.9796,46.91935],\"line\":{\"color\":\"red\",\"width\":1},\"locationmode\":\"USA-states\",\"lon\":[-87.90446,-96.81499],\"mode\":\"lines\",\"type\":\"scattergeo\"},{\"lat\":[39.85841,35.04022],\"line\":{\"color\":\"red\",\"width\":1},\"locationmode\":\"USA-states\",\"lon\":[-104.667,-106.60919],\"mode\":\"lines\",\"type\":\"scattergeo\"},{\"lat\":[39.85841,35.04022],\"line\":{\"color\":\"red\",\"width\":1},\"locationmode\":\"USA-states\",\"lon\":[-104.667,-106.60919],\"mode\":\"lines\",\"type\":\"scattergeo\"},{\"lat\":[41.9796,35.04022],\"line\":{\"color\":\"red\",\"width\":1},\"locationmode\":\"USA-states\",\"lon\":[-87.90446,-106.60919],\"mode\":\"lines\",\"type\":\"scattergeo\"},{\"lat\":[37.72129,35.04022],\"line\":{\"color\":\"red\",\"width\":1},\"locationmode\":\"USA-states\",\"lon\":[-122.22072,-106.60919],\"mode\":\"lines\",\"type\":\"scattergeo\"},{\"lat\":[37.72129,35.04022],\"line\":{\"color\":\"red\",\"width\":1},\"locationmode\":\"USA-states\",\"lon\":[-122.22072,-106.60919],\"mode\":\"lines\",\"type\":\"scattergeo\"},{\"lat\":[33.94254,35.04022],\"line\":{\"color\":\"red\",\"width\":1},\"locationmode\":\"USA-states\",\"lon\":[-118.40807,-106.60919],\"mode\":\"lines\",\"type\":\"scattergeo\"},{\"lat\":[33.43417,35.04022],\"line\":{\"color\":\"red\",\"width\":1},\"locationmode\":\"USA-states\",\"lon\":[-112.00806,-106.60919],\"mode\":\"lines\",\"type\":\"scattergeo\"},{\"lat\":[33.43417,35.04022],\"line\":{\"color\":\"red\",\"width\":1},\"locationmode\":\"USA-states\",\"lon\":[-112.00806,-106.60919],\"mode\":\"lines\",\"type\":\"scattergeo\"},{\"lat\":[32.84711,35.04022],\"line\":{\"color\":\"red\",\"width\":1},\"locationmode\":\"USA-states\",\"lon\":[-96.85177,-106.60919],\"mode\":\"lines\",\"type\":\"scattergeo\"},{\"lat\":[39.29761,35.04022],\"line\":{\"color\":\"red\",\"width\":1},\"locationmode\":\"USA-states\",\"lon\":[-94.71391,-106.60919],\"mode\":\"lines\",\"type\":\"scattergeo\"},{\"lat\":[39.85841,39.90238],\"line\":{\"color\":\"red\",\"width\":1},\"locationmode\":\"USA-states\",\"lon\":[-104.667,-84.21938],\"mode\":\"lines\",\"type\":\"scattergeo\"},{\"lat\":[39.1754,39.90238],\"line\":{\"color\":\"red\",\"width\":1},\"locationmode\":\"USA-states\",\"lon\":[-76.6682,-84.21938],\"mode\":\"lines\",\"type\":\"scattergeo\"},{\"lat\":[32.89595,39.90238],\"line\":{\"color\":\"red\",\"width\":1},\"locationmode\":\"USA-states\",\"lon\":[-97.0372,-84.21938],\"mode\":\"lines\",\"type\":\"scattergeo\"},{\"lat\":[41.9796,39.90238],\"line\":{\"color\":\"red\",\"width\":1},\"locationmode\":\"USA-states\",\"lon\":[-87.90446,-84.21938],\"mode\":\"lines\",\"type\":\"scattergeo\"},{\"lat\":[39.85841,46.77411],\"line\":{\"color\":\"red\",\"width\":1},\"locationmode\":\"USA-states\",\"lon\":[-104.667,-100.74672],\"mode\":\"lines\",\"type\":\"scattergeo\"},{\"lat\":[32.89595,46.77411],\"line\":{\"color\":\"red\",\"width\":1},\"locationmode\":\"USA-states\",\"lon\":[-97.0372,-100.74672],\"mode\":\"lines\",\"type\":\"scattergeo\"},{\"lat\":[39.85841,39.04614],\"line\":{\"color\":\"red\",\"width\":1},\"locationmode\":\"USA-states\",\"lon\":[-104.667,-84.66217],\"mode\":\"lines\",\"type\":\"scattergeo\"},{\"lat\":[40.63975,39.04614],\"line\":{\"color\":\"red\",\"width\":1},\"locationmode\":\"USA-states\",\"lon\":[-73.77893,-84.66217],\"mode\":\"lines\",\"type\":\"scattergeo\"},{\"lat\":[32.89595,39.04614],\"line\":{\"color\":\"red\",\"width\":1},\"locationmode\":\"USA-states\",\"lon\":[-97.0372,-84.66217],\"mode\":\"lines\",\"type\":\"scattergeo\"},{\"lat\":[41.9796,39.04614],\"line\":{\"color\":\"red\",\"width\":1},\"locationmode\":\"USA-states\",\"lon\":[-87.90446,-84.66217],\"mode\":\"lines\",\"type\":\"scattergeo\"},{\"lat\":[41.9796,39.04614],\"line\":{\"color\":\"red\",\"width\":1},\"locationmode\":\"USA-states\",\"lon\":[-87.90446,-84.66217],\"mode\":\"lines\",\"type\":\"scattergeo\"},{\"lat\":[41.9796,39.04614],\"line\":{\"color\":\"red\",\"width\":1},\"locationmode\":\"USA-states\",\"lon\":[-87.90446,-84.66217],\"mode\":\"lines\",\"type\":\"scattergeo\"},{\"lat\":[39.85841,38.17439],\"line\":{\"color\":\"red\",\"width\":1},\"locationmode\":\"USA-states\",\"lon\":[-104.667,-85.736],\"mode\":\"lines\",\"type\":\"scattergeo\"},{\"lat\":[33.64044,38.17439],\"line\":{\"color\":\"red\",\"width\":1},\"locationmode\":\"USA-states\",\"lon\":[-84.42694,-85.736],\"mode\":\"lines\",\"type\":\"scattergeo\"},{\"lat\":[39.85841,42.90836],\"line\":{\"color\":\"red\",\"width\":1},\"locationmode\":\"USA-states\",\"lon\":[-104.667,-106.46447],\"mode\":\"lines\",\"type\":\"scattergeo\"},{\"lat\":[39.85841,35.61678],\"line\":{\"color\":\"red\",\"width\":1},\"locationmode\":\"USA-states\",\"lon\":[-104.667,-106.08814],\"mode\":\"lines\",\"type\":\"scattergeo\"},{\"lat\":[39.85841,41.44853],\"line\":{\"color\":\"red\",\"width\":1},\"locationmode\":\"USA-states\",\"lon\":[-104.667,-90.50754],\"mode\":\"lines\",\"type\":\"scattergeo\"},{\"lat\":[39.85841,44.3489],\"line\":{\"color\":\"red\",\"width\":1},\"locationmode\":\"USA-states\",\"lon\":[-104.667,-105.53936],\"mode\":\"lines\",\"type\":\"scattergeo\"},{\"lat\":[39.85841,37.64996],\"line\":{\"color\":\"red\",\"width\":1},\"locationmode\":\"USA-states\",\"lon\":[-104.667,-97.43305],\"mode\":\"lines\",\"type\":\"scattergeo\"},{\"lat\":[41.9796,37.64996],\"line\":{\"color\":\"red\",\"width\":1},\"locationmode\":\"USA-states\",\"lon\":[-87.90446,-97.43305],\"mode\":\"lines\",\"type\":\"scattergeo\"},{\"lat\":[41.9796,37.64996],\"line\":{\"color\":\"red\",\"width\":1},\"locationmode\":\"USA-states\",\"lon\":[-87.90446,-97.43305],\"mode\":\"lines\",\"type\":\"scattergeo\"},{\"lat\":[33.94254,37.64996],\"line\":{\"color\":\"red\",\"width\":1},\"locationmode\":\"USA-states\",\"lon\":[-118.40807,-97.43305],\"mode\":\"lines\",\"type\":\"scattergeo\"},{\"lat\":[41.78598,37.64996],\"line\":{\"color\":\"red\",\"width\":1},\"locationmode\":\"USA-states\",\"lon\":[-87.75242,-97.43305],\"mode\":\"lines\",\"type\":\"scattergeo\"},{\"lat\":[39.85841,29.64542],\"line\":{\"color\":\"red\",\"width\":1},\"locationmode\":\"USA-states\",\"lon\":[-104.667,-95.27889],\"mode\":\"lines\",\"type\":\"scattergeo\"},{\"lat\":[40.49147,29.64542],\"line\":{\"color\":\"red\",\"width\":1},\"locationmode\":\"USA-states\",\"lon\":[-80.23287,-95.27889],\"mode\":\"lines\",\"type\":\"scattergeo\"},{\"lat\":[35.04022,29.64542],\"line\":{\"color\":\"red\",\"width\":1},\"locationmode\":\"USA-states\",\"lon\":[-106.60919,-95.27889],\"mode\":\"lines\",\"type\":\"scattergeo\"},{\"lat\":[35.04022,29.64542],\"line\":{\"color\":\"red\",\"width\":1},\"locationmode\":\"USA-states\",\"lon\":[-106.60919,-95.27889],\"mode\":\"lines\",\"type\":\"scattergeo\"},{\"lat\":[33.64044,29.64542],\"line\":{\"color\":\"red\",\"width\":1},\"locationmode\":\"USA-states\",\"lon\":[-84.42694,-95.27889],\"mode\":\"lines\",\"type\":\"scattergeo\"},{\"lat\":[35.87764,29.64542],\"line\":{\"color\":\"red\",\"width\":1},\"locationmode\":\"USA-states\",\"lon\":[-78.78747,-95.27889],\"mode\":\"lines\",\"type\":\"scattergeo\"},{\"lat\":[32.89595,29.64542],\"line\":{\"color\":\"red\",\"width\":1},\"locationmode\":\"USA-states\",\"lon\":[-97.0372,-95.27889],\"mode\":\"lines\",\"type\":\"scattergeo\"},{\"lat\":[27.97547,29.64542],\"line\":{\"color\":\"red\",\"width\":1},\"locationmode\":\"USA-states\",\"lon\":[-82.53325,-95.27889],\"mode\":\"lines\",\"type\":\"scattergeo\"},{\"lat\":[29.53369,29.64542],\"line\":{\"color\":\"red\",\"width\":1},\"locationmode\":\"USA-states\",\"lon\":[-98.46978,-95.27889],\"mode\":\"lines\",\"type\":\"scattergeo\"},{\"lat\":[29.53369,29.64542],\"line\":{\"color\":\"red\",\"width\":1},\"locationmode\":\"USA-states\",\"lon\":[-98.46978,-95.27889],\"mode\":\"lines\",\"type\":\"scattergeo\"},{\"lat\":[37.72129,29.64542],\"line\":{\"color\":\"red\",\"width\":1},\"locationmode\":\"USA-states\",\"lon\":[-122.22072,-95.27889],\"mode\":\"lines\",\"type\":\"scattergeo\"},{\"lat\":[33.94254,29.64542],\"line\":{\"color\":\"red\",\"width\":1},\"locationmode\":\"USA-states\",\"lon\":[-118.40807,-95.27889],\"mode\":\"lines\",\"type\":\"scattergeo\"},{\"lat\":[33.94254,29.64542],\"line\":{\"color\":\"red\",\"width\":1},\"locationmode\":\"USA-states\",\"lon\":[-118.40807,-95.27889],\"mode\":\"lines\",\"type\":\"scattergeo\"},{\"lat\":[33.43417,29.64542],\"line\":{\"color\":\"red\",\"width\":1},\"locationmode\":\"USA-states\",\"lon\":[-112.00806,-95.27889],\"mode\":\"lines\",\"type\":\"scattergeo\"},{\"lat\":[33.43417,29.64542],\"line\":{\"color\":\"red\",\"width\":1},\"locationmode\":\"USA-states\",\"lon\":[-112.00806,-95.27889],\"mode\":\"lines\",\"type\":\"scattergeo\"},{\"lat\":[33.43417,29.64542],\"line\":{\"color\":\"red\",\"width\":1},\"locationmode\":\"USA-states\",\"lon\":[-112.00806,-95.27889],\"mode\":\"lines\",\"type\":\"scattergeo\"},{\"lat\":[41.78598,29.64542],\"line\":{\"color\":\"red\",\"width\":1},\"locationmode\":\"USA-states\",\"lon\":[-87.75242,-95.27889],\"mode\":\"lines\",\"type\":\"scattergeo\"},{\"lat\":[38.74769,29.64542],\"line\":{\"color\":\"red\",\"width\":1},\"locationmode\":\"USA-states\",\"lon\":[-90.35999,-95.27889],\"mode\":\"lines\",\"type\":\"scattergeo\"},{\"lat\":[38.74769,29.64542],\"line\":{\"color\":\"red\",\"width\":1},\"locationmode\":\"USA-states\",\"lon\":[-90.35999,-95.27889],\"mode\":\"lines\",\"type\":\"scattergeo\"},{\"lat\":[32.84711,29.64542],\"line\":{\"color\":\"red\",\"width\":1},\"locationmode\":\"USA-states\",\"lon\":[-96.85177,-95.27889],\"mode\":\"lines\",\"type\":\"scattergeo\"},{\"lat\":[32.84711,29.64542],\"line\":{\"color\":\"red\",\"width\":1},\"locationmode\":\"USA-states\",\"lon\":[-96.85177,-95.27889],\"mode\":\"lines\",\"type\":\"scattergeo\"},{\"lat\":[31.94253,29.64542],\"line\":{\"color\":\"red\",\"width\":1},\"locationmode\":\"USA-states\",\"lon\":[-102.20191,-95.27889],\"mode\":\"lines\",\"type\":\"scattergeo\"},{\"lat\":[27.77036,29.64542],\"line\":{\"color\":\"red\",\"width\":1},\"locationmode\":\"USA-states\",\"lon\":[-97.50122,-95.27889],\"mode\":\"lines\",\"type\":\"scattergeo\"},{\"lat\":[26.22851,29.64542],\"line\":{\"color\":\"red\",\"width\":1},\"locationmode\":\"USA-states\",\"lon\":[-97.65439,-95.27889],\"mode\":\"lines\",\"type\":\"scattergeo\"},{\"lat\":[39.85841,41.59422],\"line\":{\"color\":\"red\",\"width\":1},\"locationmode\":\"USA-states\",\"lon\":[-104.667,-109.06519],\"mode\":\"lines\",\"type\":\"scattergeo\"},{\"lat\":[40.78839,41.59422],\"line\":{\"color\":\"red\",\"width\":1},\"locationmode\":\"USA-states\",\"lon\":[-111.97777,-109.06519],\"mode\":\"lines\",\"type\":\"scattergeo\"},{\"lat\":[39.85841,36.77619],\"line\":{\"color\":\"red\",\"width\":1},\"locationmode\":\"USA-states\",\"lon\":[-104.667,-119.71814],\"mode\":\"lines\",\"type\":\"scattergeo\"},{\"lat\":[33.94254,36.77619],\"line\":{\"color\":\"red\",\"width\":1},\"locationmode\":\"USA-states\",\"lon\":[-118.40807,-119.71814],\"mode\":\"lines\",\"type\":\"scattergeo\"},{\"lat\":[39.85841,34.42621],\"line\":{\"color\":\"red\",\"width\":1},\"locationmode\":\"USA-states\",\"lon\":[-104.667,-119.84037],\"mode\":\"lines\",\"type\":\"scattergeo\"},{\"lat\":[37.619,34.42621],\"line\":{\"color\":\"red\",\"width\":1},\"locationmode\":\"USA-states\",\"lon\":[-122.37484,-119.84037],\"mode\":\"lines\",\"type\":\"scattergeo\"},{\"lat\":[39.85841,26.53617],\"line\":{\"color\":\"red\",\"width\":1},\"locationmode\":\"USA-states\",\"lon\":[-104.667,-81.75517],\"mode\":\"lines\",\"type\":\"scattergeo\"},{\"lat\":[40.63975,26.53617],\"line\":{\"color\":\"red\",\"width\":1},\"locationmode\":\"USA-states\",\"lon\":[-73.77893,-81.75517],\"mode\":\"lines\",\"type\":\"scattergeo\"},{\"lat\":[32.89595,26.53617],\"line\":{\"color\":\"red\",\"width\":1},\"locationmode\":\"USA-states\",\"lon\":[-97.0372,-81.75517],\"mode\":\"lines\",\"type\":\"scattergeo\"},{\"lat\":[32.89595,26.53617],\"line\":{\"color\":\"red\",\"width\":1},\"locationmode\":\"USA-states\",\"lon\":[-97.0372,-81.75517],\"mode\":\"lines\",\"type\":\"scattergeo\"},{\"lat\":[39.87195,26.53617],\"line\":{\"color\":\"red\",\"width\":1},\"locationmode\":\"USA-states\",\"lon\":[-75.24114,-81.75517],\"mode\":\"lines\",\"type\":\"scattergeo\"},{\"lat\":[42.36435,26.53617],\"line\":{\"color\":\"red\",\"width\":1},\"locationmode\":\"USA-states\",\"lon\":[-71.00518,-81.75517],\"mode\":\"lines\",\"type\":\"scattergeo\"},{\"lat\":[41.9796,26.53617],\"line\":{\"color\":\"red\",\"width\":1},\"locationmode\":\"USA-states\",\"lon\":[-87.90446,-81.75517],\"mode\":\"lines\",\"type\":\"scattergeo\"},{\"lat\":[35.21401,26.53617],\"line\":{\"color\":\"red\",\"width\":1},\"locationmode\":\"USA-states\",\"lon\":[-80.94313,-81.75517],\"mode\":\"lines\",\"type\":\"scattergeo\"},{\"lat\":[37.619,35.23706],\"line\":{\"color\":\"red\",\"width\":1},\"locationmode\":\"USA-states\",\"lon\":[-122.37484,-120.64239],\"mode\":\"lines\",\"type\":\"scattergeo\"},{\"lat\":[33.94254,35.23706],\"line\":{\"color\":\"red\",\"width\":1},\"locationmode\":\"USA-states\",\"lon\":[-118.40807,-120.64239],\"mode\":\"lines\",\"type\":\"scattergeo\"},{\"lat\":[37.619,33.81772],\"line\":{\"color\":\"red\",\"width\":1},\"locationmode\":\"USA-states\",\"lon\":[-122.37484,-118.15161],\"mode\":\"lines\",\"type\":\"scattergeo\"},{\"lat\":[30.19453,33.81772],\"line\":{\"color\":\"red\",\"width\":1},\"locationmode\":\"USA-states\",\"lon\":[-97.66987,-118.15161],\"mode\":\"lines\",\"type\":\"scattergeo\"},{\"lat\":[42.36435,33.81772],\"line\":{\"color\":\"red\",\"width\":1},\"locationmode\":\"USA-states\",\"lon\":[-71.00518,-118.15161],\"mode\":\"lines\",\"type\":\"scattergeo\"},{\"lat\":[37.619,40.97812],\"line\":{\"color\":\"red\",\"width\":1},\"locationmode\":\"USA-states\",\"lon\":[-122.37484,-124.10862],\"mode\":\"lines\",\"type\":\"scattergeo\"},{\"lat\":[40.63975,42.94052],\"line\":{\"color\":\"red\",\"width\":1},\"locationmode\":\"USA-states\",\"lon\":[-73.77893,-78.73217],\"mode\":\"lines\",\"type\":\"scattergeo\"},{\"lat\":[40.63975,42.94052],\"line\":{\"color\":\"red\",\"width\":1},\"locationmode\":\"USA-states\",\"lon\":[-73.77893,-78.73217],\"mode\":\"lines\",\"type\":\"scattergeo\"},{\"lat\":[26.07258,42.94052],\"line\":{\"color\":\"red\",\"width\":1},\"locationmode\":\"USA-states\",\"lon\":[-80.15275,-78.73217],\"mode\":\"lines\",\"type\":\"scattergeo\"},{\"lat\":[28.42889,42.94052],\"line\":{\"color\":\"red\",\"width\":1},\"locationmode\":\"USA-states\",\"lon\":[-81.31603,-78.73217],\"mode\":\"lines\",\"type\":\"scattergeo\"},{\"lat\":[41.78598,42.94052],\"line\":{\"color\":\"red\",\"width\":1},\"locationmode\":\"USA-states\",\"lon\":[-87.75242,-78.73217],\"mode\":\"lines\",\"type\":\"scattergeo\"},{\"lat\":[40.63975,43.11119],\"line\":{\"color\":\"red\",\"width\":1},\"locationmode\":\"USA-states\",\"lon\":[-73.77893,-76.10631],\"mode\":\"lines\",\"type\":\"scattergeo\"},{\"lat\":[41.9796,43.11119],\"line\":{\"color\":\"red\",\"width\":1},\"locationmode\":\"USA-states\",\"lon\":[-87.90446,-76.10631],\"mode\":\"lines\",\"type\":\"scattergeo\"},{\"lat\":[41.41089,40.77724],\"line\":{\"color\":\"red\",\"width\":1},\"locationmode\":\"USA-states\",\"lon\":[-81.8494,-73.87261],\"mode\":\"lines\",\"type\":\"scattergeo\"},{\"lat\":[33.64044,40.77724],\"line\":{\"color\":\"red\",\"width\":1},\"locationmode\":\"USA-states\",\"lon\":[-84.42694,-73.87261],\"mode\":\"lines\",\"type\":\"scattergeo\"},{\"lat\":[33.64044,40.77724],\"line\":{\"color\":\"red\",\"width\":1},\"locationmode\":\"USA-states\",\"lon\":[-84.42694,-73.87261],\"mode\":\"lines\",\"type\":\"scattergeo\"},{\"lat\":[26.68316,40.77724],\"line\":{\"color\":\"red\",\"width\":1},\"locationmode\":\"USA-states\",\"lon\":[-80.09559,-73.87261],\"mode\":\"lines\",\"type\":\"scattergeo\"},{\"lat\":[32.89595,40.77724],\"line\":{\"color\":\"red\",\"width\":1},\"locationmode\":\"USA-states\",\"lon\":[-97.0372,-73.87261],\"mode\":\"lines\",\"type\":\"scattergeo\"},{\"lat\":[25.79325,40.77724],\"line\":{\"color\":\"red\",\"width\":1},\"locationmode\":\"USA-states\",\"lon\":[-80.29056,-73.87261],\"mode\":\"lines\",\"type\":\"scattergeo\"},{\"lat\":[25.79325,40.77724],\"line\":{\"color\":\"red\",\"width\":1},\"locationmode\":\"USA-states\",\"lon\":[-80.29056,-73.87261],\"mode\":\"lines\",\"type\":\"scattergeo\"},{\"lat\":[28.42889,40.77724],\"line\":{\"color\":\"red\",\"width\":1},\"locationmode\":\"USA-states\",\"lon\":[-81.31603,-73.87261],\"mode\":\"lines\",\"type\":\"scattergeo\"},{\"lat\":[28.42889,40.77724],\"line\":{\"color\":\"red\",\"width\":1},\"locationmode\":\"USA-states\",\"lon\":[-81.31603,-73.87261],\"mode\":\"lines\",\"type\":\"scattergeo\"},{\"lat\":[41.9796,40.77724],\"line\":{\"color\":\"red\",\"width\":1},\"locationmode\":\"USA-states\",\"lon\":[-87.90446,-73.87261],\"mode\":\"lines\",\"type\":\"scattergeo\"},{\"lat\":[41.9796,40.77724],\"line\":{\"color\":\"red\",\"width\":1},\"locationmode\":\"USA-states\",\"lon\":[-87.90446,-73.87261],\"mode\":\"lines\",\"type\":\"scattergeo\"},{\"lat\":[26.53617,40.77724],\"line\":{\"color\":\"red\",\"width\":1},\"locationmode\":\"USA-states\",\"lon\":[-81.75517,-73.87261],\"mode\":\"lines\",\"type\":\"scattergeo\"},{\"lat\":[29.64542,40.77724],\"line\":{\"color\":\"red\",\"width\":1},\"locationmode\":\"USA-states\",\"lon\":[-95.27889,-73.87261],\"mode\":\"lines\",\"type\":\"scattergeo\"},{\"lat\":[32.84711,40.77724],\"line\":{\"color\":\"red\",\"width\":1},\"locationmode\":\"USA-states\",\"lon\":[-96.85177,-73.87261],\"mode\":\"lines\",\"type\":\"scattergeo\"},{\"lat\":[43.11887,40.77724],\"line\":{\"color\":\"red\",\"width\":1},\"locationmode\":\"USA-states\",\"lon\":[-77.67238,-73.87261],\"mode\":\"lines\",\"type\":\"scattergeo\"},{\"lat\":[38.13864,40.77724],\"line\":{\"color\":\"red\",\"width\":1},\"locationmode\":\"USA-states\",\"lon\":[-78.45286,-73.87261],\"mode\":\"lines\",\"type\":\"scattergeo\"},{\"lat\":[27.39533,40.77724],\"line\":{\"color\":\"red\",\"width\":1},\"locationmode\":\"USA-states\",\"lon\":[-82.55411,-73.87261],\"mode\":\"lines\",\"type\":\"scattergeo\"},{\"lat\":[39.1754,30.49406],\"line\":{\"color\":\"red\",\"width\":1},\"locationmode\":\"USA-states\",\"lon\":[-76.6682,-81.68786],\"mode\":\"lines\",\"type\":\"scattergeo\"},{\"lat\":[33.64044,30.49406],\"line\":{\"color\":\"red\",\"width\":1},\"locationmode\":\"USA-states\",\"lon\":[-84.42694,-81.68786],\"mode\":\"lines\",\"type\":\"scattergeo\"},{\"lat\":[32.89595,30.49406],\"line\":{\"color\":\"red\",\"width\":1},\"locationmode\":\"USA-states\",\"lon\":[-97.0372,-81.68786],\"mode\":\"lines\",\"type\":\"scattergeo\"},{\"lat\":[32.89595,30.49406],\"line\":{\"color\":\"red\",\"width\":1},\"locationmode\":\"USA-states\",\"lon\":[-97.0372,-81.68786],\"mode\":\"lines\",\"type\":\"scattergeo\"},{\"lat\":[44.88055,30.49406],\"line\":{\"color\":\"red\",\"width\":1},\"locationmode\":\"USA-states\",\"lon\":[-93.21692,-81.68786],\"mode\":\"lines\",\"type\":\"scattergeo\"},{\"lat\":[42.36435,30.49406],\"line\":{\"color\":\"red\",\"width\":1},\"locationmode\":\"USA-states\",\"lon\":[-71.00518,-81.68786],\"mode\":\"lines\",\"type\":\"scattergeo\"},{\"lat\":[35.21401,30.49406],\"line\":{\"color\":\"red\",\"width\":1},\"locationmode\":\"USA-states\",\"lon\":[-80.94313,-81.68786],\"mode\":\"lines\",\"type\":\"scattergeo\"},{\"lat\":[29.64542,30.49406],\"line\":{\"color\":\"red\",\"width\":1},\"locationmode\":\"USA-states\",\"lon\":[-95.27889,-81.68786],\"mode\":\"lines\",\"type\":\"scattergeo\"},{\"lat\":[39.1754,36.89461],\"line\":{\"color\":\"red\",\"width\":1},\"locationmode\":\"USA-states\",\"lon\":[-76.6682,-76.20122],\"mode\":\"lines\",\"type\":\"scattergeo\"},{\"lat\":[40.77724,38.13864],\"line\":{\"color\":\"red\",\"width\":1},\"locationmode\":\"USA-states\",\"lon\":[-73.87261,-78.45286],\"mode\":\"lines\",\"type\":\"scattergeo\"},{\"lat\":[41.9796,38.13864],\"line\":{\"color\":\"red\",\"width\":1},\"locationmode\":\"USA-states\",\"lon\":[-87.90446,-78.45286],\"mode\":\"lines\",\"type\":\"scattergeo\"},{\"lat\":[40.77724,27.39533],\"line\":{\"color\":\"red\",\"width\":1},\"locationmode\":\"USA-states\",\"lon\":[-73.87261,-82.55411],\"mode\":\"lines\",\"type\":\"scattergeo\"},{\"lat\":[26.07258,42.26734],\"line\":{\"color\":\"red\",\"width\":1},\"locationmode\":\"USA-states\",\"lon\":[-80.15275,-71.87571],\"mode\":\"lines\",\"type\":\"scattergeo\"},{\"lat\":[33.64044,40.27669],\"line\":{\"color\":\"red\",\"width\":1},\"locationmode\":\"USA-states\",\"lon\":[-84.42694,-74.81347],\"mode\":\"lines\",\"type\":\"scattergeo\"},{\"lat\":[26.68316,40.27669],\"line\":{\"color\":\"red\",\"width\":1},\"locationmode\":\"USA-states\",\"lon\":[-80.09559,-74.81347],\"mode\":\"lines\",\"type\":\"scattergeo\"},{\"lat\":[33.64044,33.36996],\"line\":{\"color\":\"red\",\"width\":1},\"locationmode\":\"USA-states\",\"lon\":[-84.42694,-81.9645],\"mode\":\"lines\",\"type\":\"scattergeo\"},{\"lat\":[33.64044,40.47799],\"line\":{\"color\":\"red\",\"width\":1},\"locationmode\":\"USA-states\",\"lon\":[-84.42694,-88.91595],\"mode\":\"lines\",\"type\":\"scattergeo\"},{\"lat\":[41.9796,40.47799],\"line\":{\"color\":\"red\",\"width\":1},\"locationmode\":\"USA-states\",\"lon\":[-87.90446,-88.91595],\"mode\":\"lines\",\"type\":\"scattergeo\"},{\"lat\":[33.64044,37.50517],\"line\":{\"color\":\"red\",\"width\":1},\"locationmode\":\"USA-states\",\"lon\":[-84.42694,-77.31967],\"mode\":\"lines\",\"type\":\"scattergeo\"},{\"lat\":[33.64044,37.50517],\"line\":{\"color\":\"red\",\"width\":1},\"locationmode\":\"USA-states\",\"lon\":[-84.42694,-77.31967],\"mode\":\"lines\",\"type\":\"scattergeo\"},{\"lat\":[32.89595,37.50517],\"line\":{\"color\":\"red\",\"width\":1},\"locationmode\":\"USA-states\",\"lon\":[-97.0372,-77.31967],\"mode\":\"lines\",\"type\":\"scattergeo\"},{\"lat\":[41.9796,37.50517],\"line\":{\"color\":\"red\",\"width\":1},\"locationmode\":\"USA-states\",\"lon\":[-87.90446,-77.31967],\"mode\":\"lines\",\"type\":\"scattergeo\"},{\"lat\":[41.9796,37.50517],\"line\":{\"color\":\"red\",\"width\":1},\"locationmode\":\"USA-states\",\"lon\":[-87.90446,-77.31967],\"mode\":\"lines\",\"type\":\"scattergeo\"},{\"lat\":[33.64044,39.99799],\"line\":{\"color\":\"red\",\"width\":1},\"locationmode\":\"USA-states\",\"lon\":[-84.42694,-82.89188],\"mode\":\"lines\",\"type\":\"scattergeo\"},{\"lat\":[32.89595,39.99799],\"line\":{\"color\":\"red\",\"width\":1},\"locationmode\":\"USA-states\",\"lon\":[-97.0372,-82.89188],\"mode\":\"lines\",\"type\":\"scattergeo\"},{\"lat\":[25.79325,39.99799],\"line\":{\"color\":\"red\",\"width\":1},\"locationmode\":\"USA-states\",\"lon\":[-80.29056,-82.89188],\"mode\":\"lines\",\"type\":\"scattergeo\"},{\"lat\":[27.97547,39.99799],\"line\":{\"color\":\"red\",\"width\":1},\"locationmode\":\"USA-states\",\"lon\":[-82.53325,-82.89188],\"mode\":\"lines\",\"type\":\"scattergeo\"},{\"lat\":[41.9796,39.99799],\"line\":{\"color\":\"red\",\"width\":1},\"locationmode\":\"USA-states\",\"lon\":[-87.90446,-82.89188],\"mode\":\"lines\",\"type\":\"scattergeo\"},{\"lat\":[33.64044,31.0649],\"line\":{\"color\":\"red\",\"width\":1},\"locationmode\":\"USA-states\",\"lon\":[-84.42694,-97.8278],\"mode\":\"lines\",\"type\":\"scattergeo\"},{\"lat\":[32.89595,31.0649],\"line\":{\"color\":\"red\",\"width\":1},\"locationmode\":\"USA-states\",\"lon\":[-97.0372,-97.8278],\"mode\":\"lines\",\"type\":\"scattergeo\"},{\"lat\":[32.89595,31.0649],\"line\":{\"color\":\"red\",\"width\":1},\"locationmode\":\"USA-states\",\"lon\":[-97.0372,-97.8278],\"mode\":\"lines\",\"type\":\"scattergeo\"},{\"lat\":[32.89595,31.0649],\"line\":{\"color\":\"red\",\"width\":1},\"locationmode\":\"USA-states\",\"lon\":[-97.0372,-97.8278],\"mode\":\"lines\",\"type\":\"scattergeo\"},{\"lat\":[32.89595,31.0649],\"line\":{\"color\":\"red\",\"width\":1},\"locationmode\":\"USA-states\",\"lon\":[-97.0372,-97.8278],\"mode\":\"lines\",\"type\":\"scattergeo\"},{\"lat\":[32.89595,31.0649],\"line\":{\"color\":\"red\",\"width\":1},\"locationmode\":\"USA-states\",\"lon\":[-97.0372,-97.8278],\"mode\":\"lines\",\"type\":\"scattergeo\"},{\"lat\":[33.64044,41.70895],\"line\":{\"color\":\"red\",\"width\":1},\"locationmode\":\"USA-states\",\"lon\":[-84.42694,-86.31847],\"mode\":\"lines\",\"type\":\"scattergeo\"},{\"lat\":[41.9796,41.70895],\"line\":{\"color\":\"red\",\"width\":1},\"locationmode\":\"USA-states\",\"lon\":[-87.90446,-86.31847],\"mode\":\"lines\",\"type\":\"scattergeo\"},{\"lat\":[33.64044,38.37315],\"line\":{\"color\":\"red\",\"width\":1},\"locationmode\":\"USA-states\",\"lon\":[-84.42694,-81.59319],\"mode\":\"lines\",\"type\":\"scattergeo\"},{\"lat\":[33.64044,40.91631],\"line\":{\"color\":\"red\",\"width\":1},\"locationmode\":\"USA-states\",\"lon\":[-84.42694,-81.44247],\"mode\":\"lines\",\"type\":\"scattergeo\"},{\"lat\":[26.68316,41.06696],\"line\":{\"color\":\"red\",\"width\":1},\"locationmode\":\"USA-states\",\"lon\":[-80.09559,-73.70757],\"mode\":\"lines\",\"type\":\"scattergeo\"},{\"lat\":[32.89595,29.95083],\"line\":{\"color\":\"red\",\"width\":1},\"locationmode\":\"USA-states\",\"lon\":[-97.0372,-94.02069],\"mode\":\"lines\",\"type\":\"scattergeo\"},{\"lat\":[32.89595,29.95083],\"line\":{\"color\":\"red\",\"width\":1},\"locationmode\":\"USA-states\",\"lon\":[-97.0372,-94.02069],\"mode\":\"lines\",\"type\":\"scattergeo\"},{\"lat\":[32.89595,38.53396],\"line\":{\"color\":\"red\",\"width\":1},\"locationmode\":\"USA-states\",\"lon\":[-97.0372,-106.93318],\"mode\":\"lines\",\"type\":\"scattergeo\"},{\"lat\":[32.89595,33.30156],\"line\":{\"color\":\"red\",\"width\":1},\"locationmode\":\"USA-states\",\"lon\":[-97.0372,-104.53056],\"mode\":\"lines\",\"type\":\"scattergeo\"},{\"lat\":[32.89595,32.31117],\"line\":{\"color\":\"red\",\"width\":1},\"locationmode\":\"USA-states\",\"lon\":[-97.0372,-90.07589],\"mode\":\"lines\",\"type\":\"scattergeo\"},{\"lat\":[32.89595,32.31117],\"line\":{\"color\":\"red\",\"width\":1},\"locationmode\":\"USA-states\",\"lon\":[-97.0372,-90.07589],\"mode\":\"lines\",\"type\":\"scattergeo\"},{\"lat\":[32.89595,32.31117],\"line\":{\"color\":\"red\",\"width\":1},\"locationmode\":\"USA-states\",\"lon\":[-97.0372,-90.07589],\"mode\":\"lines\",\"type\":\"scattergeo\"},{\"lat\":[32.89595,32.44663],\"line\":{\"color\":\"red\",\"width\":1},\"locationmode\":\"USA-states\",\"lon\":[-97.0372,-93.8256],\"mode\":\"lines\",\"type\":\"scattergeo\"},{\"lat\":[32.89595,32.44663],\"line\":{\"color\":\"red\",\"width\":1},\"locationmode\":\"USA-states\",\"lon\":[-97.0372,-93.8256],\"mode\":\"lines\",\"type\":\"scattergeo\"},{\"lat\":[32.89595,30.48325],\"line\":{\"color\":\"red\",\"width\":1},\"locationmode\":\"USA-states\",\"lon\":[-97.0372,-86.5254],\"mode\":\"lines\",\"type\":\"scattergeo\"},{\"lat\":[32.89595,37.15152],\"line\":{\"color\":\"red\",\"width\":1},\"locationmode\":\"USA-states\",\"lon\":[-97.0372,-107.75377],\"mode\":\"lines\",\"type\":\"scattergeo\"},{\"lat\":[32.89595,37.15152],\"line\":{\"color\":\"red\",\"width\":1},\"locationmode\":\"USA-states\",\"lon\":[-97.0372,-107.75377],\"mode\":\"lines\",\"type\":\"scattergeo\"},{\"lat\":[33.43417,37.15152],\"line\":{\"color\":\"red\",\"width\":1},\"locationmode\":\"USA-states\",\"lon\":[-112.00806,-107.75377],\"mode\":\"lines\",\"type\":\"scattergeo\"},{\"lat\":[32.89595,30.53316],\"line\":{\"color\":\"red\",\"width\":1},\"locationmode\":\"USA-states\",\"lon\":[-97.0372,-91.14963],\"mode\":\"lines\",\"type\":\"scattergeo\"},{\"lat\":[32.89595,30.53316],\"line\":{\"color\":\"red\",\"width\":1},\"locationmode\":\"USA-states\",\"lon\":[-97.0372,-91.14963],\"mode\":\"lines\",\"type\":\"scattergeo\"},{\"lat\":[32.89595,32.12758],\"line\":{\"color\":\"red\",\"width\":1},\"locationmode\":\"USA-states\",\"lon\":[-97.0372,-81.20214],\"mode\":\"lines\",\"type\":\"scattergeo\"},{\"lat\":[41.9796,32.12758],\"line\":{\"color\":\"red\",\"width\":1},\"locationmode\":\"USA-states\",\"lon\":[-87.90446,-81.20214],\"mode\":\"lines\",\"type\":\"scattergeo\"},{\"lat\":[32.89595,30.20528],\"line\":{\"color\":\"red\",\"width\":1},\"locationmode\":\"USA-states\",\"lon\":[-97.0372,-91.98766],\"mode\":\"lines\",\"type\":\"scattergeo\"},{\"lat\":[32.89595,30.20528],\"line\":{\"color\":\"red\",\"width\":1},\"locationmode\":\"USA-states\",\"lon\":[-97.0372,-91.98766],\"mode\":\"lines\",\"type\":\"scattergeo\"},{\"lat\":[32.89595,36.09775],\"line\":{\"color\":\"red\",\"width\":1},\"locationmode\":\"USA-states\",\"lon\":[-97.0372,-79.9373],\"mode\":\"lines\",\"type\":\"scattergeo\"},{\"lat\":[32.89595,36.09775],\"line\":{\"color\":\"red\",\"width\":1},\"locationmode\":\"USA-states\",\"lon\":[-97.0372,-79.9373],\"mode\":\"lines\",\"type\":\"scattergeo\"},{\"lat\":[32.89595,33.93884],\"line\":{\"color\":\"red\",\"width\":1},\"locationmode\":\"USA-states\",\"lon\":[-97.0372,-81.11954],\"mode\":\"lines\",\"type\":\"scattergeo\"},{\"lat\":[32.89595,33.93884],\"line\":{\"color\":\"red\",\"width\":1},\"locationmode\":\"USA-states\",\"lon\":[-97.0372,-81.11954],\"mode\":\"lines\",\"type\":\"scattergeo\"},{\"lat\":[32.89595,35.03527],\"line\":{\"color\":\"red\",\"width\":1},\"locationmode\":\"USA-states\",\"lon\":[-97.0372,-85.20379],\"mode\":\"lines\",\"type\":\"scattergeo\"},{\"lat\":[32.89595,31.61129],\"line\":{\"color\":\"red\",\"width\":1},\"locationmode\":\"USA-states\",\"lon\":[-97.0372,-97.23052],\"mode\":\"lines\",\"type\":\"scattergeo\"},{\"lat\":[32.89595,31.61129],\"line\":{\"color\":\"red\",\"width\":1},\"locationmode\":\"USA-states\",\"lon\":[-97.0372,-97.23052],\"mode\":\"lines\",\"type\":\"scattergeo\"},{\"lat\":[32.89595,31.61129],\"line\":{\"color\":\"red\",\"width\":1},\"locationmode\":\"USA-states\",\"lon\":[-97.0372,-97.23052],\"mode\":\"lines\",\"type\":\"scattergeo\"},{\"lat\":[32.89595,32.30064],\"line\":{\"color\":\"red\",\"width\":1},\"locationmode\":\"USA-states\",\"lon\":[-97.0372,-86.39398],\"mode\":\"lines\",\"type\":\"scattergeo\"},{\"lat\":[32.89595,40.66424],\"line\":{\"color\":\"red\",\"width\":1},\"locationmode\":\"USA-states\",\"lon\":[-97.0372,-89.69331],\"mode\":\"lines\",\"type\":\"scattergeo\"},{\"lat\":[41.9796,40.66424],\"line\":{\"color\":\"red\",\"width\":1},\"locationmode\":\"USA-states\",\"lon\":[-87.90446,-89.69331],\"mode\":\"lines\",\"type\":\"scattergeo\"},{\"lat\":[32.89595,39.64257],\"line\":{\"color\":\"red\",\"width\":1},\"locationmode\":\"USA-states\",\"lon\":[-97.0372,-106.9177],\"mode\":\"lines\",\"type\":\"scattergeo\"},{\"lat\":[40.6925,39.64257],\"line\":{\"color\":\"red\",\"width\":1},\"locationmode\":\"USA-states\",\"lon\":[-74.16866,-106.9177],\"mode\":\"lines\",\"type\":\"scattergeo\"},{\"lat\":[32.89595,31.32737],\"line\":{\"color\":\"red\",\"width\":1},\"locationmode\":\"USA-states\",\"lon\":[-97.0372,-92.54856],\"mode\":\"lines\",\"type\":\"scattergeo\"},{\"lat\":[32.89595,33.45371],\"line\":{\"color\":\"red\",\"width\":1},\"locationmode\":\"USA-states\",\"lon\":[-97.0372,-93.99102],\"mode\":\"lines\",\"type\":\"scattergeo\"},{\"lat\":[32.89595,30.40728],\"line\":{\"color\":\"red\",\"width\":1},\"locationmode\":\"USA-states\",\"lon\":[-97.0372,-89.07009],\"mode\":\"lines\",\"type\":\"scattergeo\"},{\"lat\":[32.89595,30.58859],\"line\":{\"color\":\"red\",\"width\":1},\"locationmode\":\"USA-states\",\"lon\":[-97.0372,-96.36382],\"mode\":\"lines\",\"type\":\"scattergeo\"},{\"lat\":[32.89595,30.58859],\"line\":{\"color\":\"red\",\"width\":1},\"locationmode\":\"USA-states\",\"lon\":[-97.0372,-96.36382],\"mode\":\"lines\",\"type\":\"scattergeo\"},{\"lat\":[32.89595,27.54374],\"line\":{\"color\":\"red\",\"width\":1},\"locationmode\":\"USA-states\",\"lon\":[-97.0372,-99.46154],\"mode\":\"lines\",\"type\":\"scattergeo\"},{\"lat\":[32.89595,27.54374],\"line\":{\"color\":\"red\",\"width\":1},\"locationmode\":\"USA-states\",\"lon\":[-97.0372,-99.46154],\"mode\":\"lines\",\"type\":\"scattergeo\"},{\"lat\":[32.89595,35.33659],\"line\":{\"color\":\"red\",\"width\":1},\"locationmode\":\"USA-states\",\"lon\":[-97.0372,-94.36744],\"mode\":\"lines\",\"type\":\"scattergeo\"},{\"lat\":[32.89595,35.21937],\"line\":{\"color\":\"red\",\"width\":1},\"locationmode\":\"USA-states\",\"lon\":[-97.0372,-101.70593],\"mode\":\"lines\",\"type\":\"scattergeo\"},{\"lat\":[32.84711,35.21937],\"line\":{\"color\":\"red\",\"width\":1},\"locationmode\":\"USA-states\",\"lon\":[-96.85177,-101.70593],\"mode\":\"lines\",\"type\":\"scattergeo\"},{\"lat\":[32.89595,30.47331],\"line\":{\"color\":\"red\",\"width\":1},\"locationmode\":\"USA-states\",\"lon\":[-97.0372,-87.18744],\"mode\":\"lines\",\"type\":\"scattergeo\"},{\"lat\":[25.79325,30.47331],\"line\":{\"color\":\"red\",\"width\":1},\"locationmode\":\"USA-states\",\"lon\":[-80.29056,-87.18744],\"mode\":\"lines\",\"type\":\"scattergeo\"},{\"lat\":[32.89595,38.81809],\"line\":{\"color\":\"red\",\"width\":1},\"locationmode\":\"USA-states\",\"lon\":[-97.0372,-92.21963],\"mode\":\"lines\",\"type\":\"scattergeo\"},{\"lat\":[32.89595,39.84395],\"line\":{\"color\":\"red\",\"width\":1},\"locationmode\":\"USA-states\",\"lon\":[-97.0372,-89.67762],\"mode\":\"lines\",\"type\":\"scattergeo\"},{\"lat\":[41.9796,39.84395],\"line\":{\"color\":\"red\",\"width\":1},\"locationmode\":\"USA-states\",\"lon\":[-87.90446,-89.67762],\"mode\":\"lines\",\"type\":\"scattergeo\"},{\"lat\":[32.89595,32.51087],\"line\":{\"color\":\"red\",\"width\":1},\"locationmode\":\"USA-states\",\"lon\":[-97.0372,-92.03769],\"mode\":\"lines\",\"type\":\"scattergeo\"},{\"lat\":[32.89595,39.12241],\"line\":{\"color\":\"red\",\"width\":1},\"locationmode\":\"USA-states\",\"lon\":[-97.0372,-108.52673],\"mode\":\"lines\",\"type\":\"scattergeo\"},{\"lat\":[32.89595,25.90683],\"line\":{\"color\":\"red\",\"width\":1},\"locationmode\":\"USA-states\",\"lon\":[-97.0372,-97.42586],\"mode\":\"lines\",\"type\":\"scattergeo\"},{\"lat\":[32.89595,38.03697],\"line\":{\"color\":\"red\",\"width\":1},\"locationmode\":\"USA-states\",\"lon\":[-97.0372,-84.60539],\"mode\":\"lines\",\"type\":\"scattergeo\"},{\"lat\":[32.89595,26.17583],\"line\":{\"color\":\"red\",\"width\":1},\"locationmode\":\"USA-states\",\"lon\":[-97.0372,-98.23861],\"mode\":\"lines\",\"type\":\"scattergeo\"},{\"lat\":[32.89595,39.14097],\"line\":{\"color\":\"red\",\"width\":1},\"locationmode\":\"USA-states\",\"lon\":[-97.0372,-96.67083],\"mode\":\"lines\",\"type\":\"scattergeo\"},{\"lat\":[32.89595,32.35414],\"line\":{\"color\":\"red\",\"width\":1},\"locationmode\":\"USA-states\",\"lon\":[-97.0372,-95.40239],\"mode\":\"lines\",\"type\":\"scattergeo\"},{\"lat\":[25.79325,24.55611],\"line\":{\"color\":\"red\",\"width\":1},\"locationmode\":\"USA-states\",\"lon\":[-80.29056,-81.75956],\"mode\":\"lines\",\"type\":\"scattergeo\"},{\"lat\":[25.79325,17.70189],\"line\":{\"color\":\"red\",\"width\":1},\"locationmode\":\"USA-states\",\"lon\":[-80.29056,-64.79856],\"mode\":\"lines\",\"type\":\"scattergeo\"},{\"lat\":[25.79325,18.33731],\"line\":{\"color\":\"red\",\"width\":1},\"locationmode\":\"USA-states\",\"lon\":[-80.29056,-64.97336],\"mode\":\"lines\",\"type\":\"scattergeo\"},{\"lat\":[35.21401,18.33731],\"line\":{\"color\":\"red\",\"width\":1},\"locationmode\":\"USA-states\",\"lon\":[-80.94313,-64.97336],\"mode\":\"lines\",\"type\":\"scattergeo\"},{\"lat\":[28.42889,42.93452],\"line\":{\"color\":\"red\",\"width\":1},\"locationmode\":\"USA-states\",\"lon\":[-81.31603,-71.43706],\"mode\":\"lines\",\"type\":\"scattergeo\"},{\"lat\":[27.97547,42.9655],\"line\":{\"color\":\"red\",\"width\":1},\"locationmode\":\"USA-states\",\"lon\":[-82.53325,-83.74346],\"mode\":\"lines\",\"type\":\"scattergeo\"},{\"lat\":[41.9796,42.9655],\"line\":{\"color\":\"red\",\"width\":1},\"locationmode\":\"USA-states\",\"lon\":[-87.90446,-83.74346],\"mode\":\"lines\",\"type\":\"scattergeo\"},{\"lat\":[44.88055,47.3866],\"line\":{\"color\":\"red\",\"width\":1},\"locationmode\":\"USA-states\",\"lon\":[-93.21692,-92.83899],\"mode\":\"lines\",\"type\":\"scattergeo\"},{\"lat\":[21.31869,19.72026],\"line\":{\"color\":\"red\",\"width\":1},\"locationmode\":\"USA-states\",\"lon\":[-157.92241,-155.04847],\"mode\":\"lines\",\"type\":\"scattergeo\"},{\"lat\":[21.31869,19.72026],\"line\":{\"color\":\"red\",\"width\":1},\"locationmode\":\"USA-states\",\"lon\":[-157.92241,-155.04847],\"mode\":\"lines\",\"type\":\"scattergeo\"},{\"lat\":[21.31869,19.72026],\"line\":{\"color\":\"red\",\"width\":1},\"locationmode\":\"USA-states\",\"lon\":[-157.92241,-155.04847],\"mode\":\"lines\",\"type\":\"scattergeo\"},{\"lat\":[20.89865,19.72026],\"line\":{\"color\":\"red\",\"width\":1},\"locationmode\":\"USA-states\",\"lon\":[-156.43046,-155.04847],\"mode\":\"lines\",\"type\":\"scattergeo\"},{\"lat\":[20.89865,19.72026],\"line\":{\"color\":\"red\",\"width\":1},\"locationmode\":\"USA-states\",\"lon\":[-156.43046,-155.04847],\"mode\":\"lines\",\"type\":\"scattergeo\"},{\"lat\":[21.31869,13.48345],\"line\":{\"color\":\"red\",\"width\":1},\"locationmode\":\"USA-states\",\"lon\":[-157.92241,-144.79598],\"mode\":\"lines\",\"type\":\"scattergeo\"},{\"lat\":[41.9796,44.48507],\"line\":{\"color\":\"red\",\"width\":1},\"locationmode\":\"USA-states\",\"lon\":[-87.90446,-88.12959],\"mode\":\"lines\",\"type\":\"scattergeo\"},{\"lat\":[41.9796,44.48507],\"line\":{\"color\":\"red\",\"width\":1},\"locationmode\":\"USA-states\",\"lon\":[-87.90446,-88.12959],\"mode\":\"lines\",\"type\":\"scattergeo\"},{\"lat\":[41.9796,43.11887],\"line\":{\"color\":\"red\",\"width\":1},\"locationmode\":\"USA-states\",\"lon\":[-87.90446,-77.67238],\"mode\":\"lines\",\"type\":\"scattergeo\"},{\"lat\":[35.21401,43.11887],\"line\":{\"color\":\"red\",\"width\":1},\"locationmode\":\"USA-states\",\"lon\":[-80.94313,-77.67238],\"mode\":\"lines\",\"type\":\"scattergeo\"},{\"lat\":[41.9796,40.03925],\"line\":{\"color\":\"red\",\"width\":1},\"locationmode\":\"USA-states\",\"lon\":[-87.90446,-88.27806],\"mode\":\"lines\",\"type\":\"scattergeo\"},{\"lat\":[41.9796,40.03925],\"line\":{\"color\":\"red\",\"width\":1},\"locationmode\":\"USA-states\",\"lon\":[-87.90446,-88.27806],\"mode\":\"lines\",\"type\":\"scattergeo\"},{\"lat\":[41.9796,40.03925],\"line\":{\"color\":\"red\",\"width\":1},\"locationmode\":\"USA-states\",\"lon\":[-87.90446,-88.27806],\"mode\":\"lines\",\"type\":\"scattergeo\"},{\"lat\":[41.9796,43.53291],\"line\":{\"color\":\"red\",\"width\":1},\"locationmode\":\"USA-states\",\"lon\":[-87.90446,-84.07965],\"mode\":\"lines\",\"type\":\"scattergeo\"},{\"lat\":[41.9796,42.55708],\"line\":{\"color\":\"red\",\"width\":1},\"locationmode\":\"USA-states\",\"lon\":[-87.90446,-92.40034],\"mode\":\"lines\",\"type\":\"scattergeo\"},{\"lat\":[41.9796,44.77762],\"line\":{\"color\":\"red\",\"width\":1},\"locationmode\":\"USA-states\",\"lon\":[-87.90446,-89.66678],\"mode\":\"lines\",\"type\":\"scattergeo\"},{\"lat\":[41.9796,40.1935],\"line\":{\"color\":\"red\",\"width\":1},\"locationmode\":\"USA-states\",\"lon\":[-87.90446,-76.7634],\"mode\":\"lines\",\"type\":\"scattergeo\"},{\"lat\":[41.9796,42.4026],\"line\":{\"color\":\"red\",\"width\":1},\"locationmode\":\"USA-states\",\"lon\":[-87.90446,-96.38437],\"mode\":\"lines\",\"type\":\"scattergeo\"},{\"lat\":[41.9796,42.4026],\"line\":{\"color\":\"red\",\"width\":1},\"locationmode\":\"USA-states\",\"lon\":[-87.90446,-96.38437],\"mode\":\"lines\",\"type\":\"scattergeo\"},{\"lat\":[41.9796,40.97847],\"line\":{\"color\":\"red\",\"width\":1},\"locationmode\":\"USA-states\",\"lon\":[-87.90446,-85.19515],\"mode\":\"lines\",\"type\":\"scattergeo\"},{\"lat\":[41.9796,35.43619],\"line\":{\"color\":\"red\",\"width\":1},\"locationmode\":\"USA-states\",\"lon\":[-87.90446,-82.54181],\"mode\":\"lines\",\"type\":\"scattergeo\"},{\"lat\":[41.9796,42.74812],\"line\":{\"color\":\"red\",\"width\":1},\"locationmode\":\"USA-states\",\"lon\":[-87.90446,-73.80298],\"mode\":\"lines\",\"type\":\"scattergeo\"},{\"lat\":[41.9796,38.03799],\"line\":{\"color\":\"red\",\"width\":1},\"locationmode\":\"USA-states\",\"lon\":[-87.90446,-87.53063],\"mode\":\"lines\",\"type\":\"scattergeo\"},{\"lat\":[41.9796,47.16842],\"line\":{\"color\":\"red\",\"width\":1},\"locationmode\":\"USA-states\",\"lon\":[-87.90446,-88.48906],\"mode\":\"lines\",\"type\":\"scattergeo\"},{\"lat\":[47.44898,58.35496],\"line\":{\"color\":\"red\",\"width\":1},\"locationmode\":\"USA-states\",\"lon\":[-122.30931,-134.57628],\"mode\":\"lines\",\"type\":\"scattergeo\"},{\"lat\":[47.44898,19.73877],\"line\":{\"color\":\"red\",\"width\":1},\"locationmode\":\"USA-states\",\"lon\":[-122.30931,-156.04563],\"mode\":\"lines\",\"type\":\"scattergeo\"},{\"lat\":[33.94254,19.73877],\"line\":{\"color\":\"red\",\"width\":1},\"locationmode\":\"USA-states\",\"lon\":[-118.40807,-156.04563],\"mode\":\"lines\",\"type\":\"scattergeo\"},{\"lat\":[33.94254,19.73877],\"line\":{\"color\":\"red\",\"width\":1},\"locationmode\":\"USA-states\",\"lon\":[-118.40807,-156.04563],\"mode\":\"lines\",\"type\":\"scattergeo\"},{\"lat\":[33.94254,33.12723],\"line\":{\"color\":\"red\",\"width\":1},\"locationmode\":\"USA-states\",\"lon\":[-118.40807,-117.27873],\"mode\":\"lines\",\"type\":\"scattergeo\"},{\"lat\":[33.94254,33.12723],\"line\":{\"color\":\"red\",\"width\":1},\"locationmode\":\"USA-states\",\"lon\":[-118.40807,-117.27873],\"mode\":\"lines\",\"type\":\"scattergeo\"},{\"lat\":[40.78839,42.37423],\"line\":{\"color\":\"red\",\"width\":1},\"locationmode\":\"USA-states\",\"lon\":[-111.97777,-122.8735],\"mode\":\"lines\",\"type\":\"scattergeo\"},{\"lat\":[33.43417,35.13845],\"line\":{\"color\":\"red\",\"width\":1},\"locationmode\":\"USA-states\",\"lon\":[-112.00806,-111.67122],\"mode\":\"lines\",\"type\":\"scattergeo\"},{\"lat\":[33.43417,35.13845],\"line\":{\"color\":\"red\",\"width\":1},\"locationmode\":\"USA-states\",\"lon\":[-112.00806,-111.67122],\"mode\":\"lines\",\"type\":\"scattergeo\"},{\"lat\":[33.43417,35.4336],\"line\":{\"color\":\"red\",\"width\":1},\"locationmode\":\"USA-states\",\"lon\":[-112.00806,-119.05677],\"mode\":\"lines\",\"type\":\"scattergeo\"},{\"lat\":[42.21206,45.57093],\"line\":{\"color\":\"red\",\"width\":1},\"locationmode\":\"USA-states\",\"lon\":[-83.34884,-84.79672],\"mode\":\"lines\",\"type\":\"scattergeo\"},{\"lat\":[42.21206,45.57093],\"line\":{\"color\":\"red\",\"width\":1},\"locationmode\":\"USA-states\",\"lon\":[-83.34884,-84.79672],\"mode\":\"lines\",\"type\":\"scattergeo\"},{\"lat\":[46.92972,48.11425],\"line\":{\"color\":\"red\",\"width\":1},\"locationmode\":\"USA-states\",\"lon\":[-98.6782,-98.90878],\"mode\":\"lines\",\"type\":\"scattergeo\"}],                        {\"template\":{\"data\":{\"histogram2dcontour\":[{\"type\":\"histogram2dcontour\",\"colorbar\":{\"outlinewidth\":0,\"ticks\":\"\"},\"colorscale\":[[0.0,\"#0d0887\"],[0.1111111111111111,\"#46039f\"],[0.2222222222222222,\"#7201a8\"],[0.3333333333333333,\"#9c179e\"],[0.4444444444444444,\"#bd3786\"],[0.5555555555555556,\"#d8576b\"],[0.6666666666666666,\"#ed7953\"],[0.7777777777777778,\"#fb9f3a\"],[0.8888888888888888,\"#fdca26\"],[1.0,\"#f0f921\"]]}],\"choropleth\":[{\"type\":\"choropleth\",\"colorbar\":{\"outlinewidth\":0,\"ticks\":\"\"}}],\"histogram2d\":[{\"type\":\"histogram2d\",\"colorbar\":{\"outlinewidth\":0,\"ticks\":\"\"},\"colorscale\":[[0.0,\"#0d0887\"],[0.1111111111111111,\"#46039f\"],[0.2222222222222222,\"#7201a8\"],[0.3333333333333333,\"#9c179e\"],[0.4444444444444444,\"#bd3786\"],[0.5555555555555556,\"#d8576b\"],[0.6666666666666666,\"#ed7953\"],[0.7777777777777778,\"#fb9f3a\"],[0.8888888888888888,\"#fdca26\"],[1.0,\"#f0f921\"]]}],\"heatmap\":[{\"type\":\"heatmap\",\"colorbar\":{\"outlinewidth\":0,\"ticks\":\"\"},\"colorscale\":[[0.0,\"#0d0887\"],[0.1111111111111111,\"#46039f\"],[0.2222222222222222,\"#7201a8\"],[0.3333333333333333,\"#9c179e\"],[0.4444444444444444,\"#bd3786\"],[0.5555555555555556,\"#d8576b\"],[0.6666666666666666,\"#ed7953\"],[0.7777777777777778,\"#fb9f3a\"],[0.8888888888888888,\"#fdca26\"],[1.0,\"#f0f921\"]]}],\"heatmapgl\":[{\"type\":\"heatmapgl\",\"colorbar\":{\"outlinewidth\":0,\"ticks\":\"\"},\"colorscale\":[[0.0,\"#0d0887\"],[0.1111111111111111,\"#46039f\"],[0.2222222222222222,\"#7201a8\"],[0.3333333333333333,\"#9c179e\"],[0.4444444444444444,\"#bd3786\"],[0.5555555555555556,\"#d8576b\"],[0.6666666666666666,\"#ed7953\"],[0.7777777777777778,\"#fb9f3a\"],[0.8888888888888888,\"#fdca26\"],[1.0,\"#f0f921\"]]}],\"contourcarpet\":[{\"type\":\"contourcarpet\",\"colorbar\":{\"outlinewidth\":0,\"ticks\":\"\"}}],\"contour\":[{\"type\":\"contour\",\"colorbar\":{\"outlinewidth\":0,\"ticks\":\"\"},\"colorscale\":[[0.0,\"#0d0887\"],[0.1111111111111111,\"#46039f\"],[0.2222222222222222,\"#7201a8\"],[0.3333333333333333,\"#9c179e\"],[0.4444444444444444,\"#bd3786\"],[0.5555555555555556,\"#d8576b\"],[0.6666666666666666,\"#ed7953\"],[0.7777777777777778,\"#fb9f3a\"],[0.8888888888888888,\"#fdca26\"],[1.0,\"#f0f921\"]]}],\"surface\":[{\"type\":\"surface\",\"colorbar\":{\"outlinewidth\":0,\"ticks\":\"\"},\"colorscale\":[[0.0,\"#0d0887\"],[0.1111111111111111,\"#46039f\"],[0.2222222222222222,\"#7201a8\"],[0.3333333333333333,\"#9c179e\"],[0.4444444444444444,\"#bd3786\"],[0.5555555555555556,\"#d8576b\"],[0.6666666666666666,\"#ed7953\"],[0.7777777777777778,\"#fb9f3a\"],[0.8888888888888888,\"#fdca26\"],[1.0,\"#f0f921\"]]}],\"mesh3d\":[{\"type\":\"mesh3d\",\"colorbar\":{\"outlinewidth\":0,\"ticks\":\"\"}}],\"scatter\":[{\"fillpattern\":{\"fillmode\":\"overlay\",\"size\":10,\"solidity\":0.2},\"type\":\"scatter\"}],\"parcoords\":[{\"type\":\"parcoords\",\"line\":{\"colorbar\":{\"outlinewidth\":0,\"ticks\":\"\"}}}],\"scatterpolargl\":[{\"type\":\"scatterpolargl\",\"marker\":{\"colorbar\":{\"outlinewidth\":0,\"ticks\":\"\"}}}],\"bar\":[{\"error_x\":{\"color\":\"#2a3f5f\"},\"error_y\":{\"color\":\"#2a3f5f\"},\"marker\":{\"line\":{\"color\":\"#E5ECF6\",\"width\":0.5},\"pattern\":{\"fillmode\":\"overlay\",\"size\":10,\"solidity\":0.2}},\"type\":\"bar\"}],\"scattergeo\":[{\"type\":\"scattergeo\",\"marker\":{\"colorbar\":{\"outlinewidth\":0,\"ticks\":\"\"}}}],\"scatterpolar\":[{\"type\":\"scatterpolar\",\"marker\":{\"colorbar\":{\"outlinewidth\":0,\"ticks\":\"\"}}}],\"histogram\":[{\"marker\":{\"pattern\":{\"fillmode\":\"overlay\",\"size\":10,\"solidity\":0.2}},\"type\":\"histogram\"}],\"scattergl\":[{\"type\":\"scattergl\",\"marker\":{\"colorbar\":{\"outlinewidth\":0,\"ticks\":\"\"}}}],\"scatter3d\":[{\"type\":\"scatter3d\",\"line\":{\"colorbar\":{\"outlinewidth\":0,\"ticks\":\"\"}},\"marker\":{\"colorbar\":{\"outlinewidth\":0,\"ticks\":\"\"}}}],\"scattermapbox\":[{\"type\":\"scattermapbox\",\"marker\":{\"colorbar\":{\"outlinewidth\":0,\"ticks\":\"\"}}}],\"scatterternary\":[{\"type\":\"scatterternary\",\"marker\":{\"colorbar\":{\"outlinewidth\":0,\"ticks\":\"\"}}}],\"scattercarpet\":[{\"type\":\"scattercarpet\",\"marker\":{\"colorbar\":{\"outlinewidth\":0,\"ticks\":\"\"}}}],\"carpet\":[{\"aaxis\":{\"endlinecolor\":\"#2a3f5f\",\"gridcolor\":\"white\",\"linecolor\":\"white\",\"minorgridcolor\":\"white\",\"startlinecolor\":\"#2a3f5f\"},\"baxis\":{\"endlinecolor\":\"#2a3f5f\",\"gridcolor\":\"white\",\"linecolor\":\"white\",\"minorgridcolor\":\"white\",\"startlinecolor\":\"#2a3f5f\"},\"type\":\"carpet\"}],\"table\":[{\"cells\":{\"fill\":{\"color\":\"#EBF0F8\"},\"line\":{\"color\":\"white\"}},\"header\":{\"fill\":{\"color\":\"#C8D4E3\"},\"line\":{\"color\":\"white\"}},\"type\":\"table\"}],\"barpolar\":[{\"marker\":{\"line\":{\"color\":\"#E5ECF6\",\"width\":0.5},\"pattern\":{\"fillmode\":\"overlay\",\"size\":10,\"solidity\":0.2}},\"type\":\"barpolar\"}],\"pie\":[{\"automargin\":true,\"type\":\"pie\"}]},\"layout\":{\"autotypenumbers\":\"strict\",\"colorway\":[\"#636efa\",\"#EF553B\",\"#00cc96\",\"#ab63fa\",\"#FFA15A\",\"#19d3f3\",\"#FF6692\",\"#B6E880\",\"#FF97FF\",\"#FECB52\"],\"font\":{\"color\":\"#2a3f5f\"},\"hovermode\":\"closest\",\"hoverlabel\":{\"align\":\"left\"},\"paper_bgcolor\":\"white\",\"plot_bgcolor\":\"#E5ECF6\",\"polar\":{\"bgcolor\":\"#E5ECF6\",\"angularaxis\":{\"gridcolor\":\"white\",\"linecolor\":\"white\",\"ticks\":\"\"},\"radialaxis\":{\"gridcolor\":\"white\",\"linecolor\":\"white\",\"ticks\":\"\"}},\"ternary\":{\"bgcolor\":\"#E5ECF6\",\"aaxis\":{\"gridcolor\":\"white\",\"linecolor\":\"white\",\"ticks\":\"\"},\"baxis\":{\"gridcolor\":\"white\",\"linecolor\":\"white\",\"ticks\":\"\"},\"caxis\":{\"gridcolor\":\"white\",\"linecolor\":\"white\",\"ticks\":\"\"}},\"coloraxis\":{\"colorbar\":{\"outlinewidth\":0,\"ticks\":\"\"}},\"colorscale\":{\"sequential\":[[0.0,\"#0d0887\"],[0.1111111111111111,\"#46039f\"],[0.2222222222222222,\"#7201a8\"],[0.3333333333333333,\"#9c179e\"],[0.4444444444444444,\"#bd3786\"],[0.5555555555555556,\"#d8576b\"],[0.6666666666666666,\"#ed7953\"],[0.7777777777777778,\"#fb9f3a\"],[0.8888888888888888,\"#fdca26\"],[1.0,\"#f0f921\"]],\"sequentialminus\":[[0.0,\"#0d0887\"],[0.1111111111111111,\"#46039f\"],[0.2222222222222222,\"#7201a8\"],[0.3333333333333333,\"#9c179e\"],[0.4444444444444444,\"#bd3786\"],[0.5555555555555556,\"#d8576b\"],[0.6666666666666666,\"#ed7953\"],[0.7777777777777778,\"#fb9f3a\"],[0.8888888888888888,\"#fdca26\"],[1.0,\"#f0f921\"]],\"diverging\":[[0,\"#8e0152\"],[0.1,\"#c51b7d\"],[0.2,\"#de77ae\"],[0.3,\"#f1b6da\"],[0.4,\"#fde0ef\"],[0.5,\"#f7f7f7\"],[0.6,\"#e6f5d0\"],[0.7,\"#b8e186\"],[0.8,\"#7fbc41\"],[0.9,\"#4d9221\"],[1,\"#276419\"]]},\"xaxis\":{\"gridcolor\":\"white\",\"linecolor\":\"white\",\"ticks\":\"\",\"title\":{\"standoff\":15},\"zerolinecolor\":\"white\",\"automargin\":true,\"zerolinewidth\":2},\"yaxis\":{\"gridcolor\":\"white\",\"linecolor\":\"white\",\"ticks\":\"\",\"title\":{\"standoff\":15},\"zerolinecolor\":\"white\",\"automargin\":true,\"zerolinewidth\":2},\"scene\":{\"xaxis\":{\"backgroundcolor\":\"#E5ECF6\",\"gridcolor\":\"white\",\"linecolor\":\"white\",\"showbackground\":true,\"ticks\":\"\",\"zerolinecolor\":\"white\",\"gridwidth\":2},\"yaxis\":{\"backgroundcolor\":\"#E5ECF6\",\"gridcolor\":\"white\",\"linecolor\":\"white\",\"showbackground\":true,\"ticks\":\"\",\"zerolinecolor\":\"white\",\"gridwidth\":2},\"zaxis\":{\"backgroundcolor\":\"#E5ECF6\",\"gridcolor\":\"white\",\"linecolor\":\"white\",\"showbackground\":true,\"ticks\":\"\",\"zerolinecolor\":\"white\",\"gridwidth\":2}},\"shapedefaults\":{\"line\":{\"color\":\"#2a3f5f\"}},\"annotationdefaults\":{\"arrowcolor\":\"#2a3f5f\",\"arrowhead\":0,\"arrowwidth\":1},\"geo\":{\"bgcolor\":\"white\",\"landcolor\":\"#E5ECF6\",\"subunitcolor\":\"white\",\"showland\":true,\"showlakes\":true,\"lakecolor\":\"white\"},\"title\":{\"x\":0.05},\"mapbox\":{\"style\":\"light\"}}},\"title\":{\"text\":\"Delayed flight on Jan 1, 2015 in USA\"},\"showlegend\":false,\"geo\":{\"scope\":\"usa\"}},                        {\"responsive\": true}                    ).then(function(){\n                            \nvar gd = document.getElementById('9092631f-8747-480a-b82f-bea8d9c58b78');\nvar x = new MutationObserver(function (mutations, observer) {{\n        var display = window.getComputedStyle(gd).display;\n        if (!display || display === 'none') {{\n            console.log([gd, 'removed!']);\n            Plotly.purge(gd);\n            observer.disconnect();\n        }}\n}});\n\n// Listen for the removal of the full notebook cells\nvar notebookContainer = gd.closest('#notebook-container');\nif (notebookContainer) {{\n    x.observe(notebookContainer, {childList: true});\n}}\n\n// Listen for the clearing of the current output cell\nvar outputEl = gd.closest('.output');\nif (outputEl) {{\n    x.observe(outputEl, {childList: true});\n}}\n\n                        })                };                });            </script>        </div>"
     },
     "metadata": {},
     "output_type": "display_data"
    },
    {
     "data": {
      "text/plain": "'result/Delayed flight on Jan 1, 2015 in the USA.html'"
     },
     "execution_count": 35,
     "metadata": {},
     "output_type": "execute_result"
    }
   ],
   "source": [
    "fig = go.Figure()\n",
    "\n",
    "for i in range(len(new_year_2015_flights_df)):\n",
    "    fig.add_trace(\n",
    "        go.Scattergeo(\n",
    "            locationmode='USA-states',\n",
    "            lon=[new_year_2015_flights_df['ORIGIN_AIRPORT_LONGITUDE'][i],\n",
    "                 new_year_2015_flights_df['DESTINATION_AIRPORT_LONGITUDE'][i]],\n",
    "            lat=[new_year_2015_flights_df['ORIGIN_AIRPORT_LATITUDE'][i],\n",
    "                 new_year_2015_flights_df['DESTINATION_AIRPORT_LATITUDE'][i]],\n",
    "            mode='lines',\n",
    "            line=dict(width=1, color='red')\n",
    "        )\n",
    "    )\n",
    "\n",
    "fig.update_layout(\n",
    "    title_text='Delayed flight on Jan 1, 2015 in USA',\n",
    "    showlegend=False,\n",
    "    geo=go.layout.Geo(scope='usa'),\n",
    ")\n",
    "\n",
    "fig.show()\n",
    "\n",
    "plotly.offline.plot(fig, filename='result/Delayed flight on Jan 1, 2015 in the USA.html')"
   ],
   "metadata": {
    "collapsed": false
   }
  },
  {
   "cell_type": "code",
   "execution_count": 35,
   "outputs": [],
   "source": [],
   "metadata": {
    "collapsed": false
   }
  }
 ],
 "metadata": {
  "kernelspec": {
   "display_name": "Python 3",
   "language": "python",
   "name": "python3"
  },
  "language_info": {
   "codemirror_mode": {
    "name": "ipython",
    "version": 2
   },
   "file_extension": ".py",
   "mimetype": "text/x-python",
   "name": "python",
   "nbconvert_exporter": "python",
   "pygments_lexer": "ipython2",
   "version": "2.7.6"
  }
 },
 "nbformat": 4,
 "nbformat_minor": 0
}
