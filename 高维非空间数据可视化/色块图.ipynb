{
 "cells": [
  {
   "cell_type": "code",
   "execution_count": 9,
   "metadata": {
    "collapsed": true
   },
   "outputs": [],
   "source": [
    "import numpy as np\n",
    "from bokeh.io import save\n",
    "from bokeh.plotting import figure, show\n",
    "from bokeh.sampledata.les_mis import data"
   ]
  },
  {
   "cell_type": "code",
   "execution_count": 10,
   "outputs": [
    {
     "name": "stderr",
     "output_type": "stream",
     "text": [
      "/Users/owemshu/opt/anaconda3/envs/bigdata/lib/python3.9/site-packages/bokeh/io/saving.py:142: UserWarning: save() called but no resources were supplied and output_file(...) was never called, defaulting to resources.CDN\n",
      "  warn(\"save() called but no resources were supplied and output_file(...) was never called, defaulting to resources.CDN\")\n"
     ]
    },
    {
     "data": {
      "text/plain": "'/Users/owemshu/Desktop/Courses/大数据可视化/作业/作业 07/高维非空间数据可视化/区域方法-色块图-《悲惨世界》人物出场.html'"
     },
     "execution_count": 10,
     "metadata": {},
     "output_type": "execute_result"
    }
   ],
   "source": [
    "\"\"\"色块图\"\"\"\n",
    "\n",
    "# 数据\n",
    "nodes = data['nodes']\n",
    "names = [node['name'] for node in sorted(data['nodes'], key=lambda x: x['group'])]\n",
    "N = len(nodes)\n",
    "counts = np.zeros((N, N))\n",
    "for link in data['links']:\n",
    "    counts[link['source'], link['target']] = link['value']\n",
    "    counts[link['target'], link['source']] = link['value']\n",
    "# 调色\n",
    "colormap = [\"#444444\", \"#a6cee3\", \"#1f78b4\", \"#b2df8a\", \"#33a02c\", \"#fb9a99\",\n",
    "            \"#e31a1c\", \"#fdbf6f\", \"#ff7f00\", \"#cab2d6\", \"#6a3d9a\"]\n",
    "xname = []\n",
    "yname = []\n",
    "color = []\n",
    "alpha = []\n",
    "for i, node1 in enumerate(nodes):\n",
    "    for j, node2 in enumerate(nodes):\n",
    "        xname.append(node1['name'])\n",
    "        yname.append(node2['name'])\n",
    "        alpha.append(min(counts[i, j] / 4.0, 0.9) + 0.1)\n",
    "        if node1['group'] == node2['group']:\n",
    "            color.append(colormap[node1['group']])\n",
    "        else:\n",
    "            color.append('lightgrey')\n",
    "data = dict(\n",
    "    xname=xname,\n",
    "    yname=yname,\n",
    "    colors=color,\n",
    "    alphas=alpha,\n",
    "    count=counts.flatten(),\n",
    ")\n",
    "# 画布\n",
    "p = figure(title=\"Les Mis Occurrences《悲惨世界》出场\",\n",
    "           x_axis_location=\"above\", tools=\"hover,save\",\n",
    "           x_range=list(reversed(names)), y_range=names,\n",
    "           tooltips=[('names', '@yname, @xname'), ('count', '@count')])\n",
    "# 绘图\n",
    "p.rect('xname', 'yname', 0.9, 0.9, source=data,\n",
    "       color='colors', alpha='alphas', line_color=None,\n",
    "       hover_line_color='black', hover_color='colors')\n",
    "# 其他\n",
    "p.width = 800\n",
    "p.height = 800\n",
    "p.grid.grid_line_color = None\n",
    "p.axis.axis_line_color = None\n",
    "p.axis.major_tick_line_color = None\n",
    "p.axis.major_label_text_font_size = \"5pt\"\n",
    "p.axis.major_label_standoff = 0\n",
    "p.xaxis.major_label_orientation = np.pi / 3\n",
    "# 显示\n",
    "show(p)\n",
    "save(p, filename=\"区域方法-色块图-《悲惨世界》人物出场.html\", title=\"Les Mis Occurrences《悲惨世界》出场\")"
   ],
   "metadata": {
    "collapsed": false
   }
  },
  {
   "cell_type": "code",
   "execution_count": 10,
   "outputs": [],
   "source": [],
   "metadata": {
    "collapsed": false
   }
  }
 ],
 "metadata": {
  "kernelspec": {
   "display_name": "Python 3",
   "language": "python",
   "name": "python3"
  },
  "language_info": {
   "codemirror_mode": {
    "name": "ipython",
    "version": 2
   },
   "file_extension": ".py",
   "mimetype": "text/x-python",
   "name": "python",
   "nbconvert_exporter": "python",
   "pygments_lexer": "ipython2",
   "version": "2.7.6"
  }
 },
 "nbformat": 4,
 "nbformat_minor": 0
}
