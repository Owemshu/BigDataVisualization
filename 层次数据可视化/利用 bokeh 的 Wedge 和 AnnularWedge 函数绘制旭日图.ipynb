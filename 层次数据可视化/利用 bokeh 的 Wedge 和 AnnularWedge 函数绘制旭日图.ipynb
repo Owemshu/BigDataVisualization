{
 "cells": [
  {
   "cell_type": "code",
   "execution_count": 1,
   "metadata": {
    "collapsed": true
   },
   "outputs": [],
   "source": [
    "import base64\n",
    "from math import pi, sin, cos\n",
    "\n",
    "from bokeh.colors.named import skyblue, seagreen, tomato, orchid, firebrick, lightgray\n",
    "from bokeh.io import show, save\n",
    "from bokeh.models import ColumnDataSource, Plot, Range1d\n",
    "from bokeh.models.glyphs import Wedge, AnnularWedge, ImageURL, Text\n",
    "from bokeh.sampledata.browsers import browsers_nov_2013, icons"
   ]
  },
  {
   "cell_type": "code",
   "execution_count": 3,
   "outputs": [
    {
     "name": "stderr",
     "output_type": "stream",
     "text": [
      "/var/folders/dp/wdk87p0d3ml1ysm634x3wlf80000gn/T/ipykernel_42075/1770557144.py:15: FutureWarning: The default value of numeric_only in DataFrameGroupBy.sum is deprecated. In a future version, numeric_only will default to False. Either specify numeric_only or select only columns which should be valid for the function.\n",
      "  aggregated = df.groupby(\"Browser\").agg(sum)\n",
      "/Users/owemshu/opt/anaconda3/envs/bigdata/lib/python3.9/site-packages/bokeh/io/saving.py:142: UserWarning: save() called but no resources were supplied and output_file(...) was never called, defaulting to resources.CDN\n",
      "  warn(\"save() called but no resources were supplied and output_file(...) was never called, defaulting to resources.CDN\")\n",
      "/Users/owemshu/opt/anaconda3/envs/bigdata/lib/python3.9/site-packages/bokeh/io/saving.py:154: UserWarning: save() called but no title was supplied and output_file(...) was never called, using default title 'Bokeh Plot'\n",
      "  warn(\"save() called but no title was supplied and output_file(...) was never called, using default title 'Bokeh Plot'\")\n"
     ]
    },
    {
     "data": {
      "text/plain": "'/Users/owemshu/Desktop/Profession/Python/BigDataVisualization/层次数据可视化/Sunburst1_bokeh_Web browser market share (November 2013).html'"
     },
     "execution_count": 3,
     "metadata": {},
     "output_type": "execute_result"
    }
   ],
   "source": [
    "#绘制旭日图\n",
    "# 数据\n",
    "df = browsers_nov_2013\n",
    "xdr = Range1d(start=-2, end=2)\n",
    "ydr = Range1d(start=-2, end=2)\n",
    "# 画布\n",
    "plot = Plot(x_range=xdr, y_range=ydr, width=800, height=800)\n",
    "# 自定义属性\n",
    "plot.title.text = \"Web browser market share (November 2013)\"\n",
    "# plot.toolbar_location = None\n",
    "# 调色\n",
    "colors = {\"Chrome\": seagreen, \"Firefox\": tomato, \"Safari\": orchid, \"Opera\": firebrick, \"IE\": skyblue,\n",
    "          \"Other\": lightgray}\n",
    "# 数据预处理\n",
    "aggregated = df.groupby(\"Browser\").agg(sum)\n",
    "selected = aggregated[aggregated.Share >= 1].copy()\n",
    "selected.loc[\"Other\"] = aggregated[aggregated.Share < 1].sum()\n",
    "browsers = selected.index.tolist()\n",
    "radians = lambda x: 2 * pi * (x / 100)\n",
    "angles = selected.Share.map(radians).cumsum()\n",
    "end_angles = angles.tolist()\n",
    "start_angles = [0] + end_angles[:-1]\n",
    "browsers_source = ColumnDataSource(dict(\n",
    "    start=start_angles,\n",
    "    end=end_angles,\n",
    "    colors=[colors[browser] for browser in browsers],\n",
    "))\n",
    "# 绘图\n",
    "glyph = Wedge(x=0, y=0, radius=1, line_color=\"white\",\n",
    "              line_width=2, start_angle=\"start\", end_angle=\"end\", fill_color=\"colors\")\n",
    "plot.add_glyph(browsers_source, glyph)\n",
    "\n",
    "\n",
    "def polar_to_cartesian(r, start_angles, end_angles):\n",
    "    cartesian = lambda r, alpha: (r * cos(alpha), r * sin(alpha))\n",
    "    points = []\n",
    "\n",
    "    for start, end in zip(start_angles, end_angles):\n",
    "        points.append(cartesian(r, (end + start) / 2))\n",
    "\n",
    "    return zip(*points)\n",
    "\n",
    "\n",
    "first = True\n",
    "for browser, start_angle, end_angle in zip(browsers, start_angles, end_angles):\n",
    "    versions = df[(df.Browser == browser) & (df.Share >= 0.5)]\n",
    "    angles = versions.Share.map(radians).cumsum() + start_angle\n",
    "    end = angles.tolist() + [end_angle]\n",
    "    start = [start_angle] + end[:-1]\n",
    "    base_color = colors[browser]\n",
    "    fill = [base_color.lighten(i * 0.05).to_hex() for i in range(len(versions) + 1)]\n",
    "    # extra empty string accounts for all versions with share < 0.5 together\n",
    "    text = [number if share >= 1 else \"\" for number, share in zip(versions.VersionNumber, versions.Share)] + [\"\"]\n",
    "    x, y = polar_to_cartesian(1.25, start, end)\n",
    "\n",
    "    source = ColumnDataSource(dict(start=start, end=end, fill=fill))\n",
    "    glyph = AnnularWedge(x=0, y=0,\n",
    "                         inner_radius=1, outer_radius=1.5, start_angle=\"start\", end_angle=\"end\",\n",
    "                         line_color=\"white\", line_width=2, fill_color=\"fill\")\n",
    "    plot.add_glyph(source, glyph)\n",
    "\n",
    "    text_angle = [(start[i] + end[i]) / 2 for i in range(len(start))]\n",
    "    text_angle = [angle + pi if pi / 2 < angle < 3 * pi / 2 else angle for angle in text_angle]\n",
    "\n",
    "    text_source = ColumnDataSource(dict(text=text, x=x, y=y, angle=text_angle))\n",
    "    glyph = Text(x=\"x\", y=\"y\", text=\"text\", angle=\"angle\",\n",
    "                 text_align=\"center\", text_baseline=\"middle\", text_font_size=\"8pt\")\n",
    "    plot.add_glyph(text_source, glyph)\n",
    "\n",
    "\n",
    "# png格式转base64\n",
    "def to_base64(png):\n",
    "    return \"data:image/png;base64,\" + base64.b64encode(png).decode(\"utf-8\")\n",
    "\n",
    "\n",
    "urls = [to_base64(icons.get(browser, b\"\")) for browser in browsers]\n",
    "x, y = polar_to_cartesian(1.7, start_angles, end_angles)\n",
    "icons_source = ColumnDataSource(dict(urls=urls, x=x, y=y))\n",
    "glyph = ImageURL(url=\"urls\", x=\"x\", y=\"y\", anchor=\"center\")\n",
    "plot.add_glyph(icons_source, glyph)\n",
    "text = [\"%.02f%%\" % value for value in selected.Share]\n",
    "x, y = polar_to_cartesian(0.7, start_angles, end_angles)\n",
    "text_source = ColumnDataSource(dict(text=text, x=x, y=y))\n",
    "glyph = Text(x=\"x\", y=\"y\", text=\"text\", text_align=\"center\", text_baseline=\"middle\")\n",
    "plot.add_glyph(text_source, glyph)\n",
    "# 显示\n",
    "show(plot)\n",
    "save(plot, filename=\"Sunburst1_bokeh_Web browser market share (November 2013).html\")"
   ],
   "metadata": {
    "collapsed": false
   }
  },
  {
   "cell_type": "code",
   "execution_count": null,
   "outputs": [],
   "source": [],
   "metadata": {
    "collapsed": false
   }
  }
 ],
 "metadata": {
  "kernelspec": {
   "display_name": "Python 3",
   "language": "python",
   "name": "python3"
  },
  "language_info": {
   "codemirror_mode": {
    "name": "ipython",
    "version": 2
   },
   "file_extension": ".py",
   "mimetype": "text/x-python",
   "name": "python",
   "nbconvert_exporter": "python",
   "pygments_lexer": "ipython2",
   "version": "2.7.6"
  }
 },
 "nbformat": 4,
 "nbformat_minor": 0
}
